{
 "cells": [
  {
   "cell_type": "code",
   "execution_count": 37,
   "id": "d83e9761",
   "metadata": {},
   "outputs": [],
   "source": [
    "import pandas as pd\n",
    "import numpy as np\n",
    "from sklearn.preprocessing import OneHotEncoder, MultiLabelBinarizer\n",
    "from sklearn.model_selection import StratifiedShuffleSplit\n",
    "from sklearn.ensemble import RandomForestRegressor\n",
    "from sklearn.metrics import mean_absolute_error, r2_score\n",
    "from sklearn.model_selection import train_test_split\n",
    "import matplotlib.pyplot as plt\n",
    "import seaborn as sns\n",
    "from ast import literal_eval\n",
    "from tqdm import tqdm\n",
    "import re\n",
    "\n",
    "from collections import Counter\n",
    "from collections import defaultdict"
   ]
  },
  {
   "cell_type": "code",
   "execution_count": 38,
   "id": "14c4bad7",
   "metadata": {},
   "outputs": [],
   "source": [
    "#df_copy = pd.read_csv('data/stage_3_df_100s_50p_5.csv')\n",
    "df_copy = pd.read_csv('data/stage_3_df_cluster_vac_to_model_4.csv')\n"
   ]
  },
  {
   "cell_type": "code",
   "execution_count": 39,
   "id": "3a02d0d9",
   "metadata": {},
   "outputs": [
    {
     "name": "stdout",
     "output_type": "stream",
     "text": [
      "<class 'pandas.core.frame.DataFrame'>\n",
      "RangeIndex: 14975 entries, 0 to 14974\n",
      "Data columns (total 45 columns):\n",
      " #   Column                    Non-Null Count  Dtype  \n",
      "---  ------                    --------------  -----  \n",
      " 0   position                  14975 non-null  object \n",
      " 1   date                      14975 non-null  object \n",
      " 2   vacancy                   14975 non-null  object \n",
      " 3   company                   14975 non-null  object \n",
      " 4   city                      14975 non-null  object \n",
      " 5   experience                14975 non-null  object \n",
      " 6   employment                14975 non-null  object \n",
      " 7   schedule                  14975 non-null  object \n",
      " 8   salary from               14975 non-null  float64\n",
      " 9   salary to                 14975 non-null  float64\n",
      " 10  currency                  14968 non-null  object \n",
      " 11  skills                    14975 non-null  object \n",
      " 12  url                       14975 non-null  object \n",
      " 13  ID                        14975 non-null  float64\n",
      " 14  country                   14975 non-null  object \n",
      " 15  industry                  14975 non-null  object \n",
      " 16  text                      14975 non-null  object \n",
      " 17  period of pay             0 non-null      float64\n",
      " 18  level                     14975 non-null  object \n",
      " 19  responsibilities          5183 non-null   object \n",
      " 20  requirements              5201 non-null   object \n",
      " 21  education                 0 non-null      float64\n",
      " 22  benefits                  0 non-null      float64\n",
      " 23  contacts                  0 non-null      float64\n",
      " 24  contact                   0 non-null      float64\n",
      " 25  experience level          2539 non-null   object \n",
      " 26  skills_llm                9452 non-null   object \n",
      " 27  skills_new                14975 non-null  object \n",
      " 28  skills_list               14975 non-null  object \n",
      " 29  skills_clean              14975 non-null  object \n",
      " 30  skills_clean_norm         14975 non-null  object \n",
      " 31  skills_count              14975 non-null  int64  \n",
      " 32  vacancy_norm              14975 non-null  object \n",
      " 33  vacancy_info              3512 non-null   object \n",
      " 34  is_it                     14975 non-null  bool   \n",
      " 35  vacancy it                14975 non-null  object \n",
      " 36  experience_norm           14975 non-null  object \n",
      " 37  region                    14975 non-null  object \n",
      " 38  salary from norm          14975 non-null  float64\n",
      " 39  salary to norm            14975 non-null  float64\n",
      " 40  level_copy                14975 non-null  object \n",
      " 41  vacancy_norm_llm_check_1  14975 non-null  object \n",
      " 42  skills_processed          14975 non-null  object \n",
      " 43  vacancy_norm_1            14975 non-null  object \n",
      " 44  vacancy_norm_2            14445 non-null  object \n",
      "dtypes: bool(1), float64(10), int64(1), object(33)\n",
      "memory usage: 5.0+ MB\n"
     ]
    }
   ],
   "source": [
    "df_copy.info()"
   ]
  },
  {
   "cell_type": "code",
   "execution_count": 40,
   "id": "2b2fa539",
   "metadata": {},
   "outputs": [],
   "source": [
    "df_copy = df_copy.drop(['industry','level_copy', 'is_it','skills_list', 'skills_clean',\n",
    "                        'skills_llm','vacancy_info','experience level','contact', 'contacts', 'education', 'benefits', \n",
    "                        'requirements', 'responsibilities', 'period of pay', 'text',\n",
    "                        'ID', 'url', 'skills_count','currency', 'skills_new', 'vacancy_norm'], axis = 1)"
   ]
  },
  {
   "cell_type": "code",
   "execution_count": 41,
   "id": "8e423e29",
   "metadata": {},
   "outputs": [],
   "source": [
    "# подготовка данных к обучению\n",
    "\n",
    "df_train_result = df_copy[(df_copy['country'] == 'Россия') ][['salary from norm',\n",
    "                                                              'salary to norm', \n",
    "                                                              'position', \n",
    "                                                              'experience_norm', \n",
    "                                                               'skills_clean_norm', # 'skills_clean_norm','skills_processed, 'skills_manu'\n",
    "                                                              'schedule','employment', 'vacancy it',\n",
    "                                                               #'vacancy_norm_llm_check_1', 'vacancy it','vacancy_manu','vacancy_norm_2', 'vacancy_manu'\n",
    "                                                              'level',\n",
    "                                                              'region']]\n",
    "\n",
    "df_train_result = df_train_result.dropna(subset=['salary from norm', 'salary to norm'], how='any') # \n",
    "\n",
    "df_train_result.rename(columns={'skills_clean_norm': 'skills',\n",
    "                                'experience_norm':'experience',\n",
    "                                'vacancy it':'vacancy'}, inplace=True)\n",
    "\n",
    "df_train_result['skills'] = df_train_result['skills'].apply(literal_eval)\n",
    "\n",
    "df_train_result.rename(columns={\n",
    "    'salary from norm': 'salary from',\n",
    "    'salary to norm': 'salary to'\n",
    "}, inplace=True)"
   ]
  },
  {
   "cell_type": "markdown",
   "id": "2477aafd",
   "metadata": {},
   "source": [
    "#### Далееек код O.K. по очистке и нормализации скилов"
   ]
  },
  {
   "cell_type": "code",
   "execution_count": 42,
   "id": "0eb9b081",
   "metadata": {},
   "outputs": [],
   "source": [
    "# Дополнительная предварительная очистка (исправленная версия)\n",
    "def clean_skills(skill_str):\n",
    "    # Сначала преобразуем в строку, затем очищаем и приводим к нижнему регистру\n",
    "    cleaned = re.sub(r'[^\\w\\s,;/]', '', str(skill_str))\n",
    "    return cleaned.lower()\n",
    "\n",
    "# Применяем очистку\n",
    "df_train_result['skills_ok'] = df_train_result['skills'].apply(clean_skills)"
   ]
  },
  {
   "cell_type": "code",
   "execution_count": 43,
   "id": "f94b22b1",
   "metadata": {},
   "outputs": [],
   "source": [
    "import re\n",
    "import ast\n",
    "from typing import Union, List, Dict, Set, Optional, Any\n",
    "from collections import defaultdict\n",
    "class FinalSkillNormalizer:\n",
    "    def __init__(self):\n",
    "        \"\"\"Инициализация нормализатора с загрузкой всех правил\"\"\"\n",
    "        self._init_skill_mappings()\n",
    "        self._init_hierarchy()\n",
    "        self._init_auto_categorization_rules()\n",
    "        self._init_stop_skills()\n",
    "        self._init_special_cases()\n",
    "        self._build_reverse_index()\n",
    "        self._init_skill_normalization_rules()\n",
    "\n",
    "    def _init_skill_normalization_rules(self):\n",
    "        \"\"\"Дополнительные правила для нормализации составных навыков\"\"\"\n",
    "        self.skill_normalization_rules = [\n",
    "            # Разделение навыков с разделителями\n",
    "            (r'[,;/\\\\&+]', lambda x: [s.strip() for s in re.split(r'[,;/\\\\&+]', x) if s.strip()]),\n",
    "            \n",
    "            # Обработка версий и скобок\n",
    "            (r'\\([^)]*\\)', ''),  # Удаление всего в скобках\n",
    "            (r'[\\d.]+', ''),     # Удаление версий\n",
    "            \n",
    "            # Нормализация конкретных случаев\n",
    "            (r'excel\\s*(power\\s*(query|pivot))', 'Excel Power Tools'),\n",
    "            (r'power\\s*(bi|query|pivot)', lambda m: f\"Power {m.group(1).title()}\"),\n",
    "            (r'html\\s*/?\\s*css', 'HTML/CSS'),\n",
    "            (r'sql\\s*\\w+', 'SQL'),\n",
    "            (r'python\\s*\\w+', 'Python'),\n",
    "            (r'js\\b', 'JavaScript'),\n",
    "            (r'базы?\\s*данных', 'Databases')\n",
    "        ]\n",
    "\n",
    "    def normalize_skill_item(self, skill: str) -> List[str]:\n",
    "        \"\"\"Нормализует отдельный навык, возможно разбивая его на несколько\"\"\"\n",
    "        if not skill or str(skill).lower() in self.stop_skills:\n",
    "            return []\n",
    "            \n",
    "        # Применяем специальные случаи в первую очередь\n",
    "        skill = self._handle_special_cases(skill.lower())\n",
    "        \n",
    "        # Применяем правила нормализации\n",
    "        for pattern, replacement in self.skill_normalization_rules:\n",
    "            if isinstance(replacement, str):\n",
    "                skill = re.sub(pattern, replacement, skill, flags=re.IGNORECASE)\n",
    "            else:\n",
    "                skill = replacement(skill)\n",
    "        \n",
    "        # Если получили список - нормализуем каждый элемент\n",
    "        if isinstance(skill, list):\n",
    "            return [s for item in skill for s in self.normalize_skill_item(item)]\n",
    "            \n",
    "        # Базовая очистка\n",
    "        skill = skill.strip(\" .,!?()[]{}«»\\\"'\")\n",
    "        \n",
    "        # Применяем маппинг\n",
    "        normalized = self.skill_map.get(skill, skill.title())\n",
    "        \n",
    "        # Дополнительная очистка\n",
    "        normalized = re.sub(r'\\s+', ' ', normalized).strip()\n",
    "        \n",
    "        return [normalized] if normalized else []\n",
    "\n",
    "    def normalize(self, skill_input: Union[str, List[str], None]) -> List[str]:\n",
    "        \"\"\"Улучшенная нормализация с обработкой составных навыков\"\"\"\n",
    "        if skill_input is None:\n",
    "            return []\n",
    "            \n",
    "        if isinstance(skill_input, str) and not skill_input.strip():\n",
    "            return []\n",
    "            \n",
    "        # Преобразование ввода в список\n",
    "        if isinstance(skill_input, str):\n",
    "            try:\n",
    "                skills = ast.literal_eval(skill_input) if (\n",
    "                    '[' in skill_input and ']' in skill_input\n",
    "                ) else [skill_input.strip()]\n",
    "            except (ValueError, SyntaxError):\n",
    "                skills = [skill_input.strip()]\n",
    "        elif isinstance(skill_input, list):\n",
    "            skills = skill_input\n",
    "        else:\n",
    "            return []\n",
    "            \n",
    "        # Нормализация каждого навыка с разбивкой\n",
    "        normalized = set()\n",
    "        for skill in skills:\n",
    "            if not skill or str(skill).lower() in {'nan', 'none', 'null'}:\n",
    "                continue\n",
    "                \n",
    "            # Нормализуем и добавляем все части\n",
    "            for item in self.normalize_skill_item(skill):\n",
    "                if item and item not in self.stop_skills:\n",
    "                    normalized.add(item)\n",
    "                    \n",
    "        return sorted(normalized) if normalized else []\n",
    "\n",
    "    def _init_stop_skills(self):\n",
    "        \"\"\"Инициализация списка стоп-слов для игнорирования\"\"\"\n",
    "        self.stop_skills = {\n",
    "            'nan', 'none', 'нет', 'other', 'другое', 'иное', \n",
    "            'разное', 'прочее', 'разные', 'etc', 'и др', 'и другие',\n",
    "            '', 'не указано', 'not specified'\n",
    "        }    \n",
    "\n",
    "    def _init_skill_mappings(self):\n",
    "        \"\"\"Полный маппинг 200+ навыков из анализа\"\"\"\n",
    "        self.skill_map = {\n",
    "            # 1С экосистема (45 навыков)\n",
    "            '1с': '1C', '1c': '1C',\n",
    "            '1с программирование': '1C Development',\n",
    "            '1c программирование': '1C Development',\n",
    "            '1с: предприятие 8': '1C Enterprise 8',\n",
    "            '1c: предприятие 8': '1C Enterprise 8',\n",
    "            '1с:erp': '1C ERP', '1c:erp': '1C ERP',\n",
    "            '1с:бухгалтерия': '1C Accounting',\n",
    "            '1с:документооборот': '1C Document Management',\n",
    "            '1с:зуп': '1C ZUP', '1с:управление торговлей': '1C Trade Management',\n",
    "            '1с:розница': '1C Retail', '1с:wms': '1C WMS',\n",
    "            '1с:управление холдингом': '1C Holding Management',\n",
    "            '1с:кадры': '1C HR', '1с:зарплата': '1C Payroll',\n",
    "            '1с:документооборот корп': '1C Corporate Document Management',\n",
    "            '1с:erp 2.5': '1C ERP 2.5', '1с:erp 2.4': '1C ERP 2.4',\n",
    "            '1с:комплексная автоматизация': '1C Comprehensive Automation',\n",
    "            '1с:библиотека стандартов': '1C Standards Library',\n",
    "            '1с:доп': '1C Additional', '1с:документы': '1C Documents',\n",
    "            '1с:отчеты': '1C Reports', '1с:аналитика': '1C Analytics',\n",
    "            '1с:консоль запросов': '1C Query Console',\n",
    "            '1с:обмен данными': '1C Data Exchange',\n",
    "            '1с:конфигуратор': '1C Configurator',\n",
    "            '1с:управляемые формы': '1C Managed Forms',\n",
    "            '1с:скд': '1C Data Composition System',\n",
    "            '1с:web-сервисы': '1C Web Services',\n",
    "            '1с:http-сервисы': '1C HTTP Services',\n",
    "            '1с:rest api': '1C REST API',\n",
    "            '1с:мобильная платформа': '1C Mobile Platform',\n",
    "            '1с:лицензии': '1C Licenses', '1с:хакинг': '1C Hacking',\n",
    "            '1с:оптимизация': '1C Optimization',\n",
    "            '1с:миграция данных': '1C Data Migration',\n",
    "            '1с:интеграция': '1C Integration',\n",
    "            '1с:асинхронные вызовы': '1C Async Calls',\n",
    "            '1с:расширения': '1C Extensions',\n",
    "            '1с:внешние компоненты': '1C External Components',\n",
    "            '1с:отчеты и обработки': '1C Reports and Processing',\n",
    "            '1с:анализ производительности': '1C Performance Analysis',\n",
    "            '1с:администрирование': '1C Administration',\n",
    "            '1с:кластер серверов': '1C Server Cluster',\n",
    "            '1с:рабочие процессы': '1C Workflows',\n",
    "            \n",
    "            # Базы данных (32 навыка)\n",
    "            'postgresql': 'PostgreSQL', 'postgres': 'PostgreSQL',\n",
    "            'mysql': 'MySQL', 'mariadb': 'MariaDB',\n",
    "            'ms sql': 'SQL Server', 'microsoft sql server': 'SQL Server',\n",
    "            'oracle': 'Oracle', 'oracle db': 'Oracle',\n",
    "            'sqlite': 'SQLite', 'firebird': 'Firebird',\n",
    "            'greenplum': 'Greenplum', 'clickhouse': 'ClickHouse',\n",
    "            'mongodb': 'MongoDB', 'redis': 'Redis',\n",
    "            'elasticsearch': 'Elasticsearch', 'cassandra': 'Cassandra',\n",
    "            'hbase': 'HBase', 'hive': 'Hive',\n",
    "            'sql': 'SQL', 'pl/sql': 'PL/SQL',\n",
    "            't-sql': 'T-SQL', 'nosql': 'NoSQL',\n",
    "            'реляционные бд': 'Relational DB', 'sql запросы': 'SQL Queries',\n",
    "            'оптимизация запросов': 'Query Optimization',\n",
    "            'индексы': 'Indexes', 'транзакции': 'Transactions',\n",
    "            'репликация': 'Replication', 'партиционирование': 'Partitioning',\n",
    "            'бэкапы': 'Backups', 'восстановление': 'Recovery',\n",
    "            'настройка бд': 'DB Tuning', 'мониторинг бд': 'DB Monitoring',\n",
    "            \n",
    "            # Программирование (40 навыков)\n",
    "            'python': 'Python', 'python 3': 'Python',\n",
    "            'java': 'Java', 'java ee': 'Java EE',\n",
    "            'c#': 'C#', 'c++': 'C++',\n",
    "            'php': 'PHP', 'php 7': 'PHP', 'php 8': 'PHP',\n",
    "            'javascript': 'JavaScript', 'js': 'JavaScript',\n",
    "            'typescript': 'TypeScript', 'ts': 'TypeScript',\n",
    "            'go': 'Go', 'golang': 'Go',\n",
    "            'scala': 'Scala', 'kotlin': 'Kotlin',\n",
    "            'ruby': 'Ruby', 'swift': 'Swift',\n",
    "            'objective-c': 'Objective-C', 'rust': 'Rust',\n",
    "            'delphi': 'Delphi', 'pascal': 'Pascal',\n",
    "            'html': 'HTML', 'css': 'CSS',\n",
    "            'html5': 'HTML5', 'css3': 'CSS3',\n",
    "            'sass': 'SASS', 'less': 'LESS',\n",
    "            'web assembly': 'WebAssembly', 'wasm': 'WebAssembly',\n",
    "            'bash': 'Bash', 'powershell': 'PowerShell',\n",
    "            'регулярные выражения': 'Regular Expressions',\n",
    "            'алгоритмы': 'Algorithms', 'структуры данных': 'Data Structures',\n",
    "            'ооп': 'OOP', 'функциональное программирование': 'Functional Programming',\n",
    "            'рефакторинг': 'Refactoring', 'паттерны проектирования': 'Design Patterns',\n",
    "            'чистый код': 'Clean Code', 'тестирование кода': 'Code Testing',\n",
    "            \n",
    "            # DevOps (28 навыков)\n",
    "            'docker': 'Docker', 'kubernetes': 'Kubernetes',\n",
    "            'openshift': 'OpenShift', 'rancher': 'Rancher',\n",
    "            'ci/cd': 'CI/CD', 'jenkins': 'Jenkins',\n",
    "            'gitlab ci': 'GitLab CI', 'github actions': 'GitHub Actions',\n",
    "            'teamcity': 'TeamCity', 'bamboo': 'Bamboo',\n",
    "            'ansible': 'Ansible', 'terraform': 'Terraform',\n",
    "            'puppet': 'Puppet', 'chef': 'Chef',\n",
    "            'vagrant': 'Vagrant', 'packer': 'Packer',\n",
    "            'prometheus': 'Prometheus', 'grafana': 'Grafana',\n",
    "            'zabbix': 'Zabbix', 'elk': 'ELK',\n",
    "            'splunk': 'Splunk', 'new relic': 'New Relic',\n",
    "            'datadog': 'Datadog', 'nagios': 'Nagios',\n",
    "            'мониторинг': 'Monitoring', 'логирование': 'Logging',\n",
    "            'оркестрация': 'Orchestration', 'инфраструктура как код': 'Infrastructure as Code',\n",
    "            \n",
    "            # Системное администрирование (35 навыков)\n",
    "            'linux': 'Linux', 'ubuntu': 'Ubuntu',\n",
    "            'centos': 'CentOS', 'debian': 'Debian',\n",
    "            'red hat': 'Red Hat', 'suse': 'SUSE',\n",
    "            'windows server': 'Windows Server', 'active directory': 'Active Directory',\n",
    "            'dns': 'DNS', 'dhcp': 'DHCP',\n",
    "            'tcp/ip': 'TCP/IP', 'http': 'HTTP',\n",
    "            'https': 'HTTPS', 'ssl': 'SSL',\n",
    "            'tls': 'TLS', 'vpn': 'VPN',\n",
    "            'ldap': 'LDAP', 'kerberos': 'Kerberos',\n",
    "            'samba': 'Samba', 'nfs': 'NFS',\n",
    "            'iscsi': 'iSCSI', 'raid': 'RAID',\n",
    "            'lvm': 'LVM', 'zfs': 'ZFS',\n",
    "            'btrfs': 'BTRFS', 'виртуализация': 'Virtualization',\n",
    "            'vmware': 'VMware', 'hyper-v': 'Hyper-V',\n",
    "            'proxmox': 'Proxmox', 'kvm': 'KVM',\n",
    "            'xen': 'Xen', 'бэкапы': 'Backups',\n",
    "            'восстановление данных': 'Data Recovery', 'безопасность': 'Security',\n",
    "            'аудит': 'Audit',\n",
    "            \n",
    "            # Веб-разработка (25 навыков)\n",
    "            'django': 'Django', 'flask': 'Flask',\n",
    "            'fastapi': 'FastAPI', 'spring': 'Spring',\n",
    "            'laravel': 'Laravel', 'symfony': 'Symfony',\n",
    "            'ruby on rails': 'Ruby on Rails', 'express': 'Express',\n",
    "            'react': 'React', 'angular': 'Angular',\n",
    "            'vue': 'Vue', 'svelte': 'Svelte',\n",
    "            'node.js': 'Node.js', 'nest.js': 'NestJS',\n",
    "            'rest api': 'REST API', 'graphql': 'GraphQL',\n",
    "            'soap': 'SOAP', 'grpc': 'gRPC',\n",
    "            'websocket': 'WebSocket', 'webpack': 'Webpack',\n",
    "            'gulp': 'Gulp', 'parcel': 'Parcel',\n",
    "            'веб-разработка': 'Web Development', 'веб-приложения': 'Web Applications',\n",
    "            'pwa': 'PWA'\n",
    "        }\n",
    "\n",
    "    def _init_hierarchy(self):\n",
    "        \"\"\"Полная иерархия навыков\"\"\"\n",
    "        self.skill_hierarchy = {\n",
    "            '1C Ecosystem': {\n",
    "                'Platform': {\n",
    "                    '1C', '1C Enterprise 8', '1C ERP', '1C ERP 2.5', '1C ERP 2.4',\n",
    "                    '1C Accounting', '1C Document Management', '1C ZUP',\n",
    "                    '1C Trade Management', '1C Retail', '1C WMS',\n",
    "                    '1C Holding Management', '1C HR', '1C Payroll',\n",
    "                    '1C Corporate Document Management', '1C Comprehensive Automation',\n",
    "                    '1C Standards Library'\n",
    "                },\n",
    "                'Development': {\n",
    "                    '1C Development', '1C Data Composition System', '1C Managed Forms',\n",
    "                    '1C Query Console', '1C Web Services', '1C HTTP Services',\n",
    "                    '1C REST API', '1C Mobile Platform', '1C Extensions',\n",
    "                    '1C External Components', '1C Reports and Processing'\n",
    "                },\n",
    "                'Administration': {\n",
    "                    '1C Administration', '1C Server Cluster', '1C Performance Analysis',\n",
    "                    '1C Licenses', '1C Optimization', '1C Data Migration',\n",
    "                    '1C Integration', '1C Workflows'\n",
    "                }\n",
    "            },\n",
    "            'Databases': {\n",
    "                'SQL Databases': {\n",
    "                    'PostgreSQL', 'MySQL', 'MariaDB', 'SQL Server', 'Oracle',\n",
    "                    'SQLite', 'Firebird', 'Greenplum', 'ClickHouse', 'PL/SQL', 'T-SQL'\n",
    "                },\n",
    "                'NoSQL Databases': {\n",
    "                    'MongoDB', 'Redis', 'Elasticsearch', 'Cassandra', 'HBase', 'Hive'\n",
    "                },\n",
    "                'Database Tools': {\n",
    "                    'SQL', 'SQL Queries', 'Query Optimization', 'Indexes',\n",
    "                    'Transactions', 'Replication', 'Partitioning', 'Backups',\n",
    "                    'Recovery', 'DB Tuning', 'DB Monitoring'\n",
    "                }\n",
    "            },\n",
    "            'Programming': {\n",
    "                'Languages': {\n",
    "                    'Python', 'Java', 'Java EE', 'C#', 'C++', 'PHP', 'JavaScript',\n",
    "                    'TypeScript', 'Go', 'Scala', 'Kotlin', 'Ruby', 'Swift',\n",
    "                    'Objective-C', 'Rust', 'Delphi', 'Pascal', 'Bash', 'PowerShell'\n",
    "                },\n",
    "                'Web Technologies': {\n",
    "                    'HTML', 'CSS', 'HTML5', 'CSS3', 'SASS', 'LESS', 'WebAssembly'\n",
    "                },\n",
    "                'Programming Concepts': {\n",
    "                    'Algorithms', 'Data Structures', 'OOP', 'Functional Programming',\n",
    "                    'Refactoring', 'Design Patterns', 'Clean Code', 'Code Testing',\n",
    "                    'Regular Expressions'\n",
    "                }\n",
    "            },\n",
    "            'DevOps': {\n",
    "                'Containerization': {\n",
    "                    'Docker', 'Kubernetes', 'OpenShift', 'Rancher'\n",
    "                },\n",
    "                'CI/CD': {\n",
    "                    'CI/CD', 'Jenkins', 'GitLab CI', 'GitHub Actions', 'TeamCity', 'Bamboo'\n",
    "                },\n",
    "                'Infrastructure': {\n",
    "                    'Ansible', 'Terraform', 'Puppet', 'Chef', 'Vagrant', 'Packer'\n",
    "                },\n",
    "                'Monitoring': {\n",
    "                    'Prometheus', 'Grafana', 'Zabbix', 'ELK', 'Splunk', 'New Relic',\n",
    "                    'Datadog', 'Nagios', 'Monitoring', 'Logging'\n",
    "                },\n",
    "                'DevOps Concepts': {\n",
    "                    'Orchestration', 'Infrastructure as Code'\n",
    "                }\n",
    "            },\n",
    "            'System Administration': {\n",
    "                'Operating Systems': {\n",
    "                    'Linux', 'Ubuntu', 'CentOS', 'Debian', 'Red Hat', 'SUSE',\n",
    "                    'Windows Server'\n",
    "                },\n",
    "                'Network': {\n",
    "                    'Active Directory', 'DNS', 'DHCP', 'TCP/IP', 'HTTP', 'HTTPS',\n",
    "                    'SSL', 'TLS', 'VPN', 'LDAP', 'Kerberos'\n",
    "                },\n",
    "                'Storage': {\n",
    "                    'Samba', 'NFS', 'iSCSI', 'RAID', 'LVM', 'ZFS', 'BTRFS'\n",
    "                },\n",
    "                'Virtualization': {\n",
    "                    'Virtualization', 'VMware', 'Hyper-V', 'Proxmox', 'KVM', 'Xen'\n",
    "                },\n",
    "                'Security': {\n",
    "                    'Security', 'Audit', 'Backups', 'Data Recovery'\n",
    "                }\n",
    "            },\n",
    "           'Web Development': {\n",
    "            'Backend': {\n",
    "                'Django', 'Flask', 'FastAPI', 'Spring', 'Laravel', 'Symfony',\n",
    "                'Ruby on Rails', 'Express', 'Node.js', 'NestJS'\n",
    "            },\n",
    "            'Frontend': {\n",
    "                'React', 'Angular', 'Vue', 'Svelte'\n",
    "            },\n",
    "            'API': {\n",
    "                'REST API', 'GraphQL', 'SOAP', 'gRPC', 'WebSocket'\n",
    "            },\n",
    "            'Build Tools': {\n",
    "                'Webpack', 'Gulp', 'Parcel'\n",
    "            },\n",
    "            'Concepts': {\n",
    "                'Web Development', 'Web Applications', 'PWA'\n",
    "            }\n",
    "        },  \n",
    "        'Other': {\n",
    "            'General': set()\n",
    "        }\n",
    "    }\n",
    "\n",
    "    def _init_auto_categorization_rules(self):\n",
    "        \"\"\"Уточненные правила автоматической категоризации\"\"\"\n",
    "        self.auto_category_rules = [\n",
    "            # Правила для 1С\n",
    "            (['1с', '1c', '1c:', '1с:', '1c enterprise', '1с предприятие'], '1C Ecosystem'),\n",
    "            (['erp', 'управление', 'документооборот', 'бухгалтерия', 'зарплата', 'торговля', 'розница', 'wms'], '1C Ecosystem'),\n",
    "            \n",
    "            # Правила для баз данных\n",
    "            (['sql', 'postgres', 'oracle', 'mysql', 'mariadb', 'база данных', 'бд', 'greenplum'], 'Databases'),\n",
    "            (['mongodb', 'redis', 'elasticsearch', 'nosql', 'cassandra', 'hbase'], 'Databases'),\n",
    "            \n",
    "            # Правила для программирования\n",
    "            (['python', 'java', 'c#', 'c++', 'php', 'javascript', 'typescript', 'go'], 'Programming'),\n",
    "            (['алгоритм', 'структур данных', 'ооп', 'функциональное', 'рефакторинг', 'паттерн'], 'Programming'),\n",
    "            \n",
    "            # Правила для DevOps\n",
    "            (['docker', 'kubernetes', 'ci/cd', 'ansible', 'terraform', 'prometheus', 'zabbix'], 'DevOps'),\n",
    "            (['мониторинг', 'логирование', 'оркестрация', 'инфраструктура как код'], 'DevOps'),\n",
    "            \n",
    "            # Правила для администрирования\n",
    "            (['linux', 'windows server', 'ubuntu', 'centos', 'debian'], 'System Administration'),\n",
    "            (['active directory', 'dns', 'dhcp', 'tcp/ip', 'vpn', 'ldap'], 'System Administration'),\n",
    "            (['виртуализация', 'vmware', 'hyper-v', 'proxmox', 'kvm'], 'System Administration'),\n",
    "            (['безопасность', 'аудит', 'бэкап', 'восстановление данных'], 'System Administration'),\n",
    "            \n",
    "            # Правила для веб-разработки\n",
    "            (['django', 'flask', 'spring', 'laravel', 'symfony', 'ruby on rails'], 'Web Development'),\n",
    "            (['react', 'angular', 'vue', 'svelte', 'node.js', 'nest.js'], 'Web Development'),\n",
    "            (['rest api', 'graphql', 'soap', 'grpc', 'websocket'], 'Web Development'),\n",
    "            (['веб-разработка', 'веб-приложения', 'pwa', 'html', 'css'], 'Web Development'),\n",
    "            \n",
    "            # Общие правила\n",
    "            (['администрирование', 'настройка', 'установка'], 'System Administration'),\n",
    "            (['разработка', 'программирование', 'код'], 'Programming'),\n",
    "            (['тестирование', 'qa'], 'Testing'),\n",
    "            (['дизайн', 'ui', 'ux', 'photoshop', 'figma'], 'Design')\n",
    "        ]\n",
    "\n",
    "    def _init_special_cases(self):\n",
    "        \"\"\"Обработка специальных случаев\"\"\"\n",
    "        self.special_cases = {\n",
    "            # Версии 1С\n",
    "            r'1[сc]:?erp\\s*[\\d.]+': lambda m: f\"1C ERP {m.group(0).split()[-1]}\",\n",
    "            r'1[сc]:?(?:управление|торговля)\\s*[\\d.]+': lambda m: f\"1C Trade Management {m.group(0).split()[-1]}\",\n",
    "            \n",
    "            # Версии ПО\n",
    "            r'(python|java|php)\\s*[\\d.]+': lambda m: f\"{m.group(1).capitalize()}\",\n",
    "            r'(postgresql|mysql|sql server)\\s*[\\d.]+': lambda m: f\"{m.group(1)}\",\n",
    "            \n",
    "            # Специальные форматы\n",
    "            r'c\\/c\\+\\+': 'C++',\n",
    "            r'js\\/ts': 'JavaScript/TypeScript',\n",
    "            r'html\\/css': 'HTML/CSS',\n",
    "            \n",
    "            # Иностранные языки\n",
    "            r'английский\\s*(?:язык)?\\s*(?:\\(.*\\))?': 'English',\n",
    "            r'немецкий\\s*(?:язык)?\\s*(?:\\(.*\\))?': 'German'\n",
    "        }\n",
    "\n",
    "    def _handle_special_cases(self, skill: str) -> str:\n",
    "        \"\"\"Обработка специальных случаев\"\"\"\n",
    "        for pattern, replacement in self.special_cases.items():\n",
    "            if isinstance(replacement, str):\n",
    "                if re.search(pattern, skill, re.IGNORECASE):\n",
    "                    return replacement\n",
    "            else:\n",
    "                match = re.search(pattern, skill, re.IGNORECASE)\n",
    "                if match:\n",
    "                    return replacement(match)\n",
    "        return skill\n",
    "\n",
    "    def normalize(self, skill_input: Union[str, List[str], None]) -> List[str]:\n",
    "        \"\"\"Улучшенная нормализация с обработкой специальных случаев\"\"\"\n",
    "        \n",
    "        # Добавляем обработку специальных случаев\n",
    "        normalized_skill = self._handle_special_cases(skill_clean)\n",
    "        \n",
    "\n",
    "    def _build_reverse_index(self):\n",
    "        \"\"\"Расширенный обратный индекс с учетом всех навыков\"\"\"\n",
    "        self.reverse_index = defaultdict(set)\n",
    "        \n",
    "        # Индексируем иерархию\n",
    "        for category, groups in self.skill_hierarchy.items():\n",
    "            for group, skills in groups.items():\n",
    "                for skill in skills:\n",
    "                    self.reverse_index[skill].add(category)\n",
    "        \n",
    "        # Индексируем skill_map (включая оригинальные и нормализованные)\n",
    "        for original, normalized in self.skill_map.items():\n",
    "            self.reverse_index[normalized].update(self.reverse_index.get(original, set()))\n",
    "            if original != normalized:\n",
    "                self.reverse_index[original].update(self.reverse_index.get(normalized, set()))\n",
    "\n",
    "    def get_categories(self, skill: str) -> List[str]:\n",
    "        \"\"\"Получение категорий с учетом специальных случаев\"\"\"\n",
    "        # Сначала проверяем специальные случаи\n",
    "        processed_skill = self._handle_special_cases(skill)\n",
    "        \n",
    "        # Затем ищем в обратном индексе\n",
    "        categories = self.reverse_index.get(processed_skill, set())\n",
    "        \n",
    "        # Если не нашли, пытаемся автоматически определить\n",
    "        if not categories:\n",
    "            categories = set(self._auto_categorize_skill(processed_skill))\n",
    "        \n",
    "        return list(categories)\n",
    "\n",
    "    def normalize_with_hierarchy(self, skills_input: Union[str, List[str], None]) -> Dict[str, Dict]:\n",
    "        \"\"\"Полная нормализация с иерархией и специальными случаями\"\"\"\n",
    "        normalized_skills = self.normalize(skills_input)\n",
    "        result = defaultdict(lambda: defaultdict(set))\n",
    "        \n",
    "        for skill in normalized_skills:\n",
    "            # Обрабатываем специальные случаи\n",
    "            processed_skill = self._handle_special_cases(skill)\n",
    "            \n",
    "            # Получаем категории\n",
    "            categories = self.get_categories(processed_skill)\n",
    "            \n",
    "            # Добавляем в результат\n",
    "            for category in categories:\n",
    "                related = self.get_related_skills(processed_skill, category)\n",
    "                result[category][processed_skill].update(rel for rel in related if rel != processed_skill)\n",
    "        \n",
    "        # Сортируем результат для удобства\n",
    "        return {\n",
    "            category: {\n",
    "                skill: sorted(related) \n",
    "                for skill, related in sorted(skills.items())\n",
    "            }\n",
    "            for category, skills in sorted(result.items())\n",
    "        }\n",
    "    \n",
    "    def normalize(self, skill_input: Union[str, List[str], None]) -> List[str]:\n",
    "        \"\"\"Исправленная нормализация с обработкой всех случаев\"\"\"\n",
    "        if skill_input is None or (isinstance(skill_input, (list, str)) and not skill_input):\n",
    "            return []\n",
    "            \n",
    "        # Преобразование ввода в список\n",
    "        if isinstance(skill_input, str):\n",
    "            try:\n",
    "                skills = ast.literal_eval(skill_input) if ('[' in skill_input and ']' in skill_input) else [s.strip() for s in skill_input.split(',')]\n",
    "            except:\n",
    "                skills = [skill_input.strip()]\n",
    "        elif isinstance(skill_input, list):\n",
    "            skills = skill_input\n",
    "        else:\n",
    "            return []\n",
    "            \n",
    "        normalized = set()\n",
    "        for skill in skills:\n",
    "            if not skill or str(skill).lower() == 'nan':\n",
    "                continue\n",
    "                \n",
    "            # Очистка и приведение к нижнему регистру (переименовано в skill_cleaned)\n",
    "            skill_cleaned = str(skill).strip(\" .,!?()[]{}«»\\\"'\").lower()\n",
    "            \n",
    "            # Обработка специальных случаев\n",
    "            processed_skill = self._handle_special_cases(skill_cleaned)\n",
    "            \n",
    "            # Пропуск стоп-слов\n",
    "            if processed_skill in self.stop_skills:\n",
    "                continue\n",
    "                \n",
    "            # Применение маппинга\n",
    "            normalized_skill = self.skill_map.get(processed_skill, processed_skill)\n",
    "            \n",
    "            # Форматирование\n",
    "            if normalized_skill not in self.skill_map.values():\n",
    "                normalized_skill = normalized_skill.title()\n",
    "                \n",
    "            normalized.add(normalized_skill)\n",
    "            \n",
    "        return sorted(normalized) if normalized else []\n",
    "    \n",
    "    def _auto_categorize_skill(self, skill: str) -> List[str]:\n",
    "        \"\"\"Автоматическое определение категорий навыка на основе ключевых слов\"\"\"\n",
    "        skill_lower = skill.lower()\n",
    "        categories = set()\n",
    "    \n",
    "    # Правила для автоматической категоризации\n",
    "        auto_rules = {\n",
    "            '1C Ecosystem': ['1c', '1с', 'erp', 'бухгалтерия', 'документооборот', 'зарплата'],\n",
    "            'Databases': ['sql', 'база данных', 'postgres', 'oracle', 'mysql', 'mongodb', 'redis'],\n",
    "            'Programming': ['python', 'java', 'c#', 'c++', 'алгоритм', 'структур данных', 'ооп'],\n",
    "            'DevOps': ['docker', 'kubernetes', 'ci/cd', 'ansible', 'terraform', 'мониторинг'],\n",
    "            'System Administration': ['linux', 'windows server', 'active directory', 'dns', 'безопасность'],\n",
    "            'Web Development': ['django', 'flask', 'react', 'angular', 'веб-разработка', 'html', 'css'],\n",
    "            'Testing': ['тестирование', 'qa', 'автотесты', 'unit test'],\n",
    "            'Design': ['дизайн', 'ui', 'ux', 'figma', 'photoshop']\n",
    "        }\n",
    "    \n",
    "        # Проверяем каждую категорию на соответствие\n",
    "        for category, keywords in auto_rules.items():\n",
    "            if any(keyword in skill_lower for keyword in keywords):\n",
    "                categories.add(category)\n",
    "    \n",
    "        # Дополнительные эвристики\n",
    "        if not categories:\n",
    "            if 'администрирование' in skill_lower:\n",
    "                categories.add('System Administration')\n",
    "            elif 'разработка' in skill_lower or 'программирование' in skill_lower:\n",
    "                categories.add('Programming')\n",
    "            elif 'анализ' in skill_lower or 'аналитик' in skill_lower:\n",
    "                categories.add('Analytics')\n",
    "    \n",
    "        return list(categories) if categories else ['Other'] "
   ]
  },
  {
   "cell_type": "code",
   "execution_count": 44,
   "id": "696ab83f",
   "metadata": {},
   "outputs": [],
   "source": [
    "# Проверка и инициализация нормализатора\n",
    "if 'FinalSkillNormalizer' not in globals():\n",
    "    raise ImportError(\"Класс FinalSkillNormalizer не найден. Убедитесь, что он определен.\")\n",
    "    \n",
    "skill_normalizer = FinalSkillNormalizer()\n",
    "\n",
    "# Применение к DataFrame\n",
    "df_train_result['skills_normalized'] = df_train_result['skills_ok'].apply(\n",
    "    lambda x: skill_normalizer.normalize(x) if pd.notna(x) else []\n",
    ")"
   ]
  },
  {
   "cell_type": "code",
   "execution_count": 45,
   "id": "cd245546",
   "metadata": {},
   "outputs": [
    {
     "name": "stdout",
     "output_type": "stream",
     "text": [
      "\n",
      "Статистика после нормализации:\n",
      "Всего вакансий: 14975\n",
      "Вакансий с навыками: 14974\n",
      "Уникальных навыков после нормализации: 42542\n"
     ]
    }
   ],
   "source": [
    "# Анализ результатов\n",
    "print(\"\\nСтатистика после нормализации:\")\n",
    "print(f\"Всего вакансий: {len(df_train_result)}\")\n",
    "print(f\"Вакансий с навыками: {df_train_result['skills_normalized'].apply(bool).sum()}\")\n",
    "\n",
    "all_skills = [skill for sublist in df_train_result['skills_normalized'] for skill in sublist]\n",
    "unique_skills_count = len(set(all_skills))\n",
    "print(f\"Уникальных навыков после нормализации: {unique_skills_count}\")"
   ]
  },
  {
   "cell_type": "code",
   "execution_count": 46,
   "id": "b191dc3c",
   "metadata": {},
   "outputs": [
    {
     "name": "stdout",
     "output_type": "stream",
     "text": [
      "Тип данных в skills_normalized: <class 'list'>\n",
      "Примеры нормализованных навыков:\n",
      "1. ['Python', 'SQLite', 'Sql Postgresql', 'Проектирование И Реализация Архитектур Хранения И Обработки Больших Объемов Данных']\n",
      "2. ['Html Css', 'JavaScript', 'Python Pandas', 'SQL', 'Scipy']\n",
      "3. ['Excel', 'Power Bi', 'Power Pivot', 'Power Query', 'Python', 'SQL', 'Базы Данных', 'Системы Управления Проектами']\n",
      "\n",
      "Топ-20 самых популярных навыков:\n",
      "SQL: 1022\n",
      "Git: 1022\n",
      "1C: 1003\n",
      "PostgreSQL: 918\n",
      "Linux: 890\n",
      "Python: 804\n",
      "Excel: 802\n",
      "English: 660\n",
      "Docker: 655\n",
      "JavaScript: 626\n",
      "Figma: 551\n",
      "DNS: 548\n",
      "Adobe Photoshop: 512\n",
      "DHCP: 502\n",
      "MySQL: 476\n",
      "Ms Office: 451\n",
      "HTML: 431\n",
      "Adobe Illustrator: 424\n",
      "PHP: 412\n",
      "CSS: 397\n",
      "\n",
      "Распределение количества навыков на вакансию:\n",
      "count    14975.000000\n",
      "mean         8.621636\n",
      "std          5.519434\n",
      "min          0.000000\n",
      "25%          5.000000\n",
      "50%          7.000000\n",
      "75%         11.000000\n",
      "max         49.000000\n",
      "Name: skills_count, dtype: float64\n"
     ]
    }
   ],
   "source": [
    "# Проверим структуру нормализованных данных\n",
    "print(\"Тип данных в skills_normalized:\", type(df_train_result['skills_normalized'].iloc[0]))\n",
    "print(\"Примеры нормализованных навыков:\")\n",
    "for i in range(3):\n",
    "    print(f\"{i+1}. {df_train_result['skills_normalized'].iloc[i]}\")\n",
    "\n",
    "# Анализ распределения навыков\n",
    "from collections import Counter\n",
    "\n",
    "# Собираем все навыки в один список\n",
    "all_skills = [skill for sublist in df_train_result['skills_normalized'] for skill in sublist]\n",
    "skill_counts = Counter(all_skills)\n",
    "\n",
    "# Топ-20 самых частых навыков\n",
    "print(\"\\nТоп-20 самых популярных навыков:\")\n",
    "for skill, count in skill_counts.most_common(20):\n",
    "    print(f\"{skill}: {count}\")\n",
    "\n",
    "#  Анализ длины списков навыков\n",
    "df_train_result['skills_count'] = df_train_result['skills_normalized'].apply(len)\n",
    "print(\"\\nРаспределение количества навыков на вакансию:\")\n",
    "print(df_train_result['skills_count'].describe())"
   ]
  },
  {
   "cell_type": "code",
   "execution_count": 47,
   "id": "686e7db9",
   "metadata": {},
   "outputs": [
    {
     "name": "stdout",
     "output_type": "stream",
     "text": [
      "Статистика по категориям:\n",
      "                 main_category  count\n",
      "0          Backend Development   3069\n",
      "1                  no_category   2719\n",
      "2        System Administration   2042\n",
      "3                 1C Developer   1202\n",
      "4               1C Specialists    915\n",
      "5               Graphic Design    891\n",
      "6         Frontend Development    788\n",
      "7         IT/Technical Support    461\n",
      "8        Management/Consulting    415\n",
      "9      Office/Data Specialists    322\n",
      "10  Communications/Copywriting    290\n",
      "11                    Security    212\n",
      "12            System Analytics    209\n",
      "13        Software Engineering    182\n",
      "14                Data Science    159\n",
      "15          Project Management    145\n",
      "16          Product Management    118\n",
      "17               Data Analysis    112\n",
      "18                QA & Testing    110\n",
      "19             Interior Design    106\n",
      "20      CAD/Design Engineering     75\n",
      "21      Data Entry Specialists     72\n",
      "22         Other Professionals     64\n",
      "23            Junior Positions     58\n",
      "24                      DevOps     58\n",
      "25        Database Development     58\n",
      "26         Network Engineering     39\n",
      "27                UI/UX Design     38\n",
      "28       Business Intelligence     25\n",
      "29           Technical Writing     21\n"
     ]
    }
   ],
   "source": [
    "\n",
    "data_mapping = pd.read_csv('cluster_new_pos_by_skills/skill_cluster_mapping.csv')\n",
    "\n",
    "# 1. Создаем словарь для мэппинга навыков на категории\n",
    "skill_to_category = dict(zip(data_mapping['skills_normalized'], data_mapping['main_category']))\n",
    "\n",
    "# 2. Функция для преобразования списка навыков в список категорий\n",
    "def map_skills_to_categories(skills_list):\n",
    "    if isinstance(skills_list, list):\n",
    "        categories = []\n",
    "        for skill in skills_list:\n",
    "            category = skill_to_category.get(skill, 'no_category')\n",
    "            categories.append(category)\n",
    "        return categories\n",
    "    return ['no_category']\n",
    "\n",
    "# 3. Создаем столбец main_categories\n",
    "df_train_result['main_categories'] = df_train_result['skills_normalized'].apply(map_skills_to_categories)\n",
    "\n",
    "# 4. Функция для определения самой частотной категории\n",
    "def get_most_common_category(categories_list):\n",
    "    if not categories_list or categories_list == ['no_category']:\n",
    "        return 'no_category'\n",
    "    return Counter(categories_list).most_common(1)[0][0]\n",
    "\n",
    "# 5. Создаем столбец main_category с самой частотной категорией\n",
    "df_train_result['main_category'] = df_train_result['main_categories'].apply(get_most_common_category)\n",
    "\n",
    "# 6. Выводим статистику по категориям\n",
    "category_stats = df_train_result['main_category'].value_counts().reset_index()\n",
    "category_stats.columns = ['main_category', 'count']\n",
    "print(\"Статистика по категориям:\")\n",
    "print(category_stats)"
   ]
  },
  {
   "cell_type": "code",
   "execution_count": 48,
   "id": "5497025a",
   "metadata": {},
   "outputs": [
    {
     "data": {
      "text/plain": [
       "\"1. ['1Суправление Торговлей 8', 'Обучаемость', 'Общение С Клиентом']\""
      ]
     },
     "metadata": {},
     "output_type": "display_data"
    },
    {
     "data": {
      "text/plain": [
       "\"2. ['Excel Макросы', 'Аналитические Платформы Класса Etl', 'Дашборды', 'Отчетные Платформы Класса Bi', 'Сводные Таблицы']\""
      ]
     },
     "metadata": {},
     "output_type": "display_data"
    },
    {
     "data": {
      "text/plain": [
       "\"3. ['Idef', 'Scrum', 'Uml', 'Xp', 'Анализ Данных И Процессов В Предметной Области', 'Анализа И Формализации Требований', 'Архитектура Современных Itсистем', 'Внутренних Консультаций В Ходе Проектирования И Разработки Решений', 'Декомпозиции И Постановки Задач Команде Разработчиков В Трекере Задач', 'Изучение И Создание Проектной Документации И Разработки В Нотациях Моделирования  Bpmn', 'Их Структурирование И Формализация', 'Ключевые Бизнеспроцессы Компании', 'Методика Сбора', 'Опыт Разработки Технических Заданий', 'Основные Этапы Жизненного Цикла Проекта И Жизненного Цикла Разработки Программного Обеспечения', 'Оценка Сложности', 'Проектные Методологии Разработки По Waterfall', 'Сбор Требований С Заказчика']\""
      ]
     },
     "metadata": {},
     "output_type": "display_data"
    },
    {
     "data": {
      "text/plain": [
       "\"4. ['Владение Excel Продвинутый Уровень', 'Внимание К Деталям При Работе С Данными', 'Понимание Рыночных Трендов', 'Способность Оценивать Перспективность Ниш', 'Умение Работать С Аналитическими Инструментами']\""
      ]
     },
     "metadata": {},
     "output_type": "display_data"
    },
    {
     "data": {
      "text/plain": [
       "\"5. ['PHP', 'PostgreSQL', 'Scada Системы Winccoa', 'Wincc', 'Базы Данных Mssql', 'Веб Технологии Html5', 'Каскад Цифра']\""
      ]
     },
     "metadata": {},
     "output_type": "display_data"
    },
    {
     "data": {
      "text/plain": [
       "\"6. ['Ms Office Включая Excel', 'Sap', 'Обучение И Аттестация Коллег', 'Описание Требований/Проблем Для Ит', 'Процессы', 'Процессы Обязательной Маркировки Товаров', 'Связанные С Меркурием']\""
      ]
     },
     "metadata": {},
     "output_type": "display_data"
    },
    {
     "data": {
      "text/plain": [
       "\"7. ['Готовность К Переработкам', 'Оперативность', 'Стрессоустойчивость', 'Умение Работать В Режиме Многозадачности']\""
      ]
     },
     "metadata": {},
     "output_type": "display_data"
    },
    {
     "data": {
      "text/plain": [
       "\"8. ['Координация Проектов', 'Написание Статей И Релизов', 'Организация Взаимодействия С Внутренними И Внешними Структурами', 'Подготовка Аналитических Материалов', 'Подготовка Информационноаналитических Материалов', 'Подготовка Ответов На Обращения Граждан', 'Подготовка Презентаций И Слайдов', 'Поиск И Подготовка Профильного Контента', 'Поиск Информации В Открытых Источниках', 'Проведение Переговоров', 'Работа С Базами Данных Фнс России', 'Работа С Системами Электронного Бюджета', 'Расчёт Показателей Деятельности Сектора Малого И Среднего Предпринимательства', 'Росстат Мосстат', 'Составление Тз И Запросов']\""
      ]
     },
     "metadata": {},
     "output_type": "display_data"
    },
    {
     "data": {
      "text/plain": [
       "\"9. ['Excel Сводные Таблицы', 'Sql Написание Простых Запросов', 'Понимание Синтаксиса И Логики Построения Запросов', 'Связь С Другими Таблицами', 'Сложные Формулы']\""
      ]
     },
     "metadata": {},
     "output_type": "display_data"
    },
    {
     "data": {
      "text/plain": [
       "\"10. ['Excel Сводные Таблицы', 'Sql Навыки Приветствуются', 'Графики', 'Дашборды', 'Диаграммы', 'Сложные Формулы']\""
      ]
     },
     "metadata": {},
     "output_type": "display_data"
    },
    {
     "data": {
      "text/plain": [
       "\"11. ['1С Документооборот', '1С Континент', 'HTTP', 'Web', 'Бсп', 'Кд', 'Планы Обмена', 'Скд']\""
      ]
     },
     "metadata": {},
     "output_type": "display_data"
    },
    {
     "data": {
      "text/plain": [
       "\"12. ['Анализировать И Визуализировать Данные В Табличном И Графическом Виде', 'Базовые Знания Sql', 'Владение Разговорным Английским Языком', 'Высшее Образование В Области Аналитики', 'Критическое Мышление И Внимание К Деталям', 'Математики Или Смежных Дисциплин', 'Навыки Работы С Большими Объемами Данных', 'Понимание Ключевых Маркетинговых Метрик И Методов Их Расчета', 'Сложные Формулы', 'Уверенное Владение Excel Сводные Таблицы', 'Умение Обрабатывать', 'Экономики']\""
      ]
     },
     "metadata": {},
     "output_type": "display_data"
    },
    {
     "data": {
      "text/plain": [
       "\"13. ['Arp', 'DHCP', 'DNS', 'ELK', 'Http/Https', 'Irpсистемы', 'Kuma', 'Mp', 'Siemплатформы Qradar', 'Siemсистемы', 'TCP/IP', 'Аналитика Событий', 'Антивирусы', 'Компьютерные Атаки', 'Межсетевые Экраны', 'Проксисерверы', 'Реагирование На Инциденты', 'Сетевая Модель Osi', 'Сценарии Их Реализации']\""
      ]
     },
     "metadata": {},
     "output_type": "display_data"
    },
    {
     "data": {
      "text/plain": [
       "\"14. ['Competitive Analysis', 'Data Analysis', 'Data Visualization Software', 'Market Research', 'Microsoft Office Suite Excel', 'Powerpoint', 'Presentation Development']\""
      ]
     },
     "metadata": {},
     "output_type": "display_data"
    },
    {
     "data": {
      "text/plain": [
       "\"15. ['Join', 'Mapping', 'S2T', 'Select', 'Sql Написание Простых Запросов', 'Впр', 'Знания О Структуре И Архитектуре Dwh Data Vault', 'Оконные Функции', 'Пми', 'Постановки', 'Работа С Bi Системами/Разработка Дашбордов Форсайт', 'Работа С Excel Сводные Таблицы', 'Разработка Документации Бфт', 'Сбор И Документирование Требований']\""
      ]
     },
     "metadata": {},
     "output_type": "display_data"
    },
    {
     "data": {
      "text/plain": [
       "\"16. ['Ms Office Excel', 'Outlook', 'Powerpoint', 'Word', 'Взаимодействие Со Сторонними Организациями', 'Медицинские Информационные Системы']\""
      ]
     },
     "metadata": {},
     "output_type": "display_data"
    },
    {
     "data": {
      "text/plain": [
       "\"17. ['DHCP', 'DNS', 'Dlp', 'Ids/Ips', 'Nat', 'SSL', 'TLS', 'VPN', 'Vlan', 'Алгоритмов', 'Анализ Инцидентов', 'Знание Законодательных И Нормативных Правовых Актов', 'Знание Криптографических Методов', 'Знание Протоколов Ssh', 'Знание Способов Реализации Угроз Безопасности В Автоматизированных Систем', 'Знания В Области Сетевых Технологий Tcp/Ip', 'Используемых Для Обеспечения Безопасности В Вычислительных Сетях', 'Криптографии', 'Методических Материалов По Вопросам Защиты Информации', 'Опыт Настройки Защищенных Каналов Связи', 'Опыт Настройки И Администрирования Межсетевых Экранов', 'Порядка Обращения С Информацией Ограниченного Доступа И Сведениями', 'Программноаппаратных Средств Обеспечения Защиты Информации Автоматизированных Систем', 'Протоколов', 'Расследование Инцидентов Иб', 'Составляющими Государственную Тайну', 'Средств Антивирусной Защиты', 'Умение Анализировать Ipпакеты', 'Умение Анализировать Siemсистемы', 'Умение Работать Со Сканерами Уязвимостей', 'Устранение Уязвимостей']\""
      ]
     },
     "metadata": {},
     "output_type": "display_data"
    },
    {
     "data": {
      "text/plain": [
       "\"18. ['Linuxсистемы', 'Администрирование Postgresql', 'Инструменты Мониторинга И Резервного Копирования', 'Кластеризация Postgresql', 'Оптимизация Sqlзапросов']\""
      ]
     },
     "metadata": {},
     "output_type": "display_data"
    },
    {
     "data": {
      "text/plain": [
       "\"19. ['1С Кип', 'Allure', 'Docker', 'Grafana', 'Jenkins', 'Kubernetes', 'Kvmqemu', 'Nginx', 'Prometheus', 'Python', 'Sh', 'Sonarqube', 'VMware', 'Администрирование Ос Linux', 'Администрирование Серверов 1С', 'Администрирование Субд Postgres Pro Enterprise', 'Построение/Сопровождение Линии Ci/Cd Gitlab', 'Развертывание И Поддержка Webсервера Apache', 'Системы Мониторинга Zabbix', 'Скриптовые Языки Bash', 'Технологии Виртуализации/Контейнеризации Hyperv', 'Фреймворк Vanessa']\""
      ]
     },
     "metadata": {},
     "output_type": "display_data"
    },
    {
     "data": {
      "text/plain": [
       "\"20. ['Ansible И Его Экосистема', 'Aws', 'Azure', 'Ci/Cd На Базе Gitlabci', 'Cisco', 'English', 'Enterprise Системы Ibm', 'Gcp', 'Go', 'Hp', 'Huawei', 'Juniper', 'K8S И Helm Chart', 'Lua', 'Microsoft', 'Openstack', 'Oracle', 'Prometheus', 'Sap', 'Администрирование Linuxсерверов И Сетей', 'Контейнеры Docker', 'Методология Devsecops', 'Нагрузочное Тестирование Artilleryio', 'Написание Скриптов На Python/Bash', 'Облака Яндекс', 'Проектирование Архитектуры Приложения', 'Сбер', 'Системы Мониторинга Zabbix', 'Управление Инфраструктурой Через Код']\""
      ]
     },
     "metadata": {},
     "output_type": "display_data"
    },
    {
     "data": {
      "text/plain": [
       "\"21. ['Администрирование Операционной Системы Linux', 'Администрирование Операционной Системы Windows Server', 'Информационные Технологические Системы', 'Программирование На Языках Высокого Уровня', 'Работа С Базами Данных Sql', 'Сетевое Администрирование', 'Системы Асутп', 'Системы Учета Энергоресурсов']\""
      ]
     },
     "metadata": {},
     "output_type": "display_data"
    },
    {
     "data": {
      "text/plain": [
       "\"22. ['Аналитическая Работа', 'Взаимодействие С Аудиторами И Регуляторами', 'Разработка Нормативных Документов', 'Составление Отчетности', 'Управление Проектами']\""
      ]
     },
     "metadata": {},
     "output_type": "display_data"
    },
    {
     "data": {
      "text/plain": [
       "\"23. ['Автоматизация Процессов', 'Документация И Обучение', 'Мониторинг Систем И Компонентов', 'Обеспечение Безопасности', 'Поддержка Работоспособности', 'Проведение Регулярных Аудитов Безопасности', 'Проектирование И Выстраивание Инфраструктуры']\""
      ]
     },
     "metadata": {},
     "output_type": "display_data"
    },
    {
     "data": {
      "text/plain": [
       "\"24. ['Выполнение Требований Нормативных Актов В Области Радиационной Безопасности', 'Изучение Нормативнометодических Документов', 'Организация Взаимодействия С Заказчиками', 'Организация Материального Учета', 'Организация Оформления Результатов Работ', 'Организация Проведения Аттестаций Объектов Информации', 'Организация Проведения Лабораторных И Объектовых Сп', 'Организация Проведения Метрологических Работ', 'Организация Соблюдения Режима Секретности', 'Си И Со']\""
      ]
     },
     "metadata": {},
     "output_type": "display_data"
    },
    {
     "data": {
      "text/plain": [
       "\"25. ['Архивное Дело', 'Государственная Тайна', 'Делопроизводство', 'Документооборот', 'Номенклатура Дел', 'Режим Секретности', 'Техническая Защита Информации']\""
      ]
     },
     "metadata": {},
     "output_type": "display_data"
    },
    {
     "data": {
      "text/plain": [
       "\"26. ['Edr', 'English', 'Excel', 'Internet И Браузеры', 'Ms Office Word', 'Outlook', 'Power Point', 'Pt И Др', 'Rvision', 'Siemсистемы Kaspersky', 'Soar', 'Windows/Linux', 'Журналы И События Безопасности', 'Миниатс', 'Мфу', 'Оргтехника Факс', 'Системы Электронного Документооборота', 'Сканер']\""
      ]
     },
     "metadata": {},
     "output_type": "display_data"
    },
    {
     "data": {
      "text/plain": [
       "\"27. ['Docker', 'Docker И Др', 'Grafana', 'Hyperv', 'Jenkins И Тд', 'PostgreSQL', 'Prometheus', 'Redis', 'Xen И Контейнеризация Docker', 'Zabbix', 'Автоматизация Под Linux И Windows', 'Администрирование И Траблшутинг Linux/Unix', 'Администрирование И Траблшутинг Nginx', 'Виртуализация Kvm', 'Конфигурация И Диагностика Сетевых Подсистем В Распространенных Ос Общего Назначения', 'Навыки Развертывания И Настройки Решений Ci Gitlab Ci/Cd', 'Настройка', 'Понимание Принципа Infrastructure As A Code', 'Разработка Gitlab Пайплайнов', 'Разработка Автоматизации Процессов С Применением Bash/Python/Powershell', 'Разработка Технической Документации', 'Системы Оркестрации Dockercompose', 'Стек Elk И Др']\""
      ]
     },
     "metadata": {},
     "output_type": "display_data"
    },
    {
     "data": {
      "text/plain": [
       "\"28. ['Администрирование Операционных Систем Семейства Linux', 'Микросервисная Архитектура', 'Оптимизация Вычислительных Ресурсов', 'Создание И Администрирование Микросервисов Платформ']\""
      ]
     },
     "metadata": {},
     "output_type": "display_data"
    },
    {
     "data": {
      "text/plain": [
       "\"29. ['Администрирование Linux', 'Анализ Причин Возникновения Ошибок', 'Воспроизведение Ошибок Пользователей', 'Консультирование Пользователей По Работе Ис', 'Настройка Информационных Систем', 'Подготовка Инструкций', 'Помощь В Тестировании', 'Постановка Задач На Исправление', 'Развитие И Поддержка Программноопределяемой Инфраструктуры Приложений', 'Сопровождение И Поддержка Разрабатываемых Систем', 'Субд']\""
      ]
     },
     "metadata": {},
     "output_type": "display_data"
    },
    {
     "data": {
      "text/plain": [
       "\"30. ['Администрирование И Настройка Линейки По Microsoft Windows И Linux', 'Антивирусное Программное Обеспечение', 'Ведение', 'Контроль И Поддержание В Актуальном Состоянии Орд', 'Методические И Руководящие Документы В Области Защиты Информации', 'Нормативные Правовые Акты', 'Постановление Правительства Рф От 08022018 N 127', 'Приказ Фстэк России От 21122017 N 235', 'Приказ Фстэк России От 25122017 N 239', 'Разработка', 'Специализированное По В Области Защиты Объектов Кии', 'Средства Анализа Уязвимостей По', 'Средства Защиты Каналов Связи И Межсетевого Экранирования', 'Средства Мониторинга Событий И Регистрации Инцидентов Иб', 'Средства Резервного Копирования', 'Указ Президента Рф От 01052022 N 250', 'Федеральный Закон От 26072017 N 187Фз']\""
      ]
     },
     "metadata": {},
     "output_type": "display_data"
    },
    {
     "data": {
      "text/plain": [
       "\"31. ['Dlp', 'Idm', 'Ngfw', 'Siem', 'Vulnerability Scanners', 'Waf', 'Внедрение И Практическое Применение Систем И Средств Обеспечения Кибербезопасности', 'Знание Основных Вендоров Сзи', 'Знание Основных Требований По Иб Федерального Законодательства', 'Международных И Российских Стандартов', 'Навыки Разработки Внд По Кибербезопасности', 'Навыки Расследования Инцидентов По Предоставлению Услуг Информационной Безопасности', 'Нормативных Актов Государственных Регуляторов', 'Принципы Работы Основных Сзи Ips', 'Скзи']\""
      ]
     },
     "metadata": {},
     "output_type": "display_data"
    },
    {
     "data": {
      "text/plain": [
       "\"32. ['Анализ Складских Запасов', 'Аналитика Данных', 'Мониторинг Цен Поставщиков', 'Прогнозирование Спроса', 'Расчет Коммерческих Показателей', 'Составление Товарных Матриц', 'Управление Складскими Остатками', 'Управление Цепочкой Поставок', 'Ценообразование']\""
      ]
     },
     "metadata": {},
     "output_type": "display_data"
    },
    {
     "data": {
      "text/plain": [
       "\"33. ['Высокий Уровень Самоорганизации', 'Инструкций', 'Интерес К Современным Технологиям', 'Написание Тз', 'Нацеленность На Результат', 'Описание И Проектирование Бизнеспроцессов', 'Сбор Информации', 'Требований']\""
      ]
     },
     "metadata": {},
     "output_type": "display_data"
    },
    {
     "data": {
      "text/plain": [
       "\"34. ['B2B Продажи', 'Активные Продажи', 'Грамотная Речь', 'Деловая Коммуникация', 'Деловая Переписка', 'Деловое Общение', 'Заключение Договоров', 'Навыки Продаж', 'Организаторские Навыки', 'Планирование Продаж', 'Пользователь Пк', 'Работа В Команде', 'Работа С Дебиторской Задолженностью', 'Работа С Текущей Базой Клиентов', 'Развитие Продаж', 'Телефонные Переговоры']\""
      ]
     },
     "metadata": {},
     "output_type": "display_data"
    },
    {
     "data": {
      "text/plain": [
       "\"35. ['1С Предприятие 83', '1С Управление Торговлей', 'Scrum', 'Waterfall', 'Интеграция 1С С Внешними Системами Crm', 'Маркетплейсы', 'Методологии Управления Проектами Agile', 'Электронная Отчётность']\""
      ]
     },
     "metadata": {},
     "output_type": "display_data"
    },
    {
     "data": {
      "text/plain": [
       "\"36. ['Excel', 'Powerpoint И Тд', 'Visio', 'Аналитический Подход К Работе', 'Глубокие Знания Законодательства В Области Гражданского И Арбитражного Процесса', 'Инициативность', 'Навыки Ведения Деловой Переписки И Переговоров', 'Оutlook', 'Опытный Пользователь Программ Microsoft Office Word', 'Организаторские Способности', 'Стрессоустойчивость']\""
      ]
     },
     "metadata": {},
     "output_type": "display_data"
    },
    {
     "data": {
      "text/plain": [
       "\"37. ['Нормализация Технических Справочников', 'Разработка Бизнеспроцессов']\""
      ]
     },
     "metadata": {},
     "output_type": "display_data"
    },
    {
     "data": {
      "text/plain": [
       "\"38. ['1Сerp', '1Сдо 30', '1Сзуп', 'Бухгалтерский Учет', 'Бюджетирование', 'Внимательность', 'Грамотная Речь', 'Закупки И Продажи', 'Кадровый Учет', 'Коммуникативные Навыки', 'Логическое Мышление', 'Обучаемость', 'Ответственность', 'Производственный Учет', 'Расчет Заработной Платы']\""
      ]
     },
     "metadata": {},
     "output_type": "display_data"
    },
    {
     "data": {
      "text/plain": [
       "\"39. ['Коммуникация С Клиентом', 'Обработка Входящих Клиентских Заявок', 'Подготовка Документов', 'Проведение Встреч', 'Продажи', 'Реализация Bpmnпроцессов', 'Реализация Проектов Внедрения Amocrm', 'Сбор Требований', 'Составление Тз На Внедрение И Настройка Системы']\""
      ]
     },
     "metadata": {},
     "output_type": "display_data"
    },
    {
     "data": {
      "text/plain": [
       "\"40. ['Аналитический Склад Ума И Интерес К It', 'Внимательность И Умение Разбираться В Деталях', 'Коммуникабельность И Вежливость', 'Способность Быстро Осваивать Новое', 'Уверенное Владение Пк']\""
      ]
     },
     "metadata": {},
     "output_type": "display_data"
    },
    {
     "data": {
      "text/plain": [
       "\"41. ['Анализ И Исправление Ошибок В Базах Данных', 'Консультирование Клиентов По 1Спредприятие', 'Настройка Функционала Системы']\""
      ]
     },
     "metadata": {},
     "output_type": "display_data"
    },
    {
     "data": {
      "text/plain": [
       "\"42. ['Анализ Оптимальности Технологических Процессов Склада', 'Контроль Соблюдения Технологических Инструкций', 'Настройка Системы Управления Складом', 'Предложения По Оптимизации Процессов', 'Разработка И Согласование Документов', 'Разработка Схем И Методов Контроля Складской Логистики', 'Уверенный Пользователь Пк']\""
      ]
     },
     "metadata": {},
     "output_type": "display_data"
    },
    {
     "data": {
      "text/plain": [
       "\"43. ['Crmсистемы', 'Google Docs', 'Ipтелефония', 'Zoom', 'Автоматизация И Интеграция Сервисов', 'Бережливое Производство', 'Методология Smart', 'Почтовые Сервисы']\""
      ]
     },
     "metadata": {},
     "output_type": "display_data"
    },
    {
     "data": {
      "text/plain": [
       "\"44. ['Диспетчеризация Обращений', 'Консультации По Программным Продуктам 1С', 'Понимание Системы 1Спредприятие', 'Работа Во Внутренних Системах Учета', 'Работа С Клиентами', 'Работа С Первичными Документами']\""
      ]
     },
     "metadata": {},
     "output_type": "display_data"
    },
    {
     "data": {
      "text/plain": [
       "\"45. ['Excel Сводные Таблицы', 'Формула Если', 'Функция Впр']\""
      ]
     },
     "metadata": {},
     "output_type": "display_data"
    },
    {
     "data": {
      "text/plain": [
       "\"46. ['Диспетчеризация Обращений', 'Консультации По Программным Продуктам 1С', 'Понимание Системы 1С Предприятие', 'Работа Во Внутренних Системах Учета', 'Работа С Клиентами', 'Работа С Первичными Документами']\""
      ]
     },
     "metadata": {},
     "output_type": "display_data"
    },
    {
     "data": {
      "text/plain": [
       "\"47. ['1С Erp', 'Ка И Др', 'Ут']\""
      ]
     },
     "metadata": {},
     "output_type": "display_data"
    },
    {
     "data": {
      "text/plain": [
       "\"48. ['Глубокое Знание Стандарта Сети Консультантплюс', 'Опыт Работы С Системой Обслуживания Клиентов Консультантплюс', 'Понимание Работы С Базами Данных', 'Уверенные Навыки Работы С Microsoft Word И Excel']\""
      ]
     },
     "metadata": {},
     "output_type": "display_data"
    },
    {
     "data": {
      "text/plain": [
       "\"49. ['Excel Сводные Таблицы', 'Аналитический Ум', 'Логические Формулы', 'Ориентация На Результат', 'Самостоятельность']\""
      ]
     },
     "metadata": {},
     "output_type": "display_data"
    },
    {
     "data": {
      "text/plain": [
       "\"50. ['1С Erp', 'Анализ Бизнестребований', 'Заказы', 'Клиентский Сервис', 'Коммуникация По Проекту', 'Логистика Отгрузки', 'Описание Процессов', 'Подготовка Инструкций Пользователям', 'Подготовка Тз', 'Подсистемы Управления Продажами', 'Работа С Командой И Заказчиками', 'Тестирование И Приемка Системы', 'Ут']\""
      ]
     },
     "metadata": {},
     "output_type": "display_data"
    }
   ],
   "source": [
    "filtered_df = df_train_result[\n",
    "    df_train_result['main_categories'].apply(lambda x: 'no_category' in x)\n",
    "]\n",
    "\n",
    "# Выводим первые 50 строк (или все, если меньше 50)\n",
    "result = filtered_df['skills_normalized'].head(50)\n",
    "\n",
    "# Печатаем результат\n",
    "for i, skills in enumerate(result, 1):\n",
    "    display(f\"{i}. {skills}\")"
   ]
  },
  {
   "cell_type": "code",
   "execution_count": 49,
   "id": "2b79e1ed",
   "metadata": {},
   "outputs": [],
   "source": [
    "# Уберем то что не распозналось в наши категории\n",
    "df_train_result = df_train_result[df_train_result['main_category'] != 'no_category']"
   ]
  },
  {
   "cell_type": "code",
   "execution_count": 50,
   "id": "c90682b1",
   "metadata": {},
   "outputs": [
    {
     "name": "stdout",
     "output_type": "stream",
     "text": [
      "<class 'pandas.core.frame.DataFrame'>\n",
      "Index: 12256 entries, 0 to 14973\n",
      "Data columns (total 15 columns):\n",
      " #   Column             Non-Null Count  Dtype  \n",
      "---  ------             --------------  -----  \n",
      " 0   salary from        12256 non-null  float64\n",
      " 1   salary to          12256 non-null  float64\n",
      " 2   position           12256 non-null  object \n",
      " 3   experience         12256 non-null  object \n",
      " 4   skills             12256 non-null  object \n",
      " 5   schedule           12256 non-null  object \n",
      " 6   employment         12256 non-null  object \n",
      " 7   vacancy            12256 non-null  object \n",
      " 8   level              12256 non-null  object \n",
      " 9   region             12256 non-null  object \n",
      " 10  skills_ok          12256 non-null  object \n",
      " 11  skills_normalized  12256 non-null  object \n",
      " 12  skills_count       12256 non-null  int64  \n",
      " 13  main_categories    12256 non-null  object \n",
      " 14  main_category      12256 non-null  object \n",
      "dtypes: float64(2), int64(1), object(12)\n",
      "memory usage: 1.5+ MB\n"
     ]
    }
   ],
   "source": [
    "df_train_result.info()"
   ]
  },
  {
   "cell_type": "code",
   "execution_count": 51,
   "id": "108c089c",
   "metadata": {},
   "outputs": [],
   "source": [
    "# 1. Создаем копию текущего столбца position в новый столбец position_hh\n",
    "df_train_result['position_hh'] = df_train_result['position'].copy()\n",
    "\n",
    "# 2. Заменяем значения в столбце position на значения из main_category\n",
    "df_train_result['position'] = df_train_result['main_category']"
   ]
  },
  {
   "cell_type": "code",
   "execution_count": 52,
   "id": "349d6be8",
   "metadata": {},
   "outputs": [],
   "source": [
    "mask = df_train_result['region'].value_counts() >= 50 # 100\n",
    "df_train_result = df_train_result[df_train_result['region'].isin(mask[mask].index)]"
   ]
  },
  {
   "cell_type": "code",
   "execution_count": 53,
   "id": "75e4adcc",
   "metadata": {},
   "outputs": [
    {
     "data": {
      "text/plain": [
       "region\n",
       "Москва                     4105\n",
       "Санкт-Петербург            1674\n",
       "Свердловская область        449\n",
       "Краснодарский край          424\n",
       "Республика Татарстан        409\n",
       "Новосибирская область       359\n",
       "Московская область          298\n",
       "Нижегородская область       296\n",
       "Ростовская область          286\n",
       "Воронежская область         254\n",
       "Челябинская область         199\n",
       "Самарская область           196\n",
       "Пермский край               172\n",
       "Красноярский край           166\n",
       "Приморский край             166\n",
       "Башкортостан                162\n",
       "Ярославская область         158\n",
       "Волгоградская область       134\n",
       "Тульская область            113\n",
       "Томская область             104\n",
       "Тюменская область           102\n",
       "Омская область               99\n",
       "Алтайский край               90\n",
       "Иркутская область            86\n",
       "Рязанская область            84\n",
       "Саратовская область          84\n",
       "Чувашская Республика         84\n",
       "Удмуртская Республика        83\n",
       "Хабаровский край             82\n",
       "Калининградская область      79\n",
       "Республика Крым              74\n",
       "Кемеровская область          73\n",
       "Кировская область            67\n",
       "Белгородская область         65\n",
       "Ставропольский край          61\n",
       "Владимирская область         60\n",
       "Ивановская область           58\n",
       "Пензенская область           52\n",
       "Name: count, dtype: int64"
      ]
     },
     "execution_count": 53,
     "metadata": {},
     "output_type": "execute_result"
    }
   ],
   "source": [
    "df_train_result['region'].value_counts()"
   ]
  },
  {
   "cell_type": "code",
   "execution_count": 54,
   "id": "cb924d98",
   "metadata": {},
   "outputs": [],
   "source": [
    "def filtered_skills_top_n(df_train_result, n):\n",
    "    \"\"\"\n",
    "    Фильтрует навыки, оставляя только N наиболее популярных навыков для каждой позиции.\n",
    "    \n",
    "    :param df_skills_filtered: Входящий DataFrame с колонками 'position' и 'skills'.\n",
    "    :param n: Число наиболее популярных навыков, которое нужно оставить.\n",
    "    :return: Отфильтрованный DataFrame с сокращённым списком навыков.\n",
    "    \"\"\"\n",
    "    \n",
    "    result_df = df_train_result.copy()\n",
    "    #display(result_df['skills'])\n",
    "    # Перебираем каждую уникальную должность\n",
    "    for pos in result_df['position_hh'].unique():\n",
    "        # Маска для выбора строк с нужной должностью\n",
    "        mask = result_df['position_hh'] == pos\n",
    "        \n",
    "        # Собираем все навыки в один большой список\n",
    "        skills_lists = result_df.loc[mask, 'skills_normalized']\n",
    "        all_skills = [skill for sublist in skills_lists for skill in sublist]\n",
    "        \n",
    "        # Считаем частоту появления каждого навыка\n",
    "        skill_counts = Counter(all_skills)\n",
    "        \n",
    "        # Берём топ-n навыков\n",
    "        top_n_skills = set([skill for skill, _ in skill_counts.most_common(n)])\n",
    "        \n",
    "        # Применяем фильтр к списку навыков\n",
    "        result_df.loc[mask, 'skills_normalized'] = skills_lists.apply(\n",
    "            lambda skill_list: [s for s in skill_list if s in top_n_skills]\n",
    "        )\n",
    "        #display(result_df['skills'])\n",
    "    return result_df"
   ]
  },
  {
   "cell_type": "code",
   "execution_count": 55,
   "id": "949ebfb2",
   "metadata": {},
   "outputs": [],
   "source": [
    "from scipy.stats import normaltest\n",
    "\n",
    "# Функция очистки и нормализации\n",
    "def process_series(series, colname, position):\n",
    "    series = pd.to_numeric(series, errors='coerce')\n",
    "    series = series.dropna()\n",
    "    n_total = len(series)\n",
    "\n",
    "\n",
    "    stat, p = normaltest(series)\n",
    "    is_normal = p > 0.05\n",
    "\n",
    "    if is_normal:\n",
    "        mu, sigma = series.mean(), series.std()\n",
    "        mask = (series >= mu - 3 * sigma) & (series <= mu + 3 * sigma)\n",
    "    else:\n",
    "        q1 = series.quantile(0.25)\n",
    "        q3 = series.quantile(0.75)\n",
    "        iqr = q3 - q1\n",
    "        mask = (series >= q1 - 1.5 * iqr) & (series <= q3 + 1.5 * iqr)\n",
    "\n",
    "    n_filtered = mask.sum()\n",
    "    n_removed = n_total - n_filtered\n",
    "\n",
    "\n",
    "    return series[mask]"
   ]
  },
  {
   "cell_type": "code",
   "execution_count": null,
   "id": "5d6d86f1",
   "metadata": {},
   "outputs": [
    {
     "name": "stderr",
     "output_type": "stream",
     "text": [
      "Top-N Skills:   0%|          | 0/5 [00:00<?, ?it/s]"
     ]
    },
    {
     "data": {
      "text/plain": [
       "' Взяли 30 скилов . Осталось 9328 cтрок в df. Всего уникальных 543'"
      ]
     },
     "metadata": {},
     "output_type": "display_data"
    },
    {
     "name": "stderr",
     "output_type": "stream",
     "text": [
      "C:\\Users\\Андрей\\AppData\\Local\\Temp\\ipykernel_5292\\3889623745.py:31: FutureWarning: DataFrameGroupBy.apply operated on the grouping columns. This behavior is deprecated, and in a future version of pandas the grouping columns will be excluded from the operation. Either pass `include_groups=False` to exclude the groupings or explicitly select the grouping columns after groupby to silence this warning.\n",
      "  df_filtered = df_skills_filtered.groupby('position', group_keys=False).apply(filter_top_vacancies).reset_index(drop=True)\n"
     ]
    },
    {
     "data": {
      "text/plain": [
       "' Взяли 50 вакансий . Осталось 5143 cтрок в df'"
      ]
     },
     "metadata": {},
     "output_type": "display_data"
    },
    {
     "data": {
      "text/plain": [
       "'После исключения позиций с < 100 строк осталось 4973 строк и 23 позиций'"
      ]
     },
     "metadata": {},
     "output_type": "display_data"
    },
    {
     "name": "stderr",
     "output_type": "stream",
     "text": [
      "C:\\Users\\Андрей\\AppData\\Local\\Temp\\ipykernel_5292\\3889623745.py:31: FutureWarning: DataFrameGroupBy.apply operated on the grouping columns. This behavior is deprecated, and in a future version of pandas the grouping columns will be excluded from the operation. Either pass `include_groups=False` to exclude the groupings or explicitly select the grouping columns after groupby to silence this warning.\n",
      "  df_filtered = df_skills_filtered.groupby('position', group_keys=False).apply(filter_top_vacancies).reset_index(drop=True)\n"
     ]
    },
    {
     "data": {
      "text/plain": [
       "' Взяли 70 вакансий . Осталось 5573 cтрок в df'"
      ]
     },
     "metadata": {},
     "output_type": "display_data"
    },
    {
     "data": {
      "text/plain": [
       "'После исключения позиций с < 100 строк осталось 5403 строк и 23 позиций'"
      ]
     },
     "metadata": {},
     "output_type": "display_data"
    },
    {
     "name": "stderr",
     "output_type": "stream",
     "text": [
      "C:\\Users\\Андрей\\AppData\\Local\\Temp\\ipykernel_5292\\3889623745.py:31: FutureWarning: DataFrameGroupBy.apply operated on the grouping columns. This behavior is deprecated, and in a future version of pandas the grouping columns will be excluded from the operation. Either pass `include_groups=False` to exclude the groupings or explicitly select the grouping columns after groupby to silence this warning.\n",
      "  df_filtered = df_skills_filtered.groupby('position', group_keys=False).apply(filter_top_vacancies).reset_index(drop=True)\n"
     ]
    },
    {
     "data": {
      "text/plain": [
       "' Взяли 100 вакансий . Осталось 5980 cтрок в df'"
      ]
     },
     "metadata": {},
     "output_type": "display_data"
    },
    {
     "data": {
      "text/plain": [
       "'После исключения позиций с < 100 строк осталось 5810 строк и 23 позиций'"
      ]
     },
     "metadata": {},
     "output_type": "display_data"
    },
    {
     "name": "stderr",
     "output_type": "stream",
     "text": [
      "Top-N Skills:  20%|██        | 1/5 [02:15<09:01, 135.27s/it]"
     ]
    },
    {
     "data": {
      "text/plain": [
       "' Взяли 50 скилов . Осталось 9917 cтрок в df. Всего уникальных 919'"
      ]
     },
     "metadata": {},
     "output_type": "display_data"
    },
    {
     "name": "stderr",
     "output_type": "stream",
     "text": [
      "C:\\Users\\Андрей\\AppData\\Local\\Temp\\ipykernel_5292\\3889623745.py:31: FutureWarning: DataFrameGroupBy.apply operated on the grouping columns. This behavior is deprecated, and in a future version of pandas the grouping columns will be excluded from the operation. Either pass `include_groups=False` to exclude the groupings or explicitly select the grouping columns after groupby to silence this warning.\n",
      "  df_filtered = df_skills_filtered.groupby('position', group_keys=False).apply(filter_top_vacancies).reset_index(drop=True)\n"
     ]
    },
    {
     "data": {
      "text/plain": [
       "' Взяли 50 вакансий . Осталось 5376 cтрок в df'"
      ]
     },
     "metadata": {},
     "output_type": "display_data"
    },
    {
     "data": {
      "text/plain": [
       "'После исключения позиций с < 100 строк осталось 5189 строк и 23 позиций'"
      ]
     },
     "metadata": {},
     "output_type": "display_data"
    },
    {
     "name": "stderr",
     "output_type": "stream",
     "text": [
      "C:\\Users\\Андрей\\AppData\\Local\\Temp\\ipykernel_5292\\3889623745.py:31: FutureWarning: DataFrameGroupBy.apply operated on the grouping columns. This behavior is deprecated, and in a future version of pandas the grouping columns will be excluded from the operation. Either pass `include_groups=False` to exclude the groupings or explicitly select the grouping columns after groupby to silence this warning.\n",
      "  df_filtered = df_skills_filtered.groupby('position', group_keys=False).apply(filter_top_vacancies).reset_index(drop=True)\n"
     ]
    },
    {
     "data": {
      "text/plain": [
       "' Взяли 70 вакансий . Осталось 5834 cтрок в df'"
      ]
     },
     "metadata": {},
     "output_type": "display_data"
    },
    {
     "data": {
      "text/plain": [
       "'После исключения позиций с < 100 строк осталось 5647 строк и 23 позиций'"
      ]
     },
     "metadata": {},
     "output_type": "display_data"
    },
    {
     "name": "stderr",
     "output_type": "stream",
     "text": [
      "C:\\Users\\Андрей\\AppData\\Local\\Temp\\ipykernel_5292\\3889623745.py:31: FutureWarning: DataFrameGroupBy.apply operated on the grouping columns. This behavior is deprecated, and in a future version of pandas the grouping columns will be excluded from the operation. Either pass `include_groups=False` to exclude the groupings or explicitly select the grouping columns after groupby to silence this warning.\n",
      "  df_filtered = df_skills_filtered.groupby('position', group_keys=False).apply(filter_top_vacancies).reset_index(drop=True)\n"
     ]
    },
    {
     "data": {
      "text/plain": [
       "' Взяли 100 вакансий . Осталось 6261 cтрок в df'"
      ]
     },
     "metadata": {},
     "output_type": "display_data"
    },
    {
     "data": {
      "text/plain": [
       "'После исключения позиций с < 100 строк осталось 6074 строк и 23 позиций'"
      ]
     },
     "metadata": {},
     "output_type": "display_data"
    },
    {
     "name": "stderr",
     "output_type": "stream",
     "text": [
      "Top-N Skills:  40%|████      | 2/5 [04:44<07:09, 143.22s/it]"
     ]
    },
    {
     "data": {
      "text/plain": [
       "' Взяли 70 скилов . Осталось 10322 cтрок в df. Всего уникальных 1290'"
      ]
     },
     "metadata": {},
     "output_type": "display_data"
    },
    {
     "name": "stderr",
     "output_type": "stream",
     "text": [
      "C:\\Users\\Андрей\\AppData\\Local\\Temp\\ipykernel_5292\\3889623745.py:31: FutureWarning: DataFrameGroupBy.apply operated on the grouping columns. This behavior is deprecated, and in a future version of pandas the grouping columns will be excluded from the operation. Either pass `include_groups=False` to exclude the groupings or explicitly select the grouping columns after groupby to silence this warning.\n",
      "  df_filtered = df_skills_filtered.groupby('position', group_keys=False).apply(filter_top_vacancies).reset_index(drop=True)\n"
     ]
    },
    {
     "data": {
      "text/plain": [
       "' Взяли 50 вакансий . Осталось 5560 cтрок в df'"
      ]
     },
     "metadata": {},
     "output_type": "display_data"
    },
    {
     "data": {
      "text/plain": [
       "'После исключения позиций с < 100 строк осталось 5368 строк и 23 позиций'"
      ]
     },
     "metadata": {},
     "output_type": "display_data"
    },
    {
     "name": "stderr",
     "output_type": "stream",
     "text": [
      "C:\\Users\\Андрей\\AppData\\Local\\Temp\\ipykernel_5292\\3889623745.py:31: FutureWarning: DataFrameGroupBy.apply operated on the grouping columns. This behavior is deprecated, and in a future version of pandas the grouping columns will be excluded from the operation. Either pass `include_groups=False` to exclude the groupings or explicitly select the grouping columns after groupby to silence this warning.\n",
      "  df_filtered = df_skills_filtered.groupby('position', group_keys=False).apply(filter_top_vacancies).reset_index(drop=True)\n"
     ]
    },
    {
     "data": {
      "text/plain": [
       "' Взяли 70 вакансий . Осталось 6032 cтрок в df'"
      ]
     },
     "metadata": {},
     "output_type": "display_data"
    },
    {
     "data": {
      "text/plain": [
       "'После исключения позиций с < 100 строк осталось 5840 строк и 23 позиций'"
      ]
     },
     "metadata": {},
     "output_type": "display_data"
    },
    {
     "name": "stderr",
     "output_type": "stream",
     "text": [
      "C:\\Users\\Андрей\\AppData\\Local\\Temp\\ipykernel_5292\\3889623745.py:31: FutureWarning: DataFrameGroupBy.apply operated on the grouping columns. This behavior is deprecated, and in a future version of pandas the grouping columns will be excluded from the operation. Either pass `include_groups=False` to exclude the groupings or explicitly select the grouping columns after groupby to silence this warning.\n",
      "  df_filtered = df_skills_filtered.groupby('position', group_keys=False).apply(filter_top_vacancies).reset_index(drop=True)\n"
     ]
    },
    {
     "data": {
      "text/plain": [
       "' Взяли 100 вакансий . Осталось 6482 cтрок в df'"
      ]
     },
     "metadata": {},
     "output_type": "display_data"
    },
    {
     "data": {
      "text/plain": [
       "'После исключения позиций с < 100 строк осталось 6290 строк и 23 позиций'"
      ]
     },
     "metadata": {},
     "output_type": "display_data"
    },
    {
     "name": "stderr",
     "output_type": "stream",
     "text": [
      "Top-N Skills:  60%|██████    | 3/5 [07:32<05:09, 154.69s/it]"
     ]
    },
    {
     "data": {
      "text/plain": [
       "' Взяли 100 скилов . Осталось 10612 cтрок в df. Всего уникальных 1876'"
      ]
     },
     "metadata": {},
     "output_type": "display_data"
    },
    {
     "name": "stderr",
     "output_type": "stream",
     "text": [
      "C:\\Users\\Андрей\\AppData\\Local\\Temp\\ipykernel_5292\\3889623745.py:31: FutureWarning: DataFrameGroupBy.apply operated on the grouping columns. This behavior is deprecated, and in a future version of pandas the grouping columns will be excluded from the operation. Either pass `include_groups=False` to exclude the groupings or explicitly select the grouping columns after groupby to silence this warning.\n",
      "  df_filtered = df_skills_filtered.groupby('position', group_keys=False).apply(filter_top_vacancies).reset_index(drop=True)\n"
     ]
    },
    {
     "data": {
      "text/plain": [
       "' Взяли 50 вакансий . Осталось 5662 cтрок в df'"
      ]
     },
     "metadata": {},
     "output_type": "display_data"
    },
    {
     "data": {
      "text/plain": [
       "'После исключения позиций с < 100 строк осталось 5462 строк и 23 позиций'"
      ]
     },
     "metadata": {},
     "output_type": "display_data"
    },
    {
     "name": "stderr",
     "output_type": "stream",
     "text": [
      "C:\\Users\\Андрей\\AppData\\Local\\Temp\\ipykernel_5292\\3889623745.py:31: FutureWarning: DataFrameGroupBy.apply operated on the grouping columns. This behavior is deprecated, and in a future version of pandas the grouping columns will be excluded from the operation. Either pass `include_groups=False` to exclude the groupings or explicitly select the grouping columns after groupby to silence this warning.\n",
      "  df_filtered = df_skills_filtered.groupby('position', group_keys=False).apply(filter_top_vacancies).reset_index(drop=True)\n"
     ]
    },
    {
     "data": {
      "text/plain": [
       "' Взяли 70 вакансий . Осталось 6140 cтрок в df'"
      ]
     },
     "metadata": {},
     "output_type": "display_data"
    },
    {
     "data": {
      "text/plain": [
       "'После исключения позиций с < 100 строк осталось 5940 строк и 23 позиций'"
      ]
     },
     "metadata": {},
     "output_type": "display_data"
    },
    {
     "name": "stderr",
     "output_type": "stream",
     "text": [
      "C:\\Users\\Андрей\\AppData\\Local\\Temp\\ipykernel_5292\\3889623745.py:31: FutureWarning: DataFrameGroupBy.apply operated on the grouping columns. This behavior is deprecated, and in a future version of pandas the grouping columns will be excluded from the operation. Either pass `include_groups=False` to exclude the groupings or explicitly select the grouping columns after groupby to silence this warning.\n",
      "  df_filtered = df_skills_filtered.groupby('position', group_keys=False).apply(filter_top_vacancies).reset_index(drop=True)\n"
     ]
    },
    {
     "data": {
      "text/plain": [
       "' Взяли 100 вакансий . Осталось 6601 cтрок в df'"
      ]
     },
     "metadata": {},
     "output_type": "display_data"
    },
    {
     "data": {
      "text/plain": [
       "'После исключения позиций с < 100 строк осталось 6401 строк и 23 позиций'"
      ]
     },
     "metadata": {},
     "output_type": "display_data"
    },
    {
     "name": "stderr",
     "output_type": "stream",
     "text": [
      "Top-N Skills:  80%|████████  | 4/5 [10:21<02:40, 160.54s/it]"
     ]
    },
    {
     "data": {
      "text/plain": [
       "' Взяли 300 скилов . Осталось 11243 cтрок в df. Всего уникальных 5208'"
      ]
     },
     "metadata": {},
     "output_type": "display_data"
    },
    {
     "name": "stderr",
     "output_type": "stream",
     "text": [
      "C:\\Users\\Андрей\\AppData\\Local\\Temp\\ipykernel_5292\\3889623745.py:31: FutureWarning: DataFrameGroupBy.apply operated on the grouping columns. This behavior is deprecated, and in a future version of pandas the grouping columns will be excluded from the operation. Either pass `include_groups=False` to exclude the groupings or explicitly select the grouping columns after groupby to silence this warning.\n",
      "  df_filtered = df_skills_filtered.groupby('position', group_keys=False).apply(filter_top_vacancies).reset_index(drop=True)\n"
     ]
    },
    {
     "data": {
      "text/plain": [
       "' Взяли 50 вакансий . Осталось 5893 cтрок в df'"
      ]
     },
     "metadata": {},
     "output_type": "display_data"
    },
    {
     "data": {
      "text/plain": [
       "'После исключения позиций с < 100 строк осталось 5776 строк и 25 позиций'"
      ]
     },
     "metadata": {},
     "output_type": "display_data"
    },
    {
     "name": "stderr",
     "output_type": "stream",
     "text": [
      "C:\\Users\\Андрей\\AppData\\Local\\Temp\\ipykernel_5292\\3889623745.py:31: FutureWarning: DataFrameGroupBy.apply operated on the grouping columns. This behavior is deprecated, and in a future version of pandas the grouping columns will be excluded from the operation. Either pass `include_groups=False` to exclude the groupings or explicitly select the grouping columns after groupby to silence this warning.\n",
      "  df_filtered = df_skills_filtered.groupby('position', group_keys=False).apply(filter_top_vacancies).reset_index(drop=True)\n"
     ]
    },
    {
     "data": {
      "text/plain": [
       "' Взяли 70 вакансий . Осталось 6391 cтрок в df'"
      ]
     },
     "metadata": {},
     "output_type": "display_data"
    },
    {
     "data": {
      "text/plain": [
       "'После исключения позиций с < 100 строк осталось 6274 строк и 25 позиций'"
      ]
     },
     "metadata": {},
     "output_type": "display_data"
    },
    {
     "name": "stderr",
     "output_type": "stream",
     "text": [
      "C:\\Users\\Андрей\\AppData\\Local\\Temp\\ipykernel_5292\\3889623745.py:31: FutureWarning: DataFrameGroupBy.apply operated on the grouping columns. This behavior is deprecated, and in a future version of pandas the grouping columns will be excluded from the operation. Either pass `include_groups=False` to exclude the groupings or explicitly select the grouping columns after groupby to silence this warning.\n",
      "  df_filtered = df_skills_filtered.groupby('position', group_keys=False).apply(filter_top_vacancies).reset_index(drop=True)\n"
     ]
    },
    {
     "data": {
      "text/plain": [
       "' Взяли 100 вакансий . Осталось 6881 cтрок в df'"
      ]
     },
     "metadata": {},
     "output_type": "display_data"
    },
    {
     "data": {
      "text/plain": [
       "'После исключения позиций с < 100 строк осталось 6764 строк и 25 позиций'"
      ]
     },
     "metadata": {},
     "output_type": "display_data"
    },
    {
     "name": "stderr",
     "output_type": "stream",
     "text": [
      "Top-N Skills: 100%|██████████| 5/5 [13:37<00:00, 163.58s/it]\n"
     ]
    },
    {
     "data": {
      "image/png": "[encoded data removed]",
      "text/plain": [
       "<Figure size 1400x600 with 4 Axes>"
      ]
     },
     "metadata": {},
     "output_type": "display_data"
    },
    {
     "name": "stdout",
     "output_type": "stream",
     "text": [
      "Лучшее сочетание по MAE:\n",
      "Top Skills: 50.0, Top Vacancies: 50.0, MAE: 28006.17, R²: 0.60\n"
     ]
    }
   ],
   "source": [
    "# Случайный лес на CPU\n",
    "\n",
    "# Параметры\n",
    "top_skills_range = [ 30, 50, 70, 100, 300]\n",
    "top_vacancies_range = [50,70, 100] # 30, 40 , 50, 70,\n",
    "\n",
    "\n",
    "results = []\n",
    "\n",
    "for skill_n in tqdm(top_skills_range, desc=\"Top-N Skills\"):\n",
    "    df_skills_filtered = filtered_skills_top_n(df_train_result.copy(), skill_n)\n",
    "    #display(df_skills_filtered['skills'])\n",
    "    # Удаляем строки с пустыми списками skills\n",
    "    df_skills_filtered = df_skills_filtered[df_skills_filtered['skills_normalized'].apply(lambda x: len(x) > 0)]\n",
    "    \n",
    "\n",
    "    def flatten_skills(skills_series):\n",
    "        all_skills = []\n",
    "        for skill_list in skills_series:\n",
    "            if isinstance(skill_list, list):\n",
    "                all_skills.extend(skill_list)\n",
    "        return all_skills\n",
    "    #display(df_skills_filtered['skills'])\n",
    "    display(f\" Взяли {skill_n} скилов . Осталось {df_skills_filtered.shape[0]} cтрок в df. Всего уникальных {len(set(flatten_skills(df_skills_filtered['skills_normalized'])))}\" )\n",
    "    for vac_n in top_vacancies_range:\n",
    "        # Фильтрация вакансий по top-N внутри позиции\n",
    "        def filter_top_vacancies(group, n=vac_n):\n",
    "            vac_counts = group['vacancy'].value_counts()\n",
    "            top_vacancies = vac_counts.head(n).index.tolist()\n",
    "            #top_vacancies = vac_counts.index.tolist()\n",
    "            return group[group['vacancy'].isin(top_vacancies)]\n",
    "\n",
    "        df_filtered = df_skills_filtered.groupby('position', group_keys=False).apply(filter_top_vacancies).reset_index(drop=True)\n",
    "        display(f\" Взяли {vac_n} вакансий . Осталось {df_filtered.shape[0]} cтрок в df\")\n",
    "        \n",
    "        # Удаляем позиции с количеством строк < th\n",
    "        position_counts = df_filtered['position'].value_counts()\n",
    "        th = 50\n",
    "        valid_positions = position_counts[position_counts >= th].index.tolist() # 200\n",
    "\n",
    "        df_filtered = df_filtered[df_filtered['position'].isin(valid_positions)]\n",
    "\n",
    "        display(f\"После исключения позиций с < {th} строк осталось {df_filtered.shape[0]} строк и {len(valid_positions)} позиций\")\n",
    "\n",
    "        \n",
    "        \n",
    "        \n",
    "        # Обработка целевой переменной и признаков\n",
    "        df_temp = df_filtered.copy()\n",
    "        \n",
    "        \n",
    "        # Очистка целевой переменной от выбросов\n",
    "        positions_temp = df_temp['position'].dropna().unique()\n",
    "\n",
    "        for pos in positions_temp:\n",
    "            pos_mask = df_temp['position'] == pos\n",
    "            clean_series = process_series(df_temp.loc[pos_mask, 'salary from'], 'salary from', pos)\n",
    "            if clean_series is not None:\n",
    "                df_temp.loc[clean_series.index, 'salary from norm'] = clean_series\n",
    "\n",
    "        # Удалим строки с NaN после очистки\n",
    "        df_temp = df_temp.dropna(subset=['salary from norm'])\n",
    "        \n",
    "        \n",
    "        if df_temp.empty:\n",
    "            continue\n",
    "\n",
    "        # Целевая переменная после очистки\n",
    "        y = df_temp['salary from norm']\n",
    "        \n",
    "        \n",
    "        \n",
    "        if df_temp.empty:\n",
    "            continue\n",
    "\n",
    "        X = df_temp[['position', 'experience', 'schedule', 'employment', 'level', 'vacancy', 'skills', 'region']] # 'vacancy it',\n",
    "        #y = df_temp['log_salary']\n",
    "        #y = df_temp['salary from']\n",
    "\n",
    "        ohe = OneHotEncoder(handle_unknown='ignore', sparse_output=False)\n",
    "        mlb = MultiLabelBinarizer()\n",
    "\n",
    "        try:\n",
    "            X_ohe = ohe.fit_transform(X[['position', 'experience', 'schedule', 'employment' ,'vacancy', 'level', 'region']]) # , 'vacancy it',\n",
    "            X_mlb = mlb.fit_transform(X['skills'])\n",
    "        except Exception as e:\n",
    "            print(f\"Ошибка кодирования при skill_n={skill_n}, vac_n={vac_n}: {e}\")\n",
    "            continue\n",
    "\n",
    "        X_final = np.hstack([X_ohe, X_mlb])\n",
    "\n",
    "        try:\n",
    "            splitter = StratifiedShuffleSplit(n_splits=1, test_size=0.2, random_state=42)\n",
    "            for train_idx, test_idx in splitter.split(X_final, df_temp['position']):\n",
    "                X_train, X_test = X_final[train_idx], X_final[test_idx]\n",
    "                y_train, y_test = y.iloc[train_idx], y.iloc[test_idx]\n",
    "        except ValueError as e:\n",
    "            print(f\"Ошибка split при skill_n={skill_n}, vac_n={vac_n}: {e}\")\n",
    "            continue\n",
    "\n",
    "        rf_model = RandomForestRegressor(\n",
    "            n_estimators=500, max_depth=100, random_state=42, n_jobs=-1,\n",
    "            max_features='sqrt', min_samples_leaf=1, min_samples_split=2\n",
    "        )\n",
    "\n",
    "        rf_model.fit(X_train, y_train)\n",
    "        y_pred = rf_model.predict(X_test)\n",
    "        \n",
    "        \n",
    "        #y_pred = np.expm1(y_pred)\n",
    "        \n",
    "        #mae = mean_absolute_error(np.expm1(y_test), y_pred)\n",
    "        #r2 = r2_score(np.expm1(y_test),  y_pred)\n",
    "        \n",
    "        mae = mean_absolute_error(y_test, y_pred)\n",
    "        r2 = r2_score(y_test,  y_pred)\n",
    "\n",
    "        results.append({\n",
    "            'top_skills': skill_n,\n",
    "            'top_vacancies': vac_n,\n",
    "            'mae': mae,\n",
    "            'r2': r2,\n",
    "            'rows': len(df_temp)\n",
    "        })\n",
    "\n",
    "# Переводим результаты в DataFrame\n",
    "results_df = pd.DataFrame(results)\n",
    "\n",
    "# Визуализация результатов\n",
    "plt.figure(figsize=(14, 6))\n",
    "\n",
    "plt.subplot(1, 2, 1)\n",
    "pivot_mae = results_df.pivot(index='top_skills', columns='top_vacancies', values='mae')\n",
    "sns.heatmap(pivot_mae, annot=True, fmt=\".2f\", cmap=\"YlGnBu\")\n",
    "plt.title('MAE')\n",
    "plt.xlabel('Top-N вакансий')\n",
    "plt.ylabel('Top-N скиллов')\n",
    "\n",
    "plt.subplot(1, 2, 2)\n",
    "pivot_r2 = results_df.pivot(index='top_skills', columns='top_vacancies', values='r2')\n",
    "sns.heatmap(pivot_r2, annot=True, fmt=\".2f\", cmap=\"YlGnBu\")\n",
    "plt.title('R²')\n",
    "plt.xlabel('Top-N вакансий')\n",
    "plt.ylabel('Top-N скиллов')\n",
    "\n",
    "plt.tight_layout()\n",
    "plt.show()\n",
    "\n",
    "# Вывод лучшего сочетания\n",
    "best_row = results_df.sort_values(by='mae').iloc[0]\n",
    "print(f\"Лучшее сочетание по MAE:\\nTop Skills: {best_row['top_skills']}, \"\n",
    "      f\"Top Vacancies: {best_row['top_vacancies']}, \"\n",
    "      f\"MAE: {best_row['mae']:.2f}, R²: {best_row['r2']:.2f}\")\n"
   ]
  },
  {
   "cell_type": "markdown",
   "id": "fb62343b",
   "metadata": {},
   "source": [
    "1. вариант с Мэпингом от ОК . На входе вакансии , скилы , професии\n",
    "\n",
    "Лучшее сочетание по MAE:\n",
    "Top Skills: 20.0, Top Vacancies: 40.0, MAE: 27137.96, R²: 0.65"
   ]
  },
  {
   "cell_type": "code",
   "execution_count": null,
   "id": "09d199ea",
   "metadata": {},
   "outputs": [
    {
     "name": "stderr",
     "output_type": "stream",
     "text": [
      "Top-N Skills:   0%|          | 0/7 [00:00<?, ?it/s]"
     ]
    },
    {
     "data": {
      "text/plain": [
       "' Взяли 30 скилов . Осталось 8979 cтрок в df. Всего уникальных 358'"
      ]
     },
     "metadata": {},
     "output_type": "display_data"
    },
    {
     "name": "stderr",
     "output_type": "stream",
     "text": [
      "C:\\Users\\Андрей\\AppData\\Local\\Temp\\ipykernel_11772\\1502167267.py:35: FutureWarning: DataFrameGroupBy.apply operated on the grouping columns. This behavior is deprecated, and in a future version of pandas the grouping columns will be excluded from the operation. Either pass `include_groups=False` to exclude the groupings or explicitly select the grouping columns after groupby to silence this warning.\n",
      "  df_filtered = df_skills_filtered.groupby('position', group_keys=False).apply(filter_top_vacancies).reset_index(drop=True)\n"
     ]
    },
    {
     "data": {
      "text/plain": [
       "' Взяли 50 вакансий . Осталось 4811 cтрок в df'"
      ]
     },
     "metadata": {},
     "output_type": "display_data"
    },
    {
     "data": {
      "text/plain": [
       "'После исключения позиций с < 50 строк осталось 1510 строк и 2 позиций'"
      ]
     },
     "metadata": {},
     "output_type": "display_data"
    },
    {
     "name": "stdout",
     "output_type": "stream",
     "text": [
      "0:\tlearn: 51576.6061814\ttest: 54223.9236320\tbest: 54223.9236320 (0)\ttotal: 32.6ms\tremaining: 32.5s\n",
      "100:\tlearn: 29573.4456132\ttest: 34278.4899097\tbest: 34278.4899097 (100)\ttotal: 2.6s\tremaining: 23.1s\n",
      "200:\tlearn: 26898.0938255\ttest: 33554.3799437\tbest: 33554.3799437 (200)\ttotal: 4.68s\tremaining: 18.6s\n",
      "300:\tlearn: 25500.5249036\ttest: 33253.1084700\tbest: 33243.0131265 (298)\ttotal: 6.68s\tremaining: 15.5s\n",
      "400:\tlearn: 24844.1347830\ttest: 33202.4326820\tbest: 33195.9587511 (385)\ttotal: 8.59s\tremaining: 12.8s\n",
      "500:\tlearn: 24253.5298776\ttest: 33224.5792180\tbest: 33187.4421838 (462)\ttotal: 10.5s\tremaining: 10.4s\n",
      "600:\tlearn: 23902.6293436\ttest: 33230.1814230\tbest: 33187.4421838 (462)\ttotal: 12.4s\tremaining: 8.25s\n",
      "700:\tlearn: 23407.8694060\ttest: 33294.9737624\tbest: 33187.4421838 (462)\ttotal: 14.5s\tremaining: 6.2s\n",
      "800:\tlearn: 22760.2310824\ttest: 33359.9438978\tbest: 33187.4421838 (462)\ttotal: 16.7s\tremaining: 4.14s\n",
      "900:\tlearn: 22307.9615072\ttest: 33411.4758469\tbest: 33187.4421838 (462)\ttotal: 18.7s\tremaining: 2.06s\n",
      "999:\tlearn: 21958.5060283\ttest: 33518.8964019\tbest: 33187.4421838 (462)\ttotal: 20.7s\tremaining: 0us\n",
      "bestTest = 33187.44218\n",
      "bestIteration = 462\n",
      "Shrink model to first 463 iterations.\n"
     ]
    },
    {
     "name": "stderr",
     "output_type": "stream",
     "text": [
      "C:\\Users\\Андрей\\AppData\\Local\\Temp\\ipykernel_11772\\1502167267.py:35: FutureWarning: DataFrameGroupBy.apply operated on the grouping columns. This behavior is deprecated, and in a future version of pandas the grouping columns will be excluded from the operation. Either pass `include_groups=False` to exclude the groupings or explicitly select the grouping columns after groupby to silence this warning.\n",
      "  df_filtered = df_skills_filtered.groupby('position', group_keys=False).apply(filter_top_vacancies).reset_index(drop=True)\n"
     ]
    },
    {
     "data": {
      "text/plain": [
       "' Взяли 70 вакансий . Осталось 5210 cтрок в df'"
      ]
     },
     "metadata": {},
     "output_type": "display_data"
    },
    {
     "data": {
      "text/plain": [
       "'После исключения позиций с < 50 строк осталось 2190 строк и 3 позиций'"
      ]
     },
     "metadata": {},
     "output_type": "display_data"
    },
    {
     "name": "stdout",
     "output_type": "stream",
     "text": [
      "0:\tlearn: 64365.0894830\ttest: 64324.1269815\tbest: 64324.1269815 (0)\ttotal: 32.1ms\tremaining: 32s\n",
      "100:\tlearn: 36394.9262709\ttest: 38983.3708642\tbest: 38983.3708642 (100)\ttotal: 2.69s\tremaining: 23.9s\n",
      "200:\tlearn: 34020.1000199\ttest: 38098.8736320\tbest: 38098.8736320 (200)\ttotal: 4.76s\tremaining: 18.9s\n",
      "300:\tlearn: 32568.4767101\ttest: 38090.0523221\tbest: 37989.2525527 (263)\ttotal: 6.89s\tremaining: 16s\n",
      "400:\tlearn: 31466.6657811\ttest: 38215.3389478\tbest: 37989.2525527 (263)\ttotal: 8.98s\tremaining: 13.4s\n",
      "500:\tlearn: 30484.1631113\ttest: 38041.0208972\tbest: 37989.2525527 (263)\ttotal: 11.1s\tremaining: 11s\n",
      "600:\tlearn: 29610.5445641\ttest: 38080.7837545\tbest: 37989.2525527 (263)\ttotal: 13.1s\tremaining: 8.68s\n",
      "700:\tlearn: 28936.7102280\ttest: 38119.0711295\tbest: 37989.2525527 (263)\ttotal: 15s\tremaining: 6.41s\n",
      "800:\tlearn: 28252.7706088\ttest: 38194.0000234\tbest: 37989.2525527 (263)\ttotal: 17s\tremaining: 4.23s\n",
      "900:\tlearn: 27656.7674669\ttest: 38198.9064641\tbest: 37989.2525527 (263)\ttotal: 19s\tremaining: 2.09s\n",
      "999:\tlearn: 27206.1922472\ttest: 38201.9236619\tbest: 37989.2525527 (263)\ttotal: 20.9s\tremaining: 0us\n",
      "bestTest = 37989.25255\n",
      "bestIteration = 263\n",
      "Shrink model to first 264 iterations.\n"
     ]
    },
    {
     "name": "stderr",
     "output_type": "stream",
     "text": [
      "C:\\Users\\Андрей\\AppData\\Local\\Temp\\ipykernel_11772\\1502167267.py:35: FutureWarning: DataFrameGroupBy.apply operated on the grouping columns. This behavior is deprecated, and in a future version of pandas the grouping columns will be excluded from the operation. Either pass `include_groups=False` to exclude the groupings or explicitly select the grouping columns after groupby to silence this warning.\n",
      "  df_filtered = df_skills_filtered.groupby('position', group_keys=False).apply(filter_top_vacancies).reset_index(drop=True)\n"
     ]
    },
    {
     "data": {
      "text/plain": [
       "' Взяли 100 вакансий . Осталось 5627 cтрок в df'"
      ]
     },
     "metadata": {},
     "output_type": "display_data"
    },
    {
     "data": {
      "text/plain": [
       "'После исключения позиций с < 50 строк осталось 2366 строк и 3 позиций'"
      ]
     },
     "metadata": {},
     "output_type": "display_data"
    },
    {
     "name": "stdout",
     "output_type": "stream",
     "text": [
      "0:\tlearn: 65408.1116397\ttest: 61448.8073120\tbest: 61448.8073120 (0)\ttotal: 31.1ms\tremaining: 31s\n",
      "100:\tlearn: 38027.0663139\ttest: 39333.1369600\tbest: 39333.1369600 (100)\ttotal: 2.65s\tremaining: 23.6s\n",
      "200:\tlearn: 35346.6899983\ttest: 38647.6521351\tbest: 38647.6521351 (200)\ttotal: 4.8s\tremaining: 19.1s\n",
      "300:\tlearn: 33887.2049633\ttest: 38506.6311844\tbest: 38502.2384786 (283)\ttotal: 6.94s\tremaining: 16.1s\n",
      "400:\tlearn: 32831.0926143\ttest: 38392.0867875\tbest: 38383.3382292 (369)\ttotal: 9.04s\tremaining: 13.5s\n",
      "500:\tlearn: 32052.2239157\ttest: 38330.6903580\tbest: 38316.7842723 (462)\ttotal: 11s\tremaining: 11s\n",
      "600:\tlearn: 31276.9405192\ttest: 38353.9323100\tbest: 38304.8643924 (518)\ttotal: 13.1s\tremaining: 8.68s\n",
      "700:\tlearn: 30771.9444400\ttest: 38386.7202002\tbest: 38304.8643924 (518)\ttotal: 15s\tremaining: 6.4s\n",
      "800:\tlearn: 30284.4488854\ttest: 38401.7520168\tbest: 38304.8643924 (518)\ttotal: 16.9s\tremaining: 4.2s\n",
      "900:\tlearn: 29874.4550928\ttest: 38471.4211271\tbest: 38304.8643924 (518)\ttotal: 18.8s\tremaining: 2.06s\n",
      "999:\tlearn: 29387.6973933\ttest: 38570.9542699\tbest: 38304.8643924 (518)\ttotal: 20.6s\tremaining: 0us\n",
      "bestTest = 38304.86439\n",
      "bestIteration = 518\n",
      "Shrink model to first 519 iterations.\n"
     ]
    },
    {
     "name": "stderr",
     "output_type": "stream",
     "text": [
      "Top-N Skills:  14%|█▍        | 1/7 [01:06<06:37, 66.21s/it]"
     ]
    },
    {
     "data": {
      "text/plain": [
       "' Взяли 50 скилов . Осталось 9865 cтрок в df. Всего уникальных 593'"
      ]
     },
     "metadata": {},
     "output_type": "display_data"
    },
    {
     "name": "stderr",
     "output_type": "stream",
     "text": [
      "C:\\Users\\Андрей\\AppData\\Local\\Temp\\ipykernel_11772\\1502167267.py:35: FutureWarning: DataFrameGroupBy.apply operated on the grouping columns. This behavior is deprecated, and in a future version of pandas the grouping columns will be excluded from the operation. Either pass `include_groups=False` to exclude the groupings or explicitly select the grouping columns after groupby to silence this warning.\n",
      "  df_filtered = df_skills_filtered.groupby('position', group_keys=False).apply(filter_top_vacancies).reset_index(drop=True)\n"
     ]
    },
    {
     "data": {
      "text/plain": [
       "' Взяли 50 вакансий . Осталось 5249 cтрок в df'"
      ]
     },
     "metadata": {},
     "output_type": "display_data"
    },
    {
     "data": {
      "text/plain": [
       "'После исключения позиций с < 50 строк осталось 2303 строк и 3 позиций'"
      ]
     },
     "metadata": {},
     "output_type": "display_data"
    },
    {
     "name": "stdout",
     "output_type": "stream",
     "text": [
      "0:\tlearn: 64789.8528306\ttest: 66028.0340003\tbest: 66028.0340003 (0)\ttotal: 30.6ms\tremaining: 30.6s\n",
      "100:\tlearn: 37056.2010422\ttest: 37629.6446864\tbest: 37629.6446864 (100)\ttotal: 2.63s\tremaining: 23.4s\n",
      "200:\tlearn: 34260.8660990\ttest: 36993.4038116\tbest: 36993.4038116 (200)\ttotal: 4.71s\tremaining: 18.7s\n",
      "300:\tlearn: 32775.8755015\ttest: 36925.2276653\tbest: 36920.2429495 (299)\ttotal: 6.76s\tremaining: 15.7s\n",
      "400:\tlearn: 31711.2514740\ttest: 36938.1339747\tbest: 36894.6050147 (326)\ttotal: 8.77s\tremaining: 13.1s\n",
      "500:\tlearn: 30970.2901111\ttest: 36917.9321589\tbest: 36894.6050147 (326)\ttotal: 10.7s\tremaining: 10.7s\n",
      "600:\tlearn: 30274.8762658\ttest: 36904.3479635\tbest: 36894.6050147 (326)\ttotal: 12.8s\tremaining: 8.47s\n",
      "700:\tlearn: 29792.8760469\ttest: 36885.6813383\tbest: 36883.0689789 (699)\ttotal: 14.7s\tremaining: 6.27s\n",
      "800:\tlearn: 29307.1732851\ttest: 36904.0604650\tbest: 36865.7699037 (723)\ttotal: 16.6s\tremaining: 4.13s\n",
      "900:\tlearn: 28898.1840497\ttest: 36888.1761155\tbest: 36865.7699037 (723)\ttotal: 18.6s\tremaining: 2.05s\n",
      "999:\tlearn: 28404.7187398\ttest: 36935.1520876\tbest: 36865.7699037 (723)\ttotal: 20.6s\tremaining: 0us\n",
      "bestTest = 36865.7699\n",
      "bestIteration = 723\n",
      "Shrink model to first 724 iterations.\n"
     ]
    },
    {
     "name": "stderr",
     "output_type": "stream",
     "text": [
      "C:\\Users\\Андрей\\AppData\\Local\\Temp\\ipykernel_11772\\1502167267.py:35: FutureWarning: DataFrameGroupBy.apply operated on the grouping columns. This behavior is deprecated, and in a future version of pandas the grouping columns will be excluded from the operation. Either pass `include_groups=False` to exclude the groupings or explicitly select the grouping columns after groupby to silence this warning.\n",
      "  df_filtered = df_skills_filtered.groupby('position', group_keys=False).apply(filter_top_vacancies).reset_index(drop=True)\n"
     ]
    },
    {
     "data": {
      "text/plain": [
       "' Взяли 70 вакансий . Осталось 5678 cтрок в df'"
      ]
     },
     "metadata": {},
     "output_type": "display_data"
    },
    {
     "data": {
      "text/plain": [
       "'После исключения позиций с < 50 строк осталось 2448 строк и 3 позиций'"
      ]
     },
     "metadata": {},
     "output_type": "display_data"
    },
    {
     "name": "stdout",
     "output_type": "stream",
     "text": [
      "0:\tlearn: 64988.3759049\ttest: 63063.6515819\tbest: 63063.6515819 (0)\ttotal: 32.7ms\tremaining: 32.7s\n",
      "100:\tlearn: 36519.0872201\ttest: 38830.6167948\tbest: 38811.6776199 (99)\ttotal: 2.74s\tremaining: 24.4s\n",
      "200:\tlearn: 34074.3860570\ttest: 38562.6633883\tbest: 38559.3630360 (193)\ttotal: 4.81s\tremaining: 19.1s\n",
      "300:\tlearn: 32475.3152724\ttest: 38429.4747185\tbest: 38422.5252883 (296)\ttotal: 7.04s\tremaining: 16.3s\n",
      "400:\tlearn: 31417.4395464\ttest: 38431.4506890\tbest: 38392.8433718 (313)\ttotal: 9.01s\tremaining: 13.5s\n",
      "500:\tlearn: 30586.0237570\ttest: 38417.4716546\tbest: 38392.8433718 (313)\ttotal: 10.9s\tremaining: 10.9s\n",
      "600:\tlearn: 29896.3736393\ttest: 38505.5125783\tbest: 38392.8433718 (313)\ttotal: 12.8s\tremaining: 8.53s\n",
      "700:\tlearn: 29238.7414094\ttest: 38610.4163651\tbest: 38392.8433718 (313)\ttotal: 14.7s\tremaining: 6.28s\n",
      "800:\tlearn: 28602.1401445\ttest: 38661.2616023\tbest: 38392.8433718 (313)\ttotal: 16.7s\tremaining: 4.16s\n",
      "900:\tlearn: 28034.7536873\ttest: 38704.1753061\tbest: 38392.8433718 (313)\ttotal: 18.7s\tremaining: 2.05s\n",
      "999:\tlearn: 27514.8624752\ttest: 38722.6175447\tbest: 38392.8433718 (313)\ttotal: 20.5s\tremaining: 0us\n",
      "bestTest = 38392.84337\n",
      "bestIteration = 313\n",
      "Shrink model to first 314 iterations.\n"
     ]
    },
    {
     "name": "stderr",
     "output_type": "stream",
     "text": [
      "C:\\Users\\Андрей\\AppData\\Local\\Temp\\ipykernel_11772\\1502167267.py:35: FutureWarning: DataFrameGroupBy.apply operated on the grouping columns. This behavior is deprecated, and in a future version of pandas the grouping columns will be excluded from the operation. Either pass `include_groups=False` to exclude the groupings or explicitly select the grouping columns after groupby to silence this warning.\n",
      "  df_filtered = df_skills_filtered.groupby('position', group_keys=False).apply(filter_top_vacancies).reset_index(drop=True)\n"
     ]
    },
    {
     "data": {
      "text/plain": [
       "' Взяли 100 вакансий . Осталось 6113 cтрок в df'"
      ]
     },
     "metadata": {},
     "output_type": "display_data"
    },
    {
     "data": {
      "text/plain": [
       "'После исключения позиций с < 50 строк осталось 3183 строк и 4 позиций'"
      ]
     },
     "metadata": {},
     "output_type": "display_data"
    },
    {
     "name": "stdout",
     "output_type": "stream",
     "text": [
      "0:\tlearn: 63135.2707905\ttest: 61897.7981091\tbest: 61897.7981091 (0)\ttotal: 31.8ms\tremaining: 31.7s\n",
      "100:\tlearn: 35085.3434191\ttest: 36290.7935883\tbest: 36290.7935883 (100)\ttotal: 2.69s\tremaining: 24s\n",
      "200:\tlearn: 32953.4036018\ttest: 35784.5516851\tbest: 35784.5516851 (200)\ttotal: 4.72s\tremaining: 18.7s\n",
      "300:\tlearn: 31903.3576063\ttest: 35676.9650650\tbest: 35676.9650650 (300)\ttotal: 6.75s\tremaining: 15.7s\n",
      "400:\tlearn: 31161.8876780\ttest: 35650.1569447\tbest: 35618.7261854 (358)\ttotal: 8.74s\tremaining: 13.1s\n",
      "500:\tlearn: 30446.9105555\ttest: 35590.1414961\tbest: 35583.4492402 (490)\ttotal: 10.9s\tremaining: 10.8s\n",
      "600:\tlearn: 29764.1628199\ttest: 35530.4394677\tbest: 35517.5594431 (563)\ttotal: 12.8s\tremaining: 8.52s\n",
      "700:\tlearn: 29242.5496421\ttest: 35501.6777032\tbest: 35483.5369549 (688)\ttotal: 14.8s\tremaining: 6.3s\n",
      "800:\tlearn: 28841.9989966\ttest: 35599.8714389\tbest: 35483.5369549 (688)\ttotal: 16.7s\tremaining: 4.14s\n",
      "900:\tlearn: 28469.8836899\ttest: 35571.9386120\tbest: 35483.5369549 (688)\ttotal: 18.8s\tremaining: 2.06s\n",
      "999:\tlearn: 28123.7124313\ttest: 35628.2825675\tbest: 35483.5369549 (688)\ttotal: 20.7s\tremaining: 0us\n",
      "bestTest = 35483.53695\n",
      "bestIteration = 688\n",
      "Shrink model to first 689 iterations.\n"
     ]
    },
    {
     "name": "stderr",
     "output_type": "stream",
     "text": [
      "Top-N Skills:  29%|██▊       | 2/7 [02:12<05:30, 66.02s/it]"
     ]
    },
    {
     "data": {
      "text/plain": [
       "' Взяли 70 скилов . Осталось 10331 cтрок в df. Всего уникальных 888'"
      ]
     },
     "metadata": {},
     "output_type": "display_data"
    },
    {
     "name": "stderr",
     "output_type": "stream",
     "text": [
      "C:\\Users\\Андрей\\AppData\\Local\\Temp\\ipykernel_11772\\1502167267.py:35: FutureWarning: DataFrameGroupBy.apply operated on the grouping columns. This behavior is deprecated, and in a future version of pandas the grouping columns will be excluded from the operation. Either pass `include_groups=False` to exclude the groupings or explicitly select the grouping columns after groupby to silence this warning.\n",
      "  df_filtered = df_skills_filtered.groupby('position', group_keys=False).apply(filter_top_vacancies).reset_index(drop=True)\n"
     ]
    },
    {
     "data": {
      "text/plain": [
       "' Взяли 50 вакансий . Осталось 5475 cтрок в df'"
      ]
     },
     "metadata": {},
     "output_type": "display_data"
    },
    {
     "data": {
      "text/plain": [
       "'После исключения позиций с < 50 строк осталось 2404 строк и 3 позиций'"
      ]
     },
     "metadata": {},
     "output_type": "display_data"
    },
    {
     "name": "stdout",
     "output_type": "stream",
     "text": [
      "0:\tlearn: 65848.3370282\ttest: 62289.4860381\tbest: 62289.4860381 (0)\ttotal: 31.1ms\tremaining: 31.1s\n",
      "100:\tlearn: 37071.0505936\ttest: 39264.6317990\tbest: 39264.6317990 (100)\ttotal: 2.64s\tremaining: 23.5s\n",
      "200:\tlearn: 34566.3120678\ttest: 38691.4665588\tbest: 38681.2076415 (190)\ttotal: 4.62s\tremaining: 18.4s\n",
      "300:\tlearn: 33229.3936735\ttest: 38489.2945467\tbest: 38484.0298038 (295)\ttotal: 6.48s\tremaining: 15s\n",
      "400:\tlearn: 32308.5176797\ttest: 38555.6519074\tbest: 38478.9691520 (327)\ttotal: 8.35s\tremaining: 12.5s\n",
      "500:\tlearn: 31544.6101642\ttest: 38591.2465167\tbest: 38478.9691520 (327)\ttotal: 10.2s\tremaining: 10.2s\n",
      "600:\tlearn: 30940.2995683\ttest: 38654.4065394\tbest: 38478.9691520 (327)\ttotal: 12s\tremaining: 7.97s\n",
      "700:\tlearn: 30504.4064510\ttest: 38677.6956469\tbest: 38478.9691520 (327)\ttotal: 13.8s\tremaining: 5.9s\n",
      "800:\tlearn: 30007.6484465\ttest: 38729.3354161\tbest: 38478.9691520 (327)\ttotal: 15.7s\tremaining: 3.89s\n",
      "900:\tlearn: 29440.7945166\ttest: 38729.5817415\tbest: 38478.9691520 (327)\ttotal: 17.5s\tremaining: 1.92s\n",
      "999:\tlearn: 28931.6061335\ttest: 38703.8090359\tbest: 38478.9691520 (327)\ttotal: 19.3s\tremaining: 0us\n",
      "bestTest = 38478.96915\n",
      "bestIteration = 327\n",
      "Shrink model to first 328 iterations.\n"
     ]
    },
    {
     "name": "stderr",
     "output_type": "stream",
     "text": [
      "C:\\Users\\Андрей\\AppData\\Local\\Temp\\ipykernel_11772\\1502167267.py:35: FutureWarning: DataFrameGroupBy.apply operated on the grouping columns. This behavior is deprecated, and in a future version of pandas the grouping columns will be excluded from the operation. Either pass `include_groups=False` to exclude the groupings or explicitly select the grouping columns after groupby to silence this warning.\n",
      "  df_filtered = df_skills_filtered.groupby('position', group_keys=False).apply(filter_top_vacancies).reset_index(drop=True)\n"
     ]
    },
    {
     "data": {
      "text/plain": [
       "' Взяли 70 вакансий . Осталось 5926 cтрок в df'"
      ]
     },
     "metadata": {},
     "output_type": "display_data"
    },
    {
     "data": {
      "text/plain": [
       "'После исключения позиций с < 50 строк осталось 2552 строк и 3 позиций'"
      ]
     },
     "metadata": {},
     "output_type": "display_data"
    },
    {
     "name": "stdout",
     "output_type": "stream",
     "text": [
      "0:\tlearn: 64856.3421849\ttest: 65136.1707772\tbest: 65136.1707772 (0)\ttotal: 31.5ms\tremaining: 31.4s\n",
      "100:\tlearn: 37135.2896436\ttest: 39968.6388231\tbest: 39968.6388231 (100)\ttotal: 2.65s\tremaining: 23.6s\n",
      "200:\tlearn: 34975.8926427\ttest: 39548.6818191\tbest: 39548.6818191 (200)\ttotal: 4.67s\tremaining: 18.6s\n",
      "300:\tlearn: 33712.5276470\ttest: 39411.5520266\tbest: 39411.5520266 (300)\ttotal: 6.68s\tremaining: 15.5s\n",
      "400:\tlearn: 32818.8355052\ttest: 39407.5685735\tbest: 39386.7254844 (314)\ttotal: 8.64s\tremaining: 12.9s\n",
      "500:\tlearn: 32062.1923356\ttest: 39340.0685712\tbest: 39334.9859686 (458)\ttotal: 10.6s\tremaining: 10.6s\n",
      "600:\tlearn: 31544.6911170\ttest: 39325.3350152\tbest: 39317.0115517 (562)\ttotal: 12.6s\tremaining: 8.38s\n",
      "700:\tlearn: 30954.8246687\ttest: 39297.3180671\tbest: 39297.3180671 (700)\ttotal: 14.5s\tremaining: 6.2s\n",
      "800:\tlearn: 30393.2784261\ttest: 39298.7016993\tbest: 39265.4212233 (765)\ttotal: 16.4s\tremaining: 4.08s\n",
      "900:\tlearn: 29752.7412142\ttest: 39312.1069550\tbest: 39265.4212233 (765)\ttotal: 18.3s\tremaining: 2.01s\n",
      "999:\tlearn: 29392.9555968\ttest: 39343.2724472\tbest: 39265.4212233 (765)\ttotal: 20.1s\tremaining: 0us\n",
      "bestTest = 39265.42122\n",
      "bestIteration = 765\n",
      "Shrink model to first 766 iterations.\n"
     ]
    },
    {
     "name": "stderr",
     "output_type": "stream",
     "text": [
      "C:\\Users\\Андрей\\AppData\\Local\\Temp\\ipykernel_11772\\1502167267.py:35: FutureWarning: DataFrameGroupBy.apply operated on the grouping columns. This behavior is deprecated, and in a future version of pandas the grouping columns will be excluded from the operation. Either pass `include_groups=False` to exclude the groupings or explicitly select the grouping columns after groupby to silence this warning.\n",
      "  df_filtered = df_skills_filtered.groupby('position', group_keys=False).apply(filter_top_vacancies).reset_index(drop=True)\n"
     ]
    },
    {
     "data": {
      "text/plain": [
       "' Взяли 100 вакансий . Осталось 6375 cтрок в df'"
      ]
     },
     "metadata": {},
     "output_type": "display_data"
    },
    {
     "data": {
      "text/plain": [
       "'После исключения позиций с < 50 строк осталось 3300 строк и 4 позиций'"
      ]
     },
     "metadata": {},
     "output_type": "display_data"
    },
    {
     "name": "stdout",
     "output_type": "stream",
     "text": [
      "0:\tlearn: 64572.6485938\ttest: 57005.9486235\tbest: 57005.9486235 (0)\ttotal: 31.5ms\tremaining: 31.5s\n",
      "100:\tlearn: 36529.1838235\ttest: 34341.7884174\tbest: 34341.7884174 (100)\ttotal: 2.67s\tremaining: 23.8s\n",
      "200:\tlearn: 34309.0867967\ttest: 34388.9479548\tbest: 34228.5601709 (129)\ttotal: 4.6s\tremaining: 18.3s\n",
      "300:\tlearn: 33150.8413100\ttest: 34514.6881989\tbest: 34228.5601709 (129)\ttotal: 6.46s\tremaining: 15s\n",
      "400:\tlearn: 32304.2753232\ttest: 34477.1141452\tbest: 34228.5601709 (129)\ttotal: 8.42s\tremaining: 12.6s\n",
      "500:\tlearn: 31415.0242446\ttest: 34432.8542988\tbest: 34228.5601709 (129)\ttotal: 10.3s\tremaining: 10.3s\n",
      "600:\tlearn: 30771.1656021\ttest: 34312.0508578\tbest: 34228.5601709 (129)\ttotal: 12.3s\tremaining: 8.15s\n",
      "700:\tlearn: 30211.6272923\ttest: 34256.2084541\tbest: 34228.5601709 (129)\ttotal: 14.2s\tremaining: 6.05s\n",
      "800:\tlearn: 29698.2322964\ttest: 34224.9486401\tbest: 34211.2472806 (780)\ttotal: 16.3s\tremaining: 4.04s\n",
      "900:\tlearn: 29277.8812764\ttest: 34246.0939509\tbest: 34211.2472806 (780)\ttotal: 18.4s\tremaining: 2.02s\n",
      "999:\tlearn: 28884.7044778\ttest: 34275.7372436\tbest: 34211.2472806 (780)\ttotal: 20.6s\tremaining: 0us\n",
      "bestTest = 34211.24728\n",
      "bestIteration = 780\n",
      "Shrink model to first 781 iterations.\n"
     ]
    },
    {
     "name": "stderr",
     "output_type": "stream",
     "text": [
      "Top-N Skills:  43%|████▎     | 3/7 [03:16<04:20, 65.18s/it]"
     ]
    },
    {
     "data": {
      "text/plain": [
       "' Взяли 100 скилов . Осталось 10739 cтрок в df. Всего уникальных 1262'"
      ]
     },
     "metadata": {},
     "output_type": "display_data"
    },
    {
     "name": "stderr",
     "output_type": "stream",
     "text": [
      "C:\\Users\\Андрей\\AppData\\Local\\Temp\\ipykernel_11772\\1502167267.py:35: FutureWarning: DataFrameGroupBy.apply operated on the grouping columns. This behavior is deprecated, and in a future version of pandas the grouping columns will be excluded from the operation. Either pass `include_groups=False` to exclude the groupings or explicitly select the grouping columns after groupby to silence this warning.\n",
      "  df_filtered = df_skills_filtered.groupby('position', group_keys=False).apply(filter_top_vacancies).reset_index(drop=True)\n"
     ]
    },
    {
     "data": {
      "text/plain": [
       "' Взяли 50 вакансий . Осталось 5665 cтрок в df'"
      ]
     },
     "metadata": {},
     "output_type": "display_data"
    },
    {
     "data": {
      "text/plain": [
       "'После исключения позиций с < 50 строк осталось 2499 строк и 3 позиций'"
      ]
     },
     "metadata": {},
     "output_type": "display_data"
    },
    {
     "name": "stdout",
     "output_type": "stream",
     "text": [
      "0:\tlearn: 63403.4881883\ttest: 63778.2734156\tbest: 63778.2734156 (0)\ttotal: 28.2ms\tremaining: 28.1s\n",
      "100:\tlearn: 36404.0108524\ttest: 38712.5323798\tbest: 38712.5323798 (100)\ttotal: 2.79s\tremaining: 24.8s\n",
      "200:\tlearn: 34117.9422171\ttest: 38241.8825296\tbest: 38228.9384132 (193)\ttotal: 5.08s\tremaining: 20.2s\n",
      "300:\tlearn: 32665.6155588\ttest: 38085.1693560\tbest: 38063.8517165 (272)\ttotal: 7.11s\tremaining: 16.5s\n",
      "400:\tlearn: 31634.4083235\ttest: 37947.9171737\tbest: 37941.3832102 (399)\ttotal: 9.12s\tremaining: 13.6s\n",
      "500:\tlearn: 30719.5646228\ttest: 37968.0326071\tbest: 37939.5802362 (402)\ttotal: 11.3s\tremaining: 11.3s\n",
      "600:\tlearn: 30108.7598508\ttest: 37967.2732634\tbest: 37928.7377182 (527)\ttotal: 13.3s\tremaining: 8.83s\n",
      "700:\tlearn: 29603.4984364\ttest: 38007.9505971\tbest: 37928.7377182 (527)\ttotal: 15.3s\tremaining: 6.51s\n",
      "800:\tlearn: 29221.5749515\ttest: 38058.6510797\tbest: 37928.7377182 (527)\ttotal: 17.2s\tremaining: 4.28s\n",
      "900:\tlearn: 28919.5286133\ttest: 38074.8135098\tbest: 37928.7377182 (527)\ttotal: 19.2s\tremaining: 2.11s\n",
      "999:\tlearn: 28579.3862838\ttest: 38096.7363930\tbest: 37928.7377182 (527)\ttotal: 21.1s\tremaining: 0us\n",
      "bestTest = 37928.73772\n",
      "bestIteration = 527\n",
      "Shrink model to first 528 iterations.\n"
     ]
    },
    {
     "name": "stderr",
     "output_type": "stream",
     "text": [
      "C:\\Users\\Андрей\\AppData\\Local\\Temp\\ipykernel_11772\\1502167267.py:35: FutureWarning: DataFrameGroupBy.apply operated on the grouping columns. This behavior is deprecated, and in a future version of pandas the grouping columns will be excluded from the operation. Either pass `include_groups=False` to exclude the groupings or explicitly select the grouping columns after groupby to silence this warning.\n",
      "  df_filtered = df_skills_filtered.groupby('position', group_keys=False).apply(filter_top_vacancies).reset_index(drop=True)\n"
     ]
    },
    {
     "data": {
      "text/plain": [
       "' Взяли 70 вакансий . Осталось 6133 cтрок в df'"
      ]
     },
     "metadata": {},
     "output_type": "display_data"
    },
    {
     "data": {
      "text/plain": [
       "'После исключения позиций с < 50 строк осталось 2654 строк и 3 позиций'"
      ]
     },
     "metadata": {},
     "output_type": "display_data"
    },
    {
     "name": "stdout",
     "output_type": "stream",
     "text": [
      "0:\tlearn: 64336.4822709\ttest: 65850.4868173\tbest: 65850.4868173 (0)\ttotal: 31.9ms\tremaining: 31.9s\n",
      "100:\tlearn: 36591.8622630\ttest: 41258.3098797\tbest: 41258.3098797 (100)\ttotal: 2.74s\tremaining: 24.4s\n",
      "200:\tlearn: 34302.4353735\ttest: 40997.3775818\tbest: 40972.6493878 (187)\ttotal: 4.8s\tremaining: 19.1s\n",
      "300:\tlearn: 33001.0049140\ttest: 40990.7501432\tbest: 40908.2953354 (239)\ttotal: 6.82s\tremaining: 15.8s\n",
      "400:\tlearn: 32103.5194242\ttest: 41034.5956753\tbest: 40908.2953354 (239)\ttotal: 8.74s\tremaining: 13.1s\n",
      "500:\tlearn: 31501.0781799\ttest: 41159.0016389\tbest: 40908.2953354 (239)\ttotal: 10.6s\tremaining: 10.6s\n",
      "600:\tlearn: 30793.1124866\ttest: 41213.4808016\tbest: 40908.2953354 (239)\ttotal: 12.6s\tremaining: 8.39s\n",
      "700:\tlearn: 30209.1595336\ttest: 41249.3412657\tbest: 40908.2953354 (239)\ttotal: 14.5s\tremaining: 6.2s\n",
      "800:\tlearn: 29781.6147271\ttest: 41308.6403720\tbest: 40908.2953354 (239)\ttotal: 16.5s\tremaining: 4.1s\n",
      "900:\tlearn: 29299.7079750\ttest: 41374.5004040\tbest: 40908.2953354 (239)\ttotal: 18.7s\tremaining: 2.05s\n",
      "999:\tlearn: 28947.1222866\ttest: 41338.4098803\tbest: 40908.2953354 (239)\ttotal: 20.7s\tremaining: 0us\n",
      "bestTest = 40908.29534\n",
      "bestIteration = 239\n",
      "Shrink model to first 240 iterations.\n"
     ]
    },
    {
     "name": "stderr",
     "output_type": "stream",
     "text": [
      "C:\\Users\\Андрей\\AppData\\Local\\Temp\\ipykernel_11772\\1502167267.py:35: FutureWarning: DataFrameGroupBy.apply operated on the grouping columns. This behavior is deprecated, and in a future version of pandas the grouping columns will be excluded from the operation. Either pass `include_groups=False` to exclude the groupings or explicitly select the grouping columns after groupby to silence this warning.\n",
      "  df_filtered = df_skills_filtered.groupby('position', group_keys=False).apply(filter_top_vacancies).reset_index(drop=True)\n"
     ]
    },
    {
     "data": {
      "text/plain": [
       "' Взяли 100 вакансий . Осталось 6597 cтрок в df'"
      ]
     },
     "metadata": {},
     "output_type": "display_data"
    },
    {
     "data": {
      "text/plain": [
       "'После исключения позиций с < 50 строк осталось 3406 строк и 4 позиций'"
      ]
     },
     "metadata": {},
     "output_type": "display_data"
    },
    {
     "name": "stdout",
     "output_type": "stream",
     "text": [
      "0:\tlearn: 63037.4153593\ttest: 61370.2184945\tbest: 61370.2184945 (0)\ttotal: 31.7ms\tremaining: 31.7s\n",
      "100:\tlearn: 36394.1291158\ttest: 35007.3646795\tbest: 34999.4640160 (99)\ttotal: 2.78s\tremaining: 24.7s\n",
      "200:\tlearn: 33987.2661870\ttest: 34605.0408933\tbest: 34605.0408933 (200)\ttotal: 4.96s\tremaining: 19.7s\n",
      "300:\tlearn: 32690.9388315\ttest: 34561.6376716\tbest: 34531.3218100 (279)\ttotal: 7.04s\tremaining: 16.4s\n",
      "400:\tlearn: 31615.7362540\ttest: 34528.5385305\tbest: 34477.8996777 (363)\ttotal: 9.15s\tremaining: 13.7s\n",
      "500:\tlearn: 30854.1223211\ttest: 34510.5889094\tbest: 34477.8996777 (363)\ttotal: 11.3s\tremaining: 11.2s\n",
      "600:\tlearn: 30031.7773919\ttest: 34635.3697776\tbest: 34477.8996777 (363)\ttotal: 13.5s\tremaining: 8.99s\n",
      "700:\tlearn: 29415.5804929\ttest: 34693.0399933\tbest: 34477.8996777 (363)\ttotal: 15.8s\tremaining: 6.72s\n",
      "800:\tlearn: 28833.4723712\ttest: 34781.8849252\tbest: 34477.8996777 (363)\ttotal: 17.9s\tremaining: 4.45s\n",
      "900:\tlearn: 28369.1815790\ttest: 34832.9132233\tbest: 34477.8996777 (363)\ttotal: 20.1s\tremaining: 2.21s\n",
      "999:\tlearn: 27808.4650853\ttest: 34822.3281704\tbest: 34477.8996777 (363)\ttotal: 22.2s\tremaining: 0us\n",
      "bestTest = 34477.89968\n",
      "bestIteration = 363\n",
      "Shrink model to first 364 iterations.\n"
     ]
    },
    {
     "name": "stderr",
     "output_type": "stream",
     "text": [
      "Top-N Skills:  57%|█████▋    | 4/7 [04:24<03:19, 66.42s/it]"
     ]
    },
    {
     "data": {
      "text/plain": [
       "' Взяли 300 скилов . Осталось 11260 cтрок в df. Всего уникальных 3945'"
      ]
     },
     "metadata": {},
     "output_type": "display_data"
    },
    {
     "name": "stderr",
     "output_type": "stream",
     "text": [
      "C:\\Users\\Андрей\\AppData\\Local\\Temp\\ipykernel_11772\\1502167267.py:35: FutureWarning: DataFrameGroupBy.apply operated on the grouping columns. This behavior is deprecated, and in a future version of pandas the grouping columns will be excluded from the operation. Either pass `include_groups=False` to exclude the groupings or explicitly select the grouping columns after groupby to silence this warning.\n",
      "  df_filtered = df_skills_filtered.groupby('position', group_keys=False).apply(filter_top_vacancies).reset_index(drop=True)\n"
     ]
    },
    {
     "data": {
      "text/plain": [
       "' Взяли 50 вакансий . Осталось 5876 cтрок в df'"
      ]
     },
     "metadata": {},
     "output_type": "display_data"
    },
    {
     "data": {
      "text/plain": [
       "'После исключения позиций с < 50 строк осталось 2626 строк и 3 позиций'"
      ]
     },
     "metadata": {},
     "output_type": "display_data"
    },
    {
     "name": "stdout",
     "output_type": "stream",
     "text": [
      "0:\tlearn: 63508.1616072\ttest: 63740.6545618\tbest: 63740.6545618 (0)\ttotal: 33.5ms\tremaining: 33.4s\n",
      "100:\tlearn: 36236.0695787\ttest: 39239.8639513\tbest: 39239.8639513 (100)\ttotal: 2.63s\tremaining: 23.5s\n",
      "200:\tlearn: 33933.7531818\ttest: 38781.6060867\tbest: 38744.0029132 (179)\ttotal: 4.71s\tremaining: 18.7s\n",
      "300:\tlearn: 32492.2073027\ttest: 38437.1698141\tbest: 38437.1698141 (300)\ttotal: 6.67s\tremaining: 15.5s\n",
      "400:\tlearn: 31636.8465913\ttest: 38311.7721322\tbest: 38308.7171362 (398)\ttotal: 8.58s\tremaining: 12.8s\n",
      "500:\tlearn: 30924.0324745\ttest: 38274.6763213\tbest: 38270.5713352 (484)\ttotal: 10.5s\tremaining: 10.5s\n",
      "600:\tlearn: 30286.5999130\ttest: 38176.7135095\tbest: 38164.2491386 (592)\ttotal: 12.4s\tremaining: 8.23s\n",
      "700:\tlearn: 29769.0244934\ttest: 38111.4450327\tbest: 38109.3171492 (697)\ttotal: 14.3s\tremaining: 6.1s\n",
      "800:\tlearn: 29216.7580011\ttest: 38063.7215679\tbest: 38056.5386133 (799)\ttotal: 16.1s\tremaining: 4s\n",
      "900:\tlearn: 28891.1098821\ttest: 38016.2088058\tbest: 38006.0661988 (879)\ttotal: 18s\tremaining: 1.98s\n",
      "999:\tlearn: 28577.4461965\ttest: 38015.8145795\tbest: 38006.0661988 (879)\ttotal: 19.9s\tremaining: 0us\n",
      "bestTest = 38006.0662\n",
      "bestIteration = 879\n",
      "Shrink model to first 880 iterations.\n"
     ]
    },
    {
     "name": "stderr",
     "output_type": "stream",
     "text": [
      "C:\\Users\\Андрей\\AppData\\Local\\Temp\\ipykernel_11772\\1502167267.py:35: FutureWarning: DataFrameGroupBy.apply operated on the grouping columns. This behavior is deprecated, and in a future version of pandas the grouping columns will be excluded from the operation. Either pass `include_groups=False` to exclude the groupings or explicitly select the grouping columns after groupby to silence this warning.\n",
      "  df_filtered = df_skills_filtered.groupby('position', group_keys=False).apply(filter_top_vacancies).reset_index(drop=True)\n"
     ]
    },
    {
     "data": {
      "text/plain": [
       "' Взяли 70 вакансий . Осталось 6368 cтрок в df'"
      ]
     },
     "metadata": {},
     "output_type": "display_data"
    },
    {
     "data": {
      "text/plain": [
       "'После исключения позиций с < 50 строк осталось 2789 строк и 3 позиций'"
      ]
     },
     "metadata": {},
     "output_type": "display_data"
    },
    {
     "name": "stdout",
     "output_type": "stream",
     "text": [
      "0:\tlearn: 63441.3846166\ttest: 63695.7767934\tbest: 63695.7767934 (0)\ttotal: 32.5ms\tremaining: 32.4s\n",
      "100:\tlearn: 36699.8303738\ttest: 37313.5043956\tbest: 37309.9065657 (99)\ttotal: 2.65s\tremaining: 23.5s\n",
      "200:\tlearn: 34435.6198837\ttest: 36566.0824789\tbest: 36559.4230305 (198)\ttotal: 4.67s\tremaining: 18.6s\n",
      "300:\tlearn: 33108.9869071\ttest: 36629.5806943\tbest: 36549.7260653 (275)\ttotal: 6.77s\tremaining: 15.7s\n",
      "400:\tlearn: 32136.9123503\ttest: 36715.3271266\tbest: 36549.7260653 (275)\ttotal: 8.79s\tremaining: 13.1s\n",
      "500:\tlearn: 31357.8512983\ttest: 36782.2971320\tbest: 36549.7260653 (275)\ttotal: 10.9s\tremaining: 10.9s\n",
      "600:\tlearn: 30715.6345916\ttest: 36908.2200312\tbest: 36549.7260653 (275)\ttotal: 12.9s\tremaining: 8.59s\n",
      "700:\tlearn: 30100.6796910\ttest: 37044.5408703\tbest: 36549.7260653 (275)\ttotal: 15s\tremaining: 6.4s\n",
      "800:\tlearn: 29542.7996689\ttest: 37125.8437887\tbest: 36549.7260653 (275)\ttotal: 16.9s\tremaining: 4.21s\n",
      "900:\tlearn: 28996.2809175\ttest: 37233.8719538\tbest: 36549.7260653 (275)\ttotal: 18.9s\tremaining: 2.08s\n",
      "999:\tlearn: 28712.3522090\ttest: 37401.7021916\tbest: 36549.7260653 (275)\ttotal: 20.8s\tremaining: 0us\n",
      "bestTest = 36549.72607\n",
      "bestIteration = 275\n",
      "Shrink model to first 276 iterations.\n"
     ]
    },
    {
     "name": "stderr",
     "output_type": "stream",
     "text": [
      "C:\\Users\\Андрей\\AppData\\Local\\Temp\\ipykernel_11772\\1502167267.py:35: FutureWarning: DataFrameGroupBy.apply operated on the grouping columns. This behavior is deprecated, and in a future version of pandas the grouping columns will be excluded from the operation. Either pass `include_groups=False` to exclude the groupings or explicitly select the grouping columns after groupby to silence this warning.\n",
      "  df_filtered = df_skills_filtered.groupby('position', group_keys=False).apply(filter_top_vacancies).reset_index(drop=True)\n"
     ]
    },
    {
     "data": {
      "text/plain": [
       "' Взяли 100 вакансий . Осталось 6852 cтрок в df'"
      ]
     },
     "metadata": {},
     "output_type": "display_data"
    },
    {
     "data": {
      "text/plain": [
       "'После исключения позиций с < 50 строк осталось 3548 строк и 4 позиций'"
      ]
     },
     "metadata": {},
     "output_type": "display_data"
    },
    {
     "name": "stdout",
     "output_type": "stream",
     "text": [
      "0:\tlearn: 62305.3005757\ttest: 62509.7574792\tbest: 62509.7574792 (0)\ttotal: 32.8ms\tremaining: 32.8s\n",
      "100:\tlearn: 35814.3215518\ttest: 37822.2502859\tbest: 37822.2502859 (100)\ttotal: 2.67s\tremaining: 23.7s\n",
      "200:\tlearn: 33684.1197196\ttest: 37451.1013774\tbest: 37448.1914165 (198)\ttotal: 4.76s\tremaining: 18.9s\n",
      "300:\tlearn: 32516.4319670\ttest: 37577.3619291\tbest: 37447.0713713 (201)\ttotal: 6.62s\tremaining: 15.4s\n",
      "400:\tlearn: 31679.4349909\ttest: 37537.5046830\tbest: 37447.0713713 (201)\ttotal: 8.69s\tremaining: 13s\n",
      "500:\tlearn: 31111.3770923\ttest: 37564.3704063\tbest: 37447.0713713 (201)\ttotal: 10.7s\tremaining: 10.7s\n",
      "600:\tlearn: 30513.9710186\ttest: 37530.5205110\tbest: 37447.0713713 (201)\ttotal: 12.7s\tremaining: 8.43s\n",
      "700:\tlearn: 30085.9456576\ttest: 37573.9023643\tbest: 37447.0713713 (201)\ttotal: 14.6s\tremaining: 6.21s\n",
      "800:\tlearn: 29849.4492219\ttest: 37613.5866322\tbest: 37447.0713713 (201)\ttotal: 16.5s\tremaining: 4.1s\n",
      "900:\tlearn: 29576.3769200\ttest: 37643.9161697\tbest: 37447.0713713 (201)\ttotal: 18.6s\tremaining: 2.05s\n",
      "999:\tlearn: 29248.5627964\ttest: 37624.7658742\tbest: 37447.0713713 (201)\ttotal: 20.5s\tremaining: 0us\n",
      "bestTest = 37447.07137\n",
      "bestIteration = 201\n",
      "Shrink model to first 202 iterations.\n"
     ]
    },
    {
     "name": "stderr",
     "output_type": "stream",
     "text": [
      "Top-N Skills:  71%|███████▏  | 5/7 [05:30<02:12, 66.09s/it]"
     ]
    },
    {
     "data": {
      "text/plain": [
       "' Взяли 500 скилов . Осталось 11378 cтрок в df. Всего уникальных 6497'"
      ]
     },
     "metadata": {},
     "output_type": "display_data"
    },
    {
     "name": "stderr",
     "output_type": "stream",
     "text": [
      "C:\\Users\\Андрей\\AppData\\Local\\Temp\\ipykernel_11772\\1502167267.py:35: FutureWarning: DataFrameGroupBy.apply operated on the grouping columns. This behavior is deprecated, and in a future version of pandas the grouping columns will be excluded from the operation. Either pass `include_groups=False` to exclude the groupings or explicitly select the grouping columns after groupby to silence this warning.\n",
      "  df_filtered = df_skills_filtered.groupby('position', group_keys=False).apply(filter_top_vacancies).reset_index(drop=True)\n"
     ]
    },
    {
     "data": {
      "text/plain": [
       "' Взяли 50 вакансий . Осталось 5920 cтрок в df'"
      ]
     },
     "metadata": {},
     "output_type": "display_data"
    },
    {
     "data": {
      "text/plain": [
       "'После исключения позиций с < 50 строк осталось 2661 строк и 3 позиций'"
      ]
     },
     "metadata": {},
     "output_type": "display_data"
    },
    {
     "name": "stdout",
     "output_type": "stream",
     "text": [
      "0:\tlearn: 63210.3323665\ttest: 61968.8949446\tbest: 61968.8949446 (0)\ttotal: 30.1ms\tremaining: 30.1s\n",
      "100:\tlearn: 36607.7067748\ttest: 39119.5112178\tbest: 39079.3128110 (97)\ttotal: 2.57s\tremaining: 22.9s\n",
      "200:\tlearn: 34619.7343850\ttest: 38955.2717658\tbest: 38942.0138331 (168)\ttotal: 4.59s\tremaining: 18.3s\n",
      "300:\tlearn: 33407.2361739\ttest: 38980.0284551\tbest: 38942.0138331 (168)\ttotal: 6.54s\tremaining: 15.2s\n",
      "400:\tlearn: 32461.9307344\ttest: 38917.5442713\tbest: 38890.5607403 (363)\ttotal: 8.52s\tremaining: 12.7s\n",
      "500:\tlearn: 31585.6786054\ttest: 38832.9618744\tbest: 38824.8235005 (460)\ttotal: 10.5s\tremaining: 10.4s\n",
      "600:\tlearn: 30867.0381468\ttest: 38849.9266945\tbest: 38824.8235005 (460)\ttotal: 12.4s\tremaining: 8.26s\n",
      "700:\tlearn: 30239.2980275\ttest: 38912.8727468\tbest: 38824.8235005 (460)\ttotal: 14.3s\tremaining: 6.1s\n",
      "800:\tlearn: 29784.9111575\ttest: 39003.6637635\tbest: 38824.8235005 (460)\ttotal: 16.2s\tremaining: 4.02s\n",
      "900:\tlearn: 29398.6732424\ttest: 39017.2723996\tbest: 38824.8235005 (460)\ttotal: 18.1s\tremaining: 1.99s\n",
      "999:\tlearn: 28980.4914866\ttest: 39067.6090052\tbest: 38824.8235005 (460)\ttotal: 20s\tremaining: 0us\n",
      "bestTest = 38824.8235\n",
      "bestIteration = 460\n",
      "Shrink model to first 461 iterations.\n"
     ]
    },
    {
     "name": "stderr",
     "output_type": "stream",
     "text": [
      "C:\\Users\\Андрей\\AppData\\Local\\Temp\\ipykernel_11772\\1502167267.py:35: FutureWarning: DataFrameGroupBy.apply operated on the grouping columns. This behavior is deprecated, and in a future version of pandas the grouping columns will be excluded from the operation. Either pass `include_groups=False` to exclude the groupings or explicitly select the grouping columns after groupby to silence this warning.\n",
      "  df_filtered = df_skills_filtered.groupby('position', group_keys=False).apply(filter_top_vacancies).reset_index(drop=True)\n"
     ]
    },
    {
     "data": {
      "text/plain": [
       "' Взяли 70 вакансий . Осталось 6418 cтрок в df'"
      ]
     },
     "metadata": {},
     "output_type": "display_data"
    },
    {
     "data": {
      "text/plain": [
       "'После исключения позиций с < 50 строк осталось 2826 строк и 3 позиций'"
      ]
     },
     "metadata": {},
     "output_type": "display_data"
    },
    {
     "name": "stdout",
     "output_type": "stream",
     "text": [
      "0:\tlearn: 62594.8824714\ttest: 64081.3692125\tbest: 64081.3692125 (0)\ttotal: 32.3ms\tremaining: 32.2s\n",
      "100:\tlearn: 36437.1732954\ttest: 39631.4340266\tbest: 39631.4340266 (100)\ttotal: 2.68s\tremaining: 23.9s\n",
      "200:\tlearn: 34333.2258574\ttest: 39030.4410621\tbest: 39009.6801716 (198)\ttotal: 4.67s\tremaining: 18.6s\n",
      "300:\tlearn: 33016.0243025\ttest: 38933.8855421\tbest: 38933.8855421 (300)\ttotal: 6.67s\tremaining: 15.5s\n",
      "400:\tlearn: 32174.8667189\ttest: 38962.0411655\tbest: 38924.8179534 (333)\ttotal: 8.62s\tremaining: 12.9s\n",
      "500:\tlearn: 31435.4762030\ttest: 38895.7594838\tbest: 38893.8160058 (497)\ttotal: 10.5s\tremaining: 10.5s\n",
      "600:\tlearn: 30890.6704996\ttest: 38892.4990086\tbest: 38852.8252316 (531)\ttotal: 12.4s\tremaining: 8.21s\n",
      "700:\tlearn: 30437.9142717\ttest: 38957.6232635\tbest: 38852.8252316 (531)\ttotal: 14.2s\tremaining: 6.07s\n",
      "800:\tlearn: 29983.5537282\ttest: 39025.7823433\tbest: 38852.8252316 (531)\ttotal: 16.1s\tremaining: 3.99s\n",
      "900:\tlearn: 29541.2295507\ttest: 39137.5367720\tbest: 38852.8252316 (531)\ttotal: 18s\tremaining: 1.98s\n",
      "999:\tlearn: 29117.5661867\ttest: 39178.5240575\tbest: 38852.8252316 (531)\ttotal: 19.9s\tremaining: 0us\n",
      "bestTest = 38852.82523\n",
      "bestIteration = 531\n",
      "Shrink model to first 532 iterations.\n"
     ]
    },
    {
     "name": "stderr",
     "output_type": "stream",
     "text": [
      "C:\\Users\\Андрей\\AppData\\Local\\Temp\\ipykernel_11772\\1502167267.py:35: FutureWarning: DataFrameGroupBy.apply operated on the grouping columns. This behavior is deprecated, and in a future version of pandas the grouping columns will be excluded from the operation. Either pass `include_groups=False` to exclude the groupings or explicitly select the grouping columns after groupby to silence this warning.\n",
      "  df_filtered = df_skills_filtered.groupby('position', group_keys=False).apply(filter_top_vacancies).reset_index(drop=True)\n"
     ]
    },
    {
     "data": {
      "text/plain": [
       "' Взяли 100 вакансий . Осталось 6905 cтрок в df'"
      ]
     },
     "metadata": {},
     "output_type": "display_data"
    },
    {
     "data": {
      "text/plain": [
       "'После исключения позиций с < 50 строк осталось 3586 строк и 4 позиций'"
      ]
     },
     "metadata": {},
     "output_type": "display_data"
    },
    {
     "name": "stdout",
     "output_type": "stream",
     "text": [
      "0:\tlearn: 60992.3828378\ttest: 61811.8530015\tbest: 61811.8530015 (0)\ttotal: 30.1ms\tremaining: 30.1s\n",
      "100:\tlearn: 35149.0797116\ttest: 37044.0351657\tbest: 37044.0351657 (100)\ttotal: 2.67s\tremaining: 23.8s\n",
      "200:\tlearn: 33069.0879052\ttest: 36630.6660028\tbest: 36625.5833788 (199)\ttotal: 4.58s\tremaining: 18.2s\n",
      "300:\tlearn: 31890.6401551\ttest: 36488.3991629\tbest: 36455.2716568 (252)\ttotal: 6.46s\tremaining: 15s\n",
      "400:\tlearn: 31034.7164568\ttest: 36451.8371788\tbest: 36443.9082573 (367)\ttotal: 8.33s\tremaining: 12.4s\n",
      "500:\tlearn: 30247.5237427\ttest: 36436.1950867\tbest: 36398.0209163 (485)\ttotal: 10.2s\tremaining: 10.2s\n",
      "600:\tlearn: 29712.2103749\ttest: 36481.2793068\tbest: 36398.0209163 (485)\ttotal: 12.1s\tremaining: 8.05s\n",
      "700:\tlearn: 29213.5025255\ttest: 36498.4959126\tbest: 36398.0209163 (485)\ttotal: 14s\tremaining: 5.98s\n",
      "800:\tlearn: 28784.7219895\ttest: 36476.6576193\tbest: 36398.0209163 (485)\ttotal: 15.9s\tremaining: 3.95s\n",
      "900:\tlearn: 28430.0141263\ttest: 36470.8557230\tbest: 36398.0209163 (485)\ttotal: 17.8s\tremaining: 1.95s\n",
      "999:\tlearn: 28086.8401966\ttest: 36471.7171201\tbest: 36398.0209163 (485)\ttotal: 19.6s\tremaining: 0us\n",
      "bestTest = 36398.02092\n",
      "bestIteration = 485\n",
      "Shrink model to first 486 iterations.\n"
     ]
    },
    {
     "name": "stderr",
     "output_type": "stream",
     "text": [
      "Top-N Skills:  86%|████████▌ | 6/7 [06:34<01:05, 65.38s/it]"
     ]
    },
    {
     "data": {
      "text/plain": [
       "' Взяли 800 скилов . Осталось 11434 cтрок в df. Всего уникальных 9693'"
      ]
     },
     "metadata": {},
     "output_type": "display_data"
    },
    {
     "name": "stderr",
     "output_type": "stream",
     "text": [
      "C:\\Users\\Андрей\\AppData\\Local\\Temp\\ipykernel_11772\\1502167267.py:35: FutureWarning: DataFrameGroupBy.apply operated on the grouping columns. This behavior is deprecated, and in a future version of pandas the grouping columns will be excluded from the operation. Either pass `include_groups=False` to exclude the groupings or explicitly select the grouping columns after groupby to silence this warning.\n",
      "  df_filtered = df_skills_filtered.groupby('position', group_keys=False).apply(filter_top_vacancies).reset_index(drop=True)\n"
     ]
    },
    {
     "data": {
      "text/plain": [
       "' Взяли 50 вакансий . Осталось 5937 cтрок в df'"
      ]
     },
     "metadata": {},
     "output_type": "display_data"
    },
    {
     "data": {
      "text/plain": [
       "'После исключения позиций с < 50 строк осталось 2668 строк и 3 позиций'"
      ]
     },
     "metadata": {},
     "output_type": "display_data"
    },
    {
     "name": "stdout",
     "output_type": "stream",
     "text": [
      "0:\tlearn: 64076.9685945\ttest: 60177.2730338\tbest: 60177.2730338 (0)\ttotal: 30.3ms\tremaining: 30.3s\n",
      "100:\tlearn: 36095.9172336\ttest: 38204.0406284\tbest: 38204.0406284 (100)\ttotal: 2.69s\tremaining: 23.9s\n",
      "200:\tlearn: 33842.2614999\ttest: 37613.5134491\tbest: 37613.5134491 (200)\ttotal: 4.72s\tremaining: 18.8s\n",
      "300:\tlearn: 32590.1143637\ttest: 37252.4767519\tbest: 37252.4767519 (300)\ttotal: 6.7s\tremaining: 15.6s\n",
      "400:\tlearn: 31648.6370524\ttest: 37174.2287826\tbest: 37143.7112496 (387)\ttotal: 8.6s\tremaining: 12.8s\n",
      "500:\tlearn: 30837.2382603\ttest: 37064.4228417\tbest: 37064.4228417 (500)\ttotal: 10.6s\tremaining: 10.6s\n",
      "600:\tlearn: 30258.9698768\ttest: 36981.4818203\tbest: 36981.4818203 (600)\ttotal: 12.5s\tremaining: 8.29s\n",
      "700:\tlearn: 29762.4901624\ttest: 36948.5974287\tbest: 36937.2118223 (690)\ttotal: 14.3s\tremaining: 6.11s\n",
      "800:\tlearn: 29267.4374997\ttest: 36941.9103910\tbest: 36916.2447170 (766)\ttotal: 16.2s\tremaining: 4.02s\n",
      "900:\tlearn: 28822.5654557\ttest: 36931.7433646\tbest: 36916.2447170 (766)\ttotal: 18s\tremaining: 1.98s\n",
      "999:\tlearn: 28530.3293437\ttest: 36909.6920853\tbest: 36909.6920853 (999)\ttotal: 19.8s\tremaining: 0us\n",
      "bestTest = 36909.69209\n",
      "bestIteration = 999\n"
     ]
    },
    {
     "name": "stderr",
     "output_type": "stream",
     "text": [
      "C:\\Users\\Андрей\\AppData\\Local\\Temp\\ipykernel_11772\\1502167267.py:35: FutureWarning: DataFrameGroupBy.apply operated on the grouping columns. This behavior is deprecated, and in a future version of pandas the grouping columns will be excluded from the operation. Either pass `include_groups=False` to exclude the groupings or explicitly select the grouping columns after groupby to silence this warning.\n",
      "  df_filtered = df_skills_filtered.groupby('position', group_keys=False).apply(filter_top_vacancies).reset_index(drop=True)\n"
     ]
    },
    {
     "data": {
      "text/plain": [
       "' Взяли 70 вакансий . Осталось 6439 cтрок в df'"
      ]
     },
     "metadata": {},
     "output_type": "display_data"
    },
    {
     "data": {
      "text/plain": [
       "'После исключения позиций с < 50 строк осталось 2834 строк и 3 позиций'"
      ]
     },
     "metadata": {},
     "output_type": "display_data"
    },
    {
     "name": "stdout",
     "output_type": "stream",
     "text": [
      "0:\tlearn: 62802.9450072\ttest: 66029.6595693\tbest: 66029.6595693 (0)\ttotal: 31.6ms\tremaining: 31.6s\n",
      "100:\tlearn: 36450.0483378\ttest: 40056.6203102\tbest: 40056.6203102 (100)\ttotal: 2.61s\tremaining: 23.2s\n",
      "200:\tlearn: 34151.1017541\ttest: 39441.9384216\tbest: 39423.5627759 (198)\ttotal: 4.54s\tremaining: 18.1s\n",
      "300:\tlearn: 32738.1698754\ttest: 39206.0191209\tbest: 39191.6414963 (278)\ttotal: 6.42s\tremaining: 14.9s\n",
      "400:\tlearn: 31733.7295987\ttest: 39154.3506568\tbest: 39143.5897698 (374)\ttotal: 8.36s\tremaining: 12.5s\n",
      "500:\tlearn: 30883.1886228\ttest: 39128.0029527\tbest: 39092.5626435 (467)\ttotal: 10.3s\tremaining: 10.3s\n",
      "600:\tlearn: 30125.6988848\ttest: 39161.6115699\tbest: 39092.5626435 (467)\ttotal: 12.3s\tremaining: 8.13s\n",
      "700:\tlearn: 29452.4390362\ttest: 39155.4820235\tbest: 39092.5626435 (467)\ttotal: 14.2s\tremaining: 6.07s\n",
      "800:\tlearn: 28915.0061860\ttest: 39277.7683892\tbest: 39092.5626435 (467)\ttotal: 16.2s\tremaining: 4.03s\n",
      "900:\tlearn: 28461.8112802\ttest: 39351.2242089\tbest: 39092.5626435 (467)\ttotal: 18.2s\tremaining: 2s\n",
      "999:\tlearn: 28111.0114107\ttest: 39384.3495729\tbest: 39092.5626435 (467)\ttotal: 20.1s\tremaining: 0us\n",
      "bestTest = 39092.56264\n",
      "bestIteration = 467\n",
      "Shrink model to first 468 iterations.\n"
     ]
    },
    {
     "name": "stderr",
     "output_type": "stream",
     "text": [
      "C:\\Users\\Андрей\\AppData\\Local\\Temp\\ipykernel_11772\\1502167267.py:35: FutureWarning: DataFrameGroupBy.apply operated on the grouping columns. This behavior is deprecated, and in a future version of pandas the grouping columns will be excluded from the operation. Either pass `include_groups=False` to exclude the groupings or explicitly select the grouping columns after groupby to silence this warning.\n",
      "  df_filtered = df_skills_filtered.groupby('position', group_keys=False).apply(filter_top_vacancies).reset_index(drop=True)\n"
     ]
    },
    {
     "data": {
      "text/plain": [
       "' Взяли 100 вакансий . Осталось 6927 cтрок в df'"
      ]
     },
     "metadata": {},
     "output_type": "display_data"
    },
    {
     "data": {
      "text/plain": [
       "'После исключения позиций с < 50 строк осталось 3594 строк и 4 позиций'"
      ]
     },
     "metadata": {},
     "output_type": "display_data"
    },
    {
     "name": "stdout",
     "output_type": "stream",
     "text": [
      "0:\tlearn: 61683.2062609\ttest: 59940.3396854\tbest: 59940.3396854 (0)\ttotal: 31.7ms\tremaining: 31.7s\n",
      "100:\tlearn: 34730.9643886\ttest: 38162.0764260\tbest: 38162.0764260 (100)\ttotal: 2.79s\tremaining: 24.9s\n",
      "200:\tlearn: 33027.1466939\ttest: 37905.9592706\tbest: 37904.0946653 (199)\ttotal: 4.86s\tremaining: 19.3s\n",
      "300:\tlearn: 31939.8082585\ttest: 37758.1563514\tbest: 37742.2360111 (289)\ttotal: 6.82s\tremaining: 15.8s\n",
      "400:\tlearn: 31164.7470758\ttest: 37700.2861965\tbest: 37699.3153409 (399)\ttotal: 8.75s\tremaining: 13.1s\n",
      "500:\tlearn: 30393.8157198\ttest: 37595.1509205\tbest: 37589.7878869 (486)\ttotal: 10.7s\tremaining: 10.7s\n",
      "600:\tlearn: 29673.1072351\ttest: 37512.9938143\tbest: 37504.0258626 (574)\ttotal: 12.7s\tremaining: 8.44s\n",
      "700:\tlearn: 29123.6332051\ttest: 37463.5362089\tbest: 37451.2177691 (688)\ttotal: 14.7s\tremaining: 6.25s\n",
      "800:\tlearn: 28589.1799776\ttest: 37380.4470807\tbest: 37379.3891337 (794)\ttotal: 16.6s\tremaining: 4.13s\n",
      "900:\tlearn: 28164.0375287\ttest: 37336.3155160\tbest: 37332.4341488 (897)\ttotal: 18.6s\tremaining: 2.04s\n",
      "999:\tlearn: 27773.1685193\ttest: 37314.9404518\tbest: 37314.2614789 (998)\ttotal: 20.5s\tremaining: 0us\n",
      "bestTest = 37314.26148\n",
      "bestIteration = 998\n",
      "Shrink model to first 999 iterations.\n"
     ]
    },
    {
     "name": "stderr",
     "output_type": "stream",
     "text": [
      "Top-N Skills: 100%|██████████| 7/7 [07:38<00:00, 65.55s/it]\n"
     ]
    },
    {
     "data": {
      "image/png": "[encoded data removed]",
      "text/plain": [
       "<Figure size 1400x600 with 4 Axes>"
      ]
     },
     "metadata": {},
     "output_type": "display_data"
    },
    {
     "name": "stdout",
     "output_type": "stream",
     "text": [
      "Лучшее сочетание по MAE:\n",
      "Top Skills: 30.0, Top Vacancies: 50.0, MAE: 24589.07, R²: 0.64\n"
     ]
    }
   ],
   "source": [
    "from catboost import CatBoostRegressor, Pool\n",
    "from sklearn.model_selection import StratifiedShuffleSplit\n",
    "import pandas as pd\n",
    "\n",
    "# Параметры\n",
    "top_skills_range = [ 30, 50, 70, 100, 300, 500, 800]\n",
    "top_vacancies_range = [50,70, 100] # 30, 40 , 50, 70,\n",
    "\n",
    "\n",
    "results = []\n",
    "\n",
    "for skill_n in tqdm(top_skills_range, desc=\"Top-N Skills\"):\n",
    "    df_skills_filtered = filtered_skills_top_n(df_train_result.copy(), skill_n)\n",
    "    #display(df_skills_filtered['skills'])\n",
    "    # Удаляем строки с пустыми списками skills\n",
    "    df_skills_filtered = df_skills_filtered[df_skills_filtered['skills_normalized'].apply(lambda x: len(x) > 0)]\n",
    "    \n",
    "\n",
    "    def flatten_skills(skills_series):\n",
    "        all_skills = []\n",
    "        for skill_list in skills_series:\n",
    "            if isinstance(skill_list, list):\n",
    "                all_skills.extend(skill_list)\n",
    "        return all_skills\n",
    "    #display(df_skills_filtered['skills'])\n",
    "    display(f\" Взяли {skill_n} скилов . Осталось {df_skills_filtered.shape[0]} cтрок в df. Всего уникальных {len(set(flatten_skills(df_skills_filtered['skills_normalized'])))}\" )\n",
    "    for vac_n in top_vacancies_range:\n",
    "        # Фильтрация вакансий по top-N внутри позиции\n",
    "        def filter_top_vacancies(group, n=vac_n):\n",
    "            vac_counts = group['vacancy'].value_counts()\n",
    "            top_vacancies = vac_counts.head(n).index.tolist()\n",
    "            #top_vacancies = vac_counts.index.tolist()\n",
    "            return group[group['vacancy'].isin(top_vacancies)]\n",
    "\n",
    "        df_filtered = df_skills_filtered.groupby('position', group_keys=False).apply(filter_top_vacancies).reset_index(drop=True)\n",
    "        display(f\" Взяли {vac_n} вакансий . Осталось {df_filtered.shape[0]} cтрок в df\")\n",
    "        \n",
    "        # Удаляем позиции с количеством строк < th\n",
    "        position_counts = df_filtered['position'].value_counts()\n",
    "        th = 200\n",
    "        valid_positions = position_counts[position_counts >= th].index.tolist() # 200\n",
    "\n",
    "        df_filtered = df_filtered[df_filtered['position'].isin(valid_positions)]\n",
    "\n",
    "        display(f\"После исключения позиций с < {th} строк осталось {df_filtered.shape[0]} строк и {len(valid_positions)} позиций\")\n",
    "\n",
    "        \n",
    "        \n",
    "        \n",
    "        # Обработка целевой переменной и признаков\n",
    "        df_temp = df_filtered.copy()\n",
    "        \n",
    "        \n",
    "        # Очистка целевой переменной от выбросов\n",
    "        positions_temp = df_temp['position'].dropna().unique()\n",
    "\n",
    "        for pos in positions_temp:\n",
    "            pos_mask = df_temp['position'] == pos\n",
    "            clean_series = process_series(df_temp.loc[pos_mask, 'salary from'], 'salary from', pos)\n",
    "            if clean_series is not None:\n",
    "                df_temp.loc[clean_series.index, 'salary from norm'] = clean_series\n",
    "\n",
    "        # Удалим строки с NaN после очистки\n",
    "        df_temp = df_temp.dropna(subset=['salary from norm'])\n",
    "        \n",
    "        \n",
    "        if df_temp.empty:\n",
    "            continue\n",
    "\n",
    "\n",
    "\n",
    "        # 1. Подготовка данных\n",
    "        y = df_temp['salary from norm']\n",
    "\n",
    "        if df_temp.empty:\n",
    "            continue\n",
    "\n",
    "        # Преобразование skills в строки с явным указанием типа\n",
    "        df_temp['skills_str'] = df_temp['skills'].apply(\n",
    "            lambda x: ', '.join(map(str, x)) if isinstance(x, list) else str(x)\n",
    "        )\n",
    "\n",
    "        # 2. Формирование признаков\n",
    "        features = ['position', 'experience', 'schedule', 'employment', 'level', 'vacancy', 'skills_str', 'region']\n",
    "        X = df_temp[features]\n",
    "\n",
    "        # 3. Указываем типы признаков\n",
    "        cat_features = ['position', 'experience', 'schedule', 'employment', 'level', 'vacancy', 'region']\n",
    "        text_features = ['skills_str']\n",
    "\n",
    "        # 4. Разбиение на train/test\n",
    "        try:\n",
    "            splitter = StratifiedShuffleSplit(n_splits=1, test_size=0.2, random_state=42)\n",
    "            for train_idx, test_idx in splitter.split(X, df_temp['position']):\n",
    "                X_train, X_test = X.iloc[train_idx], X.iloc[test_idx]\n",
    "                y_train, y_test = y.iloc[train_idx], y.iloc[test_idx]\n",
    "                \n",
    "                # 5. Создаем Pool с минимальными параметрами\n",
    "                train_pool = Pool(\n",
    "                    data=X_train,\n",
    "                    label=y_train,\n",
    "                    cat_features=cat_features,\n",
    "                    text_features=text_features\n",
    "                )\n",
    "                \n",
    "                test_pool = Pool(\n",
    "                    data=X_test,\n",
    "                    label=y_test,\n",
    "                    cat_features=cat_features,\n",
    "                    text_features=text_features\n",
    "                )\n",
    "\n",
    "        except ValueError as e:\n",
    "            print(f\"Ошибка split при skill_n={skill_n}, vac_n={vac_n}: {e}\")\n",
    "            continue\n",
    "\n",
    "        # 6. Упрощенная модель без сложной обработки текста\n",
    "        model = CatBoostRegressor(\n",
    "            iterations=1000,\n",
    "            learning_rate=0.05,\n",
    "            depth=6,\n",
    "            task_type='GPU',\n",
    "            verbose=100\n",
    "        )\n",
    "\n",
    "        # 7. Обучение с базовыми параметрами\n",
    "        model.fit(train_pool, eval_set=test_pool)\n",
    "\n",
    "        y_pred = model.predict(X_test)\n",
    "        \n",
    "        \n",
    "        #y_pred = np.expm1(y_pred)\n",
    "        \n",
    "        #mae = mean_absolute_error(np.expm1(y_test), y_pred)\n",
    "        #r2 = r2_score(np.expm1(y_test),  y_pred)\n",
    "        \n",
    "        mae = mean_absolute_error(y_test, y_pred)\n",
    "        r2 = r2_score(y_test,  y_pred)\n",
    "\n",
    "        results.append({\n",
    "            'top_skills': skill_n,\n",
    "            'top_vacancies': vac_n,\n",
    "            'mae': mae,\n",
    "            'r2': r2,\n",
    "            'rows': len(df_temp)\n",
    "        })\n",
    "\n",
    "# Переводим результаты в DataFrame\n",
    "results_df = pd.DataFrame(results)\n",
    "\n",
    "# Визуализация результатов\n",
    "plt.figure(figsize=(14, 6))\n",
    "\n",
    "plt.subplot(1, 2, 1)\n",
    "pivot_mae = results_df.pivot(index='top_skills', columns='top_vacancies', values='mae')\n",
    "sns.heatmap(pivot_mae, annot=True, fmt=\".2f\", cmap=\"YlGnBu\")\n",
    "plt.title('MAE')\n",
    "plt.xlabel('Top-N вакансий')\n",
    "plt.ylabel('Top-N скиллов')\n",
    "\n",
    "plt.subplot(1, 2, 2)\n",
    "pivot_r2 = results_df.pivot(index='top_skills', columns='top_vacancies', values='r2')\n",
    "sns.heatmap(pivot_r2, annot=True, fmt=\".2f\", cmap=\"YlGnBu\")\n",
    "plt.title('R²')\n",
    "plt.xlabel('Top-N вакансий')\n",
    "plt.ylabel('Top-N скиллов')\n",
    "\n",
    "plt.tight_layout()\n",
    "plt.show()\n",
    "\n",
    "# Вывод лучшего сочетания\n",
    "best_row = results_df.sort_values(by='mae').iloc[0]\n",
    "print(f\"Лучшее сочетание по MAE:\\nTop Skills: {best_row['top_skills']}, \"\n",
    "      f\"Top Vacancies: {best_row['top_vacancies']}, \"\n",
    "      f\"MAE: {best_row['mae']:.2f}, R²: {best_row['r2']:.2f}\")\n",
    "\n"
   ]
  },
  {
   "cell_type": "markdown",
   "id": "52de0454",
   "metadata": {},
   "source": [
    "posiiton > 550 vac\n",
    "Лучшее сочетание по MAE:\n",
    "Top Skills: 30.0, Top Vacancies: 50.0, MAE: 24589.07, R²: 0.64"
   ]
  },
  {
   "cell_type": "markdown",
   "id": "e01e424a",
   "metadata": {},
   "source": [
    "posiiton > 50 vac\n",
    "Лучшее сочетание по MAE:\n",
    "Top Skills: 70.0, Top Vacancies: 100.0, MAE: 25800.61, R²: 0.68"
   ]
  },
  {
   "cell_type": "markdown",
   "id": "ee226270",
   "metadata": {},
   "source": [
    "#### Перезагрузка DF . Далее использую свои Скилс и Position hh.ru"
   ]
  },
  {
   "cell_type": "code",
   "execution_count": 57,
   "id": "64c5826c",
   "metadata": {},
   "outputs": [],
   "source": [
    "#df_copy = pd.read_csv('data/stage_3_df_100s_50p_5.csv')\n",
    "df_copy = pd.read_csv('data/stage_3_df_cluster_vac_to_model_4.csv')\n"
   ]
  },
  {
   "cell_type": "code",
   "execution_count": 58,
   "id": "f30108c9",
   "metadata": {},
   "outputs": [],
   "source": [
    "df_copy = df_copy.drop(['industry','level_copy', 'is_it','skills_list', 'skills_clean',\n",
    "                        'skills_llm','vacancy_info','experience level','contact', 'contacts', 'education', 'benefits', \n",
    "                        'requirements', 'responsibilities', 'period of pay', 'text',\n",
    "                        'ID', 'url', 'skills_count','currency', 'skills_new', 'vacancy_norm'], axis = 1)"
   ]
  },
  {
   "cell_type": "code",
   "execution_count": 59,
   "id": "700cb59b",
   "metadata": {},
   "outputs": [],
   "source": [
    "# подготовка данных к обучению\n",
    "\n",
    "df_train_result = df_copy[(df_copy['country'] == 'Россия') ][['salary from norm',\n",
    "                                                              'salary to norm', \n",
    "                                                              'position', \n",
    "                                                              'experience_norm', \n",
    "                                                               'skills_processed', # 'skills_clean_norm','skills_processed, 'skills_manu'\n",
    "                                                              'schedule','employment', 'vacancy it',\n",
    "                                                               #'vacancy_norm_llm_check_1', 'vacancy it','vacancy_manu','vacancy_norm_2', 'vacancy_manu'\n",
    "                                                              'level',\n",
    "                                                              'region']]\n",
    "\n",
    "df_train_result = df_train_result.dropna(subset=['salary from norm', 'salary to norm'], how='any') # \n",
    "\n",
    "df_train_result.rename(columns={'skills_processed': 'skills',\n",
    "                                'experience_norm':'experience',\n",
    "                                'vacancy it':'vacancy'}, inplace=True)\n",
    "\n",
    "df_train_result['skills'] = df_train_result['skills'].apply(literal_eval)\n",
    "\n",
    "df_train_result.rename(columns={\n",
    "    'salary from norm': 'salary from',\n",
    "    'salary to norm': 'salary to'\n",
    "}, inplace=True)"
   ]
  },
  {
   "cell_type": "code",
   "execution_count": 60,
   "id": "10a31d7c",
   "metadata": {},
   "outputs": [],
   "source": [
    "mask = df_train_result['region'].value_counts() >= 50 # 100\n",
    "df_train_result = df_train_result[df_train_result['region'].isin(mask[mask].index)]"
   ]
  },
  {
   "cell_type": "code",
   "execution_count": 61,
   "id": "8f779045",
   "metadata": {},
   "outputs": [
    {
     "name": "stdout",
     "output_type": "stream",
     "text": [
      "<class 'pandas.core.frame.DataFrame'>\n",
      "Index: 14253 entries, 0 to 14974\n",
      "Data columns (total 10 columns):\n",
      " #   Column       Non-Null Count  Dtype  \n",
      "---  ------       --------------  -----  \n",
      " 0   salary from  14253 non-null  float64\n",
      " 1   salary to    14253 non-null  float64\n",
      " 2   position     14253 non-null  object \n",
      " 3   experience   14253 non-null  object \n",
      " 4   skills       14253 non-null  object \n",
      " 5   schedule     14253 non-null  object \n",
      " 6   employment   14253 non-null  object \n",
      " 7   vacancy      14253 non-null  object \n",
      " 8   level        14253 non-null  object \n",
      " 9   region       14253 non-null  object \n",
      "dtypes: float64(2), object(8)\n",
      "memory usage: 1.2+ MB\n"
     ]
    }
   ],
   "source": [
    "df_train_result.info()"
   ]
  },
  {
   "cell_type": "code",
   "execution_count": 62,
   "id": "a4486420",
   "metadata": {},
   "outputs": [],
   "source": [
    "def filtered_skills_top_n(df_train_result, n):\n",
    "    \"\"\"\n",
    "    Фильтрует навыки, оставляя только N наиболее популярных навыков для каждой позиции.\n",
    "    \n",
    "    :param df_skills_filtered: Входящий DataFrame с колонками 'position' и 'skills'.\n",
    "    :param n: Число наиболее популярных навыков, которое нужно оставить.\n",
    "    :return: Отфильтрованный DataFrame с сокращённым списком навыков.\n",
    "    \"\"\"\n",
    "    \n",
    "    result_df = df_train_result.copy()\n",
    "    #display(result_df['skills'])\n",
    "    # Перебираем каждую уникальную должность\n",
    "    for pos in result_df['position'].unique():\n",
    "        # Маска для выбора строк с нужной должностью\n",
    "        mask = result_df['position'] == pos\n",
    "        \n",
    "        # Собираем все навыки в один большой список\n",
    "        skills_lists = result_df.loc[mask, 'skills']\n",
    "        all_skills = [skill for sublist in skills_lists for skill in sublist]\n",
    "        \n",
    "        # Считаем частоту появления каждого навыка\n",
    "        skill_counts = Counter(all_skills)\n",
    "        \n",
    "        # Берём топ-n навыков\n",
    "        top_n_skills = set([skill for skill, _ in skill_counts.most_common(n)])\n",
    "        \n",
    "        # Применяем фильтр к списку навыков\n",
    "        result_df.loc[mask, 'skills'] = skills_lists.apply(\n",
    "            lambda skill_list: [s for s in skill_list if s in top_n_skills]\n",
    "        )\n",
    "        #display(result_df['skills'])\n",
    "    return result_df"
   ]
  },
  {
   "cell_type": "code",
   "execution_count": 63,
   "id": "400682a1",
   "metadata": {},
   "outputs": [],
   "source": [
    "from scipy.stats import normaltest\n",
    "\n",
    "# Функция очистки и нормализации\n",
    "def process_series(series, colname, position):\n",
    "    series = pd.to_numeric(series, errors='coerce')\n",
    "    series = series.dropna()\n",
    "    n_total = len(series)\n",
    "\n",
    "\n",
    "    stat, p = normaltest(series)\n",
    "    is_normal = p > 0.05\n",
    "\n",
    "    if is_normal:\n",
    "        mu, sigma = series.mean(), series.std()\n",
    "        mask = (series >= mu - 3 * sigma) & (series <= mu + 3 * sigma)\n",
    "    else:\n",
    "        q1 = series.quantile(0.25)\n",
    "        q3 = series.quantile(0.75)\n",
    "        iqr = q3 - q1\n",
    "        mask = (series >= q1 - 1.5 * iqr) & (series <= q3 + 1.5 * iqr)\n",
    "\n",
    "    n_filtered = mask.sum()\n",
    "    n_removed = n_total - n_filtered\n",
    "\n",
    "\n",
    "    return series[mask]"
   ]
  },
  {
   "cell_type": "code",
   "execution_count": null,
   "id": "282d1697",
   "metadata": {},
   "outputs": [],
   "source": []
  },
  {
   "cell_type": "code",
   "execution_count": null,
   "id": "b297e42e",
   "metadata": {},
   "outputs": [
    {
     "name": "stderr",
     "output_type": "stream",
     "text": [
      "Top-N Skills:   0%|          | 0/7 [00:00<?, ?it/s]"
     ]
    },
    {
     "data": {
      "text/plain": [
       "' Взяли 30 скилов . Осталось 9566 cтрок в df. Всего уникальных 590'"
      ]
     },
     "metadata": {},
     "output_type": "display_data"
    },
    {
     "name": "stderr",
     "output_type": "stream",
     "text": [
      "C:\\Users\\Андрей\\AppData\\Local\\Temp\\ipykernel_11772\\2943226459.py:52: FutureWarning: DataFrameGroupBy.apply operated on the grouping columns. This behavior is deprecated, and in a future version of pandas the grouping columns will be excluded from the operation. Either pass `include_groups=False` to exclude the groupings or explicitly select the grouping columns after groupby to silence this warning.\n",
      "  df_filtered = df_skills_filtered.groupby('position', group_keys=False).apply(filter_top_vacancies).reset_index(drop=True)\n"
     ]
    },
    {
     "data": {
      "text/plain": [
       "' Взяли 30 вакансий . Осталось 4784 cтрок в df'"
      ]
     },
     "metadata": {},
     "output_type": "display_data"
    },
    {
     "data": {
      "text/plain": [
       "'После исключения позиций с < 50 строк осталось 3316 строк и 6 позиций'"
      ]
     },
     "metadata": {},
     "output_type": "display_data"
    },
    {
     "name": "stdout",
     "output_type": "stream",
     "text": [
      "0:\tlearn: 56955.5212784\ttest: 57075.1990851\tbest: 57075.1990851 (0)\ttotal: 31.6ms\tremaining: 31.5s\n",
      "100:\tlearn: 33393.9933526\ttest: 34105.9784849\tbest: 34099.4745260 (98)\ttotal: 2.74s\tremaining: 24.4s\n",
      "200:\tlearn: 32025.9913017\ttest: 34085.0775106\tbest: 33989.8629111 (158)\ttotal: 4.93s\tremaining: 19.6s\n",
      "300:\tlearn: 31275.0276109\ttest: 34284.7934689\tbest: 33989.8629111 (158)\ttotal: 7.01s\tremaining: 16.3s\n",
      "400:\tlearn: 30868.8517248\ttest: 34433.2614466\tbest: 33989.8629111 (158)\ttotal: 9.07s\tremaining: 13.6s\n",
      "500:\tlearn: 30537.7218065\ttest: 34601.4530404\tbest: 33989.8629111 (158)\ttotal: 11.3s\tremaining: 11.2s\n",
      "600:\tlearn: 30286.4738551\ttest: 34730.5523330\tbest: 33989.8629111 (158)\ttotal: 13.4s\tremaining: 8.92s\n",
      "700:\tlearn: 30073.6043138\ttest: 34760.5059778\tbest: 33989.8629111 (158)\ttotal: 15.6s\tremaining: 6.66s\n",
      "800:\tlearn: 29804.7473138\ttest: 34781.8506772\tbest: 33989.8629111 (158)\ttotal: 17.7s\tremaining: 4.41s\n",
      "900:\tlearn: 29597.7996955\ttest: 34776.1663010\tbest: 33989.8629111 (158)\ttotal: 19.9s\tremaining: 2.18s\n",
      "999:\tlearn: 29404.3083720\ttest: 34780.6381642\tbest: 33989.8629111 (158)\ttotal: 22.1s\tremaining: 0us\n",
      "bestTest = 33989.86291\n",
      "bestIteration = 158\n",
      "Shrink model to first 159 iterations.\n"
     ]
    },
    {
     "name": "stderr",
     "output_type": "stream",
     "text": [
      "C:\\Users\\Андрей\\AppData\\Local\\Temp\\ipykernel_11772\\2943226459.py:52: FutureWarning: DataFrameGroupBy.apply operated on the grouping columns. This behavior is deprecated, and in a future version of pandas the grouping columns will be excluded from the operation. Either pass `include_groups=False` to exclude the groupings or explicitly select the grouping columns after groupby to silence this warning.\n",
      "  df_filtered = df_skills_filtered.groupby('position', group_keys=False).apply(filter_top_vacancies).reset_index(drop=True)\n"
     ]
    },
    {
     "data": {
      "text/plain": [
       "' Взяли 50 вакансий . Осталось 5394 cтрок в df'"
      ]
     },
     "metadata": {},
     "output_type": "display_data"
    },
    {
     "data": {
      "text/plain": [
       "'После исключения позиций с < 50 строк осталось 3878 строк и 7 позиций'"
      ]
     },
     "metadata": {},
     "output_type": "display_data"
    },
    {
     "name": "stdout",
     "output_type": "stream",
     "text": [
      "0:\tlearn: 58181.0977573\ttest: 55029.8038035\tbest: 55029.8038035 (0)\ttotal: 28.9ms\tremaining: 28.9s\n",
      "100:\tlearn: 33990.0607123\ttest: 32682.8868608\tbest: 32682.8868608 (100)\ttotal: 2.84s\tremaining: 25.3s\n",
      "200:\tlearn: 32684.2652876\ttest: 32293.9005771\tbest: 32275.8727562 (183)\ttotal: 5.05s\tremaining: 20.1s\n",
      "300:\tlearn: 32111.4266667\ttest: 32329.8535701\tbest: 32275.8727562 (183)\ttotal: 7.14s\tremaining: 16.6s\n",
      "400:\tlearn: 31767.2916660\ttest: 32396.7276294\tbest: 32275.8727562 (183)\ttotal: 9.37s\tremaining: 14s\n",
      "500:\tlearn: 31525.1945761\ttest: 32417.2883388\tbest: 32275.8727562 (183)\ttotal: 11.5s\tremaining: 11.5s\n",
      "600:\tlearn: 31291.5958535\ttest: 32462.9546413\tbest: 32275.8727562 (183)\ttotal: 13.7s\tremaining: 9.07s\n",
      "700:\tlearn: 30937.8425616\ttest: 32532.1525452\tbest: 32275.8727562 (183)\ttotal: 15.7s\tremaining: 6.7s\n",
      "800:\tlearn: 30436.4064955\ttest: 32548.6284971\tbest: 32275.8727562 (183)\ttotal: 17.9s\tremaining: 4.45s\n",
      "900:\tlearn: 30102.5451138\ttest: 32559.9585664\tbest: 32275.8727562 (183)\ttotal: 20.1s\tremaining: 2.21s\n",
      "999:\tlearn: 29826.2723318\ttest: 32586.5561698\tbest: 32275.8727562 (183)\ttotal: 22.2s\tremaining: 0us\n",
      "bestTest = 32275.87276\n",
      "bestIteration = 183\n",
      "Shrink model to first 184 iterations.\n"
     ]
    },
    {
     "name": "stderr",
     "output_type": "stream",
     "text": [
      "C:\\Users\\Андрей\\AppData\\Local\\Temp\\ipykernel_11772\\2943226459.py:52: FutureWarning: DataFrameGroupBy.apply operated on the grouping columns. This behavior is deprecated, and in a future version of pandas the grouping columns will be excluded from the operation. Either pass `include_groups=False` to exclude the groupings or explicitly select the grouping columns after groupby to silence this warning.\n",
      "  df_filtered = df_skills_filtered.groupby('position', group_keys=False).apply(filter_top_vacancies).reset_index(drop=True)\n"
     ]
    },
    {
     "data": {
      "text/plain": [
       "' Взяли 70 вакансий . Осталось 5815 cтрок в df'"
      ]
     },
     "metadata": {},
     "output_type": "display_data"
    },
    {
     "data": {
      "text/plain": [
       "'После исключения позиций с < 50 строк осталось 4333 строк и 8 позиций'"
      ]
     },
     "metadata": {},
     "output_type": "display_data"
    },
    {
     "name": "stdout",
     "output_type": "stream",
     "text": [
      "0:\tlearn: 61892.8996234\ttest: 62575.0046837\tbest: 62575.0046837 (0)\ttotal: 30.4ms\tremaining: 30.3s\n",
      "100:\tlearn: 35285.7594311\ttest: 36965.5758202\tbest: 36965.5758202 (100)\ttotal: 2.81s\tremaining: 25s\n",
      "200:\tlearn: 34020.8569497\ttest: 36692.1098480\tbest: 36673.0018452 (170)\ttotal: 5.11s\tremaining: 20.3s\n",
      "300:\tlearn: 33153.6928654\ttest: 36638.7620305\tbest: 36616.1549544 (254)\ttotal: 7.42s\tremaining: 17.2s\n",
      "400:\tlearn: 32536.9748886\ttest: 36694.1991172\tbest: 36616.1549544 (254)\ttotal: 9.59s\tremaining: 14.3s\n",
      "500:\tlearn: 31997.9352442\ttest: 36769.5451413\tbest: 36616.1549544 (254)\ttotal: 11.8s\tremaining: 11.7s\n",
      "600:\tlearn: 31598.3288740\ttest: 36807.1023440\tbest: 36616.1549544 (254)\ttotal: 13.9s\tremaining: 9.25s\n",
      "700:\tlearn: 31236.5310555\ttest: 36798.3953705\tbest: 36616.1549544 (254)\ttotal: 16.1s\tremaining: 6.86s\n",
      "800:\tlearn: 30888.9269272\ttest: 36820.2820873\tbest: 36616.1549544 (254)\ttotal: 18.2s\tremaining: 4.52s\n",
      "900:\tlearn: 30609.1946553\ttest: 36861.7239607\tbest: 36616.1549544 (254)\ttotal: 20.4s\tremaining: 2.24s\n",
      "999:\tlearn: 30356.7867560\ttest: 36879.3249799\tbest: 36616.1549544 (254)\ttotal: 22.6s\tremaining: 0us\n",
      "bestTest = 36616.15495\n",
      "bestIteration = 254\n",
      "Shrink model to first 255 iterations.\n"
     ]
    },
    {
     "name": "stderr",
     "output_type": "stream",
     "text": [
      "C:\\Users\\Андрей\\AppData\\Local\\Temp\\ipykernel_11772\\2943226459.py:52: FutureWarning: DataFrameGroupBy.apply operated on the grouping columns. This behavior is deprecated, and in a future version of pandas the grouping columns will be excluded from the operation. Either pass `include_groups=False` to exclude the groupings or explicitly select the grouping columns after groupby to silence this warning.\n",
      "  df_filtered = df_skills_filtered.groupby('position', group_keys=False).apply(filter_top_vacancies).reset_index(drop=True)\n"
     ]
    },
    {
     "data": {
      "text/plain": [
       "' Взяли 100 вакансий . Осталось 6306 cтрок в df'"
      ]
     },
     "metadata": {},
     "output_type": "display_data"
    },
    {
     "data": {
      "text/plain": [
       "'После исключения позиций с < 50 строк осталось 5061 строк и 10 позиций'"
      ]
     },
     "metadata": {},
     "output_type": "display_data"
    },
    {
     "name": "stdout",
     "output_type": "stream",
     "text": [
      "0:\tlearn: 62084.6122096\ttest: 62358.0860156\tbest: 62358.0860156 (0)\ttotal: 29.8ms\tremaining: 29.8s\n",
      "100:\tlearn: 35692.1383350\ttest: 38408.3031819\tbest: 38408.3031819 (100)\ttotal: 2.75s\tremaining: 24.5s\n",
      "200:\tlearn: 34496.0925638\ttest: 38015.4929025\tbest: 38010.3550761 (197)\ttotal: 4.89s\tremaining: 19.4s\n",
      "300:\tlearn: 33987.0527263\ttest: 37962.7126206\tbest: 37962.7126206 (300)\ttotal: 6.78s\tremaining: 15.7s\n",
      "400:\tlearn: 33478.2591132\ttest: 37848.7983292\tbest: 37843.3862922 (395)\ttotal: 8.79s\tremaining: 13.1s\n",
      "500:\tlearn: 33108.0942052\ttest: 37758.5085261\tbest: 37753.9661728 (499)\ttotal: 10.7s\tremaining: 10.7s\n",
      "600:\tlearn: 32724.5636930\ttest: 37723.6133715\tbest: 37716.1000226 (589)\ttotal: 12.7s\tremaining: 8.46s\n",
      "700:\tlearn: 32545.7717060\ttest: 37751.8554333\tbest: 37715.8942748 (616)\ttotal: 14.6s\tremaining: 6.22s\n",
      "800:\tlearn: 32323.6751174\ttest: 37809.4939243\tbest: 37715.8942748 (616)\ttotal: 16.6s\tremaining: 4.12s\n",
      "900:\tlearn: 32053.8356723\ttest: 37818.4043878\tbest: 37715.8942748 (616)\ttotal: 18.5s\tremaining: 2.04s\n",
      "999:\tlearn: 31878.1030175\ttest: 37817.8301944\tbest: 37715.8942748 (616)\ttotal: 20.4s\tremaining: 0us\n",
      "bestTest = 37715.89427\n",
      "bestIteration = 616\n",
      "Shrink model to first 617 iterations.\n"
     ]
    },
    {
     "name": "stderr",
     "output_type": "stream",
     "text": [
      "Top-N Skills:  14%|█▍        | 1/7 [01:32<09:12, 92.09s/it]"
     ]
    },
    {
     "data": {
      "text/plain": [
       "' Взяли 50 скилов . Осталось 10574 cтрок в df. Всего уникальных 961'"
      ]
     },
     "metadata": {},
     "output_type": "display_data"
    },
    {
     "name": "stderr",
     "output_type": "stream",
     "text": [
      "C:\\Users\\Андрей\\AppData\\Local\\Temp\\ipykernel_11772\\2943226459.py:52: FutureWarning: DataFrameGroupBy.apply operated on the grouping columns. This behavior is deprecated, and in a future version of pandas the grouping columns will be excluded from the operation. Either pass `include_groups=False` to exclude the groupings or explicitly select the grouping columns after groupby to silence this warning.\n",
      "  df_filtered = df_skills_filtered.groupby('position', group_keys=False).apply(filter_top_vacancies).reset_index(drop=True)\n"
     ]
    },
    {
     "data": {
      "text/plain": [
       "' Взяли 30 вакансий . Осталось 5258 cтрок в df'"
      ]
     },
     "metadata": {},
     "output_type": "display_data"
    },
    {
     "data": {
      "text/plain": [
       "'После исключения позиций с < 50 строк осталось 3901 строк и 7 позиций'"
      ]
     },
     "metadata": {},
     "output_type": "display_data"
    },
    {
     "name": "stdout",
     "output_type": "stream",
     "text": [
      "0:\tlearn: 57168.0375477\ttest: 56493.2626397\tbest: 56493.2626397 (0)\ttotal: 29.2ms\tremaining: 29.2s\n",
      "100:\tlearn: 33484.7573115\ttest: 34080.1433632\tbest: 34080.1433632 (100)\ttotal: 2.61s\tremaining: 23.3s\n",
      "200:\tlearn: 32213.8972435\ttest: 33665.1173609\tbest: 33653.7370312 (188)\ttotal: 4.63s\tremaining: 18.4s\n",
      "300:\tlearn: 31374.6856234\ttest: 33474.7288871\tbest: 33474.7288871 (300)\ttotal: 6.67s\tremaining: 15.5s\n",
      "400:\tlearn: 30799.0248773\ttest: 33494.5334896\tbest: 33418.2332877 (326)\ttotal: 8.63s\tremaining: 12.9s\n",
      "500:\tlearn: 30417.5664042\ttest: 33541.9087838\tbest: 33418.2332877 (326)\ttotal: 10.6s\tremaining: 10.6s\n",
      "600:\tlearn: 30100.3439613\ttest: 33667.0237685\tbest: 33418.2332877 (326)\ttotal: 12.5s\tremaining: 8.31s\n",
      "700:\tlearn: 29806.0964868\ttest: 33640.3305241\tbest: 33418.2332877 (326)\ttotal: 14.5s\tremaining: 6.18s\n",
      "800:\tlearn: 29517.5344834\ttest: 33638.0022426\tbest: 33418.2332877 (326)\ttotal: 16.5s\tremaining: 4.09s\n",
      "900:\tlearn: 29204.9307390\ttest: 33672.4581980\tbest: 33418.2332877 (326)\ttotal: 18.4s\tremaining: 2.02s\n",
      "999:\tlearn: 28954.3854299\ttest: 33666.0781233\tbest: 33418.2332877 (326)\ttotal: 20.4s\tremaining: 0us\n",
      "bestTest = 33418.23329\n",
      "bestIteration = 326\n",
      "Shrink model to first 327 iterations.\n"
     ]
    },
    {
     "name": "stderr",
     "output_type": "stream",
     "text": [
      "C:\\Users\\Андрей\\AppData\\Local\\Temp\\ipykernel_11772\\2943226459.py:52: FutureWarning: DataFrameGroupBy.apply operated on the grouping columns. This behavior is deprecated, and in a future version of pandas the grouping columns will be excluded from the operation. Either pass `include_groups=False` to exclude the groupings or explicitly select the grouping columns after groupby to silence this warning.\n",
      "  df_filtered = df_skills_filtered.groupby('position', group_keys=False).apply(filter_top_vacancies).reset_index(drop=True)\n"
     ]
    },
    {
     "data": {
      "text/plain": [
       "' Взяли 50 вакансий . Осталось 5917 cтрок в df'"
      ]
     },
     "metadata": {},
     "output_type": "display_data"
    },
    {
     "data": {
      "text/plain": [
       "'После исключения позиций с < 50 строк осталось 4308 строк и 7 позиций'"
      ]
     },
     "metadata": {},
     "output_type": "display_data"
    },
    {
     "name": "stdout",
     "output_type": "stream",
     "text": [
      "0:\tlearn: 59125.7486781\ttest: 57022.6607107\tbest: 57022.6607107 (0)\ttotal: 29.9ms\tremaining: 29.8s\n",
      "100:\tlearn: 34009.1908911\ttest: 34324.4965157\tbest: 34320.9750723 (97)\ttotal: 2.6s\tremaining: 23.2s\n",
      "200:\tlearn: 32469.7905944\ttest: 33925.3631216\tbest: 33925.3631216 (200)\ttotal: 4.67s\tremaining: 18.6s\n",
      "300:\tlearn: 31522.8838966\ttest: 33815.3328004\tbest: 33793.2421885 (288)\ttotal: 6.78s\tremaining: 15.7s\n",
      "400:\tlearn: 30985.2195233\ttest: 33833.1189753\tbest: 33760.2291922 (336)\ttotal: 8.75s\tremaining: 13.1s\n",
      "500:\tlearn: 30513.9644973\ttest: 33841.4977772\tbest: 33760.2291922 (336)\ttotal: 10.7s\tremaining: 10.6s\n",
      "600:\tlearn: 30110.0311098\ttest: 33825.7794405\tbest: 33760.2291922 (336)\ttotal: 12.7s\tremaining: 8.41s\n",
      "700:\tlearn: 29696.2726306\ttest: 33849.9583866\tbest: 33760.2291922 (336)\ttotal: 14.8s\tremaining: 6.3s\n",
      "800:\tlearn: 29408.2794186\ttest: 33847.2457349\tbest: 33760.2291922 (336)\ttotal: 16.7s\tremaining: 4.16s\n",
      "900:\tlearn: 29162.5759729\ttest: 33866.7520369\tbest: 33760.2291922 (336)\ttotal: 18.7s\tremaining: 2.06s\n",
      "999:\tlearn: 28872.4541849\ttest: 33867.7558337\tbest: 33760.2291922 (336)\ttotal: 20.6s\tremaining: 0us\n",
      "bestTest = 33760.22919\n",
      "bestIteration = 336\n",
      "Shrink model to first 337 iterations.\n"
     ]
    },
    {
     "name": "stderr",
     "output_type": "stream",
     "text": [
      "C:\\Users\\Андрей\\AppData\\Local\\Temp\\ipykernel_11772\\2943226459.py:52: FutureWarning: DataFrameGroupBy.apply operated on the grouping columns. This behavior is deprecated, and in a future version of pandas the grouping columns will be excluded from the operation. Either pass `include_groups=False` to exclude the groupings or explicitly select the grouping columns after groupby to silence this warning.\n",
      "  df_filtered = df_skills_filtered.groupby('position', group_keys=False).apply(filter_top_vacancies).reset_index(drop=True)\n"
     ]
    },
    {
     "data": {
      "text/plain": [
       "' Взяли 70 вакансий . Осталось 6368 cтрок в df'"
      ]
     },
     "metadata": {},
     "output_type": "display_data"
    },
    {
     "data": {
      "text/plain": [
       "'После исключения позиций с < 50 строк осталось 4790 строк и 8 позиций'"
      ]
     },
     "metadata": {},
     "output_type": "display_data"
    },
    {
     "name": "stdout",
     "output_type": "stream",
     "text": [
      "0:\tlearn: 62153.4532539\ttest: 62776.6510268\tbest: 62776.6510268 (0)\ttotal: 29.9ms\tremaining: 29.9s\n",
      "100:\tlearn: 36267.0244810\ttest: 37699.0981385\tbest: 37699.0981385 (100)\ttotal: 2.82s\tremaining: 25.1s\n",
      "200:\tlearn: 35167.7947703\ttest: 37110.6594810\tbest: 37110.6594810 (200)\ttotal: 5.18s\tremaining: 20.6s\n",
      "300:\tlearn: 34535.3599001\ttest: 36915.7913785\tbest: 36915.7913785 (300)\ttotal: 7.49s\tremaining: 17.4s\n",
      "400:\tlearn: 34094.9435250\ttest: 36738.4707748\tbest: 36737.0504469 (398)\ttotal: 9.7s\tremaining: 14.5s\n",
      "500:\tlearn: 33661.6874265\ttest: 36617.1153242\tbest: 36614.9380596 (497)\ttotal: 11.8s\tremaining: 11.8s\n",
      "600:\tlearn: 33492.7624556\ttest: 36611.4072893\tbest: 36596.5679050 (555)\ttotal: 13.8s\tremaining: 9.16s\n",
      "700:\tlearn: 33035.5794390\ttest: 36502.9025794\tbest: 36502.9025794 (700)\ttotal: 16s\tremaining: 6.84s\n",
      "800:\tlearn: 32549.9219713\ttest: 36371.5287610\tbest: 36370.9027701 (793)\ttotal: 18.3s\tremaining: 4.54s\n",
      "900:\tlearn: 32124.8946963\ttest: 36204.8974822\tbest: 36204.8974822 (900)\ttotal: 20.4s\tremaining: 2.24s\n",
      "999:\tlearn: 31804.6702062\ttest: 36139.8325609\tbest: 36138.5227524 (997)\ttotal: 22.4s\tremaining: 0us\n",
      "bestTest = 36138.52275\n",
      "bestIteration = 997\n",
      "Shrink model to first 998 iterations.\n"
     ]
    },
    {
     "name": "stderr",
     "output_type": "stream",
     "text": [
      "C:\\Users\\Андрей\\AppData\\Local\\Temp\\ipykernel_11772\\2943226459.py:52: FutureWarning: DataFrameGroupBy.apply operated on the grouping columns. This behavior is deprecated, and in a future version of pandas the grouping columns will be excluded from the operation. Either pass `include_groups=False` to exclude the groupings or explicitly select the grouping columns after groupby to silence this warning.\n",
      "  df_filtered = df_skills_filtered.groupby('position', group_keys=False).apply(filter_top_vacancies).reset_index(drop=True)\n"
     ]
    },
    {
     "data": {
      "text/plain": [
       "' Взяли 100 вакансий . Осталось 6906 cтрок в df'"
      ]
     },
     "metadata": {},
     "output_type": "display_data"
    },
    {
     "data": {
      "text/plain": [
       "'После исключения позиций с < 50 строк осталось 5565 строк и 10 позиций'"
      ]
     },
     "metadata": {},
     "output_type": "display_data"
    },
    {
     "name": "stdout",
     "output_type": "stream",
     "text": [
      "0:\tlearn: 62519.2852887\ttest: 65009.9248571\tbest: 65009.9248571 (0)\ttotal: 30.9ms\tremaining: 30.9s\n",
      "100:\tlearn: 36633.3313889\ttest: 38027.0125733\tbest: 38025.4785384 (99)\ttotal: 2.81s\tremaining: 25s\n",
      "200:\tlearn: 35263.9134200\ttest: 37477.6813538\tbest: 37476.2280734 (199)\ttotal: 5.12s\tremaining: 20.4s\n",
      "300:\tlearn: 34371.1294662\ttest: 37317.5195011\tbest: 37309.2960074 (287)\ttotal: 7.43s\tremaining: 17.3s\n",
      "400:\tlearn: 33806.1743010\ttest: 37308.0531530\tbest: 37271.4333871 (358)\ttotal: 9.61s\tremaining: 14.4s\n",
      "500:\tlearn: 33441.7763738\ttest: 37311.1482463\tbest: 37271.4333871 (358)\ttotal: 11.8s\tremaining: 11.7s\n",
      "600:\tlearn: 33251.2639400\ttest: 37306.6858058\tbest: 37271.4333871 (358)\ttotal: 14s\tremaining: 9.31s\n",
      "700:\tlearn: 33024.4037958\ttest: 37311.3285196\tbest: 37271.4333871 (358)\ttotal: 16.2s\tremaining: 6.92s\n",
      "800:\tlearn: 32647.8962305\ttest: 37250.6724386\tbest: 37249.6705213 (798)\ttotal: 18.3s\tremaining: 4.56s\n",
      "900:\tlearn: 32387.4029716\ttest: 37220.5568101\tbest: 37218.7096587 (897)\ttotal: 20.5s\tremaining: 2.25s\n",
      "999:\tlearn: 32138.9157079\ttest: 37210.6322919\tbest: 37203.0827674 (992)\ttotal: 22.5s\tremaining: 0us\n",
      "bestTest = 37203.08277\n",
      "bestIteration = 992\n",
      "Shrink model to first 993 iterations.\n"
     ]
    },
    {
     "name": "stderr",
     "output_type": "stream",
     "text": [
      "Top-N Skills:  29%|██▊       | 2/7 [03:02<07:36, 91.39s/it]"
     ]
    },
    {
     "data": {
      "text/plain": [
       "' Взяли 70 скилов . Осталось 11151 cтрок в df. Всего уникальных 1337'"
      ]
     },
     "metadata": {},
     "output_type": "display_data"
    },
    {
     "name": "stderr",
     "output_type": "stream",
     "text": [
      "C:\\Users\\Андрей\\AppData\\Local\\Temp\\ipykernel_11772\\2943226459.py:52: FutureWarning: DataFrameGroupBy.apply operated on the grouping columns. This behavior is deprecated, and in a future version of pandas the grouping columns will be excluded from the operation. Either pass `include_groups=False` to exclude the groupings or explicitly select the grouping columns after groupby to silence this warning.\n",
      "  df_filtered = df_skills_filtered.groupby('position', group_keys=False).apply(filter_top_vacancies).reset_index(drop=True)\n"
     ]
    },
    {
     "data": {
      "text/plain": [
       "' Взяли 30 вакансий . Осталось 5490 cтрок в df'"
      ]
     },
     "metadata": {},
     "output_type": "display_data"
    },
    {
     "data": {
      "text/plain": [
       "'После исключения позиций с < 50 строк осталось 4089 строк и 7 позиций'"
      ]
     },
     "metadata": {},
     "output_type": "display_data"
    },
    {
     "name": "stdout",
     "output_type": "stream",
     "text": [
      "0:\tlearn: 57255.0587338\ttest: 55721.2100853\tbest: 55721.2100853 (0)\ttotal: 29.6ms\tremaining: 29.6s\n",
      "100:\tlearn: 34059.7984064\ttest: 34675.4566663\tbest: 34675.4566663 (100)\ttotal: 2.73s\tremaining: 24.3s\n",
      "200:\tlearn: 32753.4270924\ttest: 34542.3197046\tbest: 34499.1702868 (127)\ttotal: 4.74s\tremaining: 18.8s\n",
      "300:\tlearn: 32115.7174217\ttest: 34612.5629599\tbest: 34499.1702868 (127)\ttotal: 6.62s\tremaining: 15.4s\n",
      "400:\tlearn: 31587.7022480\ttest: 34637.9746750\tbest: 34499.1702868 (127)\ttotal: 8.52s\tremaining: 12.7s\n",
      "500:\tlearn: 31278.1582865\ttest: 34710.1732473\tbest: 34499.1702868 (127)\ttotal: 10.4s\tremaining: 10.4s\n",
      "600:\tlearn: 30927.0719346\ttest: 34737.8910577\tbest: 34499.1702868 (127)\ttotal: 12.4s\tremaining: 8.21s\n",
      "700:\tlearn: 30455.9071616\ttest: 34758.8744373\tbest: 34499.1702868 (127)\ttotal: 14.4s\tremaining: 6.14s\n",
      "800:\tlearn: 30069.8746870\ttest: 34778.9250629\tbest: 34499.1702868 (127)\ttotal: 16.5s\tremaining: 4.09s\n",
      "900:\tlearn: 29721.0870690\ttest: 34834.5597879\tbest: 34499.1702868 (127)\ttotal: 18.5s\tremaining: 2.04s\n",
      "999:\tlearn: 29429.3122936\ttest: 34838.7745921\tbest: 34499.1702868 (127)\ttotal: 20.6s\tremaining: 0us\n",
      "bestTest = 34499.17029\n",
      "bestIteration = 127\n",
      "Shrink model to first 128 iterations.\n"
     ]
    },
    {
     "name": "stderr",
     "output_type": "stream",
     "text": [
      "C:\\Users\\Андрей\\AppData\\Local\\Temp\\ipykernel_11772\\2943226459.py:52: FutureWarning: DataFrameGroupBy.apply operated on the grouping columns. This behavior is deprecated, and in a future version of pandas the grouping columns will be excluded from the operation. Either pass `include_groups=False` to exclude the groupings or explicitly select the grouping columns after groupby to silence this warning.\n",
      "  df_filtered = df_skills_filtered.groupby('position', group_keys=False).apply(filter_top_vacancies).reset_index(drop=True)\n"
     ]
    },
    {
     "data": {
      "text/plain": [
       "' Взяли 50 вакансий . Осталось 6168 cтрок в df'"
      ]
     },
     "metadata": {},
     "output_type": "display_data"
    },
    {
     "data": {
      "text/plain": [
       "'После исключения позиций с < 50 строк осталось 4513 строк и 7 позиций'"
      ]
     },
     "metadata": {},
     "output_type": "display_data"
    },
    {
     "name": "stdout",
     "output_type": "stream",
     "text": [
      "0:\tlearn: 57785.3466556\ttest: 59284.9059912\tbest: 59284.9059912 (0)\ttotal: 34.2ms\tremaining: 34.2s\n",
      "100:\tlearn: 33861.4182239\ttest: 36056.5388247\tbest: 36056.5388247 (100)\ttotal: 2.93s\tremaining: 26s\n",
      "200:\tlearn: 32354.6864349\ttest: 35469.6932183\tbest: 35469.6932183 (200)\ttotal: 5.18s\tremaining: 20.6s\n",
      "300:\tlearn: 31574.3127244\ttest: 35312.9611670\tbest: 35297.1121983 (271)\ttotal: 7.29s\tremaining: 16.9s\n",
      "400:\tlearn: 30978.0422719\ttest: 35280.3875896\tbest: 35248.8466449 (377)\ttotal: 9.37s\tremaining: 14s\n",
      "500:\tlearn: 30555.2533976\ttest: 35293.2885270\tbest: 35248.8466449 (377)\ttotal: 11.4s\tremaining: 11.4s\n",
      "600:\tlearn: 30188.9672723\ttest: 35384.5779807\tbest: 35248.8466449 (377)\ttotal: 13.5s\tremaining: 8.97s\n",
      "700:\tlearn: 29932.6330626\ttest: 35350.6727492\tbest: 35248.8466449 (377)\ttotal: 15.5s\tremaining: 6.63s\n",
      "800:\tlearn: 29623.7671218\ttest: 35365.1089348\tbest: 35248.8466449 (377)\ttotal: 17.6s\tremaining: 4.37s\n",
      "900:\tlearn: 29431.7481286\ttest: 35384.4391760\tbest: 35248.8466449 (377)\ttotal: 19.6s\tremaining: 2.16s\n",
      "999:\tlearn: 29187.7148230\ttest: 35416.1988221\tbest: 35248.8466449 (377)\ttotal: 21.6s\tremaining: 0us\n",
      "bestTest = 35248.84664\n",
      "bestIteration = 377\n",
      "Shrink model to first 378 iterations.\n"
     ]
    },
    {
     "name": "stderr",
     "output_type": "stream",
     "text": [
      "C:\\Users\\Андрей\\AppData\\Local\\Temp\\ipykernel_11772\\2943226459.py:52: FutureWarning: DataFrameGroupBy.apply operated on the grouping columns. This behavior is deprecated, and in a future version of pandas the grouping columns will be excluded from the operation. Either pass `include_groups=False` to exclude the groupings or explicitly select the grouping columns after groupby to silence this warning.\n",
      "  df_filtered = df_skills_filtered.groupby('position', group_keys=False).apply(filter_top_vacancies).reset_index(drop=True)\n"
     ]
    },
    {
     "data": {
      "text/plain": [
       "' Взяли 70 вакансий . Осталось 6634 cтрок в df'"
      ]
     },
     "metadata": {},
     "output_type": "display_data"
    },
    {
     "data": {
      "text/plain": [
       "'После исключения позиций с < 50 строк осталось 5014 строк и 8 позиций'"
      ]
     },
     "metadata": {},
     "output_type": "display_data"
    },
    {
     "name": "stdout",
     "output_type": "stream",
     "text": [
      "0:\tlearn: 61856.3263910\ttest: 62696.0107338\tbest: 62696.0107338 (0)\ttotal: 31.1ms\tremaining: 31.1s\n",
      "100:\tlearn: 35704.4506213\ttest: 37813.0640299\tbest: 37813.0640299 (100)\ttotal: 2.88s\tremaining: 25.6s\n",
      "200:\tlearn: 34406.1977994\ttest: 37344.8411652\tbest: 37344.8411652 (200)\ttotal: 5.11s\tremaining: 20.3s\n",
      "300:\tlearn: 33812.0744272\ttest: 37251.9716449\tbest: 37251.9716449 (300)\ttotal: 7.14s\tremaining: 16.6s\n",
      "400:\tlearn: 33272.3817198\ttest: 37205.0224731\tbest: 37198.4043267 (388)\ttotal: 9.27s\tremaining: 13.8s\n",
      "500:\tlearn: 32870.9345131\ttest: 37147.2806674\tbest: 37125.6622286 (459)\ttotal: 11.3s\tremaining: 11.3s\n",
      "600:\tlearn: 32560.8580283\ttest: 37061.7037345\tbest: 37061.7037345 (600)\ttotal: 13.5s\tremaining: 8.96s\n",
      "700:\tlearn: 32302.1303763\ttest: 37009.8516208\tbest: 37007.7841737 (680)\ttotal: 15.5s\tremaining: 6.59s\n",
      "800:\tlearn: 32012.6740466\ttest: 36953.1291625\tbest: 36953.1291625 (800)\ttotal: 17.5s\tremaining: 4.34s\n",
      "900:\tlearn: 31626.3626088\ttest: 36924.7854049\tbest: 36919.6342160 (897)\ttotal: 19.5s\tremaining: 2.14s\n",
      "999:\tlearn: 31342.4493898\ttest: 36915.3887809\tbest: 36910.3616978 (950)\ttotal: 21.5s\tremaining: 0us\n",
      "bestTest = 36910.3617\n",
      "bestIteration = 950\n",
      "Shrink model to first 951 iterations.\n"
     ]
    },
    {
     "name": "stderr",
     "output_type": "stream",
     "text": [
      "C:\\Users\\Андрей\\AppData\\Local\\Temp\\ipykernel_11772\\2943226459.py:52: FutureWarning: DataFrameGroupBy.apply operated on the grouping columns. This behavior is deprecated, and in a future version of pandas the grouping columns will be excluded from the operation. Either pass `include_groups=False` to exclude the groupings or explicitly select the grouping columns after groupby to silence this warning.\n",
      "  df_filtered = df_skills_filtered.groupby('position', group_keys=False).apply(filter_top_vacancies).reset_index(drop=True)\n"
     ]
    },
    {
     "data": {
      "text/plain": [
       "' Взяли 100 вакансий . Осталось 7210 cтрок в df'"
      ]
     },
     "metadata": {},
     "output_type": "display_data"
    },
    {
     "data": {
      "text/plain": [
       "'После исключения позиций с < 50 строк осталось 5823 строк и 10 позиций'"
      ]
     },
     "metadata": {},
     "output_type": "display_data"
    },
    {
     "name": "stdout",
     "output_type": "stream",
     "text": [
      "0:\tlearn: 63217.7064190\ttest: 62274.0971487\tbest: 62274.0971487 (0)\ttotal: 32ms\tremaining: 31.9s\n",
      "100:\tlearn: 37459.5213418\ttest: 36622.8872788\tbest: 36622.8393324 (99)\ttotal: 2.84s\tremaining: 25.3s\n",
      "200:\tlearn: 36059.8832324\ttest: 36209.6149258\tbest: 36204.6885803 (188)\ttotal: 5s\tremaining: 19.9s\n",
      "300:\tlearn: 35250.6761782\ttest: 36158.6138069\tbest: 36118.1468559 (238)\ttotal: 7.13s\tremaining: 16.6s\n",
      "400:\tlearn: 34773.1773022\ttest: 36141.0285231\tbest: 36118.1468559 (238)\ttotal: 9.14s\tremaining: 13.7s\n",
      "500:\tlearn: 34241.1301706\ttest: 36205.8478727\tbest: 36118.1468559 (238)\ttotal: 11.2s\tremaining: 11.1s\n",
      "600:\tlearn: 33919.7075243\ttest: 36287.7648353\tbest: 36118.1468559 (238)\ttotal: 13.2s\tremaining: 8.76s\n",
      "700:\tlearn: 33586.6026051\ttest: 36347.3391780\tbest: 36118.1468559 (238)\ttotal: 15.2s\tremaining: 6.47s\n",
      "800:\tlearn: 33258.7289162\ttest: 36432.6555292\tbest: 36118.1468559 (238)\ttotal: 17.2s\tremaining: 4.27s\n",
      "900:\tlearn: 33010.0586001\ttest: 36474.3482619\tbest: 36118.1468559 (238)\ttotal: 19.2s\tremaining: 2.11s\n",
      "999:\tlearn: 32796.8530268\ttest: 36528.2487946\tbest: 36118.1468559 (238)\ttotal: 21.2s\tremaining: 0us\n",
      "bestTest = 36118.14686\n",
      "bestIteration = 238\n",
      "Shrink model to first 239 iterations.\n"
     ]
    },
    {
     "name": "stderr",
     "output_type": "stream",
     "text": [
      "Top-N Skills:  43%|████▎     | 3/7 [04:33<06:03, 90.94s/it]"
     ]
    },
    {
     "data": {
      "text/plain": [
       "' Взяли 100 скилов . Осталось 11658 cтрок в df. Всего уникальных 1870'"
      ]
     },
     "metadata": {},
     "output_type": "display_data"
    },
    {
     "name": "stderr",
     "output_type": "stream",
     "text": [
      "C:\\Users\\Андрей\\AppData\\Local\\Temp\\ipykernel_11772\\2943226459.py:52: FutureWarning: DataFrameGroupBy.apply operated on the grouping columns. This behavior is deprecated, and in a future version of pandas the grouping columns will be excluded from the operation. Either pass `include_groups=False` to exclude the groupings or explicitly select the grouping columns after groupby to silence this warning.\n",
      "  df_filtered = df_skills_filtered.groupby('position', group_keys=False).apply(filter_top_vacancies).reset_index(drop=True)\n"
     ]
    },
    {
     "data": {
      "text/plain": [
       "' Взяли 30 вакансий . Осталось 5713 cтрок в df'"
      ]
     },
     "metadata": {},
     "output_type": "display_data"
    },
    {
     "data": {
      "text/plain": [
       "'После исключения позиций с < 50 строк осталось 4271 строк и 7 позиций'"
      ]
     },
     "metadata": {},
     "output_type": "display_data"
    },
    {
     "name": "stdout",
     "output_type": "stream",
     "text": [
      "0:\tlearn: 57520.1245983\ttest: 53346.9820084\tbest: 53346.9820084 (0)\ttotal: 31.3ms\tremaining: 31.3s\n",
      "100:\tlearn: 33525.6274710\ttest: 33519.6817142\tbest: 33519.6817142 (100)\ttotal: 2.76s\tremaining: 24.6s\n",
      "200:\tlearn: 32097.0236213\ttest: 33444.4189284\tbest: 33439.4895083 (198)\ttotal: 4.93s\tremaining: 19.6s\n",
      "300:\tlearn: 31384.5322633\ttest: 33424.8595036\tbest: 33404.3739384 (216)\ttotal: 6.94s\tremaining: 16.1s\n",
      "400:\tlearn: 30949.4168631\ttest: 33434.8635979\tbest: 33394.3037422 (343)\ttotal: 8.87s\tremaining: 13.3s\n",
      "500:\tlearn: 30498.2972211\ttest: 33593.7681244\tbest: 33394.3037422 (343)\ttotal: 10.9s\tremaining: 10.8s\n",
      "600:\tlearn: 30179.7686247\ttest: 33665.5799820\tbest: 33394.3037422 (343)\ttotal: 12.9s\tremaining: 8.54s\n",
      "700:\tlearn: 29891.2036455\ttest: 33666.1958089\tbest: 33394.3037422 (343)\ttotal: 14.8s\tremaining: 6.33s\n",
      "800:\tlearn: 29606.7249822\ttest: 33771.5359550\tbest: 33394.3037422 (343)\ttotal: 16.8s\tremaining: 4.17s\n",
      "900:\tlearn: 29323.3587092\ttest: 33770.6875201\tbest: 33394.3037422 (343)\ttotal: 18.8s\tremaining: 2.07s\n",
      "999:\tlearn: 29168.7394161\ttest: 33826.2816199\tbest: 33394.3037422 (343)\ttotal: 20.7s\tremaining: 0us\n",
      "bestTest = 33394.30374\n",
      "bestIteration = 343\n",
      "Shrink model to first 344 iterations.\n"
     ]
    },
    {
     "name": "stderr",
     "output_type": "stream",
     "text": [
      "C:\\Users\\Андрей\\AppData\\Local\\Temp\\ipykernel_11772\\2943226459.py:52: FutureWarning: DataFrameGroupBy.apply operated on the grouping columns. This behavior is deprecated, and in a future version of pandas the grouping columns will be excluded from the operation. Either pass `include_groups=False` to exclude the groupings or explicitly select the grouping columns after groupby to silence this warning.\n",
      "  df_filtered = df_skills_filtered.groupby('position', group_keys=False).apply(filter_top_vacancies).reset_index(drop=True)\n"
     ]
    },
    {
     "data": {
      "text/plain": [
       "' Взяли 50 вакансий . Осталось 6411 cтрок в df'"
      ]
     },
     "metadata": {},
     "output_type": "display_data"
    },
    {
     "data": {
      "text/plain": [
       "'После исключения позиций с < 50 строк осталось 4911 строк и 8 позиций'"
      ]
     },
     "metadata": {},
     "output_type": "display_data"
    },
    {
     "name": "stdout",
     "output_type": "stream",
     "text": [
      "0:\tlearn: 60138.1451686\ttest: 63008.3010266\tbest: 63008.3010266 (0)\ttotal: 32.5ms\tremaining: 32.5s\n",
      "100:\tlearn: 35132.0955483\ttest: 37543.6861738\tbest: 37543.6861738 (100)\ttotal: 2.8s\tremaining: 24.9s\n",
      "200:\tlearn: 33761.7229281\ttest: 37333.5228234\tbest: 37245.8290751 (156)\ttotal: 4.99s\tremaining: 19.8s\n",
      "300:\tlearn: 33217.5721934\ttest: 37402.3065140\tbest: 37245.8290751 (156)\ttotal: 6.95s\tremaining: 16.1s\n",
      "400:\tlearn: 32621.1002474\ttest: 37390.0715544\tbest: 37245.8290751 (156)\ttotal: 9.01s\tremaining: 13.5s\n",
      "500:\tlearn: 32361.5521644\ttest: 37419.6265317\tbest: 37245.8290751 (156)\ttotal: 11s\tremaining: 11s\n",
      "600:\tlearn: 31956.4973579\ttest: 37440.9858379\tbest: 37245.8290751 (156)\ttotal: 13.2s\tremaining: 8.79s\n",
      "700:\tlearn: 31560.4925008\ttest: 37489.5714233\tbest: 37245.8290751 (156)\ttotal: 15.4s\tremaining: 6.55s\n",
      "800:\tlearn: 31243.5752030\ttest: 37564.1939801\tbest: 37245.8290751 (156)\ttotal: 17.4s\tremaining: 4.32s\n",
      "900:\tlearn: 30995.3782817\ttest: 37661.4026414\tbest: 37245.8290751 (156)\ttotal: 19.3s\tremaining: 2.12s\n",
      "999:\tlearn: 30758.3355499\ttest: 37742.5424719\tbest: 37245.8290751 (156)\ttotal: 21.2s\tremaining: 0us\n",
      "bestTest = 37245.82908\n",
      "bestIteration = 156\n",
      "Shrink model to first 157 iterations.\n"
     ]
    },
    {
     "name": "stderr",
     "output_type": "stream",
     "text": [
      "C:\\Users\\Андрей\\AppData\\Local\\Temp\\ipykernel_11772\\2943226459.py:52: FutureWarning: DataFrameGroupBy.apply operated on the grouping columns. This behavior is deprecated, and in a future version of pandas the grouping columns will be excluded from the operation. Either pass `include_groups=False` to exclude the groupings or explicitly select the grouping columns after groupby to silence this warning.\n",
      "  df_filtered = df_skills_filtered.groupby('position', group_keys=False).apply(filter_top_vacancies).reset_index(drop=True)\n"
     ]
    },
    {
     "data": {
      "text/plain": [
       "' Взяли 70 вакансий . Осталось 6897 cтрок в df'"
      ]
     },
     "metadata": {},
     "output_type": "display_data"
    },
    {
     "data": {
      "text/plain": [
       "'После исключения позиций с < 50 строк осталось 5432 строк и 9 позиций'"
      ]
     },
     "metadata": {},
     "output_type": "display_data"
    },
    {
     "name": "stdout",
     "output_type": "stream",
     "text": [
      "0:\tlearn: 62009.8957001\ttest: 60762.8348632\tbest: 60762.8348632 (0)\ttotal: 32.9ms\tremaining: 32.9s\n",
      "100:\tlearn: 36423.1166181\ttest: 35117.0334125\tbest: 35117.0334125 (100)\ttotal: 2.92s\tremaining: 26s\n",
      "200:\tlearn: 35033.2733659\ttest: 34740.8690531\tbest: 34735.8860195 (191)\ttotal: 5.11s\tremaining: 20.3s\n",
      "300:\tlearn: 34171.9977922\ttest: 34709.5392432\tbest: 34684.6539498 (265)\ttotal: 7.24s\tremaining: 16.8s\n",
      "400:\tlearn: 33561.1794044\ttest: 34750.8819152\tbest: 34684.6539498 (265)\ttotal: 9.31s\tremaining: 13.9s\n",
      "500:\tlearn: 33080.1642897\ttest: 34897.6252992\tbest: 34684.6539498 (265)\ttotal: 11.4s\tremaining: 11.4s\n",
      "600:\tlearn: 32633.0616803\ttest: 34960.2480905\tbest: 34684.6539498 (265)\ttotal: 13.4s\tremaining: 8.9s\n",
      "700:\tlearn: 32351.5334111\ttest: 35015.5923134\tbest: 34684.6539498 (265)\ttotal: 15.4s\tremaining: 6.56s\n",
      "800:\tlearn: 32022.8466123\ttest: 35050.2305681\tbest: 34684.6539498 (265)\ttotal: 17.4s\tremaining: 4.33s\n",
      "900:\tlearn: 31696.8862176\ttest: 35054.1137292\tbest: 34684.6539498 (265)\ttotal: 19.4s\tremaining: 2.13s\n",
      "999:\tlearn: 31355.7401522\ttest: 35073.8919414\tbest: 34684.6539498 (265)\ttotal: 21.5s\tremaining: 0us\n",
      "bestTest = 34684.65395\n",
      "bestIteration = 265\n",
      "Shrink model to first 266 iterations.\n"
     ]
    },
    {
     "name": "stderr",
     "output_type": "stream",
     "text": [
      "C:\\Users\\Андрей\\AppData\\Local\\Temp\\ipykernel_11772\\2943226459.py:52: FutureWarning: DataFrameGroupBy.apply operated on the grouping columns. This behavior is deprecated, and in a future version of pandas the grouping columns will be excluded from the operation. Either pass `include_groups=False` to exclude the groupings or explicitly select the grouping columns after groupby to silence this warning.\n",
      "  df_filtered = df_skills_filtered.groupby('position', group_keys=False).apply(filter_top_vacancies).reset_index(drop=True)\n"
     ]
    },
    {
     "data": {
      "text/plain": [
       "' Взяли 100 вакансий . Осталось 7489 cтрок в df'"
      ]
     },
     "metadata": {},
     "output_type": "display_data"
    },
    {
     "data": {
      "text/plain": [
       "'После исключения позиций с < 50 строк осталось 6055 строк и 10 позиций'"
      ]
     },
     "metadata": {},
     "output_type": "display_data"
    },
    {
     "name": "stdout",
     "output_type": "stream",
     "text": [
      "0:\tlearn: 62337.8104236\ttest: 63406.2789877\tbest: 63406.2789877 (0)\ttotal: 33.2ms\tremaining: 33.2s\n",
      "100:\tlearn: 36896.8513455\ttest: 37395.7412026\tbest: 37395.7412026 (100)\ttotal: 2.86s\tremaining: 25.4s\n",
      "200:\tlearn: 35530.3803604\ttest: 36833.7402569\tbest: 36832.5654090 (199)\ttotal: 5.06s\tremaining: 20.1s\n",
      "300:\tlearn: 34758.5995947\ttest: 36644.5487231\tbest: 36635.7154570 (292)\ttotal: 7.32s\tremaining: 17s\n",
      "400:\tlearn: 34247.0458331\ttest: 36617.2532041\tbest: 36606.0461807 (318)\ttotal: 9.47s\tremaining: 14.2s\n",
      "500:\tlearn: 33815.0697845\ttest: 36628.5340733\tbest: 36579.9376679 (460)\ttotal: 11.6s\tremaining: 11.6s\n",
      "600:\tlearn: 33317.4090918\ttest: 36650.5076723\tbest: 36579.9376679 (460)\ttotal: 13.8s\tremaining: 9.18s\n",
      "700:\tlearn: 32944.2095096\ttest: 36749.5795337\tbest: 36579.9376679 (460)\ttotal: 15.9s\tremaining: 6.79s\n",
      "800:\tlearn: 32643.2788535\ttest: 36805.3486912\tbest: 36579.9376679 (460)\ttotal: 18.1s\tremaining: 4.49s\n",
      "900:\tlearn: 32366.0871410\ttest: 36872.1644706\tbest: 36579.9376679 (460)\ttotal: 20.2s\tremaining: 2.22s\n",
      "999:\tlearn: 32117.2082699\ttest: 36914.8973110\tbest: 36579.9376679 (460)\ttotal: 22.3s\tremaining: 0us\n",
      "bestTest = 36579.93767\n",
      "bestIteration = 460\n",
      "Shrink model to first 461 iterations.\n"
     ]
    },
    {
     "name": "stderr",
     "output_type": "stream",
     "text": [
      "Top-N Skills:  57%|█████▋    | 4/7 [06:04<04:33, 91.08s/it]"
     ]
    },
    {
     "data": {
      "text/plain": [
       "' Взяли 300 скилов . Осталось 12987 cтрок в df. Всего уникальных 5213'"
      ]
     },
     "metadata": {},
     "output_type": "display_data"
    },
    {
     "name": "stderr",
     "output_type": "stream",
     "text": [
      "C:\\Users\\Андрей\\AppData\\Local\\Temp\\ipykernel_11772\\2943226459.py:52: FutureWarning: DataFrameGroupBy.apply operated on the grouping columns. This behavior is deprecated, and in a future version of pandas the grouping columns will be excluded from the operation. Either pass `include_groups=False` to exclude the groupings or explicitly select the grouping columns after groupby to silence this warning.\n",
      "  df_filtered = df_skills_filtered.groupby('position', group_keys=False).apply(filter_top_vacancies).reset_index(drop=True)\n"
     ]
    },
    {
     "data": {
      "text/plain": [
       "' Взяли 30 вакансий . Осталось 6252 cтрок в df'"
      ]
     },
     "metadata": {},
     "output_type": "display_data"
    },
    {
     "data": {
      "text/plain": [
       "'После исключения позиций с < 50 строк осталось 4736 строк и 7 позиций'"
      ]
     },
     "metadata": {},
     "output_type": "display_data"
    },
    {
     "name": "stdout",
     "output_type": "stream",
     "text": [
      "0:\tlearn: 55836.3478294\ttest: 55623.0948719\tbest: 55623.0948719 (0)\ttotal: 32.8ms\tremaining: 32.8s\n",
      "100:\tlearn: 33228.1769194\ttest: 33893.6465770\tbest: 33893.1839259 (97)\ttotal: 2.77s\tremaining: 24.6s\n",
      "200:\tlearn: 31763.3054494\ttest: 33509.5806560\tbest: 33501.8764243 (199)\ttotal: 5.04s\tremaining: 20s\n",
      "300:\tlearn: 30806.0114914\ttest: 33347.9746875\tbest: 33347.7585551 (299)\ttotal: 7.2s\tremaining: 16.7s\n",
      "400:\tlearn: 30018.7206598\ttest: 33242.7063410\tbest: 33237.2072186 (398)\ttotal: 9.26s\tremaining: 13.8s\n",
      "500:\tlearn: 29413.4363697\ttest: 33204.5936074\tbest: 33200.0910573 (488)\ttotal: 11.3s\tremaining: 11.3s\n",
      "600:\tlearn: 28948.8843371\ttest: 33260.2638078\tbest: 33200.0910573 (488)\ttotal: 13.4s\tremaining: 8.88s\n",
      "700:\tlearn: 28540.5290236\ttest: 33318.4010869\tbest: 33200.0910573 (488)\ttotal: 15.4s\tremaining: 6.59s\n",
      "800:\tlearn: 28278.0758967\ttest: 33376.1347711\tbest: 33200.0910573 (488)\ttotal: 17.4s\tremaining: 4.32s\n",
      "900:\tlearn: 27988.4893990\ttest: 33437.4901496\tbest: 33200.0910573 (488)\ttotal: 19.4s\tremaining: 2.13s\n",
      "999:\tlearn: 27752.7902356\ttest: 33484.5117967\tbest: 33200.0910573 (488)\ttotal: 21.4s\tremaining: 0us\n",
      "bestTest = 33200.09106\n",
      "bestIteration = 488\n",
      "Shrink model to first 489 iterations.\n"
     ]
    },
    {
     "name": "stderr",
     "output_type": "stream",
     "text": [
      "C:\\Users\\Андрей\\AppData\\Local\\Temp\\ipykernel_11772\\2943226459.py:52: FutureWarning: DataFrameGroupBy.apply operated on the grouping columns. This behavior is deprecated, and in a future version of pandas the grouping columns will be excluded from the operation. Either pass `include_groups=False` to exclude the groupings or explicitly select the grouping columns after groupby to silence this warning.\n",
      "  df_filtered = df_skills_filtered.groupby('position', group_keys=False).apply(filter_top_vacancies).reset_index(drop=True)\n"
     ]
    },
    {
     "data": {
      "text/plain": [
       "' Взяли 50 вакансий . Осталось 7001 cтрок в df'"
      ]
     },
     "metadata": {},
     "output_type": "display_data"
    },
    {
     "data": {
      "text/plain": [
       "'После исключения позиций с < 50 строк осталось 5415 строк и 8 позиций'"
      ]
     },
     "metadata": {},
     "output_type": "display_data"
    },
    {
     "name": "stdout",
     "output_type": "stream",
     "text": [
      "0:\tlearn: 59690.9969469\ttest: 60506.8765758\tbest: 60506.8765758 (0)\ttotal: 33.6ms\tremaining: 33.6s\n",
      "100:\tlearn: 35095.4177009\ttest: 37268.1999403\tbest: 37264.4846447 (98)\ttotal: 2.78s\tremaining: 24.7s\n",
      "200:\tlearn: 33636.0879251\ttest: 36714.7851200\tbest: 36714.7851200 (200)\ttotal: 4.98s\tremaining: 19.8s\n",
      "300:\tlearn: 32798.0160476\ttest: 36486.2967939\tbest: 36484.4771535 (296)\ttotal: 7.16s\tremaining: 16.6s\n",
      "400:\tlearn: 32323.1914054\ttest: 36444.9478173\tbest: 36442.5702062 (394)\ttotal: 9.18s\tremaining: 13.7s\n",
      "500:\tlearn: 31991.5284727\ttest: 36439.4958255\tbest: 36427.1622052 (437)\ttotal: 11.2s\tremaining: 11.2s\n",
      "600:\tlearn: 31676.9843457\ttest: 36402.5695944\tbest: 36400.9150797 (590)\ttotal: 13.3s\tremaining: 8.86s\n",
      "700:\tlearn: 31293.9106133\ttest: 36412.7179861\tbest: 36398.6536203 (626)\ttotal: 15.4s\tremaining: 6.56s\n",
      "800:\tlearn: 30967.9537697\ttest: 36417.2239373\tbest: 36398.6536203 (626)\ttotal: 17.4s\tremaining: 4.33s\n",
      "900:\tlearn: 30670.8642426\ttest: 36399.0375251\tbest: 36398.6536203 (626)\ttotal: 19.5s\tremaining: 2.14s\n",
      "999:\tlearn: 30379.3261703\ttest: 36420.3018735\tbest: 36393.8284804 (914)\ttotal: 21.5s\tremaining: 0us\n",
      "bestTest = 36393.82848\n",
      "bestIteration = 914\n",
      "Shrink model to first 915 iterations.\n"
     ]
    },
    {
     "name": "stderr",
     "output_type": "stream",
     "text": [
      "C:\\Users\\Андрей\\AppData\\Local\\Temp\\ipykernel_11772\\2943226459.py:52: FutureWarning: DataFrameGroupBy.apply operated on the grouping columns. This behavior is deprecated, and in a future version of pandas the grouping columns will be excluded from the operation. Either pass `include_groups=False` to exclude the groupings or explicitly select the grouping columns after groupby to silence this warning.\n",
      "  df_filtered = df_skills_filtered.groupby('position', group_keys=False).apply(filter_top_vacancies).reset_index(drop=True)\n"
     ]
    },
    {
     "data": {
      "text/plain": [
       "' Взяли 70 вакансий . Осталось 7551 cтрок в df'"
      ]
     },
     "metadata": {},
     "output_type": "display_data"
    },
    {
     "data": {
      "text/plain": [
       "'После исключения позиций с < 50 строк осталось 6207 строк и 10 позиций'"
      ]
     },
     "metadata": {},
     "output_type": "display_data"
    },
    {
     "name": "stdout",
     "output_type": "stream",
     "text": [
      "0:\tlearn: 59904.9591551\ttest: 58876.5572722\tbest: 58876.5572722 (0)\ttotal: 31.2ms\tremaining: 31.2s\n",
      "100:\tlearn: 35778.1364161\ttest: 35595.9346705\tbest: 35595.9346705 (100)\ttotal: 2.77s\tremaining: 24.6s\n",
      "200:\tlearn: 34339.1669635\ttest: 35273.8936450\tbest: 35271.3764249 (191)\ttotal: 4.98s\tremaining: 19.8s\n",
      "300:\tlearn: 33509.1944343\ttest: 35222.1370581\tbest: 35212.5942529 (288)\ttotal: 7.16s\tremaining: 16.6s\n",
      "400:\tlearn: 32858.9155092\ttest: 35269.6319967\tbest: 35212.5942529 (288)\ttotal: 9.36s\tremaining: 14s\n",
      "500:\tlearn: 32386.2514084\ttest: 35297.2038739\tbest: 35212.5942529 (288)\ttotal: 11.5s\tremaining: 11.5s\n",
      "600:\tlearn: 31969.4367678\ttest: 35326.1902745\tbest: 35212.5942529 (288)\ttotal: 13.7s\tremaining: 9.08s\n",
      "700:\tlearn: 31603.8851117\ttest: 35335.0382851\tbest: 35212.5942529 (288)\ttotal: 15.9s\tremaining: 6.78s\n",
      "800:\tlearn: 31237.7652491\ttest: 35325.6939456\tbest: 35212.5942529 (288)\ttotal: 18s\tremaining: 4.48s\n",
      "900:\tlearn: 30941.3046375\ttest: 35344.7219568\tbest: 35212.5942529 (288)\ttotal: 20.1s\tremaining: 2.21s\n",
      "999:\tlearn: 30693.4516032\ttest: 35418.0167216\tbest: 35212.5942529 (288)\ttotal: 22.2s\tremaining: 0us\n",
      "bestTest = 35212.59425\n",
      "bestIteration = 288\n",
      "Shrink model to first 289 iterations.\n"
     ]
    },
    {
     "name": "stderr",
     "output_type": "stream",
     "text": [
      "C:\\Users\\Андрей\\AppData\\Local\\Temp\\ipykernel_11772\\2943226459.py:52: FutureWarning: DataFrameGroupBy.apply operated on the grouping columns. This behavior is deprecated, and in a future version of pandas the grouping columns will be excluded from the operation. Either pass `include_groups=False` to exclude the groupings or explicitly select the grouping columns after groupby to silence this warning.\n",
      "  df_filtered = df_skills_filtered.groupby('position', group_keys=False).apply(filter_top_vacancies).reset_index(drop=True)\n"
     ]
    },
    {
     "data": {
      "text/plain": [
       "' Взяли 100 вакансий . Осталось 8180 cтрок в df'"
      ]
     },
     "metadata": {},
     "output_type": "display_data"
    },
    {
     "data": {
      "text/plain": [
       "'После исключения позиций с < 50 строк осталось 6877 строк и 11 позиций'"
      ]
     },
     "metadata": {},
     "output_type": "display_data"
    },
    {
     "name": "stdout",
     "output_type": "stream",
     "text": [
      "0:\tlearn: 60845.2594888\ttest: 62055.4803998\tbest: 62055.4803998 (0)\ttotal: 31.5ms\tremaining: 31.5s\n",
      "100:\tlearn: 36594.6065174\ttest: 37575.2293024\tbest: 37574.8256263 (99)\ttotal: 2.95s\tremaining: 26.2s\n",
      "200:\tlearn: 35321.4411644\ttest: 37359.5133991\tbest: 37334.0849792 (165)\ttotal: 5.2s\tremaining: 20.7s\n",
      "300:\tlearn: 34408.2223607\ttest: 37306.3133834\tbest: 37306.3133834 (300)\ttotal: 7.48s\tremaining: 17.4s\n",
      "400:\tlearn: 33679.9611457\ttest: 37268.7028523\tbest: 37253.2429153 (335)\ttotal: 9.69s\tremaining: 14.5s\n",
      "500:\tlearn: 33070.1816626\ttest: 37216.1778163\tbest: 37213.4929430 (439)\ttotal: 11.9s\tremaining: 11.8s\n",
      "600:\tlearn: 32664.9998838\ttest: 37227.1430278\tbest: 37210.9437514 (511)\ttotal: 14.1s\tremaining: 9.39s\n",
      "700:\tlearn: 32344.3332046\ttest: 37209.2873303\tbest: 37198.5019669 (678)\ttotal: 16.4s\tremaining: 6.99s\n",
      "800:\tlearn: 31952.5671987\ttest: 37243.3792175\tbest: 37198.5019669 (678)\ttotal: 18.6s\tremaining: 4.61s\n",
      "900:\tlearn: 31583.1797259\ttest: 37254.9232326\tbest: 37198.5019669 (678)\ttotal: 20.7s\tremaining: 2.27s\n",
      "999:\tlearn: 31261.9197092\ttest: 37215.0327254\tbest: 37198.5019669 (678)\ttotal: 22.9s\tremaining: 0us\n",
      "bestTest = 37198.50197\n",
      "bestIteration = 678\n",
      "Shrink model to first 679 iterations.\n"
     ]
    },
    {
     "name": "stderr",
     "output_type": "stream",
     "text": [
      "Top-N Skills:  71%|███████▏  | 5/7 [07:38<03:04, 92.03s/it]"
     ]
    },
    {
     "data": {
      "text/plain": [
       "' Взяли 500 скилов . Осталось 13443 cтрок в df. Всего уникальных 8209'"
      ]
     },
     "metadata": {},
     "output_type": "display_data"
    },
    {
     "name": "stderr",
     "output_type": "stream",
     "text": [
      "C:\\Users\\Андрей\\AppData\\Local\\Temp\\ipykernel_11772\\2943226459.py:52: FutureWarning: DataFrameGroupBy.apply operated on the grouping columns. This behavior is deprecated, and in a future version of pandas the grouping columns will be excluded from the operation. Either pass `include_groups=False` to exclude the groupings or explicitly select the grouping columns after groupby to silence this warning.\n",
      "  df_filtered = df_skills_filtered.groupby('position', group_keys=False).apply(filter_top_vacancies).reset_index(drop=True)\n"
     ]
    },
    {
     "data": {
      "text/plain": [
       "' Взяли 30 вакансий . Осталось 6436 cтрок в df'"
      ]
     },
     "metadata": {},
     "output_type": "display_data"
    },
    {
     "data": {
      "text/plain": [
       "'После исключения позиций с < 50 строк осталось 4898 строк и 7 позиций'"
      ]
     },
     "metadata": {},
     "output_type": "display_data"
    },
    {
     "name": "stdout",
     "output_type": "stream",
     "text": [
      "0:\tlearn: 55661.4996770\ttest: 54983.2654828\tbest: 54983.2654828 (0)\ttotal: 29.8ms\tremaining: 29.8s\n",
      "100:\tlearn: 33049.2802721\ttest: 32630.5841406\tbest: 32630.5841406 (100)\ttotal: 2.75s\tremaining: 24.4s\n",
      "200:\tlearn: 31599.9715613\ttest: 32486.0130483\tbest: 32470.9118050 (175)\ttotal: 4.75s\tremaining: 18.9s\n",
      "300:\tlearn: 30623.4179608\ttest: 32475.8041865\tbest: 32437.6116633 (245)\ttotal: 6.76s\tremaining: 15.7s\n",
      "400:\tlearn: 30041.4450660\ttest: 32472.7120859\tbest: 32437.6116633 (245)\ttotal: 8.76s\tremaining: 13.1s\n",
      "500:\tlearn: 29563.2136238\ttest: 32511.1679438\tbest: 32437.6116633 (245)\ttotal: 10.7s\tremaining: 10.7s\n",
      "600:\tlearn: 29070.6776010\ttest: 32515.1469683\tbest: 32437.6116633 (245)\ttotal: 12.8s\tremaining: 8.51s\n",
      "700:\tlearn: 28680.3860620\ttest: 32568.4056211\tbest: 32437.6116633 (245)\ttotal: 14.8s\tremaining: 6.33s\n",
      "800:\tlearn: 28194.2689235\ttest: 32588.3664005\tbest: 32437.6116633 (245)\ttotal: 16.8s\tremaining: 4.18s\n",
      "900:\tlearn: 27912.2775493\ttest: 32655.0118473\tbest: 32437.6116633 (245)\ttotal: 18.9s\tremaining: 2.07s\n",
      "999:\tlearn: 27563.2785258\ttest: 32705.6291149\tbest: 32437.6116633 (245)\ttotal: 20.9s\tremaining: 0us\n",
      "bestTest = 32437.61166\n",
      "bestIteration = 245\n",
      "Shrink model to first 246 iterations.\n"
     ]
    },
    {
     "name": "stderr",
     "output_type": "stream",
     "text": [
      "C:\\Users\\Андрей\\AppData\\Local\\Temp\\ipykernel_11772\\2943226459.py:52: FutureWarning: DataFrameGroupBy.apply operated on the grouping columns. This behavior is deprecated, and in a future version of pandas the grouping columns will be excluded from the operation. Either pass `include_groups=False` to exclude the groupings or explicitly select the grouping columns after groupby to silence this warning.\n",
      "  df_filtered = df_skills_filtered.groupby('position', group_keys=False).apply(filter_top_vacancies).reset_index(drop=True)\n"
     ]
    },
    {
     "data": {
      "text/plain": [
       "' Взяли 50 вакансий . Осталось 7208 cтрок в df'"
      ]
     },
     "metadata": {},
     "output_type": "display_data"
    },
    {
     "data": {
      "text/plain": [
       "'После исключения позиций с < 50 строк осталось 5795 строк и 9 позиций'"
      ]
     },
     "metadata": {},
     "output_type": "display_data"
    },
    {
     "name": "stdout",
     "output_type": "stream",
     "text": [
      "0:\tlearn: 59687.1289469\ttest: 60505.4371889\tbest: 60505.4371889 (0)\ttotal: 35.5ms\tremaining: 35.5s\n",
      "100:\tlearn: 35872.4635422\ttest: 36198.6674666\tbest: 36198.6674666 (100)\ttotal: 2.78s\tremaining: 24.7s\n",
      "200:\tlearn: 34415.3074822\ttest: 35727.6202367\tbest: 35719.9451050 (198)\ttotal: 4.86s\tremaining: 19.3s\n",
      "300:\tlearn: 33640.0027264\ttest: 35645.2777013\tbest: 35644.5763713 (297)\ttotal: 6.89s\tremaining: 16s\n",
      "400:\tlearn: 33102.9583213\ttest: 35621.9993611\tbest: 35603.8997461 (340)\ttotal: 8.87s\tremaining: 13.3s\n",
      "500:\tlearn: 32785.0141783\ttest: 35669.5471242\tbest: 35603.8997461 (340)\ttotal: 10.6s\tremaining: 10.6s\n",
      "600:\tlearn: 32348.6924086\ttest: 35631.4978980\tbest: 35603.8997461 (340)\ttotal: 12.7s\tremaining: 8.44s\n",
      "700:\tlearn: 31959.3845315\ttest: 35672.3455760\tbest: 35603.8997461 (340)\ttotal: 14.7s\tremaining: 6.28s\n",
      "800:\tlearn: 31550.5883209\ttest: 35749.1842777\tbest: 35603.8997461 (340)\ttotal: 16.8s\tremaining: 4.16s\n",
      "900:\tlearn: 31197.0487750\ttest: 35816.0205745\tbest: 35603.8997461 (340)\ttotal: 18.8s\tremaining: 2.07s\n",
      "999:\tlearn: 31037.1060247\ttest: 35895.2337296\tbest: 35603.8997461 (340)\ttotal: 20.6s\tremaining: 0us\n",
      "bestTest = 35603.89975\n",
      "bestIteration = 340\n",
      "Shrink model to first 341 iterations.\n"
     ]
    },
    {
     "name": "stderr",
     "output_type": "stream",
     "text": [
      "C:\\Users\\Андрей\\AppData\\Local\\Temp\\ipykernel_11772\\2943226459.py:52: FutureWarning: DataFrameGroupBy.apply operated on the grouping columns. This behavior is deprecated, and in a future version of pandas the grouping columns will be excluded from the operation. Either pass `include_groups=False` to exclude the groupings or explicitly select the grouping columns after groupby to silence this warning.\n",
      "  df_filtered = df_skills_filtered.groupby('position', group_keys=False).apply(filter_top_vacancies).reset_index(drop=True)\n"
     ]
    },
    {
     "data": {
      "text/plain": [
       "' Взяли 70 вакансий . Осталось 7773 cтрок в df'"
      ]
     },
     "metadata": {},
     "output_type": "display_data"
    },
    {
     "data": {
      "text/plain": [
       "'После исключения позиций с < 50 строк осталось 6397 строк и 10 позиций'"
      ]
     },
     "metadata": {},
     "output_type": "display_data"
    },
    {
     "name": "stdout",
     "output_type": "stream",
     "text": [
      "0:\tlearn: 59481.8599928\ttest: 60224.7821416\tbest: 60224.7821416 (0)\ttotal: 35.5ms\tremaining: 35.5s\n",
      "100:\tlearn: 35317.2769070\ttest: 37331.4639900\tbest: 37331.4639900 (100)\ttotal: 2.77s\tremaining: 24.6s\n",
      "200:\tlearn: 33933.5760123\ttest: 36880.4569711\tbest: 36850.7755818 (184)\ttotal: 5.12s\tremaining: 20.3s\n",
      "300:\tlearn: 33222.5913678\ttest: 36776.1615947\tbest: 36775.8848293 (299)\ttotal: 7.43s\tremaining: 17.3s\n",
      "400:\tlearn: 32599.3630507\ttest: 36687.3924158\tbest: 36678.5148668 (390)\ttotal: 9.71s\tremaining: 14.5s\n",
      "500:\tlearn: 32087.0887760\ttest: 36637.7249904\tbest: 36636.9198990 (498)\ttotal: 12s\tremaining: 11.9s\n",
      "600:\tlearn: 31600.6599250\ttest: 36568.4450673\tbest: 36567.5404625 (599)\ttotal: 14.3s\tremaining: 9.46s\n",
      "700:\tlearn: 31187.3183849\ttest: 36536.1679307\tbest: 36509.8764972 (649)\ttotal: 16.5s\tremaining: 7.03s\n",
      "800:\tlearn: 30789.6966706\ttest: 36538.8811656\tbest: 36509.8764972 (649)\ttotal: 18.8s\tremaining: 4.66s\n",
      "900:\tlearn: 30359.4178177\ttest: 36556.8127280\tbest: 36509.8764972 (649)\ttotal: 21s\tremaining: 2.31s\n",
      "999:\tlearn: 30034.3527707\ttest: 36560.0897577\tbest: 36509.8764972 (649)\ttotal: 23.3s\tremaining: 0us\n",
      "bestTest = 36509.8765\n",
      "bestIteration = 649\n",
      "Shrink model to first 650 iterations.\n"
     ]
    },
    {
     "name": "stderr",
     "output_type": "stream",
     "text": [
      "C:\\Users\\Андрей\\AppData\\Local\\Temp\\ipykernel_11772\\2943226459.py:52: FutureWarning: DataFrameGroupBy.apply operated on the grouping columns. This behavior is deprecated, and in a future version of pandas the grouping columns will be excluded from the operation. Either pass `include_groups=False` to exclude the groupings or explicitly select the grouping columns after groupby to silence this warning.\n",
      "  df_filtered = df_skills_filtered.groupby('position', group_keys=False).apply(filter_top_vacancies).reset_index(drop=True)\n"
     ]
    },
    {
     "data": {
      "text/plain": [
       "' Взяли 100 вакансий . Осталось 8424 cтрок в df'"
      ]
     },
     "metadata": {},
     "output_type": "display_data"
    },
    {
     "data": {
      "text/plain": [
       "'После исключения позиций с < 50 строк осталось 7087 строк и 11 позиций'"
      ]
     },
     "metadata": {},
     "output_type": "display_data"
    },
    {
     "name": "stdout",
     "output_type": "stream",
     "text": [
      "0:\tlearn: 60203.6391347\ttest: 61438.3888757\tbest: 61438.3888757 (0)\ttotal: 31.9ms\tremaining: 31.9s\n",
      "100:\tlearn: 36113.4194223\ttest: 36982.4498859\tbest: 36982.4498859 (100)\ttotal: 2.96s\tremaining: 26.3s\n",
      "200:\tlearn: 34697.4421137\ttest: 36552.1582540\tbest: 36552.1582540 (200)\ttotal: 5.3s\tremaining: 21.1s\n",
      "300:\tlearn: 33803.0307010\ttest: 36367.6357181\tbest: 36363.6873117 (291)\ttotal: 7.52s\tremaining: 17.5s\n",
      "400:\tlearn: 33027.7854348\ttest: 36162.4416585\tbest: 36161.5517763 (396)\ttotal: 9.77s\tremaining: 14.6s\n",
      "500:\tlearn: 32459.5806885\ttest: 36163.9507654\tbest: 36146.6234697 (447)\ttotal: 12s\tremaining: 11.9s\n",
      "600:\tlearn: 31983.3054933\ttest: 36158.8585784\tbest: 36146.6234697 (447)\ttotal: 14.1s\tremaining: 9.37s\n",
      "700:\tlearn: 31592.1475020\ttest: 36120.7003003\tbest: 36119.9578764 (686)\ttotal: 16.3s\tremaining: 6.95s\n",
      "800:\tlearn: 31234.7723204\ttest: 36091.4659216\tbest: 36090.4765214 (778)\ttotal: 18.5s\tremaining: 4.6s\n",
      "900:\tlearn: 30910.5227664\ttest: 36056.5480561\tbest: 36056.3027525 (895)\ttotal: 20.7s\tremaining: 2.28s\n",
      "999:\tlearn: 30647.0759521\ttest: 36110.9173149\tbest: 36054.5555682 (901)\ttotal: 22.9s\tremaining: 0us\n",
      "bestTest = 36054.55557\n",
      "bestIteration = 901\n",
      "Shrink model to first 902 iterations.\n"
     ]
    },
    {
     "name": "stderr",
     "output_type": "stream",
     "text": [
      "Top-N Skills:  86%|████████▌ | 6/7 [09:11<01:32, 92.49s/it]"
     ]
    },
    {
     "data": {
      "text/plain": [
       "' Взяли 800 скилов . Осталось 13723 cтрок в df. Всего уникальных 11882'"
      ]
     },
     "metadata": {},
     "output_type": "display_data"
    },
    {
     "name": "stderr",
     "output_type": "stream",
     "text": [
      "C:\\Users\\Андрей\\AppData\\Local\\Temp\\ipykernel_11772\\2943226459.py:52: FutureWarning: DataFrameGroupBy.apply operated on the grouping columns. This behavior is deprecated, and in a future version of pandas the grouping columns will be excluded from the operation. Either pass `include_groups=False` to exclude the groupings or explicitly select the grouping columns after groupby to silence this warning.\n",
      "  df_filtered = df_skills_filtered.groupby('position', group_keys=False).apply(filter_top_vacancies).reset_index(drop=True)\n"
     ]
    },
    {
     "data": {
      "text/plain": [
       "' Взяли 30 вакансий . Осталось 6547 cтрок в df'"
      ]
     },
     "metadata": {},
     "output_type": "display_data"
    },
    {
     "data": {
      "text/plain": [
       "'После исключения позиций с < 50 строк осталось 4996 строк и 7 позиций'"
      ]
     },
     "metadata": {},
     "output_type": "display_data"
    },
    {
     "name": "stdout",
     "output_type": "stream",
     "text": [
      "0:\tlearn: 55497.6308435\ttest: 55978.9109652\tbest: 55978.9109652 (0)\ttotal: 32.5ms\tremaining: 32.5s\n",
      "100:\tlearn: 33284.6309241\ttest: 33476.3359283\tbest: 33476.3359283 (100)\ttotal: 2.56s\tremaining: 22.8s\n",
      "200:\tlearn: 31832.5028296\ttest: 33130.6919626\tbest: 33130.6919626 (200)\ttotal: 4.52s\tremaining: 18s\n",
      "300:\tlearn: 31027.4821566\ttest: 33200.3319094\tbest: 33113.7772560 (225)\ttotal: 6.42s\tremaining: 14.9s\n",
      "400:\tlearn: 30407.1682577\ttest: 33247.4657735\tbest: 33113.7772560 (225)\ttotal: 8.31s\tremaining: 12.4s\n",
      "500:\tlearn: 30016.5131275\ttest: 33329.2363739\tbest: 33113.7772560 (225)\ttotal: 10.3s\tremaining: 10.3s\n",
      "600:\tlearn: 29687.0476487\ttest: 33436.4980778\tbest: 33113.7772560 (225)\ttotal: 12.3s\tremaining: 8.14s\n",
      "700:\tlearn: 29391.4755643\ttest: 33473.1883698\tbest: 33113.7772560 (225)\ttotal: 14.2s\tremaining: 6.05s\n",
      "800:\tlearn: 29114.8966651\ttest: 33552.2889753\tbest: 33113.7772560 (225)\ttotal: 16.1s\tremaining: 4s\n",
      "900:\tlearn: 28924.8849320\ttest: 33553.1822178\tbest: 33113.7772560 (225)\ttotal: 18s\tremaining: 1.98s\n",
      "999:\tlearn: 28578.1483812\ttest: 33556.5564752\tbest: 33113.7772560 (225)\ttotal: 20.1s\tremaining: 0us\n",
      "bestTest = 33113.77726\n",
      "bestIteration = 225\n",
      "Shrink model to first 226 iterations.\n"
     ]
    },
    {
     "name": "stderr",
     "output_type": "stream",
     "text": [
      "C:\\Users\\Андрей\\AppData\\Local\\Temp\\ipykernel_11772\\2943226459.py:52: FutureWarning: DataFrameGroupBy.apply operated on the grouping columns. This behavior is deprecated, and in a future version of pandas the grouping columns will be excluded from the operation. Either pass `include_groups=False` to exclude the groupings or explicitly select the grouping columns after groupby to silence this warning.\n",
      "  df_filtered = df_skills_filtered.groupby('position', group_keys=False).apply(filter_top_vacancies).reset_index(drop=True)\n"
     ]
    },
    {
     "data": {
      "text/plain": [
       "' Взяли 50 вакансий . Осталось 7328 cтрок в df'"
      ]
     },
     "metadata": {},
     "output_type": "display_data"
    },
    {
     "data": {
      "text/plain": [
       "'После исключения позиций с < 50 строк осталось 5902 строк и 9 позиций'"
      ]
     },
     "metadata": {},
     "output_type": "display_data"
    },
    {
     "name": "stdout",
     "output_type": "stream",
     "text": [
      "0:\tlearn: 59076.9692232\ttest: 60507.1953197\tbest: 60507.1953197 (0)\ttotal: 32.1ms\tremaining: 32s\n",
      "100:\tlearn: 35366.2881730\ttest: 35717.2866398\tbest: 35717.2866398 (100)\ttotal: 2.76s\tremaining: 24.6s\n",
      "200:\tlearn: 33685.3685389\ttest: 35088.6231827\tbest: 35086.4438315 (197)\ttotal: 4.97s\tremaining: 19.8s\n",
      "300:\tlearn: 32710.2638387\ttest: 35019.1529846\tbest: 35017.1672461 (251)\ttotal: 7.15s\tremaining: 16.6s\n",
      "400:\tlearn: 32045.5703313\ttest: 35029.0719450\tbest: 35010.7120134 (311)\ttotal: 9.41s\tremaining: 14.1s\n",
      "500:\tlearn: 31489.3878016\ttest: 35052.9447704\tbest: 35007.9290242 (414)\ttotal: 11.5s\tremaining: 11.5s\n",
      "600:\tlearn: 30928.0648980\ttest: 35050.1651345\tbest: 35007.9290242 (414)\ttotal: 13.7s\tremaining: 9.08s\n",
      "700:\tlearn: 30483.9929482\ttest: 35128.8101188\tbest: 35007.9290242 (414)\ttotal: 15.9s\tremaining: 6.76s\n",
      "800:\tlearn: 30066.3384282\ttest: 35186.8921925\tbest: 35007.9290242 (414)\ttotal: 18s\tremaining: 4.46s\n",
      "900:\tlearn: 29699.8139099\ttest: 35255.6578592\tbest: 35007.9290242 (414)\ttotal: 20.1s\tremaining: 2.21s\n",
      "999:\tlearn: 29446.1828193\ttest: 35325.9981239\tbest: 35007.9290242 (414)\ttotal: 22.3s\tremaining: 0us\n",
      "bestTest = 35007.92902\n",
      "bestIteration = 414\n",
      "Shrink model to first 415 iterations.\n"
     ]
    },
    {
     "name": "stderr",
     "output_type": "stream",
     "text": [
      "C:\\Users\\Андрей\\AppData\\Local\\Temp\\ipykernel_11772\\2943226459.py:52: FutureWarning: DataFrameGroupBy.apply operated on the grouping columns. This behavior is deprecated, and in a future version of pandas the grouping columns will be excluded from the operation. Either pass `include_groups=False` to exclude the groupings or explicitly select the grouping columns after groupby to silence this warning.\n",
      "  df_filtered = df_skills_filtered.groupby('position', group_keys=False).apply(filter_top_vacancies).reset_index(drop=True)\n"
     ]
    },
    {
     "data": {
      "text/plain": [
       "' Взяли 70 вакансий . Осталось 7901 cтрок в df'"
      ]
     },
     "metadata": {},
     "output_type": "display_data"
    },
    {
     "data": {
      "text/plain": [
       "'После исключения позиций с < 50 строк осталось 6506 строк и 10 позиций'"
      ]
     },
     "metadata": {},
     "output_type": "display_data"
    },
    {
     "name": "stdout",
     "output_type": "stream",
     "text": [
      "0:\tlearn: 60131.0234617\ttest: 57122.3330235\tbest: 57122.3330235 (0)\ttotal: 32.3ms\tremaining: 32.3s\n",
      "100:\tlearn: 36019.4763204\ttest: 33704.8972733\tbest: 33704.8972733 (100)\ttotal: 2.86s\tremaining: 25.4s\n",
      "200:\tlearn: 34567.5476226\ttest: 33217.9437317\tbest: 33216.2826177 (199)\ttotal: 5.15s\tremaining: 20.5s\n",
      "300:\tlearn: 33680.4529318\ttest: 33100.5194212\tbest: 33096.9777052 (298)\ttotal: 7.39s\tremaining: 17.2s\n",
      "400:\tlearn: 33038.8555249\ttest: 33013.2465660\tbest: 33006.5526329 (362)\ttotal: 9.47s\tremaining: 14.1s\n",
      "500:\tlearn: 32516.3077350\ttest: 32981.7255350\tbest: 32969.8571340 (466)\ttotal: 11.6s\tremaining: 11.6s\n",
      "600:\tlearn: 32040.9742464\ttest: 33019.2278582\tbest: 32948.3970157 (519)\ttotal: 13.7s\tremaining: 9.11s\n",
      "700:\tlearn: 31632.1493889\ttest: 33012.3036875\tbest: 32948.3970157 (519)\ttotal: 15.9s\tremaining: 6.77s\n",
      "800:\tlearn: 31324.0165649\ttest: 33075.2000620\tbest: 32948.3970157 (519)\ttotal: 18.2s\tremaining: 4.51s\n",
      "900:\tlearn: 31067.4740251\ttest: 33088.0256687\tbest: 32948.3970157 (519)\ttotal: 20.3s\tremaining: 2.23s\n",
      "999:\tlearn: 30681.1044568\ttest: 33074.7457887\tbest: 32948.3970157 (519)\ttotal: 22.6s\tremaining: 0us\n",
      "bestTest = 32948.39702\n",
      "bestIteration = 519\n",
      "Shrink model to first 520 iterations.\n"
     ]
    },
    {
     "name": "stderr",
     "output_type": "stream",
     "text": [
      "C:\\Users\\Андрей\\AppData\\Local\\Temp\\ipykernel_11772\\2943226459.py:52: FutureWarning: DataFrameGroupBy.apply operated on the grouping columns. This behavior is deprecated, and in a future version of pandas the grouping columns will be excluded from the operation. Either pass `include_groups=False` to exclude the groupings or explicitly select the grouping columns after groupby to silence this warning.\n",
      "  df_filtered = df_skills_filtered.groupby('position', group_keys=False).apply(filter_top_vacancies).reset_index(drop=True)\n"
     ]
    },
    {
     "data": {
      "text/plain": [
       "' Взяли 100 вакансий . Осталось 8561 cтрок в df'"
      ]
     },
     "metadata": {},
     "output_type": "display_data"
    },
    {
     "data": {
      "text/plain": [
       "'После исключения позиций с < 50 строк осталось 7204 строк и 11 позиций'"
      ]
     },
     "metadata": {},
     "output_type": "display_data"
    },
    {
     "name": "stdout",
     "output_type": "stream",
     "text": [
      "0:\tlearn: 59589.5721670\ttest: 62335.6144785\tbest: 62335.6144785 (0)\ttotal: 37.7ms\tremaining: 37.7s\n",
      "100:\tlearn: 35521.8661579\ttest: 37368.3684159\tbest: 37368.3684159 (100)\ttotal: 3.01s\tremaining: 26.8s\n",
      "200:\tlearn: 33963.3249177\ttest: 36933.3297022\tbest: 36933.3297022 (200)\ttotal: 5.25s\tremaining: 20.8s\n",
      "300:\tlearn: 32984.6662637\ttest: 36916.7628689\tbest: 36840.2970519 (222)\ttotal: 7.51s\tremaining: 17.4s\n",
      "400:\tlearn: 32371.7064742\ttest: 36991.7760420\tbest: 36840.2970519 (222)\ttotal: 9.76s\tremaining: 14.6s\n",
      "500:\tlearn: 31800.1923685\ttest: 37045.5746541\tbest: 36840.2970519 (222)\ttotal: 12s\tremaining: 11.9s\n",
      "600:\tlearn: 31264.9608720\ttest: 37056.4199931\tbest: 36840.2970519 (222)\ttotal: 14.2s\tremaining: 9.42s\n",
      "700:\tlearn: 30851.6130303\ttest: 37080.6267997\tbest: 36840.2970519 (222)\ttotal: 16.4s\tremaining: 7s\n",
      "800:\tlearn: 30492.5124322\ttest: 37107.9607136\tbest: 36840.2970519 (222)\ttotal: 18.5s\tremaining: 4.6s\n",
      "900:\tlearn: 30150.9566388\ttest: 37082.3641739\tbest: 36840.2970519 (222)\ttotal: 20.6s\tremaining: 2.27s\n",
      "999:\tlearn: 29836.5919084\ttest: 37088.1689865\tbest: 36840.2970519 (222)\ttotal: 22.7s\tremaining: 0us\n",
      "bestTest = 36840.29705\n",
      "bestIteration = 222\n",
      "Shrink model to first 223 iterations.\n"
     ]
    },
    {
     "name": "stderr",
     "output_type": "stream",
     "text": [
      "Top-N Skills: 100%|██████████| 7/7 [10:45<00:00, 92.16s/it]\n"
     ]
    },
    {
     "data": {
      "image/png": "[encoded data removed]",
      "text/plain": [
       "<Figure size 1400x600 with 4 Axes>"
      ]
     },
     "metadata": {},
     "output_type": "display_data"
    },
    {
     "name": "stdout",
     "output_type": "stream",
     "text": [
      "Лучшее сочетание по MAE:\n",
      "Top Skills: 500.0, Top Vacancies: 30.0, MAE: 23594.72, R²: 0.67\n"
     ]
    }
   ],
   "source": [
    "from catboost import CatBoostRegressor, Pool\n",
    "from sklearn.model_selection import StratifiedShuffleSplit\n",
    "import pandas as pd\n",
    "\n",
    "# Параметры\n",
    "top_skills_range = [ 30, 50, 70, 100, 300, 500, 800]\n",
    "top_vacancies_range = [30, 50,70, 100] # 30, 40 , 50, 70,\n",
    "\n",
    "\n",
    "results = []\n",
    "\n",
    "for skill_n in tqdm(top_skills_range, desc=\"Top-N Skills\"):\n",
    "    df_skills_filtered = filtered_skills_top_n(df_train_result.copy(), skill_n)\n",
    "    #display(df_skills_filtered['skills'])\n",
    "    # Удаляем строки с пустыми списками skills\n",
    "    df_skills_filtered = df_skills_filtered[df_skills_filtered['skills'].apply(lambda x: len(x) > 0)]\n",
    "    \n",
    "\n",
    "    def flatten_skills(skills_series):\n",
    "        all_skills = []\n",
    "        for skill_list in skills_series:\n",
    "            if isinstance(skill_list, list):\n",
    "                all_skills.extend(skill_list)\n",
    "        return all_skills\n",
    "    #display(df_skills_filtered['skills'])\n",
    "    display(f\" Взяли {skill_n} скилов . Осталось {df_skills_filtered.shape[0]} cтрок в df. Всего уникальных {len(set(flatten_skills(df_skills_filtered['skills'])))}\" )\n",
    "    for vac_n in top_vacancies_range:\n",
    "        # Фильтрация вакансий по top-N внутри позиции\n",
    "        def filter_top_vacancies(group, n=vac_n):\n",
    "            vac_counts = group['vacancy'].value_counts()\n",
    "            top_vacancies = vac_counts.head(n).index.tolist()\n",
    "            #top_vacancies = vac_counts.index.tolist()\n",
    "            return group[group['vacancy'].isin(top_vacancies)]\n",
    "        \n",
    "        def filter_top_vacancies_2(group, n=vac_n):\n",
    "            # Считаем частоту вакансий в группе\n",
    "            vac_counts = group['vacancy'].value_counts()\n",
    "            \n",
    "            # Получаем список топ-N вакансий\n",
    "            top_vacancies = vac_counts.head(n).index.tolist()\n",
    "            \n",
    "            # Создаем копию группы, чтобы не изменять оригинал\n",
    "            group_modified = group.copy()\n",
    "            \n",
    "            # Заменяем вакансии не из топа на 'Other'\n",
    "            group_modified['vacancy'] = group_modified['vacancy'].apply(\n",
    "                lambda x: x if x in top_vacancies else 'Other'\n",
    "    )\n",
    "    \n",
    "            return group_modified\n",
    "\n",
    "        df_filtered = df_skills_filtered.groupby('position', group_keys=False).apply(filter_top_vacancies).reset_index(drop=True)\n",
    "        display(f\" Взяли {vac_n} вакансий . Осталось {df_filtered.shape[0]} cтрок в df\")\n",
    "        \n",
    "        # Удаляем позиции с количеством строк < 50\n",
    "        position_counts = df_filtered['position'].value_counts()\n",
    "        th = 200\n",
    "        valid_positions = position_counts[position_counts >= th].index.tolist() # 200\n",
    "\n",
    "        df_filtered = df_filtered[df_filtered['position'].isin(valid_positions)]\n",
    "\n",
    "        display(f\"После исключения позиций с < {th} строк осталось {df_filtered.shape[0]} строк и {len(valid_positions)} позиций\")\n",
    "\n",
    "        \n",
    "        \n",
    "        \n",
    "        # Обработка целевой переменной и признаков\n",
    "        df_temp = df_filtered.copy()\n",
    "        \n",
    "        \n",
    "        # Очистка целевой переменной от выбросов\n",
    "        positions_temp = df_temp['position'].dropna().unique()\n",
    "\n",
    "        for pos in positions_temp:\n",
    "            pos_mask = df_temp['position'] == pos\n",
    "            clean_series = process_series(df_temp.loc[pos_mask, 'salary from'], 'salary from', pos)\n",
    "            if clean_series is not None:\n",
    "                df_temp.loc[clean_series.index, 'salary from norm'] = clean_series\n",
    "\n",
    "        # Удалим строки с NaN после очистки\n",
    "        df_temp = df_temp.dropna(subset=['salary from norm'])\n",
    "        \n",
    "        \n",
    "        if df_temp.empty:\n",
    "            continue\n",
    "\n",
    "\n",
    "\n",
    "        # 1. Подготовка данных\n",
    "        y = df_temp['salary from norm']\n",
    "\n",
    "        if df_temp.empty:\n",
    "            continue\n",
    "\n",
    "        # Преобразование skills в строки с явным указанием типа\n",
    "        df_temp['skills_str'] = df_temp['skills'].apply(\n",
    "            lambda x: ', '.join(map(str, x)) if isinstance(x, list) else str(x)\n",
    "        )\n",
    "\n",
    "        # 2. Формирование признаков\n",
    "        features = ['position', 'experience', 'schedule', 'employment', 'level', 'vacancy', 'skills_str', 'region']\n",
    "        X = df_temp[features]\n",
    "\n",
    "        # 3. Указываем типы признаков\n",
    "        cat_features = ['position', 'experience', 'schedule', 'employment', 'level', 'vacancy', 'region']\n",
    "        text_features = ['skills_str']\n",
    "\n",
    "        # 4. Разбиение на train/test\n",
    "        try:\n",
    "            splitter = StratifiedShuffleSplit(n_splits=1, test_size=0.2, random_state=42)\n",
    "            for train_idx, test_idx in splitter.split(X, df_temp['position']):\n",
    "                X_train, X_test = X.iloc[train_idx], X.iloc[test_idx]\n",
    "                y_train, y_test = y.iloc[train_idx], y.iloc[test_idx]\n",
    "                \n",
    "                # 5. Создаем Pool с минимальными параметрами\n",
    "                train_pool = Pool(\n",
    "                    data=X_train,\n",
    "                    label=y_train,\n",
    "                    cat_features=cat_features,\n",
    "                    text_features=text_features\n",
    "                )\n",
    "                \n",
    "                test_pool = Pool(\n",
    "                    data=X_test,\n",
    "                    label=y_test,\n",
    "                    cat_features=cat_features,\n",
    "                    text_features=text_features\n",
    "                )\n",
    "\n",
    "        except ValueError as e:\n",
    "            print(f\"Ошибка split при skill_n={skill_n}, vac_n={vac_n}: {e}\")\n",
    "            continue\n",
    "\n",
    "        # 6. Упрощенная модель без сложной обработки текста\n",
    "        model = CatBoostRegressor(\n",
    "            iterations=1000,\n",
    "            learning_rate=0.05,\n",
    "            depth=6,\n",
    "            task_type='GPU',\n",
    "            verbose=100\n",
    "        )\n",
    "\n",
    "        # 7. Обучение с базовыми параметрами\n",
    "        model.fit(train_pool, eval_set=test_pool)\n",
    "\n",
    "        y_pred = model.predict(X_test)\n",
    "        \n",
    "        \n",
    "        #y_pred = np.expm1(y_pred)\n",
    "        \n",
    "        #mae = mean_absolute_error(np.expm1(y_test), y_pred)\n",
    "        #r2 = r2_score(np.expm1(y_test),  y_pred)\n",
    "        \n",
    "        mae = mean_absolute_error(y_test, y_pred)\n",
    "        r2 = r2_score(y_test,  y_pred)\n",
    "\n",
    "        results.append({\n",
    "            'top_skills': skill_n,\n",
    "            'top_vacancies': vac_n,\n",
    "            'mae': mae,\n",
    "            'r2': r2,\n",
    "            'rows': len(df_temp)\n",
    "        })\n",
    "\n",
    "# Переводим результаты в DataFrame\n",
    "results_df = pd.DataFrame(results)\n",
    "\n",
    "# Визуализация результатов\n",
    "plt.figure(figsize=(14, 6))\n",
    "\n",
    "plt.subplot(1, 2, 1)\n",
    "pivot_mae = results_df.pivot(index='top_skills', columns='top_vacancies', values='mae')\n",
    "sns.heatmap(pivot_mae, annot=True, fmt=\".2f\", cmap=\"YlGnBu\")\n",
    "plt.title('MAE')\n",
    "plt.xlabel('Top-N вакансий')\n",
    "plt.ylabel('Top-N скиллов')\n",
    "\n",
    "plt.subplot(1, 2, 2)\n",
    "pivot_r2 = results_df.pivot(index='top_skills', columns='top_vacancies', values='r2')\n",
    "sns.heatmap(pivot_r2, annot=True, fmt=\".2f\", cmap=\"YlGnBu\")\n",
    "plt.title('R²')\n",
    "plt.xlabel('Top-N вакансий')\n",
    "plt.ylabel('Top-N скиллов')\n",
    "\n",
    "plt.tight_layout()\n",
    "plt.show()\n",
    "\n",
    "# Вывод лучшего сочетания\n",
    "best_row = results_df.sort_values(by='mae').iloc[0]\n",
    "print(f\"Лучшее сочетание по MAE:\\nTop Skills: {best_row['top_skills']}, \"\n",
    "      f\"Top Vacancies: {best_row['top_vacancies']}, \"\n",
    "      f\"MAE: {best_row['mae']:.2f}, R²: {best_row['r2']:.2f}\")\n",
    "\n"
   ]
  },
  {
   "cell_type": "markdown",
   "id": "2c505683",
   "metadata": {},
   "source": [
    "position > 50 vac  \n",
    "Лучшее сочетание по MAE:\n",
    "Top Skills: 50.0, Top Vacancies: 30.0, MAE: 25201.48, R²: 0.67"
   ]
  },
  {
   "cell_type": "markdown",
   "id": "b84b3b44",
   "metadata": {},
   "source": [
    "position > 200 vac \n",
    "Лучшее сочетание по MAE:\n",
    "Top Skills: 500.0, Top Vacancies: 30.0, MAE: 23594.72, R²: 0.67\n",
    "30/50  mae 23 621 r2 0.67"
   ]
  },
  {
   "cell_type": "markdown",
   "id": "584d6b76",
   "metadata": {},
   "source": [
    "position > 550 vac  \n",
    "Лучшее сочетание по MAE:\n",
    "Top Skills: 800.0, Top Vacancies: 50.0, MAE: 22092.60, R²: 0.70\n",
    "\n",
    "30 / 100 mae 22 900 r2= 0.75 "
   ]
  }
 ],
 "metadata": {
  "kernelspec": {
   "display_name": "Python 3",
   "language": "python",
   "name": "python3"
  },
  "language_info": {
   "codemirror_mode": {
    "name": "ipython",
    "version": 3
   },
   "file_extension": ".py",
   "mimetype": "text/x-python",
   "name": "python",
   "nbconvert_exporter": "python",
   "pygments_lexer": "ipython3",
   "version": "3.9.10"
  }
 },
 "nbformat": 4,
 "nbformat_minor": 5
}
