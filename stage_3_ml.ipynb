{
 "cells": [
  {
   "cell_type": "code",
   "execution_count": 1,
   "id": "3af8b8ea",
   "metadata": {},
   "outputs": [],
   "source": [
    "import pandas as pd\n",
    "import numpy as np\n",
    "from sklearn.preprocessing import OneHotEncoder, MultiLabelBinarizer\n",
    "from sklearn.model_selection import StratifiedShuffleSplit\n",
    "from sklearn.ensemble import RandomForestRegressor\n",
    "from sklearn.metrics import mean_absolute_error, r2_score\n",
    "from sklearn.model_selection import train_test_split\n",
    "import matplotlib.pyplot as plt\n",
    "import seaborn as sns\n",
    "from ast import literal_eval\n",
    "from tqdm import tqdm\n",
    "import re\n",
    "\n",
    "from collections import Counter\n",
    "from collections import defaultdict"
   ]
  },
  {
   "cell_type": "code",
   "execution_count": 2,
   "id": "2fb2e2ef",
   "metadata": {},
   "outputs": [],
   "source": [
    "#df_copy = pd.read_csv('data/stage_3_df_100s_50p_5.csv')\n",
    "df_copy = pd.read_csv('data/stage_3_df_cluster_vac_to_model_4.csv')\n",
    "#df_copy = pd.read_csv('data/stage_3_df_ru_region_skills_new_to_model.csv')\n",
    "#df_copy = pd.read_csv('data/stage_3_df_ru_region_to_model.csv')\n",
    "#df_copy = pd.read_csv('data/stage_3_df_to_model.csv')"
   ]
  },
  {
   "cell_type": "code",
   "execution_count": 3,
   "id": "db451999",
   "metadata": {},
   "outputs": [
    {
     "name": "stdout",
     "output_type": "stream",
     "text": [
      "<class 'pandas.core.frame.DataFrame'>\n",
      "RangeIndex: 14975 entries, 0 to 14974\n",
      "Data columns (total 45 columns):\n",
      " #   Column                    Non-Null Count  Dtype  \n",
      "---  ------                    --------------  -----  \n",
      " 0   position                  14975 non-null  object \n",
      " 1   date                      14975 non-null  object \n",
      " 2   vacancy                   14975 non-null  object \n",
      " 3   company                   14975 non-null  object \n",
      " 4   city                      14975 non-null  object \n",
      " 5   experience                14975 non-null  object \n",
      " 6   employment                14975 non-null  object \n",
      " 7   schedule                  14975 non-null  object \n",
      " 8   salary from               14975 non-null  float64\n",
      " 9   salary to                 14975 non-null  float64\n",
      " 10  currency                  14968 non-null  object \n",
      " 11  skills                    14975 non-null  object \n",
      " 12  url                       14975 non-null  object \n",
      " 13  ID                        14975 non-null  float64\n",
      " 14  country                   14975 non-null  object \n",
      " 15  industry                  14975 non-null  object \n",
      " 16  text                      14975 non-null  object \n",
      " 17  period of pay             0 non-null      float64\n",
      " 18  level                     14975 non-null  object \n",
      " 19  responsibilities          5183 non-null   object \n",
      " 20  requirements              5201 non-null   object \n",
      " 21  education                 0 non-null      float64\n",
      " 22  benefits                  0 non-null      float64\n",
      " 23  contacts                  0 non-null      float64\n",
      " 24  contact                   0 non-null      float64\n",
      " 25  experience level          2539 non-null   object \n",
      " 26  skills_llm                9452 non-null   object \n",
      " 27  skills_new                14975 non-null  object \n",
      " 28  skills_list               14975 non-null  object \n",
      " 29  skills_clean              14975 non-null  object \n",
      " 30  skills_clean_norm         14975 non-null  object \n",
      " 31  skills_count              14975 non-null  int64  \n",
      " 32  vacancy_norm              14975 non-null  object \n",
      " 33  vacancy_info              3512 non-null   object \n",
      " 34  is_it                     14975 non-null  bool   \n",
      " 35  vacancy it                14975 non-null  object \n",
      " 36  experience_norm           14975 non-null  object \n",
      " 37  region                    14975 non-null  object \n",
      " 38  salary from norm          14975 non-null  float64\n",
      " 39  salary to norm            14975 non-null  float64\n",
      " 40  level_copy                14975 non-null  object \n",
      " 41  vacancy_norm_llm_check_1  14975 non-null  object \n",
      " 42  skills_processed          14975 non-null  object \n",
      " 43  vacancy_norm_1            14975 non-null  object \n",
      " 44  vacancy_norm_2            14445 non-null  object \n",
      "dtypes: bool(1), float64(10), int64(1), object(33)\n",
      "memory usage: 5.0+ MB\n"
     ]
    }
   ],
   "source": [
    "df_copy.info()"
   ]
  },
  {
   "cell_type": "code",
   "execution_count": 4,
   "id": "78df24bc",
   "metadata": {},
   "outputs": [],
   "source": [
    "df_copy = df_copy.drop(['industry','level_copy', 'is_it','skills_list', 'skills_clean',\n",
    "                        'skills_llm','vacancy_info','experience level','contact', 'contacts', 'education', 'benefits', \n",
    "                        'requirements', 'responsibilities', 'period of pay', 'text',\n",
    "                        'ID', 'url', 'skills_count','currency', 'skills_new', 'vacancy_norm'], axis = 1)"
   ]
  },
  {
   "cell_type": "code",
   "execution_count": 5,
   "id": "20603558",
   "metadata": {},
   "outputs": [
    {
     "data": {
      "text/plain": [
       "\"df_copy['level_merged'] = df_copy['level'].replace({\\n    'Lead': 'Lead/Senior',\\n    'Senior': 'Lead/Senior'\\n})\""
      ]
     },
     "execution_count": 5,
     "metadata": {},
     "output_type": "execute_result"
    }
   ],
   "source": [
    "'''df_copy['level_merged'] = df_copy['level'].replace({\n",
    "    'Lead': 'Lead/Senior',\n",
    "    'Senior': 'Lead/Senior'\n",
    "})'''"
   ]
  },
  {
   "cell_type": "code",
   "execution_count": 6,
   "id": "3afe2387",
   "metadata": {},
   "outputs": [
    {
     "name": "stdout",
     "output_type": "stream",
     "text": [
      "<class 'pandas.core.frame.DataFrame'>\n",
      "RangeIndex: 14975 entries, 0 to 14974\n",
      "Data columns (total 23 columns):\n",
      " #   Column                    Non-Null Count  Dtype  \n",
      "---  ------                    --------------  -----  \n",
      " 0   position                  14975 non-null  object \n",
      " 1   date                      14975 non-null  object \n",
      " 2   vacancy                   14975 non-null  object \n",
      " 3   company                   14975 non-null  object \n",
      " 4   city                      14975 non-null  object \n",
      " 5   experience                14975 non-null  object \n",
      " 6   employment                14975 non-null  object \n",
      " 7   schedule                  14975 non-null  object \n",
      " 8   salary from               14975 non-null  float64\n",
      " 9   salary to                 14975 non-null  float64\n",
      " 10  skills                    14975 non-null  object \n",
      " 11  country                   14975 non-null  object \n",
      " 12  level                     14975 non-null  object \n",
      " 13  skills_clean_norm         14975 non-null  object \n",
      " 14  vacancy it                14975 non-null  object \n",
      " 15  experience_norm           14975 non-null  object \n",
      " 16  region                    14975 non-null  object \n",
      " 17  salary from norm          14975 non-null  float64\n",
      " 18  salary to norm            14975 non-null  float64\n",
      " 19  vacancy_norm_llm_check_1  14975 non-null  object \n",
      " 20  skills_processed          14975 non-null  object \n",
      " 21  vacancy_norm_1            14975 non-null  object \n",
      " 22  vacancy_norm_2            14445 non-null  object \n",
      "dtypes: float64(4), object(19)\n",
      "memory usage: 2.6+ MB\n"
     ]
    }
   ],
   "source": [
    "df_copy.info()"
   ]
  },
  {
   "cell_type": "code",
   "execution_count": 7,
   "id": "c8095aef",
   "metadata": {},
   "outputs": [
    {
     "data": {
      "text/plain": [
       "0        ['Проектирование и реализация архитектур хране...\n",
       "1        ['SQL Oracle, MSSQL, PostgreSQL', 'Google Apps...\n",
       "2        ['Системы управления проектами', 'Python panda...\n",
       "3        ['Системы управления проектами', 'Python panda...\n",
       "4        ['Системы управления проектами', 'Python panda...\n",
       "                               ...                        \n",
       "14970    ['Консультирование клиентов', 'Подбор оборудов...\n",
       "14971    ['Работа с ПК', 'Разработка технических схем',...\n",
       "14972    ['Сетевые протоколы TCP/IP', 'Системы монитори...\n",
       "14973    ['CRM 1C', 'Управленческий учёт 1С', 'RESTapi'...\n",
       "14974    ['AutoCad/NanoCad', 'Градостроительный кодекс ...\n",
       "Name: skills_processed, Length: 14975, dtype: object"
      ]
     },
     "execution_count": 7,
     "metadata": {},
     "output_type": "execute_result"
    }
   ],
   "source": [
    "df_copy['skills_processed']"
   ]
  },
  {
   "cell_type": "code",
   "execution_count": 8,
   "id": "3832ce09",
   "metadata": {},
   "outputs": [
    {
     "data": {
      "text/plain": [
       "0        ['Python', 'SQL (PostgreSQL, SQLite)', 'проект...\n",
       "1        ['Python (pandas, scipy)', 'SQL', 'HTML (CSS)'...\n",
       "2        ['Power BI', 'Python', 'SQL', 'Excel', 'Power ...\n",
       "3        ['Power BI', 'Python', 'SQL', 'Excel (Power Qu...\n",
       "4        ['Power BI', 'Python', 'SQL', 'Excel (Power Qu...\n",
       "                               ...                        \n",
       "14970                                 Деловая коммуникация\n",
       "14971    Работа с ПК, MS Office, Разработка технических...\n",
       "14972    TCP/IP, DNS, DHCP, Разработка технической доку...\n",
       "14973    ['Управленческий учёт (1С)', 'ERP-системы (1С)...\n",
       "14974    ['AutoCad/NanoCad', 'Нормативно-техническая ба...\n",
       "Name: skills, Length: 14975, dtype: object"
      ]
     },
     "execution_count": 8,
     "metadata": {},
     "output_type": "execute_result"
    }
   ],
   "source": [
    "df_copy['skills']"
   ]
  },
  {
   "cell_type": "code",
   "execution_count": 9,
   "id": "71ed0f7c",
   "metadata": {},
   "outputs": [
    {
     "data": {
      "image/png": "[encoded data removed]",
      "text/plain": [
       "<Figure size 1200x600 with 2 Axes>"
      ]
     },
     "metadata": {},
     "output_type": "display_data"
    }
   ],
   "source": [
    "# Готовим данные\n",
    "original_salary = df_copy['salary from norm']\n",
    "transformed_salary = np.log1p(original_salary)\n",
    "\n",
    "# Создаем два subplot'a\n",
    "fig, axes = plt.subplots(1, 2, figsize=(12, 6))\n",
    "\n",
    "# Левый график: исходное распределение\n",
    "axes[0].hist(original_salary, bins=50, edgecolor='k')\n",
    "axes[0].set_title('Исходное распределение зарплаты')\n",
    "axes[0].set_xlabel('Зарплата')\n",
    "axes[0].set_ylabel('Количество наблюдений')\n",
    "\n",
    "# Правый график: логарифмически преобразованное распределение\n",
    "axes[1].hist(transformed_salary, bins=50, edgecolor='k')\n",
    "axes[1].set_title('Логарифмически преобразованная зарплата')\n",
    "axes[1].set_xlabel('Логарифм зарплаты')\n",
    "axes[1].set_ylabel('Количество наблюдений')\n",
    "\n",
    "# Автоподгонка расположения графиков\n",
    "plt.tight_layout()\n",
    "\n",
    "# Показываем графики\n",
    "plt.show()"
   ]
  },
  {
   "cell_type": "code",
   "execution_count": 10,
   "id": "3b686a7f",
   "metadata": {},
   "outputs": [
    {
     "data": {
      "text/plain": [
       "\"\\n# Преобразуем list в tuple для правильной группировки\\ndf_copy['skills_tuple'] = df_copy['skills_processed'].map(tuple)\\n\\n# Группируем сначала по position, затем по unique skill sets\\ngrouped = df_copy.groupby(['position', 'skills_tuple'])\\n\\n# Функция для выбора самого популярного vacancy_it\\ndef select_most_frequent_vacancy(g):\\n    counts = g['vacancy it'].value_counts()\\n    \\n    # Если несколько вакансий имеют максимальную частоту, выбираем самую короткую\\n    max_freq = counts.max()\\n    filtered = counts[counts == max_freq]\\n    if len(filtered) > 1:\\n        return sorted(filtered.index, key=lambda x: len(x))[0]\\n    else:\\n        return filtered.index[0]\\n\\n# Применяем функцию для каждого уровня группировки\\nresult = grouped.apply(select_most_frequent_vacancy).rename('vacancy_union').reset_index()\\n\\n# Возвращаемся обратно к оригинальной структуре (если нужно)\\ndf_copy = df_copy.merge(result, how='left', on=['position', 'skills_tuple'])\\n\\n# Удаляем промежуточный столбец\\ndf_copy.drop(columns=['skills_tuple'], inplace=True)\\n\\n\""
      ]
     },
     "execution_count": 10,
     "metadata": {},
     "output_type": "execute_result"
    }
   ],
   "source": [
    "# а попробуем самый простой вариант группировки вакансий \n",
    "'''\n",
    "# Преобразуем list в tuple для правильной группировки\n",
    "df_copy['skills_tuple'] = df_copy['skills_processed'].map(tuple)\n",
    "\n",
    "# Группируем сначала по position, затем по unique skill sets\n",
    "grouped = df_copy.groupby(['position', 'skills_tuple'])\n",
    "\n",
    "# Функция для выбора самого популярного vacancy_it\n",
    "def select_most_frequent_vacancy(g):\n",
    "    counts = g['vacancy it'].value_counts()\n",
    "    \n",
    "    # Если несколько вакансий имеют максимальную частоту, выбираем самую короткую\n",
    "    max_freq = counts.max()\n",
    "    filtered = counts[counts == max_freq]\n",
    "    if len(filtered) > 1:\n",
    "        return sorted(filtered.index, key=lambda x: len(x))[0]\n",
    "    else:\n",
    "        return filtered.index[0]\n",
    "\n",
    "# Применяем функцию для каждого уровня группировки\n",
    "result = grouped.apply(select_most_frequent_vacancy).rename('vacancy_union').reset_index()\n",
    "\n",
    "# Возвращаемся обратно к оригинальной структуре (если нужно)\n",
    "df_copy = df_copy.merge(result, how='left', on=['position', 'skills_tuple'])\n",
    "\n",
    "# Удаляем промежуточный столбец\n",
    "df_copy.drop(columns=['skills_tuple'], inplace=True)\n",
    "\n",
    "'''"
   ]
  },
  {
   "cell_type": "code",
   "execution_count": 11,
   "id": "7cd4b94d",
   "metadata": {},
   "outputs": [],
   "source": [
    "#display(df_copy['vacancy it'].nunique())\n",
    "#display(df_copy['vacancy_union'].nunique())"
   ]
  },
  {
   "cell_type": "code",
   "execution_count": 12,
   "id": "7d933f72",
   "metadata": {},
   "outputs": [],
   "source": [
    "# подготовка данных к обучению\n",
    "\n",
    "df_train_result = df_copy[(df_copy['country'] == 'Россия') ][['salary from norm',\n",
    "                                                              'salary to norm', \n",
    "                                                              'position', \n",
    "                                                              'experience_norm', \n",
    "                                                               'skills_processed', # 'skills_clean_norm','skills_processed, 'skills_manu'\n",
    "                                                              'schedule','employment', 'vacancy it',\n",
    "                                                               #'vacancy_norm_llm_check_1', 'vacancy it','vacancy_manu','vacancy_norm_2', 'vacancy_manu'\n",
    "                                                              'level',\n",
    "                                                              'region']]\n",
    "\n",
    "df_train_result = df_train_result.dropna(subset=['salary from norm', 'salary to norm'], how='any') # \n",
    "\n",
    "df_train_result.rename(columns={'skills_processed': 'skills',\n",
    "                                'experience_norm':'experience',\n",
    "                                'vacancy it':'vacancy'}, inplace=True)\n",
    "\n",
    "df_train_result['skills'] = df_train_result['skills'].apply(literal_eval)\n",
    "\n",
    "df_train_result.rename(columns={\n",
    "    'salary from norm': 'salary from',\n",
    "    'salary to norm': 'salary to'\n",
    "}, inplace=True)"
   ]
  },
  {
   "cell_type": "markdown",
   "id": "830978aa",
   "metadata": {},
   "source": [
    "##### Важно ! Предыдущий дата сет лучше с vacancy it, skills_processed , > 50 на регионах и > 550 position "
   ]
  },
  {
   "cell_type": "code",
   "execution_count": null,
   "id": "97136f9f",
   "metadata": {},
   "outputs": [],
   "source": []
  },
  {
   "cell_type": "code",
   "execution_count": 13,
   "id": "c6191239",
   "metadata": {},
   "outputs": [
    {
     "name": "stdout",
     "output_type": "stream",
     "text": [
      "<class 'pandas.core.frame.DataFrame'>\n",
      "RangeIndex: 14975 entries, 0 to 14974\n",
      "Data columns (total 10 columns):\n",
      " #   Column       Non-Null Count  Dtype  \n",
      "---  ------       --------------  -----  \n",
      " 0   salary from  14975 non-null  float64\n",
      " 1   salary to    14975 non-null  float64\n",
      " 2   position     14975 non-null  object \n",
      " 3   experience   14975 non-null  object \n",
      " 4   skills       14975 non-null  object \n",
      " 5   schedule     14975 non-null  object \n",
      " 6   employment   14975 non-null  object \n",
      " 7   vacancy      14975 non-null  object \n",
      " 8   level        14975 non-null  object \n",
      " 9   region       14975 non-null  object \n",
      "dtypes: float64(2), object(8)\n",
      "memory usage: 1.1+ MB\n"
     ]
    }
   ],
   "source": [
    "df_train_result.info()"
   ]
  },
  {
   "cell_type": "code",
   "execution_count": 14,
   "id": "9db6cd17",
   "metadata": {},
   "outputs": [
    {
     "data": {
      "text/plain": [
       "vacancy it\n",
       "Системный администратор                                      881\n",
       "Программист 1С                                               561\n",
       "Специалист технической поддержки                             486\n",
       "Графический дизайнер                                         273\n",
       "Инженер технической поддержки                                164\n",
       "                                                            ... \n",
       "Технический директор производства декораций                    1\n",
       "Помощник SEO-оптимизатора                                      1\n",
       "Cпециалист по сертификации                                     1\n",
       "Технический специалист в отдел мотор-редукторов                1\n",
       "Эксперт-проектировщик сетей водоснабжения и водоотведения      1\n",
       "Name: count, Length: 6944, dtype: int64"
      ]
     },
     "execution_count": 14,
     "metadata": {},
     "output_type": "execute_result"
    }
   ],
   "source": [
    "df_copy['vacancy it'].value_counts(dropna=False)"
   ]
  },
  {
   "cell_type": "code",
   "execution_count": 15,
   "id": "2b35500d",
   "metadata": {},
   "outputs": [],
   "source": [
    "df_train_result = df_train_result[df_train_result['vacancy'] != 'trash']"
   ]
  },
  {
   "cell_type": "code",
   "execution_count": 16,
   "id": "77f8b8f5",
   "metadata": {},
   "outputs": [],
   "source": [
    "mask = df_train_result['region'].value_counts() >= 50 # 100\n",
    "df_train_result = df_train_result[df_train_result['region'].isin(mask[mask].index)]"
   ]
  },
  {
   "cell_type": "code",
   "execution_count": 17,
   "id": "17958d1c",
   "metadata": {},
   "outputs": [
    {
     "data": {
      "text/plain": [
       "region\n",
       "Москва                     4907\n",
       "Санкт-Петербург            1994\n",
       "Свердловская область        561\n",
       "Краснодарский край          526\n",
       "Республика Татарстан        491\n",
       "Новосибирская область       441\n",
       "Московская область          397\n",
       "Нижегородская область       357\n",
       "Ростовская область          339\n",
       "Воронежская область         309\n",
       "Самарская область           252\n",
       "Челябинская область         251\n",
       "Красноярский край           219\n",
       "Приморский край             215\n",
       "Пермский край               209\n",
       "Башкортостан                198\n",
       "Ярославская область         193\n",
       "Волгоградская область       157\n",
       "Тульская область            148\n",
       "Томская область             127\n",
       "Тюменская область           121\n",
       "Омская область              120\n",
       "Иркутская область           116\n",
       "Алтайский край              114\n",
       "Рязанская область           106\n",
       "Кемеровская область         105\n",
       "Хабаровский край            104\n",
       "Чувашская Республика        104\n",
       "Саратовская область         103\n",
       "Калининградская область     100\n",
       "Удмуртская Республика        98\n",
       "Республика Крым              96\n",
       "Владимирская область         83\n",
       "Кировская область            78\n",
       "Ставропольский край          75\n",
       "Белгородская область         74\n",
       "Ивановская область           70\n",
       "Пензенская область           68\n",
       "Калужская область            62\n",
       "Вологодская область          60\n",
       "Оренбургская область         55\n",
       "Республика Марий Эл          50\n",
       "Name: count, dtype: int64"
      ]
     },
     "execution_count": 17,
     "metadata": {},
     "output_type": "execute_result"
    }
   ],
   "source": [
    "df_train_result['region'].value_counts()"
   ]
  },
  {
   "cell_type": "code",
   "execution_count": 18,
   "id": "0177a79c",
   "metadata": {},
   "outputs": [
    {
     "data": {
      "text/plain": [
       "level\n",
       "Unknown    12431\n",
       "Junior       680\n",
       "Middle       634\n",
       "Senior       254\n",
       "Trainee      171\n",
       "Lead          76\n",
       "Chief          7\n",
       "Name: count, dtype: int64"
      ]
     },
     "execution_count": 18,
     "metadata": {},
     "output_type": "execute_result"
    }
   ],
   "source": [
    "df_train_result['level'].value_counts()"
   ]
  },
  {
   "cell_type": "code",
   "execution_count": 19,
   "id": "6e0d4524",
   "metadata": {},
   "outputs": [
    {
     "data": {
      "text/plain": [
       "experience\n",
       "1–3 года       7849\n",
       "3–6 лет        3496\n",
       "Нет опыта      2514\n",
       "Более 6 лет     394\n",
       "Name: count, dtype: int64"
      ]
     },
     "execution_count": 19,
     "metadata": {},
     "output_type": "execute_result"
    }
   ],
   "source": [
    "df_train_result['experience'].value_counts()"
   ]
  },
  {
   "cell_type": "code",
   "execution_count": 20,
   "id": "4e996f41",
   "metadata": {},
   "outputs": [],
   "source": [
    "# Проводим логарифмическое преобразование целевой переменной если лучше mae\n",
    "#df_train_result['log_salary'] = np.log1p(df_train_result['salary from'])"
   ]
  },
  {
   "cell_type": "code",
   "execution_count": 21,
   "id": "89caa16e",
   "metadata": {},
   "outputs": [
    {
     "name": "stdout",
     "output_type": "stream",
     "text": [
      "<class 'pandas.core.frame.DataFrame'>\n",
      "Index: 14253 entries, 0 to 14974\n",
      "Data columns (total 10 columns):\n",
      " #   Column       Non-Null Count  Dtype  \n",
      "---  ------       --------------  -----  \n",
      " 0   salary from  14253 non-null  float64\n",
      " 1   salary to    14253 non-null  float64\n",
      " 2   position     14253 non-null  object \n",
      " 3   experience   14253 non-null  object \n",
      " 4   skills       14253 non-null  object \n",
      " 5   schedule     14253 non-null  object \n",
      " 6   employment   14253 non-null  object \n",
      " 7   vacancy      14253 non-null  object \n",
      " 8   level        14253 non-null  object \n",
      " 9   region       14253 non-null  object \n",
      "dtypes: float64(2), object(8)\n",
      "memory usage: 1.2+ MB\n"
     ]
    }
   ],
   "source": [
    "df_train_result.info()"
   ]
  },
  {
   "cell_type": "code",
   "execution_count": 22,
   "id": "d59e8b38",
   "metadata": {},
   "outputs": [],
   "source": [
    "def filtered_skills_top_n(df_train_result, n):\n",
    "    \"\"\"\n",
    "    Фильтрует навыки, оставляя только N наиболее популярных навыков для каждой позиции.\n",
    "    \n",
    "    :param df_skills_filtered: Входящий DataFrame с колонками 'position' и 'skills'.\n",
    "    :param n: Число наиболее популярных навыков, которое нужно оставить.\n",
    "    :return: Отфильтрованный DataFrame с сокращённым списком навыков.\n",
    "    \"\"\"\n",
    "    \n",
    "    result_df = df_train_result.copy()\n",
    "    #display(result_df['skills'])\n",
    "    # Перебираем каждую уникальную должность\n",
    "    for pos in result_df['position'].unique():\n",
    "        # Маска для выбора строк с нужной должностью\n",
    "        mask = result_df['position'] == pos\n",
    "        \n",
    "        # Собираем все навыки в один большой список\n",
    "        skills_lists = result_df.loc[mask, 'skills']\n",
    "        all_skills = [skill for sublist in skills_lists for skill in sublist]\n",
    "        \n",
    "        # Считаем частоту появления каждого навыка\n",
    "        skill_counts = Counter(all_skills)\n",
    "        \n",
    "        # Берём топ-n навыков\n",
    "        top_n_skills = set([skill for skill, _ in skill_counts.most_common(n)])\n",
    "        \n",
    "        # Применяем фильтр к списку навыков\n",
    "        result_df.loc[mask, 'skills'] = skills_lists.apply(\n",
    "            lambda skill_list: [s for s in skill_list if s in top_n_skills]\n",
    "        )\n",
    "        #display(result_df['skills'])\n",
    "    return result_df"
   ]
  },
  {
   "cell_type": "code",
   "execution_count": 23,
   "id": "764226d6",
   "metadata": {},
   "outputs": [],
   "source": [
    "from scipy.stats import normaltest\n",
    "\n",
    "# Функция очистки и нормализации\n",
    "def process_series(series, colname, position):\n",
    "    series = pd.to_numeric(series, errors='coerce')\n",
    "    series = series.dropna()\n",
    "    n_total = len(series)\n",
    "\n",
    "\n",
    "    stat, p = normaltest(series)\n",
    "    is_normal = p > 0.05\n",
    "\n",
    "    if is_normal:\n",
    "        mu, sigma = series.mean(), series.std()\n",
    "        mask = (series >= mu - 3 * sigma) & (series <= mu + 3 * sigma)\n",
    "    else:\n",
    "        q1 = series.quantile(0.25)\n",
    "        q3 = series.quantile(0.75)\n",
    "        iqr = q3 - q1\n",
    "        mask = (series >= q1 - 1.5 * iqr) & (series <= q3 + 1.5 * iqr)\n",
    "\n",
    "    n_filtered = mask.sum()\n",
    "    n_removed = n_total - n_filtered\n",
    "\n",
    "\n",
    "    return series[mask]"
   ]
  },
  {
   "cell_type": "code",
   "execution_count": 24,
   "id": "3afe3f5b",
   "metadata": {},
   "outputs": [
    {
     "name": "stderr",
     "output_type": "stream",
     "text": [
      "Top-N Skills:   0%|          | 0/4 [00:00<?, ?it/s]"
     ]
    },
    {
     "data": {
      "text/plain": [
       "' Взяли 20 скилов . Осталось 8681 cтрок в df. Всего уникальных 400'"
      ]
     },
     "metadata": {},
     "output_type": "display_data"
    },
    {
     "name": "stderr",
     "output_type": "stream",
     "text": [
      "C:\\Users\\Андрей\\AppData\\Local\\Temp\\ipykernel_4252\\2136363346.py:31: FutureWarning: DataFrameGroupBy.apply operated on the grouping columns. This behavior is deprecated, and in a future version of pandas the grouping columns will be excluded from the operation. Either pass `include_groups=False` to exclude the groupings or explicitly select the grouping columns after groupby to silence this warning.\n",
      "  df_filtered = df_skills_filtered.groupby('position', group_keys=False).apply(filter_top_vacancies).reset_index(drop=True)\n"
     ]
    },
    {
     "data": {
      "text/plain": [
       "' Взяли 40 вакансий . Осталось 4700 cтрок в df'"
      ]
     },
     "metadata": {},
     "output_type": "display_data"
    },
    {
     "data": {
      "text/plain": [
       "'После исключения позиций с < 200 строк осталось 2662 строк и 4 позиций'"
      ]
     },
     "metadata": {},
     "output_type": "display_data"
    },
    {
     "name": "stderr",
     "output_type": "stream",
     "text": [
      "C:\\Users\\Андрей\\AppData\\Local\\Temp\\ipykernel_4252\\2136363346.py:31: FutureWarning: DataFrameGroupBy.apply operated on the grouping columns. This behavior is deprecated, and in a future version of pandas the grouping columns will be excluded from the operation. Either pass `include_groups=False` to exclude the groupings or explicitly select the grouping columns after groupby to silence this warning.\n",
      "  df_filtered = df_skills_filtered.groupby('position', group_keys=False).apply(filter_top_vacancies).reset_index(drop=True)\n"
     ]
    },
    {
     "data": {
      "text/plain": [
       "' Взяли 50 вакансий . Осталось 4950 cтрок в df'"
      ]
     },
     "metadata": {},
     "output_type": "display_data"
    },
    {
     "data": {
      "text/plain": [
       "'После исключения позиций с < 200 строк осталось 2773 строк и 4 позиций'"
      ]
     },
     "metadata": {},
     "output_type": "display_data"
    },
    {
     "name": "stderr",
     "output_type": "stream",
     "text": [
      "C:\\Users\\Андрей\\AppData\\Local\\Temp\\ipykernel_4252\\2136363346.py:31: FutureWarning: DataFrameGroupBy.apply operated on the grouping columns. This behavior is deprecated, and in a future version of pandas the grouping columns will be excluded from the operation. Either pass `include_groups=False` to exclude the groupings or explicitly select the grouping columns after groupby to silence this warning.\n",
      "  df_filtered = df_skills_filtered.groupby('position', group_keys=False).apply(filter_top_vacancies).reset_index(drop=True)\n"
     ]
    },
    {
     "data": {
      "text/plain": [
       "' Взяли 70 вакансий . Осталось 5340 cтрок в df'"
      ]
     },
     "metadata": {},
     "output_type": "display_data"
    },
    {
     "data": {
      "text/plain": [
       "'После исключения позиций с < 200 строк осталось 2953 строк и 4 позиций'"
      ]
     },
     "metadata": {},
     "output_type": "display_data"
    },
    {
     "name": "stderr",
     "output_type": "stream",
     "text": [
      "C:\\Users\\Андрей\\AppData\\Local\\Temp\\ipykernel_4252\\2136363346.py:31: FutureWarning: DataFrameGroupBy.apply operated on the grouping columns. This behavior is deprecated, and in a future version of pandas the grouping columns will be excluded from the operation. Either pass `include_groups=False` to exclude the groupings or explicitly select the grouping columns after groupby to silence this warning.\n",
      "  df_filtered = df_skills_filtered.groupby('position', group_keys=False).apply(filter_top_vacancies).reset_index(drop=True)\n"
     ]
    },
    {
     "data": {
      "text/plain": [
       "' Взяли 100 вакансий . Осталось 5788 cтрок в df'"
      ]
     },
     "metadata": {},
     "output_type": "display_data"
    },
    {
     "data": {
      "text/plain": [
       "'После исключения позиций с < 200 строк осталось 3163 строк и 4 позиций'"
      ]
     },
     "metadata": {},
     "output_type": "display_data"
    },
    {
     "name": "stderr",
     "output_type": "stream",
     "text": [
      "Top-N Skills:  25%|██▌       | 1/4 [00:04<00:14,  4.88s/it]"
     ]
    },
    {
     "data": {
      "text/plain": [
       "' Взяли 30 скилов . Осталось 9566 cтрок в df. Всего уникальных 590'"
      ]
     },
     "metadata": {},
     "output_type": "display_data"
    },
    {
     "name": "stderr",
     "output_type": "stream",
     "text": [
      "C:\\Users\\Андрей\\AppData\\Local\\Temp\\ipykernel_4252\\2136363346.py:31: FutureWarning: DataFrameGroupBy.apply operated on the grouping columns. This behavior is deprecated, and in a future version of pandas the grouping columns will be excluded from the operation. Either pass `include_groups=False` to exclude the groupings or explicitly select the grouping columns after groupby to silence this warning.\n",
      "  df_filtered = df_skills_filtered.groupby('position', group_keys=False).apply(filter_top_vacancies).reset_index(drop=True)\n"
     ]
    },
    {
     "data": {
      "text/plain": [
       "' Взяли 40 вакансий . Осталось 5121 cтрок в df'"
      ]
     },
     "metadata": {},
     "output_type": "display_data"
    },
    {
     "data": {
      "text/plain": [
       "'После исключения позиций с < 200 строк осталось 2946 строк и 4 позиций'"
      ]
     },
     "metadata": {},
     "output_type": "display_data"
    },
    {
     "name": "stderr",
     "output_type": "stream",
     "text": [
      "C:\\Users\\Андрей\\AppData\\Local\\Temp\\ipykernel_4252\\2136363346.py:31: FutureWarning: DataFrameGroupBy.apply operated on the grouping columns. This behavior is deprecated, and in a future version of pandas the grouping columns will be excluded from the operation. Either pass `include_groups=False` to exclude the groupings or explicitly select the grouping columns after groupby to silence this warning.\n",
      "  df_filtered = df_skills_filtered.groupby('position', group_keys=False).apply(filter_top_vacancies).reset_index(drop=True)\n"
     ]
    },
    {
     "data": {
      "text/plain": [
       "' Взяли 50 вакансий . Осталось 5394 cтрок в df'"
      ]
     },
     "metadata": {},
     "output_type": "display_data"
    },
    {
     "data": {
      "text/plain": [
       "'После исключения позиций с < 200 строк осталось 3068 строк и 4 позиций'"
      ]
     },
     "metadata": {},
     "output_type": "display_data"
    },
    {
     "name": "stderr",
     "output_type": "stream",
     "text": [
      "C:\\Users\\Андрей\\AppData\\Local\\Temp\\ipykernel_4252\\2136363346.py:31: FutureWarning: DataFrameGroupBy.apply operated on the grouping columns. This behavior is deprecated, and in a future version of pandas the grouping columns will be excluded from the operation. Either pass `include_groups=False` to exclude the groupings or explicitly select the grouping columns after groupby to silence this warning.\n",
      "  df_filtered = df_skills_filtered.groupby('position', group_keys=False).apply(filter_top_vacancies).reset_index(drop=True)\n"
     ]
    },
    {
     "data": {
      "text/plain": [
       "' Взяли 70 вакансий . Осталось 5815 cтрок в df'"
      ]
     },
     "metadata": {},
     "output_type": "display_data"
    },
    {
     "data": {
      "text/plain": [
       "'После исключения позиций с < 200 строк осталось 3257 строк и 4 позиций'"
      ]
     },
     "metadata": {},
     "output_type": "display_data"
    },
    {
     "name": "stderr",
     "output_type": "stream",
     "text": [
      "C:\\Users\\Андрей\\AppData\\Local\\Temp\\ipykernel_4252\\2136363346.py:31: FutureWarning: DataFrameGroupBy.apply operated on the grouping columns. This behavior is deprecated, and in a future version of pandas the grouping columns will be excluded from the operation. Either pass `include_groups=False` to exclude the groupings or explicitly select the grouping columns after groupby to silence this warning.\n",
      "  df_filtered = df_skills_filtered.groupby('position', group_keys=False).apply(filter_top_vacancies).reset_index(drop=True)\n"
     ]
    },
    {
     "data": {
      "text/plain": [
       "' Взяли 100 вакансий . Осталось 6306 cтрок в df'"
      ]
     },
     "metadata": {},
     "output_type": "display_data"
    },
    {
     "data": {
      "text/plain": [
       "'После исключения позиций с < 200 строк осталось 3484 строк и 4 позиций'"
      ]
     },
     "metadata": {},
     "output_type": "display_data"
    },
    {
     "name": "stderr",
     "output_type": "stream",
     "text": [
      "Top-N Skills:  50%|█████     | 2/4 [00:10<00:10,  5.07s/it]"
     ]
    },
    {
     "data": {
      "text/plain": [
       "' Взяли 50 скилов . Осталось 10574 cтрок в df. Всего уникальных 961'"
      ]
     },
     "metadata": {},
     "output_type": "display_data"
    },
    {
     "name": "stderr",
     "output_type": "stream",
     "text": [
      "C:\\Users\\Андрей\\AppData\\Local\\Temp\\ipykernel_4252\\2136363346.py:31: FutureWarning: DataFrameGroupBy.apply operated on the grouping columns. This behavior is deprecated, and in a future version of pandas the grouping columns will be excluded from the operation. Either pass `include_groups=False` to exclude the groupings or explicitly select the grouping columns after groupby to silence this warning.\n",
      "  df_filtered = df_skills_filtered.groupby('position', group_keys=False).apply(filter_top_vacancies).reset_index(drop=True)\n"
     ]
    },
    {
     "data": {
      "text/plain": [
       "' Взяли 40 вакансий . Осталось 5622 cтрок в df'"
      ]
     },
     "metadata": {},
     "output_type": "display_data"
    },
    {
     "data": {
      "text/plain": [
       "'После исключения позиций с < 200 строк осталось 3306 строк и 4 позиций'"
      ]
     },
     "metadata": {},
     "output_type": "display_data"
    },
    {
     "name": "stderr",
     "output_type": "stream",
     "text": [
      "C:\\Users\\Андрей\\AppData\\Local\\Temp\\ipykernel_4252\\2136363346.py:31: FutureWarning: DataFrameGroupBy.apply operated on the grouping columns. This behavior is deprecated, and in a future version of pandas the grouping columns will be excluded from the operation. Either pass `include_groups=False` to exclude the groupings or explicitly select the grouping columns after groupby to silence this warning.\n",
      "  df_filtered = df_skills_filtered.groupby('position', group_keys=False).apply(filter_top_vacancies).reset_index(drop=True)\n"
     ]
    },
    {
     "data": {
      "text/plain": [
       "' Взяли 50 вакансий . Осталось 5917 cтрок в df'"
      ]
     },
     "metadata": {},
     "output_type": "display_data"
    },
    {
     "data": {
      "text/plain": [
       "'После исключения позиций с < 200 строк осталось 3441 строк и 4 позиций'"
      ]
     },
     "metadata": {},
     "output_type": "display_data"
    },
    {
     "name": "stderr",
     "output_type": "stream",
     "text": [
      "C:\\Users\\Андрей\\AppData\\Local\\Temp\\ipykernel_4252\\2136363346.py:31: FutureWarning: DataFrameGroupBy.apply operated on the grouping columns. This behavior is deprecated, and in a future version of pandas the grouping columns will be excluded from the operation. Either pass `include_groups=False` to exclude the groupings or explicitly select the grouping columns after groupby to silence this warning.\n",
      "  df_filtered = df_skills_filtered.groupby('position', group_keys=False).apply(filter_top_vacancies).reset_index(drop=True)\n"
     ]
    },
    {
     "data": {
      "text/plain": [
       "' Взяли 70 вакансий . Осталось 6368 cтрок в df'"
      ]
     },
     "metadata": {},
     "output_type": "display_data"
    },
    {
     "data": {
      "text/plain": [
       "'После исключения позиций с < 200 строк осталось 3641 строк и 4 позиций'"
      ]
     },
     "metadata": {},
     "output_type": "display_data"
    },
    {
     "name": "stderr",
     "output_type": "stream",
     "text": [
      "C:\\Users\\Андрей\\AppData\\Local\\Temp\\ipykernel_4252\\2136363346.py:31: FutureWarning: DataFrameGroupBy.apply operated on the grouping columns. This behavior is deprecated, and in a future version of pandas the grouping columns will be excluded from the operation. Either pass `include_groups=False` to exclude the groupings or explicitly select the grouping columns after groupby to silence this warning.\n",
      "  df_filtered = df_skills_filtered.groupby('position', group_keys=False).apply(filter_top_vacancies).reset_index(drop=True)\n"
     ]
    },
    {
     "data": {
      "text/plain": [
       "' Взяли 100 вакансий . Осталось 6906 cтрок в df'"
      ]
     },
     "metadata": {},
     "output_type": "display_data"
    },
    {
     "data": {
      "text/plain": [
       "'После исключения позиций с < 200 строк осталось 3876 строк и 4 позиций'"
      ]
     },
     "metadata": {},
     "output_type": "display_data"
    },
    {
     "name": "stderr",
     "output_type": "stream",
     "text": [
      "Top-N Skills:  75%|███████▌  | 3/4 [00:16<00:05,  5.59s/it]"
     ]
    },
    {
     "data": {
      "text/plain": [
       "' Взяли 70 скилов . Осталось 11151 cтрок в df. Всего уникальных 1337'"
      ]
     },
     "metadata": {},
     "output_type": "display_data"
    },
    {
     "name": "stderr",
     "output_type": "stream",
     "text": [
      "C:\\Users\\Андрей\\AppData\\Local\\Temp\\ipykernel_4252\\2136363346.py:31: FutureWarning: DataFrameGroupBy.apply operated on the grouping columns. This behavior is deprecated, and in a future version of pandas the grouping columns will be excluded from the operation. Either pass `include_groups=False` to exclude the groupings or explicitly select the grouping columns after groupby to silence this warning.\n",
      "  df_filtered = df_skills_filtered.groupby('position', group_keys=False).apply(filter_top_vacancies).reset_index(drop=True)\n"
     ]
    },
    {
     "data": {
      "text/plain": [
       "' Взяли 40 вакансий . Осталось 5862 cтрок в df'"
      ]
     },
     "metadata": {},
     "output_type": "display_data"
    },
    {
     "data": {
      "text/plain": [
       "'После исключения позиций с < 200 строк осталось 3456 строк и 4 позиций'"
      ]
     },
     "metadata": {},
     "output_type": "display_data"
    },
    {
     "name": "stderr",
     "output_type": "stream",
     "text": [
      "C:\\Users\\Андрей\\AppData\\Local\\Temp\\ipykernel_4252\\2136363346.py:31: FutureWarning: DataFrameGroupBy.apply operated on the grouping columns. This behavior is deprecated, and in a future version of pandas the grouping columns will be excluded from the operation. Either pass `include_groups=False` to exclude the groupings or explicitly select the grouping columns after groupby to silence this warning.\n",
      "  df_filtered = df_skills_filtered.groupby('position', group_keys=False).apply(filter_top_vacancies).reset_index(drop=True)\n"
     ]
    },
    {
     "data": {
      "text/plain": [
       "' Взяли 50 вакансий . Осталось 6168 cтрок в df'"
      ]
     },
     "metadata": {},
     "output_type": "display_data"
    },
    {
     "data": {
      "text/plain": [
       "'После исключения позиций с < 200 строк осталось 3596 строк и 4 позиций'"
      ]
     },
     "metadata": {},
     "output_type": "display_data"
    },
    {
     "name": "stderr",
     "output_type": "stream",
     "text": [
      "C:\\Users\\Андрей\\AppData\\Local\\Temp\\ipykernel_4252\\2136363346.py:31: FutureWarning: DataFrameGroupBy.apply operated on the grouping columns. This behavior is deprecated, and in a future version of pandas the grouping columns will be excluded from the operation. Either pass `include_groups=False` to exclude the groupings or explicitly select the grouping columns after groupby to silence this warning.\n",
      "  df_filtered = df_skills_filtered.groupby('position', group_keys=False).apply(filter_top_vacancies).reset_index(drop=True)\n"
     ]
    },
    {
     "data": {
      "text/plain": [
       "' Взяли 70 вакансий . Осталось 6634 cтрок в df'"
      ]
     },
     "metadata": {},
     "output_type": "display_data"
    },
    {
     "data": {
      "text/plain": [
       "'После исключения позиций с < 200 строк осталось 3802 строк и 4 позиций'"
      ]
     },
     "metadata": {},
     "output_type": "display_data"
    },
    {
     "name": "stderr",
     "output_type": "stream",
     "text": [
      "C:\\Users\\Андрей\\AppData\\Local\\Temp\\ipykernel_4252\\2136363346.py:31: FutureWarning: DataFrameGroupBy.apply operated on the grouping columns. This behavior is deprecated, and in a future version of pandas the grouping columns will be excluded from the operation. Either pass `include_groups=False` to exclude the groupings or explicitly select the grouping columns after groupby to silence this warning.\n",
      "  df_filtered = df_skills_filtered.groupby('position', group_keys=False).apply(filter_top_vacancies).reset_index(drop=True)\n"
     ]
    },
    {
     "data": {
      "text/plain": [
       "' Взяли 100 вакансий . Осталось 7210 cтрок в df'"
      ]
     },
     "metadata": {},
     "output_type": "display_data"
    },
    {
     "data": {
      "text/plain": [
       "'После исключения позиций с < 200 строк осталось 4050 строк и 4 позиций'"
      ]
     },
     "metadata": {},
     "output_type": "display_data"
    },
    {
     "name": "stderr",
     "output_type": "stream",
     "text": [
      "Top-N Skills: 100%|██████████| 4/4 [00:23<00:00,  5.75s/it]\n"
     ]
    },
    {
     "data": {
      "image/png": "[encoded data removed]",
      "text/plain": [
       "<Figure size 1400x600 with 4 Axes>"
      ]
     },
     "metadata": {},
     "output_type": "display_data"
    },
    {
     "name": "stdout",
     "output_type": "stream",
     "text": [
      "Лучшее сочетание по MAE:\n",
      "Top Skills: 30.0, Top Vacancies: 40.0, MAE: 21694.42, R²: 0.75\n"
     ]
    }
   ],
   "source": [
    "\n",
    "\n",
    "# Параметры\n",
    "top_skills_range = [ 20, 30, 50, 70]\n",
    "top_vacancies_range = [40,50,70, 100] # 30, 40 , 50, 70,\n",
    "\n",
    "\n",
    "results = []\n",
    "\n",
    "for skill_n in tqdm(top_skills_range, desc=\"Top-N Skills\"):\n",
    "    df_skills_filtered = filtered_skills_top_n(df_train_result.copy(), skill_n)\n",
    "    #display(df_skills_filtered['skills'])\n",
    "    # Удаляем строки с пустыми списками skills\n",
    "    df_skills_filtered = df_skills_filtered[df_skills_filtered['skills'].apply(lambda x: len(x) > 0)]\n",
    "    \n",
    "\n",
    "    def flatten_skills(skills_series):\n",
    "        all_skills = []\n",
    "        for skill_list in skills_series:\n",
    "            if isinstance(skill_list, list):\n",
    "                all_skills.extend(skill_list)\n",
    "        return all_skills\n",
    "    #display(df_skills_filtered['skills'])\n",
    "    display(f\" Взяли {skill_n} скилов . Осталось {df_skills_filtered.shape[0]} cтрок в df. Всего уникальных {len(set(flatten_skills(df_skills_filtered['skills'])))}\" )\n",
    "    for vac_n in top_vacancies_range:\n",
    "        # Фильтрация вакансий по top-N внутри позиции\n",
    "        def filter_top_vacancies(group, n=vac_n):\n",
    "            vac_counts = group['vacancy'].value_counts()\n",
    "            top_vacancies = vac_counts.head(n).index.tolist()\n",
    "            #top_vacancies = vac_counts.index.tolist()\n",
    "            return group[group['vacancy'].isin(top_vacancies)]\n",
    "\n",
    "        df_filtered = df_skills_filtered.groupby('position', group_keys=False).apply(filter_top_vacancies).reset_index(drop=True)\n",
    "        display(f\" Взяли {vac_n} вакансий . Осталось {df_filtered.shape[0]} cтрок в df\")\n",
    "        \n",
    "        # Удаляем позиции с количеством строк < 150\n",
    "        position_counts = df_filtered['position'].value_counts()\n",
    "        valid_positions = position_counts[position_counts >= 550].index.tolist() # 200\n",
    "\n",
    "        df_filtered = df_filtered[df_filtered['position'].isin(valid_positions)]\n",
    "\n",
    "        display(f\"После исключения позиций с < 200 строк осталось {df_filtered.shape[0]} строк и {len(valid_positions)} позиций\")\n",
    "\n",
    "        \n",
    "        \n",
    "        \n",
    "        # Обработка целевой переменной и признаков\n",
    "        df_temp = df_filtered.copy()\n",
    "        \n",
    "        \n",
    "        # Очистка целевой переменной от выбросов\n",
    "        positions_temp = df_temp['position'].dropna().unique()\n",
    "\n",
    "        for pos in positions_temp:\n",
    "            pos_mask = df_temp['position'] == pos\n",
    "            clean_series = process_series(df_temp.loc[pos_mask, 'salary from'], 'salary from', pos)\n",
    "            if clean_series is not None:\n",
    "                df_temp.loc[clean_series.index, 'salary from norm'] = clean_series\n",
    "\n",
    "        # Удалим строки с NaN после очистки\n",
    "        df_temp = df_temp.dropna(subset=['salary from norm'])\n",
    "        \n",
    "        \n",
    "        if df_temp.empty:\n",
    "            continue\n",
    "\n",
    "        # Целевая переменная после очистки\n",
    "        y = df_temp['salary from norm']\n",
    "        \n",
    "        \n",
    "        \n",
    "        if df_temp.empty:\n",
    "            continue\n",
    "\n",
    "        X = df_temp[['position', 'experience', 'schedule', 'employment', 'level', 'vacancy', 'skills', 'region']] # 'vacancy it',\n",
    "        #y = df_temp['log_salary']\n",
    "        #y = df_temp['salary from']\n",
    "\n",
    "        ohe = OneHotEncoder(handle_unknown='ignore', sparse_output=False)\n",
    "        mlb = MultiLabelBinarizer()\n",
    "\n",
    "        try:\n",
    "            X_ohe = ohe.fit_transform(X[['position', 'experience', 'schedule', 'employment' ,'vacancy', 'level', 'region']]) # , 'vacancy it',\n",
    "            X_mlb = mlb.fit_transform(X['skills'])\n",
    "        except Exception as e:\n",
    "            print(f\"Ошибка кодирования при skill_n={skill_n}, vac_n={vac_n}: {e}\")\n",
    "            continue\n",
    "\n",
    "        X_final = np.hstack([X_ohe, X_mlb])\n",
    "\n",
    "        try:\n",
    "            splitter = StratifiedShuffleSplit(n_splits=1, test_size=0.2, random_state=42)\n",
    "            for train_idx, test_idx in splitter.split(X_final, df_temp['position']):\n",
    "                X_train, X_test = X_final[train_idx], X_final[test_idx]\n",
    "                y_train, y_test = y.iloc[train_idx], y.iloc[test_idx]\n",
    "        except ValueError as e:\n",
    "            print(f\"Ошибка split при skill_n={skill_n}, vac_n={vac_n}: {e}\")\n",
    "            continue\n",
    "\n",
    "        rf_model = RandomForestRegressor(\n",
    "            n_estimators=500, max_depth=100, random_state=42, n_jobs=-1,\n",
    "            max_features='sqrt', min_samples_leaf=1, min_samples_split=2\n",
    "        )\n",
    "\n",
    "        rf_model.fit(X_train, y_train)\n",
    "        y_pred = rf_model.predict(X_test)\n",
    "        \n",
    "        \n",
    "        #y_pred = np.expm1(y_pred)\n",
    "        \n",
    "        #mae = mean_absolute_error(np.expm1(y_test), y_pred)\n",
    "        #r2 = r2_score(np.expm1(y_test),  y_pred)\n",
    "        \n",
    "        mae = mean_absolute_error(y_test, y_pred)\n",
    "        r2 = r2_score(y_test,  y_pred)\n",
    "\n",
    "        results.append({\n",
    "            'top_skills': skill_n,\n",
    "            'top_vacancies': vac_n,\n",
    "            'mae': mae,\n",
    "            'r2': r2,\n",
    "            'rows': len(df_temp)\n",
    "        })\n",
    "\n",
    "# Переводим результаты в DataFrame\n",
    "results_df = pd.DataFrame(results)\n",
    "\n",
    "# Визуализация результатов\n",
    "plt.figure(figsize=(14, 6))\n",
    "\n",
    "plt.subplot(1, 2, 1)\n",
    "pivot_mae = results_df.pivot(index='top_skills', columns='top_vacancies', values='mae')\n",
    "sns.heatmap(pivot_mae, annot=True, fmt=\".2f\", cmap=\"YlGnBu\")\n",
    "plt.title('MAE')\n",
    "plt.xlabel('Top-N вакансий')\n",
    "plt.ylabel('Top-N скиллов')\n",
    "\n",
    "plt.subplot(1, 2, 2)\n",
    "pivot_r2 = results_df.pivot(index='top_skills', columns='top_vacancies', values='r2')\n",
    "sns.heatmap(pivot_r2, annot=True, fmt=\".2f\", cmap=\"YlGnBu\")\n",
    "plt.title('R²')\n",
    "plt.xlabel('Top-N вакансий')\n",
    "plt.ylabel('Top-N скиллов')\n",
    "\n",
    "plt.tight_layout()\n",
    "plt.show()\n",
    "\n",
    "# Вывод лучшего сочетания\n",
    "best_row = results_df.sort_values(by='mae').iloc[0]\n",
    "print(f\"Лучшее сочетание по MAE:\\nTop Skills: {best_row['top_skills']}, \"\n",
    "      f\"Top Vacancies: {best_row['top_vacancies']}, \"\n",
    "      f\"MAE: {best_row['mae']:.2f}, R²: {best_row['r2']:.2f}\")\n"
   ]
  },
  {
   "cell_type": "markdown",
   "id": "b8dc3346",
   "metadata": {},
   "source": [
    "Лучшее сочетание по MAE:\n",
    "Top Skills: 70.0, Top Vacancies: 40.0, MAE: 21666.33, R²: 0.74"
   ]
  },
  {
   "cell_type": "markdown",
   "id": "4501eed1",
   "metadata": {},
   "source": [
    "Лучшее сочетание по MAE:\n",
    "Top Skills: 30.0, Top Vacancies: 40.0, MAE: 21694.42, R²: 0.75"
   ]
  },
  {
   "cell_type": "markdown",
   "id": "b64ef64a",
   "metadata": {},
   "source": [
    "200 позишн > 200 регионы \n",
    "Лучшее сочетание по MAE:\n",
    "Top Skills: 70.0, Top Vacancies: 30.0, MAE: 23850.22, R²: 0.67, Строк: 3055.0"
   ]
  },
  {
   "cell_type": "markdown",
   "id": "eadbef21",
   "metadata": {},
   "source": [
    "150 позишн > 200 регионы \n",
    "Лучшее сочетание по MAE:\n",
    "Top Skills: 30.0, Top Vacancies: 30.0, MAE: 24002.10, R²: 0.66, Строк: 3803.0"
   ]
  },
  {
   "cell_type": "markdown",
   "id": "3efbf4b5",
   "metadata": {},
   "source": [
    "150 позишн > 100 регионы  Лучшее сочетание по MAE:\n",
    "Top Skills: 100.0, Top Vacancies: 30.0, MAE: 25421.98, R²: 0.71, Строк: 6906.0"
   ]
  },
  {
   "cell_type": "markdown",
   "id": "e33259b2",
   "metadata": {},
   "source": [
    "60 в позишн Лучшее сочетание по MAE:\n",
    "Top Skills: 50.0, Top Vacancies: 30.0, MAE: 24866.70, R²: 0.67, Строк: 5213.0 (17 позиций)"
   ]
  },
  {
   "cell_type": "markdown",
   "id": "09f985fb",
   "metadata": {},
   "source": []
  },
  {
   "cell_type": "markdown",
   "id": "23ba31b5",
   "metadata": {},
   "source": [
    "> 150 в позишн , вакансия ит - Лучшее сочетание по MAE:\n",
    "Top Skills: 100.0, Top Vacancies: 40.0, MAE: 23944.37, R²: 0.70, Строк: 5245.0"
   ]
  },
  {
   "cell_type": "markdown",
   "id": "4c3d16c0",
   "metadata": {},
   "source": [
    "Лучшее сочетание по MAE:\n",
    "Top Skills: 50.0, Top Vacancies: 30.0, MAE: 26766.35, R²: 0.67, Строк: 5477."
   ]
  },
  {
   "cell_type": "markdown",
   "id": "5cab2f2e",
   "metadata": {},
   "source": [
    "скилы 2 .0  вакансии старые учшее сочетание по MAE:\n",
    "Top Skills: 20.0, Top Vacancies: 40.0, MAE: 26880.21, R²: 0.65, Строк: 7430.0"
   ]
  },
  {
   "cell_type": "markdown",
   "id": "cb701666",
   "metadata": {},
   "source": [
    "Лучшее сочетание по MAE:\n",
    "Top Skills: 30.0, Top Vacancies: 40.0, MAE: 30224.71, R²: 0.64, Строк: 5850.0"
   ]
  },
  {
   "cell_type": "markdown",
   "id": "4eb43443",
   "metadata": {},
   "source": [
    "скилы + регионы - лог\n",
    "Лучшее сочетание по MAE:\n",
    "Top Skills: 50.0, Top Vacancies: 30.0, MAE: 26860.78, R²: 0.67, Строк: 5206.0"
   ]
  },
  {
   "cell_type": "markdown",
   "id": "d35408df",
   "metadata": {},
   "source": [
    "со скилами из ллм + регионы + log\n",
    "Лучшее сочетание по MAE:\n",
    "Top Skills: 50.0, Top Vacancies: 30.0, MAE: 26297.87, R²: 0.66, Строк: 5206.0"
   ]
  },
  {
   "cell_type": "markdown",
   "id": "d1912b8f",
   "metadata": {},
   "source": [
    "со скилами из ллм + регионы\n",
    "Лучшее сочетание по MAE:\n",
    "Top Skills: 50.0, Top Vacancies: 30.0, MAE: 26786.37, R²: 0.67, Строк: 5206.0\n",
    "\n",
    "со склилами из хх + регионы\n",
    "Лучшее сочетание по MAE:\n",
    "Top Skills: 50.0, Top Vacancies: 70.0, MAE: 26924.01, R²: 0.67, Строк: 7291.0"
   ]
  },
  {
   "cell_type": "markdown",
   "id": "c0d77d06",
   "metadata": {},
   "source": [
    "#### Готовим на продакт "
   ]
  },
  {
   "cell_type": "code",
   "execution_count": 25,
   "id": "502893ce",
   "metadata": {},
   "outputs": [
    {
     "ename": "NameError",
     "evalue": "name 'stop' is not defined",
     "output_type": "error",
     "traceback": [
      "\u001b[1;31m---------------------------------------------------------------------------\u001b[0m",
      "\u001b[1;31mNameError\u001b[0m                                 Traceback (most recent call last)",
      "Cell \u001b[1;32mIn[25], line 1\u001b[0m\n\u001b[1;32m----> 1\u001b[0m \u001b[43mstop\u001b[49m\n",
      "\u001b[1;31mNameError\u001b[0m: name 'stop' is not defined"
     ]
    }
   ],
   "source": [
    "stop"
   ]
  },
  {
   "cell_type": "code",
   "execution_count": null,
   "id": "9d1e61de",
   "metadata": {},
   "outputs": [
    {
     "name": "stderr",
     "output_type": "stream",
     "text": [
      "C:\\Users\\Aero-PC\\AppData\\Local\\Temp\\ipykernel_5556\\1253728836.py:13: DeprecationWarning: DataFrameGroupBy.apply operated on the grouping columns. This behavior is deprecated, and in a future version of pandas the grouping columns will be excluded from the operation. Either pass `include_groups=False` to exclude the groupings or explicitly select the grouping columns after groupby to silence this warning.\n",
      "  df_filtered = df_skills_filtered.groupby('position', group_keys=False).apply(filter_top_vacancies).reset_index(drop=True)\n"
     ]
    },
    {
     "data": {
      "text/plain": [
       "'После исключения позиций с < 200 строк осталось 6446 строк и 9 позиций'"
      ]
     },
     "metadata": {},
     "output_type": "display_data"
    },
    {
     "name": "stdout",
     "output_type": "stream",
     "text": [
      "Random Forest — MAE: 28073.56, R²: 0.65\n"
     ]
    }
   ],
   "source": [
    "# забираем 30 скилов 50 вакансий\n",
    "df_skills_filtered = filtered_skills_top_n(df_train_result.copy(), 30)\n",
    " \n",
    "df_skills_filtered = df_skills_filtered[df_skills_filtered['skills'].apply(lambda x: len(x) > 0)]\n",
    "\n",
    "# Фильтрация вакансий по top-N внутри позиции\n",
    "def filter_top_vacancies(group, n=50):\n",
    "    vac_counts = group['vacancy'].value_counts()\n",
    "    \n",
    "    top_vacancies = vac_counts.head(n).index.tolist()\n",
    "    return group[group['vacancy'].isin(top_vacancies)]\n",
    " \n",
    "df_filtered = df_skills_filtered.groupby('position', group_keys=False).apply(filter_top_vacancies).reset_index(drop=True)\n",
    "\n",
    "\n",
    "# Удаляем позиции с количеством строк < 200\n",
    "position_counts = df_filtered['position'].value_counts()\n",
    "valid_positions = position_counts[position_counts >= 200].index.tolist()\n",
    "\n",
    "df_filtered = df_filtered[df_filtered['position'].isin(valid_positions)]\n",
    "\n",
    "display(f\"После исключения позиций с < 200 строк осталось {df_filtered.shape[0]} строк и {len(valid_positions)} позиций\")\n",
    "\n",
    "\n",
    "# Обработка целевой переменной и признаков\n",
    "df_temp = df_filtered.copy()\n",
    "\n",
    "# Очистка целевых переменных от выбросов\n",
    "positions_temp = df_temp['position'].dropna().unique()\n",
    "\n",
    "for pos in positions_temp:\n",
    "    pos_mask = df_temp['position'] == pos\n",
    "    \n",
    "    # Обработка salary from\n",
    "    clean_from = process_series(df_temp.loc[pos_mask, 'salary from'], 'salary from', pos)\n",
    "    if clean_from is not None:\n",
    "        df_temp.loc[clean_from.index, 'salary from norm'] = clean_from\n",
    "    \n",
    "    # Обработка salary to\n",
    "    clean_to = process_series(df_temp.loc[pos_mask, 'salary to'], 'salary to', pos)\n",
    "    if clean_to is not None:\n",
    "        df_temp.loc[clean_to.index, 'salary to norm'] = clean_to\n",
    "\n",
    "# Удалим строки с NaN после очистки (где хотя бы одна из целевых переменных имеет выброс)\n",
    "df_temp = df_temp.dropna(subset=['salary from norm', 'salary to norm'])\n",
    "\n",
    "\n",
    "df_temp.rename(columns={\n",
    "    'salary from norm': 'salary from',\n",
    "    'salary to norm': 'salary to'\n",
    "}, inplace=True)\n",
    "\n",
    "\n",
    "\n",
    "# Целевая переменная после очистки\n",
    "y = df_temp['salary from']\n",
    "        \n",
    "        \n",
    "\n",
    "\n",
    "X = df_temp[['position', 'experience', 'schedule', 'employment', 'level', 'vacancy', 'skills', 'region']] \n",
    "#y = df_temp['log_salary']\n",
    "#y = df_temp['salary from']\n",
    "\n",
    "ohe = OneHotEncoder(handle_unknown='ignore', sparse_output=False)\n",
    "mlb = MultiLabelBinarizer()\n",
    "\n",
    "try:\n",
    "    X_ohe = ohe.fit_transform(X[['position', 'experience', 'schedule', 'employment' ,'vacancy', 'level', 'region']]) # , 'vacancy it',\n",
    "    X_mlb = mlb.fit_transform(X['skills'])\n",
    "except Exception as e:\n",
    "    print(f\"Ошибка кодирования\")\n",
    "\n",
    "\n",
    "X_final = np.hstack([X_ohe, X_mlb])\n",
    "\n",
    "try:\n",
    "    splitter = StratifiedShuffleSplit(n_splits=1, test_size=0.2, random_state=42)\n",
    "    for train_idx, test_idx in splitter.split(X_final, df_temp['position']):\n",
    "        X_train, X_test = X_final[train_idx], X_final[test_idx]\n",
    "        y_train, y_test = y.iloc[train_idx], y.iloc[test_idx]\n",
    "except ValueError as e:\n",
    "    print(f\"Ошибка split\")\n",
    "\n",
    "\n",
    "rf_model_1 = RandomForestRegressor(\n",
    "    n_estimators=500, max_depth=100, random_state=42, n_jobs=-1,\n",
    "    max_features='sqrt', min_samples_leaf=1, min_samples_split=2\n",
    ")\n",
    "\n",
    "rf_model_1.fit(X_train, y_train)\n",
    "y_pred = rf_model_1.predict(X_test)\n",
    "\n",
    "mae = mean_absolute_error(y_test, y_pred)\n",
    "r2 = r2_score(y_test,  y_pred)\n",
    "\n",
    "print(f\"Random Forest — MAE: {mae:.2f}, R²: {r2:.2f}\")\n"
   ]
  },
  {
   "cell_type": "code",
   "execution_count": null,
   "id": "28af3795",
   "metadata": {},
   "outputs": [],
   "source": [
    "import json\n",
    "\n",
    "# Выбираем нужные столбцы\n",
    "columns_to_export = ['experience', 'schedule', 'employment', 'level', 'region']\n",
    "\n",
    "# Создаем словарь, где для каждого столбца будут его уникальные значения\n",
    "filter_lists = {}\n",
    "\n",
    "for column in columns_to_export:\n",
    "    # Берем уникальные значения, удаляем NaN, и преобразуем в список\n",
    "    filter_lists[column] = df_temp[column].dropna().unique().tolist()\n",
    "\n",
    "# Сохраняем в один JSON файл (рекомендуемый вариант)\n",
    "with open('stage_3/filter_options.json', 'w', encoding='utf-8') as f:\n",
    "    json.dump(filter_lists, f, ensure_ascii=False, indent=2)\n"
   ]
  },
  {
   "cell_type": "code",
   "execution_count": null,
   "id": "7d158521",
   "metadata": {},
   "outputs": [],
   "source": [
    "# Создаем словарь, где для каждой позиции будет список уникальных вакансий\n",
    "vacancy_by_position = {}\n",
    "\n",
    "# Получаем уникальные позиции (без NaN)\n",
    "positions = df_temp['position'].dropna().unique()\n",
    "\n",
    "for position in positions:\n",
    "    # Фильтруем вакансии для текущей позиции, удаляем NaN и дубликаты\n",
    "    vacancies = df_temp[df_temp['position'] == position]['vacancy'].dropna().unique().tolist()\n",
    "    \n",
    "    vacancy_by_position[position] = vacancies\n",
    "\n",
    "# Сохраняем в JSON файл\n",
    "with open('stage_3/vacancies_by_position.json', 'w', encoding='utf-8') as f:\n",
    "    json.dump(vacancy_by_position, f, ensure_ascii=False, indent=2, sort_keys=True)"
   ]
  },
  {
   "cell_type": "markdown",
   "id": "cb269899",
   "metadata": {},
   "source": [
    "#### 3.2. Modeling salary to"
   ]
  },
  {
   "cell_type": "code",
   "execution_count": null,
   "id": "9eac3f75",
   "metadata": {},
   "outputs": [
    {
     "name": "stdout",
     "output_type": "stream",
     "text": [
      "Random Forest — MAE: 31872.24, R²: 0.64\n"
     ]
    }
   ],
   "source": [
    "\n",
    "# Целевая переменная после очистки\n",
    "y = df_temp['salary to']\n",
    "        \n",
    "        \n",
    "X = df_temp[['position', 'experience', 'schedule', 'employment', 'level', 'vacancy', 'skills', 'region']] \n",
    "#y = df_temp['log_salary']\n",
    "#y = df_temp['salary from']\n",
    "\n",
    "ohe = OneHotEncoder(handle_unknown='ignore', sparse_output=False)\n",
    "mlb = MultiLabelBinarizer()\n",
    "\n",
    "try:\n",
    "    X_ohe = ohe.fit_transform(X[['position', 'experience', 'schedule', 'employment' , 'level', 'vacancy' ,'region']]) \n",
    "    X_mlb = mlb.fit_transform(X['skills'])\n",
    "except Exception as e:\n",
    "    print(f\"Ошибка кодирования\")\n",
    "\n",
    "\n",
    "X_final = np.hstack([X_ohe, X_mlb])\n",
    "\n",
    "# Отдельно зафиксировать стратифицированные индексы по position\n",
    "\n",
    "try:\n",
    "    splitter = StratifiedShuffleSplit(n_splits=1, test_size=0.2, random_state=42)\n",
    "    for train_idx, test_idx in splitter.split(X_final, df_temp['position']):\n",
    "        X_train, X_test = X_final[train_idx], X_final[test_idx]\n",
    "        y_train, y_test = y.iloc[train_idx], y.iloc[test_idx]\n",
    "except ValueError as e:\n",
    "    print(f\"Ошибка split\")\n",
    "    \n",
    "    \n",
    "\n",
    "rf_model_2 = RandomForestRegressor(n_estimators=500, max_depth=100, random_state=42, n_jobs=-1, max_features = 'sqrt', min_samples_leaf = 1, min_samples_split = 2)\n",
    "rf_model_2.fit(X_train, y_train)\n",
    "y_pred_rf = rf_model_2.predict(X_test)\n",
    "\n",
    "mae_rf = mean_absolute_error(y_test, y_pred_rf)\n",
    "r2_rf = r2_score(y_test, y_pred_rf)\n",
    "\n",
    "print(f\"Random Forest — MAE: {mae_rf:.2f}, R²: {r2_rf:.2f}\")\n",
    "\n"
   ]
  },
  {
   "cell_type": "code",
   "execution_count": null,
   "id": "bab65ad4",
   "metadata": {},
   "outputs": [
    {
     "data": {
      "text/plain": [
       "['stage_3/joblib/mlb_encoder.joblib']"
      ]
     },
     "execution_count": 30,
     "metadata": {},
     "output_type": "execute_result"
    }
   ],
   "source": [
    "import joblib\n",
    "\n",
    "# Сохраняем обученные модели\n",
    "joblib.dump(rf_model_1, 'stage_3/joblib/rf_model_from.joblib')\n",
    "joblib.dump(rf_model_2, 'stage_3/joblib/rf_model_to.joblib')\n",
    "\n",
    "# Сохраняем энкодеры\n",
    "joblib.dump(ohe, 'stage_3/joblib/ohe_encoder.joblib')\n",
    "joblib.dump(mlb, 'stage_3/joblib/mlb_encoder.joblib')"
   ]
  },
  {
   "cell_type": "markdown",
   "id": "88c564d8",
   "metadata": {},
   "source": [
    "\n",
    "#### 4. Model adaptation"
   ]
  },
  {
   "cell_type": "code",
   "execution_count": null,
   "id": "7d09aa21",
   "metadata": {},
   "outputs": [
    {
     "name": "stdout",
     "output_type": "stream",
     "text": [
      "\n",
      "📌 Position: Аналитик\n",
      "['1С:ERP', 'MS EXCEL', 'Анализ данных', 'Моделирование бизнес-процессов', 'Коммуникативные навыки', 'Excel Power Query', '1с', 'Python', 'SQL', 'POWER BI', 'Разработка технических заданий', 'Обучение пользователей', '1С:Документооборот', 'MS POWER POINT', '1С:УТ', 'Аналитический склад ума', 'Анализ бизнес-процессов', '1С:КА', 'Бухгалтерский учет', 'POWER POINT', '1С:ЗУП', 'Аналитические навыки', 'Тестирование', 'MS WORD', 'BPMN', 'MS OFFICE', 'Управленческий учет', 'ERP', 'Бюджетирование', 'Налоговый учет']\n",
      "\n",
      "📌 Position: Бизнес-аналитик\n",
      "['Битрикс24', 'MS OFFICE', 'POWER BI', 'SQL', '1с', 'Анализ бизнес-процессов', 'Аналитический склад ума', 'Анализ данных', 'Английский язык', 'EPC', 'Системное мышление', '1С:ERP', 'Miro', 'Confluence', 'BPMN', 'Обучение пользователей', 'JIRA', 'FIGMA', 'MS EXCEL', 'Business Studio', 'UML', 'IDEF0', 'MS Visio', 'Коммуникативные навыки', 'Моделирование бизнес-процессов', 'AGILE', 'Python', 'SCRUM', 'MS POWER POINT', 'MS WORD']\n",
      "\n",
      "📌 Position: Дизайнер, художник\n",
      "['Adobe PhotoShop', 'AUTOCAD', 'ArchiCAD', 'COREL DRAW', 'FIGMA', 'Adobe Illustrator', 'Adobe InDesign', 'Adobe After Effects', 'MS OFFICE', 'MS POWER POINT', '3DS MAX', 'Tilda', 'Анимация', 'Adobe', 'Типографика', 'Нейросети', 'Blender', 'Графический дизайн', 'Adobe Acrobat', 'Инфографика', 'Ретушь', 'MidJourney', 'Цветокоррекция', 'SKETCHUP', '3D MAX', 'Верстка', 'HTML', 'Композиция', 'CSS', 'MS EXCEL']\n",
      "\n",
      "📌 Position: Менеджер продукта\n",
      "['MS EXCEL', 'Проактивность', 'Аналитический склад ума', 'Высшее техническое образование', 'Анализ рынка', '1с', 'SQL', 'Системное мышление', 'Ведение переговоров', 'Английский язык', 'Аналитика', 'Управление продуктами', 'Управление проектами', 'MS OFFICE', 'SEO', 'Коммуникабельность', 'SCRUM', 'Работа в команде', 'Ответственность', 'Коммуникативные навыки', 'MS WORD', 'Анализ данных', 'CRM', 'Аналитические способности', 'Инициативность', 'JIRA', 'POWER POINT', 'Ценообразование', 'MS POWER POINT', 'Грамотная устная и письменная речь']\n",
      "\n",
      "📌 Position: Программист, разработчик\n",
      "['СКД', '1с 8.3', 'GIT', 'SQL', 'PHP', 'Python', 'Управляемые формы', 'C/C++', 'PostgreSQL', 'LINUX', 'JAVASCRIPT', 'CSS', 'React', 'JSON', 'MySQL', 'DOCKER', '1с', 'JAVA', 'KAFKA', 'ООП', 'API', 'HTML', 'REST API', 'CI/CD', 'Redis', 'C#', 'TypeScript', 'RabbitMQ', 'Laravel', 'SOLID']\n",
      "\n",
      "📌 Position: Руководитель проектов\n",
      "['MS OFFICE', 'AUTOCAD', 'MS Project', 'MS EXCEL', 'Битрикс24', 'Коммуникативные навыки', 'EXCEL', '1С:ERP', 'MS WORD', 'Управление командой', 'Ведение переговоров', 'Грамотная устная и письменная речь', 'Презентации', '1с', 'MS POWER POINT', 'SCRUM', 'Коммуникабельность', 'Confluence', 'Стрессоустойчивость', 'Ответственность', 'Аналитический склад ума', 'JIRA', 'AGILE', 'Английский язык', 'Управление IT-проектами', 'Деловая переписка', 'Планирование', 'FIGMA', 'Многозадачность', 'Google Docs']\n",
      "\n",
      "📌 Position: Системный администратор\n",
      "['DOCKER', 'PowerShell', 'CISCO', 'ZABBIX', 'MS SQL', 'LINUX', 'MIKROTIK', 'Active Directory', 'Сетевые технологии', 'Python', 'BASH', 'MS OFFICE', '1с', 'Windows Server', 'DHCP', 'DNS', 'Информационная Безопасность', 'WINDOWS', 'AD', 'Сетевое оборудование', 'ProxMox', 'Техническая поддержка пользователей', 'TCP/IP', 'PostgreSQL', 'VPN', 'HYPER-V', 'IP-телефония', 'GPO', 'VLAN', 'VMWare']\n",
      "\n",
      "📌 Position: Специалист технической поддержки\n",
      "['1с', 'Техническая поддержка', 'MS EXCEL', 'LINUX', 'Английский язык', 'SQL', 'Active Directory', 'MS OFFICE', 'DNS', 'Грамотная устная и письменная речь', 'Внимательность', 'Коммуникабельность', 'Ответственность', 'AD', 'DHCP', 'Стрессоустойчивость', 'Сетевое оборудование', 'Уверенный пользователь ПК', 'Сетевые технологии', 'Грамотная речь', 'WINDOWS', 'Клиентоориентированность', 'Грамотная письменная и устная речь', 'Доброжелательность', 'ПК', 'Коммуникативные навыки', 'Консультирование клиентов', 'TCP/IP', 'Аналитический склад ума', 'Работа с клиентами']\n",
      "\n",
      "📌 Position: Тестировщик\n",
      "['JAVA', 'Python', 'Тестирование ПО', 'KAFKA', 'SQL', 'Ручное тестирование', 'Нагрузочное тестирование', 'LINUX', 'JAVASCRIPT', 'DevTools', 'Теория тестирования', 'POSTMAN', 'Selenium', 'DOCKER', 'GIT', 'JIRA', 'Confluence', 'Регрессионное тестирование', 'REST API', 'Техники тест-дизайна', 'Grafana', 'PyTest', 'JSON', 'Jenkins', 'Функциональное тестирование', 'Интеграционное тестирование', 'GitLab', 'PostgreSQL', 'CI/CD', 'SWAGGER']\n"
     ]
    },
    {
     "data": {
      "text/plain": [
       "['stage_3/joblib/mlb_encoder.joblib']"
      ]
     },
     "execution_count": 992,
     "metadata": {},
     "output_type": "execute_result"
    }
   ],
   "source": [
    "from sklearn.model_selection import train_test_split\n",
    "\n",
    "\n",
    "# Основные признаки\n",
    "cat_features = ['position', 'experience', 'schedule', 'employment', 'level', 'vacancy', 'region']\n",
    "skill_feature = 'skills'\n",
    "\n",
    "# Словарь для хранения топ-скиллов\n",
    "top_skills_per_position = defaultdict(list)\n",
    "\n",
    "for pos in df_temp['position'].unique():\n",
    "    df_pos = df_temp[df_temp['position'] == pos].copy()\n",
    "\n",
    "    # Признаки и цель\n",
    "    X = df_pos[cat_features + [skill_feature]]\n",
    "    y = df_pos['salary from']\n",
    "\n",
    "    # Кодирование\n",
    "    ohe_2 = OneHotEncoder(handle_unknown='ignore', sparse_output=False)\n",
    "    mlb_2 = MultiLabelBinarizer()\n",
    "\n",
    "    X_cat = ohe.fit_transform(X[cat_features])\n",
    "    X_skills = mlb.fit_transform(X[skill_feature])\n",
    "\n",
    "    X_final = np.hstack([X_cat, X_skills])\n",
    "\n",
    "    # Разделение\n",
    "    X_train, _, y_train, _ = train_test_split(X_final, y, test_size=0.2, random_state=42)\n",
    "\n",
    "    # Обучение\n",
    "    rf = RandomForestRegressor(n_estimators=500, max_depth=100, random_state=42)\n",
    "    rf.fit(X_train, y_train)\n",
    "\n",
    "    # Список всех признаков\n",
    "    ohe_features = ohe_2.get_feature_names_out(cat_features)\n",
    "    skill_features = mlb_2.classes_\n",
    "    feature_names = list(ohe_features) + list(skill_features)\n",
    "\n",
    "    # Важности\n",
    "    importances = rf.feature_importances_\n",
    "    feat_df = pd.DataFrame({\n",
    "        'feature': feature_names,\n",
    "        'importance': importances\n",
    "    })\n",
    "\n",
    "    # Отбор скиллов\n",
    "    skill_df = feat_df[feat_df['feature'].isin(skill_features)]\n",
    "    top_skills = skill_df.sort_values(by='importance', ascending=False)\n",
    "\n",
    "    # Сохраняем топ-скиллы\n",
    "    top_skills_per_position[pos] = top_skills['feature'].tolist()\n",
    "\n",
    "# Печать\n",
    "for pos, skills in top_skills_per_position.items():\n",
    "    print(f\"\\n📌 Position: {pos}\")\n",
    "    print(skills[:30])  # выводим только топ-30\n",
    "\n",
    "# Сохраняем JSON\n",
    "with open('stage_3/top_skills_by_position.json', 'w', encoding='utf-8') as f:\n",
    "    json.dump(top_skills_per_position, f, ensure_ascii=False, indent=2)\n",
    "\n"
   ]
  }
 ],
 "metadata": {
  "kernelspec": {
   "display_name": "Python 3",
   "language": "python",
   "name": "python3"
  },
  "language_info": {
   "codemirror_mode": {
    "name": "ipython",
    "version": 3
   },
   "file_extension": ".py",
   "mimetype": "text/x-python",
   "name": "python",
   "nbconvert_exporter": "python",
   "pygments_lexer": "ipython3",
   "version": "3.9.10"
  }
 },
 "nbformat": 4,
 "nbformat_minor": 5
}
