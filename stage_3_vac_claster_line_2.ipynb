{
 "cells": [
  {
   "cell_type": "code",
   "execution_count": 1,
   "id": "cc485cc5",
   "metadata": {},
   "outputs": [
    {
     "name": "stderr",
     "output_type": "stream",
     "text": [
      "c:\\Users\\Aero-PC\\AppData\\Local\\Programs\\Python\\Python39\\lib\\site-packages\\tqdm\\auto.py:21: TqdmWarning: IProgress not found. Please update jupyter and ipywidgets. See https://ipywidgets.readthedocs.io/en/stable/user_install.html\n",
      "  from .autonotebook import tqdm as notebook_tqdm\n",
      "HDBSCAN кластеризация: 100%|██████████| 24/24 [00:20<00:00,  1.16it/s]\n"
     ]
    },
    {
     "name": "stdout",
     "output_type": "stream",
     "text": [
      "🔍 Проверка позиции: BI-аналитик, аналитик данных\n"
     ]
    },
    {
     "name": "stderr",
     "output_type": "stream",
     "text": [
      "Mistral проверка: 100%|██████████| 9/9 [01:55<00:00, 12.86s/it]\n"
     ]
    },
    {
     "name": "stdout",
     "output_type": "stream",
     "text": [
      "🔍 Проверка позиции: DevOps-инженер\n"
     ]
    },
    {
     "name": "stderr",
     "output_type": "stream",
     "text": [
      "Mistral проверка: 100%|██████████| 5/5 [01:36<00:00, 19.38s/it]\n"
     ]
    },
    {
     "name": "stdout",
     "output_type": "stream",
     "text": [
      "🔍 Проверка позиции: Аналитик\n"
     ]
    },
    {
     "name": "stderr",
     "output_type": "stream",
     "text": [
      "Mistral проверка: 100%|██████████| 40/40 [08:45<00:00, 13.13s/it]\n"
     ]
    },
    {
     "name": "stdout",
     "output_type": "stream",
     "text": [
      "🔍 Проверка позиции: Арт-директор, креативный директор\n"
     ]
    },
    {
     "name": "stderr",
     "output_type": "stream",
     "text": [
      "Mistral проверка: 100%|██████████| 3/3 [00:34<00:00, 11.61s/it]\n"
     ]
    },
    {
     "name": "stdout",
     "output_type": "stream",
     "text": [
      "🔍 Проверка позиции: Бизнес-аналитик\n"
     ]
    },
    {
     "name": "stderr",
     "output_type": "stream",
     "text": [
      "Mistral проверка: 100%|██████████| 11/11 [02:31<00:00, 13.80s/it]\n"
     ]
    },
    {
     "name": "stdout",
     "output_type": "stream",
     "text": [
      "🔍 Проверка позиции: Дата-сайентист\n"
     ]
    },
    {
     "name": "stderr",
     "output_type": "stream",
     "text": [
      "Mistral проверка: 100%|██████████| 3/3 [00:36<00:00, 12.25s/it]\n"
     ]
    },
    {
     "name": "stdout",
     "output_type": "stream",
     "text": [
      "🔍 Проверка позиции: Дизайнер, художник\n"
     ]
    },
    {
     "name": "stderr",
     "output_type": "stream",
     "text": [
      "Mistral проверка: 100%|██████████| 47/47 [10:16<00:00, 13.11s/it]\n"
     ]
    },
    {
     "name": "stdout",
     "output_type": "stream",
     "text": [
      "🔍 Проверка позиции: Директор по информационным технологиям (CIO)\n"
     ]
    },
    {
     "name": "stderr",
     "output_type": "stream",
     "text": [
      "Mistral проверка: 100%|██████████| 1/1 [00:11<00:00, 11.74s/it]\n"
     ]
    },
    {
     "name": "stdout",
     "output_type": "stream",
     "text": [
      "🔍 Проверка позиции: Менеджер продукта\n"
     ]
    },
    {
     "name": "stderr",
     "output_type": "stream",
     "text": [
      "Mistral проверка: 100%|██████████| 19/19 [04:05<00:00, 12.95s/it]\n"
     ]
    },
    {
     "name": "stdout",
     "output_type": "stream",
     "text": [
      "🔍 Проверка позиции: Методолог\n"
     ]
    },
    {
     "name": "stderr",
     "output_type": "stream",
     "text": [
      "Mistral проверка: 100%|██████████| 11/11 [02:34<00:00, 14.02s/it]\n"
     ]
    },
    {
     "name": "stdout",
     "output_type": "stream",
     "text": [
      "🔍 Проверка позиции: Программист, разработчик\n"
     ]
    },
    {
     "name": "stderr",
     "output_type": "stream",
     "text": [
      "Mistral проверка: 100%|██████████| 97/97 [22:07<00:00, 13.69s/it]\n"
     ]
    },
    {
     "name": "stdout",
     "output_type": "stream",
     "text": [
      "🔍 Проверка позиции: Продуктовый аналитик\n"
     ]
    },
    {
     "name": "stderr",
     "output_type": "stream",
     "text": [
      "Mistral проверка: 100%|██████████| 4/4 [01:16<00:00, 19.07s/it]\n"
     ]
    },
    {
     "name": "stdout",
     "output_type": "stream",
     "text": [
      "🔍 Проверка позиции: Руководитель группы разработки\n"
     ]
    },
    {
     "name": "stderr",
     "output_type": "stream",
     "text": [
      "Mistral проверка: 100%|██████████| 7/7 [01:34<00:00, 13.56s/it]\n"
     ]
    },
    {
     "name": "stdout",
     "output_type": "stream",
     "text": [
      "🔍 Проверка позиции: Руководитель отдела аналитики\n"
     ]
    },
    {
     "name": "stderr",
     "output_type": "stream",
     "text": [
      "Mistral проверка: 100%|██████████| 2/2 [00:24<00:00, 12.07s/it]\n"
     ]
    },
    {
     "name": "stdout",
     "output_type": "stream",
     "text": [
      "🔍 Проверка позиции: Руководитель проектов\n"
     ]
    },
    {
     "name": "stderr",
     "output_type": "stream",
     "text": [
      "Mistral проверка: 100%|██████████| 34/34 [07:57<00:00, 14.04s/it]\n"
     ]
    },
    {
     "name": "stdout",
     "output_type": "stream",
     "text": [
      "🔍 Проверка позиции: Сетевой инженер\n"
     ]
    },
    {
     "name": "stderr",
     "output_type": "stream",
     "text": [
      "Mistral проверка: 100%|██████████| 10/10 [02:30<00:00, 15.05s/it]\n"
     ]
    },
    {
     "name": "stdout",
     "output_type": "stream",
     "text": [
      "🔍 Проверка позиции: Системный администратор\n"
     ]
    },
    {
     "name": "stderr",
     "output_type": "stream",
     "text": [
      "Mistral проверка: 100%|██████████| 32/32 [06:31<00:00, 12.24s/it]\n"
     ]
    },
    {
     "name": "stdout",
     "output_type": "stream",
     "text": [
      "🔍 Проверка позиции: Системный аналитик\n"
     ]
    },
    {
     "name": "stderr",
     "output_type": "stream",
     "text": [
      "Mistral проверка: 100%|██████████| 8/8 [01:33<00:00, 11.67s/it]\n"
     ]
    },
    {
     "name": "stdout",
     "output_type": "stream",
     "text": [
      "🔍 Проверка позиции: Системный инженер\n"
     ]
    },
    {
     "name": "stderr",
     "output_type": "stream",
     "text": [
      "Mistral проверка: 100%|██████████| 13/13 [02:42<00:00, 12.51s/it]\n"
     ]
    },
    {
     "name": "stdout",
     "output_type": "stream",
     "text": [
      "🔍 Проверка позиции: Специалист по информационной безопасности\n"
     ]
    },
    {
     "name": "stderr",
     "output_type": "stream",
     "text": [
      "Mistral проверка: 100%|██████████| 25/25 [05:29<00:00, 13.18s/it]\n"
     ]
    },
    {
     "name": "stdout",
     "output_type": "stream",
     "text": [
      "🔍 Проверка позиции: Специалист технической поддержки\n"
     ]
    },
    {
     "name": "stderr",
     "output_type": "stream",
     "text": [
      "Mistral проверка: 100%|██████████| 71/71 [14:33<00:00, 12.30s/it]\n"
     ]
    },
    {
     "name": "stdout",
     "output_type": "stream",
     "text": [
      "🔍 Проверка позиции: Тестировщик\n"
     ]
    },
    {
     "name": "stderr",
     "output_type": "stream",
     "text": [
      "Mistral проверка: 100%|██████████| 13/13 [02:41<00:00, 12.39s/it]\n"
     ]
    },
    {
     "name": "stdout",
     "output_type": "stream",
     "text": [
      "🔍 Проверка позиции: Технический директор (CTO)\n"
     ]
    },
    {
     "name": "stderr",
     "output_type": "stream",
     "text": [
      "Mistral проверка: 100%|██████████| 4/4 [00:49<00:00, 12.27s/it]\n"
     ]
    },
    {
     "name": "stdout",
     "output_type": "stream",
     "text": [
      "🔍 Проверка позиции: Технический писатель\n"
     ]
    },
    {
     "name": "stderr",
     "output_type": "stream",
     "text": [
      "Mistral проверка: 100%|██████████| 4/4 [00:46<00:00, 11.60s/it]\n"
     ]
    },
    {
     "name": "stdout",
     "output_type": "stream",
     "text": [
      "✅ Готово! Данные сохранены в vacancy_clusters.xlsx и df_vac_checked_stage_3.csv\n"
     ]
    }
   ],
   "source": [
    "# --- Импорты ---\n",
    "import pandas as pd\n",
    "import numpy as np\n",
    "import re\n",
    "import time\n",
    "import random\n",
    "import json\n",
    "import requests\n",
    "from tqdm import tqdm\n",
    "from typing import List, Dict\n",
    "from sklearn.neighbors import NearestNeighbors\n",
    "from sentence_transformers import SentenceTransformer\n",
    "import hdbscan\n",
    "\n",
    "# --- Параметры ---\n",
    "CSV_PATH = 'data/stage_3_df_ru_region_skills_new_to_model_2.csv'\n",
    "MODEL_NAME = 'sentence-transformers/paraphrase-multilingual-MiniLM-L12-v2'\n",
    "EXCEL_OUT = 'vacancy_clusters.xlsx'\n",
    "CHECKED_CSV_OUT = 'df_vac_checked_stage_3.csv'\n",
    "MIN_POS_SIZE = 10\n",
    "MAX_DISTANCE = 0.4\n",
    "BATCH_SIZE = 15\n",
    "REQUEST_DELAY = 10\n",
    "\n",
    "API_URL = \"https://api.mistral.ai/v1/chat/completions\"\n",
    "API_KEY = \"1FyhNdyIvR4hR29waKXtRf4NaGAwl5Ru\"\n",
    "HEADERS = {\n",
    "    \"Authorization\": f\"Bearer {API_KEY}\",\n",
    "    \"Content-Type\": \"application/json\"\n",
    "}\n",
    "\n",
    "# --- 1. Препроцессинг вакансий ---\n",
    "def normalize_title(title: str) -> str:\n",
    "    if not isinstance(title, str) or not title.strip():\n",
    "        return title\n",
    "\n",
    "    level_pattern = r\"(?i)\\b(head of|middle|junior|стажер|intern|senior|lead|principal)\\b\"\n",
    "    cleaned = re.sub(level_pattern, \"\", title)\n",
    "\n",
    "    special_cases = {\n",
    "        r'ux/ui': 'UX/UI', r'ui/ux': 'UI/UX',\n",
    "        r'back[\\-\\u2013\\u2014]?end': 'Backend', r'front[\\-\\u2013\\u2014]?end': 'Frontend',\n",
    "        r'full[\\-\\u2013\\u2014]?stack': 'Fullstack'\n",
    "    }\n",
    "\n",
    "    for pattern, replacement in special_cases.items():\n",
    "        cleaned = re.sub(pattern, replacement, cleaned, flags=re.IGNORECASE)\n",
    "\n",
    "    cleaned = re.sub(r\"(?<!\\/)\\/(?!\\/)\", \" \", cleaned)\n",
    "    cleaned = re.sub(r\"[\\-\\u2013\\u2014]\", \" \", cleaned)\n",
    "    cleaned = \" \".join(cleaned.split()).strip()\n",
    "\n",
    "    return cleaned or title\n",
    "\n",
    "# --- 2. Эмбеддинги ---\n",
    "model = SentenceTransformer(MODEL_NAME)\n",
    "\n",
    "def embed_texts(texts: List[str]) -> np.ndarray:\n",
    "    return model.encode(texts, normalize_embeddings=True, show_progress_bar=False)\n",
    "\n",
    "# --- 3. Кластеризация по position через HDBSCAN ---\n",
    "def cluster_vacancies_by_position(df: pd.DataFrame, feature: str) -> Dict[str, pd.DataFrame]:\n",
    "    result = {}\n",
    "\n",
    "    for pos, group in tqdm(df.groupby('position'), desc=\"HDBSCAN кластеризация\"):\n",
    "        if len(group) < MIN_POS_SIZE:\n",
    "            continue\n",
    "\n",
    "        vacancies = group[feature].unique()\n",
    "        embs = embed_texts(vacancies)\n",
    "\n",
    "        clusterer = hdbscan.HDBSCAN(min_cluster_size=2, metric='euclidean')\n",
    "        labels = clusterer.fit_predict(embs)\n",
    "\n",
    "        canon_dict = {}\n",
    "        for label in set(labels):\n",
    "            if label == -1:\n",
    "                continue\n",
    "            cluster_vals = np.array(vacancies)[labels == label]\n",
    "            canon = pd.Series(cluster_vals).value_counts().idxmax()\n",
    "            for val in cluster_vals:\n",
    "                canon_dict[val] = canon\n",
    "\n",
    "        mapping = [{'canon': canon_dict.get(v, 'trash'), 'synonym': v} for v in vacancies]\n",
    "        result[pos] = pd.DataFrame(mapping).drop_duplicates()\n",
    "\n",
    "    return result\n",
    "\n",
    "# --- 4. Проверка кластеров через Mistral ---\n",
    "INSTRUCTION = \"\"\"\n",
    "Ты эксперт по IT-вакансиям. Проверь: является ли synonym_original синонимом canon_original.\n",
    "\n",
    "Формат:\n",
    "{\n",
    "  \"results\": [\n",
    "    {\"correct_cluster\": true/false},\n",
    "    ...\n",
    "  ]\n",
    "}\n",
    "\"\"\"\n",
    "\n",
    "def prepare_prompt(batch: List[Dict]) -> List[Dict]:\n",
    "    pairs = \"\\n\".join([f\"{i+1}. Канон: {row['canon']} | Синоним: {row['synonym']}\" for i, row in enumerate(batch)])\n",
    "    return [{\"role\": \"system\", \"content\": INSTRUCTION},\n",
    "            {\"role\": \"user\", \"content\": f\"Проверь пары:\\n{pairs}\\n\\nФормат ответа: JSON\"}]\n",
    "\n",
    "def query_mistral(prompt: List[Dict]) -> dict:\n",
    "    for attempt in range(3):\n",
    "        try:\n",
    "            res = requests.post(API_URL, headers=HEADERS, json={\n",
    "                \"model\": \"mistral-small-latest\",\n",
    "                \"messages\": prompt,\n",
    "                \"temperature\": 0.1,\n",
    "                \"max_tokens\": 900,\n",
    "                \"response_format\": {\"type\": \"json_object\"}\n",
    "            }, timeout=120)\n",
    "            res.raise_for_status()\n",
    "            content = res.json()['choices'][0]['message']['content'].strip()\n",
    "            if content.startswith(\"```json\"): content = content[7:-3].strip()\n",
    "            content = content.replace(\",}\", \"}\").replace(\",]\", \"]\")\n",
    "            return json.loads(content)\n",
    "        except Exception as e:\n",
    "            print(f\"⚠️ Ошибка запроса Mistral (попытка {attempt+1}): {e}\")\n",
    "            time.sleep(3)\n",
    "    return {}\n",
    "\n",
    "def mistral_check(df_map: pd.DataFrame) -> pd.DataFrame:\n",
    "    df_map = df_map.copy()\n",
    "    df_map['mistral_check'] = False\n",
    "\n",
    "    for i in tqdm(range(0, len(df_map), BATCH_SIZE), desc=\"Mistral проверка\"):\n",
    "        batch = df_map.iloc[i:i+BATCH_SIZE].to_dict('records')\n",
    "        response = query_mistral(prepare_prompt(batch))\n",
    "\n",
    "        if 'results' in response:\n",
    "            for j, res in enumerate(response['results'][:len(batch)]):\n",
    "                df_map.at[df_map.index[i + j], 'mistral_check'] = res.get('correct_cluster', False)\n",
    "        else:\n",
    "            print(f\"⚠️ Пропущен батч: {i}-{i + BATCH_SIZE}\")\n",
    "\n",
    "        time.sleep(REQUEST_DELAY + random.random())\n",
    "\n",
    "    return df_map\n",
    "\n",
    "# --- 5. Главный пайплайн ---\n",
    "def run_pipeline():\n",
    "    df = pd.read_csv(CSV_PATH)\n",
    "    df['vacancy_norm_1'] = df['vacancy it'].apply(normalize_title)\n",
    "\n",
    "    pos_clusters = cluster_vacancies_by_position(df, feature='vacancy_norm_1')\n",
    "\n",
    "    with pd.ExcelWriter(EXCEL_OUT) as writer:\n",
    "        for pos, df_map in pos_clusters.items():\n",
    "            df_map.to_excel(writer, sheet_name=pos[:30], index=False)\n",
    "\n",
    "    checked_frames = []\n",
    "    for pos, df_map in pos_clusters.items():\n",
    "        print(f\"🔍 Проверка позиции: {pos}\")\n",
    "        checked = mistral_check(df_map)\n",
    "        checked_frames.append(checked)\n",
    "\n",
    "    df_all_checked = pd.concat(checked_frames, ignore_index=True)\n",
    "    valid_map = df_all_checked[df_all_checked['mistral_check']]\n",
    "    replace_dict = dict(zip(valid_map['synonym'], valid_map['canon']))\n",
    "\n",
    "    df['vacancy_norm_llm_check_1'] = df['vacancy_norm_1'].map(replace_dict).fillna(df['vacancy_norm_1'])\n",
    "\n",
    "    with pd.ExcelWriter(EXCEL_OUT, mode=\"w\") as writer:\n",
    "        for pos, df_checked in zip(pos_clusters.keys(), checked_frames):\n",
    "            df_checked.to_excel(writer, sheet_name=pos[:30], index=False)\n",
    "\n",
    "    df.to_csv(CHECKED_CSV_OUT, index=False)\n",
    "    print(f\"✅ Готово! Данные сохранены в {EXCEL_OUT} и {CHECKED_CSV_OUT}\")\n",
    "\n",
    "# --- Запуск ---\n",
    "if __name__ == \"__main__\":\n",
    "    run_pipeline()\n"
   ]
  }
 ],
 "metadata": {
  "kernelspec": {
   "display_name": "Python 3",
   "language": "python",
   "name": "python3"
  },
  "language_info": {
   "codemirror_mode": {
    "name": "ipython",
    "version": 3
   },
   "file_extension": ".py",
   "mimetype": "text/x-python",
   "name": "python",
   "nbconvert_exporter": "python",
   "pygments_lexer": "ipython3",
   "version": "3.9.10"
  }
 },
 "nbformat": 4,
 "nbformat_minor": 5
}
