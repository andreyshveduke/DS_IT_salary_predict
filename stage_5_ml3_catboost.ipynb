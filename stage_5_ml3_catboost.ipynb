{
 "cells": [
  {
   "cell_type": "code",
   "execution_count": 14,
   "id": "8569eb25",
   "metadata": {},
   "outputs": [],
   "source": [
    "import pandas as pd\n",
    "import numpy as np\n",
    "from sklearn.preprocessing import OneHotEncoder, MultiLabelBinarizer\n",
    "from sklearn.model_selection import StratifiedShuffleSplit\n",
    "from sklearn.ensemble import RandomForestRegressor\n",
    "from sklearn.metrics import mean_absolute_error, r2_score\n",
    "from sklearn.model_selection import train_test_split\n",
    "import matplotlib.pyplot as plt\n",
    "import seaborn as sns\n",
    "from ast import literal_eval\n",
    "from tqdm import tqdm\n",
    "import re\n",
    "\n",
    "from collections import Counter\n",
    "from collections import defaultdict\n",
    "\n",
    "from catboost import CatBoostRegressor, Pool\n",
    "from scipy.stats import normaltest\n",
    "\n",
    "import optuna\n",
    "from optuna.samplers import TPESampler\n",
    "\n",
    "\n",
    "from tqdm import tqdm\n",
    "import warnings\n",
    "warnings.filterwarnings('ignore')"
   ]
  },
  {
   "cell_type": "code",
   "execution_count": 2,
   "id": "b7c9b3cb",
   "metadata": {},
   "outputs": [],
   "source": [
    "df_train_result = pd.read_csv('data/df_train_result_from_eda_2.csv')"
   ]
  },
  {
   "cell_type": "code",
   "execution_count": 3,
   "id": "662d78da",
   "metadata": {},
   "outputs": [],
   "source": [
    "\n",
    "def safe_literal_eval(x):\n",
    "    if isinstance(x, list):\n",
    "        return x \n",
    "    elif isinstance(x, str):\n",
    "        try:\n",
    "            return literal_eval(x)\n",
    "        except:\n",
    "            return np.nan\n",
    "    else:\n",
    "        return np.nan\n"
   ]
  },
  {
   "cell_type": "code",
   "execution_count": 4,
   "id": "971f2f8f",
   "metadata": {},
   "outputs": [],
   "source": [
    "df_train_result['clustered_skills'] = df_train_result['clustered_skills'].apply(safe_literal_eval)\n"
   ]
  },
  {
   "cell_type": "code",
   "execution_count": 5,
   "id": "b757c7ab",
   "metadata": {},
   "outputs": [
    {
     "name": "stdout",
     "output_type": "stream",
     "text": [
      "<class 'pandas.core.frame.DataFrame'>\n",
      "RangeIndex: 17398 entries, 0 to 17397\n",
      "Data columns (total 24 columns):\n",
      " #   Column                           Non-Null Count  Dtype  \n",
      "---  ------                           --------------  -----  \n",
      " 0   Unnamed: 0                       17398 non-null  int64  \n",
      " 1   salary from                      17398 non-null  float64\n",
      " 2   salary to                        17398 non-null  float64\n",
      " 3   position                         17398 non-null  object \n",
      " 4   experience                       17398 non-null  object \n",
      " 5   skills                           17398 non-null  object \n",
      " 6   schedule                         17398 non-null  object \n",
      " 7   employment                       17398 non-null  object \n",
      " 8   vacancy                          17398 non-null  object \n",
      " 9   level                            17398 non-null  object \n",
      " 10  region                           17398 non-null  object \n",
      " 11  mapped_skills                    17398 non-null  object \n",
      " 12  anchors_list                     17398 non-null  object \n",
      " 13  mapped_skills_filtered           17398 non-null  object \n",
      " 14  other_replaced_count             17398 non-null  int64  \n",
      " 15  skills_count                     17398 non-null  int64  \n",
      " 16  federal_district                 17398 non-null  object \n",
      " 17  flag_level_unknown               17398 non-null  int64  \n",
      " 18  flag_overqualified_for_level     17398 non-null  int64  \n",
      " 19  flag_insufficient_exp_for_level  17398 non-null  int64  \n",
      " 20  flag_low_salary_high_exp         17398 non-null  int64  \n",
      " 21  flag_low_salary_senior           17398 non-null  int64  \n",
      " 22  vacancy_clustered                17398 non-null  object \n",
      " 23  clustered_skills                 17398 non-null  object \n",
      "dtypes: float64(2), int64(8), object(14)\n",
      "memory usage: 3.2+ MB\n"
     ]
    }
   ],
   "source": [
    "df_train_result.info()"
   ]
  },
  {
   "cell_type": "code",
   "execution_count": null,
   "id": "cc9f071d",
   "metadata": {},
   "outputs": [],
   "source": [
    "\n",
    "def filtered_skills_top_n(df_train_result, n):\n",
    "    \"\"\"\n",
    "    Фильтрует навыки, оставляя только N наиболее популярных навыков для каждой позиции.\n",
    "    \n",
    "    :param df_skills_filtered: Входящий DataFrame с колонками 'position' и 'skills'.\n",
    "    :param n: Число наиболее популярных навыков, которое нужно оставить.\n",
    "    :return: Отфильтрованный DataFrame с сокращённым списком навыков.\n",
    "    \"\"\"\n",
    "    \n",
    "    result_df = df_train_result.copy()\n",
    "    #display(result_df['skills'])\n",
    "    # Перебираем каждую уникальную должность\n",
    "    for pos in result_df['position'].unique():\n",
    "        # Маска для выбора строк с нужной должностью\n",
    "        mask = result_df['position'] == pos\n",
    "        \n",
    "        # Собираем все навыки в один большой список\n",
    "        skills_lists = result_df.loc[mask, 'clustered_skills']\n",
    "        all_skills = [skill for sublist in skills_lists for skill in sublist]\n",
    "        \n",
    "        # Считаем частоту появления каждого навыка\n",
    "        skill_counts = Counter(all_skills)\n",
    "        \n",
    "        # Берём топ-n навыков\n",
    "        top_n_skills = set([skill for skill, _ in skill_counts.most_common(n)])\n",
    "        \n",
    "        # Применяем фильтр к списку навыков\n",
    "        result_df.loc[mask, 'clustered_skills'] = skills_lists.apply(\n",
    "            lambda skill_list: [s for s in skill_list if s in top_n_skills]\n",
    "        )\n",
    "        #display(result_df['skills'])\n",
    "    return result_df\n",
    "from scipy.stats import normaltest\n",
    "\n"
   ]
  },
  {
   "cell_type": "code",
   "execution_count": 9,
   "id": "c9e1a44b",
   "metadata": {},
   "outputs": [],
   "source": [
    "# Функция очистки и нормализации\n",
    "def process_series(series, colname, position):\n",
    "    series = pd.to_numeric(series, errors='coerce')\n",
    "    series = series.dropna()\n",
    "    n_total = len(series)\n",
    "\n",
    "\n",
    "    stat, p = normaltest(series)\n",
    "    is_normal = p > 0.05\n",
    "\n",
    "    if is_normal:\n",
    "        mu, sigma = series.mean(), series.std()\n",
    "        mask = (series >= mu - 3 * sigma) & (series <= mu + 3 * sigma)\n",
    "    else:\n",
    "        q1 = series.quantile(0.25)\n",
    "        q3 = series.quantile(0.75)\n",
    "        iqr = q3 - q1\n",
    "        mask = (series >= q1 - 1.5 * iqr) & (series <= q3 + 1.5 * iqr)\n",
    "\n",
    "    n_filtered = mask.sum()\n",
    "    n_removed = n_total - n_filtered\n",
    "\n",
    "\n",
    "    return series[mask]"
   ]
  },
  {
   "cell_type": "code",
   "execution_count": 21,
   "id": "8c6d2dee",
   "metadata": {},
   "outputs": [
    {
     "name": "stderr",
     "output_type": "stream",
     "text": [
      "Top-N Skills:   0%|          | 0/4 [00:00<?, ?it/s]"
     ]
    },
    {
     "data": {
      "text/plain": [
       "' Взяли 30 скилов . Осталось 16881 cтрок в df. Всего уникальных 704'"
      ]
     },
     "metadata": {},
     "output_type": "display_data"
    },
    {
     "name": "stdout",
     "output_type": "stream",
     "text": [
      "0:\tlearn: 41019.8152478\ttest: 39412.3777049\tbest: 39412.3777049 (0)\ttotal: 34.7ms\tremaining: 34.7s\n",
      "100:\tlearn: 21365.9230749\ttest: 21909.1943677\tbest: 21909.1943677 (100)\ttotal: 3.13s\tremaining: 27.9s\n",
      "200:\tlearn: 20783.9926448\ttest: 21811.2215210\tbest: 21811.2215210 (200)\ttotal: 5.58s\tremaining: 22.2s\n",
      "300:\tlearn: 20380.5416013\ttest: 21722.6656141\tbest: 21721.8763579 (298)\ttotal: 7.99s\tremaining: 18.6s\n",
      "400:\tlearn: 20122.0941840\ttest: 21678.9523654\tbest: 21676.1172975 (391)\ttotal: 10.5s\tremaining: 15.7s\n",
      "500:\tlearn: 19896.6368899\ttest: 21658.6562350\tbest: 21652.4903330 (467)\ttotal: 12.9s\tremaining: 12.8s\n",
      "600:\tlearn: 19681.0750438\ttest: 21617.1441761\tbest: 21609.8595906 (588)\ttotal: 15.4s\tremaining: 10.2s\n",
      "700:\tlearn: 19461.3595686\ttest: 21578.9171183\tbest: 21576.8522819 (687)\ttotal: 17.9s\tremaining: 7.62s\n",
      "800:\tlearn: 19331.1331265\ttest: 21580.8712423\tbest: 21575.2871036 (725)\ttotal: 20.3s\tremaining: 5.04s\n",
      "900:\tlearn: 19140.7817782\ttest: 21557.4132702\tbest: 21555.6237889 (887)\ttotal: 22.9s\tremaining: 2.51s\n",
      "999:\tlearn: 18956.4483202\ttest: 21552.0812681\tbest: 21548.4162552 (981)\ttotal: 25.5s\tremaining: 0us\n",
      "bestTest = 21548.41626\n",
      "bestIteration = 981\n",
      "Shrink model to first 982 iterations.\n",
      "0:\tlearn: 42081.2184311\ttest: 40047.3210990\tbest: 40047.3210990 (0)\ttotal: 28.3ms\tremaining: 28.2s\n",
      "100:\tlearn: 21722.1792049\ttest: 22064.7798660\tbest: 22064.7798660 (100)\ttotal: 3.14s\tremaining: 28s\n",
      "200:\tlearn: 21016.9323293\ttest: 21780.4830258\tbest: 21779.3201971 (199)\ttotal: 5.54s\tremaining: 22s\n",
      "300:\tlearn: 20636.7850840\ttest: 21731.9647877\tbest: 21730.5097583 (295)\ttotal: 7.91s\tremaining: 18.4s\n",
      "400:\tlearn: 20386.2467743\ttest: 21728.5063792\tbest: 21727.2463333 (399)\ttotal: 10.2s\tremaining: 15.2s\n",
      "500:\tlearn: 20221.0775736\ttest: 21720.8406743\tbest: 21719.1903190 (472)\ttotal: 12.5s\tremaining: 12.5s\n",
      "600:\tlearn: 20027.0877458\ttest: 21695.9987649\tbest: 21694.8194093 (583)\ttotal: 15s\tremaining: 9.98s\n",
      "700:\tlearn: 19822.1977767\ttest: 21703.5413133\tbest: 21693.5905811 (603)\ttotal: 17.4s\tremaining: 7.44s\n",
      "800:\tlearn: 19635.9580507\ttest: 21716.7304153\tbest: 21693.5905811 (603)\ttotal: 19.9s\tremaining: 4.95s\n",
      "900:\tlearn: 19469.8712799\ttest: 21712.1200776\tbest: 21693.5905811 (603)\ttotal: 22.3s\tremaining: 2.45s\n",
      "999:\tlearn: 19325.3588417\ttest: 21706.9112915\tbest: 21693.5905811 (603)\ttotal: 24.6s\tremaining: 0us\n",
      "bestTest = 21693.59058\n",
      "bestIteration = 603\n",
      "Shrink model to first 604 iterations.\n",
      "0:\tlearn: 42402.3353357\ttest: 42576.6815630\tbest: 42576.6815630 (0)\ttotal: 29.1ms\tremaining: 29.1s\n",
      "100:\tlearn: 22179.5455343\ttest: 22154.8387891\tbest: 22154.8387891 (100)\ttotal: 3.27s\tremaining: 29.1s\n",
      "200:\tlearn: 21615.3404672\ttest: 21938.9061981\tbest: 21938.9061981 (200)\ttotal: 5.52s\tremaining: 22s\n",
      "300:\tlearn: 21300.6182907\ttest: 21867.4826610\tbest: 21855.6961900 (281)\ttotal: 7.67s\tremaining: 17.8s\n",
      "400:\tlearn: 21070.2233932\ttest: 21817.5421247\tbest: 21817.5421247 (400)\ttotal: 9.8s\tremaining: 14.6s\n",
      "500:\tlearn: 20925.9905228\ttest: 21777.1663957\tbest: 21777.1663957 (500)\ttotal: 11.9s\tremaining: 11.9s\n",
      "600:\tlearn: 20840.1046402\ttest: 21734.1203174\tbest: 21733.8862854 (595)\ttotal: 14s\tremaining: 9.28s\n",
      "700:\tlearn: 20665.3876885\ttest: 21683.9810795\tbest: 21681.8144229 (696)\ttotal: 16.3s\tremaining: 6.93s\n",
      "800:\tlearn: 20508.5092243\ttest: 21637.0855380\tbest: 21637.0855380 (800)\ttotal: 18.5s\tremaining: 4.59s\n",
      "900:\tlearn: 20288.5799509\ttest: 21617.8110007\tbest: 21606.9956014 (847)\ttotal: 21s\tremaining: 2.3s\n",
      "999:\tlearn: 20137.6533512\ttest: 21599.8292661\tbest: 21599.8292661 (999)\ttotal: 23.8s\tremaining: 0us\n",
      "bestTest = 21599.82927\n",
      "bestIteration = 999\n",
      "0:\tlearn: 42784.0256611\ttest: 44553.3045886\tbest: 44553.3045886 (0)\ttotal: 34.7ms\tremaining: 34.7s\n",
      "100:\tlearn: 22292.2790660\ttest: 23523.8372465\tbest: 23523.8372465 (100)\ttotal: 3.63s\tremaining: 32.3s\n",
      "200:\tlearn: 21596.8557731\ttest: 23343.1898748\tbest: 23340.5481510 (198)\ttotal: 6.18s\tremaining: 24.6s\n",
      "300:\tlearn: 21244.7599686\ttest: 23332.4256499\tbest: 23326.6810690 (289)\ttotal: 8.65s\tremaining: 20.1s\n",
      "400:\tlearn: 20980.1880491\ttest: 23333.8228766\tbest: 23315.6544364 (369)\ttotal: 11s\tremaining: 16.4s\n",
      "500:\tlearn: 20797.1487040\ttest: 23293.2662135\tbest: 23287.8629814 (486)\ttotal: 13.4s\tremaining: 13.4s\n",
      "600:\tlearn: 20684.9084899\ttest: 23311.6427173\tbest: 23287.8629814 (486)\ttotal: 15.8s\tremaining: 10.5s\n",
      "700:\tlearn: 20512.2773928\ttest: 23292.9581324\tbest: 23277.6305426 (655)\ttotal: 18.2s\tremaining: 7.77s\n",
      "800:\tlearn: 20379.4404291\ttest: 23313.1033646\tbest: 23277.6305426 (655)\ttotal: 20.6s\tremaining: 5.12s\n",
      "900:\tlearn: 20271.4463135\ttest: 23330.9702861\tbest: 23277.6305426 (655)\ttotal: 23s\tremaining: 2.52s\n",
      "999:\tlearn: 20155.9559188\ttest: 23343.9818247\tbest: 23277.6305426 (655)\ttotal: 25.2s\tremaining: 0us\n",
      "bestTest = 23277.63054\n",
      "bestIteration = 655\n",
      "Shrink model to first 656 iterations.\n"
     ]
    },
    {
     "name": "stderr",
     "output_type": "stream",
     "text": [
      "Top-N Skills:  25%|██▌       | 1/4 [01:43<05:11, 103.71s/it]"
     ]
    },
    {
     "data": {
      "text/plain": [
       "' Взяли 50 скилов . Осталось 17189 cтрок в df. Всего уникальных 1048'"
      ]
     },
     "metadata": {},
     "output_type": "display_data"
    },
    {
     "name": "stdout",
     "output_type": "stream",
     "text": [
      "0:\tlearn: 40712.2494141\ttest: 40080.9401725\tbest: 40080.9401725 (0)\ttotal: 33ms\tremaining: 33s\n",
      "100:\tlearn: 21145.7540264\ttest: 21862.8954267\tbest: 21862.8954267 (100)\ttotal: 2.98s\tremaining: 26.6s\n",
      "200:\tlearn: 20454.2071483\ttest: 21584.1204499\tbest: 21581.8319360 (199)\ttotal: 5.26s\tremaining: 20.9s\n",
      "300:\tlearn: 20078.1954021\ttest: 21455.8588782\tbest: 21453.0946090 (298)\ttotal: 7.54s\tremaining: 17.5s\n",
      "400:\tlearn: 19937.3658741\ttest: 21434.7311725\tbest: 21428.6940716 (352)\ttotal: 9.64s\tremaining: 14.4s\n",
      "500:\tlearn: 19725.1104139\ttest: 21415.2454107\tbest: 21413.4387585 (452)\ttotal: 11.9s\tremaining: 11.8s\n",
      "600:\tlearn: 19598.9184716\ttest: 21390.6391779\tbest: 21389.5602337 (599)\ttotal: 13.9s\tremaining: 9.21s\n",
      "700:\tlearn: 19430.2909469\ttest: 21361.1977129\tbest: 21358.7265790 (666)\ttotal: 16.1s\tremaining: 6.87s\n",
      "800:\tlearn: 19304.6244807\ttest: 21350.2321417\tbest: 21348.7319664 (794)\ttotal: 18.2s\tremaining: 4.53s\n",
      "900:\tlearn: 19099.1485472\ttest: 21337.8890374\tbest: 21324.0974069 (844)\ttotal: 20.5s\tremaining: 2.25s\n",
      "999:\tlearn: 19070.1227308\ttest: 21333.5469345\tbest: 21324.0974069 (844)\ttotal: 22.4s\tremaining: 0us\n",
      "bestTest = 21324.09741\n",
      "bestIteration = 844\n",
      "Shrink model to first 845 iterations.\n",
      "0:\tlearn: 41982.9457837\ttest: 40051.7441972\tbest: 40051.7441972 (0)\ttotal: 32.9ms\tremaining: 32.9s\n",
      "100:\tlearn: 21846.2485080\ttest: 21933.6459194\tbest: 21931.7672808 (97)\ttotal: 2.89s\tremaining: 25.7s\n",
      "200:\tlearn: 21325.6179636\ttest: 21866.6743652\tbest: 21858.6126770 (150)\ttotal: 5.01s\tremaining: 19.9s\n",
      "300:\tlearn: 21017.8933215\ttest: 21838.1926836\tbest: 21820.8506705 (285)\ttotal: 7.18s\tremaining: 16.7s\n",
      "400:\tlearn: 20698.4958573\ttest: 21705.2028162\tbest: 21705.1466941 (399)\ttotal: 9.47s\tremaining: 14.2s\n",
      "500:\tlearn: 20393.8414649\ttest: 21579.0561273\tbest: 21579.0561273 (500)\ttotal: 11.7s\tremaining: 11.7s\n",
      "600:\tlearn: 20146.7775021\ttest: 21497.3542572\tbest: 21496.6898533 (599)\ttotal: 14s\tremaining: 9.32s\n",
      "700:\tlearn: 19934.4406841\ttest: 21462.1054106\tbest: 21462.1054106 (700)\ttotal: 16.4s\tremaining: 6.98s\n",
      "800:\tlearn: 19773.1726616\ttest: 21447.6805418\tbest: 21440.0706651 (766)\ttotal: 18.8s\tremaining: 4.67s\n",
      "900:\tlearn: 19650.3576920\ttest: 21464.1109946\tbest: 21440.0706651 (766)\ttotal: 21.1s\tremaining: 2.31s\n",
      "999:\tlearn: 19509.0836178\ttest: 21438.9144263\tbest: 21438.8313281 (991)\ttotal: 23.3s\tremaining: 0us\n",
      "bestTest = 21438.83133\n",
      "bestIteration = 991\n",
      "Shrink model to first 992 iterations.\n",
      "0:\tlearn: 42568.8551775\ttest: 40870.4744705\tbest: 40870.4744705 (0)\ttotal: 31.1ms\tremaining: 31.1s\n",
      "100:\tlearn: 21805.9371475\ttest: 22395.3510077\tbest: 22395.3510077 (100)\ttotal: 2.97s\tremaining: 26.4s\n",
      "200:\tlearn: 21328.8758268\ttest: 22293.5831761\tbest: 22293.5831761 (200)\ttotal: 5.16s\tremaining: 20.5s\n",
      "300:\tlearn: 21189.3415536\ttest: 22269.3074234\tbest: 22267.6016170 (295)\ttotal: 7.41s\tremaining: 17.2s\n",
      "400:\tlearn: 21047.2248293\ttest: 22242.5461830\tbest: 22239.7571033 (388)\ttotal: 9.74s\tremaining: 14.6s\n",
      "500:\tlearn: 20758.1068066\ttest: 22186.0276673\tbest: 22179.6985350 (494)\ttotal: 12.3s\tremaining: 12.3s\n",
      "600:\tlearn: 20527.3380544\ttest: 22162.9056512\tbest: 22155.1444078 (552)\ttotal: 14.9s\tremaining: 9.87s\n",
      "700:\tlearn: 20337.1113880\ttest: 22154.9350679\tbest: 22148.1975924 (641)\ttotal: 17.2s\tremaining: 7.34s\n",
      "800:\tlearn: 20172.7699136\ttest: 22144.9948376\tbest: 22142.1809480 (781)\ttotal: 19.5s\tremaining: 4.85s\n",
      "900:\tlearn: 20101.0608554\ttest: 22172.0170649\tbest: 22142.1809480 (781)\ttotal: 21.8s\tremaining: 2.39s\n",
      "999:\tlearn: 20046.3823113\ttest: 22178.8768652\tbest: 22142.1809480 (781)\ttotal: 23.9s\tremaining: 0us\n",
      "bestTest = 22142.18095\n",
      "bestIteration = 781\n",
      "Shrink model to first 782 iterations.\n",
      "0:\tlearn: 43072.3803507\ttest: 41870.7059319\tbest: 41870.7059319 (0)\ttotal: 31.1ms\tremaining: 31.1s\n",
      "100:\tlearn: 22281.3832409\ttest: 23207.3101658\tbest: 23206.8193478 (94)\ttotal: 2.95s\tremaining: 26.3s\n",
      "200:\tlearn: 21642.0808630\ttest: 23024.9688775\tbest: 23018.6262983 (184)\ttotal: 5.34s\tremaining: 21.2s\n",
      "300:\tlearn: 21312.7099744\ttest: 22988.6931311\tbest: 22983.9911823 (292)\ttotal: 7.6s\tremaining: 17.6s\n",
      "400:\tlearn: 21072.5271491\ttest: 22950.6765622\tbest: 22943.2033127 (382)\ttotal: 10.1s\tremaining: 15s\n",
      "500:\tlearn: 20802.8997397\ttest: 22919.7413501\tbest: 22914.7935564 (479)\ttotal: 12.3s\tremaining: 12.3s\n",
      "600:\tlearn: 20669.4959137\ttest: 22939.6798894\tbest: 22914.7935564 (479)\ttotal: 14.5s\tremaining: 9.63s\n",
      "700:\tlearn: 20557.6304564\ttest: 22949.1947446\tbest: 22914.7935564 (479)\ttotal: 16.7s\tremaining: 7.13s\n",
      "800:\tlearn: 20443.2595498\ttest: 22961.2900607\tbest: 22914.7935564 (479)\ttotal: 18.9s\tremaining: 4.7s\n",
      "900:\tlearn: 20295.9668585\ttest: 22955.2498221\tbest: 22914.7935564 (479)\ttotal: 21.2s\tremaining: 2.33s\n",
      "999:\tlearn: 20164.5751150\ttest: 22957.2162068\tbest: 22914.7935564 (479)\ttotal: 23.6s\tremaining: 0us\n",
      "bestTest = 22914.79356\n",
      "bestIteration = 479\n",
      "Shrink model to first 480 iterations.\n"
     ]
    },
    {
     "name": "stderr",
     "output_type": "stream",
     "text": [
      "Top-N Skills:  50%|█████     | 2/4 [03:21<03:20, 100.49s/it]"
     ]
    },
    {
     "data": {
      "text/plain": [
       "' Взяли 70 скилов . Осталось 17296 cтрок в df. Всего уникальных 1277'"
      ]
     },
     "metadata": {},
     "output_type": "display_data"
    },
    {
     "name": "stdout",
     "output_type": "stream",
     "text": [
      "0:\tlearn: 40643.0419938\ttest: 39981.3959347\tbest: 39981.3959347 (0)\ttotal: 29ms\tremaining: 29s\n",
      "100:\tlearn: 21502.3373806\ttest: 22064.3579061\tbest: 22064.1015833 (99)\ttotal: 2.71s\tremaining: 24.1s\n",
      "200:\tlearn: 20781.7749822\ttest: 21675.2614377\tbest: 21673.1154410 (199)\ttotal: 4.91s\tremaining: 19.5s\n",
      "300:\tlearn: 20424.6343197\ttest: 21623.5782670\tbest: 21614.2874180 (286)\ttotal: 7.03s\tremaining: 16.3s\n",
      "400:\tlearn: 20202.1754281\ttest: 21638.6428364\tbest: 21614.2874180 (286)\ttotal: 9.08s\tremaining: 13.6s\n",
      "500:\tlearn: 19987.7598161\ttest: 21612.0766859\tbest: 21611.2035906 (495)\ttotal: 11.1s\tremaining: 11.1s\n",
      "600:\tlearn: 19852.9988443\ttest: 21593.4953789\tbest: 21590.8078504 (588)\ttotal: 13.1s\tremaining: 8.71s\n",
      "700:\tlearn: 19611.6249143\ttest: 21529.5373369\tbest: 21521.9562409 (671)\ttotal: 15.2s\tremaining: 6.5s\n",
      "800:\tlearn: 19391.0340068\ttest: 21484.5690254\tbest: 21476.2043910 (779)\ttotal: 17.5s\tremaining: 4.35s\n",
      "900:\tlearn: 19138.7812305\ttest: 21420.0089151\tbest: 21420.0089151 (900)\ttotal: 19.8s\tremaining: 2.17s\n",
      "999:\tlearn: 18980.0393187\ttest: 21377.2482786\tbest: 21377.1464629 (998)\ttotal: 22s\tremaining: 0us\n",
      "bestTest = 21377.14646\n",
      "bestIteration = 998\n",
      "Shrink model to first 999 iterations.\n",
      "0:\tlearn: 42103.5841323\ttest: 38929.2103199\tbest: 38929.2103199 (0)\ttotal: 31.8ms\tremaining: 31.8s\n",
      "100:\tlearn: 21645.4369431\ttest: 21176.0719175\tbest: 21176.0719175 (100)\ttotal: 2.96s\tremaining: 26.3s\n",
      "200:\tlearn: 20766.8107414\ttest: 20803.7981574\tbest: 20803.5230231 (199)\ttotal: 5.37s\tremaining: 21.4s\n",
      "300:\tlearn: 20322.6823466\ttest: 20734.4795773\tbest: 20731.9321448 (298)\ttotal: 7.73s\tremaining: 17.9s\n",
      "400:\tlearn: 20053.4857594\ttest: 20696.8907106\tbest: 20692.5509974 (380)\ttotal: 10.1s\tremaining: 15.1s\n",
      "500:\tlearn: 19836.9144899\ttest: 20672.8978477\tbest: 20672.3975629 (497)\ttotal: 12.5s\tremaining: 12.4s\n",
      "600:\tlearn: 19638.5369134\ttest: 20666.7551532\tbest: 20663.4621811 (590)\ttotal: 14.9s\tremaining: 9.91s\n",
      "700:\tlearn: 19514.0263267\ttest: 20660.3797651\tbest: 20657.2485094 (686)\ttotal: 17.3s\tremaining: 7.38s\n",
      "800:\tlearn: 19376.1654545\ttest: 20657.8158648\tbest: 20648.5258409 (769)\ttotal: 19.6s\tremaining: 4.86s\n",
      "900:\tlearn: 19306.9529903\ttest: 20681.3898545\tbest: 20648.5258409 (769)\ttotal: 21.8s\tremaining: 2.4s\n",
      "999:\tlearn: 19194.6843293\ttest: 20688.2345276\tbest: 20648.5258409 (769)\ttotal: 24.1s\tremaining: 0us\n",
      "bestTest = 20648.52584\n",
      "bestIteration = 769\n",
      "Shrink model to first 770 iterations.\n",
      "0:\tlearn: 41822.9059537\ttest: 41683.0292668\tbest: 41683.0292668 (0)\ttotal: 32.6ms\tremaining: 32.6s\n",
      "100:\tlearn: 21771.8081541\ttest: 22174.8473776\tbest: 22174.8473776 (100)\ttotal: 2.99s\tremaining: 26.6s\n",
      "200:\tlearn: 21131.1792285\ttest: 21978.2210065\tbest: 21974.4635863 (195)\ttotal: 5.31s\tremaining: 21.1s\n",
      "300:\tlearn: 20793.3077178\ttest: 21949.0838887\tbest: 21930.0301270 (273)\ttotal: 7.72s\tremaining: 17.9s\n",
      "400:\tlearn: 20599.7014999\ttest: 21926.9313225\tbest: 21918.2982689 (377)\ttotal: 9.99s\tremaining: 14.9s\n",
      "500:\tlearn: 20366.2898959\ttest: 21894.4800462\tbest: 21891.0979922 (493)\ttotal: 12.3s\tremaining: 12.3s\n",
      "600:\tlearn: 20175.9180666\ttest: 21856.9400809\tbest: 21856.9400809 (600)\ttotal: 14.7s\tremaining: 9.73s\n",
      "700:\tlearn: 19991.8878943\ttest: 21813.2744793\tbest: 21810.8895127 (684)\ttotal: 17s\tremaining: 7.26s\n",
      "800:\tlearn: 19845.0383339\ttest: 21788.0801201\tbest: 21785.5699408 (782)\ttotal: 19.2s\tremaining: 4.77s\n",
      "900:\tlearn: 19708.6249134\ttest: 21778.9725548\tbest: 21769.7871908 (865)\ttotal: 21.6s\tremaining: 2.37s\n",
      "999:\tlearn: 19579.5908381\ttest: 21790.8290872\tbest: 21769.7871908 (865)\ttotal: 23.9s\tremaining: 0us\n",
      "bestTest = 21769.78719\n",
      "bestIteration = 865\n",
      "Shrink model to first 866 iterations.\n",
      "0:\tlearn: 42677.4964525\ttest: 42562.7551905\tbest: 42562.7551905 (0)\ttotal: 33.9ms\tremaining: 33.8s\n",
      "100:\tlearn: 22001.8136712\ttest: 22637.3300644\tbest: 22637.3300644 (100)\ttotal: 3.28s\tremaining: 29.2s\n",
      "200:\tlearn: 21454.5186874\ttest: 22507.2575043\tbest: 22502.6766763 (196)\ttotal: 5.62s\tremaining: 22.3s\n",
      "300:\tlearn: 21160.7133393\ttest: 22530.3952305\tbest: 22502.6766763 (196)\ttotal: 7.87s\tremaining: 18.3s\n",
      "400:\tlearn: 21011.3184245\ttest: 22544.9571255\tbest: 22502.6766763 (196)\ttotal: 10.1s\tremaining: 15.1s\n",
      "500:\tlearn: 20803.3179590\ttest: 22542.3118949\tbest: 22502.6766763 (196)\ttotal: 12.4s\tremaining: 12.3s\n",
      "600:\tlearn: 20679.3149388\ttest: 22592.9791442\tbest: 22502.6766763 (196)\ttotal: 14.5s\tremaining: 9.63s\n",
      "700:\tlearn: 20544.6582162\ttest: 22622.7772920\tbest: 22502.6766763 (196)\ttotal: 16.8s\tremaining: 7.15s\n",
      "800:\tlearn: 20491.2264266\ttest: 22642.5282221\tbest: 22502.6766763 (196)\ttotal: 18.8s\tremaining: 4.66s\n",
      "900:\tlearn: 20311.3807419\ttest: 22651.0157758\tbest: 22502.6766763 (196)\ttotal: 21s\tremaining: 2.31s\n",
      "999:\tlearn: 20185.1743305\ttest: 22657.6170597\tbest: 22502.6766763 (196)\ttotal: 23.4s\tremaining: 0us\n",
      "bestTest = 22502.67668\n",
      "bestIteration = 196\n",
      "Shrink model to first 197 iterations.\n"
     ]
    },
    {
     "name": "stderr",
     "output_type": "stream",
     "text": [
      "Top-N Skills:  75%|███████▌  | 3/4 [05:00<01:39, 99.41s/it] "
     ]
    },
    {
     "data": {
      "text/plain": [
       "' Взяли 100 скилов . Осталось 17349 cтрок в df. Всего уникальных 1539'"
      ]
     },
     "metadata": {},
     "output_type": "display_data"
    },
    {
     "name": "stdout",
     "output_type": "stream",
     "text": [
      "0:\tlearn: 40716.8447931\ttest: 39398.1167052\tbest: 39398.1167052 (0)\ttotal: 70.9ms\tremaining: 1m 10s\n",
      "100:\tlearn: 21245.0558025\ttest: 22282.4547460\tbest: 22282.4547460 (100)\ttotal: 3.08s\tremaining: 27.4s\n",
      "200:\tlearn: 20563.4358980\ttest: 22107.7689843\tbest: 22106.3014552 (196)\ttotal: 5.41s\tremaining: 21.5s\n",
      "300:\tlearn: 20159.8100011\ttest: 22051.1578528\tbest: 22048.1398415 (296)\ttotal: 7.68s\tremaining: 17.8s\n",
      "400:\tlearn: 19843.7563727\ttest: 21976.1480337\tbest: 21974.2097116 (397)\ttotal: 10s\tremaining: 15s\n",
      "500:\tlearn: 19570.0213190\ttest: 21915.6655166\tbest: 21913.3023076 (495)\ttotal: 12.2s\tremaining: 12.2s\n",
      "600:\tlearn: 19419.3144556\ttest: 21899.4671484\tbest: 21893.2997428 (584)\ttotal: 14.3s\tremaining: 9.5s\n",
      "700:\tlearn: 19305.3422571\ttest: 21869.8175226\tbest: 21867.9723340 (676)\ttotal: 16.4s\tremaining: 6.99s\n",
      "800:\tlearn: 19242.8527083\ttest: 21851.7628992\tbest: 21851.7628992 (800)\ttotal: 18.6s\tremaining: 4.62s\n",
      "900:\tlearn: 19163.8421039\ttest: 21842.4548783\tbest: 21842.3600380 (898)\ttotal: 20.6s\tremaining: 2.27s\n",
      "999:\tlearn: 19057.4506297\ttest: 21812.4687481\tbest: 21812.3117715 (998)\ttotal: 22.7s\tremaining: 0us\n",
      "bestTest = 21812.31177\n",
      "bestIteration = 998\n",
      "Shrink model to first 999 iterations.\n",
      "0:\tlearn: 41985.5263236\ttest: 39284.8933627\tbest: 39284.8933627 (0)\ttotal: 31.4ms\tremaining: 31.4s\n",
      "100:\tlearn: 21670.3894558\ttest: 21296.3311087\tbest: 21294.9913023 (97)\ttotal: 2.94s\tremaining: 26.2s\n",
      "200:\tlearn: 21010.9626268\ttest: 21131.4724374\tbest: 21131.4724374 (200)\ttotal: 5.24s\tremaining: 20.8s\n",
      "300:\tlearn: 20573.6682373\ttest: 21032.6893450\tbest: 21023.2891602 (283)\ttotal: 7.4s\tremaining: 17.2s\n",
      "400:\tlearn: 20367.4407765\ttest: 21001.6951240\tbest: 21000.6030611 (399)\ttotal: 10.1s\tremaining: 15.1s\n",
      "500:\tlearn: 20214.2828852\ttest: 20964.0221638\tbest: 20961.5836214 (494)\ttotal: 12.1s\tremaining: 12.1s\n",
      "600:\tlearn: 20051.1891461\ttest: 20950.1795437\tbest: 20946.0681645 (553)\ttotal: 14.3s\tremaining: 9.47s\n",
      "700:\tlearn: 19936.3768742\ttest: 20938.9903401\tbest: 20926.2069198 (636)\ttotal: 16.3s\tremaining: 6.96s\n",
      "800:\tlearn: 19852.8599429\ttest: 20954.4207922\tbest: 20926.2069198 (636)\ttotal: 18.4s\tremaining: 4.58s\n",
      "900:\tlearn: 19621.3184601\ttest: 20864.8052006\tbest: 20864.8052006 (900)\ttotal: 20.7s\tremaining: 2.28s\n",
      "999:\tlearn: 19444.8151526\ttest: 20822.3224263\tbest: 20820.2146135 (987)\ttotal: 23s\tremaining: 0us\n",
      "bestTest = 20820.21461\n",
      "bestIteration = 987\n",
      "Shrink model to first 988 iterations.\n",
      "0:\tlearn: 41971.2154875\ttest: 41207.6064729\tbest: 41207.6064729 (0)\ttotal: 70.4ms\tremaining: 1m 10s\n",
      "100:\tlearn: 21985.2925853\ttest: 21944.0075129\tbest: 21944.0075129 (100)\ttotal: 3.19s\tremaining: 28.4s\n",
      "200:\tlearn: 21284.4448367\ttest: 21673.9111992\tbest: 21673.9111992 (200)\ttotal: 5.62s\tremaining: 22.3s\n",
      "300:\tlearn: 20967.9380188\ttest: 21605.9168747\tbest: 21603.5225052 (295)\ttotal: 7.72s\tremaining: 17.9s\n",
      "400:\tlearn: 20689.3646937\ttest: 21546.6687740\tbest: 21540.0255190 (392)\ttotal: 9.92s\tremaining: 14.8s\n",
      "500:\tlearn: 20520.7727700\ttest: 21514.2069845\tbest: 21510.1200954 (491)\ttotal: 12.1s\tremaining: 12s\n",
      "600:\tlearn: 20346.1840488\ttest: 21476.3548499\tbest: 21473.6017282 (597)\ttotal: 14.3s\tremaining: 9.48s\n",
      "700:\tlearn: 20148.7391066\ttest: 21440.7442993\tbest: 21440.1484514 (684)\ttotal: 16.6s\tremaining: 7.08s\n",
      "800:\tlearn: 19983.6332231\ttest: 21417.2309287\tbest: 21411.0572678 (789)\ttotal: 18.8s\tremaining: 4.66s\n",
      "900:\tlearn: 19858.9315066\ttest: 21417.6430691\tbest: 21411.0572678 (789)\ttotal: 20.9s\tremaining: 2.3s\n",
      "999:\tlearn: 19743.1119794\ttest: 21401.1077861\tbest: 21399.3333342 (982)\ttotal: 23.4s\tremaining: 0us\n",
      "bestTest = 21399.33333\n",
      "bestIteration = 982\n",
      "Shrink model to first 983 iterations.\n",
      "0:\tlearn: 42794.3585062\ttest: 41758.1432689\tbest: 41758.1432689 (0)\ttotal: 33.2ms\tremaining: 33.2s\n",
      "100:\tlearn: 22148.6645558\ttest: 22466.4903263\tbest: 22466.4903263 (100)\ttotal: 3.13s\tremaining: 27.8s\n",
      "200:\tlearn: 21584.2439234\ttest: 22342.7012359\tbest: 22342.7012359 (200)\ttotal: 5.52s\tremaining: 21.9s\n",
      "300:\tlearn: 21289.0480522\ttest: 22279.7946700\tbest: 22279.7946700 (300)\ttotal: 7.72s\tremaining: 17.9s\n",
      "400:\tlearn: 21028.3356338\ttest: 22193.7469345\tbest: 22193.5493065 (397)\ttotal: 10.1s\tremaining: 15s\n",
      "500:\tlearn: 20809.5498330\ttest: 22146.5328588\tbest: 22144.2609492 (495)\ttotal: 12.3s\tremaining: 12.2s\n",
      "600:\tlearn: 20636.5126496\ttest: 22095.7480483\tbest: 22095.7480483 (600)\ttotal: 14.6s\tremaining: 9.68s\n",
      "700:\tlearn: 20483.0194797\ttest: 22074.3192265\tbest: 22065.6526856 (642)\ttotal: 17s\tremaining: 7.23s\n",
      "800:\tlearn: 20357.7664831\ttest: 22078.2045006\tbest: 22065.6526856 (642)\ttotal: 19.3s\tremaining: 4.78s\n",
      "900:\tlearn: 20249.3489416\ttest: 22078.9644459\tbest: 22065.6526856 (642)\ttotal: 21.5s\tremaining: 2.36s\n",
      "999:\tlearn: 20126.9977204\ttest: 22089.6965365\tbest: 22065.6526856 (642)\ttotal: 23.7s\tremaining: 0us\n",
      "bestTest = 22065.65269\n",
      "bestIteration = 642\n",
      "Shrink model to first 643 iterations.\n"
     ]
    },
    {
     "name": "stderr",
     "output_type": "stream",
     "text": [
      "Top-N Skills: 100%|██████████| 4/4 [06:38<00:00, 99.50s/it]\n"
     ]
    },
    {
     "data": {
      "image/png": "[encoded data removed]",
      "text/plain": [
       "<Figure size 1400x600 with 4 Axes>"
      ]
     },
     "metadata": {},
     "output_type": "display_data"
    },
    {
     "name": "stdout",
     "output_type": "stream",
     "text": [
      "Лучшее сочетание по MAE:\n",
      "Top Skills: 70.0, Top Vacancies: 10.0, MAE: 15715.60, R²: 0.74\n"
     ]
    }
   ],
   "source": [
    "\n",
    "import warnings\n",
    "warnings.filterwarnings('ignore', category=FutureWarning, message='DataFrameGroupBy.apply operated on the grouping columns.')\n",
    "\n",
    "# Параметры\n",
    "top_skills_range = [ 30, 50, 70, 100]\n",
    "top_vacancies_range = [5,10, 30, 50] \n",
    "# Список позиций, которые оставляем\n",
    "\n",
    "allowed_positions2 = [\n",
    "    \"Аналитик\",\n",
    "    \"Бизнес-аналитик\",\n",
    "    \"Дата-сайентист\",\n",
    "    \"Дизайнер, художник\",\n",
    "    \"Программист, разработчик\",\n",
    "    \"Продуктовый аналитик\",\n",
    "    \"Руководитель проектов\",\n",
    "    \"Сетевой инженер\",\n",
    "    \"Системный администратор\",\n",
    "    \"Системный аналитик\",\n",
    "    \"Специалист по информационной безопасности\",\n",
    "    \"Специалист технической поддержки\",\n",
    "    \"Технический писатель\",\n",
    "    'Тестировщик',\n",
    "    'Менеджер продукта',\n",
    "    'Системный инженер',\n",
    "    'BI-аналитик, аналитик данных',\n",
    "    'Методолог',\n",
    "    'Руководитель группы разработки'\n",
    "\n",
    "]\n",
    "\n",
    "\n",
    "\n",
    "\n",
    "allowed_positions = [\n",
    "    \"Аналитик\",\n",
    "    \"Бизнес-аналитик\",\n",
    "    #\"Дата-сайентист\",\n",
    "    \"Дизайнер, художник\",\n",
    "    #\"Программист, разработчик\",\n",
    "    \"Продуктовый аналитик\",\n",
    "    \"Руководитель проектов\",\n",
    "    \"Сетевой инженер\",\n",
    "    \"Системный администратор\",\n",
    "    #\"Системный аналитик\",\n",
    "    \"Специалист по информационной безопасности\",\n",
    "    \"Специалист технической поддержки\",\n",
    "    \"Технический писатель\"\n",
    "]\n",
    "\n",
    "results = []\n",
    "\n",
    "for skill_n in tqdm(top_skills_range, desc=\"Top-N Skills\"):\n",
    "    df_skills_filtered = filtered_skills_top_n(df_train_result.copy(), skill_n)\n",
    "    #display(df_skills_filtered['skills'])\n",
    "    # Удаляем строки с пустыми списками skills\n",
    "    df_skills_filtered = df_skills_filtered[df_skills_filtered['clustered_skills'].apply(lambda x: len(x) > 0)]\n",
    "    \n",
    "\n",
    "    def flatten_skills(skills_series):\n",
    "        all_skills = []\n",
    "        for skill_list in skills_series:\n",
    "            if isinstance(skill_list, list):\n",
    "                all_skills.extend(skill_list)\n",
    "        return all_skills\n",
    "    #display(df_skills_filtered['skills'])\n",
    "    display(f\" Взяли {skill_n} скилов . Осталось {df_skills_filtered.shape[0]} cтрок в df. Всего уникальных {len(set(flatten_skills(df_skills_filtered['clustered_skills'])))}\" )\n",
    "    for vac_n in top_vacancies_range:\n",
    "        # Фильтрация вакансий по top-N внутри позиции\n",
    "        def filter_top_vacancies(group, n=vac_n):\n",
    "            vac_counts = group['vacancy_clustered'].value_counts()\n",
    "            top_vacancies = vac_counts.head(n).index.tolist()\n",
    "            #top_vacancies = vac_counts.index.tolist()\n",
    "            return group[group['vacancy_clustered'].isin(top_vacancies)]\n",
    "        \n",
    "\n",
    "\n",
    "        df_filtered = df_skills_filtered.groupby('position', group_keys=False).apply(filter_top_vacancies).reset_index(drop=True)\n",
    "        df_filtered = df_filtered[df_filtered['position'].isin(allowed_positions)]\n",
    "\n",
    "        \n",
    "        \n",
    "        \n",
    "        # Обработка целевой переменной и признаков\n",
    "        df_temp = df_filtered.copy()\n",
    "        \n",
    "        \n",
    "        # Очистка целевой переменной от выбросов\n",
    "        positions_temp = df_temp['position'].dropna().unique()\n",
    "\n",
    "        for pos in positions_temp:\n",
    "            pos_mask = df_temp['position'] == pos\n",
    "            clean_series = process_series(df_temp.loc[pos_mask, 'salary from'], 'salary from', pos)\n",
    "            if clean_series is not None:\n",
    "                df_temp.loc[clean_series.index, 'salary from norm'] = clean_series\n",
    "\n",
    "        # Удалим строки с NaN после очистки\n",
    "        df_temp = df_temp.dropna(subset=['salary from norm'])\n",
    "        \n",
    "        \n",
    "        if df_temp.empty:\n",
    "            continue\n",
    "\n",
    "\n",
    "\n",
    "        # 1. Подготовка данных\n",
    "        y = df_temp['salary from norm']\n",
    "\n",
    "        if df_temp.empty:\n",
    "            continue\n",
    "        # Определяем порядковое кодирование для experience и level\n",
    "        experience_order = {\n",
    "            'Нет опыта': 0,\n",
    "            '1–3 года': 1,\n",
    "            '3–6 лет': 2,\n",
    "            'Более 6 лет': 3,\n",
    "            'Unknown': -1  # или np.nan для пропусков\n",
    "        }\n",
    "\n",
    "        level_order = {\n",
    "            'Trainee': 0,\n",
    "            'Junior': 1,\n",
    "            'Middle': 2,\n",
    "            'Senior': 3,\n",
    "            'Lead': 4,\n",
    "            'Chief': 5,\n",
    "            'Unknown': -1  # или np.nan для пропусков\n",
    "        }\n",
    "        \n",
    "        # Применяем порядковое кодирование\n",
    "        df_temp['experience_ord'] = df_temp['experience'].map(experience_order) #.astype(str)\n",
    "        df_temp['level_ord'] = df_temp['level'].map(level_order) #.astype(str)\n",
    "        \n",
    "        \n",
    "        \n",
    "        # Преобразование skills в строки с явным указанием типа\n",
    "        df_temp['skills_str'] = df_temp['clustered_skills'].apply(\n",
    "            lambda x: ', '.join(map(str, x)) if isinstance(x, list) else str(x)\n",
    "        )\n",
    "\n",
    "        # 2. Формирование признаков\n",
    "        features = ['position', 'experience_ord', 'schedule', 'employment', 'level_ord', 'vacancy_clustered', 'skills_str', 'region']\n",
    "        X = df_temp[features]\n",
    "\n",
    "        # 3. Указываем типы признаков\n",
    "        cat_features = ['position', 'experience_ord', 'schedule', 'employment', 'level_ord', 'vacancy_clustered', 'region']\n",
    "        text_features = ['skills_str']\n",
    "\n",
    "        # 4. Разбиение на train/test\n",
    "        try:\n",
    "            splitter = StratifiedShuffleSplit(n_splits=1, test_size=0.2, random_state=42)\n",
    "            for train_idx, test_idx in splitter.split(X, df_temp['position']):\n",
    "                X_train, X_test = X.iloc[train_idx], X.iloc[test_idx]\n",
    "                y_train, y_test = y.iloc[train_idx], y.iloc[test_idx]\n",
    "                \n",
    "                # 5. Создаем Pool с минимальными параметрами\n",
    "                train_pool = Pool(\n",
    "                    data=X_train,\n",
    "                    label=y_train,\n",
    "                    cat_features=cat_features,\n",
    "                    text_features=text_features\n",
    "                )\n",
    "                \n",
    "                test_pool = Pool(\n",
    "                    data=X_test,\n",
    "                    label=y_test,\n",
    "                    cat_features=cat_features,\n",
    "                    text_features=text_features\n",
    "                )\n",
    "\n",
    "        except ValueError as e:\n",
    "            print(f\"Ошибка split при skill_n={skill_n}, vac_n={vac_n}: {e}\")\n",
    "            continue\n",
    "\n",
    "        # 6. Упрощенная модель без сложной обработки текста\n",
    "        model = CatBoostRegressor(\n",
    "            iterations=1000,\n",
    "            learning_rate=0.05,\n",
    "            depth=6,\n",
    "            task_type='GPU',\n",
    "            verbose=100\n",
    "        )\n",
    "\n",
    "        # 7. Обучение с базовыми параметрами\n",
    "        model.fit(train_pool, eval_set=test_pool)\n",
    "\n",
    "        y_pred = model.predict(X_test)\n",
    "        \n",
    "        \n",
    "        #y_pred = np.expm1(y_pred)\n",
    "        \n",
    "        #mae = mean_absolute_error(np.expm1(y_test), y_pred)\n",
    "        #r2 = r2_score(np.expm1(y_test),  y_pred)\n",
    "        \n",
    "        mae = mean_absolute_error(y_test, y_pred)\n",
    "        r2 = r2_score(y_test,  y_pred)\n",
    "\n",
    "        results.append({\n",
    "            'top_skills': skill_n,\n",
    "            'top_vacancies': vac_n,\n",
    "            'mae': mae,\n",
    "            'r2': r2,\n",
    "            'rows': len(df_temp)\n",
    "        })\n",
    "\n",
    "# Переводим результаты в DataFrame\n",
    "results_df = pd.DataFrame(results)\n",
    "\n",
    "# Визуализация результатов\n",
    "plt.figure(figsize=(14, 6))\n",
    "\n",
    "plt.subplot(1, 2, 1)\n",
    "pivot_mae = results_df.pivot(index='top_skills', columns='top_vacancies', values='mae')\n",
    "sns.heatmap(pivot_mae, annot=True, fmt=\".2f\", cmap=\"YlGnBu\")\n",
    "plt.title('MAE')\n",
    "plt.xlabel('Top-N вакансий')\n",
    "plt.ylabel('Top-N скиллов')\n",
    "\n",
    "plt.subplot(1, 2, 2)\n",
    "pivot_r2 = results_df.pivot(index='top_skills', columns='top_vacancies', values='r2')\n",
    "sns.heatmap(pivot_r2, annot=True, fmt=\".2f\", cmap=\"YlGnBu\")\n",
    "plt.title('R²')\n",
    "plt.xlabel('Top-N вакансий')\n",
    "plt.ylabel('Top-N скиллов')\n",
    "\n",
    "plt.tight_layout()\n",
    "plt.show()\n",
    "\n",
    "# Вывод лучшего сочетания\n",
    "best_row = results_df.sort_values(by='mae').iloc[0]\n",
    "print(f\"Лучшее сочетание по MAE:\\nTop Skills: {best_row['top_skills']}, \"\n",
    "      f\"Top Vacancies: {best_row['top_vacancies']}, \"\n",
    "      f\"MAE: {best_row['mae']:.2f}, R²: {best_row['r2']:.2f}\")\n",
    "\n",
    "\n",
    "\n"
   ]
  },
  {
   "cell_type": "markdown",
   "id": "39f91701",
   "metadata": {},
   "source": [
    "Лучшее сочетание по MAE:\n",
    "Top Skills: 30.0, Top Vacancies: 30.0, MAE: 16016.85, R²: 0.76"
   ]
  },
  {
   "cell_type": "code",
   "execution_count": 20,
   "id": "754f196a",
   "metadata": {},
   "outputs": [
    {
     "data": {
      "image/png": "[encoded data removed]",
      "text/plain": [
       "<Figure size 1000x800 with 1 Axes>"
      ]
     },
     "metadata": {},
     "output_type": "display_data"
    }
   ],
   "source": [
    "# Получаем важность признаков\n",
    "feature_importance = model.get_feature_importance()\n",
    "# Сортируем и получаем топ-20\n",
    "indices = np.argsort(feature_importance)[::-1][:20]\n",
    "names = [features[i] for i in indices]\n",
    "scores = [feature_importance[i] for i in indices]\n",
    "\n",
    "# Создаем горизонтальный bar plot\n",
    "plt.figure(figsize=(10, 8))\n",
    "plt.barh(range(len(names)), scores, align='center', color='skyblue')\n",
    "plt.yticks(range(len(names)), names)\n",
    "plt.xlabel('Важность признака')\n",
    "plt.title('Top-20 самых важных признаков для прогноза з/п (CatBoost)')\n",
    "# Важный момент: инвертируем ось Y, чтобы самый важный признак был сверху\n",
    "plt.gca().invert_yaxis()\n",
    "plt.tight_layout()\n",
    "plt.show()"
   ]
  },
  {
   "cell_type": "code",
   "execution_count": null,
   "id": "e98bac84",
   "metadata": {},
   "outputs": [
    {
     "name": "stdout",
     "output_type": "stream",
     "text": [
      "Подготовка данных...\n"
     ]
    },
    {
     "name": "stderr",
     "output_type": "stream",
     "text": [
      "[I 2025-09-07 18:17:10,226] A new study created in memory with name: no-name-46c717ab-4083-42b3-8f25-f51515eaee24\n"
     ]
    },
    {
     "name": "stdout",
     "output_type": "stream",
     "text": [
      "Размер данных после фильтрации: (8653, 7)\n",
      "Запуск оптимизации гиперпараметров...\n"
     ]
    },
    {
     "data": {
      "application/vnd.jupyter.widget-view+json": {
       "model_id": "4bb3da76c0db4a108c516b5f68c32133",
       "version_major": 2,
       "version_minor": 0
      },
      "text/plain": [
       "  0%|          | 0/40 [00:00<?, ?it/s]"
      ]
     },
     "metadata": {},
     "output_type": "display_data"
    },
    {
     "name": "stdout",
     "output_type": "stream",
     "text": [
      "[I 2025-09-07 18:17:15,421] Trial 0 finished with value: 17054.61365094484 and parameters: {'iterations': 1062, 'learning_rate': 0.2536999076681772, 'depth': 9, 'l2_leaf_reg': 6.387926357773329, 'random_strength': 1.6445845403801216, 'bagging_temperature': 0.15599452033620265, 'border_count': 45, 'min_data_in_leaf': 87, 'grow_policy': 'Depthwise'}. Best is trial 0 with value: 17054.61365094484.\n",
      "[I 2025-09-07 18:17:18,865] Trial 1 finished with value: 16994.8721793494 and parameters: {'iterations': 1955, 'learning_rate': 0.16967533607196555, 'depth': 5, 'l2_leaf_reg': 2.636424704863906, 'random_strength': 1.915704647548995, 'bagging_temperature': 0.3042422429595377, 'border_count': 149, 'min_data_in_leaf': 44, 'grow_policy': 'Depthwise'}. Best is trial 1 with value: 16994.8721793494.\n",
      "[I 2025-09-07 18:17:49,248] Trial 2 finished with value: 16879.161008061797 and parameters: {'iterations': 938, 'learning_rate': 0.03476649150592621, 'depth': 7, 'l2_leaf_reg': 8.066583652537123, 'random_strength': 2.0767704433677614, 'bagging_temperature': 0.5142344384136116, 'border_count': 164, 'min_data_in_leaf': 5, 'grow_policy': 'SymmetricTree'}. Best is trial 2 with value: 16879.161008061797.\n",
      "[I 2025-09-07 18:17:53,424] Trial 3 finished with value: 16872.510460344853 and parameters: {'iterations': 1924, 'learning_rate': 0.26690431824362526, 'depth': 9, 'l2_leaf_reg': 3.741523922560336, 'random_strength': 1.0669539286632004, 'bagging_temperature': 0.6842330265121569, 'border_count': 130, 'min_data_in_leaf': 13, 'grow_policy': 'Lossguide'}. Best is trial 3 with value: 16872.510460344853.\n",
      "[I 2025-09-07 18:18:06,102] Trial 4 finished with value: 17052.979438792336 and parameters: {'iterations': 888, 'learning_rate': 0.09519754482692679, 'depth': 6, 'l2_leaf_reg': 5.680612190600297, 'random_strength': 5.5124317654984685, 'bagging_temperature': 0.18485445552552704, 'border_count': 249, 'min_data_in_leaf': 78, 'grow_policy': 'SymmetricTree'}. Best is trial 3 with value: 16872.510460344853.\n",
      "[I 2025-09-07 18:18:17,521] Trial 5 finished with value: 16928.27367988948 and parameters: {'iterations': 1883, 'learning_rate': 0.01351182947645082, 'depth': 5, 'l2_leaf_reg': 1.4070456001948426, 'random_strength': 3.3207702745563172, 'bagging_temperature': 0.388677289689482, 'border_count': 92, 'min_data_in_leaf': 83, 'grow_policy': 'Lossguide'}. Best is trial 3 with value: 16872.510460344853.\n",
      "[I 2025-09-07 18:18:21,781] Trial 6 finished with value: 16846.35837248992 and parameters: {'iterations': 711, 'learning_rate': 0.1530883741573138, 'depth': 4, 'l2_leaf_reg': 9.881982429404655, 'random_strength': 7.7452232160369086, 'bagging_temperature': 0.1987156815341724, 'border_count': 33, 'min_data_in_leaf': 82, 'grow_policy': 'Lossguide'}. Best is trial 6 with value: 16846.35837248992.\n",
      "[I 2025-09-07 18:18:28,923] Trial 7 finished with value: 17069.266455372504 and parameters: {'iterations': 611, 'learning_rate': 0.0338452204120114, 'depth': 4, 'l2_leaf_reg': 8.767930832880342, 'random_strength': 6.270651455592823, 'bagging_temperature': 0.3308980248526492, 'border_count': 46, 'min_data_in_leaf': 32, 'grow_policy': 'Depthwise'}. Best is trial 6 with value: 16846.35837248992.\n",
      "[I 2025-09-07 18:18:59,436] Trial 8 finished with value: 17092.57234362348 and parameters: {'iterations': 1831, 'learning_rate': 0.049833191601257244, 'depth': 4, 'l2_leaf_reg': 7.419203085006955, 'random_strength': 7.631771981307285, 'bagging_temperature': 0.5612771975694962, 'border_count': 204, 'min_data_in_leaf': 50, 'grow_policy': 'SymmetricTree'}. Best is trial 6 with value: 16846.35837248992.\n",
      "[I 2025-09-07 18:19:30,862] Trial 9 finished with value: 17383.14199848261 and parameters: {'iterations': 661, 'learning_rate': 0.011128194768838964, 'depth': 8, 'l2_leaf_reg': 3.82920382968694, 'random_strength': 5.134849842530557, 'bagging_temperature': 0.907566473926093, 'border_count': 87, 'min_data_in_leaf': 42, 'grow_policy': 'SymmetricTree'}. Best is trial 6 with value: 16846.35837248992.\n",
      "[I 2025-09-07 18:19:35,425] Trial 10 finished with value: 16801.00448115361 and parameters: {'iterations': 1520, 'learning_rate': 0.11041930924484174, 'depth': 10, 'l2_leaf_reg': 9.594958828955292, 'random_strength': 9.794925336192337, 'bagging_temperature': 0.038725199961182954, 'border_count': 89, 'min_data_in_leaf': 67, 'grow_policy': 'Lossguide'}. Best is trial 10 with value: 16801.00448115361.\n",
      "[I 2025-09-07 18:19:39,911] Trial 11 finished with value: 16812.318304696644 and parameters: {'iterations': 1474, 'learning_rate': 0.11511579879447058, 'depth': 10, 'l2_leaf_reg': 9.628019905595256, 'random_strength': 9.898646984746904, 'bagging_temperature': 0.01836654474703235, 'border_count': 85, 'min_data_in_leaf': 68, 'grow_policy': 'Lossguide'}. Best is trial 10 with value: 16801.00448115361.\n",
      "[I 2025-09-07 18:19:45,044] Trial 12 finished with value: 16710.64489548925 and parameters: {'iterations': 1516, 'learning_rate': 0.08995147228189711, 'depth': 10, 'l2_leaf_reg': 9.98888897814075, 'random_strength': 9.971695006545405, 'bagging_temperature': 0.04536761806983141, 'border_count': 107, 'min_data_in_leaf': 71, 'grow_policy': 'Lossguide'}. Best is trial 12 with value: 16710.64489548925.\n",
      "[I 2025-09-07 18:19:50,410] Trial 13 finished with value: 16724.379051102027 and parameters: {'iterations': 1480, 'learning_rate': 0.07463960015355815, 'depth': 10, 'l2_leaf_reg': 9.994261947773962, 'random_strength': 9.860749152912637, 'bagging_temperature': 0.02554949481054314, 'border_count': 117, 'min_data_in_leaf': 100, 'grow_policy': 'Lossguide'}. Best is trial 12 with value: 16710.64489548925.\n",
      "[I 2025-09-07 18:19:55,413] Trial 14 finished with value: 16651.322435078917 and parameters: {'iterations': 1404, 'learning_rate': 0.0655758773512342, 'depth': 9, 'l2_leaf_reg': 7.642885079136095, 'random_strength': 8.591639846078934, 'bagging_temperature': 0.021271302968900514, 'border_count': 125, 'min_data_in_leaf': 100, 'grow_policy': 'Lossguide'}. Best is trial 14 with value: 16651.322435078917.\n",
      "[I 2025-09-07 18:20:00,542] Trial 15 finished with value: 16721.122740646108 and parameters: {'iterations': 1269, 'learning_rate': 0.06680039029936745, 'depth': 8, 'l2_leaf_reg': 7.339012161589924, 'random_strength': 8.274075327093126, 'bagging_temperature': 0.13256648379033895, 'border_count': 183, 'min_data_in_leaf': 100, 'grow_policy': 'Lossguide'}. Best is trial 14 with value: 16651.322435078917.\n",
      "[I 2025-09-07 18:20:07,305] Trial 16 finished with value: 16652.065064559476 and parameters: {'iterations': 1646, 'learning_rate': 0.049843875193558436, 'depth': 9, 'l2_leaf_reg': 8.521743087412077, 'random_strength': 8.42131819811029, 'bagging_temperature': 0.012073509804772644, 'border_count': 116, 'min_data_in_leaf': 65, 'grow_policy': 'Lossguide'}. Best is trial 14 with value: 16651.322435078917.\n",
      "[I 2025-09-07 18:20:13,811] Trial 17 finished with value: 16734.637439751124 and parameters: {'iterations': 1727, 'learning_rate': 0.044207413119892805, 'depth': 8, 'l2_leaf_reg': 8.440027285137498, 'random_strength': 6.547130847152669, 'bagging_temperature': 0.2777044688017529, 'border_count': 214, 'min_data_in_leaf': 58, 'grow_policy': 'Lossguide'}. Best is trial 14 with value: 16651.322435078917.\n",
      "[I 2025-09-07 18:20:22,741] Trial 18 finished with value: 16698.284743970056 and parameters: {'iterations': 1220, 'learning_rate': 0.024550704048609644, 'depth': 9, 'l2_leaf_reg': 6.76341362114749, 'random_strength': 8.525853770432617, 'bagging_temperature': 0.42402282782175205, 'border_count': 149, 'min_data_in_leaf': 25, 'grow_policy': 'Lossguide'}. Best is trial 14 with value: 16651.322435078917.\n",
      "[I 2025-09-07 18:20:28,289] Trial 19 finished with value: 16902.220799461455 and parameters: {'iterations': 1697, 'learning_rate': 0.05987622978595957, 'depth': 7, 'l2_leaf_reg': 7.846496480653244, 'random_strength': 4.161182183634167, 'bagging_temperature': 0.12762541783550602, 'border_count': 66, 'min_data_in_leaf': 94, 'grow_policy': 'Depthwise'}. Best is trial 14 with value: 16651.322435078917.\n",
      "[I 2025-09-07 18:20:38,224] Trial 20 finished with value: 16697.573122428334 and parameters: {'iterations': 1305, 'learning_rate': 0.02179541759111377, 'depth': 9, 'l2_leaf_reg': 8.7872087832149, 'random_strength': 6.661845399070092, 'bagging_temperature': 0.2400784928737374, 'border_count': 175, 'min_data_in_leaf': 60, 'grow_policy': 'Lossguide'}. Best is trial 14 with value: 16651.322435078917.\n",
      "[I 2025-09-07 18:20:48,110] Trial 21 finished with value: 16654.22182078715 and parameters: {'iterations': 1297, 'learning_rate': 0.02073723058709314, 'depth': 9, 'l2_leaf_reg': 8.867364767579069, 'random_strength': 6.897806119110023, 'bagging_temperature': 0.23316060143835957, 'border_count': 165, 'min_data_in_leaf': 62, 'grow_policy': 'Lossguide'}. Best is trial 14 with value: 16651.322435078917.\n",
      "[I 2025-09-07 18:20:53,583] Trial 22 finished with value: 16704.159416987426 and parameters: {'iterations': 1644, 'learning_rate': 0.04767102604391957, 'depth': 8, 'l2_leaf_reg': 8.613169232717711, 'random_strength': 8.627810321873493, 'bagging_temperature': 0.10534496215772954, 'border_count': 132, 'min_data_in_leaf': 62, 'grow_policy': 'Lossguide'}. Best is trial 14 with value: 16651.322435078917.\n",
      "[I 2025-09-07 18:21:04,405] Trial 23 finished with value: 16714.741955751462 and parameters: {'iterations': 1366, 'learning_rate': 0.018064388755304594, 'depth': 9, 'l2_leaf_reg': 7.04368078726691, 'random_strength': 7.216716822812515, 'bagging_temperature': 0.10165354835534658, 'border_count': 120, 'min_data_in_leaf': 76, 'grow_policy': 'Lossguide'}. Best is trial 14 with value: 16651.322435078917.\n",
      "[I 2025-09-07 18:21:13,531] Trial 24 finished with value: 16693.512073373837 and parameters: {'iterations': 1145, 'learning_rate': 0.03256718954130615, 'depth': 8, 'l2_leaf_reg': 7.78907339521748, 'random_strength': 8.807712232196875, 'bagging_temperature': 0.00987701582652398, 'border_count': 154, 'min_data_in_leaf': 54, 'grow_policy': 'Lossguide'}. Best is trial 14 with value: 16651.322435078917.\n",
      "[I 2025-09-07 18:21:21,140] Trial 25 finished with value: 16704.71734750639 and parameters: {'iterations': 1392, 'learning_rate': 0.06052647639569964, 'depth': 9, 'l2_leaf_reg': 9.038571394124736, 'random_strength': 7.0860744804652045, 'bagging_temperature': 0.24014298958881808, 'border_count': 192, 'min_data_in_leaf': 91, 'grow_policy': 'Lossguide'}. Best is trial 14 with value: 16651.322435078917.\n",
      "[I 2025-09-07 18:21:34,700] Trial 26 finished with value: 16694.98797232302 and parameters: {'iterations': 1605, 'learning_rate': 0.016373583021473362, 'depth': 7, 'l2_leaf_reg': 6.319815354704606, 'random_strength': 6.0650662562478725, 'bagging_temperature': 0.1897605328584773, 'border_count': 219, 'min_data_in_leaf': 34, 'grow_policy': 'Lossguide'}. Best is trial 14 with value: 16651.322435078917.\n",
      "[I 2025-09-07 18:21:44,627] Trial 27 finished with value: 16672.35866632764 and parameters: {'iterations': 1034, 'learning_rate': 0.026290012729071683, 'depth': 10, 'l2_leaf_reg': 8.011295490550811, 'random_strength': 7.951336332271869, 'bagging_temperature': 0.08379744743032504, 'border_count': 135, 'min_data_in_leaf': 50, 'grow_policy': 'Lossguide'}. Best is trial 14 with value: 16651.322435078917.\n",
      "[I 2025-09-07 18:22:14,544] Trial 28 finished with value: 16968.55869100607 and parameters: {'iterations': 1755, 'learning_rate': 0.04288667822121581, 'depth': 6, 'l2_leaf_reg': 9.266532197982883, 'random_strength': 9.03251000359181, 'bagging_temperature': 0.008197633366048387, 'border_count': 105, 'min_data_in_leaf': 71, 'grow_policy': 'SymmetricTree'}. Best is trial 14 with value: 16651.322435078917.\n",
      "[I 2025-09-07 18:22:23,938] Trial 29 finished with value: 16845.165671285533 and parameters: {'iterations': 1164, 'learning_rate': 0.07542709534529454, 'depth': 9, 'l2_leaf_reg': 8.379006694934898, 'random_strength': 7.041982452484128, 'bagging_temperature': 0.13211379058046704, 'border_count': 169, 'min_data_in_leaf': 88, 'grow_policy': 'Depthwise'}. Best is trial 14 with value: 16651.322435078917.\n",
      "[I 2025-09-07 18:22:33,317] Trial 30 finished with value: 16686.43482463051 and parameters: {'iterations': 1071, 'learning_rate': 0.03826872356436086, 'depth': 9, 'l2_leaf_reg': 6.190480525116826, 'random_strength': 9.12575100238578, 'bagging_temperature': 0.1766184053769324, 'border_count': 59, 'min_data_in_leaf': 23, 'grow_policy': 'Depthwise'}. Best is trial 14 with value: 16651.322435078917.\n",
      "[I 2025-09-07 18:22:43,552] Trial 31 finished with value: 16603.546020272777 and parameters: {'iterations': 956, 'learning_rate': 0.02732361681926645, 'depth': 10, 'l2_leaf_reg': 7.899511609358967, 'random_strength': 7.937743579871258, 'bagging_temperature': 0.07856525216914066, 'border_count': 135, 'min_data_in_leaf': 48, 'grow_policy': 'Lossguide'}. Best is trial 31 with value: 16603.546020272777.\n",
      "[I 2025-09-07 18:22:52,689] Trial 32 finished with value: 16664.516398772263 and parameters: {'iterations': 870, 'learning_rate': 0.02873305120807763, 'depth': 10, 'l2_leaf_reg': 9.04884389463294, 'random_strength': 7.938400939115327, 'bagging_temperature': 0.08277524493045628, 'border_count': 147, 'min_data_in_leaf': 46, 'grow_policy': 'Lossguide'}. Best is trial 31 with value: 16603.546020272777.\n",
      "[I 2025-09-07 18:23:03,472] Trial 33 finished with value: 16690.04487619675 and parameters: {'iterations': 1359, 'learning_rate': 0.022346494151819444, 'depth': 10, 'l2_leaf_reg': 7.450844324363823, 'random_strength': 7.489927207082037, 'bagging_temperature': 0.08976038114364726, 'border_count': 162, 'min_data_in_leaf': 35, 'grow_policy': 'Lossguide'}. Best is trial 31 with value: 16603.546020272777.\n",
      "[I 2025-09-07 18:23:09,332] Trial 34 finished with value: 16695.973476928313 and parameters: {'iterations': 752, 'learning_rate': 0.05176225328189475, 'depth': 8, 'l2_leaf_reg': 8.237946518466686, 'random_strength': 8.234745350340756, 'bagging_temperature': 0.16926218145898975, 'border_count': 123, 'min_data_in_leaf': 42, 'grow_policy': 'Lossguide'}. Best is trial 31 with value: 16603.546020272777.\n",
      "[I 2025-09-07 18:23:16,432] Trial 35 finished with value: 16678.67220787875 and parameters: {'iterations': 983, 'learning_rate': 0.037883257495150605, 'depth': 9, 'l2_leaf_reg': 6.7490583054581945, 'random_strength': 9.198774251718202, 'bagging_temperature': 0.06981749413957478, 'border_count': 107, 'min_data_in_leaf': 64, 'grow_policy': 'Lossguide'}. Best is trial 31 with value: 16603.546020272777.\n",
      "[I 2025-09-07 18:24:01,634] Trial 36 finished with value: 16999.098036062427 and parameters: {'iterations': 809, 'learning_rate': 0.02817767096064797, 'depth': 9, 'l2_leaf_reg': 8.028286926790624, 'random_strength': 5.890988821205891, 'bagging_temperature': 0.24148686722799345, 'border_count': 140, 'min_data_in_leaf': 75, 'grow_policy': 'SymmetricTree'}. Best is trial 31 with value: 16603.546020272777.\n",
      "[I 2025-09-07 18:24:13,004] Trial 37 finished with value: 16683.64285477411 and parameters: {'iterations': 1995, 'learning_rate': 0.017971359636599762, 'depth': 10, 'l2_leaf_reg': 9.245166796643232, 'random_strength': 6.883182156373351, 'bagging_temperature': 0.13656873117142262, 'border_count': 159, 'min_data_in_leaf': 55, 'grow_policy': 'Lossguide'}. Best is trial 31 with value: 16603.546020272777.\n",
      "[I 2025-09-07 18:24:20,615] Trial 38 finished with value: 16841.197189489147 and parameters: {'iterations': 1102, 'learning_rate': 0.033047668316162966, 'depth': 7, 'l2_leaf_reg': 8.595359594093347, 'random_strength': 7.489852855688712, 'bagging_temperature': 0.31948009610684897, 'border_count': 188, 'min_data_in_leaf': 82, 'grow_policy': 'Depthwise'}. Best is trial 31 with value: 16603.546020272777.\n",
      "[I 2025-09-07 18:24:26,623] Trial 39 finished with value: 16668.45506197327 and parameters: {'iterations': 1576, 'learning_rate': 0.055748841073036466, 'depth': 6, 'l2_leaf_reg': 7.625413349305886, 'random_strength': 8.138724673062349, 'bagging_temperature': 0.0005598588836672209, 'border_count': 101, 'min_data_in_leaf': 12, 'grow_policy': 'Lossguide'}. Best is trial 31 with value: 16603.546020272777.\n",
      "Лучшие параметры:\n",
      "{'iterations': 956, 'learning_rate': 0.02732361681926645, 'depth': 10, 'l2_leaf_reg': 7.899511609358967, 'random_strength': 7.937743579871258, 'bagging_temperature': 0.07856525216914066, 'border_count': 135, 'min_data_in_leaf': 48, 'grow_policy': 'Lossguide'}\n",
      "Лучшее MAE: 16603.5460\n",
      "Обучение финальной модели с лучшими параметрами...\n",
      "0:\tlearn: 44690.2427729\ttest: 43801.0967212\tbest: 43801.0967212 (0)\ttotal: 17.4ms\tremaining: 16.6s\n",
      "100:\tlearn: 21898.2780352\ttest: 22697.6480835\tbest: 22697.6480835 (100)\ttotal: 1.54s\tremaining: 13.1s\n",
      "200:\tlearn: 20250.3483486\ttest: 22083.5978080\tbest: 22083.5978080 (200)\ttotal: 2.95s\tremaining: 11.1s\n",
      "300:\tlearn: 19512.4746138\ttest: 21972.0116758\tbest: 21972.0116758 (300)\ttotal: 4.2s\tremaining: 9.13s\n",
      "400:\tlearn: 19000.9759095\ttest: 21949.4980460\tbest: 21949.4980460 (400)\ttotal: 5.47s\tremaining: 7.57s\n",
      "500:\tlearn: 18559.6871677\ttest: 21957.5448496\tbest: 21943.8328170 (449)\ttotal: 6.66s\tremaining: 6.04s\n",
      "600:\tlearn: 18191.6133663\ttest: 21982.9498411\tbest: 21943.8328170 (449)\ttotal: 7.84s\tremaining: 4.63s\n",
      "700:\tlearn: 17861.4227318\ttest: 22011.8474716\tbest: 21943.8328170 (449)\ttotal: 9s\tremaining: 3.27s\n",
      "800:\tlearn: 17561.0718931\ttest: 22037.6124891\tbest: 21943.8328170 (449)\ttotal: 10.2s\tremaining: 1.97s\n",
      "900:\tlearn: 17250.8920463\ttest: 22056.4712856\tbest: 21943.8328170 (449)\ttotal: 11.4s\tremaining: 696ms\n",
      "955:\tlearn: 17121.4901554\ttest: 22069.6939050\tbest: 21943.8328170 (449)\ttotal: 12s\tremaining: 0us\n",
      "bestTest = 21943.83282\n",
      "bestIteration = 449\n",
      "Shrink model to first 450 iterations.\n",
      "Финальное MAE: 16603.5460\n",
      "Финальное R2: 0.7585\n",
      "Оптимизация завершена!\n"
     ]
    }
   ],
   "source": [
    "# пробуем оптимизировать гиперпараметры\n",
    "\n",
    "import optuna\n",
    "from optuna.samplers import TPESampler\n",
    "import pandas as pd\n",
    "import numpy as np\n",
    "from catboost import CatBoostRegressor, Pool\n",
    "from sklearn.metrics import mean_absolute_error, r2_score\n",
    "from sklearn.model_selection import StratifiedShuffleSplit\n",
    "from tqdm import tqdm\n",
    "import warnings\n",
    "warnings.filterwarnings('ignore')\n",
    "\n",
    "# Фиксируем параметры\n",
    "top_skills = 30\n",
    "top_vacancies = 10000\n",
    "\n",
    "# Список позиций, которые оставляем\n",
    "allowed_positions = [\n",
    "    \"Аналитик\",\n",
    "    \"Бизнес-аналитик\",\n",
    "    \"Дизайнер, художник\",\n",
    "    \"Продуктовый аналитик\",\n",
    "    \"Руководитель проектов\",\n",
    "    \"Сетевой инженер\",\n",
    "    \"Системный администратор\",\n",
    "    \"Специалист по информационной безопасности\",\n",
    "    \"Специалист технической поддержки\",\n",
    "    \"Технический писатель\"\n",
    "]\n",
    "allowed_positions2 = [\n",
    "    \"Аналитик\",\n",
    "    \"Бизнес-аналитик\",\n",
    "    \"Дата-сайентист\",\n",
    "    \"Дизайнер, художник\",\n",
    "    \"Программист, разработчик\",\n",
    "    \"Продуктовый аналитик\",\n",
    "    \"Руководитель проектов\",\n",
    "    \"Сетевой инженер\",\n",
    "    \"Системный администратор\",\n",
    "    \"Системный аналитик\",\n",
    "    \"Специалист по информационной безопасности\",\n",
    "    \"Специалист технической поддержки\",\n",
    "    \"Технический писатель\",\n",
    "    'Тестировщик',\n",
    "    'Менеджер продукта',\n",
    "    'Системный инженер',\n",
    "    'BI-аналитик, аналитик данных',\n",
    "    'Методолог',\n",
    "    'Руководитель группы разработки'\n",
    "\n",
    "]\n",
    "\n",
    "# Функция для подготовки данных\n",
    "def prepare_data(df_train_result, top_skills, top_vacancies):\n",
    "    # Фильтрация по топ-N скилов\n",
    "    df_skills_filtered = filtered_skills_top_n(df_train_result.copy(), top_skills)\n",
    "    df_skills_filtered = df_skills_filtered[df_skills_filtered['mapped_skills'].apply(lambda x: len(x) > 0)]\n",
    "    \n",
    "    # Фильтрация по топ-N вакансий внутри позиции\n",
    "    def filter_top_vacancies(group, n=top_vacancies):\n",
    "        vac_counts = group['vacancy_clustered'].value_counts()\n",
    "        top_vacancies = vac_counts.head(n).index.tolist()\n",
    "        return group[group['vacancy_clustered'].isin(top_vacancies)]\n",
    "    \n",
    "    df_filtered = df_skills_filtered.groupby('position', group_keys=False).apply(filter_top_vacancies).reset_index(drop=True)\n",
    "    df_filtered = df_filtered[df_filtered['position'].isin(allowed_positions)] # \n",
    "    \n",
    "    # Обработка целевой переменной\n",
    "    df_temp = df_filtered.copy()\n",
    "    \n",
    "    # Очистка целевой переменной от выбросов\n",
    "    positions_temp = df_temp['position'].dropna().unique()\n",
    "    for pos in positions_temp:\n",
    "        pos_mask = df_temp['position'] == pos\n",
    "        clean_series = process_series(df_temp.loc[pos_mask, 'salary from'], 'salary from', pos)\n",
    "        if clean_series is not None:\n",
    "            df_temp.loc[clean_series.index, 'salary from norm'] = clean_series\n",
    "    \n",
    "    # Удалим строки с NaN после очистки\n",
    "    df_temp = df_temp.dropna(subset=['salary from norm'])\n",
    "    \n",
    "    if df_temp.empty:\n",
    "        return None, None, None, None\n",
    "    \n",
    "    # Подготовка признаков\n",
    "    y = df_temp['salary from norm']\n",
    "    \n",
    "    # Порядковое кодирование\n",
    "    experience_order = {\n",
    "        'Нет опыта': 0,\n",
    "        '1–3 года': 1,\n",
    "        '3–6 лет': 2,\n",
    "        'Более 6 лет': 3,\n",
    "        'Unknown': -1\n",
    "    }\n",
    "\n",
    "    level_order = {\n",
    "        'Trainee': 0,\n",
    "        'Junior': 1,\n",
    "        'Middle': 2,\n",
    "        'Senior': 3,\n",
    "        'Lead': 4,\n",
    "        'Chief': 5,\n",
    "        'Unknown': -1\n",
    "    }\n",
    "    \n",
    "    df_temp['experience_ord'] = df_temp['experience'].map(experience_order)\n",
    "    df_temp['level_ord'] = df_temp['level'].map(level_order)\n",
    "    df_temp['skills_str'] = df_temp['mapped_skills'].apply(\n",
    "        lambda x: ', '.join(map(str, x)) if isinstance(x, list) else str(x)\n",
    "    )\n",
    "    \n",
    "    features = ['position', 'experience_ord', 'schedule', 'employment', 'level_ord', 'skills_str', 'region'] # , 'vacancy_clustered'\n",
    "    X = df_temp[features]\n",
    "    \n",
    "    cat_features = ['position', 'experience_ord', 'schedule', 'employment', 'level_ord', 'region'] # , 'vacancy_clustered'\n",
    "    text_features = ['skills_str']\n",
    "    \n",
    "    return X, y, cat_features, text_features\n",
    "\n",
    "# Функция для создания train/test split\n",
    "def create_train_test_split(X, y, cat_features, text_features):\n",
    "    try:\n",
    "        splitter = StratifiedShuffleSplit(n_splits=1, test_size=0.2, random_state=42)\n",
    "        for train_idx, test_idx in splitter.split(X, X['position']):\n",
    "            X_train, X_test = X.iloc[train_idx], X.iloc[test_idx]\n",
    "            y_train, y_test = y.iloc[train_idx], y.iloc[test_idx]\n",
    "            \n",
    "            train_pool = Pool(\n",
    "                data=X_train,\n",
    "                label=y_train,\n",
    "                cat_features=cat_features,\n",
    "                text_features=text_features\n",
    "            )\n",
    "            \n",
    "            test_pool = Pool(\n",
    "                data=X_test,\n",
    "                label=y_test,\n",
    "                cat_features=cat_features,\n",
    "                text_features=text_features\n",
    "            )\n",
    "            \n",
    "            return train_pool, test_pool, X_test, y_test\n",
    "            \n",
    "    except Exception as e:\n",
    "        print(f\"Ошибка при создании split: {e}\")\n",
    "        return None, None, None, None\n",
    "\n",
    "# Функция оптимизации Optuna\n",
    "def objective(trial):\n",
    "    # Подготовка данных\n",
    "    X, y, cat_features, text_features = prepare_data(df_train_result.copy(), top_skills, top_vacancies)\n",
    "    if X is None:\n",
    "        return float('inf')\n",
    "    \n",
    "    # Создание train/test split\n",
    "    train_pool, test_pool, X_test, y_test = create_train_test_split(X, y, cat_features, text_features)\n",
    "    if train_pool is None:\n",
    "        return float('inf')\n",
    "    \n",
    "    # Параметры для оптимизации\n",
    "    params = {\n",
    "        'iterations': trial.suggest_int('iterations', 500, 2000),\n",
    "        'learning_rate': trial.suggest_float('learning_rate', 0.01, 0.3, log=True),\n",
    "        'depth': trial.suggest_int('depth', 4, 10),\n",
    "        'l2_leaf_reg': trial.suggest_float('l2_leaf_reg', 1, 10),\n",
    "        'random_strength': trial.suggest_float('random_strength', 0.1, 10),\n",
    "        'bagging_temperature': trial.suggest_float('bagging_temperature', 0.0, 1.0),\n",
    "        'border_count': trial.suggest_int('border_count', 32, 255),\n",
    "        'min_data_in_leaf': trial.suggest_int('min_data_in_leaf', 1, 100),\n",
    "        'grow_policy': trial.suggest_categorical('grow_policy', ['SymmetricTree', 'Depthwise', 'Lossguide']),\n",
    "        'verbose': False\n",
    "    }\n",
    "    \n",
    "    # Обучение модели\n",
    "    model = CatBoostRegressor(\n",
    "        task_type='GPU',\n",
    "        **params\n",
    "    )\n",
    "    \n",
    "    try:\n",
    "        model.fit(train_pool, eval_set=test_pool, early_stopping_rounds=100, verbose=0)\n",
    "        y_pred = model.predict(X_test)\n",
    "        mae = mean_absolute_error(y_test, y_pred)\n",
    "        return mae\n",
    "    except Exception as e:\n",
    "        print(f\"Ошибка при обучении: {e}\")\n",
    "        return float('inf')\n",
    "\n",
    "# Основной код оптимизации\n",
    "print(\"Подготовка данных...\")\n",
    "X, y, cat_features, text_features = prepare_data(df_train_result.copy(), top_skills, top_vacancies)\n",
    "print(f\"Размер данных после фильтрации: {X.shape if X is not None else 0}\")\n",
    "\n",
    "# Создаем исследование Optuna\n",
    "study = optuna.create_study(\n",
    "    direction='minimize',\n",
    "    sampler=TPESampler(seed=42)\n",
    ")\n",
    "\n",
    "print(\"Запуск оптимизации гиперпараметров...\")\n",
    "study.optimize(objective, n_trials=40, show_progress_bar=True)\n",
    "\n",
    "# Вывод результатов\n",
    "print(\"Лучшие параметры:\")\n",
    "print(study.best_params)\n",
    "print(f\"Лучшее MAE: {study.best_value:.4f}\")\n",
    "\n",
    "# Обучение финальной модели с лучшими параметрами\n",
    "print(\"Обучение финальной модели с лучшими параметрами...\")\n",
    "\n",
    "# Подготовка данных для финального обучения\n",
    "X, y, cat_features, text_features = prepare_data(df_train_result.copy(), top_skills, top_vacancies)\n",
    "train_pool, test_pool, X_test, y_test = create_train_test_split(X, y, cat_features, text_features)\n",
    "\n",
    "# Добавляем фиксированные параметры к лучшим\n",
    "best_params = study.best_params.copy()\n",
    "best_params['task_type'] = 'GPU'\n",
    "best_params['verbose'] = 100\n",
    "\n",
    "final_model = CatBoostRegressor(**best_params)\n",
    "final_model.fit(train_pool, eval_set=test_pool)\n",
    "\n",
    "# Предсказание и оценка\n",
    "y_pred = final_model.predict(X_test)\n",
    "final_mae = mean_absolute_error(y_test, y_pred)\n",
    "final_r2 = r2_score(y_test, y_pred)\n",
    "\n",
    "print(f\"Финальное MAE: {final_mae:.4f}\")\n",
    "print(f\"Финальное R2: {final_r2:.4f}\")\n",
    "\n",
    "# Сохранение модели\n",
    "final_model.save_model('catboost_optimized_model.cbm')\n",
    "\n",
    "# Сохранение лучших параметров\n",
    "best_params_df = pd.DataFrame([study.best_params])\n",
    "best_params_df.to_csv('best_hyperparameters.csv', index=False)\n",
    "\n",
    "print(\"Оптимизация завершена!\")"
   ]
  },
  {
   "cell_type": "code",
   "execution_count": null,
   "id": "01ad1947",
   "metadata": {},
   "outputs": [],
   "source": [
    "mape = mean_absolute_percentage_error(y_test, y_pred)"
   ]
  },
  {
   "cell_type": "code",
   "execution_count": 42,
   "id": "c925adb3",
   "metadata": {},
   "outputs": [
    {
     "name": "stdout",
     "output_type": "stream",
     "text": [
      "0.23020324009482962\n"
     ]
    }
   ],
   "source": [
    "print(mape)"
   ]
  },
  {
   "cell_type": "markdown",
   "id": "bfcf1da8",
   "metadata": {},
   "source": [
    "без вакансий на мапед скилс 19 позиций\n",
    "\n",
    "\n",
    "Лучшие параметры:\n",
    "\n",
    "{'iterations': 1777, 'learning_rate': 0.19104569839845126, 'depth': 10, 'l2_leaf_reg': 7.112900398848464, 'random_strength': 1.0690517989346735, 'bagging_temperature': 0.6506039769871561, 'border_count': 125, 'min_data_in_leaf': 9, 'grow_policy': 'Depthwise'}\n",
    "\n",
    "\n",
    "Лучшее MAE: 24514.4810\n",
    "\n",
    "Финальное MAE: 24644.3104\n",
    "Финальное R2: 0.8126\n",
    "\n",
    "mape 0.23\n",
    "\n",
    "\n",
    "_____________________________________________________________"
   ]
  },
  {
   "cell_type": "markdown",
   "id": "3514a316",
   "metadata": {},
   "source": [
    "Без вакансий на mapped_skills\n",
    "\n",
    "Лучшие параметры:\n",
    "\n",
    "{'iterations': 1366, 'learning_rate': 0.029480499584883798, 'depth': 8, 'l2_leaf_reg': 9.306348992747079, 'random_strength': 9.269354649954655, 'bagging_temperature': 0.24923876946619955, 'border_count': 139, 'min_data_in_leaf': 42, 'grow_policy': 'Lossguide'}\n",
    "\n",
    "\n",
    "Финальное MAE: 16720.3484\n",
    "Финальное R2: 0.7576\n",
    "\n",
    "_________________________________________________________________\n"
   ]
  },
  {
   "cell_type": "markdown",
   "id": "c284e703",
   "metadata": {},
   "source": [
    "vacancy_clustered\n",
    "\n",
    "Финальное MAE: 15325.9098\n",
    "Финальное R2: 0.7464\n",
    "\n",
    "\n",
    "Лучшие параметры:\n",
    "{'iterations': 1737, 'learning_rate': 0.07317458448454589, 'depth': 9, 'l2_leaf_reg': 4.102561463255634, 'random_strength': 2.810303096814648, 'bagging_temperature': 0.8199733454878877, 'border_count': 119, 'min_data_in_leaf': 7, 'grow_policy': 'Lossguide'}\n",
    "Лучшее MAE: 15325.9098\n",
    "\n",
    "_____________________________________________"
   ]
  },
  {
   "cell_type": "markdown",
   "id": "0ca9b872",
   "metadata": {},
   "source": [
    "Для списка 1+2 (полный список позиций)\n",
    "\n",
    "Лучшие параметры:\n",
    "{'iterations': 886, 'learning_rate': 0.16298226973020347, 'depth': 10, 'l2_leaf_reg': 6.814578059264777, 'random_strength': 6.602968345275037, 'bagging_temperature': 0.5272972303224925, 'border_count': 198, 'min_data_in_leaf': 56, 'grow_policy': 'Depthwise'}\n",
    "Лучшее MAE: 21395.5308\n",
    "Финальное MAE: 21451.1697\n",
    "Финальное R2: 0.8416\n"
   ]
  },
  {
   "cell_type": "markdown",
   "id": "7b0eb9e6",
   "metadata": {},
   "source": [
    "Для списка 2\n",
    "\n",
    "\n",
    "Лучшие параметры:\n",
    "{'iterations': 1707, 'learning_rate': 0.24046147341775423, 'depth': 10, 'l2_leaf_reg': 4.168882735486937, 'random_strength': 4.920968499142594, 'bagging_temperature': 0.8493307771263665, 'border_count': 119, 'min_data_in_leaf': 10, 'grow_policy': 'Depthwise'}\n",
    "Лучшее MAE: 21155.7671\n",
    "\n",
    "Финальное MAE: 21117.6683\n",
    "Финальное R2: 0.8386"
   ]
  },
  {
   "cell_type": "markdown",
   "id": "56556015",
   "metadata": {},
   "source": [
    "Для списка 1\n",
    "\n",
    "Лучшие параметры:\n",
    "{'iterations': 1404, 'learning_rate': 0.14647974385325152, 'depth': 9, 'l2_leaf_reg': 1.7865444706705154, 'random_strength': 0.8393042307586931, 'bagging_temperature': 0.9454845290374145, 'border_count': 104, 'min_data_in_leaf': 10, 'grow_policy': 'Lossguide'}\n",
    "Лучшее MAE: 15539.3131"
   ]
  },
  {
   "cell_type": "code",
   "execution_count": 8,
   "id": "64a70fb8",
   "metadata": {},
   "outputs": [
    {
     "data": {
      "application/vnd.plotly.v1+json": {
       "config": {
        "plotlyServerURL": "https://plot.ly"
       },
       "data": [
        {
         "mode": "markers",
         "name": "Objective Value",
         "type": "scatter",
         "x": [
          0,
          1,
          2,
          3,
          4,
          5,
          6,
          7,
          8,
          9,
          10,
          11,
          12,
          13,
          14,
          15,
          16,
          17,
          18,
          19,
          20,
          21,
          22,
          23,
          24,
          25,
          26,
          27,
          28,
          29,
          30,
          31,
          32,
          33,
          34,
          35,
          36,
          37,
          38,
          39,
          40,
          41,
          42,
          43,
          44,
          45,
          46,
          47,
          48,
          49
         ],
         "y": [
          15945.823555322555,
          15709.223550858744,
          15913.22133395581,
          15605.642712499528,
          16130.034254970546,
          15814.395599632018,
          15993.131704901463,
          16077.085155253948,
          16398.811837574034,
          16404.688123616237,
          15862.390343117455,
          15741.384494380847,
          15558.507284278592,
          15736.763256856868,
          15783.06388899798,
          15652.801272803055,
          15602.099079230604,
          15612.177722265455,
          15669.762271591902,
          15814.594571836067,
          15707.946965171619,
          15587.055387986038,
          15568.688743805295,
          15815.553756811887,
          15580.130483626743,
          15615.734518970696,
          15545.772360664829,
          15702.494549129997,
          16035.289944631193,
          15687.998893850046,
          15906.693940007845,
          15539.313068227799,
          15606.232741617896,
          15602.240348955074,
          15747.427481989185,
          16048.495580917943,
          15971.801982008714,
          15830.415758683683,
          15789.421356293858,
          15667.511943234282,
          15975.159470560617,
          15670.391856240885,
          15782.483390247304,
          15699.462435909903,
          15747.433756035141,
          15621.927460848781,
          15792.276651677947,
          15612.630023865802,
          15647.697801211942,
          15863.7573394167
         ]
        },
        {
         "mode": "lines",
         "name": "Best Value",
         "type": "scatter",
         "x": [
          0,
          1,
          2,
          3,
          4,
          5,
          6,
          7,
          8,
          9,
          10,
          11,
          12,
          13,
          14,
          15,
          16,
          17,
          18,
          19,
          20,
          21,
          22,
          23,
          24,
          25,
          26,
          27,
          28,
          29,
          30,
          31,
          32,
          33,
          34,
          35,
          36,
          37,
          38,
          39,
          40,
          41,
          42,
          43,
          44,
          45,
          46,
          47,
          48,
          49
         ],
         "y": [
          15945.823555322555,
          15709.223550858744,
          15709.223550858744,
          15605.642712499528,
          15605.642712499528,
          15605.642712499528,
          15605.642712499528,
          15605.642712499528,
          15605.642712499528,
          15605.642712499528,
          15605.642712499528,
          15605.642712499528,
          15558.507284278592,
          15558.507284278592,
          15558.507284278592,
          15558.507284278592,
          15558.507284278592,
          15558.507284278592,
          15558.507284278592,
          15558.507284278592,
          15558.507284278592,
          15558.507284278592,
          15558.507284278592,
          15558.507284278592,
          15558.507284278592,
          15558.507284278592,
          15545.772360664829,
          15545.772360664829,
          15545.772360664829,
          15545.772360664829,
          15545.772360664829,
          15539.313068227799,
          15539.313068227799,
          15539.313068227799,
          15539.313068227799,
          15539.313068227799,
          15539.313068227799,
          15539.313068227799,
          15539.313068227799,
          15539.313068227799,
          15539.313068227799,
          15539.313068227799,
          15539.313068227799,
          15539.313068227799,
          15539.313068227799,
          15539.313068227799,
          15539.313068227799,
          15539.313068227799,
          15539.313068227799,
          15539.313068227799
         ]
        },
        {
         "marker": {
          "color": "#cccccc"
         },
         "mode": "markers",
         "name": "Infeasible Trial",
         "showlegend": false,
         "type": "scatter",
         "x": [],
         "y": []
        }
       ],
       "layout": {
        "template": {
         "data": {
          "bar": [
           {
            "error_x": {
             "color": "#2a3f5f"
            },
            "error_y": {
             "color": "#2a3f5f"
            },
            "marker": {
             "line": {
              "color": "#E5ECF6",
              "width": 0.5
             },
             "pattern": {
              "fillmode": "overlay",
              "size": 10,
              "solidity": 0.2
             }
            },
            "type": "bar"
           }
          ],
          "barpolar": [
           {
            "marker": {
             "line": {
              "color": "#E5ECF6",
              "width": 0.5
             },
             "pattern": {
              "fillmode": "overlay",
              "size": 10,
              "solidity": 0.2
             }
            },
            "type": "barpolar"
           }
          ],
          "carpet": [
           {
            "aaxis": {
             "endlinecolor": "#2a3f5f",
             "gridcolor": "white",
             "linecolor": "white",
             "minorgridcolor": "white",
             "startlinecolor": "#2a3f5f"
            },
            "baxis": {
             "endlinecolor": "#2a3f5f",
             "gridcolor": "white",
             "linecolor": "white",
             "minorgridcolor": "white",
             "startlinecolor": "#2a3f5f"
            },
            "type": "carpet"
           }
          ],
          "choropleth": [
           {
            "colorbar": {
             "outlinewidth": 0,
             "ticks": ""
            },
            "type": "choropleth"
           }
          ],
          "contour": [
           {
            "colorbar": {
             "outlinewidth": 0,
             "ticks": ""
            },
            "colorscale": [
             [
              0,
              "#0d0887"
             ],
             [
              0.1111111111111111,
              "#46039f"
             ],
             [
              0.2222222222222222,
              "#7201a8"
             ],
             [
              0.3333333333333333,
              "#9c179e"
             ],
             [
              0.4444444444444444,
              "#bd3786"
             ],
             [
              0.5555555555555556,
              "#d8576b"
             ],
             [
              0.6666666666666666,
              "#ed7953"
             ],
             [
              0.7777777777777778,
              "#fb9f3a"
             ],
             [
              0.8888888888888888,
              "#fdca26"
             ],
             [
              1,
              "#f0f921"
             ]
            ],
            "type": "contour"
           }
          ],
          "contourcarpet": [
           {
            "colorbar": {
             "outlinewidth": 0,
             "ticks": ""
            },
            "type": "contourcarpet"
           }
          ],
          "heatmap": [
           {
            "colorbar": {
             "outlinewidth": 0,
             "ticks": ""
            },
            "colorscale": [
             [
              0,
              "#0d0887"
             ],
             [
              0.1111111111111111,
              "#46039f"
             ],
             [
              0.2222222222222222,
              "#7201a8"
             ],
             [
              0.3333333333333333,
              "#9c179e"
             ],
             [
              0.4444444444444444,
              "#bd3786"
             ],
             [
              0.5555555555555556,
              "#d8576b"
             ],
             [
              0.6666666666666666,
              "#ed7953"
             ],
             [
              0.7777777777777778,
              "#fb9f3a"
             ],
             [
              0.8888888888888888,
              "#fdca26"
             ],
             [
              1,
              "#f0f921"
             ]
            ],
            "type": "heatmap"
           }
          ],
          "heatmapgl": [
           {
            "colorbar": {
             "outlinewidth": 0,
             "ticks": ""
            },
            "colorscale": [
             [
              0,
              "#0d0887"
             ],
             [
              0.1111111111111111,
              "#46039f"
             ],
             [
              0.2222222222222222,
              "#7201a8"
             ],
             [
              0.3333333333333333,
              "#9c179e"
             ],
             [
              0.4444444444444444,
              "#bd3786"
             ],
             [
              0.5555555555555556,
              "#d8576b"
             ],
             [
              0.6666666666666666,
              "#ed7953"
             ],
             [
              0.7777777777777778,
              "#fb9f3a"
             ],
             [
              0.8888888888888888,
              "#fdca26"
             ],
             [
              1,
              "#f0f921"
             ]
            ],
            "type": "heatmapgl"
           }
          ],
          "histogram": [
           {
            "marker": {
             "pattern": {
              "fillmode": "overlay",
              "size": 10,
              "solidity": 0.2
             }
            },
            "type": "histogram"
           }
          ],
          "histogram2d": [
           {
            "colorbar": {
             "outlinewidth": 0,
             "ticks": ""
            },
            "colorscale": [
             [
              0,
              "#0d0887"
             ],
             [
              0.1111111111111111,
              "#46039f"
             ],
             [
              0.2222222222222222,
              "#7201a8"
             ],
             [
              0.3333333333333333,
              "#9c179e"
             ],
             [
              0.4444444444444444,
              "#bd3786"
             ],
             [
              0.5555555555555556,
              "#d8576b"
             ],
             [
              0.6666666666666666,
              "#ed7953"
             ],
             [
              0.7777777777777778,
              "#fb9f3a"
             ],
             [
              0.8888888888888888,
              "#fdca26"
             ],
             [
              1,
              "#f0f921"
             ]
            ],
            "type": "histogram2d"
           }
          ],
          "histogram2dcontour": [
           {
            "colorbar": {
             "outlinewidth": 0,
             "ticks": ""
            },
            "colorscale": [
             [
              0,
              "#0d0887"
             ],
             [
              0.1111111111111111,
              "#46039f"
             ],
             [
              0.2222222222222222,
              "#7201a8"
             ],
             [
              0.3333333333333333,
              "#9c179e"
             ],
             [
              0.4444444444444444,
              "#bd3786"
             ],
             [
              0.5555555555555556,
              "#d8576b"
             ],
             [
              0.6666666666666666,
              "#ed7953"
             ],
             [
              0.7777777777777778,
              "#fb9f3a"
             ],
             [
              0.8888888888888888,
              "#fdca26"
             ],
             [
              1,
              "#f0f921"
             ]
            ],
            "type": "histogram2dcontour"
           }
          ],
          "mesh3d": [
           {
            "colorbar": {
             "outlinewidth": 0,
             "ticks": ""
            },
            "type": "mesh3d"
           }
          ],
          "parcoords": [
           {
            "line": {
             "colorbar": {
              "outlinewidth": 0,
              "ticks": ""
             }
            },
            "type": "parcoords"
           }
          ],
          "pie": [
           {
            "automargin": true,
            "type": "pie"
           }
          ],
          "scatter": [
           {
            "fillpattern": {
             "fillmode": "overlay",
             "size": 10,
             "solidity": 0.2
            },
            "type": "scatter"
           }
          ],
          "scatter3d": [
           {
            "line": {
             "colorbar": {
              "outlinewidth": 0,
              "ticks": ""
             }
            },
            "marker": {
             "colorbar": {
              "outlinewidth": 0,
              "ticks": ""
             }
            },
            "type": "scatter3d"
           }
          ],
          "scattercarpet": [
           {
            "marker": {
             "colorbar": {
              "outlinewidth": 0,
              "ticks": ""
             }
            },
            "type": "scattercarpet"
           }
          ],
          "scattergeo": [
           {
            "marker": {
             "colorbar": {
              "outlinewidth": 0,
              "ticks": ""
             }
            },
            "type": "scattergeo"
           }
          ],
          "scattergl": [
           {
            "marker": {
             "colorbar": {
              "outlinewidth": 0,
              "ticks": ""
             }
            },
            "type": "scattergl"
           }
          ],
          "scattermapbox": [
           {
            "marker": {
             "colorbar": {
              "outlinewidth": 0,
              "ticks": ""
             }
            },
            "type": "scattermapbox"
           }
          ],
          "scatterpolar": [
           {
            "marker": {
             "colorbar": {
              "outlinewidth": 0,
              "ticks": ""
             }
            },
            "type": "scatterpolar"
           }
          ],
          "scatterpolargl": [
           {
            "marker": {
             "colorbar": {
              "outlinewidth": 0,
              "ticks": ""
             }
            },
            "type": "scatterpolargl"
           }
          ],
          "scatterternary": [
           {
            "marker": {
             "colorbar": {
              "outlinewidth": 0,
              "ticks": ""
             }
            },
            "type": "scatterternary"
           }
          ],
          "surface": [
           {
            "colorbar": {
             "outlinewidth": 0,
             "ticks": ""
            },
            "colorscale": [
             [
              0,
              "#0d0887"
             ],
             [
              0.1111111111111111,
              "#46039f"
             ],
             [
              0.2222222222222222,
              "#7201a8"
             ],
             [
              0.3333333333333333,
              "#9c179e"
             ],
             [
              0.4444444444444444,
              "#bd3786"
             ],
             [
              0.5555555555555556,
              "#d8576b"
             ],
             [
              0.6666666666666666,
              "#ed7953"
             ],
             [
              0.7777777777777778,
              "#fb9f3a"
             ],
             [
              0.8888888888888888,
              "#fdca26"
             ],
             [
              1,
              "#f0f921"
             ]
            ],
            "type": "surface"
           }
          ],
          "table": [
           {
            "cells": {
             "fill": {
              "color": "#EBF0F8"
             },
             "line": {
              "color": "white"
             }
            },
            "header": {
             "fill": {
              "color": "#C8D4E3"
             },
             "line": {
              "color": "white"
             }
            },
            "type": "table"
           }
          ]
         },
         "layout": {
          "annotationdefaults": {
           "arrowcolor": "#2a3f5f",
           "arrowhead": 0,
           "arrowwidth": 1
          },
          "autotypenumbers": "strict",
          "coloraxis": {
           "colorbar": {
            "outlinewidth": 0,
            "ticks": ""
           }
          },
          "colorscale": {
           "diverging": [
            [
             0,
             "#8e0152"
            ],
            [
             0.1,
             "#c51b7d"
            ],
            [
             0.2,
             "#de77ae"
            ],
            [
             0.3,
             "#f1b6da"
            ],
            [
             0.4,
             "#fde0ef"
            ],
            [
             0.5,
             "#f7f7f7"
            ],
            [
             0.6,
             "#e6f5d0"
            ],
            [
             0.7,
             "#b8e186"
            ],
            [
             0.8,
             "#7fbc41"
            ],
            [
             0.9,
             "#4d9221"
            ],
            [
             1,
             "#276419"
            ]
           ],
           "sequential": [
            [
             0,
             "#0d0887"
            ],
            [
             0.1111111111111111,
             "#46039f"
            ],
            [
             0.2222222222222222,
             "#7201a8"
            ],
            [
             0.3333333333333333,
             "#9c179e"
            ],
            [
             0.4444444444444444,
             "#bd3786"
            ],
            [
             0.5555555555555556,
             "#d8576b"
            ],
            [
             0.6666666666666666,
             "#ed7953"
            ],
            [
             0.7777777777777778,
             "#fb9f3a"
            ],
            [
             0.8888888888888888,
             "#fdca26"
            ],
            [
             1,
             "#f0f921"
            ]
           ],
           "sequentialminus": [
            [
             0,
             "#0d0887"
            ],
            [
             0.1111111111111111,
             "#46039f"
            ],
            [
             0.2222222222222222,
             "#7201a8"
            ],
            [
             0.3333333333333333,
             "#9c179e"
            ],
            [
             0.4444444444444444,
             "#bd3786"
            ],
            [
             0.5555555555555556,
             "#d8576b"
            ],
            [
             0.6666666666666666,
             "#ed7953"
            ],
            [
             0.7777777777777778,
             "#fb9f3a"
            ],
            [
             0.8888888888888888,
             "#fdca26"
            ],
            [
             1,
             "#f0f921"
            ]
           ]
          },
          "colorway": [
           "#636efa",
           "#EF553B",
           "#00cc96",
           "#ab63fa",
           "#FFA15A",
           "#19d3f3",
           "#FF6692",
           "#B6E880",
           "#FF97FF",
           "#FECB52"
          ],
          "font": {
           "color": "#2a3f5f"
          },
          "geo": {
           "bgcolor": "white",
           "lakecolor": "white",
           "landcolor": "#E5ECF6",
           "showlakes": true,
           "showland": true,
           "subunitcolor": "white"
          },
          "hoverlabel": {
           "align": "left"
          },
          "hovermode": "closest",
          "mapbox": {
           "style": "light"
          },
          "paper_bgcolor": "white",
          "plot_bgcolor": "#E5ECF6",
          "polar": {
           "angularaxis": {
            "gridcolor": "white",
            "linecolor": "white",
            "ticks": ""
           },
           "bgcolor": "#E5ECF6",
           "radialaxis": {
            "gridcolor": "white",
            "linecolor": "white",
            "ticks": ""
           }
          },
          "scene": {
           "xaxis": {
            "backgroundcolor": "#E5ECF6",
            "gridcolor": "white",
            "gridwidth": 2,
            "linecolor": "white",
            "showbackground": true,
            "ticks": "",
            "zerolinecolor": "white"
           },
           "yaxis": {
            "backgroundcolor": "#E5ECF6",
            "gridcolor": "white",
            "gridwidth": 2,
            "linecolor": "white",
            "showbackground": true,
            "ticks": "",
            "zerolinecolor": "white"
           },
           "zaxis": {
            "backgroundcolor": "#E5ECF6",
            "gridcolor": "white",
            "gridwidth": 2,
            "linecolor": "white",
            "showbackground": true,
            "ticks": "",
            "zerolinecolor": "white"
           }
          },
          "shapedefaults": {
           "line": {
            "color": "#2a3f5f"
           }
          },
          "ternary": {
           "aaxis": {
            "gridcolor": "white",
            "linecolor": "white",
            "ticks": ""
           },
           "baxis": {
            "gridcolor": "white",
            "linecolor": "white",
            "ticks": ""
           },
           "bgcolor": "#E5ECF6",
           "caxis": {
            "gridcolor": "white",
            "linecolor": "white",
            "ticks": ""
           }
          },
          "title": {
           "x": 0.05
          },
          "xaxis": {
           "automargin": true,
           "gridcolor": "white",
           "linecolor": "white",
           "ticks": "",
           "title": {
            "standoff": 15
           },
           "zerolinecolor": "white",
           "zerolinewidth": 2
          },
          "yaxis": {
           "automargin": true,
           "gridcolor": "white",
           "linecolor": "white",
           "ticks": "",
           "title": {
            "standoff": 15
           },
           "zerolinecolor": "white",
           "zerolinewidth": 2
          }
         }
        },
        "title": {
         "text": "Optimization History Plot"
        },
        "xaxis": {
         "title": {
          "text": "Trial"
         }
        },
        "yaxis": {
         "title": {
          "text": "Objective Value"
         }
        }
       }
      }
     },
     "metadata": {},
     "output_type": "display_data"
    },
    {
     "data": {
      "application/vnd.plotly.v1+json": {
       "config": {
        "plotlyServerURL": "https://plot.ly"
       },
       "data": [
        {
         "cliponaxis": false,
         "hovertemplate": [
          "min_data_in_leaf (IntDistribution): 0.008462761300941642<extra></extra>",
          "l2_leaf_reg (FloatDistribution): 0.010109812329690389<extra></extra>",
          "border_count (IntDistribution): 0.012653528287521552<extra></extra>",
          "bagging_temperature (FloatDistribution): 0.030239765702100317<extra></extra>",
          "depth (IntDistribution): 0.045487470252438274<extra></extra>",
          "learning_rate (FloatDistribution): 0.08875495693863056<extra></extra>",
          "random_strength (FloatDistribution): 0.22066680965551666<extra></extra>",
          "grow_policy (CategoricalDistribution): 0.2575081409333018<extra></extra>",
          "iterations (IntDistribution): 0.3261167545998588<extra></extra>"
         ],
         "marker": {
          "color": "rgb(66,146,198)"
         },
         "orientation": "h",
         "text": [
          "<0.01",
          "0.01",
          "0.01",
          "0.03",
          "0.05",
          "0.09",
          "0.22",
          "0.26",
          "0.33"
         ],
         "textposition": "outside",
         "type": "bar",
         "x": [
          0.008462761300941642,
          0.010109812329690389,
          0.012653528287521552,
          0.030239765702100317,
          0.045487470252438274,
          0.08875495693863056,
          0.22066680965551666,
          0.2575081409333018,
          0.3261167545998588
         ],
         "y": [
          "min_data_in_leaf",
          "l2_leaf_reg",
          "border_count",
          "bagging_temperature",
          "depth",
          "learning_rate",
          "random_strength",
          "grow_policy",
          "iterations"
         ]
        }
       ],
       "layout": {
        "showlegend": false,
        "template": {
         "data": {
          "bar": [
           {
            "error_x": {
             "color": "#2a3f5f"
            },
            "error_y": {
             "color": "#2a3f5f"
            },
            "marker": {
             "line": {
              "color": "#E5ECF6",
              "width": 0.5
             },
             "pattern": {
              "fillmode": "overlay",
              "size": 10,
              "solidity": 0.2
             }
            },
            "type": "bar"
           }
          ],
          "barpolar": [
           {
            "marker": {
             "line": {
              "color": "#E5ECF6",
              "width": 0.5
             },
             "pattern": {
              "fillmode": "overlay",
              "size": 10,
              "solidity": 0.2
             }
            },
            "type": "barpolar"
           }
          ],
          "carpet": [
           {
            "aaxis": {
             "endlinecolor": "#2a3f5f",
             "gridcolor": "white",
             "linecolor": "white",
             "minorgridcolor": "white",
             "startlinecolor": "#2a3f5f"
            },
            "baxis": {
             "endlinecolor": "#2a3f5f",
             "gridcolor": "white",
             "linecolor": "white",
             "minorgridcolor": "white",
             "startlinecolor": "#2a3f5f"
            },
            "type": "carpet"
           }
          ],
          "choropleth": [
           {
            "colorbar": {
             "outlinewidth": 0,
             "ticks": ""
            },
            "type": "choropleth"
           }
          ],
          "contour": [
           {
            "colorbar": {
             "outlinewidth": 0,
             "ticks": ""
            },
            "colorscale": [
             [
              0,
              "#0d0887"
             ],
             [
              0.1111111111111111,
              "#46039f"
             ],
             [
              0.2222222222222222,
              "#7201a8"
             ],
             [
              0.3333333333333333,
              "#9c179e"
             ],
             [
              0.4444444444444444,
              "#bd3786"
             ],
             [
              0.5555555555555556,
              "#d8576b"
             ],
             [
              0.6666666666666666,
              "#ed7953"
             ],
             [
              0.7777777777777778,
              "#fb9f3a"
             ],
             [
              0.8888888888888888,
              "#fdca26"
             ],
             [
              1,
              "#f0f921"
             ]
            ],
            "type": "contour"
           }
          ],
          "contourcarpet": [
           {
            "colorbar": {
             "outlinewidth": 0,
             "ticks": ""
            },
            "type": "contourcarpet"
           }
          ],
          "heatmap": [
           {
            "colorbar": {
             "outlinewidth": 0,
             "ticks": ""
            },
            "colorscale": [
             [
              0,
              "#0d0887"
             ],
             [
              0.1111111111111111,
              "#46039f"
             ],
             [
              0.2222222222222222,
              "#7201a8"
             ],
             [
              0.3333333333333333,
              "#9c179e"
             ],
             [
              0.4444444444444444,
              "#bd3786"
             ],
             [
              0.5555555555555556,
              "#d8576b"
             ],
             [
              0.6666666666666666,
              "#ed7953"
             ],
             [
              0.7777777777777778,
              "#fb9f3a"
             ],
             [
              0.8888888888888888,
              "#fdca26"
             ],
             [
              1,
              "#f0f921"
             ]
            ],
            "type": "heatmap"
           }
          ],
          "heatmapgl": [
           {
            "colorbar": {
             "outlinewidth": 0,
             "ticks": ""
            },
            "colorscale": [
             [
              0,
              "#0d0887"
             ],
             [
              0.1111111111111111,
              "#46039f"
             ],
             [
              0.2222222222222222,
              "#7201a8"
             ],
             [
              0.3333333333333333,
              "#9c179e"
             ],
             [
              0.4444444444444444,
              "#bd3786"
             ],
             [
              0.5555555555555556,
              "#d8576b"
             ],
             [
              0.6666666666666666,
              "#ed7953"
             ],
             [
              0.7777777777777778,
              "#fb9f3a"
             ],
             [
              0.8888888888888888,
              "#fdca26"
             ],
             [
              1,
              "#f0f921"
             ]
            ],
            "type": "heatmapgl"
           }
          ],
          "histogram": [
           {
            "marker": {
             "pattern": {
              "fillmode": "overlay",
              "size": 10,
              "solidity": 0.2
             }
            },
            "type": "histogram"
           }
          ],
          "histogram2d": [
           {
            "colorbar": {
             "outlinewidth": 0,
             "ticks": ""
            },
            "colorscale": [
             [
              0,
              "#0d0887"
             ],
             [
              0.1111111111111111,
              "#46039f"
             ],
             [
              0.2222222222222222,
              "#7201a8"
             ],
             [
              0.3333333333333333,
              "#9c179e"
             ],
             [
              0.4444444444444444,
              "#bd3786"
             ],
             [
              0.5555555555555556,
              "#d8576b"
             ],
             [
              0.6666666666666666,
              "#ed7953"
             ],
             [
              0.7777777777777778,
              "#fb9f3a"
             ],
             [
              0.8888888888888888,
              "#fdca26"
             ],
             [
              1,
              "#f0f921"
             ]
            ],
            "type": "histogram2d"
           }
          ],
          "histogram2dcontour": [
           {
            "colorbar": {
             "outlinewidth": 0,
             "ticks": ""
            },
            "colorscale": [
             [
              0,
              "#0d0887"
             ],
             [
              0.1111111111111111,
              "#46039f"
             ],
             [
              0.2222222222222222,
              "#7201a8"
             ],
             [
              0.3333333333333333,
              "#9c179e"
             ],
             [
              0.4444444444444444,
              "#bd3786"
             ],
             [
              0.5555555555555556,
              "#d8576b"
             ],
             [
              0.6666666666666666,
              "#ed7953"
             ],
             [
              0.7777777777777778,
              "#fb9f3a"
             ],
             [
              0.8888888888888888,
              "#fdca26"
             ],
             [
              1,
              "#f0f921"
             ]
            ],
            "type": "histogram2dcontour"
           }
          ],
          "mesh3d": [
           {
            "colorbar": {
             "outlinewidth": 0,
             "ticks": ""
            },
            "type": "mesh3d"
           }
          ],
          "parcoords": [
           {
            "line": {
             "colorbar": {
              "outlinewidth": 0,
              "ticks": ""
             }
            },
            "type": "parcoords"
           }
          ],
          "pie": [
           {
            "automargin": true,
            "type": "pie"
           }
          ],
          "scatter": [
           {
            "fillpattern": {
             "fillmode": "overlay",
             "size": 10,
             "solidity": 0.2
            },
            "type": "scatter"
           }
          ],
          "scatter3d": [
           {
            "line": {
             "colorbar": {
              "outlinewidth": 0,
              "ticks": ""
             }
            },
            "marker": {
             "colorbar": {
              "outlinewidth": 0,
              "ticks": ""
             }
            },
            "type": "scatter3d"
           }
          ],
          "scattercarpet": [
           {
            "marker": {
             "colorbar": {
              "outlinewidth": 0,
              "ticks": ""
             }
            },
            "type": "scattercarpet"
           }
          ],
          "scattergeo": [
           {
            "marker": {
             "colorbar": {
              "outlinewidth": 0,
              "ticks": ""
             }
            },
            "type": "scattergeo"
           }
          ],
          "scattergl": [
           {
            "marker": {
             "colorbar": {
              "outlinewidth": 0,
              "ticks": ""
             }
            },
            "type": "scattergl"
           }
          ],
          "scattermapbox": [
           {
            "marker": {
             "colorbar": {
              "outlinewidth": 0,
              "ticks": ""
             }
            },
            "type": "scattermapbox"
           }
          ],
          "scatterpolar": [
           {
            "marker": {
             "colorbar": {
              "outlinewidth": 0,
              "ticks": ""
             }
            },
            "type": "scatterpolar"
           }
          ],
          "scatterpolargl": [
           {
            "marker": {
             "colorbar": {
              "outlinewidth": 0,
              "ticks": ""
             }
            },
            "type": "scatterpolargl"
           }
          ],
          "scatterternary": [
           {
            "marker": {
             "colorbar": {
              "outlinewidth": 0,
              "ticks": ""
             }
            },
            "type": "scatterternary"
           }
          ],
          "surface": [
           {
            "colorbar": {
             "outlinewidth": 0,
             "ticks": ""
            },
            "colorscale": [
             [
              0,
              "#0d0887"
             ],
             [
              0.1111111111111111,
              "#46039f"
             ],
             [
              0.2222222222222222,
              "#7201a8"
             ],
             [
              0.3333333333333333,
              "#9c179e"
             ],
             [
              0.4444444444444444,
              "#bd3786"
             ],
             [
              0.5555555555555556,
              "#d8576b"
             ],
             [
              0.6666666666666666,
              "#ed7953"
             ],
             [
              0.7777777777777778,
              "#fb9f3a"
             ],
             [
              0.8888888888888888,
              "#fdca26"
             ],
             [
              1,
              "#f0f921"
             ]
            ],
            "type": "surface"
           }
          ],
          "table": [
           {
            "cells": {
             "fill": {
              "color": "#EBF0F8"
             },
             "line": {
              "color": "white"
             }
            },
            "header": {
             "fill": {
              "color": "#C8D4E3"
             },
             "line": {
              "color": "white"
             }
            },
            "type": "table"
           }
          ]
         },
         "layout": {
          "annotationdefaults": {
           "arrowcolor": "#2a3f5f",
           "arrowhead": 0,
           "arrowwidth": 1
          },
          "autotypenumbers": "strict",
          "coloraxis": {
           "colorbar": {
            "outlinewidth": 0,
            "ticks": ""
           }
          },
          "colorscale": {
           "diverging": [
            [
             0,
             "#8e0152"
            ],
            [
             0.1,
             "#c51b7d"
            ],
            [
             0.2,
             "#de77ae"
            ],
            [
             0.3,
             "#f1b6da"
            ],
            [
             0.4,
             "#fde0ef"
            ],
            [
             0.5,
             "#f7f7f7"
            ],
            [
             0.6,
             "#e6f5d0"
            ],
            [
             0.7,
             "#b8e186"
            ],
            [
             0.8,
             "#7fbc41"
            ],
            [
             0.9,
             "#4d9221"
            ],
            [
             1,
             "#276419"
            ]
           ],
           "sequential": [
            [
             0,
             "#0d0887"
            ],
            [
             0.1111111111111111,
             "#46039f"
            ],
            [
             0.2222222222222222,
             "#7201a8"
            ],
            [
             0.3333333333333333,
             "#9c179e"
            ],
            [
             0.4444444444444444,
             "#bd3786"
            ],
            [
             0.5555555555555556,
             "#d8576b"
            ],
            [
             0.6666666666666666,
             "#ed7953"
            ],
            [
             0.7777777777777778,
             "#fb9f3a"
            ],
            [
             0.8888888888888888,
             "#fdca26"
            ],
            [
             1,
             "#f0f921"
            ]
           ],
           "sequentialminus": [
            [
             0,
             "#0d0887"
            ],
            [
             0.1111111111111111,
             "#46039f"
            ],
            [
             0.2222222222222222,
             "#7201a8"
            ],
            [
             0.3333333333333333,
             "#9c179e"
            ],
            [
             0.4444444444444444,
             "#bd3786"
            ],
            [
             0.5555555555555556,
             "#d8576b"
            ],
            [
             0.6666666666666666,
             "#ed7953"
            ],
            [
             0.7777777777777778,
             "#fb9f3a"
            ],
            [
             0.8888888888888888,
             "#fdca26"
            ],
            [
             1,
             "#f0f921"
            ]
           ]
          },
          "colorway": [
           "#636efa",
           "#EF553B",
           "#00cc96",
           "#ab63fa",
           "#FFA15A",
           "#19d3f3",
           "#FF6692",
           "#B6E880",
           "#FF97FF",
           "#FECB52"
          ],
          "font": {
           "color": "#2a3f5f"
          },
          "geo": {
           "bgcolor": "white",
           "lakecolor": "white",
           "landcolor": "#E5ECF6",
           "showlakes": true,
           "showland": true,
           "subunitcolor": "white"
          },
          "hoverlabel": {
           "align": "left"
          },
          "hovermode": "closest",
          "mapbox": {
           "style": "light"
          },
          "paper_bgcolor": "white",
          "plot_bgcolor": "#E5ECF6",
          "polar": {
           "angularaxis": {
            "gridcolor": "white",
            "linecolor": "white",
            "ticks": ""
           },
           "bgcolor": "#E5ECF6",
           "radialaxis": {
            "gridcolor": "white",
            "linecolor": "white",
            "ticks": ""
           }
          },
          "scene": {
           "xaxis": {
            "backgroundcolor": "#E5ECF6",
            "gridcolor": "white",
            "gridwidth": 2,
            "linecolor": "white",
            "showbackground": true,
            "ticks": "",
            "zerolinecolor": "white"
           },
           "yaxis": {
            "backgroundcolor": "#E5ECF6",
            "gridcolor": "white",
            "gridwidth": 2,
            "linecolor": "white",
            "showbackground": true,
            "ticks": "",
            "zerolinecolor": "white"
           },
           "zaxis": {
            "backgroundcolor": "#E5ECF6",
            "gridcolor": "white",
            "gridwidth": 2,
            "linecolor": "white",
            "showbackground": true,
            "ticks": "",
            "zerolinecolor": "white"
           }
          },
          "shapedefaults": {
           "line": {
            "color": "#2a3f5f"
           }
          },
          "ternary": {
           "aaxis": {
            "gridcolor": "white",
            "linecolor": "white",
            "ticks": ""
           },
           "baxis": {
            "gridcolor": "white",
            "linecolor": "white",
            "ticks": ""
           },
           "bgcolor": "#E5ECF6",
           "caxis": {
            "gridcolor": "white",
            "linecolor": "white",
            "ticks": ""
           }
          },
          "title": {
           "x": 0.05
          },
          "xaxis": {
           "automargin": true,
           "gridcolor": "white",
           "linecolor": "white",
           "ticks": "",
           "title": {
            "standoff": 15
           },
           "zerolinecolor": "white",
           "zerolinewidth": 2
          },
          "yaxis": {
           "automargin": true,
           "gridcolor": "white",
           "linecolor": "white",
           "ticks": "",
           "title": {
            "standoff": 15
           },
           "zerolinecolor": "white",
           "zerolinewidth": 2
          }
         }
        },
        "title": {
         "text": "Hyperparameter Importances"
        },
        "xaxis": {
         "title": {
          "text": "Importance for Objective Value"
         }
        },
        "yaxis": {
         "title": {
          "text": "Hyperparameter"
         }
        }
       }
      }
     },
     "metadata": {},
     "output_type": "display_data"
    },
    {
     "data": {
      "application/vnd.plotly.v1+json": {
       "config": {
        "plotlyServerURL": "https://plot.ly"
       },
       "data": [
        {
         "dimensions": [
          {
           "label": "Objective Value",
           "range": [
            15539.313068227799,
            16404.688123616237
           ],
           "values": [
            15945.823555322555,
            15709.223550858744,
            15913.22133395581,
            15605.642712499528,
            16130.034254970546,
            15814.395599632018,
            15993.131704901463,
            16077.085155253948,
            16398.811837574034,
            16404.688123616237,
            15862.390343117455,
            15741.384494380847,
            15558.507284278592,
            15736.763256856868,
            15783.06388899798,
            15652.801272803055,
            15602.099079230604,
            15612.177722265455,
            15669.762271591902,
            15814.594571836067,
            15707.946965171619,
            15587.055387986038,
            15568.688743805295,
            15815.553756811887,
            15580.130483626743,
            15615.734518970696,
            15545.772360664829,
            15702.494549129997,
            16035.289944631193,
            15687.998893850046,
            15906.693940007845,
            15539.313068227799,
            15606.232741617896,
            15602.240348955074,
            15747.427481989185,
            16048.495580917943,
            15971.801982008714,
            15830.415758683683,
            15789.421356293858,
            15667.511943234282,
            15975.159470560617,
            15670.391856240885,
            15782.483390247304,
            15699.462435909903,
            15747.433756035141,
            15621.927460848781,
            15792.276651677947,
            15612.630023865802,
            15647.697801211942,
            15863.7573394167
           ]
          },
          {
           "label": "bagging_temperature",
           "range": [
            0.02554949481054314,
            0.9979243384925214
           ],
           "values": [
            0.15599452033620265,
            0.3042422429595377,
            0.5142344384136116,
            0.6842330265121569,
            0.18485445552552704,
            0.388677289689482,
            0.1987156815341724,
            0.3308980248526492,
            0.5612771975694962,
            0.907566473926093,
            0.7331983444045209,
            0.6983434483558018,
            0.07465856896706458,
            0.02554949481054314,
            0.03623768811989725,
            0.6187497895858647,
            0.474236888337441,
            0.43609983357228016,
            0.472122575176048,
            0.3214044889183519,
            0.11730768037159756,
            0.7812010022235985,
            0.8173753350622261,
            0.8623269956317011,
            0.9650427138928607,
            0.9979243384925214,
            0.9909776637868206,
            0.8150431175439147,
            0.8781874580104891,
            0.9228893933662036,
            0.9964695970610785,
            0.9454845290374145,
            0.9376351971543103,
            0.8063677356033616,
            0.8516530195378913,
            0.9250991141355231,
            0.760832340526905,
            0.8522433584662602,
            0.2221763961879726,
            0.671303321744255,
            0.5951306273500307,
            0.9732405794161595,
            0.9533280661249393,
            0.8974200927823434,
            0.9645691783324215,
            0.8828280693125291,
            0.8221582143683015,
            0.9390701436371262,
            0.7312805962397662,
            0.9970752903723208
           ]
          },
          {
           "label": "border_count",
           "range": [
            32,
            249
           ],
           "values": [
            45,
            149,
            164,
            130,
            249,
            92,
            33,
            46,
            204,
            87,
            112,
            153,
            189,
            200,
            187,
            243,
            122,
            178,
            222,
            121,
            71,
            128,
            136,
            167,
            98,
            97,
            65,
            74,
            226,
            49,
            59,
            104,
            139,
            108,
            147,
            79,
            158,
            137,
            62,
            108,
            32,
            109,
            86,
            97,
            173,
            62,
            99,
            193,
            131,
            118
           ]
          },
          {
           "label": "depth",
           "range": [
            4,
            10
           ],
           "values": [
            9,
            5,
            7,
            9,
            6,
            5,
            4,
            4,
            4,
            8,
            10,
            7,
            10,
            10,
            9,
            9,
            8,
            8,
            8,
            10,
            6,
            9,
            8,
            10,
            9,
            7,
            10,
            10,
            10,
            9,
            8,
            9,
            9,
            10,
            8,
            10,
            9,
            9,
            7,
            6,
            9,
            10,
            8,
            9,
            9,
            10,
            9,
            8,
            10,
            10
           ]
          },
          {
           "label": "grow_policy",
           "range": [
            0,
            2
           ],
           "ticktext": [
            "Depthwise",
            "SymmetricTree",
            "Lossguide"
           ],
           "tickvals": [
            0,
            1,
            2
           ],
           "values": [
            0,
            0,
            1,
            2,
            1,
            2,
            2,
            0,
            1,
            1,
            2,
            0,
            2,
            2,
            2,
            2,
            2,
            2,
            2,
            2,
            2,
            2,
            2,
            2,
            2,
            2,
            2,
            2,
            1,
            0,
            0,
            2,
            2,
            2,
            2,
            2,
            1,
            2,
            0,
            2,
            1,
            2,
            2,
            2,
            2,
            2,
            2,
            0,
            2,
            1
           ]
          },
          {
           "label": "iterations",
           "range": [
            611,
            2000
           ],
           "values": [
            1062,
            1955,
            938,
            1924,
            888,
            1883,
            711,
            611,
            1831,
            661,
            1486,
            1558,
            1625,
            1568,
            1319,
            1746,
            1713,
            1689,
            1355,
            1219,
            1683,
            1979,
            1980,
            1955,
            1984,
            1796,
            1432,
            1438,
            1166,
            1581,
            1048,
            1404,
            1392,
            1280,
            1494,
            1147,
            1631,
            1845,
            915,
            1434,
            1043,
            1896,
            1774,
            1898,
            1633,
            2000,
            821,
            1513,
            1290,
            1863
           ]
          },
          {
           "label": "l2_leaf_reg",
           "range": [
            1.041635907727117,
            9.881982429404655
           ],
           "values": [
            6.387926357773329,
            2.636424704863906,
            8.066583652537123,
            3.741523922560336,
            5.680612190600297,
            1.4070456001948426,
            9.881982429404655,
            8.767930832880342,
            7.419203085006955,
            3.82920382968694,
            4.429152461731821,
            2.5245079620572355,
            3.299777983044616,
            4.275619262524027,
            1.041635907727117,
            3.3567242400842154,
            5.0293386201734105,
            5.082106625964315,
            6.050392490320235,
            4.886720073997093,
            6.452961942531768,
            3.2576795611008222,
            3.001858753818671,
            2.825631424316161,
            1.9963362245462724,
            1.8703019254406785,
            1.857742410056239,
            2.0746896047400556,
            1.1055127996999916,
            3.00240939649323,
            2.274006104827874,
            1.7865444706705154,
            1.4695662812384993,
            2.4372818509964285,
            2.7428720298415756,
            1.6194458064435067,
            3.658935280043601,
            1.9555670164463619,
            3.100888758398338,
            2.5508367278558755,
            1.5667262628619896,
            2.1097636646684714,
            1.930065159893953,
            2.391592223713409,
            1.0633871974930698,
            2.8848109675923155,
            3.73675994712109,
            1.5821712076402883,
            3.3606481313105023,
            4.102561463255634
           ]
          },
          {
           "label": "learning_rate",
           "range": [
            -1.9535752818035934,
            -0.5294651921064348
           ],
           "ticktext": [
            "0.0111",
            "0.1",
            "0.295"
           ],
           "tickvals": [
            -1.9535752818035934,
            -1,
            -0.5294651921064348
           ],
           "values": [
            -0.5956796908358509,
            -0.7703812819387316,
            -1.4588391343526137,
            -0.5736443997074083,
            -1.021374252055309,
            -1.8692858443357863,
            -0.815057789256268,
            -1.470502653278686,
            -1.3024812972474298,
            -1.9535752818035934,
            -0.6222068808490886,
            -0.5294651921064348,
            -0.8740433242918632,
            -0.9110921652775663,
            -0.961074383446875,
            -0.7337957726474922,
            -1.0751039994317972,
            -1.100494780784208,
            -1.155777791451377,
            -0.8848523933495086,
            -1.1786573870389971,
            -0.722401895758227,
            -1.0247387718858096,
            -0.686017305534296,
            -0.8239187060598528,
            -0.8420691375699783,
            -0.9631087299795734,
            -0.9743906082314885,
            -0.9780349912049179,
            -0.9009622559690806,
            -0.6890328956564311,
            -0.8342224281494012,
            -0.8256144314040758,
            -1.0161200315538776,
            -0.7575356066564374,
            -0.6506808265341478,
            -0.9134644213920207,
            -0.5802457095505683,
            -0.8075346064535596,
            -1.0488363800494676,
            -0.7689598814679873,
            -0.858174033041003,
            -0.7878035325768431,
            -0.9506639505356739,
            -0.8732704501054551,
            -1.0170426627094344,
            -0.6190509369636702,
            -1.1124492547388116,
            -1.257357681663526,
            -0.9369874111736899
           ]
          },
          {
           "label": "min_data_in_leaf",
           "range": [
            1,
            97
           ],
           "values": [
            87,
            44,
            5,
            13,
            78,
            83,
            82,
            32,
            50,
            42,
            2,
            27,
            20,
            18,
            63,
            15,
            28,
            30,
            61,
            97,
            37,
            18,
            20,
            22,
            11,
            8,
            11,
            1,
            23,
            38,
            63,
            10,
            9,
            20,
            13,
            7,
            50,
            25,
            16,
            35,
            4,
            12,
            10,
            7,
            1,
            45,
            20,
            12,
            32,
            26
           ]
          },
          {
           "label": "random_strength",
           "range": [
            0.10048537192159834,
            9.75500252915016
           ],
           "values": [
            1.6445845403801216,
            1.915704647548995,
            2.0767704433677614,
            1.0669539286632004,
            5.5124317654984685,
            3.3207702745563172,
            7.7452232160369086,
            6.270651455592823,
            7.631771981307285,
            5.134849842530557,
            0.24526856087002413,
            3.5603536934605717,
            0.3479705747133418,
            0.1254444480063427,
            3.6018900811311307,
            0.18552757850671367,
            1.3206493962934973,
            2.7461347106566016,
            1.2692302915247597,
            4.212225141518412,
            9.75500252915016,
            1.3120150004665658,
            1.054630149665285,
            2.5174461393536145,
            0.7979050863219703,
            0.6827108239310278,
            0.8782857031406855,
            2.1568745323206766,
            2.771986514097589,
            1.751947711387675,
            0.7643223331226042,
            0.8393042307586931,
            1.4227237056527433,
            1.9092987101760126,
            0.8438353607358756,
            1.5943766766910183,
            2.187727073878516,
            0.10048537192159834,
            0.7352153895189808,
            1.6984528473145084,
            0.9567210852253278,
            0.5697299129355236,
            1.090514733630513,
            0.526435751315609,
            1.1061961970503555,
            2.0501470720543766,
            0.45433901844357116,
            1.5286893688153804,
            0.15841486805715144,
            1.0275228807156715
           ]
          }
         ],
         "labelangle": 30,
         "labelside": "bottom",
         "line": {
          "color": [
           15945.823555322555,
           15709.223550858744,
           15913.22133395581,
           15605.642712499528,
           16130.034254970546,
           15814.395599632018,
           15993.131704901463,
           16077.085155253948,
           16398.811837574034,
           16404.688123616237,
           15862.390343117455,
           15741.384494380847,
           15558.507284278592,
           15736.763256856868,
           15783.06388899798,
           15652.801272803055,
           15602.099079230604,
           15612.177722265455,
           15669.762271591902,
           15814.594571836067,
           15707.946965171619,
           15587.055387986038,
           15568.688743805295,
           15815.553756811887,
           15580.130483626743,
           15615.734518970696,
           15545.772360664829,
           15702.494549129997,
           16035.289944631193,
           15687.998893850046,
           15906.693940007845,
           15539.313068227799,
           15606.232741617896,
           15602.240348955074,
           15747.427481989185,
           16048.495580917943,
           15971.801982008714,
           15830.415758683683,
           15789.421356293858,
           15667.511943234282,
           15975.159470560617,
           15670.391856240885,
           15782.483390247304,
           15699.462435909903,
           15747.433756035141,
           15621.927460848781,
           15792.276651677947,
           15612.630023865802,
           15647.697801211942,
           15863.7573394167
          ],
          "colorbar": {
           "title": {
            "text": "Objective Value"
           }
          },
          "colorscale": [
           [
            0,
            "rgb(247,251,255)"
           ],
           [
            0.125,
            "rgb(222,235,247)"
           ],
           [
            0.25,
            "rgb(198,219,239)"
           ],
           [
            0.375,
            "rgb(158,202,225)"
           ],
           [
            0.5,
            "rgb(107,174,214)"
           ],
           [
            0.625,
            "rgb(66,146,198)"
           ],
           [
            0.75,
            "rgb(33,113,181)"
           ],
           [
            0.875,
            "rgb(8,81,156)"
           ],
           [
            1,
            "rgb(8,48,107)"
           ]
          ],
          "reversescale": true,
          "showscale": true
         },
         "type": "parcoords"
        }
       ],
       "layout": {
        "template": {
         "data": {
          "bar": [
           {
            "error_x": {
             "color": "#2a3f5f"
            },
            "error_y": {
             "color": "#2a3f5f"
            },
            "marker": {
             "line": {
              "color": "#E5ECF6",
              "width": 0.5
             },
             "pattern": {
              "fillmode": "overlay",
              "size": 10,
              "solidity": 0.2
             }
            },
            "type": "bar"
           }
          ],
          "barpolar": [
           {
            "marker": {
             "line": {
              "color": "#E5ECF6",
              "width": 0.5
             },
             "pattern": {
              "fillmode": "overlay",
              "size": 10,
              "solidity": 0.2
             }
            },
            "type": "barpolar"
           }
          ],
          "carpet": [
           {
            "aaxis": {
             "endlinecolor": "#2a3f5f",
             "gridcolor": "white",
             "linecolor": "white",
             "minorgridcolor": "white",
             "startlinecolor": "#2a3f5f"
            },
            "baxis": {
             "endlinecolor": "#2a3f5f",
             "gridcolor": "white",
             "linecolor": "white",
             "minorgridcolor": "white",
             "startlinecolor": "#2a3f5f"
            },
            "type": "carpet"
           }
          ],
          "choropleth": [
           {
            "colorbar": {
             "outlinewidth": 0,
             "ticks": ""
            },
            "type": "choropleth"
           }
          ],
          "contour": [
           {
            "colorbar": {
             "outlinewidth": 0,
             "ticks": ""
            },
            "colorscale": [
             [
              0,
              "#0d0887"
             ],
             [
              0.1111111111111111,
              "#46039f"
             ],
             [
              0.2222222222222222,
              "#7201a8"
             ],
             [
              0.3333333333333333,
              "#9c179e"
             ],
             [
              0.4444444444444444,
              "#bd3786"
             ],
             [
              0.5555555555555556,
              "#d8576b"
             ],
             [
              0.6666666666666666,
              "#ed7953"
             ],
             [
              0.7777777777777778,
              "#fb9f3a"
             ],
             [
              0.8888888888888888,
              "#fdca26"
             ],
             [
              1,
              "#f0f921"
             ]
            ],
            "type": "contour"
           }
          ],
          "contourcarpet": [
           {
            "colorbar": {
             "outlinewidth": 0,
             "ticks": ""
            },
            "type": "contourcarpet"
           }
          ],
          "heatmap": [
           {
            "colorbar": {
             "outlinewidth": 0,
             "ticks": ""
            },
            "colorscale": [
             [
              0,
              "#0d0887"
             ],
             [
              0.1111111111111111,
              "#46039f"
             ],
             [
              0.2222222222222222,
              "#7201a8"
             ],
             [
              0.3333333333333333,
              "#9c179e"
             ],
             [
              0.4444444444444444,
              "#bd3786"
             ],
             [
              0.5555555555555556,
              "#d8576b"
             ],
             [
              0.6666666666666666,
              "#ed7953"
             ],
             [
              0.7777777777777778,
              "#fb9f3a"
             ],
             [
              0.8888888888888888,
              "#fdca26"
             ],
             [
              1,
              "#f0f921"
             ]
            ],
            "type": "heatmap"
           }
          ],
          "heatmapgl": [
           {
            "colorbar": {
             "outlinewidth": 0,
             "ticks": ""
            },
            "colorscale": [
             [
              0,
              "#0d0887"
             ],
             [
              0.1111111111111111,
              "#46039f"
             ],
             [
              0.2222222222222222,
              "#7201a8"
             ],
             [
              0.3333333333333333,
              "#9c179e"
             ],
             [
              0.4444444444444444,
              "#bd3786"
             ],
             [
              0.5555555555555556,
              "#d8576b"
             ],
             [
              0.6666666666666666,
              "#ed7953"
             ],
             [
              0.7777777777777778,
              "#fb9f3a"
             ],
             [
              0.8888888888888888,
              "#fdca26"
             ],
             [
              1,
              "#f0f921"
             ]
            ],
            "type": "heatmapgl"
           }
          ],
          "histogram": [
           {
            "marker": {
             "pattern": {
              "fillmode": "overlay",
              "size": 10,
              "solidity": 0.2
             }
            },
            "type": "histogram"
           }
          ],
          "histogram2d": [
           {
            "colorbar": {
             "outlinewidth": 0,
             "ticks": ""
            },
            "colorscale": [
             [
              0,
              "#0d0887"
             ],
             [
              0.1111111111111111,
              "#46039f"
             ],
             [
              0.2222222222222222,
              "#7201a8"
             ],
             [
              0.3333333333333333,
              "#9c179e"
             ],
             [
              0.4444444444444444,
              "#bd3786"
             ],
             [
              0.5555555555555556,
              "#d8576b"
             ],
             [
              0.6666666666666666,
              "#ed7953"
             ],
             [
              0.7777777777777778,
              "#fb9f3a"
             ],
             [
              0.8888888888888888,
              "#fdca26"
             ],
             [
              1,
              "#f0f921"
             ]
            ],
            "type": "histogram2d"
           }
          ],
          "histogram2dcontour": [
           {
            "colorbar": {
             "outlinewidth": 0,
             "ticks": ""
            },
            "colorscale": [
             [
              0,
              "#0d0887"
             ],
             [
              0.1111111111111111,
              "#46039f"
             ],
             [
              0.2222222222222222,
              "#7201a8"
             ],
             [
              0.3333333333333333,
              "#9c179e"
             ],
             [
              0.4444444444444444,
              "#bd3786"
             ],
             [
              0.5555555555555556,
              "#d8576b"
             ],
             [
              0.6666666666666666,
              "#ed7953"
             ],
             [
              0.7777777777777778,
              "#fb9f3a"
             ],
             [
              0.8888888888888888,
              "#fdca26"
             ],
             [
              1,
              "#f0f921"
             ]
            ],
            "type": "histogram2dcontour"
           }
          ],
          "mesh3d": [
           {
            "colorbar": {
             "outlinewidth": 0,
             "ticks": ""
            },
            "type": "mesh3d"
           }
          ],
          "parcoords": [
           {
            "line": {
             "colorbar": {
              "outlinewidth": 0,
              "ticks": ""
             }
            },
            "type": "parcoords"
           }
          ],
          "pie": [
           {
            "automargin": true,
            "type": "pie"
           }
          ],
          "scatter": [
           {
            "fillpattern": {
             "fillmode": "overlay",
             "size": 10,
             "solidity": 0.2
            },
            "type": "scatter"
           }
          ],
          "scatter3d": [
           {
            "line": {
             "colorbar": {
              "outlinewidth": 0,
              "ticks": ""
             }
            },
            "marker": {
             "colorbar": {
              "outlinewidth": 0,
              "ticks": ""
             }
            },
            "type": "scatter3d"
           }
          ],
          "scattercarpet": [
           {
            "marker": {
             "colorbar": {
              "outlinewidth": 0,
              "ticks": ""
             }
            },
            "type": "scattercarpet"
           }
          ],
          "scattergeo": [
           {
            "marker": {
             "colorbar": {
              "outlinewidth": 0,
              "ticks": ""
             }
            },
            "type": "scattergeo"
           }
          ],
          "scattergl": [
           {
            "marker": {
             "colorbar": {
              "outlinewidth": 0,
              "ticks": ""
             }
            },
            "type": "scattergl"
           }
          ],
          "scattermapbox": [
           {
            "marker": {
             "colorbar": {
              "outlinewidth": 0,
              "ticks": ""
             }
            },
            "type": "scattermapbox"
           }
          ],
          "scatterpolar": [
           {
            "marker": {
             "colorbar": {
              "outlinewidth": 0,
              "ticks": ""
             }
            },
            "type": "scatterpolar"
           }
          ],
          "scatterpolargl": [
           {
            "marker": {
             "colorbar": {
              "outlinewidth": 0,
              "ticks": ""
             }
            },
            "type": "scatterpolargl"
           }
          ],
          "scatterternary": [
           {
            "marker": {
             "colorbar": {
              "outlinewidth": 0,
              "ticks": ""
             }
            },
            "type": "scatterternary"
           }
          ],
          "surface": [
           {
            "colorbar": {
             "outlinewidth": 0,
             "ticks": ""
            },
            "colorscale": [
             [
              0,
              "#0d0887"
             ],
             [
              0.1111111111111111,
              "#46039f"
             ],
             [
              0.2222222222222222,
              "#7201a8"
             ],
             [
              0.3333333333333333,
              "#9c179e"
             ],
             [
              0.4444444444444444,
              "#bd3786"
             ],
             [
              0.5555555555555556,
              "#d8576b"
             ],
             [
              0.6666666666666666,
              "#ed7953"
             ],
             [
              0.7777777777777778,
              "#fb9f3a"
             ],
             [
              0.8888888888888888,
              "#fdca26"
             ],
             [
              1,
              "#f0f921"
             ]
            ],
            "type": "surface"
           }
          ],
          "table": [
           {
            "cells": {
             "fill": {
              "color": "#EBF0F8"
             },
             "line": {
              "color": "white"
             }
            },
            "header": {
             "fill": {
              "color": "#C8D4E3"
             },
             "line": {
              "color": "white"
             }
            },
            "type": "table"
           }
          ]
         },
         "layout": {
          "annotationdefaults": {
           "arrowcolor": "#2a3f5f",
           "arrowhead": 0,
           "arrowwidth": 1
          },
          "autotypenumbers": "strict",
          "coloraxis": {
           "colorbar": {
            "outlinewidth": 0,
            "ticks": ""
           }
          },
          "colorscale": {
           "diverging": [
            [
             0,
             "#8e0152"
            ],
            [
             0.1,
             "#c51b7d"
            ],
            [
             0.2,
             "#de77ae"
            ],
            [
             0.3,
             "#f1b6da"
            ],
            [
             0.4,
             "#fde0ef"
            ],
            [
             0.5,
             "#f7f7f7"
            ],
            [
             0.6,
             "#e6f5d0"
            ],
            [
             0.7,
             "#b8e186"
            ],
            [
             0.8,
             "#7fbc41"
            ],
            [
             0.9,
             "#4d9221"
            ],
            [
             1,
             "#276419"
            ]
           ],
           "sequential": [
            [
             0,
             "#0d0887"
            ],
            [
             0.1111111111111111,
             "#46039f"
            ],
            [
             0.2222222222222222,
             "#7201a8"
            ],
            [
             0.3333333333333333,
             "#9c179e"
            ],
            [
             0.4444444444444444,
             "#bd3786"
            ],
            [
             0.5555555555555556,
             "#d8576b"
            ],
            [
             0.6666666666666666,
             "#ed7953"
            ],
            [
             0.7777777777777778,
             "#fb9f3a"
            ],
            [
             0.8888888888888888,
             "#fdca26"
            ],
            [
             1,
             "#f0f921"
            ]
           ],
           "sequentialminus": [
            [
             0,
             "#0d0887"
            ],
            [
             0.1111111111111111,
             "#46039f"
            ],
            [
             0.2222222222222222,
             "#7201a8"
            ],
            [
             0.3333333333333333,
             "#9c179e"
            ],
            [
             0.4444444444444444,
             "#bd3786"
            ],
            [
             0.5555555555555556,
             "#d8576b"
            ],
            [
             0.6666666666666666,
             "#ed7953"
            ],
            [
             0.7777777777777778,
             "#fb9f3a"
            ],
            [
             0.8888888888888888,
             "#fdca26"
            ],
            [
             1,
             "#f0f921"
            ]
           ]
          },
          "colorway": [
           "#636efa",
           "#EF553B",
           "#00cc96",
           "#ab63fa",
           "#FFA15A",
           "#19d3f3",
           "#FF6692",
           "#B6E880",
           "#FF97FF",
           "#FECB52"
          ],
          "font": {
           "color": "#2a3f5f"
          },
          "geo": {
           "bgcolor": "white",
           "lakecolor": "white",
           "landcolor": "#E5ECF6",
           "showlakes": true,
           "showland": true,
           "subunitcolor": "white"
          },
          "hoverlabel": {
           "align": "left"
          },
          "hovermode": "closest",
          "mapbox": {
           "style": "light"
          },
          "paper_bgcolor": "white",
          "plot_bgcolor": "#E5ECF6",
          "polar": {
           "angularaxis": {
            "gridcolor": "white",
            "linecolor": "white",
            "ticks": ""
           },
           "bgcolor": "#E5ECF6",
           "radialaxis": {
            "gridcolor": "white",
            "linecolor": "white",
            "ticks": ""
           }
          },
          "scene": {
           "xaxis": {
            "backgroundcolor": "#E5ECF6",
            "gridcolor": "white",
            "gridwidth": 2,
            "linecolor": "white",
            "showbackground": true,
            "ticks": "",
            "zerolinecolor": "white"
           },
           "yaxis": {
            "backgroundcolor": "#E5ECF6",
            "gridcolor": "white",
            "gridwidth": 2,
            "linecolor": "white",
            "showbackground": true,
            "ticks": "",
            "zerolinecolor": "white"
           },
           "zaxis": {
            "backgroundcolor": "#E5ECF6",
            "gridcolor": "white",
            "gridwidth": 2,
            "linecolor": "white",
            "showbackground": true,
            "ticks": "",
            "zerolinecolor": "white"
           }
          },
          "shapedefaults": {
           "line": {
            "color": "#2a3f5f"
           }
          },
          "ternary": {
           "aaxis": {
            "gridcolor": "white",
            "linecolor": "white",
            "ticks": ""
           },
           "baxis": {
            "gridcolor": "white",
            "linecolor": "white",
            "ticks": ""
           },
           "bgcolor": "#E5ECF6",
           "caxis": {
            "gridcolor": "white",
            "linecolor": "white",
            "ticks": ""
           }
          },
          "title": {
           "x": 0.05
          },
          "xaxis": {
           "automargin": true,
           "gridcolor": "white",
           "linecolor": "white",
           "ticks": "",
           "title": {
            "standoff": 15
           },
           "zerolinecolor": "white",
           "zerolinewidth": 2
          },
          "yaxis": {
           "automargin": true,
           "gridcolor": "white",
           "linecolor": "white",
           "ticks": "",
           "title": {
            "standoff": 15
           },
           "zerolinecolor": "white",
           "zerolinewidth": 2
          }
         }
        },
        "title": {
         "text": "Parallel Coordinate Plot"
        }
       }
      }
     },
     "metadata": {},
     "output_type": "display_data"
    }
   ],
   "source": [
    "# Визуализация результатов оптимизации\n",
    "import matplotlib.pyplot as plt\n",
    "\n",
    "# История trials\n",
    "fig = optuna.visualization.plot_optimization_history(study)\n",
    "fig.show()\n",
    "\n",
    "# Важность параметров\n",
    "fig = optuna.visualization.plot_param_importances(study)\n",
    "fig.show()\n",
    "\n",
    "# Параллельные координаты\n",
    "fig = optuna.visualization.plot_parallel_coordinate(study)\n",
    "fig.show()\n",
    "\n",
    "# Сохранение всех trials\n",
    "trials_df = study.trials_dataframe()\n",
    "trials_df.to_csv('optuna_trials.csv', index=False)"
   ]
  },
  {
   "cell_type": "code",
   "execution_count": 7,
   "id": "79a4a1f1",
   "metadata": {},
   "outputs": [],
   "source": [
    "def filtered_skills_top_n(df_train_result, n):\n",
    "    \"\"\"\n",
    "    Фильтрует навыки, оставляя только N наиболее популярных навыков для каждой позиции.\n",
    "    \n",
    "    :param df_skills_filtered: Входящий DataFrame с колонками 'position' и 'skills'.\n",
    "    :param n: Число наиболее популярных навыков, которое нужно оставить.\n",
    "    :return: Отфильтрованный DataFrame с сокращённым списком навыков.\n",
    "    \"\"\"\n",
    "    \n",
    "    result_df = df_train_result.copy()\n",
    "    #display(result_df['skills'])\n",
    "    # Перебираем каждую уникальную должность\n",
    "    for pos in result_df['position'].unique():\n",
    "        # Маска для выбора строк с нужной должностью\n",
    "        mask = result_df['position'] == pos\n",
    "        \n",
    "        # Собираем все навыки в один большой список\n",
    "        skills_lists = result_df.loc[mask, 'mapped_skills']\n",
    "        all_skills = [skill for sublist in skills_lists for skill in sublist]\n",
    "        \n",
    "        # Считаем частоту появления каждого навыка\n",
    "        skill_counts = Counter(all_skills)\n",
    "        \n",
    "        # Берём топ-n навыков\n",
    "        top_n_skills = set([skill for skill, _ in skill_counts.most_common(n)])\n",
    "        \n",
    "        # Применяем фильтр к списку навыков\n",
    "        result_df.loc[mask, 'mapped_skills'] = skills_lists.apply(\n",
    "            lambda skill_list: [s for s in skill_list if s in top_n_skills]\n",
    "        )\n",
    "        #display(result_df['skills'])\n",
    "    return result_df"
   ]
  },
  {
   "cell_type": "code",
   "execution_count": 17,
   "id": "7119ae2e",
   "metadata": {},
   "outputs": [
    {
     "name": "stdout",
     "output_type": "stream",
     "text": [
      "🚀 Запуск финального пайплайна обучения...\n",
      "==================================================\n",
      "1. Фильтрация по топ-N скилов...\n",
      "2. Фильтрация по топ-N вакансий...\n",
      "3. Обработка целевой переменной...\n",
      "4. Финальный размер датасета: (8653, 25)\n",
      "   Распределение по позициям:\n",
      "position\n",
      "Специалист технической поддержки             2646\n",
      "Системный администратор                      1810\n",
      "Дизайнер, художник                           1247\n",
      "Аналитик                                     1090\n",
      "Руководитель проектов                         554\n",
      "Специалист по информационной безопасности     525\n",
      "Бизнес-аналитик                               323\n",
      "Сетевой инженер                               278\n",
      "Технический писатель                          117\n",
      "Продуктовый аналитик                           63\n",
      "Name: count, dtype: int64\n",
      "5. Разделение на train/test...\n",
      "   Train size: 6922\n",
      "   Test size: 1731\n",
      "6. Обучение финальной модели...\n",
      "0:\tlearn: 44854.0267552\ttest: 43975.6665737\tbest: 43975.6665737 (0)\ttotal: 97.2ms\tremaining: 2m 12s\n",
      "1:\tlearn: 44179.2536985\ttest: 43331.5194781\tbest: 43331.5194781 (1)\ttotal: 208ms\tremaining: 2m 21s\n",
      "2:\tlearn: 43550.8127866\ttest: 42717.6777215\tbest: 42717.6777215 (2)\ttotal: 318ms\tremaining: 2m 24s\n",
      "3:\tlearn: 42919.4411028\ttest: 42099.8677077\tbest: 42099.8677077 (3)\ttotal: 418ms\tremaining: 2m 22s\n",
      "4:\tlearn: 42334.4903966\ttest: 41543.0097932\tbest: 41543.0097932 (4)\ttotal: 504ms\tremaining: 2m 17s\n",
      "5:\tlearn: 41769.3384463\ttest: 40997.1745833\tbest: 40997.1745833 (5)\ttotal: 624ms\tremaining: 2m 21s\n",
      "6:\tlearn: 41235.6943776\ttest: 40466.5114737\tbest: 40466.5114737 (6)\ttotal: 727ms\tremaining: 2m 21s\n",
      "7:\tlearn: 40710.8181291\ttest: 39964.2372004\tbest: 39964.2372004 (7)\ttotal: 827ms\tremaining: 2m 20s\n",
      "8:\tlearn: 40195.2766508\ttest: 39468.4866641\tbest: 39468.4866641 (8)\ttotal: 905ms\tremaining: 2m 16s\n",
      "9:\tlearn: 39705.0228310\ttest: 38999.7932251\tbest: 38999.7932251 (9)\ttotal: 1.03s\tremaining: 2m 19s\n",
      "10:\tlearn: 39240.7997268\ttest: 38552.7195889\tbest: 38552.7195889 (10)\ttotal: 1.14s\tremaining: 2m 20s\n",
      "11:\tlearn: 38805.2657612\ttest: 38142.1224783\tbest: 38142.1224783 (11)\ttotal: 1.25s\tremaining: 2m 20s\n",
      "12:\tlearn: 38373.2526757\ttest: 37735.5749285\tbest: 37735.5749285 (12)\ttotal: 1.37s\tremaining: 2m 22s\n",
      "13:\tlearn: 37953.0812863\ttest: 37326.4428262\tbest: 37326.4428262 (13)\ttotal: 1.43s\tremaining: 2m 18s\n",
      "14:\tlearn: 37549.8420234\ttest: 36940.0079134\tbest: 36940.0079134 (14)\ttotal: 1.52s\tremaining: 2m 16s\n",
      "15:\tlearn: 37120.0161043\ttest: 36511.5080817\tbest: 36511.5080817 (15)\ttotal: 1.62s\tremaining: 2m 16s\n",
      "16:\tlearn: 36767.9514185\ttest: 36185.2595943\tbest: 36185.2595943 (16)\ttotal: 1.72s\tremaining: 2m 16s\n",
      "17:\tlearn: 36395.8025535\ttest: 35824.9541329\tbest: 35824.9541329 (17)\ttotal: 1.82s\tremaining: 2m 16s\n",
      "18:\tlearn: 36040.1387960\ttest: 35490.3162857\tbest: 35490.3162857 (18)\ttotal: 1.92s\tremaining: 2m 16s\n",
      "19:\tlearn: 35722.8348810\ttest: 35195.8279189\tbest: 35195.8279189 (19)\ttotal: 2.03s\tremaining: 2m 16s\n",
      "20:\tlearn: 35371.1182586\ttest: 34844.8941809\tbest: 34844.8941809 (20)\ttotal: 2.12s\tremaining: 2m 15s\n",
      "21:\tlearn: 35064.9100644\ttest: 34560.3313226\tbest: 34560.3313226 (21)\ttotal: 2.22s\tremaining: 2m 15s\n",
      "22:\tlearn: 34737.2307006\ttest: 34244.0359779\tbest: 34244.0359779 (22)\ttotal: 2.33s\tremaining: 2m 16s\n",
      "23:\tlearn: 34424.9382094\ttest: 33940.5398802\tbest: 33940.5398802 (23)\ttotal: 2.43s\tremaining: 2m 15s\n",
      "24:\tlearn: 34144.7007067\ttest: 33681.5998899\tbest: 33681.5998899 (24)\ttotal: 2.53s\tremaining: 2m 15s\n",
      "25:\tlearn: 33869.3977358\ttest: 33416.5714231\tbest: 33416.5714231 (25)\ttotal: 2.64s\tremaining: 2m 16s\n",
      "26:\tlearn: 33640.5580202\ttest: 33198.4339455\tbest: 33198.4339455 (26)\ttotal: 2.75s\tremaining: 2m 16s\n",
      "27:\tlearn: 33360.1231070\ttest: 32919.6871273\tbest: 32919.6871273 (27)\ttotal: 2.85s\tremaining: 2m 16s\n",
      "28:\tlearn: 33089.3697941\ttest: 32665.5109580\tbest: 32665.5109580 (28)\ttotal: 2.96s\tremaining: 2m 16s\n",
      "29:\tlearn: 32897.6949876\ttest: 32480.5636386\tbest: 32480.5636386 (29)\ttotal: 3.06s\tremaining: 2m 16s\n",
      "30:\tlearn: 32672.7785715\ttest: 32270.4433825\tbest: 32270.4433825 (30)\ttotal: 3.17s\tremaining: 2m 16s\n",
      "31:\tlearn: 32416.4390341\ttest: 32019.7068743\tbest: 32019.7068743 (31)\ttotal: 3.28s\tremaining: 2m 16s\n",
      "32:\tlearn: 32258.2081093\ttest: 31869.4752524\tbest: 31869.4752524 (32)\ttotal: 3.38s\tremaining: 2m 16s\n",
      "33:\tlearn: 32044.1023246\ttest: 31676.8797017\tbest: 31676.8797017 (33)\ttotal: 3.48s\tremaining: 2m 16s\n",
      "34:\tlearn: 31819.6066847\ttest: 31473.3980409\tbest: 31473.3980409 (34)\ttotal: 3.65s\tremaining: 2m 19s\n",
      "35:\tlearn: 31630.0632957\ttest: 31290.4509610\tbest: 31290.4509610 (35)\ttotal: 3.76s\tremaining: 2m 19s\n",
      "36:\tlearn: 31483.4616198\ttest: 31160.6383060\tbest: 31160.6383060 (36)\ttotal: 3.85s\tremaining: 2m 18s\n",
      "37:\tlearn: 31346.5445463\ttest: 31032.6883470\tbest: 31032.6883470 (37)\ttotal: 3.94s\tremaining: 2m 17s\n",
      "38:\tlearn: 31134.9020628\ttest: 30829.4161395\tbest: 30829.4161395 (38)\ttotal: 4.04s\tremaining: 2m 17s\n",
      "39:\tlearn: 30945.9938488\ttest: 30653.3856111\tbest: 30653.3856111 (39)\ttotal: 4.15s\tremaining: 2m 17s\n",
      "40:\tlearn: 30798.6204993\ttest: 30515.4759753\tbest: 30515.4759753 (40)\ttotal: 4.24s\tremaining: 2m 16s\n",
      "41:\tlearn: 30642.1319467\ttest: 30365.3265324\tbest: 30365.3265324 (41)\ttotal: 4.33s\tremaining: 2m 16s\n",
      "42:\tlearn: 30464.8586627\ttest: 30202.3804681\tbest: 30202.3804681 (42)\ttotal: 4.44s\tremaining: 2m 16s\n",
      "43:\tlearn: 30309.8301282\ttest: 30046.8184034\tbest: 30046.8184034 (43)\ttotal: 4.53s\tremaining: 2m 16s\n",
      "44:\tlearn: 30123.1498205\ttest: 29858.7407317\tbest: 29858.7407317 (44)\ttotal: 4.62s\tremaining: 2m 15s\n",
      "45:\tlearn: 29949.3795692\ttest: 29669.4350765\tbest: 29669.4350765 (45)\ttotal: 4.72s\tremaining: 2m 15s\n",
      "46:\tlearn: 29798.7719483\ttest: 29534.7387445\tbest: 29534.7387445 (46)\ttotal: 4.84s\tremaining: 2m 15s\n",
      "47:\tlearn: 29687.2254907\ttest: 29424.5635947\tbest: 29424.5635947 (47)\ttotal: 4.94s\tremaining: 2m 15s\n",
      "48:\tlearn: 29546.0747065\ttest: 29285.0799230\tbest: 29285.0799230 (48)\ttotal: 5.03s\tremaining: 2m 15s\n",
      "49:\tlearn: 29446.5997447\ttest: 29200.7737206\tbest: 29200.7737206 (49)\ttotal: 5.14s\tremaining: 2m 15s\n",
      "50:\tlearn: 29337.1721232\ttest: 29102.6617043\tbest: 29102.6617043 (50)\ttotal: 5.24s\tremaining: 2m 15s\n",
      "51:\tlearn: 29198.2179810\ttest: 28968.4695228\tbest: 28968.4695228 (51)\ttotal: 5.34s\tremaining: 2m 14s\n",
      "52:\tlearn: 29069.8943399\ttest: 28830.9065802\tbest: 28830.9065802 (52)\ttotal: 5.47s\tremaining: 2m 15s\n",
      "53:\tlearn: 28911.6880362\ttest: 28643.2317271\tbest: 28643.2317271 (53)\ttotal: 5.58s\tremaining: 2m 15s\n",
      "54:\tlearn: 28783.6190486\ttest: 28532.1734703\tbest: 28532.1734703 (54)\ttotal: 5.7s\tremaining: 2m 15s\n",
      "55:\tlearn: 28685.6293526\ttest: 28435.3799328\tbest: 28435.3799328 (55)\ttotal: 5.81s\tremaining: 2m 15s\n",
      "56:\tlearn: 28593.2071208\ttest: 28345.1315302\tbest: 28345.1315302 (56)\ttotal: 5.91s\tremaining: 2m 15s\n",
      "57:\tlearn: 28512.7123206\ttest: 28269.1290435\tbest: 28269.1290435 (57)\ttotal: 6s\tremaining: 2m 15s\n",
      "58:\tlearn: 28387.6471543\ttest: 28148.0424904\tbest: 28148.0424904 (58)\ttotal: 6.12s\tremaining: 2m 15s\n",
      "59:\tlearn: 28308.8614485\ttest: 28098.6081731\tbest: 28098.6081731 (59)\ttotal: 6.23s\tremaining: 2m 15s\n",
      "60:\tlearn: 28222.3463440\ttest: 27999.6711631\tbest: 27999.6711631 (60)\ttotal: 6.32s\tremaining: 2m 15s\n",
      "61:\tlearn: 28139.5737615\ttest: 27914.2474604\tbest: 27914.2474604 (61)\ttotal: 6.42s\tremaining: 2m 15s\n",
      "62:\tlearn: 28051.7094541\ttest: 27821.6893940\tbest: 27821.6893940 (62)\ttotal: 6.53s\tremaining: 2m 15s\n",
      "63:\tlearn: 27992.4256506\ttest: 27765.2192767\tbest: 27765.2192767 (63)\ttotal: 6.64s\tremaining: 2m 15s\n",
      "64:\tlearn: 27898.5817569\ttest: 27672.5176450\tbest: 27672.5176450 (64)\ttotal: 6.74s\tremaining: 2m 14s\n",
      "65:\tlearn: 27822.0407761\ttest: 27592.9150212\tbest: 27592.9150212 (65)\ttotal: 6.83s\tremaining: 2m 14s\n",
      "66:\tlearn: 27756.8283974\ttest: 27543.2656626\tbest: 27543.2656626 (66)\ttotal: 6.93s\tremaining: 2m 14s\n",
      "67:\tlearn: 27691.0404785\ttest: 27483.8192480\tbest: 27483.8192480 (67)\ttotal: 7.03s\tremaining: 2m 14s\n",
      "68:\tlearn: 27625.0557134\ttest: 27409.1603528\tbest: 27409.1603528 (68)\ttotal: 7.14s\tremaining: 2m 14s\n",
      "69:\tlearn: 27548.8191085\ttest: 27342.3904856\tbest: 27342.3904856 (69)\ttotal: 7.24s\tremaining: 2m 14s\n",
      "70:\tlearn: 27478.6343636\ttest: 27273.0407439\tbest: 27273.0407439 (70)\ttotal: 7.34s\tremaining: 2m 13s\n",
      "71:\tlearn: 27383.9731606\ttest: 27178.7652661\tbest: 27178.7652661 (71)\ttotal: 7.45s\tremaining: 2m 13s\n",
      "72:\tlearn: 27307.5986554\ttest: 27110.2168891\tbest: 27110.2168891 (72)\ttotal: 7.55s\tremaining: 2m 13s\n",
      "73:\tlearn: 27225.9385302\ttest: 27029.6803781\tbest: 27029.6803781 (73)\ttotal: 7.67s\tremaining: 2m 13s\n",
      "74:\tlearn: 27162.0149842\ttest: 26968.6158851\tbest: 26968.6158851 (74)\ttotal: 7.76s\tremaining: 2m 13s\n",
      "75:\tlearn: 27098.2886457\ttest: 26907.1640236\tbest: 26907.1640236 (75)\ttotal: 7.86s\tremaining: 2m 13s\n",
      "76:\tlearn: 27048.7100808\ttest: 26864.2354312\tbest: 26864.2354312 (76)\ttotal: 7.97s\tremaining: 2m 13s\n",
      "77:\tlearn: 26990.8345438\ttest: 26811.3034041\tbest: 26811.3034041 (77)\ttotal: 8.07s\tremaining: 2m 13s\n",
      "78:\tlearn: 26939.7785125\ttest: 26766.9900191\tbest: 26766.9900191 (78)\ttotal: 8.18s\tremaining: 2m 13s\n",
      "79:\tlearn: 26883.4728692\ttest: 26717.6066021\tbest: 26717.6066021 (79)\ttotal: 8.35s\tremaining: 2m 14s\n",
      "80:\tlearn: 26840.9310579\ttest: 26673.3355995\tbest: 26673.3355995 (80)\ttotal: 8.45s\tremaining: 2m 14s\n",
      "81:\tlearn: 26802.8686248\ttest: 26641.0281913\tbest: 26641.0281913 (81)\ttotal: 8.55s\tremaining: 2m 13s\n",
      "82:\tlearn: 26749.7779530\ttest: 26578.3810309\tbest: 26578.3810309 (82)\ttotal: 8.63s\tremaining: 2m 13s\n",
      "83:\tlearn: 26701.3637999\ttest: 26532.8963065\tbest: 26532.8963065 (83)\ttotal: 8.73s\tremaining: 2m 13s\n",
      "84:\tlearn: 26634.6052560\ttest: 26472.4057546\tbest: 26472.4057546 (84)\ttotal: 8.82s\tremaining: 2m 12s\n",
      "85:\tlearn: 26584.0098927\ttest: 26426.6285626\tbest: 26426.6285626 (85)\ttotal: 8.92s\tremaining: 2m 12s\n",
      "86:\tlearn: 26519.7923302\ttest: 26360.4943194\tbest: 26360.4943194 (86)\ttotal: 9.03s\tremaining: 2m 12s\n",
      "87:\tlearn: 26476.4675317\ttest: 26317.0438170\tbest: 26317.0438170 (87)\ttotal: 9.13s\tremaining: 2m 12s\n",
      "88:\tlearn: 26419.4531242\ttest: 26255.4619484\tbest: 26255.4619484 (88)\ttotal: 9.24s\tremaining: 2m 12s\n",
      "89:\tlearn: 26373.6736416\ttest: 26210.8269991\tbest: 26210.8269991 (89)\ttotal: 9.35s\tremaining: 2m 12s\n",
      "90:\tlearn: 26338.7895850\ttest: 26176.0957221\tbest: 26176.0957221 (90)\ttotal: 9.44s\tremaining: 2m 12s\n",
      "91:\tlearn: 26279.4509548\ttest: 26124.8800095\tbest: 26124.8800095 (91)\ttotal: 9.54s\tremaining: 2m 12s\n",
      "92:\tlearn: 26217.6938423\ttest: 26058.0416021\tbest: 26058.0416021 (92)\ttotal: 9.65s\tremaining: 2m 12s\n",
      "93:\tlearn: 26172.7231282\ttest: 26013.9753011\tbest: 26013.9753011 (93)\ttotal: 9.75s\tremaining: 2m 11s\n",
      "94:\tlearn: 26133.7771956\ttest: 25985.5442071\tbest: 25985.5442071 (94)\ttotal: 9.87s\tremaining: 2m 12s\n",
      "95:\tlearn: 26095.5859046\ttest: 25948.1498653\tbest: 25948.1498653 (95)\ttotal: 9.95s\tremaining: 2m 11s\n",
      "96:\tlearn: 26063.9888202\ttest: 25921.6693652\tbest: 25921.6693652 (96)\ttotal: 10s\tremaining: 2m 11s\n",
      "97:\tlearn: 26035.6554426\ttest: 25895.3952122\tbest: 25895.3952122 (97)\ttotal: 10.1s\tremaining: 2m 11s\n",
      "98:\tlearn: 25996.5926297\ttest: 25856.4087937\tbest: 25856.4087937 (98)\ttotal: 10.3s\tremaining: 2m 11s\n",
      "99:\tlearn: 25974.8989943\ttest: 25845.1320826\tbest: 25845.1320826 (99)\ttotal: 10.3s\tremaining: 2m 10s\n",
      "100:\tlearn: 25945.3240284\ttest: 25816.8223313\tbest: 25816.8223313 (100)\ttotal: 10.4s\tremaining: 2m 10s\n",
      "101:\tlearn: 25892.4823982\ttest: 25763.1094041\tbest: 25763.1094041 (101)\ttotal: 10.5s\tremaining: 2m 10s\n",
      "102:\tlearn: 25861.4850175\ttest: 25730.7834765\tbest: 25730.7834765 (102)\ttotal: 10.6s\tremaining: 2m 9s\n",
      "103:\tlearn: 25828.9501029\ttest: 25697.5824835\tbest: 25697.5824835 (103)\ttotal: 10.7s\tremaining: 2m 9s\n",
      "104:\tlearn: 25802.2730351\ttest: 25677.3940389\tbest: 25677.3940389 (104)\ttotal: 10.8s\tremaining: 2m 9s\n",
      "105:\tlearn: 25759.9409932\ttest: 25636.9028164\tbest: 25636.9028164 (105)\ttotal: 10.9s\tremaining: 2m 9s\n",
      "106:\tlearn: 25727.5309888\ttest: 25605.4878832\tbest: 25605.4878832 (106)\ttotal: 11s\tremaining: 2m 8s\n",
      "107:\tlearn: 25703.9814495\ttest: 25579.3761186\tbest: 25579.3761186 (107)\ttotal: 11.1s\tremaining: 2m 8s\n",
      "108:\tlearn: 25683.3579178\ttest: 25561.5443266\tbest: 25561.5443266 (108)\ttotal: 11.1s\tremaining: 2m 8s\n",
      "109:\tlearn: 25651.6156785\ttest: 25537.7927018\tbest: 25537.7927018 (109)\ttotal: 11.2s\tremaining: 2m 8s\n",
      "110:\tlearn: 25622.9988589\ttest: 25516.5471680\tbest: 25516.5471680 (110)\ttotal: 11.3s\tremaining: 2m 8s\n",
      "111:\tlearn: 25593.9924375\ttest: 25496.2050507\tbest: 25496.2050507 (111)\ttotal: 11.4s\tremaining: 2m 7s\n",
      "112:\tlearn: 25578.9850046\ttest: 25477.4299192\tbest: 25477.4299192 (112)\ttotal: 11.5s\tremaining: 2m 7s\n",
      "113:\tlearn: 25547.2186041\ttest: 25449.3761140\tbest: 25449.3761140 (113)\ttotal: 11.6s\tremaining: 2m 7s\n",
      "114:\tlearn: 25534.8816048\ttest: 25430.7508530\tbest: 25430.7508530 (114)\ttotal: 11.7s\tremaining: 2m 7s\n",
      "115:\tlearn: 25508.1144683\ttest: 25401.1543102\tbest: 25401.1543102 (115)\ttotal: 11.8s\tremaining: 2m 6s\n",
      "116:\tlearn: 25481.1718807\ttest: 25372.1240041\tbest: 25372.1240041 (116)\ttotal: 11.9s\tremaining: 2m 6s\n",
      "117:\tlearn: 25473.4292083\ttest: 25363.4392415\tbest: 25363.4392415 (117)\ttotal: 11.9s\tremaining: 2m 6s\n",
      "118:\tlearn: 25455.6245272\ttest: 25343.6452602\tbest: 25343.6452602 (118)\ttotal: 12s\tremaining: 2m 6s\n",
      "119:\tlearn: 25445.2168162\ttest: 25336.9600588\tbest: 25336.9600588 (119)\ttotal: 12.1s\tremaining: 2m 5s\n",
      "120:\tlearn: 25432.2535584\ttest: 25327.8844896\tbest: 25327.8844896 (120)\ttotal: 12.2s\tremaining: 2m 5s\n",
      "121:\tlearn: 25391.5240328\ttest: 25293.7898493\tbest: 25293.7898493 (121)\ttotal: 12.3s\tremaining: 2m 4s\n",
      "122:\tlearn: 25375.7578499\ttest: 25285.8465867\tbest: 25285.8465867 (122)\ttotal: 12.3s\tremaining: 2m 4s\n",
      "123:\tlearn: 25340.4216291\ttest: 25253.4133512\tbest: 25253.4133512 (123)\ttotal: 12.4s\tremaining: 2m 4s\n",
      "124:\tlearn: 25321.0822529\ttest: 25238.3727023\tbest: 25238.3727023 (124)\ttotal: 12.5s\tremaining: 2m 4s\n",
      "125:\tlearn: 25292.0851386\ttest: 25209.4049335\tbest: 25209.4049335 (125)\ttotal: 12.6s\tremaining: 2m 4s\n",
      "126:\tlearn: 25254.8039696\ttest: 25179.7414444\tbest: 25179.7414444 (126)\ttotal: 12.7s\tremaining: 2m 4s\n",
      "127:\tlearn: 25244.9633922\ttest: 25170.6989101\tbest: 25170.6989101 (127)\ttotal: 12.8s\tremaining: 2m 4s\n",
      "128:\tlearn: 25213.9475637\ttest: 25137.3156829\tbest: 25137.3156829 (128)\ttotal: 12.9s\tremaining: 2m 3s\n",
      "129:\tlearn: 25191.3982201\ttest: 25111.2824300\tbest: 25111.2824300 (129)\ttotal: 13s\tremaining: 2m 3s\n",
      "130:\tlearn: 25172.3433226\ttest: 25096.3404104\tbest: 25096.3404104 (130)\ttotal: 13.1s\tremaining: 2m 3s\n",
      "131:\tlearn: 25151.7645527\ttest: 25077.4677069\tbest: 25077.4677069 (131)\ttotal: 13.1s\tremaining: 2m 2s\n",
      "132:\tlearn: 25143.9798083\ttest: 25072.2757699\tbest: 25072.2757699 (132)\ttotal: 13.2s\tremaining: 2m 2s\n",
      "133:\tlearn: 25133.0627281\ttest: 25065.7489843\tbest: 25065.7489843 (133)\ttotal: 13.3s\tremaining: 2m 2s\n",
      "134:\tlearn: 25114.3632257\ttest: 25049.8172262\tbest: 25049.8172262 (134)\ttotal: 13.4s\tremaining: 2m 2s\n",
      "135:\tlearn: 25097.3791460\ttest: 25031.9095848\tbest: 25031.9095848 (135)\ttotal: 13.5s\tremaining: 2m 1s\n",
      "136:\tlearn: 25076.1666959\ttest: 25015.2000113\tbest: 25015.2000113 (136)\ttotal: 13.6s\tremaining: 2m 1s\n",
      "137:\tlearn: 25051.3462235\ttest: 24989.5114584\tbest: 24989.5114584 (137)\ttotal: 13.7s\tremaining: 2m 1s\n",
      "138:\tlearn: 25036.9407685\ttest: 24983.9177873\tbest: 24983.9177873 (138)\ttotal: 13.7s\tremaining: 2m 1s\n",
      "139:\tlearn: 25027.2179694\ttest: 24974.2059926\tbest: 24974.2059926 (139)\ttotal: 13.8s\tremaining: 2m 1s\n",
      "140:\tlearn: 25014.6614513\ttest: 24964.6400359\tbest: 24964.6400359 (140)\ttotal: 13.9s\tremaining: 2m\n",
      "141:\tlearn: 25002.7823625\ttest: 24954.2802271\tbest: 24954.2802271 (141)\ttotal: 14s\tremaining: 2m\n",
      "142:\tlearn: 24994.5344225\ttest: 24942.6893635\tbest: 24942.6893635 (142)\ttotal: 14.1s\tremaining: 2m\n",
      "143:\tlearn: 24964.0089750\ttest: 24906.9252905\tbest: 24906.9252905 (143)\ttotal: 14.2s\tremaining: 2m\n",
      "144:\tlearn: 24945.9520767\ttest: 24889.1648496\tbest: 24889.1648496 (144)\ttotal: 14.3s\tremaining: 2m\n",
      "145:\tlearn: 24928.6167385\ttest: 24872.4260559\tbest: 24872.4260559 (145)\ttotal: 14.3s\tremaining: 1m 59s\n",
      "146:\tlearn: 24907.7069278\ttest: 24850.1152629\tbest: 24850.1152629 (146)\ttotal: 14.4s\tremaining: 1m 59s\n",
      "147:\tlearn: 24894.1134239\ttest: 24838.7465670\tbest: 24838.7465670 (147)\ttotal: 14.5s\tremaining: 1m 59s\n",
      "148:\tlearn: 24874.9572506\ttest: 24817.9843170\tbest: 24817.9843170 (148)\ttotal: 14.6s\tremaining: 1m 59s\n",
      "149:\tlearn: 24864.6035381\ttest: 24808.3505407\tbest: 24808.3505407 (149)\ttotal: 14.7s\tremaining: 1m 59s\n",
      "150:\tlearn: 24854.8097628\ttest: 24804.4352190\tbest: 24804.4352190 (150)\ttotal: 14.8s\tremaining: 1m 59s\n",
      "151:\tlearn: 24843.7276665\ttest: 24794.4646961\tbest: 24794.4646961 (151)\ttotal: 14.9s\tremaining: 1m 59s\n",
      "152:\tlearn: 24832.6891471\ttest: 24781.7108859\tbest: 24781.7108859 (152)\ttotal: 15s\tremaining: 1m 58s\n",
      "153:\tlearn: 24829.6483444\ttest: 24779.0970654\tbest: 24779.0970654 (153)\ttotal: 15.1s\tremaining: 1m 58s\n",
      "154:\tlearn: 24817.8824839\ttest: 24764.5094865\tbest: 24764.5094865 (154)\ttotal: 15.2s\tremaining: 1m 58s\n",
      "155:\tlearn: 24805.8972478\ttest: 24754.0216166\tbest: 24754.0216166 (155)\ttotal: 15.3s\tremaining: 1m 58s\n",
      "156:\tlearn: 24791.2121613\ttest: 24743.4285448\tbest: 24743.4285448 (156)\ttotal: 15.4s\tremaining: 1m 58s\n",
      "157:\tlearn: 24782.3791536\ttest: 24736.8580267\tbest: 24736.8580267 (157)\ttotal: 15.5s\tremaining: 1m 58s\n",
      "158:\tlearn: 24773.6397322\ttest: 24727.5798708\tbest: 24727.5798708 (158)\ttotal: 15.5s\tremaining: 1m 57s\n",
      "159:\tlearn: 24763.5355846\ttest: 24719.8619404\tbest: 24719.8619404 (159)\ttotal: 15.6s\tremaining: 1m 57s\n",
      "160:\tlearn: 24741.8428669\ttest: 24697.9652911\tbest: 24697.9652911 (160)\ttotal: 15.7s\tremaining: 1m 57s\n",
      "161:\tlearn: 24734.5951357\ttest: 24690.9074186\tbest: 24690.9074186 (161)\ttotal: 15.8s\tremaining: 1m 57s\n",
      "162:\tlearn: 24718.3276728\ttest: 24679.2177707\tbest: 24679.2177707 (162)\ttotal: 15.9s\tremaining: 1m 57s\n",
      "163:\tlearn: 24713.3129714\ttest: 24674.0262207\tbest: 24674.0262207 (163)\ttotal: 15.9s\tremaining: 1m 56s\n",
      "164:\tlearn: 24701.2910475\ttest: 24660.8487630\tbest: 24660.8487630 (164)\ttotal: 16s\tremaining: 1m 56s\n",
      "165:\tlearn: 24688.1328121\ttest: 24651.2372994\tbest: 24651.2372994 (165)\ttotal: 16.1s\tremaining: 1m 56s\n",
      "166:\tlearn: 24677.3938351\ttest: 24636.0199453\tbest: 24636.0199453 (166)\ttotal: 16.2s\tremaining: 1m 56s\n",
      "167:\tlearn: 24659.4167542\ttest: 24621.0705081\tbest: 24621.0705081 (167)\ttotal: 16.3s\tremaining: 1m 56s\n",
      "168:\tlearn: 24657.7553060\ttest: 24621.0110226\tbest: 24621.0110226 (168)\ttotal: 16.4s\tremaining: 1m 56s\n",
      "169:\tlearn: 24643.6679494\ttest: 24607.2785775\tbest: 24607.2785775 (169)\ttotal: 16.5s\tremaining: 1m 56s\n",
      "170:\tlearn: 24636.7567631\ttest: 24600.8779419\tbest: 24600.8779419 (170)\ttotal: 16.6s\tremaining: 1m 55s\n",
      "171:\tlearn: 24627.7895114\ttest: 24593.7488209\tbest: 24593.7488209 (171)\ttotal: 16.7s\tremaining: 1m 55s\n",
      "172:\tlearn: 24616.7452056\ttest: 24585.3511895\tbest: 24585.3511895 (172)\ttotal: 16.8s\tremaining: 1m 55s\n",
      "173:\tlearn: 24604.7982140\ttest: 24575.1674051\tbest: 24575.1674051 (173)\ttotal: 16.9s\tremaining: 1m 55s\n",
      "174:\tlearn: 24594.2418823\ttest: 24565.0853311\tbest: 24565.0853311 (174)\ttotal: 17s\tremaining: 1m 55s\n",
      "175:\tlearn: 24586.4255404\ttest: 24560.2151890\tbest: 24560.2151890 (175)\ttotal: 17s\tremaining: 1m 55s\n",
      "176:\tlearn: 24575.2954698\ttest: 24550.4725900\tbest: 24550.4725900 (176)\ttotal: 17.1s\tremaining: 1m 55s\n",
      "177:\tlearn: 24568.7472158\ttest: 24549.0396381\tbest: 24549.0396381 (177)\ttotal: 17.2s\tremaining: 1m 55s\n",
      "178:\tlearn: 24559.8918892\ttest: 24541.1168317\tbest: 24541.1168317 (178)\ttotal: 17.3s\tremaining: 1m 54s\n",
      "179:\tlearn: 24552.8992856\ttest: 24532.6812746\tbest: 24532.6812746 (179)\ttotal: 17.4s\tremaining: 1m 54s\n",
      "180:\tlearn: 24546.7782733\ttest: 24529.9461020\tbest: 24529.9461020 (180)\ttotal: 17.4s\tremaining: 1m 54s\n",
      "181:\tlearn: 24538.4929438\ttest: 24521.0003675\tbest: 24521.0003675 (181)\ttotal: 17.5s\tremaining: 1m 53s\n",
      "182:\tlearn: 24532.5609309\ttest: 24513.3720956\tbest: 24513.3720956 (182)\ttotal: 17.5s\tremaining: 1m 53s\n",
      "183:\tlearn: 24523.2842129\ttest: 24507.0566249\tbest: 24507.0566249 (183)\ttotal: 17.6s\tremaining: 1m 53s\n",
      "184:\tlearn: 24504.2145509\ttest: 24494.3593333\tbest: 24494.3593333 (184)\ttotal: 17.7s\tremaining: 1m 53s\n",
      "185:\tlearn: 24502.6066666\ttest: 24493.7413120\tbest: 24493.7413120 (185)\ttotal: 17.8s\tremaining: 1m 52s\n",
      "186:\tlearn: 24495.2875305\ttest: 24489.7590079\tbest: 24489.7590079 (186)\ttotal: 17.9s\tremaining: 1m 52s\n",
      "187:\tlearn: 24479.7193184\ttest: 24478.0868774\tbest: 24478.0868774 (187)\ttotal: 18s\tremaining: 1m 52s\n",
      "188:\tlearn: 24468.1061629\ttest: 24470.1614429\tbest: 24470.1614429 (188)\ttotal: 18.1s\tremaining: 1m 52s\n",
      "189:\tlearn: 24462.3797670\ttest: 24470.2248857\tbest: 24470.1614429 (188)\ttotal: 18.2s\tremaining: 1m 52s\n",
      "190:\tlearn: 24457.2304410\ttest: 24465.2395077\tbest: 24465.2395077 (190)\ttotal: 18.2s\tremaining: 1m 52s\n",
      "191:\tlearn: 24448.8423367\ttest: 24456.8708297\tbest: 24456.8708297 (191)\ttotal: 18.3s\tremaining: 1m 52s\n",
      "192:\tlearn: 24438.6487664\ttest: 24449.3375568\tbest: 24449.3375568 (192)\ttotal: 18.4s\tremaining: 1m 51s\n",
      "193:\tlearn: 24432.8505568\ttest: 24441.9899393\tbest: 24441.9899393 (193)\ttotal: 18.5s\tremaining: 1m 51s\n",
      "194:\tlearn: 24424.6118924\ttest: 24433.3279814\tbest: 24433.3279814 (194)\ttotal: 18.6s\tremaining: 1m 51s\n",
      "195:\tlearn: 24419.4514253\ttest: 24429.2558489\tbest: 24429.2558489 (195)\ttotal: 18.7s\tremaining: 1m 51s\n",
      "196:\tlearn: 24403.4178837\ttest: 24414.1492609\tbest: 24414.1492609 (196)\ttotal: 18.8s\tremaining: 1m 51s\n",
      "197:\tlearn: 24399.3184745\ttest: 24410.6444415\tbest: 24410.6444415 (197)\ttotal: 18.9s\tremaining: 1m 51s\n",
      "198:\tlearn: 24384.4323984\ttest: 24395.5761781\tbest: 24395.5761781 (198)\ttotal: 19s\tremaining: 1m 51s\n",
      "199:\tlearn: 24368.3225557\ttest: 24380.4503441\tbest: 24380.4503441 (199)\ttotal: 19.1s\tremaining: 1m 51s\n",
      "200:\tlearn: 24362.4870408\ttest: 24377.1524230\tbest: 24377.1524230 (200)\ttotal: 19.2s\tremaining: 1m 51s\n",
      "201:\tlearn: 24350.2951102\ttest: 24366.5679205\tbest: 24366.5679205 (201)\ttotal: 19.3s\tremaining: 1m 51s\n",
      "202:\tlearn: 24345.9617260\ttest: 24362.4305023\tbest: 24362.4305023 (202)\ttotal: 19.4s\tremaining: 1m 51s\n",
      "203:\tlearn: 24338.4800025\ttest: 24357.6644662\tbest: 24357.6644662 (203)\ttotal: 19.5s\tremaining: 1m 50s\n",
      "204:\tlearn: 24330.3055832\ttest: 24355.5221313\tbest: 24355.5221313 (204)\ttotal: 19.6s\tremaining: 1m 50s\n",
      "205:\tlearn: 24319.7023752\ttest: 24352.5272057\tbest: 24352.5272057 (205)\ttotal: 19.7s\tremaining: 1m 50s\n",
      "206:\tlearn: 24314.2197618\ttest: 24350.3225788\tbest: 24350.3225788 (206)\ttotal: 19.8s\tremaining: 1m 50s\n",
      "207:\tlearn: 24308.7448336\ttest: 24342.4064685\tbest: 24342.4064685 (207)\ttotal: 19.9s\tremaining: 1m 50s\n",
      "208:\tlearn: 24292.0947689\ttest: 24326.5384360\tbest: 24326.5384360 (208)\ttotal: 20s\tremaining: 1m 50s\n",
      "209:\tlearn: 24287.4164603\ttest: 24322.2518047\tbest: 24322.2518047 (209)\ttotal: 20.1s\tremaining: 1m 50s\n",
      "210:\tlearn: 24279.1235111\ttest: 24316.3072913\tbest: 24316.3072913 (210)\ttotal: 20.1s\tremaining: 1m 50s\n",
      "211:\tlearn: 24276.1179733\ttest: 24313.4802081\tbest: 24313.4802081 (211)\ttotal: 20.2s\tremaining: 1m 50s\n",
      "212:\tlearn: 24267.8633212\ttest: 24311.9114390\tbest: 24311.9114390 (212)\ttotal: 20.3s\tremaining: 1m 50s\n",
      "213:\tlearn: 24263.6551651\ttest: 24308.6939592\tbest: 24308.6939592 (213)\ttotal: 20.4s\tremaining: 1m 49s\n",
      "214:\tlearn: 24255.3232567\ttest: 24299.6099104\tbest: 24299.6099104 (214)\ttotal: 20.5s\tremaining: 1m 49s\n",
      "215:\tlearn: 24246.3102381\ttest: 24293.0404516\tbest: 24293.0404516 (215)\ttotal: 20.6s\tremaining: 1m 49s\n",
      "216:\tlearn: 24242.9504832\ttest: 24289.8073903\tbest: 24289.8073903 (216)\ttotal: 20.7s\tremaining: 1m 49s\n",
      "217:\tlearn: 24237.7048629\ttest: 24285.9308331\tbest: 24285.9308331 (217)\ttotal: 20.7s\tremaining: 1m 49s\n",
      "218:\tlearn: 24225.6048325\ttest: 24277.7898421\tbest: 24277.7898421 (218)\ttotal: 20.8s\tremaining: 1m 49s\n",
      "219:\tlearn: 24220.1150770\ttest: 24273.4774996\tbest: 24273.4774996 (219)\ttotal: 20.9s\tremaining: 1m 49s\n",
      "220:\tlearn: 24215.0518312\ttest: 24268.4586770\tbest: 24268.4586770 (220)\ttotal: 21s\tremaining: 1m 48s\n",
      "221:\tlearn: 24207.3216348\ttest: 24257.7575106\tbest: 24257.7575106 (221)\ttotal: 21.1s\tremaining: 1m 48s\n",
      "222:\tlearn: 24194.0995389\ttest: 24250.0442212\tbest: 24250.0442212 (222)\ttotal: 21.2s\tremaining: 1m 48s\n",
      "223:\tlearn: 24182.0162113\ttest: 24238.7124059\tbest: 24238.7124059 (223)\ttotal: 21.3s\tremaining: 1m 48s\n",
      "224:\tlearn: 24169.3959147\ttest: 24224.0903928\tbest: 24224.0903928 (224)\ttotal: 21.4s\tremaining: 1m 48s\n",
      "225:\tlearn: 24166.9798584\ttest: 24219.8466627\tbest: 24219.8466627 (225)\ttotal: 21.4s\tremaining: 1m 48s\n",
      "226:\tlearn: 24162.2555891\ttest: 24215.4024735\tbest: 24215.4024735 (226)\ttotal: 21.5s\tremaining: 1m 47s\n",
      "227:\tlearn: 24155.6968236\ttest: 24211.8787963\tbest: 24211.8787963 (227)\ttotal: 21.6s\tremaining: 1m 47s\n",
      "228:\tlearn: 24149.0804967\ttest: 24205.0439119\tbest: 24205.0439119 (228)\ttotal: 21.7s\tremaining: 1m 47s\n",
      "229:\tlearn: 24141.3745440\ttest: 24201.4485585\tbest: 24201.4485585 (229)\ttotal: 21.8s\tremaining: 1m 47s\n",
      "230:\tlearn: 24135.5919023\ttest: 24200.2564871\tbest: 24200.2564871 (230)\ttotal: 21.9s\tremaining: 1m 47s\n",
      "231:\tlearn: 24129.6138459\ttest: 24198.3149748\tbest: 24198.3149748 (231)\ttotal: 22s\tremaining: 1m 47s\n",
      "232:\tlearn: 24125.9696839\ttest: 24194.0296425\tbest: 24194.0296425 (232)\ttotal: 22s\tremaining: 1m 47s\n",
      "233:\tlearn: 24121.4284181\ttest: 24191.5691916\tbest: 24191.5691916 (233)\ttotal: 22.1s\tremaining: 1m 46s\n",
      "234:\tlearn: 24118.5048543\ttest: 24191.4537967\tbest: 24191.4537967 (234)\ttotal: 22.2s\tremaining: 1m 46s\n",
      "235:\tlearn: 24113.8488974\ttest: 24190.4496319\tbest: 24190.4496319 (235)\ttotal: 22.3s\tremaining: 1m 46s\n",
      "236:\tlearn: 24108.2458747\ttest: 24188.7177708\tbest: 24188.7177708 (236)\ttotal: 22.3s\tremaining: 1m 46s\n",
      "237:\tlearn: 24102.7383362\ttest: 24186.5716561\tbest: 24186.5716561 (237)\ttotal: 22.4s\tremaining: 1m 46s\n",
      "238:\tlearn: 24090.0503782\ttest: 24174.2459672\tbest: 24174.2459672 (238)\ttotal: 22.5s\tremaining: 1m 46s\n",
      "239:\tlearn: 24086.9131340\ttest: 24172.4670291\tbest: 24172.4670291 (239)\ttotal: 22.5s\tremaining: 1m 45s\n",
      "240:\tlearn: 24083.7951629\ttest: 24171.2342559\tbest: 24171.2342559 (240)\ttotal: 22.6s\tremaining: 1m 45s\n",
      "241:\tlearn: 24079.6042632\ttest: 24170.4191280\tbest: 24170.4191280 (241)\ttotal: 22.7s\tremaining: 1m 45s\n",
      "242:\tlearn: 24078.2765227\ttest: 24167.1248641\tbest: 24167.1248641 (242)\ttotal: 22.7s\tremaining: 1m 45s\n",
      "243:\tlearn: 24074.1421998\ttest: 24161.6141256\tbest: 24161.6141256 (243)\ttotal: 22.8s\tremaining: 1m 44s\n",
      "244:\tlearn: 24058.0186298\ttest: 24145.5642611\tbest: 24145.5642611 (244)\ttotal: 22.9s\tremaining: 1m 44s\n",
      "245:\tlearn: 24050.9392365\ttest: 24136.7629842\tbest: 24136.7629842 (245)\ttotal: 23s\tremaining: 1m 44s\n",
      "246:\tlearn: 24049.2645823\ttest: 24136.3255972\tbest: 24136.3255972 (246)\ttotal: 23.1s\tremaining: 1m 44s\n",
      "247:\tlearn: 24047.0883180\ttest: 24135.5940320\tbest: 24135.5940320 (247)\ttotal: 23.1s\tremaining: 1m 44s\n",
      "248:\tlearn: 24042.8651635\ttest: 24131.0156876\tbest: 24131.0156876 (248)\ttotal: 23.2s\tremaining: 1m 44s\n",
      "249:\tlearn: 24036.0020581\ttest: 24122.9533335\tbest: 24122.9533335 (249)\ttotal: 23.3s\tremaining: 1m 44s\n",
      "250:\tlearn: 24032.0728336\ttest: 24120.9363307\tbest: 24120.9363307 (250)\ttotal: 23.4s\tremaining: 1m 43s\n",
      "251:\tlearn: 24026.2630172\ttest: 24115.0589415\tbest: 24115.0589415 (251)\ttotal: 23.5s\tremaining: 1m 43s\n",
      "252:\tlearn: 24024.0535231\ttest: 24115.6515365\tbest: 24115.0589415 (251)\ttotal: 23.6s\tremaining: 1m 43s\n",
      "253:\tlearn: 24011.6444085\ttest: 24101.4624795\tbest: 24101.4624795 (253)\ttotal: 23.7s\tremaining: 1m 43s\n",
      "254:\tlearn: 24008.2599596\ttest: 24101.3154650\tbest: 24101.3154650 (254)\ttotal: 23.7s\tremaining: 1m 43s\n",
      "255:\tlearn: 24002.7748394\ttest: 24093.1811822\tbest: 24093.1811822 (255)\ttotal: 23.8s\tremaining: 1m 43s\n",
      "256:\tlearn: 23998.2444878\ttest: 24089.0422170\tbest: 24089.0422170 (256)\ttotal: 23.9s\tremaining: 1m 43s\n",
      "257:\tlearn: 23993.5853334\ttest: 24084.3870489\tbest: 24084.3870489 (257)\ttotal: 24s\tremaining: 1m 43s\n",
      "258:\tlearn: 23982.9560151\ttest: 24076.7045700\tbest: 24076.7045700 (258)\ttotal: 24.1s\tremaining: 1m 43s\n",
      "259:\tlearn: 23972.8504563\ttest: 24070.0956345\tbest: 24070.0956345 (259)\ttotal: 24.2s\tremaining: 1m 42s\n",
      "260:\tlearn: 23970.7231795\ttest: 24067.2596034\tbest: 24067.2596034 (260)\ttotal: 24.2s\tremaining: 1m 42s\n",
      "261:\tlearn: 23963.3415929\ttest: 24055.7614791\tbest: 24055.7614791 (261)\ttotal: 24.3s\tremaining: 1m 42s\n",
      "262:\tlearn: 23949.6298337\ttest: 24042.6091249\tbest: 24042.6091249 (262)\ttotal: 24.4s\tremaining: 1m 42s\n",
      "263:\tlearn: 23946.0836765\ttest: 24035.8765560\tbest: 24035.8765560 (263)\ttotal: 24.5s\tremaining: 1m 42s\n",
      "264:\tlearn: 23942.7507730\ttest: 24032.6448617\tbest: 24032.6448617 (264)\ttotal: 24.5s\tremaining: 1m 41s\n",
      "265:\tlearn: 23935.4355998\ttest: 24027.2821083\tbest: 24027.2821083 (265)\ttotal: 24.6s\tremaining: 1m 41s\n",
      "266:\tlearn: 23931.6139880\ttest: 24027.0473497\tbest: 24027.0473497 (266)\ttotal: 24.7s\tremaining: 1m 41s\n",
      "267:\tlearn: 23927.3965786\ttest: 24023.6575924\tbest: 24023.6575924 (267)\ttotal: 24.8s\tremaining: 1m 41s\n",
      "268:\tlearn: 23924.1398226\ttest: 24020.9852164\tbest: 24020.9852164 (268)\ttotal: 24.9s\tremaining: 1m 41s\n",
      "269:\tlearn: 23915.8356683\ttest: 24015.6854816\tbest: 24015.6854816 (269)\ttotal: 25s\tremaining: 1m 41s\n",
      "270:\tlearn: 23910.7334608\ttest: 24008.7789927\tbest: 24008.7789927 (270)\ttotal: 25.1s\tremaining: 1m 41s\n",
      "271:\tlearn: 23908.7502027\ttest: 24007.2192087\tbest: 24007.2192087 (271)\ttotal: 25.2s\tremaining: 1m 41s\n",
      "272:\tlearn: 23904.3934985\ttest: 24002.6346319\tbest: 24002.6346319 (272)\ttotal: 25.3s\tremaining: 1m 41s\n",
      "273:\tlearn: 23901.5058866\ttest: 24002.0010083\tbest: 24002.0010083 (273)\ttotal: 25.3s\tremaining: 1m 40s\n",
      "274:\tlearn: 23895.9936009\ttest: 23996.5220286\tbest: 23996.5220286 (274)\ttotal: 25.4s\tremaining: 1m 40s\n",
      "275:\tlearn: 23891.4941786\ttest: 23994.1199565\tbest: 23994.1199565 (275)\ttotal: 25.5s\tremaining: 1m 40s\n",
      "276:\tlearn: 23886.6240675\ttest: 23996.6501606\tbest: 23994.1199565 (275)\ttotal: 25.6s\tremaining: 1m 40s\n",
      "277:\tlearn: 23879.9646156\ttest: 23988.3714135\tbest: 23988.3714135 (277)\ttotal: 25.7s\tremaining: 1m 40s\n",
      "278:\tlearn: 23876.9485983\ttest: 23985.5575466\tbest: 23985.5575466 (278)\ttotal: 25.7s\tremaining: 1m 40s\n",
      "279:\tlearn: 23860.4258757\ttest: 23978.4200107\tbest: 23978.4200107 (279)\ttotal: 25.8s\tremaining: 1m 40s\n",
      "280:\tlearn: 23855.3165102\ttest: 23973.1333904\tbest: 23973.1333904 (280)\ttotal: 25.9s\tremaining: 1m 40s\n",
      "281:\tlearn: 23851.6943158\ttest: 23972.0619245\tbest: 23972.0619245 (281)\ttotal: 26s\tremaining: 1m 39s\n",
      "282:\tlearn: 23842.3454858\ttest: 23961.6430095\tbest: 23961.6430095 (282)\ttotal: 26s\tremaining: 1m 39s\n",
      "283:\tlearn: 23835.9912319\ttest: 23958.0406184\tbest: 23958.0406184 (283)\ttotal: 26.1s\tremaining: 1m 39s\n",
      "284:\tlearn: 23831.0733967\ttest: 23954.0092313\tbest: 23954.0092313 (284)\ttotal: 26.2s\tremaining: 1m 39s\n",
      "285:\tlearn: 23821.3638641\ttest: 23946.0013521\tbest: 23946.0013521 (285)\ttotal: 26.3s\tremaining: 1m 39s\n",
      "286:\tlearn: 23812.2728426\ttest: 23941.1299619\tbest: 23941.1299619 (286)\ttotal: 26.4s\tremaining: 1m 39s\n",
      "287:\tlearn: 23804.3113139\ttest: 23935.9924757\tbest: 23935.9924757 (287)\ttotal: 26.5s\tremaining: 1m 39s\n",
      "288:\tlearn: 23800.8094655\ttest: 23934.4776879\tbest: 23934.4776879 (288)\ttotal: 26.6s\tremaining: 1m 38s\n",
      "289:\tlearn: 23791.9755326\ttest: 23926.0402292\tbest: 23926.0402292 (289)\ttotal: 26.6s\tremaining: 1m 38s\n",
      "290:\tlearn: 23787.7232491\ttest: 23925.4529118\tbest: 23925.4529118 (290)\ttotal: 26.7s\tremaining: 1m 38s\n",
      "291:\tlearn: 23782.5302686\ttest: 23921.0070416\tbest: 23921.0070416 (291)\ttotal: 26.8s\tremaining: 1m 38s\n",
      "292:\tlearn: 23773.0134387\ttest: 23914.7461582\tbest: 23914.7461582 (292)\ttotal: 26.9s\tremaining: 1m 38s\n",
      "293:\tlearn: 23754.4781930\ttest: 23897.6653668\tbest: 23897.6653668 (293)\ttotal: 27s\tremaining: 1m 38s\n",
      "294:\tlearn: 23750.9313167\ttest: 23893.3789075\tbest: 23893.3789075 (294)\ttotal: 27.1s\tremaining: 1m 38s\n",
      "295:\tlearn: 23745.7768320\ttest: 23891.4076611\tbest: 23891.4076611 (295)\ttotal: 27.2s\tremaining: 1m 38s\n",
      "296:\tlearn: 23735.5720941\ttest: 23886.4475913\tbest: 23886.4475913 (296)\ttotal: 27.2s\tremaining: 1m 38s\n",
      "297:\tlearn: 23730.9434524\ttest: 23884.7243634\tbest: 23884.7243634 (297)\ttotal: 27.3s\tremaining: 1m 37s\n",
      "298:\tlearn: 23726.6360718\ttest: 23881.2416998\tbest: 23881.2416998 (298)\ttotal: 27.3s\tremaining: 1m 37s\n",
      "299:\tlearn: 23718.3949266\ttest: 23875.7594607\tbest: 23875.7594607 (299)\ttotal: 27.4s\tremaining: 1m 37s\n",
      "300:\tlearn: 23713.9413550\ttest: 23876.0235761\tbest: 23875.7594607 (299)\ttotal: 27.5s\tremaining: 1m 37s\n",
      "301:\tlearn: 23704.2704023\ttest: 23868.8801586\tbest: 23868.8801586 (301)\ttotal: 27.6s\tremaining: 1m 37s\n",
      "302:\tlearn: 23700.0799170\ttest: 23866.5162233\tbest: 23866.5162233 (302)\ttotal: 27.6s\tremaining: 1m 36s\n",
      "303:\tlearn: 23693.1065846\ttest: 23862.4477502\tbest: 23862.4477502 (303)\ttotal: 27.7s\tremaining: 1m 36s\n",
      "304:\tlearn: 23690.2234617\ttest: 23862.6791610\tbest: 23862.4477502 (303)\ttotal: 27.8s\tremaining: 1m 36s\n",
      "305:\tlearn: 23680.8984706\ttest: 23856.9948598\tbest: 23856.9948598 (305)\ttotal: 27.9s\tremaining: 1m 36s\n",
      "306:\tlearn: 23677.6629057\ttest: 23857.9018489\tbest: 23856.9948598 (305)\ttotal: 27.9s\tremaining: 1m 36s\n",
      "307:\tlearn: 23673.6654173\ttest: 23854.0010484\tbest: 23854.0010484 (307)\ttotal: 28s\tremaining: 1m 36s\n",
      "308:\tlearn: 23669.0800592\ttest: 23853.9925481\tbest: 23853.9925481 (308)\ttotal: 28.1s\tremaining: 1m 36s\n",
      "309:\tlearn: 23659.3687501\ttest: 23847.0862163\tbest: 23847.0862163 (309)\ttotal: 28.2s\tremaining: 1m 36s\n",
      "310:\tlearn: 23646.8539431\ttest: 23838.3172970\tbest: 23838.3172970 (310)\ttotal: 28.3s\tremaining: 1m 36s\n",
      "311:\tlearn: 23640.4890134\ttest: 23832.2844165\tbest: 23832.2844165 (311)\ttotal: 28.4s\tremaining: 1m 36s\n",
      "312:\tlearn: 23635.0959227\ttest: 23829.4783896\tbest: 23829.4783896 (312)\ttotal: 28.5s\tremaining: 1m 35s\n",
      "313:\tlearn: 23630.8479952\ttest: 23826.8713795\tbest: 23826.8713795 (313)\ttotal: 28.6s\tremaining: 1m 35s\n",
      "314:\tlearn: 23621.6127420\ttest: 23819.2109970\tbest: 23819.2109970 (314)\ttotal: 28.7s\tremaining: 1m 35s\n",
      "315:\tlearn: 23619.0335009\ttest: 23817.0530329\tbest: 23817.0530329 (315)\ttotal: 28.8s\tremaining: 1m 35s\n",
      "316:\tlearn: 23609.4384984\ttest: 23804.8629145\tbest: 23804.8629145 (316)\ttotal: 28.9s\tremaining: 1m 35s\n",
      "317:\tlearn: 23603.6145243\ttest: 23802.3271340\tbest: 23802.3271340 (317)\ttotal: 29s\tremaining: 1m 35s\n",
      "318:\tlearn: 23599.0219540\ttest: 23800.9375686\tbest: 23800.9375686 (318)\ttotal: 29.1s\tremaining: 1m 35s\n",
      "319:\tlearn: 23581.4252953\ttest: 23782.9638542\tbest: 23782.9638542 (319)\ttotal: 29.2s\tremaining: 1m 35s\n",
      "320:\tlearn: 23575.8931941\ttest: 23776.7114467\tbest: 23776.7114467 (320)\ttotal: 29.3s\tremaining: 1m 35s\n",
      "321:\tlearn: 23561.5363815\ttest: 23769.2185601\tbest: 23769.2185601 (321)\ttotal: 29.4s\tremaining: 1m 35s\n",
      "322:\tlearn: 23549.8731649\ttest: 23759.9179459\tbest: 23759.9179459 (322)\ttotal: 29.5s\tremaining: 1m 35s\n",
      "323:\tlearn: 23537.5641680\ttest: 23745.4397202\tbest: 23745.4397202 (323)\ttotal: 29.6s\tremaining: 1m 35s\n",
      "324:\tlearn: 23525.7915643\ttest: 23738.7016623\tbest: 23738.7016623 (324)\ttotal: 29.7s\tremaining: 1m 35s\n",
      "325:\tlearn: 23509.8643253\ttest: 23730.7400492\tbest: 23730.7400492 (325)\ttotal: 29.8s\tremaining: 1m 34s\n",
      "326:\tlearn: 23493.5687437\ttest: 23715.7586930\tbest: 23715.7586930 (326)\ttotal: 29.8s\tremaining: 1m 34s\n",
      "327:\tlearn: 23478.1627110\ttest: 23704.9396939\tbest: 23704.9396939 (327)\ttotal: 29.9s\tremaining: 1m 34s\n",
      "328:\tlearn: 23471.8836222\ttest: 23701.5990233\tbest: 23701.5990233 (328)\ttotal: 30s\tremaining: 1m 34s\n",
      "329:\tlearn: 23460.1381729\ttest: 23695.2215661\tbest: 23695.2215661 (329)\ttotal: 30.1s\tremaining: 1m 34s\n",
      "330:\tlearn: 23458.4141677\ttest: 23692.3228034\tbest: 23692.3228034 (330)\ttotal: 30.2s\tremaining: 1m 34s\n",
      "331:\tlearn: 23449.3948655\ttest: 23685.0223371\tbest: 23685.0223371 (331)\ttotal: 30.3s\tremaining: 1m 34s\n",
      "332:\tlearn: 23441.3888850\ttest: 23680.5374844\tbest: 23680.5374844 (332)\ttotal: 30.4s\tremaining: 1m 34s\n",
      "333:\tlearn: 23436.6124529\ttest: 23679.0797582\tbest: 23679.0797582 (333)\ttotal: 30.5s\tremaining: 1m 34s\n",
      "334:\tlearn: 23423.0327575\ttest: 23665.4577340\tbest: 23665.4577340 (334)\ttotal: 30.6s\tremaining: 1m 34s\n",
      "335:\tlearn: 23410.7449422\ttest: 23655.9096355\tbest: 23655.9096355 (335)\ttotal: 30.7s\tremaining: 1m 34s\n",
      "336:\tlearn: 23404.0228748\ttest: 23646.7373230\tbest: 23646.7373230 (336)\ttotal: 30.8s\tremaining: 1m 34s\n",
      "337:\tlearn: 23387.9534714\ttest: 23629.2396827\tbest: 23629.2396827 (337)\ttotal: 30.9s\tremaining: 1m 34s\n",
      "338:\tlearn: 23384.0348442\ttest: 23627.2944861\tbest: 23627.2944861 (338)\ttotal: 31s\tremaining: 1m 33s\n",
      "339:\tlearn: 23374.4418624\ttest: 23617.8887875\tbest: 23617.8887875 (339)\ttotal: 31s\tremaining: 1m 33s\n",
      "340:\tlearn: 23353.2774490\ttest: 23603.6422437\tbest: 23603.6422437 (340)\ttotal: 31.1s\tremaining: 1m 33s\n",
      "341:\tlearn: 23347.5430786\ttest: 23599.1121059\tbest: 23599.1121059 (341)\ttotal: 31.2s\tremaining: 1m 33s\n",
      "342:\tlearn: 23341.4856088\ttest: 23594.5104244\tbest: 23594.5104244 (342)\ttotal: 31.3s\tremaining: 1m 33s\n",
      "343:\tlearn: 23332.9533474\ttest: 23584.5575493\tbest: 23584.5575493 (343)\ttotal: 31.3s\tremaining: 1m 33s\n",
      "344:\tlearn: 23321.2446376\ttest: 23575.6094454\tbest: 23575.6094454 (344)\ttotal: 31.4s\tremaining: 1m 33s\n",
      "345:\tlearn: 23310.3271311\ttest: 23564.4636115\tbest: 23564.4636115 (345)\ttotal: 31.5s\tremaining: 1m 32s\n",
      "346:\tlearn: 23305.1518969\ttest: 23560.3434877\tbest: 23560.3434877 (346)\ttotal: 31.6s\tremaining: 1m 32s\n",
      "347:\tlearn: 23280.3195730\ttest: 23539.8597499\tbest: 23539.8597499 (347)\ttotal: 31.7s\tremaining: 1m 32s\n",
      "348:\tlearn: 23266.0441431\ttest: 23530.0451207\tbest: 23530.0451207 (348)\ttotal: 31.8s\tremaining: 1m 32s\n",
      "349:\tlearn: 23260.2658377\ttest: 23528.4054190\tbest: 23528.4054190 (349)\ttotal: 31.9s\tremaining: 1m 32s\n",
      "350:\tlearn: 23240.2184322\ttest: 23511.8774873\tbest: 23511.8774873 (350)\ttotal: 32s\tremaining: 1m 32s\n",
      "351:\tlearn: 23235.6179968\ttest: 23510.6946246\tbest: 23510.6946246 (351)\ttotal: 32.1s\tremaining: 1m 32s\n",
      "352:\tlearn: 23221.3379816\ttest: 23501.8120693\tbest: 23501.8120693 (352)\ttotal: 32.2s\tremaining: 1m 32s\n",
      "353:\tlearn: 23206.6147969\ttest: 23486.5782486\tbest: 23486.5782486 (353)\ttotal: 32.2s\tremaining: 1m 32s\n",
      "354:\tlearn: 23194.6398881\ttest: 23474.6470510\tbest: 23474.6470510 (354)\ttotal: 32.3s\tremaining: 1m 32s\n",
      "355:\tlearn: 23176.7787407\ttest: 23460.1527768\tbest: 23460.1527768 (355)\ttotal: 32.4s\tremaining: 1m 31s\n",
      "356:\tlearn: 23164.3304865\ttest: 23451.5795615\tbest: 23451.5795615 (356)\ttotal: 32.5s\tremaining: 1m 31s\n",
      "357:\tlearn: 23158.9761778\ttest: 23447.4720510\tbest: 23447.4720510 (357)\ttotal: 32.5s\tremaining: 1m 31s\n",
      "358:\tlearn: 23141.4688189\ttest: 23429.9886205\tbest: 23429.9886205 (358)\ttotal: 32.6s\tremaining: 1m 31s\n",
      "359:\tlearn: 23132.6941351\ttest: 23423.7908627\tbest: 23423.7908627 (359)\ttotal: 32.7s\tremaining: 1m 31s\n",
      "360:\tlearn: 23116.7389571\ttest: 23411.1553508\tbest: 23411.1553508 (360)\ttotal: 32.8s\tremaining: 1m 31s\n",
      "361:\tlearn: 23105.4084229\ttest: 23405.8212049\tbest: 23405.8212049 (361)\ttotal: 32.8s\tremaining: 1m 31s\n",
      "362:\tlearn: 23096.5229725\ttest: 23398.2759152\tbest: 23398.2759152 (362)\ttotal: 32.9s\tremaining: 1m 30s\n",
      "363:\tlearn: 23082.4628978\ttest: 23394.6483598\tbest: 23394.6483598 (363)\ttotal: 33s\tremaining: 1m 30s\n",
      "364:\tlearn: 23062.9389307\ttest: 23381.7418627\tbest: 23381.7418627 (364)\ttotal: 33.1s\tremaining: 1m 30s\n",
      "365:\tlearn: 23054.3918419\ttest: 23378.8136126\tbest: 23378.8136126 (365)\ttotal: 33.2s\tremaining: 1m 30s\n",
      "366:\tlearn: 23031.3102282\ttest: 23364.8614888\tbest: 23364.8614888 (366)\ttotal: 33.3s\tremaining: 1m 30s\n",
      "367:\tlearn: 23009.1213659\ttest: 23351.2266446\tbest: 23351.2266446 (367)\ttotal: 33.4s\tremaining: 1m 30s\n",
      "368:\tlearn: 22986.2855404\ttest: 23332.7335469\tbest: 23332.7335469 (368)\ttotal: 33.5s\tremaining: 1m 30s\n",
      "369:\tlearn: 22974.9550018\ttest: 23321.8268188\tbest: 23321.8268188 (369)\ttotal: 33.5s\tremaining: 1m 30s\n",
      "370:\tlearn: 22962.1672338\ttest: 23316.7982887\tbest: 23316.7982887 (370)\ttotal: 33.6s\tremaining: 1m 30s\n",
      "371:\tlearn: 22950.0700748\ttest: 23309.1961910\tbest: 23309.1961910 (371)\ttotal: 33.7s\tremaining: 1m 29s\n",
      "372:\tlearn: 22931.9014981\ttest: 23292.2507393\tbest: 23292.2507393 (372)\ttotal: 33.7s\tremaining: 1m 29s\n",
      "373:\tlearn: 22925.6274455\ttest: 23288.7831528\tbest: 23288.7831528 (373)\ttotal: 33.8s\tremaining: 1m 29s\n",
      "374:\tlearn: 22908.2124694\ttest: 23280.9609553\tbest: 23280.9609553 (374)\ttotal: 33.9s\tremaining: 1m 29s\n",
      "375:\tlearn: 22903.1963289\ttest: 23279.6119329\tbest: 23279.6119329 (375)\ttotal: 34s\tremaining: 1m 29s\n",
      "376:\tlearn: 22883.3798698\ttest: 23269.0277152\tbest: 23269.0277152 (376)\ttotal: 34s\tremaining: 1m 29s\n",
      "377:\tlearn: 22876.8996526\ttest: 23267.3284968\tbest: 23267.3284968 (377)\ttotal: 34.1s\tremaining: 1m 29s\n",
      "378:\tlearn: 22866.4240637\ttest: 23261.3010762\tbest: 23261.3010762 (378)\ttotal: 34.2s\tremaining: 1m 29s\n",
      "379:\tlearn: 22860.7538246\ttest: 23259.5835988\tbest: 23259.5835988 (379)\ttotal: 34.2s\tremaining: 1m 28s\n",
      "380:\tlearn: 22842.1683968\ttest: 23251.0513934\tbest: 23251.0513934 (380)\ttotal: 34.3s\tremaining: 1m 28s\n",
      "381:\tlearn: 22829.7519427\ttest: 23238.3696985\tbest: 23238.3696985 (381)\ttotal: 34.4s\tremaining: 1m 28s\n",
      "382:\tlearn: 22810.0366778\ttest: 23230.6542035\tbest: 23230.6542035 (382)\ttotal: 34.4s\tremaining: 1m 28s\n",
      "383:\tlearn: 22795.0364795\ttest: 23220.5009722\tbest: 23220.5009722 (383)\ttotal: 34.5s\tremaining: 1m 28s\n",
      "384:\tlearn: 22783.9591574\ttest: 23211.3998352\tbest: 23211.3998352 (384)\ttotal: 34.6s\tremaining: 1m 28s\n",
      "385:\tlearn: 22769.6357519\ttest: 23201.3406661\tbest: 23201.3406661 (385)\ttotal: 34.6s\tremaining: 1m 27s\n",
      "386:\tlearn: 22756.4024689\ttest: 23191.0597725\tbest: 23191.0597725 (386)\ttotal: 34.7s\tremaining: 1m 27s\n",
      "387:\tlearn: 22742.6849080\ttest: 23184.3527370\tbest: 23184.3527370 (387)\ttotal: 34.8s\tremaining: 1m 27s\n",
      "388:\tlearn: 22725.8235722\ttest: 23176.2512533\tbest: 23176.2512533 (388)\ttotal: 34.9s\tremaining: 1m 27s\n",
      "389:\tlearn: 22710.6637074\ttest: 23167.1712591\tbest: 23167.1712591 (389)\ttotal: 35s\tremaining: 1m 27s\n",
      "390:\tlearn: 22697.4205116\ttest: 23156.8497836\tbest: 23156.8497836 (390)\ttotal: 35s\tremaining: 1m 27s\n",
      "391:\tlearn: 22692.7398578\ttest: 23153.1296084\tbest: 23153.1296084 (391)\ttotal: 35.1s\tremaining: 1m 27s\n",
      "392:\tlearn: 22682.7153079\ttest: 23148.0054169\tbest: 23148.0054169 (392)\ttotal: 35.1s\tremaining: 1m 26s\n",
      "393:\tlearn: 22670.1223715\ttest: 23134.6362816\tbest: 23134.6362816 (393)\ttotal: 35.2s\tremaining: 1m 26s\n",
      "394:\tlearn: 22660.8384492\ttest: 23129.5108446\tbest: 23129.5108446 (394)\ttotal: 35.2s\tremaining: 1m 26s\n",
      "395:\tlearn: 22655.5833342\ttest: 23127.9806567\tbest: 23127.9806567 (395)\ttotal: 35.3s\tremaining: 1m 26s\n",
      "396:\tlearn: 22647.8707952\ttest: 23123.0755615\tbest: 23123.0755615 (396)\ttotal: 35.3s\tremaining: 1m 26s\n",
      "397:\tlearn: 22644.9844334\ttest: 23122.6771825\tbest: 23122.6771825 (397)\ttotal: 35.4s\tremaining: 1m 26s\n",
      "398:\tlearn: 22642.0885137\ttest: 23121.3742604\tbest: 23121.3742604 (398)\ttotal: 35.4s\tremaining: 1m 25s\n",
      "399:\tlearn: 22626.2114795\ttest: 23117.9305179\tbest: 23117.9305179 (399)\ttotal: 35.5s\tremaining: 1m 25s\n",
      "400:\tlearn: 22609.1442455\ttest: 23108.8055343\tbest: 23108.8055343 (400)\ttotal: 35.6s\tremaining: 1m 25s\n",
      "401:\tlearn: 22603.9596638\ttest: 23106.3494909\tbest: 23106.3494909 (401)\ttotal: 35.6s\tremaining: 1m 25s\n",
      "402:\tlearn: 22590.6305710\ttest: 23103.0696123\tbest: 23103.0696123 (402)\ttotal: 35.7s\tremaining: 1m 25s\n",
      "403:\tlearn: 22579.4730695\ttest: 23102.4131213\tbest: 23102.4131213 (403)\ttotal: 35.8s\tremaining: 1m 25s\n",
      "404:\tlearn: 22567.2137042\ttest: 23098.7303675\tbest: 23098.7303675 (404)\ttotal: 35.8s\tremaining: 1m 24s\n",
      "405:\tlearn: 22555.9030231\ttest: 23091.5981260\tbest: 23091.5981260 (405)\ttotal: 35.9s\tremaining: 1m 24s\n",
      "406:\tlearn: 22551.2806366\ttest: 23089.9061361\tbest: 23089.9061361 (406)\ttotal: 36s\tremaining: 1m 24s\n",
      "407:\tlearn: 22547.7777842\ttest: 23089.8037281\tbest: 23089.8037281 (407)\ttotal: 36s\tremaining: 1m 24s\n",
      "408:\tlearn: 22530.8354610\ttest: 23083.1456038\tbest: 23083.1456038 (408)\ttotal: 36.1s\tremaining: 1m 24s\n",
      "409:\tlearn: 22524.5729234\ttest: 23082.9301678\tbest: 23082.9301678 (409)\ttotal: 36.2s\tremaining: 1m 24s\n",
      "410:\tlearn: 22517.1343840\ttest: 23079.8374803\tbest: 23079.8374803 (410)\ttotal: 36.2s\tremaining: 1m 24s\n",
      "411:\tlearn: 22505.3450320\ttest: 23074.0537517\tbest: 23074.0537517 (411)\ttotal: 36.3s\tremaining: 1m 24s\n",
      "412:\tlearn: 22501.7935182\ttest: 23074.0196115\tbest: 23074.0196115 (412)\ttotal: 36.3s\tremaining: 1m 23s\n",
      "413:\tlearn: 22495.4370288\ttest: 23071.4035699\tbest: 23071.4035699 (413)\ttotal: 36.4s\tremaining: 1m 23s\n",
      "414:\tlearn: 22478.1056436\ttest: 23058.9728359\tbest: 23058.9728359 (414)\ttotal: 36.5s\tremaining: 1m 23s\n",
      "415:\tlearn: 22473.9606024\ttest: 23059.8354013\tbest: 23058.9728359 (414)\ttotal: 36.5s\tremaining: 1m 23s\n",
      "416:\tlearn: 22465.4583183\ttest: 23051.9901782\tbest: 23051.9901782 (416)\ttotal: 36.6s\tremaining: 1m 23s\n",
      "417:\tlearn: 22460.6253996\ttest: 23049.8602920\tbest: 23049.8602920 (417)\ttotal: 36.6s\tremaining: 1m 23s\n",
      "418:\tlearn: 22452.4993252\ttest: 23045.0423799\tbest: 23045.0423799 (418)\ttotal: 36.7s\tremaining: 1m 22s\n",
      "419:\tlearn: 22448.5758105\ttest: 23044.2513656\tbest: 23044.2513656 (419)\ttotal: 36.7s\tremaining: 1m 22s\n",
      "420:\tlearn: 22430.7864285\ttest: 23040.3181559\tbest: 23040.3181559 (420)\ttotal: 36.8s\tremaining: 1m 22s\n",
      "421:\tlearn: 22420.0166311\ttest: 23034.1450688\tbest: 23034.1450688 (421)\ttotal: 36.9s\tremaining: 1m 22s\n",
      "422:\tlearn: 22416.5411980\ttest: 23035.3516009\tbest: 23034.1450688 (421)\ttotal: 36.9s\tremaining: 1m 22s\n",
      "423:\tlearn: 22409.3844173\ttest: 23031.3554909\tbest: 23031.3554909 (423)\ttotal: 36.9s\tremaining: 1m 22s\n",
      "424:\tlearn: 22406.2098932\ttest: 23032.7647971\tbest: 23031.3554909 (423)\ttotal: 37s\tremaining: 1m 21s\n",
      "425:\tlearn: 22399.3893045\ttest: 23035.2879281\tbest: 23031.3554909 (423)\ttotal: 37s\tremaining: 1m 21s\n",
      "426:\tlearn: 22392.6427989\ttest: 23030.5132002\tbest: 23030.5132002 (426)\ttotal: 37.1s\tremaining: 1m 21s\n",
      "427:\tlearn: 22388.9960564\ttest: 23029.9449377\tbest: 23029.9449377 (427)\ttotal: 37.1s\tremaining: 1m 21s\n",
      "428:\tlearn: 22387.3324772\ttest: 23029.3578013\tbest: 23029.3578013 (428)\ttotal: 37.1s\tremaining: 1m 21s\n",
      "429:\tlearn: 22384.9390298\ttest: 23029.2791809\tbest: 23029.2791809 (429)\ttotal: 37.2s\tremaining: 1m 20s\n",
      "430:\tlearn: 22381.2782561\ttest: 23027.4337504\tbest: 23027.4337504 (430)\ttotal: 37.2s\tremaining: 1m 20s\n",
      "431:\tlearn: 22370.6881227\ttest: 23022.4057951\tbest: 23022.4057951 (431)\ttotal: 37.3s\tremaining: 1m 20s\n",
      "432:\tlearn: 22366.2093160\ttest: 23021.5812822\tbest: 23021.5812822 (432)\ttotal: 37.3s\tremaining: 1m 20s\n",
      "433:\tlearn: 22363.4980956\ttest: 23020.7284142\tbest: 23020.7284142 (433)\ttotal: 37.3s\tremaining: 1m 20s\n",
      "434:\tlearn: 22359.5787168\ttest: 23017.0757298\tbest: 23017.0757298 (434)\ttotal: 37.4s\tremaining: 1m 19s\n",
      "435:\tlearn: 22351.8248592\ttest: 23017.2417909\tbest: 23017.0757298 (434)\ttotal: 37.4s\tremaining: 1m 19s\n",
      "436:\tlearn: 22349.1153604\ttest: 23016.6236779\tbest: 23016.6236779 (436)\ttotal: 37.5s\tremaining: 1m 19s\n",
      "437:\tlearn: 22339.3941214\ttest: 23010.6931488\tbest: 23010.6931488 (437)\ttotal: 37.5s\tremaining: 1m 19s\n",
      "438:\tlearn: 22337.2678945\ttest: 23011.2555413\tbest: 23010.6931488 (437)\ttotal: 37.5s\tremaining: 1m 19s\n",
      "439:\tlearn: 22334.7045686\ttest: 23011.8377522\tbest: 23010.6931488 (437)\ttotal: 37.6s\tremaining: 1m 19s\n",
      "440:\tlearn: 22330.1379065\ttest: 23008.0842513\tbest: 23008.0842513 (440)\ttotal: 37.6s\tremaining: 1m 18s\n",
      "441:\tlearn: 22326.5838834\ttest: 23008.1572518\tbest: 23008.0842513 (440)\ttotal: 37.7s\tremaining: 1m 18s\n",
      "442:\tlearn: 22321.1662871\ttest: 23007.2574991\tbest: 23007.2574991 (442)\ttotal: 37.7s\tremaining: 1m 18s\n",
      "443:\tlearn: 22318.1307543\ttest: 23005.8819639\tbest: 23005.8819639 (443)\ttotal: 37.7s\tremaining: 1m 18s\n",
      "444:\tlearn: 22313.8286420\ttest: 23004.4818049\tbest: 23004.4818049 (444)\ttotal: 37.8s\tremaining: 1m 18s\n",
      "445:\tlearn: 22304.7463158\ttest: 23003.4857532\tbest: 23003.4857532 (445)\ttotal: 37.8s\tremaining: 1m 18s\n",
      "446:\tlearn: 22301.8562852\ttest: 23002.3482784\tbest: 23002.3482784 (446)\ttotal: 37.9s\tremaining: 1m 17s\n",
      "447:\tlearn: 22298.8460845\ttest: 23003.2550516\tbest: 23002.3482784 (446)\ttotal: 37.9s\tremaining: 1m 17s\n",
      "448:\tlearn: 22295.4368567\ttest: 23002.9682596\tbest: 23002.3482784 (446)\ttotal: 37.9s\tremaining: 1m 17s\n",
      "449:\tlearn: 22292.1417659\ttest: 23003.6780057\tbest: 23002.3482784 (446)\ttotal: 38s\tremaining: 1m 17s\n",
      "450:\tlearn: 22287.5549563\ttest: 23003.9329650\tbest: 23002.3482784 (446)\ttotal: 38s\tremaining: 1m 17s\n",
      "451:\tlearn: 22284.1145436\ttest: 23001.0636597\tbest: 23001.0636597 (451)\ttotal: 38.1s\tremaining: 1m 16s\n",
      "452:\tlearn: 22278.2736423\ttest: 23001.6799723\tbest: 23001.0636597 (451)\ttotal: 38.1s\tremaining: 1m 16s\n",
      "453:\tlearn: 22273.9342888\ttest: 23001.4845958\tbest: 23001.0636597 (451)\ttotal: 38.2s\tremaining: 1m 16s\n",
      "454:\tlearn: 22269.0318273\ttest: 23000.0108207\tbest: 23000.0108207 (454)\ttotal: 38.2s\tremaining: 1m 16s\n",
      "455:\tlearn: 22265.2979785\ttest: 22998.8682838\tbest: 22998.8682838 (455)\ttotal: 38.3s\tremaining: 1m 16s\n",
      "456:\tlearn: 22257.9816631\ttest: 22991.7620908\tbest: 22991.7620908 (456)\ttotal: 38.4s\tremaining: 1m 16s\n",
      "457:\tlearn: 22253.9092888\ttest: 22990.2142936\tbest: 22990.2142936 (457)\ttotal: 38.4s\tremaining: 1m 16s\n",
      "458:\tlearn: 22248.9508081\ttest: 22987.2522317\tbest: 22987.2522317 (458)\ttotal: 38.5s\tremaining: 1m 15s\n",
      "459:\tlearn: 22244.8610575\ttest: 22986.7981230\tbest: 22986.7981230 (459)\ttotal: 38.5s\tremaining: 1m 15s\n",
      "460:\tlearn: 22235.8994493\ttest: 22984.5696418\tbest: 22984.5696418 (460)\ttotal: 38.6s\tremaining: 1m 15s\n",
      "461:\tlearn: 22232.6941940\ttest: 22984.1467996\tbest: 22984.1467996 (461)\ttotal: 38.6s\tremaining: 1m 15s\n",
      "462:\tlearn: 22222.2833636\ttest: 22978.7662812\tbest: 22978.7662812 (462)\ttotal: 38.7s\tremaining: 1m 15s\n",
      "463:\tlearn: 22219.5272820\ttest: 22977.7783810\tbest: 22977.7783810 (463)\ttotal: 38.7s\tremaining: 1m 15s\n",
      "464:\tlearn: 22217.3209856\ttest: 22979.6993807\tbest: 22977.7783810 (463)\ttotal: 38.7s\tremaining: 1m 15s\n",
      "465:\tlearn: 22214.0700634\ttest: 22979.4621735\tbest: 22977.7783810 (463)\ttotal: 38.8s\tremaining: 1m 14s\n",
      "466:\tlearn: 22211.6340304\ttest: 22979.6819485\tbest: 22977.7783810 (463)\ttotal: 38.8s\tremaining: 1m 14s\n",
      "467:\tlearn: 22209.9626134\ttest: 22979.6522329\tbest: 22977.7783810 (463)\ttotal: 38.8s\tremaining: 1m 14s\n",
      "468:\tlearn: 22203.6674837\ttest: 22977.7470522\tbest: 22977.7470522 (468)\ttotal: 38.9s\tremaining: 1m 14s\n",
      "469:\tlearn: 22201.5480123\ttest: 22977.5152327\tbest: 22977.5152327 (469)\ttotal: 38.9s\tremaining: 1m 14s\n",
      "470:\tlearn: 22191.7295058\ttest: 22972.2503589\tbest: 22972.2503589 (470)\ttotal: 39s\tremaining: 1m 14s\n",
      "471:\tlearn: 22186.4010169\ttest: 22970.3044171\tbest: 22970.3044171 (471)\ttotal: 39s\tremaining: 1m 13s\n",
      "472:\tlearn: 22178.6835213\ttest: 22966.4866518\tbest: 22966.4866518 (472)\ttotal: 39.1s\tremaining: 1m 13s\n",
      "473:\tlearn: 22175.9689997\ttest: 22963.5199237\tbest: 22963.5199237 (473)\ttotal: 39.1s\tremaining: 1m 13s\n",
      "474:\tlearn: 22173.0958442\ttest: 22964.2755664\tbest: 22963.5199237 (473)\ttotal: 39.1s\tremaining: 1m 13s\n",
      "475:\tlearn: 22171.3947889\ttest: 22964.4156730\tbest: 22963.5199237 (473)\ttotal: 39.2s\tremaining: 1m 13s\n",
      "476:\tlearn: 22167.6772542\ttest: 22962.8431104\tbest: 22962.8431104 (476)\ttotal: 39.2s\tremaining: 1m 13s\n",
      "477:\tlearn: 22165.1508516\ttest: 22961.7355139\tbest: 22961.7355139 (477)\ttotal: 39.2s\tremaining: 1m 12s\n",
      "478:\tlearn: 22154.9957282\ttest: 22960.5681365\tbest: 22960.5681365 (478)\ttotal: 39.3s\tremaining: 1m 12s\n",
      "479:\tlearn: 22152.9392241\ttest: 22960.0866353\tbest: 22960.0866353 (479)\ttotal: 39.4s\tremaining: 1m 12s\n",
      "480:\tlearn: 22150.3167597\ttest: 22960.6161856\tbest: 22960.0866353 (479)\ttotal: 39.4s\tremaining: 1m 12s\n",
      "481:\tlearn: 22148.8973903\ttest: 22959.5406623\tbest: 22959.5406623 (481)\ttotal: 39.4s\tremaining: 1m 12s\n",
      "482:\tlearn: 22145.7773835\ttest: 22960.3280130\tbest: 22959.5406623 (481)\ttotal: 39.5s\tremaining: 1m 12s\n",
      "483:\tlearn: 22144.2693405\ttest: 22960.4270374\tbest: 22959.5406623 (481)\ttotal: 39.5s\tremaining: 1m 12s\n",
      "484:\tlearn: 22141.9889780\ttest: 22960.1367397\tbest: 22959.5406623 (481)\ttotal: 39.5s\tremaining: 1m 11s\n",
      "485:\tlearn: 22139.3829300\ttest: 22960.3553264\tbest: 22959.5406623 (481)\ttotal: 39.6s\tremaining: 1m 11s\n",
      "486:\tlearn: 22137.7379697\ttest: 22960.3219485\tbest: 22959.5406623 (481)\ttotal: 39.6s\tremaining: 1m 11s\n",
      "487:\tlearn: 22136.2532874\ttest: 22960.4780120\tbest: 22959.5406623 (481)\ttotal: 39.6s\tremaining: 1m 11s\n",
      "488:\tlearn: 22133.7170958\ttest: 22960.3410788\tbest: 22959.5406623 (481)\ttotal: 39.7s\tremaining: 1m 11s\n",
      "489:\tlearn: 22127.8161611\ttest: 22956.9360891\tbest: 22956.9360891 (489)\ttotal: 39.7s\tremaining: 1m 11s\n",
      "490:\tlearn: 22126.0355432\ttest: 22955.1294044\tbest: 22955.1294044 (490)\ttotal: 39.8s\tremaining: 1m 10s\n",
      "491:\tlearn: 22121.5564286\ttest: 22948.9779721\tbest: 22948.9779721 (491)\ttotal: 39.8s\tremaining: 1m 10s\n",
      "492:\tlearn: 22120.3349202\ttest: 22949.2971156\tbest: 22948.9779721 (491)\ttotal: 39.8s\tremaining: 1m 10s\n",
      "493:\tlearn: 22118.0081744\ttest: 22949.7278386\tbest: 22948.9779721 (491)\ttotal: 39.9s\tremaining: 1m 10s\n",
      "494:\tlearn: 22116.6315047\ttest: 22949.1663583\tbest: 22948.9779721 (491)\ttotal: 39.9s\tremaining: 1m 10s\n",
      "495:\tlearn: 22115.2786426\ttest: 22948.7636011\tbest: 22948.7636011 (495)\ttotal: 39.9s\tremaining: 1m 10s\n",
      "496:\tlearn: 22112.1160882\ttest: 22949.1975098\tbest: 22948.7636011 (495)\ttotal: 40s\tremaining: 1m 9s\n",
      "497:\tlearn: 22106.9389634\ttest: 22946.3505076\tbest: 22946.3505076 (497)\ttotal: 40s\tremaining: 1m 9s\n",
      "498:\tlearn: 22105.6779460\ttest: 22945.8631903\tbest: 22945.8631903 (498)\ttotal: 40.1s\tremaining: 1m 9s\n",
      "499:\tlearn: 22099.3254047\ttest: 22945.0756549\tbest: 22945.0756549 (499)\ttotal: 40.1s\tremaining: 1m 9s\n",
      "500:\tlearn: 22096.8247666\ttest: 22946.3102536\tbest: 22945.0756549 (499)\ttotal: 40.2s\tremaining: 1m 9s\n",
      "501:\tlearn: 22088.5231897\ttest: 22946.5623446\tbest: 22945.0756549 (499)\ttotal: 40.2s\tremaining: 1m 9s\n",
      "502:\tlearn: 22085.6421362\ttest: 22945.0449231\tbest: 22945.0449231 (502)\ttotal: 40.3s\tremaining: 1m 9s\n",
      "503:\tlearn: 22080.6279675\ttest: 22943.7958594\tbest: 22943.7958594 (503)\ttotal: 40.3s\tremaining: 1m 8s\n",
      "504:\tlearn: 22077.9687334\ttest: 22943.8078528\tbest: 22943.7958594 (503)\ttotal: 40.4s\tremaining: 1m 8s\n",
      "505:\tlearn: 22074.1306178\ttest: 22942.7220411\tbest: 22942.7220411 (505)\ttotal: 40.4s\tremaining: 1m 8s\n",
      "506:\tlearn: 22071.7207422\ttest: 22943.3638140\tbest: 22942.7220411 (505)\ttotal: 40.5s\tremaining: 1m 8s\n",
      "507:\tlearn: 22066.3705262\ttest: 22941.3772557\tbest: 22941.3772557 (507)\ttotal: 40.5s\tremaining: 1m 8s\n",
      "508:\tlearn: 22064.5925348\ttest: 22940.6381267\tbest: 22940.6381267 (508)\ttotal: 40.5s\tremaining: 1m 8s\n",
      "509:\tlearn: 22062.1960646\ttest: 22940.3384167\tbest: 22940.3384167 (509)\ttotal: 40.6s\tremaining: 1m 8s\n",
      "510:\tlearn: 22058.4171802\ttest: 22937.8042802\tbest: 22937.8042802 (510)\ttotal: 40.6s\tremaining: 1m 7s\n",
      "511:\tlearn: 22054.4724030\ttest: 22936.1372047\tbest: 22936.1372047 (511)\ttotal: 40.7s\tremaining: 1m 7s\n",
      "512:\tlearn: 22050.5636675\ttest: 22935.5003893\tbest: 22935.5003893 (512)\ttotal: 40.7s\tremaining: 1m 7s\n",
      "513:\tlearn: 22046.6539341\ttest: 22935.8107795\tbest: 22935.5003893 (512)\ttotal: 40.8s\tremaining: 1m 7s\n",
      "514:\tlearn: 22041.8240741\ttest: 22933.9220408\tbest: 22933.9220408 (514)\ttotal: 40.8s\tremaining: 1m 7s\n",
      "515:\tlearn: 22035.5149313\ttest: 22931.8104012\tbest: 22931.8104012 (515)\ttotal: 40.9s\tremaining: 1m 7s\n",
      "516:\tlearn: 22029.3150943\ttest: 22932.4397010\tbest: 22931.8104012 (515)\ttotal: 40.9s\tremaining: 1m 7s\n",
      "517:\tlearn: 22027.4399257\ttest: 22931.8362648\tbest: 22931.8104012 (515)\ttotal: 41s\tremaining: 1m 7s\n",
      "518:\tlearn: 22026.2690256\ttest: 22931.1760604\tbest: 22931.1760604 (518)\ttotal: 41s\tremaining: 1m 6s\n",
      "519:\tlearn: 22018.0659964\ttest: 22927.4235893\tbest: 22927.4235893 (519)\ttotal: 41.1s\tremaining: 1m 6s\n",
      "520:\tlearn: 22012.7006560\ttest: 22929.1191603\tbest: 22927.4235893 (519)\ttotal: 41.1s\tremaining: 1m 6s\n",
      "521:\tlearn: 22010.2112983\ttest: 22929.7094251\tbest: 22927.4235893 (519)\ttotal: 41.2s\tremaining: 1m 6s\n",
      "522:\tlearn: 21993.2021653\ttest: 22913.0559295\tbest: 22913.0559295 (522)\ttotal: 41.2s\tremaining: 1m 6s\n",
      "523:\tlearn: 21989.6593827\ttest: 22910.6065902\tbest: 22910.6065902 (523)\ttotal: 41.3s\tremaining: 1m 6s\n",
      "524:\tlearn: 21986.5779409\ttest: 22909.4745781\tbest: 22909.4745781 (524)\ttotal: 41.3s\tremaining: 1m 6s\n",
      "525:\tlearn: 21983.0878140\ttest: 22907.2502241\tbest: 22907.2502241 (525)\ttotal: 41.4s\tremaining: 1m 6s\n",
      "526:\tlearn: 21981.0215366\ttest: 22906.9015347\tbest: 22906.9015347 (526)\ttotal: 41.4s\tremaining: 1m 5s\n",
      "527:\tlearn: 21973.5618868\ttest: 22903.7553362\tbest: 22903.7553362 (527)\ttotal: 41.4s\tremaining: 1m 5s\n",
      "528:\tlearn: 21970.6458917\ttest: 22903.9110905\tbest: 22903.7553362 (527)\ttotal: 41.5s\tremaining: 1m 5s\n",
      "529:\tlearn: 21968.8375071\ttest: 22903.8574632\tbest: 22903.7553362 (527)\ttotal: 41.6s\tremaining: 1m 5s\n",
      "530:\tlearn: 21967.6750480\ttest: 22903.8841148\tbest: 22903.7553362 (527)\ttotal: 41.6s\tremaining: 1m 5s\n",
      "531:\tlearn: 21966.4295408\ttest: 22904.4997791\tbest: 22903.7553362 (527)\ttotal: 41.6s\tremaining: 1m 5s\n",
      "532:\tlearn: 21963.5615363\ttest: 22903.9383357\tbest: 22903.7553362 (527)\ttotal: 41.7s\tremaining: 1m 5s\n",
      "533:\tlearn: 21960.1982798\ttest: 22902.0103997\tbest: 22902.0103997 (533)\ttotal: 41.7s\tremaining: 1m 5s\n",
      "534:\tlearn: 21957.0224573\ttest: 22901.1200066\tbest: 22901.1200066 (534)\ttotal: 41.8s\tremaining: 1m 4s\n",
      "535:\tlearn: 21955.1300870\ttest: 22900.8458797\tbest: 22900.8458797 (535)\ttotal: 41.8s\tremaining: 1m 4s\n",
      "536:\tlearn: 21945.1059263\ttest: 22889.8558965\tbest: 22889.8558965 (536)\ttotal: 41.9s\tremaining: 1m 4s\n",
      "537:\tlearn: 21939.0694243\ttest: 22889.1389582\tbest: 22889.1389582 (537)\ttotal: 41.9s\tremaining: 1m 4s\n",
      "538:\tlearn: 21937.3478000\ttest: 22888.1932204\tbest: 22888.1932204 (538)\ttotal: 41.9s\tremaining: 1m 4s\n",
      "539:\tlearn: 21934.3757279\ttest: 22886.4715923\tbest: 22886.4715923 (539)\ttotal: 42s\tremaining: 1m 4s\n",
      "540:\tlearn: 21932.7165346\ttest: 22885.5159263\tbest: 22885.5159263 (540)\ttotal: 42s\tremaining: 1m 4s\n",
      "541:\tlearn: 21930.9576493\ttest: 22885.3710485\tbest: 22885.3710485 (541)\ttotal: 42s\tremaining: 1m 3s\n",
      "542:\tlearn: 21928.3258828\ttest: 22883.7493720\tbest: 22883.7493720 (542)\ttotal: 42.1s\tremaining: 1m 3s\n",
      "543:\tlearn: 21921.4230446\ttest: 22884.4461701\tbest: 22883.7493720 (542)\ttotal: 42.2s\tremaining: 1m 3s\n",
      "544:\tlearn: 21912.0641292\ttest: 22882.1739636\tbest: 22882.1739636 (544)\ttotal: 42.2s\tremaining: 1m 3s\n",
      "545:\tlearn: 21897.1337801\ttest: 22881.3750753\tbest: 22881.3750753 (545)\ttotal: 42.3s\tremaining: 1m 3s\n",
      "546:\tlearn: 21889.2320921\ttest: 22877.7738253\tbest: 22877.7738253 (546)\ttotal: 42.4s\tremaining: 1m 3s\n",
      "547:\tlearn: 21884.3011503\ttest: 22877.4297118\tbest: 22877.4297118 (547)\ttotal: 42.4s\tremaining: 1m 3s\n",
      "548:\tlearn: 21881.5461788\ttest: 22874.9885699\tbest: 22874.9885699 (548)\ttotal: 42.5s\tremaining: 1m 3s\n",
      "549:\tlearn: 21879.5206357\ttest: 22874.7690310\tbest: 22874.7690310 (549)\ttotal: 42.5s\tremaining: 1m 3s\n",
      "550:\tlearn: 21878.6200689\ttest: 22874.3707221\tbest: 22874.3707221 (550)\ttotal: 42.5s\tremaining: 1m 2s\n",
      "551:\tlearn: 21876.1774877\ttest: 22875.6027607\tbest: 22874.3707221 (550)\ttotal: 42.6s\tremaining: 1m 2s\n",
      "552:\tlearn: 21871.8438933\ttest: 22874.1328638\tbest: 22874.1328638 (552)\ttotal: 42.6s\tremaining: 1m 2s\n",
      "553:\tlearn: 21870.7977902\ttest: 22873.3243689\tbest: 22873.3243689 (553)\ttotal: 42.7s\tremaining: 1m 2s\n",
      "554:\tlearn: 21869.8289147\ttest: 22873.5440115\tbest: 22873.3243689 (553)\ttotal: 42.7s\tremaining: 1m 2s\n",
      "555:\tlearn: 21867.4297194\ttest: 22873.8455425\tbest: 22873.3243689 (553)\ttotal: 42.7s\tremaining: 1m 2s\n",
      "556:\tlearn: 21863.4067111\ttest: 22875.5032804\tbest: 22873.3243689 (553)\ttotal: 42.8s\tremaining: 1m 2s\n",
      "557:\tlearn: 21856.1554544\ttest: 22871.6122463\tbest: 22871.6122463 (557)\ttotal: 42.8s\tremaining: 1m 2s\n",
      "558:\tlearn: 21855.0755570\ttest: 22871.5161232\tbest: 22871.5161232 (558)\ttotal: 42.8s\tremaining: 1m 1s\n",
      "559:\tlearn: 21853.3355733\ttest: 22871.6819843\tbest: 22871.5161232 (558)\ttotal: 42.9s\tremaining: 1m 1s\n",
      "560:\tlearn: 21847.6589500\ttest: 22870.9396235\tbest: 22870.9396235 (560)\ttotal: 42.9s\tremaining: 1m 1s\n",
      "561:\tlearn: 21843.6038263\ttest: 22871.2969299\tbest: 22870.9396235 (560)\ttotal: 43s\tremaining: 1m 1s\n",
      "562:\tlearn: 21842.3667974\ttest: 22870.2351907\tbest: 22870.2351907 (562)\ttotal: 43s\tremaining: 1m 1s\n",
      "563:\tlearn: 21840.5005949\ttest: 22868.4128109\tbest: 22868.4128109 (563)\ttotal: 43.1s\tremaining: 1m 1s\n",
      "564:\tlearn: 21838.9763997\ttest: 22867.9601678\tbest: 22867.9601678 (564)\ttotal: 43.1s\tremaining: 1m 1s\n",
      "565:\tlearn: 21834.7198163\ttest: 22866.4075628\tbest: 22866.4075628 (565)\ttotal: 43.1s\tremaining: 1m\n",
      "566:\tlearn: 21831.0190533\ttest: 22863.3637061\tbest: 22863.3637061 (566)\ttotal: 43.2s\tremaining: 1m\n",
      "567:\tlearn: 21826.6957510\ttest: 22862.2192849\tbest: 22862.2192849 (567)\ttotal: 43.2s\tremaining: 1m\n",
      "568:\tlearn: 21824.9387542\ttest: 22862.3111532\tbest: 22862.2192849 (567)\ttotal: 43.3s\tremaining: 1m\n",
      "569:\tlearn: 21816.0570681\ttest: 22861.6544312\tbest: 22861.6544312 (569)\ttotal: 43.4s\tremaining: 1m\n",
      "570:\tlearn: 21814.5756431\ttest: 22860.3818375\tbest: 22860.3818375 (570)\ttotal: 43.4s\tremaining: 1m\n",
      "571:\tlearn: 21811.3378993\ttest: 22858.0932082\tbest: 22858.0932082 (571)\ttotal: 43.5s\tremaining: 1m\n",
      "572:\tlearn: 21809.6825303\ttest: 22856.9401733\tbest: 22856.9401733 (572)\ttotal: 43.5s\tremaining: 1m\n",
      "573:\tlearn: 21806.9686915\ttest: 22856.9755867\tbest: 22856.9401733 (572)\ttotal: 43.5s\tremaining: 1m\n",
      "574:\tlearn: 21806.4523377\ttest: 22856.9377881\tbest: 22856.9377881 (574)\ttotal: 43.6s\tremaining: 59.9s\n",
      "575:\tlearn: 21801.6047432\ttest: 22854.7867987\tbest: 22854.7867987 (575)\ttotal: 43.6s\tremaining: 59.8s\n",
      "576:\tlearn: 21797.8046341\ttest: 22854.2964769\tbest: 22854.2964769 (576)\ttotal: 43.6s\tremaining: 59.7s\n",
      "577:\tlearn: 21772.3613109\ttest: 22836.1533556\tbest: 22836.1533556 (577)\ttotal: 43.7s\tremaining: 59.6s\n",
      "578:\tlearn: 21770.9148680\ttest: 22836.1562451\tbest: 22836.1533556 (577)\ttotal: 43.8s\tremaining: 59.5s\n",
      "579:\tlearn: 21764.2340893\ttest: 22831.8108530\tbest: 22831.8108530 (579)\ttotal: 43.8s\tremaining: 59.4s\n",
      "580:\tlearn: 21761.3495195\ttest: 22831.5671430\tbest: 22831.5671430 (580)\ttotal: 43.9s\tremaining: 59.3s\n",
      "581:\tlearn: 21758.9059271\ttest: 22831.7641119\tbest: 22831.5671430 (580)\ttotal: 43.9s\tremaining: 59.1s\n",
      "582:\tlearn: 21754.4832940\ttest: 22831.5233060\tbest: 22831.5233060 (582)\ttotal: 43.9s\tremaining: 59s\n",
      "583:\tlearn: 21750.3508164\ttest: 22830.5945861\tbest: 22830.5945861 (583)\ttotal: 44s\tremaining: 58.9s\n",
      "584:\tlearn: 21749.0910998\ttest: 22830.2097430\tbest: 22830.2097430 (584)\ttotal: 44s\tremaining: 58.8s\n",
      "585:\tlearn: 21745.7916249\ttest: 22831.5995661\tbest: 22830.2097430 (584)\ttotal: 44.1s\tremaining: 58.6s\n",
      "586:\tlearn: 21742.5389039\ttest: 22831.3752960\tbest: 22830.2097430 (584)\ttotal: 44.1s\tremaining: 58.5s\n",
      "587:\tlearn: 21741.1262535\ttest: 22830.0654566\tbest: 22830.0654566 (587)\ttotal: 44.1s\tremaining: 58.4s\n",
      "588:\tlearn: 21735.0479728\ttest: 22826.1412072\tbest: 22826.1412072 (588)\ttotal: 44.2s\tremaining: 58.3s\n",
      "589:\tlearn: 21733.3286795\ttest: 22825.1833041\tbest: 22825.1833041 (589)\ttotal: 44.2s\tremaining: 58.2s\n",
      "590:\tlearn: 21731.4100101\ttest: 22824.0725551\tbest: 22824.0725551 (590)\ttotal: 44.3s\tremaining: 58s\n",
      "591:\tlearn: 21727.9050644\ttest: 22824.4750962\tbest: 22824.0725551 (590)\ttotal: 44.3s\tremaining: 57.9s\n",
      "592:\tlearn: 21725.2823834\ttest: 22823.8005376\tbest: 22823.8005376 (592)\ttotal: 44.3s\tremaining: 57.8s\n",
      "593:\tlearn: 21718.5624931\ttest: 22823.6322442\tbest: 22823.6322442 (593)\ttotal: 44.4s\tremaining: 57.7s\n",
      "594:\tlearn: 21716.4601424\ttest: 22825.3324200\tbest: 22823.6322442 (593)\ttotal: 44.4s\tremaining: 57.6s\n",
      "595:\tlearn: 21713.2550685\ttest: 22825.9027133\tbest: 22823.6322442 (593)\ttotal: 44.5s\tremaining: 57.5s\n",
      "596:\tlearn: 21704.2226194\ttest: 22821.8411261\tbest: 22821.8411261 (596)\ttotal: 44.6s\tremaining: 57.4s\n",
      "597:\tlearn: 21700.2297573\ttest: 22820.3123743\tbest: 22820.3123743 (597)\ttotal: 44.6s\tremaining: 57.3s\n",
      "598:\tlearn: 21698.9399270\ttest: 22819.8579728\tbest: 22819.8579728 (598)\ttotal: 44.6s\tremaining: 57.2s\n",
      "599:\tlearn: 21697.2394234\ttest: 22819.6349388\tbest: 22819.6349388 (599)\ttotal: 44.7s\tremaining: 57s\n",
      "600:\tlearn: 21691.3211339\ttest: 22817.5274557\tbest: 22817.5274557 (600)\ttotal: 44.8s\tremaining: 57s\n",
      "601:\tlearn: 21690.6757675\ttest: 22817.7670836\tbest: 22817.5274557 (600)\ttotal: 44.8s\tremaining: 56.8s\n",
      "602:\tlearn: 21688.9092701\ttest: 22816.3779520\tbest: 22816.3779520 (602)\ttotal: 44.8s\tremaining: 56.7s\n",
      "603:\tlearn: 21685.7963385\ttest: 22816.8007950\tbest: 22816.3779520 (602)\ttotal: 44.9s\tremaining: 56.6s\n",
      "604:\tlearn: 21684.8300101\ttest: 22816.8249331\tbest: 22816.3779520 (602)\ttotal: 44.9s\tremaining: 56.5s\n",
      "605:\tlearn: 21681.9182791\ttest: 22815.8117563\tbest: 22815.8117563 (605)\ttotal: 44.9s\tremaining: 56.4s\n",
      "606:\tlearn: 21680.5936446\ttest: 22815.4774428\tbest: 22815.4774428 (606)\ttotal: 45s\tremaining: 56.2s\n",
      "607:\tlearn: 21679.7445030\ttest: 22815.0494678\tbest: 22815.0494678 (607)\ttotal: 45s\tremaining: 56.1s\n",
      "608:\tlearn: 21678.7607539\ttest: 22815.6400308\tbest: 22815.0494678 (607)\ttotal: 45s\tremaining: 56s\n",
      "609:\tlearn: 21677.3390980\ttest: 22815.9654005\tbest: 22815.0494678 (607)\ttotal: 45.1s\tremaining: 55.8s\n",
      "610:\tlearn: 21676.5687136\ttest: 22816.0433849\tbest: 22815.0494678 (607)\ttotal: 45.1s\tremaining: 55.7s\n",
      "611:\tlearn: 21674.2134029\ttest: 22815.9159646\tbest: 22815.0494678 (607)\ttotal: 45.1s\tremaining: 55.6s\n",
      "612:\tlearn: 21673.0001428\ttest: 22814.9694333\tbest: 22814.9694333 (612)\ttotal: 45.2s\tremaining: 55.5s\n",
      "613:\tlearn: 21669.3934854\ttest: 22813.4508175\tbest: 22813.4508175 (613)\ttotal: 45.2s\tremaining: 55.4s\n",
      "614:\tlearn: 21663.4825194\ttest: 22811.7112582\tbest: 22811.7112582 (614)\ttotal: 45.3s\tremaining: 55.3s\n",
      "615:\tlearn: 21661.2307795\ttest: 22811.3234251\tbest: 22811.3234251 (615)\ttotal: 45.3s\tremaining: 55.2s\n",
      "616:\tlearn: 21651.1763741\ttest: 22803.4786101\tbest: 22803.4786101 (616)\ttotal: 45.4s\tremaining: 55.1s\n",
      "617:\tlearn: 21648.4968732\ttest: 22801.4656058\tbest: 22801.4656058 (617)\ttotal: 45.4s\tremaining: 55s\n",
      "618:\tlearn: 21640.7106558\ttest: 22798.9517030\tbest: 22798.9517030 (618)\ttotal: 45.5s\tremaining: 54.9s\n",
      "619:\tlearn: 21639.1853620\ttest: 22798.4381551\tbest: 22798.4381551 (619)\ttotal: 45.5s\tremaining: 54.8s\n",
      "620:\tlearn: 21629.2221189\ttest: 22794.7549911\tbest: 22794.7549911 (620)\ttotal: 45.6s\tremaining: 54.7s\n",
      "621:\tlearn: 21622.6569091\ttest: 22790.8456911\tbest: 22790.8456911 (621)\ttotal: 45.6s\tremaining: 54.6s\n",
      "622:\tlearn: 21621.1718662\ttest: 22790.7396827\tbest: 22790.7396827 (622)\ttotal: 45.7s\tremaining: 54.5s\n",
      "623:\tlearn: 21620.1039000\ttest: 22791.1225323\tbest: 22790.7396827 (622)\ttotal: 45.7s\tremaining: 54.4s\n",
      "624:\tlearn: 21616.2127080\ttest: 22790.6646871\tbest: 22790.6646871 (624)\ttotal: 45.8s\tremaining: 54.3s\n",
      "625:\tlearn: 21613.0003003\ttest: 22788.6486424\tbest: 22788.6486424 (625)\ttotal: 45.8s\tremaining: 54.1s\n",
      "626:\tlearn: 21609.2920860\ttest: 22788.1775338\tbest: 22788.1775338 (626)\ttotal: 45.8s\tremaining: 54s\n",
      "627:\tlearn: 21602.0718710\ttest: 22784.1257778\tbest: 22784.1257778 (627)\ttotal: 45.9s\tremaining: 54s\n",
      "628:\tlearn: 21599.4583170\ttest: 22784.0422824\tbest: 22784.0422824 (628)\ttotal: 46s\tremaining: 53.8s\n",
      "629:\tlearn: 21597.2198624\ttest: 22783.5590311\tbest: 22783.5590311 (629)\ttotal: 46s\tremaining: 53.7s\n",
      "630:\tlearn: 21596.0996604\ttest: 22782.7683627\tbest: 22782.7683627 (630)\ttotal: 46s\tremaining: 53.6s\n",
      "631:\tlearn: 21595.0172454\ttest: 22782.8003490\tbest: 22782.7683627 (630)\ttotal: 46.1s\tremaining: 53.5s\n",
      "632:\tlearn: 21593.9670207\ttest: 22782.5542866\tbest: 22782.5542866 (632)\ttotal: 46.1s\tremaining: 53.4s\n",
      "633:\tlearn: 21587.7797640\ttest: 22782.8906750\tbest: 22782.5542866 (632)\ttotal: 46.1s\tremaining: 53.3s\n",
      "634:\tlearn: 21570.9461283\ttest: 22775.8052924\tbest: 22775.8052924 (634)\ttotal: 46.3s\tremaining: 53.3s\n",
      "635:\tlearn: 21567.3747503\ttest: 22774.8193865\tbest: 22774.8193865 (635)\ttotal: 46.3s\tremaining: 53.1s\n",
      "636:\tlearn: 21562.3634687\ttest: 22774.1693784\tbest: 22774.1693784 (636)\ttotal: 46.4s\tremaining: 53.1s\n",
      "637:\tlearn: 21557.3442726\ttest: 22772.8180206\tbest: 22772.8180206 (637)\ttotal: 46.4s\tremaining: 53s\n",
      "638:\tlearn: 21552.7973809\ttest: 22772.2653337\tbest: 22772.2653337 (638)\ttotal: 46.5s\tremaining: 52.9s\n",
      "639:\tlearn: 21552.0718197\ttest: 22772.1773081\tbest: 22772.1773081 (639)\ttotal: 46.5s\tremaining: 52.7s\n",
      "640:\tlearn: 21548.5026709\ttest: 22771.1922802\tbest: 22771.1922802 (640)\ttotal: 46.5s\tremaining: 52.6s\n",
      "641:\tlearn: 21546.4383884\ttest: 22770.1551870\tbest: 22770.1551870 (641)\ttotal: 46.6s\tremaining: 52.5s\n",
      "642:\tlearn: 21544.1108823\ttest: 22769.7616811\tbest: 22769.7616811 (642)\ttotal: 46.6s\tremaining: 52.4s\n",
      "643:\tlearn: 21542.7867424\ttest: 22769.9598200\tbest: 22769.7616811 (642)\ttotal: 46.6s\tremaining: 52.3s\n",
      "644:\tlearn: 21540.1515490\ttest: 22771.9904217\tbest: 22769.7616811 (642)\ttotal: 46.7s\tremaining: 52.2s\n",
      "645:\tlearn: 21533.5098857\ttest: 22769.5676143\tbest: 22769.5676143 (645)\ttotal: 46.7s\tremaining: 52.1s\n",
      "646:\tlearn: 21530.4548654\ttest: 22768.8704821\tbest: 22768.8704821 (646)\ttotal: 46.8s\tremaining: 52s\n",
      "647:\tlearn: 21526.1453230\ttest: 22770.8314115\tbest: 22768.8704821 (646)\ttotal: 46.8s\tremaining: 51.9s\n",
      "648:\tlearn: 21524.2627892\ttest: 22771.5467098\tbest: 22768.8704821 (646)\ttotal: 46.9s\tremaining: 51.8s\n",
      "649:\tlearn: 21505.4597903\ttest: 22762.2048782\tbest: 22762.2048782 (649)\ttotal: 47s\tremaining: 51.7s\n",
      "650:\tlearn: 21505.0364869\ttest: 22761.8293392\tbest: 22761.8293392 (650)\ttotal: 47s\tremaining: 51.6s\n",
      "651:\tlearn: 21504.4643563\ttest: 22761.7976718\tbest: 22761.7976718 (651)\ttotal: 47s\tremaining: 51.5s\n",
      "652:\tlearn: 21503.0419628\ttest: 22762.9038275\tbest: 22761.7976718 (651)\ttotal: 47.1s\tremaining: 51.4s\n",
      "653:\tlearn: 21499.6865930\ttest: 22760.4683774\tbest: 22760.4683774 (653)\ttotal: 47.1s\tremaining: 51.3s\n",
      "654:\tlearn: 21493.7448098\ttest: 22758.6521371\tbest: 22758.6521371 (654)\ttotal: 47.2s\tremaining: 51.2s\n",
      "655:\tlearn: 21491.2003617\ttest: 22756.2373522\tbest: 22756.2373522 (655)\ttotal: 47.2s\tremaining: 51.1s\n",
      "656:\tlearn: 21489.6956635\ttest: 22756.1449784\tbest: 22756.1449784 (656)\ttotal: 47.3s\tremaining: 51s\n",
      "657:\tlearn: 21489.2259797\ttest: 22755.7400092\tbest: 22755.7400092 (657)\ttotal: 47.3s\tremaining: 50.9s\n",
      "658:\tlearn: 21488.3106886\ttest: 22755.8952179\tbest: 22755.7400092 (657)\ttotal: 47.3s\tremaining: 50.8s\n",
      "659:\tlearn: 21487.6883773\ttest: 22755.8028735\tbest: 22755.7400092 (657)\ttotal: 47.4s\tremaining: 50.7s\n",
      "660:\tlearn: 21486.7182794\ttest: 22755.8720901\tbest: 22755.7400092 (657)\ttotal: 47.4s\tremaining: 50.5s\n",
      "661:\tlearn: 21484.0013453\ttest: 22756.3539960\tbest: 22755.7400092 (657)\ttotal: 47.4s\tremaining: 50.4s\n",
      "662:\tlearn: 21483.3574304\ttest: 22756.3113074\tbest: 22755.7400092 (657)\ttotal: 47.5s\tremaining: 50.3s\n",
      "663:\tlearn: 21481.9171949\ttest: 22756.4593278\tbest: 22755.7400092 (657)\ttotal: 47.5s\tremaining: 50.2s\n",
      "664:\tlearn: 21475.7457921\ttest: 22755.2502963\tbest: 22755.2502963 (664)\ttotal: 47.5s\tremaining: 50.1s\n",
      "665:\tlearn: 21473.7870456\ttest: 22754.5078458\tbest: 22754.5078458 (665)\ttotal: 47.6s\tremaining: 50s\n",
      "666:\tlearn: 21467.5407560\ttest: 22752.2473750\tbest: 22752.2473750 (666)\ttotal: 47.6s\tremaining: 49.9s\n",
      "667:\tlearn: 21466.8434037\ttest: 22752.5084090\tbest: 22752.2473750 (666)\ttotal: 47.7s\tremaining: 49.8s\n",
      "668:\tlearn: 21464.1662840\ttest: 22752.4186827\tbest: 22752.2473750 (666)\ttotal: 47.7s\tremaining: 49.7s\n",
      "669:\tlearn: 21461.3614495\ttest: 22752.6809221\tbest: 22752.2473750 (666)\ttotal: 47.8s\tremaining: 49.6s\n",
      "670:\tlearn: 21460.2488174\ttest: 22752.6119498\tbest: 22752.2473750 (666)\ttotal: 47.8s\tremaining: 49.5s\n",
      "671:\tlearn: 21457.4218525\ttest: 22752.3857840\tbest: 22752.2473750 (666)\ttotal: 47.8s\tremaining: 49.4s\n",
      "672:\tlearn: 21454.6488570\ttest: 22752.7973152\tbest: 22752.2473750 (666)\ttotal: 47.9s\tremaining: 49.3s\n",
      "673:\tlearn: 21451.7107137\ttest: 22752.2552308\tbest: 22752.2473750 (666)\ttotal: 48s\tremaining: 49.2s\n",
      "674:\tlearn: 21448.7158530\ttest: 22753.2588890\tbest: 22752.2473750 (666)\ttotal: 48s\tremaining: 49.1s\n",
      "675:\tlearn: 21442.0338286\ttest: 22752.9476326\tbest: 22752.2473750 (666)\ttotal: 48s\tremaining: 49s\n",
      "676:\tlearn: 21439.8499516\ttest: 22754.0501225\tbest: 22752.2473750 (666)\ttotal: 48.1s\tremaining: 48.9s\n",
      "677:\tlearn: 21438.9851355\ttest: 22754.0457609\tbest: 22752.2473750 (666)\ttotal: 48.1s\tremaining: 48.8s\n",
      "678:\tlearn: 21435.1603739\ttest: 22752.1282719\tbest: 22752.1282719 (678)\ttotal: 48.2s\tremaining: 48.7s\n",
      "679:\tlearn: 21433.0183737\ttest: 22751.6281392\tbest: 22751.6281392 (679)\ttotal: 48.2s\tremaining: 48.6s\n",
      "680:\tlearn: 21431.8455546\ttest: 22752.2828432\tbest: 22751.6281392 (679)\ttotal: 48.2s\tremaining: 48.5s\n",
      "681:\tlearn: 21430.3454069\ttest: 22751.3766949\tbest: 22751.3766949 (681)\ttotal: 48.3s\tremaining: 48.4s\n",
      "682:\tlearn: 21428.1883268\ttest: 22753.2927049\tbest: 22751.3766949 (681)\ttotal: 48.3s\tremaining: 48.3s\n",
      "683:\tlearn: 21422.9779790\ttest: 22749.0204184\tbest: 22749.0204184 (683)\ttotal: 48.4s\tremaining: 48.2s\n",
      "684:\tlearn: 21422.4868762\ttest: 22749.3923362\tbest: 22749.0204184 (683)\ttotal: 48.4s\tremaining: 48.1s\n",
      "685:\tlearn: 21407.3303046\ttest: 22746.7764037\tbest: 22746.7764037 (685)\ttotal: 48.5s\tremaining: 48.1s\n",
      "686:\tlearn: 21403.4562584\ttest: 22746.2993482\tbest: 22746.2993482 (686)\ttotal: 48.5s\tremaining: 48s\n",
      "687:\tlearn: 21402.9758421\ttest: 22745.3921507\tbest: 22745.3921507 (687)\ttotal: 48.6s\tremaining: 47.9s\n",
      "688:\tlearn: 21400.3045191\ttest: 22745.1541814\tbest: 22745.1541814 (688)\ttotal: 48.6s\tremaining: 47.8s\n",
      "689:\tlearn: 21399.8100688\ttest: 22745.2257841\tbest: 22745.1541814 (688)\ttotal: 48.6s\tremaining: 47.6s\n",
      "690:\tlearn: 21392.8652676\ttest: 22743.5558609\tbest: 22743.5558609 (690)\ttotal: 48.7s\tremaining: 47.6s\n",
      "691:\tlearn: 21391.0452966\ttest: 22743.3224459\tbest: 22743.3224459 (691)\ttotal: 48.7s\tremaining: 47.5s\n",
      "692:\tlearn: 21390.6769256\ttest: 22743.3896559\tbest: 22743.3224459 (691)\ttotal: 48.8s\tremaining: 47.4s\n",
      "693:\tlearn: 21390.1426500\ttest: 22742.8839033\tbest: 22742.8839033 (693)\ttotal: 48.8s\tremaining: 47.2s\n",
      "694:\tlearn: 21382.6662228\ttest: 22739.1674510\tbest: 22739.1674510 (694)\ttotal: 48.9s\tremaining: 47.2s\n",
      "695:\tlearn: 21376.6780408\ttest: 22735.8130347\tbest: 22735.8130347 (695)\ttotal: 49s\tremaining: 47.1s\n",
      "696:\tlearn: 21376.1923773\ttest: 22735.6546119\tbest: 22735.6546119 (696)\ttotal: 49s\tremaining: 47s\n",
      "697:\tlearn: 21367.7390455\ttest: 22736.0832517\tbest: 22735.6546119 (696)\ttotal: 49.1s\tremaining: 47s\n",
      "698:\tlearn: 21366.8573268\ttest: 22736.1001299\tbest: 22735.6546119 (696)\ttotal: 49.1s\tremaining: 46.8s\n",
      "699:\tlearn: 21361.4169920\ttest: 22732.1212121\tbest: 22732.1212121 (699)\ttotal: 49.2s\tremaining: 46.8s\n",
      "700:\tlearn: 21360.0541737\ttest: 22732.0508470\tbest: 22732.0508470 (700)\ttotal: 49.3s\tremaining: 46.7s\n",
      "701:\tlearn: 21357.2840522\ttest: 22733.0335303\tbest: 22732.0508470 (700)\ttotal: 49.3s\tremaining: 46.6s\n",
      "702:\tlearn: 21355.8754255\ttest: 22733.1489321\tbest: 22732.0508470 (700)\ttotal: 49.3s\tremaining: 46.5s\n",
      "703:\tlearn: 21351.1074954\ttest: 22732.6014837\tbest: 22732.0508470 (700)\ttotal: 49.4s\tremaining: 46.4s\n",
      "704:\tlearn: 21349.5027005\ttest: 22732.5785288\tbest: 22732.0508470 (700)\ttotal: 49.4s\tremaining: 46.3s\n",
      "705:\tlearn: 21344.1160912\ttest: 22732.1060703\tbest: 22732.0508470 (700)\ttotal: 49.5s\tremaining: 46.3s\n",
      "706:\tlearn: 21339.1694738\ttest: 22731.5431560\tbest: 22731.5431560 (706)\ttotal: 49.6s\tremaining: 46.2s\n",
      "707:\tlearn: 21336.9702920\ttest: 22731.2693912\tbest: 22731.2693912 (707)\ttotal: 49.6s\tremaining: 46.1s\n",
      "708:\tlearn: 21334.9854605\ttest: 22730.7100957\tbest: 22730.7100957 (708)\ttotal: 49.7s\tremaining: 46s\n",
      "709:\tlearn: 21332.9199538\ttest: 22728.5903538\tbest: 22728.5903538 (709)\ttotal: 49.7s\tremaining: 45.9s\n",
      "710:\tlearn: 21323.3980751\ttest: 22723.5341428\tbest: 22723.5341428 (710)\ttotal: 49.8s\tremaining: 45.9s\n",
      "711:\tlearn: 21318.5293448\ttest: 22722.2841533\tbest: 22722.2841533 (711)\ttotal: 49.8s\tremaining: 45.8s\n",
      "712:\tlearn: 21317.9935732\ttest: 22722.6180820\tbest: 22722.2841533 (711)\ttotal: 49.9s\tremaining: 45.7s\n",
      "713:\tlearn: 21317.2776827\ttest: 22722.5908286\tbest: 22722.2841533 (711)\ttotal: 49.9s\tremaining: 45.6s\n",
      "714:\tlearn: 21316.1492966\ttest: 22721.9750294\tbest: 22721.9750294 (714)\ttotal: 49.9s\tremaining: 45.5s\n",
      "715:\tlearn: 21313.8539477\ttest: 22721.0021459\tbest: 22721.0021459 (715)\ttotal: 50s\tremaining: 45.4s\n",
      "716:\tlearn: 21312.1348653\ttest: 22720.8071614\tbest: 22720.8071614 (716)\ttotal: 50.1s\tremaining: 45.3s\n",
      "717:\tlearn: 21311.1263489\ttest: 22721.3047901\tbest: 22720.8071614 (716)\ttotal: 50.1s\tremaining: 45.2s\n",
      "718:\tlearn: 21310.6619543\ttest: 22721.1520701\tbest: 22720.8071614 (716)\ttotal: 50.1s\tremaining: 45.1s\n",
      "719:\tlearn: 21308.0728932\ttest: 22722.3974376\tbest: 22720.8071614 (716)\ttotal: 50.2s\tremaining: 45s\n",
      "720:\tlearn: 21303.4085952\ttest: 22723.0640740\tbest: 22720.8071614 (716)\ttotal: 50.2s\tremaining: 44.9s\n",
      "721:\tlearn: 21303.0513550\ttest: 22722.8424083\tbest: 22720.8071614 (716)\ttotal: 50.3s\tremaining: 44.8s\n",
      "722:\tlearn: 21302.2862884\ttest: 22723.6539412\tbest: 22720.8071614 (716)\ttotal: 50.3s\tremaining: 44.7s\n",
      "723:\tlearn: 21301.6796606\ttest: 22722.9435603\tbest: 22720.8071614 (716)\ttotal: 50.3s\tremaining: 44.6s\n",
      "724:\tlearn: 21301.2374303\ttest: 22723.3482158\tbest: 22720.8071614 (716)\ttotal: 50.3s\tremaining: 44.5s\n",
      "725:\tlearn: 21300.7134407\ttest: 22723.5296907\tbest: 22720.8071614 (716)\ttotal: 50.4s\tremaining: 44.4s\n",
      "726:\tlearn: 21297.8625395\ttest: 22722.7112453\tbest: 22720.8071614 (716)\ttotal: 50.4s\tremaining: 44.3s\n",
      "727:\tlearn: 21295.7602817\ttest: 22722.0526883\tbest: 22720.8071614 (716)\ttotal: 50.5s\tremaining: 44.2s\n",
      "728:\tlearn: 21291.0618054\ttest: 22721.9557399\tbest: 22720.8071614 (716)\ttotal: 50.5s\tremaining: 44.1s\n",
      "729:\tlearn: 21290.5929307\ttest: 22721.6673849\tbest: 22720.8071614 (716)\ttotal: 50.5s\tremaining: 44s\n",
      "730:\tlearn: 21286.4057908\ttest: 22722.3867533\tbest: 22720.8071614 (716)\ttotal: 50.6s\tremaining: 44s\n",
      "731:\tlearn: 21281.7060543\ttest: 22721.7331999\tbest: 22720.8071614 (716)\ttotal: 50.6s\tremaining: 43.9s\n",
      "732:\tlearn: 21280.9050493\ttest: 22722.7971120\tbest: 22720.8071614 (716)\ttotal: 50.7s\tremaining: 43.8s\n",
      "733:\tlearn: 21280.4279529\ttest: 22722.7277767\tbest: 22720.8071614 (716)\ttotal: 50.7s\tremaining: 43.7s\n",
      "734:\tlearn: 21278.6751354\ttest: 22722.1896937\tbest: 22720.8071614 (716)\ttotal: 50.8s\tremaining: 43.6s\n",
      "735:\tlearn: 21273.3846843\ttest: 22719.7505928\tbest: 22719.7505928 (735)\ttotal: 50.8s\tremaining: 43.5s\n",
      "736:\tlearn: 21272.4048634\ttest: 22720.0422400\tbest: 22719.7505928 (735)\ttotal: 50.9s\tremaining: 43.4s\n",
      "737:\tlearn: 21271.7202693\ttest: 22719.6079784\tbest: 22719.6079784 (737)\ttotal: 50.9s\tremaining: 43.3s\n",
      "738:\tlearn: 21270.9870493\ttest: 22719.7932089\tbest: 22719.6079784 (737)\ttotal: 50.9s\tremaining: 43.2s\n",
      "739:\tlearn: 21265.8473145\ttest: 22717.5053541\tbest: 22717.5053541 (739)\ttotal: 51s\tremaining: 43.1s\n",
      "740:\tlearn: 21264.0482873\ttest: 22717.1955097\tbest: 22717.1955097 (740)\ttotal: 51s\tremaining: 43s\n",
      "741:\tlearn: 21261.7869033\ttest: 22717.0742637\tbest: 22717.0742637 (741)\ttotal: 51s\tremaining: 42.9s\n",
      "742:\tlearn: 21261.2504838\ttest: 22716.4617355\tbest: 22716.4617355 (742)\ttotal: 51.1s\tremaining: 42.8s\n",
      "743:\tlearn: 21257.7435483\ttest: 22715.8266558\tbest: 22715.8266558 (743)\ttotal: 51.1s\tremaining: 42.8s\n",
      "744:\tlearn: 21257.3994248\ttest: 22715.5718362\tbest: 22715.5718362 (744)\ttotal: 51.2s\tremaining: 42.7s\n",
      "745:\tlearn: 21252.8364000\ttest: 22716.5104072\tbest: 22715.5718362 (744)\ttotal: 51.2s\tremaining: 42.6s\n",
      "746:\tlearn: 21248.8482609\ttest: 22716.8926992\tbest: 22715.5718362 (744)\ttotal: 51.3s\tremaining: 42.5s\n",
      "747:\tlearn: 21245.4246162\ttest: 22716.7002287\tbest: 22715.5718362 (744)\ttotal: 51.3s\tremaining: 42.4s\n",
      "748:\tlearn: 21242.1634601\ttest: 22716.9999416\tbest: 22715.5718362 (744)\ttotal: 51.4s\tremaining: 42.3s\n",
      "749:\tlearn: 21234.0764681\ttest: 22716.2815884\tbest: 22715.5718362 (744)\ttotal: 51.5s\tremaining: 42.3s\n",
      "750:\tlearn: 21231.4952796\ttest: 22716.5671905\tbest: 22715.5718362 (744)\ttotal: 51.5s\tremaining: 42.2s\n",
      "751:\tlearn: 21230.7392817\ttest: 22716.6426868\tbest: 22715.5718362 (744)\ttotal: 51.5s\tremaining: 42.1s\n",
      "752:\tlearn: 21224.7936149\ttest: 22718.1904126\tbest: 22715.5718362 (744)\ttotal: 51.6s\tremaining: 42s\n",
      "753:\tlearn: 21222.8650524\ttest: 22718.7395271\tbest: 22715.5718362 (744)\ttotal: 51.6s\tremaining: 41.9s\n",
      "754:\tlearn: 21222.1450555\ttest: 22718.5515936\tbest: 22715.5718362 (744)\ttotal: 51.7s\tremaining: 41.8s\n",
      "755:\tlearn: 21221.3572547\ttest: 22718.5144647\tbest: 22715.5718362 (744)\ttotal: 51.7s\tremaining: 41.7s\n",
      "756:\tlearn: 21220.9272042\ttest: 22718.3839397\tbest: 22715.5718362 (744)\ttotal: 51.7s\tremaining: 41.6s\n",
      "757:\tlearn: 21220.4875960\ttest: 22718.3220121\tbest: 22715.5718362 (744)\ttotal: 51.8s\tremaining: 41.5s\n",
      "758:\tlearn: 21218.9295873\ttest: 22719.2093569\tbest: 22715.5718362 (744)\ttotal: 51.8s\tremaining: 41.4s\n",
      "759:\tlearn: 21213.2098938\ttest: 22714.9493113\tbest: 22714.9493113 (759)\ttotal: 51.9s\tremaining: 41.4s\n",
      "760:\tlearn: 21212.7781545\ttest: 22714.7913278\tbest: 22714.7913278 (760)\ttotal: 51.9s\tremaining: 41.3s\n",
      "761:\tlearn: 21205.8402579\ttest: 22714.9485188\tbest: 22714.7913278 (760)\ttotal: 52s\tremaining: 41.2s\n",
      "762:\tlearn: 21205.4732993\ttest: 22714.6641142\tbest: 22714.6641142 (762)\ttotal: 52s\tremaining: 41.1s\n",
      "763:\tlearn: 21204.7403161\ttest: 22714.6811671\tbest: 22714.6641142 (762)\ttotal: 52s\tremaining: 41s\n",
      "764:\tlearn: 21203.8657996\ttest: 22715.5895161\tbest: 22714.6641142 (762)\ttotal: 52.1s\tremaining: 40.9s\n",
      "765:\tlearn: 21192.0010199\ttest: 22711.9617198\tbest: 22711.9617198 (765)\ttotal: 52.2s\tremaining: 40.9s\n",
      "766:\tlearn: 21187.4892708\ttest: 22711.3205339\tbest: 22711.3205339 (766)\ttotal: 52.2s\tremaining: 40.8s\n",
      "767:\tlearn: 21184.5057243\ttest: 22710.0040131\tbest: 22710.0040131 (767)\ttotal: 52.3s\tremaining: 40.7s\n",
      "768:\tlearn: 21181.7911249\ttest: 22709.1547777\tbest: 22709.1547777 (768)\ttotal: 52.3s\tremaining: 40.6s\n",
      "769:\tlearn: 21171.2415413\ttest: 22709.3176944\tbest: 22709.1547777 (768)\ttotal: 52.4s\tremaining: 40.6s\n",
      "770:\tlearn: 21166.8411272\ttest: 22708.8514594\tbest: 22708.8514594 (770)\ttotal: 52.5s\tremaining: 40.5s\n",
      "771:\tlearn: 21166.0816449\ttest: 22709.6194447\tbest: 22708.8514594 (770)\ttotal: 52.5s\tremaining: 40.4s\n",
      "772:\tlearn: 21165.5172085\ttest: 22709.4150225\tbest: 22708.8514594 (770)\ttotal: 52.5s\tremaining: 40.3s\n",
      "773:\tlearn: 21164.5513264\ttest: 22708.4930707\tbest: 22708.4930707 (773)\ttotal: 52.6s\tremaining: 40.2s\n",
      "774:\tlearn: 21164.1684349\ttest: 22708.4086719\tbest: 22708.4086719 (774)\ttotal: 52.6s\tremaining: 40.1s\n",
      "775:\tlearn: 21156.7241371\ttest: 22705.0827228\tbest: 22705.0827228 (775)\ttotal: 52.7s\tremaining: 40s\n",
      "776:\tlearn: 21153.9373468\ttest: 22704.9153888\tbest: 22704.9153888 (776)\ttotal: 52.7s\tremaining: 40s\n",
      "777:\tlearn: 21152.7712923\ttest: 22705.4702110\tbest: 22704.9153888 (776)\ttotal: 52.8s\tremaining: 39.9s\n",
      "778:\tlearn: 21142.3082621\ttest: 22707.4058393\tbest: 22704.9153888 (776)\ttotal: 52.8s\tremaining: 39.8s\n",
      "779:\tlearn: 21141.4350992\ttest: 22706.7236244\tbest: 22704.9153888 (776)\ttotal: 52.9s\tremaining: 39.7s\n",
      "780:\tlearn: 21140.1624859\ttest: 22705.7708948\tbest: 22704.9153888 (776)\ttotal: 52.9s\tremaining: 39.6s\n",
      "781:\tlearn: 21137.8683943\ttest: 22704.4983343\tbest: 22704.4983343 (781)\ttotal: 53s\tremaining: 39.5s\n",
      "782:\tlearn: 21134.2797764\ttest: 22703.8583181\tbest: 22703.8583181 (782)\ttotal: 53s\tremaining: 39.5s\n",
      "783:\tlearn: 21133.4909878\ttest: 22704.5488896\tbest: 22703.8583181 (782)\ttotal: 53s\tremaining: 39.4s\n",
      "784:\tlearn: 21124.1297138\ttest: 22699.3990759\tbest: 22699.3990759 (784)\ttotal: 53.1s\tremaining: 39.3s\n",
      "785:\tlearn: 21122.6380276\ttest: 22699.5812203\tbest: 22699.3990759 (784)\ttotal: 53.2s\tremaining: 39.2s\n",
      "786:\tlearn: 21111.2460715\ttest: 22693.4837926\tbest: 22693.4837926 (786)\ttotal: 53.3s\tremaining: 39.2s\n",
      "787:\tlearn: 21110.2029023\ttest: 22694.3326987\tbest: 22693.4837926 (786)\ttotal: 53.3s\tremaining: 39.1s\n",
      "788:\tlearn: 21108.1654758\ttest: 22694.3567442\tbest: 22693.4837926 (786)\ttotal: 53.4s\tremaining: 39s\n",
      "789:\tlearn: 21106.8507938\ttest: 22694.5861766\tbest: 22693.4837926 (786)\ttotal: 53.4s\tremaining: 38.9s\n",
      "790:\tlearn: 21106.2164510\ttest: 22694.0805961\tbest: 22693.4837926 (786)\ttotal: 53.4s\tremaining: 38.9s\n",
      "791:\tlearn: 21105.6552218\ttest: 22693.8248189\tbest: 22693.4837926 (786)\ttotal: 53.5s\tremaining: 38.8s\n",
      "792:\tlearn: 21105.2967225\ttest: 22694.2172982\tbest: 22693.4837926 (786)\ttotal: 53.5s\tremaining: 38.7s\n",
      "793:\tlearn: 21098.1493227\ttest: 22691.9064224\tbest: 22691.9064224 (793)\ttotal: 53.6s\tremaining: 38.6s\n",
      "794:\tlearn: 21093.2333133\ttest: 22693.1940063\tbest: 22691.9064224 (793)\ttotal: 53.6s\tremaining: 38.5s\n",
      "795:\tlearn: 21088.5332863\ttest: 22693.3610777\tbest: 22691.9064224 (793)\ttotal: 53.7s\tremaining: 38.4s\n",
      "796:\tlearn: 21087.8801740\ttest: 22693.8996249\tbest: 22691.9064224 (793)\ttotal: 53.7s\tremaining: 38.4s\n",
      "797:\tlearn: 21080.4396069\ttest: 22690.1061373\tbest: 22690.1061373 (797)\ttotal: 53.8s\tremaining: 38.3s\n",
      "798:\tlearn: 21078.6988822\ttest: 22690.8574133\tbest: 22690.1061373 (797)\ttotal: 53.8s\tremaining: 38.2s\n",
      "799:\tlearn: 21076.1230552\ttest: 22689.5862100\tbest: 22689.5862100 (799)\ttotal: 53.9s\tremaining: 38.1s\n",
      "800:\tlearn: 21075.6649277\ttest: 22689.8485143\tbest: 22689.5862100 (799)\ttotal: 53.9s\tremaining: 38s\n",
      "801:\tlearn: 21073.0592791\ttest: 22688.8375139\tbest: 22688.8375139 (801)\ttotal: 53.9s\tremaining: 37.9s\n",
      "802:\tlearn: 21072.6573833\ttest: 22688.7227581\tbest: 22688.7227581 (802)\ttotal: 54s\tremaining: 37.8s\n",
      "803:\tlearn: 21072.2112004\ttest: 22688.5362919\tbest: 22688.5362919 (803)\ttotal: 54s\tremaining: 37.7s\n",
      "804:\tlearn: 21071.6049823\ttest: 22688.7157891\tbest: 22688.5362919 (803)\ttotal: 54s\tremaining: 37.7s\n",
      "805:\tlearn: 21070.6045608\ttest: 22687.9470924\tbest: 22687.9470924 (805)\ttotal: 54.1s\tremaining: 37.6s\n",
      "806:\tlearn: 21068.9203070\ttest: 22688.7705057\tbest: 22687.9470924 (805)\ttotal: 54.1s\tremaining: 37.5s\n",
      "807:\tlearn: 21067.4680201\ttest: 22688.0985463\tbest: 22687.9470924 (805)\ttotal: 54.1s\tremaining: 37.4s\n",
      "808:\tlearn: 21067.0954341\ttest: 22688.2246148\tbest: 22687.9470924 (805)\ttotal: 54.2s\tremaining: 37.3s\n",
      "809:\tlearn: 21066.6374786\ttest: 22687.8751791\tbest: 22687.8751791 (809)\ttotal: 54.2s\tremaining: 37.2s\n",
      "810:\tlearn: 21064.4420319\ttest: 22686.9980168\tbest: 22686.9980168 (810)\ttotal: 54.2s\tremaining: 37.1s\n",
      "811:\tlearn: 21060.7046365\ttest: 22687.2751247\tbest: 22686.9980168 (810)\ttotal: 54.3s\tremaining: 37s\n",
      "812:\tlearn: 21048.2712226\ttest: 22680.3447665\tbest: 22680.3447665 (812)\ttotal: 54.4s\tremaining: 37s\n",
      "813:\tlearn: 21047.9190333\ttest: 22680.1913237\tbest: 22680.1913237 (813)\ttotal: 54.4s\tremaining: 36.9s\n",
      "814:\tlearn: 21040.2371680\ttest: 22675.8939218\tbest: 22675.8939218 (814)\ttotal: 54.5s\tremaining: 36.8s\n",
      "815:\tlearn: 21037.8272988\ttest: 22676.5419532\tbest: 22675.8939218 (814)\ttotal: 54.5s\tremaining: 36.7s\n",
      "816:\tlearn: 21037.4250072\ttest: 22676.4123775\tbest: 22675.8939218 (814)\ttotal: 54.5s\tremaining: 36.6s\n",
      "817:\tlearn: 21034.3067163\ttest: 22675.1121621\tbest: 22675.1121621 (817)\ttotal: 54.6s\tremaining: 36.6s\n",
      "818:\tlearn: 21032.5008482\ttest: 22674.9012741\tbest: 22674.9012741 (818)\ttotal: 54.6s\tremaining: 36.5s\n",
      "819:\tlearn: 21031.7660653\ttest: 22675.6766918\tbest: 22674.9012741 (818)\ttotal: 54.7s\tremaining: 36.4s\n",
      "820:\tlearn: 21028.5159553\ttest: 22676.6332409\tbest: 22674.9012741 (818)\ttotal: 54.7s\tremaining: 36.3s\n",
      "821:\tlearn: 21026.3575810\ttest: 22676.8510280\tbest: 22674.9012741 (818)\ttotal: 54.7s\tremaining: 36.2s\n",
      "822:\tlearn: 21023.8567916\ttest: 22678.7511342\tbest: 22674.9012741 (818)\ttotal: 54.8s\tremaining: 36.1s\n",
      "823:\tlearn: 21022.5699933\ttest: 22678.6311730\tbest: 22674.9012741 (818)\ttotal: 54.8s\tremaining: 36.1s\n",
      "824:\tlearn: 21020.1824418\ttest: 22677.2078384\tbest: 22674.9012741 (818)\ttotal: 54.9s\tremaining: 36s\n",
      "825:\tlearn: 21018.0824671\ttest: 22677.6950484\tbest: 22674.9012741 (818)\ttotal: 54.9s\tremaining: 35.9s\n",
      "826:\tlearn: 21015.8078220\ttest: 22675.9560513\tbest: 22674.9012741 (818)\ttotal: 54.9s\tremaining: 35.8s\n",
      "827:\tlearn: 21015.5737289\ttest: 22676.0895030\tbest: 22674.9012741 (818)\ttotal: 55s\tremaining: 35.7s\n",
      "828:\tlearn: 21015.2720783\ttest: 22675.9026857\tbest: 22674.9012741 (818)\ttotal: 55s\tremaining: 35.6s\n",
      "829:\tlearn: 21013.2774411\ttest: 22676.0662150\tbest: 22674.9012741 (818)\ttotal: 55s\tremaining: 35.5s\n",
      "830:\tlearn: 21010.5777581\ttest: 22676.3188192\tbest: 22674.9012741 (818)\ttotal: 55.1s\tremaining: 35.5s\n",
      "831:\tlearn: 21009.8138659\ttest: 22675.8281541\tbest: 22674.9012741 (818)\ttotal: 55.1s\tremaining: 35.4s\n",
      "832:\tlearn: 21009.0969487\ttest: 22675.6881987\tbest: 22674.9012741 (818)\ttotal: 55.1s\tremaining: 35.3s\n",
      "833:\tlearn: 21006.5955663\ttest: 22676.2932427\tbest: 22674.9012741 (818)\ttotal: 55.2s\tremaining: 35.2s\n",
      "834:\tlearn: 21003.6798081\ttest: 22675.9526791\tbest: 22674.9012741 (818)\ttotal: 55.2s\tremaining: 35.1s\n",
      "835:\tlearn: 21002.9971243\ttest: 22675.8402756\tbest: 22674.9012741 (818)\ttotal: 55.3s\tremaining: 35s\n",
      "836:\tlearn: 21002.3262934\ttest: 22676.2767092\tbest: 22674.9012741 (818)\ttotal: 55.3s\tremaining: 34.9s\n",
      "837:\tlearn: 21001.8635876\ttest: 22675.9354582\tbest: 22674.9012741 (818)\ttotal: 55.3s\tremaining: 34.9s\n",
      "838:\tlearn: 21001.5032562\ttest: 22676.4621714\tbest: 22674.9012741 (818)\ttotal: 55.3s\tremaining: 34.8s\n",
      "839:\tlearn: 20998.5963821\ttest: 22676.8630701\tbest: 22674.9012741 (818)\ttotal: 55.4s\tremaining: 34.7s\n",
      "840:\tlearn: 20993.0044781\ttest: 22678.0812238\tbest: 22674.9012741 (818)\ttotal: 55.5s\tremaining: 34.7s\n",
      "841:\tlearn: 20992.2636752\ttest: 22676.9030956\tbest: 22674.9012741 (818)\ttotal: 55.6s\tremaining: 34.6s\n",
      "842:\tlearn: 20991.7294874\ttest: 22677.2221478\tbest: 22674.9012741 (818)\ttotal: 55.6s\tremaining: 34.5s\n",
      "843:\tlearn: 20991.1940273\ttest: 22677.0563072\tbest: 22674.9012741 (818)\ttotal: 55.7s\tremaining: 34.4s\n",
      "844:\tlearn: 20990.6465671\ttest: 22677.3311961\tbest: 22674.9012741 (818)\ttotal: 55.7s\tremaining: 34.3s\n",
      "845:\tlearn: 20987.6900683\ttest: 22676.9451147\tbest: 22674.9012741 (818)\ttotal: 55.7s\tremaining: 34.3s\n",
      "846:\tlearn: 20984.3911338\ttest: 22675.9507657\tbest: 22674.9012741 (818)\ttotal: 55.8s\tremaining: 34.2s\n",
      "847:\tlearn: 20983.3357696\ttest: 22676.2619270\tbest: 22674.9012741 (818)\ttotal: 55.8s\tremaining: 34.1s\n",
      "848:\tlearn: 20980.4969870\ttest: 22674.7500872\tbest: 22674.7500872 (848)\ttotal: 55.9s\tremaining: 34s\n",
      "849:\tlearn: 20979.6016289\ttest: 22674.5924904\tbest: 22674.5924904 (849)\ttotal: 55.9s\tremaining: 33.9s\n",
      "850:\tlearn: 20966.8600771\ttest: 22666.0252492\tbest: 22666.0252492 (850)\ttotal: 56s\tremaining: 33.9s\n",
      "851:\tlearn: 20966.1757383\ttest: 22665.6195211\tbest: 22665.6195211 (851)\ttotal: 56s\tremaining: 33.8s\n",
      "852:\tlearn: 20964.3743679\ttest: 22666.1317202\tbest: 22665.6195211 (851)\ttotal: 56s\tremaining: 33.7s\n",
      "853:\tlearn: 20964.0674580\ttest: 22666.1442725\tbest: 22665.6195211 (851)\ttotal: 56.1s\tremaining: 33.6s\n",
      "854:\tlearn: 20963.3864143\ttest: 22666.4471703\tbest: 22665.6195211 (851)\ttotal: 56.1s\tremaining: 33.5s\n",
      "855:\tlearn: 20962.8532106\ttest: 22666.3906869\tbest: 22665.6195211 (851)\ttotal: 56.1s\tremaining: 33.4s\n",
      "856:\tlearn: 20962.6112949\ttest: 22666.2094546\tbest: 22665.6195211 (851)\ttotal: 56.2s\tremaining: 33.4s\n",
      "857:\tlearn: 20952.9035774\ttest: 22667.2334456\tbest: 22665.6195211 (851)\ttotal: 56.3s\tremaining: 33.3s\n",
      "858:\tlearn: 20951.7496978\ttest: 22667.2906808\tbest: 22665.6195211 (851)\ttotal: 56.3s\tremaining: 33.2s\n",
      "859:\tlearn: 20947.5140198\ttest: 22666.8315844\tbest: 22665.6195211 (851)\ttotal: 56.4s\tremaining: 33.2s\n",
      "860:\tlearn: 20946.0341577\ttest: 22666.0631492\tbest: 22665.6195211 (851)\ttotal: 56.4s\tremaining: 33.1s\n",
      "861:\tlearn: 20945.7471006\ttest: 22665.9194247\tbest: 22665.6195211 (851)\ttotal: 56.4s\tremaining: 33s\n",
      "862:\tlearn: 20942.9570185\ttest: 22664.4232748\tbest: 22664.4232748 (862)\ttotal: 56.5s\tremaining: 32.9s\n",
      "863:\tlearn: 20942.3940285\ttest: 22663.8506653\tbest: 22663.8506653 (863)\ttotal: 56.5s\tremaining: 32.8s\n",
      "864:\tlearn: 20940.5312965\ttest: 22663.9248293\tbest: 22663.8506653 (863)\ttotal: 56.6s\tremaining: 32.8s\n",
      "865:\tlearn: 20937.4396073\ttest: 22662.3850475\tbest: 22662.3850475 (865)\ttotal: 56.6s\tremaining: 32.7s\n",
      "866:\tlearn: 20934.6434582\ttest: 22663.0422510\tbest: 22662.3850475 (865)\ttotal: 56.7s\tremaining: 32.6s\n",
      "867:\tlearn: 20933.4917106\ttest: 22663.6466980\tbest: 22662.3850475 (865)\ttotal: 56.7s\tremaining: 32.5s\n",
      "868:\tlearn: 20931.2545248\ttest: 22664.9263824\tbest: 22662.3850475 (865)\ttotal: 56.8s\tremaining: 32.5s\n",
      "869:\tlearn: 20921.0629784\ttest: 22656.1790235\tbest: 22656.1790235 (869)\ttotal: 56.8s\tremaining: 32.4s\n",
      "870:\tlearn: 20920.7118874\ttest: 22656.5631318\tbest: 22656.1790235 (869)\ttotal: 56.8s\tremaining: 32.3s\n",
      "871:\tlearn: 20918.0260335\ttest: 22657.0689814\tbest: 22656.1790235 (869)\ttotal: 56.9s\tremaining: 32.2s\n",
      "872:\tlearn: 20915.9901469\ttest: 22656.8760236\tbest: 22656.1790235 (869)\ttotal: 56.9s\tremaining: 32.2s\n",
      "873:\tlearn: 20915.4340784\ttest: 22657.1360878\tbest: 22656.1790235 (869)\ttotal: 57s\tremaining: 32.1s\n",
      "874:\tlearn: 20915.0833230\ttest: 22656.9093261\tbest: 22656.1790235 (869)\ttotal: 57s\tremaining: 32s\n",
      "875:\tlearn: 20911.8959320\ttest: 22656.2942297\tbest: 22656.1790235 (869)\ttotal: 57s\tremaining: 31.9s\n",
      "876:\tlearn: 20911.3207490\ttest: 22656.0770137\tbest: 22656.0770137 (876)\ttotal: 57.1s\tremaining: 31.8s\n",
      "877:\tlearn: 20910.8127459\ttest: 22655.9652785\tbest: 22655.9652785 (877)\ttotal: 57.1s\tremaining: 31.7s\n",
      "878:\tlearn: 20905.0917244\ttest: 22654.6105240\tbest: 22654.6105240 (878)\ttotal: 57.2s\tremaining: 31.7s\n",
      "879:\tlearn: 20904.7834480\ttest: 22654.8408423\tbest: 22654.6105240 (878)\ttotal: 57.2s\tremaining: 31.6s\n",
      "880:\tlearn: 20903.8735873\ttest: 22655.0514056\tbest: 22654.6105240 (878)\ttotal: 57.2s\tremaining: 31.5s\n",
      "881:\tlearn: 20899.5356397\ttest: 22653.1617869\tbest: 22653.1617869 (881)\ttotal: 57.3s\tremaining: 31.4s\n",
      "882:\tlearn: 20896.1718310\ttest: 22653.2721717\tbest: 22653.1617869 (881)\ttotal: 57.3s\tremaining: 31.4s\n",
      "883:\tlearn: 20893.1867999\ttest: 22654.6410369\tbest: 22653.1617869 (881)\ttotal: 57.4s\tremaining: 31.3s\n",
      "884:\tlearn: 20888.0547808\ttest: 22653.4808940\tbest: 22653.1617869 (881)\ttotal: 57.4s\tremaining: 31.2s\n",
      "885:\tlearn: 20885.8324315\ttest: 22652.3443406\tbest: 22652.3443406 (885)\ttotal: 57.5s\tremaining: 31.2s\n",
      "886:\tlearn: 20884.3717365\ttest: 22651.5819709\tbest: 22651.5819709 (886)\ttotal: 57.5s\tremaining: 31.1s\n",
      "887:\tlearn: 20882.4245690\ttest: 22652.4271364\tbest: 22651.5819709 (886)\ttotal: 57.6s\tremaining: 31s\n",
      "888:\tlearn: 20881.0922031\ttest: 22651.7153948\tbest: 22651.5819709 (886)\ttotal: 57.6s\tremaining: 30.9s\n",
      "889:\tlearn: 20880.6985271\ttest: 22651.6413407\tbest: 22651.5819709 (886)\ttotal: 57.6s\tremaining: 30.8s\n",
      "890:\tlearn: 20879.7787248\ttest: 22651.8378784\tbest: 22651.5819709 (886)\ttotal: 57.7s\tremaining: 30.7s\n",
      "891:\tlearn: 20877.8159709\ttest: 22653.4579857\tbest: 22651.5819709 (886)\ttotal: 57.7s\tremaining: 30.7s\n",
      "892:\tlearn: 20876.9777082\ttest: 22653.5590699\tbest: 22651.5819709 (886)\ttotal: 57.8s\tremaining: 30.6s\n",
      "893:\tlearn: 20870.7014109\ttest: 22652.3443577\tbest: 22651.5819709 (886)\ttotal: 57.8s\tremaining: 30.5s\n",
      "894:\tlearn: 20865.0134323\ttest: 22652.0658008\tbest: 22651.5819709 (886)\ttotal: 57.9s\tremaining: 30.5s\n",
      "895:\tlearn: 20863.0776192\ttest: 22651.1450994\tbest: 22651.1450994 (895)\ttotal: 57.9s\tremaining: 30.4s\n",
      "896:\tlearn: 20861.8515444\ttest: 22650.6945716\tbest: 22650.6945716 (896)\ttotal: 58s\tremaining: 30.3s\n",
      "897:\tlearn: 20861.2909092\ttest: 22650.7370342\tbest: 22650.6945716 (896)\ttotal: 58s\tremaining: 30.2s\n",
      "898:\tlearn: 20849.8669902\ttest: 22649.2990373\tbest: 22649.2990373 (898)\ttotal: 58.1s\tremaining: 30.2s\n",
      "899:\tlearn: 20849.3597311\ttest: 22650.1154914\tbest: 22649.2990373 (898)\ttotal: 58.1s\tremaining: 30.1s\n",
      "900:\tlearn: 20848.7882194\ttest: 22649.9850052\tbest: 22649.2990373 (898)\ttotal: 58.2s\tremaining: 30s\n",
      "901:\tlearn: 20846.7044075\ttest: 22650.3413169\tbest: 22649.2990373 (898)\ttotal: 58.2s\tremaining: 29.9s\n",
      "902:\tlearn: 20846.1817805\ttest: 22650.4680116\tbest: 22649.2990373 (898)\ttotal: 58.2s\tremaining: 29.9s\n",
      "903:\tlearn: 20842.9263294\ttest: 22649.8847523\tbest: 22649.2990373 (898)\ttotal: 58.3s\tremaining: 29.8s\n",
      "904:\tlearn: 20839.0578085\ttest: 22648.6191460\tbest: 22648.6191460 (904)\ttotal: 58.4s\tremaining: 29.7s\n",
      "905:\tlearn: 20837.2021447\ttest: 22650.1308228\tbest: 22648.6191460 (904)\ttotal: 58.4s\tremaining: 29.6s\n",
      "906:\tlearn: 20834.4018153\ttest: 22650.1653976\tbest: 22648.6191460 (904)\ttotal: 58.4s\tremaining: 29.6s\n",
      "907:\tlearn: 20825.4855822\ttest: 22647.5391089\tbest: 22647.5391089 (907)\ttotal: 58.5s\tremaining: 29.5s\n",
      "908:\tlearn: 20816.5708996\ttest: 22643.6053881\tbest: 22643.6053881 (908)\ttotal: 58.6s\tremaining: 29.5s\n",
      "909:\tlearn: 20815.4187694\ttest: 22644.1065732\tbest: 22643.6053881 (908)\ttotal: 58.6s\tremaining: 29.4s\n",
      "910:\tlearn: 20812.7239861\ttest: 22644.4139896\tbest: 22643.6053881 (908)\ttotal: 58.7s\tremaining: 29.3s\n",
      "911:\tlearn: 20812.2093016\ttest: 22644.3564944\tbest: 22643.6053881 (908)\ttotal: 58.7s\tremaining: 29.2s\n",
      "912:\tlearn: 20807.8190137\ttest: 22642.7530307\tbest: 22642.7530307 (912)\ttotal: 58.7s\tremaining: 29.1s\n",
      "913:\tlearn: 20806.0142311\ttest: 22643.7231120\tbest: 22642.7530307 (912)\ttotal: 58.8s\tremaining: 29.1s\n",
      "914:\tlearn: 20805.7968614\ttest: 22643.5089102\tbest: 22642.7530307 (912)\ttotal: 58.8s\tremaining: 29s\n",
      "915:\tlearn: 20797.9858584\ttest: 22639.2857424\tbest: 22639.2857424 (915)\ttotal: 58.9s\tremaining: 28.9s\n",
      "916:\tlearn: 20796.6003130\ttest: 22640.3442720\tbest: 22639.2857424 (915)\ttotal: 58.9s\tremaining: 28.8s\n",
      "917:\tlearn: 20793.1891442\ttest: 22639.7095402\tbest: 22639.2857424 (915)\ttotal: 59s\tremaining: 28.8s\n",
      "918:\tlearn: 20792.4130129\ttest: 22639.5430967\tbest: 22639.2857424 (915)\ttotal: 59s\tremaining: 28.7s\n",
      "919:\tlearn: 20790.1479217\ttest: 22640.0562368\tbest: 22639.2857424 (915)\ttotal: 59s\tremaining: 28.6s\n",
      "920:\tlearn: 20788.8670361\ttest: 22639.0419136\tbest: 22639.0419136 (920)\ttotal: 59.1s\tremaining: 28.5s\n",
      "921:\tlearn: 20788.0627095\ttest: 22638.3369320\tbest: 22638.3369320 (921)\ttotal: 59.1s\tremaining: 28.5s\n",
      "922:\tlearn: 20787.3898501\ttest: 22638.6997140\tbest: 22638.3369320 (921)\ttotal: 59.1s\tremaining: 28.4s\n",
      "923:\tlearn: 20786.2782472\ttest: 22639.0379595\tbest: 22638.3369320 (921)\ttotal: 59.2s\tremaining: 28.3s\n",
      "924:\tlearn: 20777.5632459\ttest: 22636.3322305\tbest: 22636.3322305 (924)\ttotal: 59.2s\tremaining: 28.2s\n",
      "925:\tlearn: 20769.7807922\ttest: 22631.9531730\tbest: 22631.9531730 (925)\ttotal: 59.3s\tremaining: 28.2s\n",
      "926:\tlearn: 20764.8859249\ttest: 22631.0118900\tbest: 22631.0118900 (926)\ttotal: 59.4s\tremaining: 28.1s\n",
      "927:\tlearn: 20764.6408196\ttest: 22630.9721844\tbest: 22630.9721844 (927)\ttotal: 59.5s\tremaining: 28.1s\n",
      "928:\tlearn: 20764.0534614\ttest: 22631.2424258\tbest: 22630.9721844 (927)\ttotal: 59.5s\tremaining: 28s\n",
      "929:\tlearn: 20763.7157324\ttest: 22631.7393354\tbest: 22630.9721844 (927)\ttotal: 59.5s\tremaining: 27.9s\n",
      "930:\tlearn: 20762.1588396\ttest: 22632.7428785\tbest: 22630.9721844 (927)\ttotal: 59.6s\tremaining: 27.8s\n",
      "931:\tlearn: 20760.6851385\ttest: 22633.6785905\tbest: 22630.9721844 (927)\ttotal: 59.6s\tremaining: 27.8s\n",
      "932:\tlearn: 20760.3588449\ttest: 22633.6288736\tbest: 22630.9721844 (927)\ttotal: 59.6s\tremaining: 27.7s\n",
      "933:\tlearn: 20760.0732248\ttest: 22634.0211904\tbest: 22630.9721844 (927)\ttotal: 59.7s\tremaining: 27.6s\n",
      "934:\tlearn: 20758.4791065\ttest: 22633.3508643\tbest: 22630.9721844 (927)\ttotal: 59.7s\tremaining: 27.5s\n",
      "935:\tlearn: 20758.2320997\ttest: 22633.4968382\tbest: 22630.9721844 (927)\ttotal: 59.7s\tremaining: 27.4s\n",
      "936:\tlearn: 20756.0617229\ttest: 22632.7124591\tbest: 22630.9721844 (927)\ttotal: 59.8s\tremaining: 27.4s\n",
      "937:\tlearn: 20755.3912862\ttest: 22633.7179927\tbest: 22630.9721844 (927)\ttotal: 59.8s\tremaining: 27.3s\n",
      "938:\tlearn: 20747.5138365\ttest: 22632.5899408\tbest: 22630.9721844 (927)\ttotal: 59.9s\tremaining: 27.2s\n",
      "939:\tlearn: 20746.6384232\ttest: 22633.1202690\tbest: 22630.9721844 (927)\ttotal: 59.9s\tremaining: 27.2s\n",
      "940:\tlearn: 20744.5642756\ttest: 22631.0205509\tbest: 22630.9721844 (927)\ttotal: 1m\tremaining: 27.1s\n",
      "941:\tlearn: 20744.1233425\ttest: 22630.9578348\tbest: 22630.9578348 (941)\ttotal: 1m\tremaining: 27s\n",
      "942:\tlearn: 20743.8985146\ttest: 22630.6827071\tbest: 22630.6827071 (942)\ttotal: 1m\tremaining: 26.9s\n",
      "943:\tlearn: 20743.3238582\ttest: 22630.6382477\tbest: 22630.6382477 (943)\ttotal: 1m\tremaining: 26.9s\n",
      "944:\tlearn: 20742.9662622\ttest: 22630.5138101\tbest: 22630.5138101 (944)\ttotal: 1m\tremaining: 26.8s\n",
      "945:\tlearn: 20738.9759051\ttest: 22631.0457616\tbest: 22630.5138101 (944)\ttotal: 1m\tremaining: 26.7s\n",
      "946:\tlearn: 20737.7711644\ttest: 22630.5741025\tbest: 22630.5138101 (944)\ttotal: 1m\tremaining: 26.7s\n",
      "947:\tlearn: 20730.4432562\ttest: 22629.3984895\tbest: 22629.3984895 (947)\ttotal: 1m\tremaining: 26.6s\n",
      "948:\tlearn: 20723.1149038\ttest: 22631.0772789\tbest: 22629.3984895 (947)\ttotal: 1m\tremaining: 26.5s\n",
      "949:\tlearn: 20721.9818567\ttest: 22630.8660468\tbest: 22629.3984895 (947)\ttotal: 1m\tremaining: 26.5s\n",
      "950:\tlearn: 20721.2364996\ttest: 22631.3001459\tbest: 22629.3984895 (947)\ttotal: 1m\tremaining: 26.4s\n",
      "951:\tlearn: 20720.9227833\ttest: 22631.1787532\tbest: 22629.3984895 (947)\ttotal: 1m\tremaining: 26.3s\n",
      "952:\tlearn: 20720.4497764\ttest: 22631.0368242\tbest: 22629.3984895 (947)\ttotal: 1m\tremaining: 26.2s\n",
      "953:\tlearn: 20719.7704581\ttest: 22630.9138594\tbest: 22629.3984895 (947)\ttotal: 1m\tremaining: 26.1s\n",
      "954:\tlearn: 20711.6253724\ttest: 22628.6753379\tbest: 22628.6753379 (954)\ttotal: 1m\tremaining: 26.1s\n",
      "955:\tlearn: 20707.9622985\ttest: 22629.5787727\tbest: 22628.6753379 (954)\ttotal: 1m\tremaining: 26s\n",
      "956:\tlearn: 20707.4281333\ttest: 22629.7477939\tbest: 22628.6753379 (954)\ttotal: 1m\tremaining: 26s\n",
      "957:\tlearn: 20706.0434976\ttest: 22630.1379417\tbest: 22628.6753379 (954)\ttotal: 1m\tremaining: 25.9s\n",
      "958:\tlearn: 20702.4072338\ttest: 22628.5257775\tbest: 22628.5257775 (958)\ttotal: 1m\tremaining: 25.8s\n",
      "959:\tlearn: 20694.4742785\ttest: 22630.3487769\tbest: 22628.5257775 (958)\ttotal: 1m\tremaining: 25.8s\n",
      "960:\tlearn: 20694.0621189\ttest: 22630.7627182\tbest: 22628.5257775 (958)\ttotal: 1m\tremaining: 25.7s\n",
      "961:\tlearn: 20688.6545243\ttest: 22632.7316922\tbest: 22628.5257775 (958)\ttotal: 1m 1s\tremaining: 25.6s\n",
      "962:\tlearn: 20688.4421753\ttest: 22632.5778548\tbest: 22628.5257775 (958)\ttotal: 1m 1s\tremaining: 25.5s\n",
      "963:\tlearn: 20684.6582776\ttest: 22631.8826131\tbest: 22628.5257775 (958)\ttotal: 1m 1s\tremaining: 25.5s\n",
      "964:\tlearn: 20680.9673883\ttest: 22629.3126426\tbest: 22628.5257775 (958)\ttotal: 1m 1s\tremaining: 25.4s\n",
      "965:\tlearn: 20680.5910907\ttest: 22629.3949081\tbest: 22628.5257775 (958)\ttotal: 1m 1s\tremaining: 25.3s\n",
      "966:\tlearn: 20679.5668179\ttest: 22628.9568972\tbest: 22628.5257775 (958)\ttotal: 1m 1s\tremaining: 25.3s\n",
      "967:\tlearn: 20676.6566970\ttest: 22629.6748532\tbest: 22628.5257775 (958)\ttotal: 1m 1s\tremaining: 25.2s\n",
      "968:\tlearn: 20671.6838608\ttest: 22628.9825209\tbest: 22628.5257775 (958)\ttotal: 1m 1s\tremaining: 25.1s\n",
      "969:\tlearn: 20669.2094172\ttest: 22629.9050165\tbest: 22628.5257775 (958)\ttotal: 1m 1s\tremaining: 25.1s\n",
      "970:\tlearn: 20668.5614659\ttest: 22630.2351459\tbest: 22628.5257775 (958)\ttotal: 1m 1s\tremaining: 25s\n",
      "971:\tlearn: 20666.2794049\ttest: 22628.2899977\tbest: 22628.2899977 (971)\ttotal: 1m 1s\tremaining: 24.9s\n",
      "972:\tlearn: 20664.2858512\ttest: 22628.2588544\tbest: 22628.2588544 (972)\ttotal: 1m 1s\tremaining: 24.8s\n",
      "973:\tlearn: 20663.1717530\ttest: 22628.0748248\tbest: 22628.0748248 (973)\ttotal: 1m 1s\tremaining: 24.8s\n",
      "974:\tlearn: 20662.7461108\ttest: 22627.5052598\tbest: 22627.5052598 (974)\ttotal: 1m 1s\tremaining: 24.7s\n",
      "975:\tlearn: 20662.1332057\ttest: 22627.7245527\tbest: 22627.5052598 (974)\ttotal: 1m 1s\tremaining: 24.6s\n",
      "976:\tlearn: 20659.5646478\ttest: 22628.8974508\tbest: 22627.5052598 (974)\ttotal: 1m 1s\tremaining: 24.6s\n",
      "977:\tlearn: 20659.2873582\ttest: 22628.9468351\tbest: 22627.5052598 (974)\ttotal: 1m 1s\tremaining: 24.5s\n",
      "978:\tlearn: 20659.0407982\ttest: 22628.7555766\tbest: 22627.5052598 (974)\ttotal: 1m 1s\tremaining: 24.4s\n",
      "979:\tlearn: 20656.0655648\ttest: 22627.9690995\tbest: 22627.5052598 (974)\ttotal: 1m 1s\tremaining: 24.3s\n",
      "980:\tlearn: 20653.7837612\ttest: 22627.1543979\tbest: 22627.1543979 (980)\ttotal: 1m 1s\tremaining: 24.3s\n",
      "981:\tlearn: 20652.2402605\ttest: 22627.0242993\tbest: 22627.0242993 (981)\ttotal: 1m 1s\tremaining: 24.2s\n",
      "982:\tlearn: 20651.7625126\ttest: 22626.4605248\tbest: 22626.4605248 (982)\ttotal: 1m 1s\tremaining: 24.1s\n",
      "983:\tlearn: 20649.9628400\ttest: 22626.8202918\tbest: 22626.4605248 (982)\ttotal: 1m 1s\tremaining: 24.1s\n",
      "984:\tlearn: 20648.9502973\ttest: 22627.8320114\tbest: 22626.4605248 (982)\ttotal: 1m 1s\tremaining: 24s\n",
      "985:\tlearn: 20641.8405014\ttest: 22628.3630307\tbest: 22626.4605248 (982)\ttotal: 1m 2s\tremaining: 23.9s\n",
      "986:\tlearn: 20640.4744990\ttest: 22628.3321646\tbest: 22626.4605248 (982)\ttotal: 1m 2s\tremaining: 23.9s\n",
      "987:\tlearn: 20640.2629128\ttest: 22628.1658373\tbest: 22626.4605248 (982)\ttotal: 1m 2s\tremaining: 23.8s\n",
      "988:\tlearn: 20637.6755795\ttest: 22625.6332251\tbest: 22625.6332251 (988)\ttotal: 1m 2s\tremaining: 23.7s\n",
      "989:\tlearn: 20634.7686332\ttest: 22625.3343334\tbest: 22625.3343334 (989)\ttotal: 1m 2s\tremaining: 23.6s\n",
      "990:\tlearn: 20634.4838382\ttest: 22625.2648815\tbest: 22625.2648815 (990)\ttotal: 1m 2s\tremaining: 23.6s\n",
      "991:\tlearn: 20630.7231473\ttest: 22625.1849437\tbest: 22625.1849437 (991)\ttotal: 1m 2s\tremaining: 23.5s\n",
      "992:\tlearn: 20630.4504167\ttest: 22625.1036664\tbest: 22625.1036664 (992)\ttotal: 1m 2s\tremaining: 23.4s\n",
      "993:\tlearn: 20630.1873776\ttest: 22624.8039270\tbest: 22624.8039270 (993)\ttotal: 1m 2s\tremaining: 23.4s\n",
      "994:\tlearn: 20626.1106520\ttest: 22624.6894537\tbest: 22624.6894537 (994)\ttotal: 1m 2s\tremaining: 23.3s\n",
      "995:\tlearn: 20625.3517827\ttest: 22624.6704797\tbest: 22624.6704797 (995)\ttotal: 1m 2s\tremaining: 23.2s\n",
      "996:\tlearn: 20622.3253366\ttest: 22624.2755840\tbest: 22624.2755840 (996)\ttotal: 1m 2s\tremaining: 23.1s\n",
      "997:\tlearn: 20613.4683823\ttest: 22625.2032421\tbest: 22624.2755840 (996)\ttotal: 1m 2s\tremaining: 23.1s\n",
      "998:\tlearn: 20607.9526981\ttest: 22624.8526095\tbest: 22624.2755840 (996)\ttotal: 1m 2s\tremaining: 23s\n",
      "999:\tlearn: 20607.6966280\ttest: 22624.7276260\tbest: 22624.2755840 (996)\ttotal: 1m 2s\tremaining: 23s\n",
      "1000:\tlearn: 20604.8096691\ttest: 22624.6179793\tbest: 22624.2755840 (996)\ttotal: 1m 2s\tremaining: 22.9s\n",
      "1001:\tlearn: 20604.0954290\ttest: 22625.8665092\tbest: 22624.2755840 (996)\ttotal: 1m 2s\tremaining: 22.8s\n",
      "1002:\tlearn: 20603.3295285\ttest: 22625.3632171\tbest: 22624.2755840 (996)\ttotal: 1m 2s\tremaining: 22.7s\n",
      "1003:\tlearn: 20602.1752209\ttest: 22624.8277247\tbest: 22624.2755840 (996)\ttotal: 1m 2s\tremaining: 22.7s\n",
      "1004:\tlearn: 20598.1861411\ttest: 22625.6010369\tbest: 22624.2755840 (996)\ttotal: 1m 2s\tremaining: 22.6s\n",
      "1005:\tlearn: 20594.6853361\ttest: 22624.9173218\tbest: 22624.2755840 (996)\ttotal: 1m 2s\tremaining: 22.5s\n",
      "1006:\tlearn: 20594.3199705\ttest: 22624.5043003\tbest: 22624.2755840 (996)\ttotal: 1m 2s\tremaining: 22.5s\n",
      "1007:\tlearn: 20587.7633762\ttest: 22625.2275740\tbest: 22624.2755840 (996)\ttotal: 1m 3s\tremaining: 22.4s\n",
      "1008:\tlearn: 20585.5711628\ttest: 22625.9392500\tbest: 22624.2755840 (996)\ttotal: 1m 3s\tremaining: 22.3s\n",
      "1009:\tlearn: 20585.3246915\ttest: 22625.7793829\tbest: 22624.2755840 (996)\ttotal: 1m 3s\tremaining: 22.3s\n",
      "1010:\tlearn: 20584.9613080\ttest: 22626.4432258\tbest: 22624.2755840 (996)\ttotal: 1m 3s\tremaining: 22.2s\n",
      "1011:\tlearn: 20583.0523065\ttest: 22626.5344732\tbest: 22624.2755840 (996)\ttotal: 1m 3s\tremaining: 22.1s\n",
      "1012:\tlearn: 20582.7408978\ttest: 22626.7676962\tbest: 22624.2755840 (996)\ttotal: 1m 3s\tremaining: 22s\n",
      "1013:\tlearn: 20582.3894104\ttest: 22626.8216764\tbest: 22624.2755840 (996)\ttotal: 1m 3s\tremaining: 22s\n",
      "1014:\tlearn: 20580.6187490\ttest: 22627.8375945\tbest: 22624.2755840 (996)\ttotal: 1m 3s\tremaining: 21.9s\n",
      "1015:\tlearn: 20578.8083571\ttest: 22627.0583770\tbest: 22624.2755840 (996)\ttotal: 1m 3s\tremaining: 21.8s\n",
      "1016:\tlearn: 20577.4278657\ttest: 22627.4047226\tbest: 22624.2755840 (996)\ttotal: 1m 3s\tremaining: 21.8s\n",
      "1017:\tlearn: 20573.9378159\ttest: 22629.6981620\tbest: 22624.2755840 (996)\ttotal: 1m 3s\tremaining: 21.7s\n",
      "1018:\tlearn: 20572.8920965\ttest: 22630.4772409\tbest: 22624.2755840 (996)\ttotal: 1m 3s\tremaining: 21.6s\n",
      "1019:\tlearn: 20571.6663254\ttest: 22630.5065140\tbest: 22624.2755840 (996)\ttotal: 1m 3s\tremaining: 21.6s\n",
      "1020:\tlearn: 20571.1395603\ttest: 22630.3820744\tbest: 22624.2755840 (996)\ttotal: 1m 3s\tremaining: 21.5s\n",
      "1021:\tlearn: 20570.8499576\ttest: 22630.2397359\tbest: 22624.2755840 (996)\ttotal: 1m 3s\tremaining: 21.4s\n",
      "1022:\tlearn: 20565.9743981\ttest: 22632.5417446\tbest: 22624.2755840 (996)\ttotal: 1m 3s\tremaining: 21.3s\n",
      "1023:\tlearn: 20564.0799315\ttest: 22631.2986471\tbest: 22624.2755840 (996)\ttotal: 1m 3s\tremaining: 21.3s\n",
      "1024:\tlearn: 20562.6816028\ttest: 22630.7473739\tbest: 22624.2755840 (996)\ttotal: 1m 3s\tremaining: 21.2s\n",
      "1025:\tlearn: 20559.7977836\ttest: 22629.8525749\tbest: 22624.2755840 (996)\ttotal: 1m 3s\tremaining: 21.1s\n",
      "1026:\tlearn: 20559.6018747\ttest: 22629.7881037\tbest: 22624.2755840 (996)\ttotal: 1m 3s\tremaining: 21.1s\n",
      "1027:\tlearn: 20557.2107712\ttest: 22630.7643182\tbest: 22624.2755840 (996)\ttotal: 1m 3s\tremaining: 21s\n",
      "1028:\tlearn: 20555.4363339\ttest: 22630.7028216\tbest: 22624.2755840 (996)\ttotal: 1m 3s\tremaining: 20.9s\n",
      "1029:\tlearn: 20555.0471440\ttest: 22631.3306222\tbest: 22624.2755840 (996)\ttotal: 1m 3s\tremaining: 20.9s\n",
      "1030:\tlearn: 20552.3306523\ttest: 22630.2758664\tbest: 22624.2755840 (996)\ttotal: 1m 4s\tremaining: 20.8s\n",
      "1031:\tlearn: 20550.7772043\ttest: 22630.4246748\tbest: 22624.2755840 (996)\ttotal: 1m 4s\tremaining: 20.7s\n",
      "1032:\tlearn: 20548.3026157\ttest: 22631.6525722\tbest: 22624.2755840 (996)\ttotal: 1m 4s\tremaining: 20.7s\n",
      "1033:\tlearn: 20545.0189968\ttest: 22630.2238740\tbest: 22624.2755840 (996)\ttotal: 1m 4s\tremaining: 20.6s\n",
      "1034:\tlearn: 20544.1821135\ttest: 22630.6952697\tbest: 22624.2755840 (996)\ttotal: 1m 4s\tremaining: 20.5s\n",
      "1035:\tlearn: 20543.4136837\ttest: 22630.3474187\tbest: 22624.2755840 (996)\ttotal: 1m 4s\tremaining: 20.5s\n",
      "1036:\tlearn: 20542.5201388\ttest: 22630.4503164\tbest: 22624.2755840 (996)\ttotal: 1m 4s\tremaining: 20.4s\n",
      "1037:\tlearn: 20542.2119504\ttest: 22630.3373740\tbest: 22624.2755840 (996)\ttotal: 1m 4s\tremaining: 20.3s\n",
      "1038:\tlearn: 20541.9381327\ttest: 22630.3394814\tbest: 22624.2755840 (996)\ttotal: 1m 4s\tremaining: 20.2s\n",
      "1039:\tlearn: 20541.1681793\ttest: 22629.4701630\tbest: 22624.2755840 (996)\ttotal: 1m 4s\tremaining: 20.2s\n",
      "1040:\tlearn: 20540.8112243\ttest: 22629.5311897\tbest: 22624.2755840 (996)\ttotal: 1m 4s\tremaining: 20.1s\n",
      "1041:\tlearn: 20540.1099135\ttest: 22629.7970533\tbest: 22624.2755840 (996)\ttotal: 1m 4s\tremaining: 20s\n",
      "1042:\tlearn: 20533.7501838\ttest: 22626.6197922\tbest: 22624.2755840 (996)\ttotal: 1m 4s\tremaining: 20s\n",
      "1043:\tlearn: 20533.1396611\ttest: 22626.3421571\tbest: 22624.2755840 (996)\ttotal: 1m 4s\tremaining: 19.9s\n",
      "1044:\tlearn: 20530.7957969\ttest: 22626.6156132\tbest: 22624.2755840 (996)\ttotal: 1m 4s\tremaining: 19.8s\n",
      "1045:\tlearn: 20529.4057605\ttest: 22626.5206474\tbest: 22624.2755840 (996)\ttotal: 1m 4s\tremaining: 19.8s\n",
      "1046:\tlearn: 20518.8117202\ttest: 22621.7996677\tbest: 22621.7996677 (1046)\ttotal: 1m 4s\tremaining: 19.7s\n",
      "1047:\tlearn: 20517.0572250\ttest: 22620.9032863\tbest: 22620.9032863 (1047)\ttotal: 1m 4s\tremaining: 19.6s\n",
      "1048:\tlearn: 20516.5722540\ttest: 22621.3412265\tbest: 22620.9032863 (1047)\ttotal: 1m 4s\tremaining: 19.6s\n",
      "1049:\tlearn: 20513.3061824\ttest: 22621.3476155\tbest: 22620.9032863 (1047)\ttotal: 1m 4s\tremaining: 19.5s\n",
      "1050:\tlearn: 20509.2731230\ttest: 22620.4231861\tbest: 22620.4231861 (1050)\ttotal: 1m 4s\tremaining: 19.4s\n",
      "1051:\tlearn: 20508.0971960\ttest: 22620.1169383\tbest: 22620.1169383 (1051)\ttotal: 1m 4s\tremaining: 19.4s\n",
      "1052:\tlearn: 20499.8485913\ttest: 22618.0042896\tbest: 22618.0042896 (1052)\ttotal: 1m 5s\tremaining: 19.3s\n",
      "1053:\tlearn: 20494.3674371\ttest: 22616.4181690\tbest: 22616.4181690 (1053)\ttotal: 1m 5s\tremaining: 19.3s\n",
      "1054:\tlearn: 20486.1461758\ttest: 22614.3472097\tbest: 22614.3472097 (1054)\ttotal: 1m 5s\tremaining: 19.2s\n",
      "1055:\tlearn: 20485.0892230\ttest: 22614.9795353\tbest: 22614.3472097 (1054)\ttotal: 1m 5s\tremaining: 19.1s\n",
      "1056:\tlearn: 20484.8318918\ttest: 22615.0785499\tbest: 22614.3472097 (1054)\ttotal: 1m 5s\tremaining: 19.1s\n",
      "1057:\tlearn: 20484.5518835\ttest: 22614.6550782\tbest: 22614.3472097 (1054)\ttotal: 1m 5s\tremaining: 19s\n",
      "1058:\tlearn: 20480.6555595\ttest: 22612.8136681\tbest: 22612.8136681 (1058)\ttotal: 1m 5s\tremaining: 18.9s\n",
      "1059:\tlearn: 20479.7934530\ttest: 22612.5977151\tbest: 22612.5977151 (1059)\ttotal: 1m 5s\tremaining: 18.9s\n",
      "1060:\tlearn: 20474.9965326\ttest: 22612.6650478\tbest: 22612.5977151 (1059)\ttotal: 1m 5s\tremaining: 18.8s\n",
      "1061:\tlearn: 20473.4213077\ttest: 22613.3349768\tbest: 22612.5977151 (1059)\ttotal: 1m 5s\tremaining: 18.8s\n",
      "1062:\tlearn: 20473.1359282\ttest: 22613.0789043\tbest: 22612.5977151 (1059)\ttotal: 1m 5s\tremaining: 18.7s\n",
      "1063:\tlearn: 20469.0099028\ttest: 22613.3543186\tbest: 22612.5977151 (1059)\ttotal: 1m 5s\tremaining: 18.6s\n",
      "1064:\tlearn: 20467.8459856\ttest: 22613.5244059\tbest: 22612.5977151 (1059)\ttotal: 1m 5s\tremaining: 18.5s\n",
      "1065:\tlearn: 20462.3941404\ttest: 22613.3297775\tbest: 22612.5977151 (1059)\ttotal: 1m 5s\tremaining: 18.5s\n",
      "1066:\tlearn: 20461.1440561\ttest: 22612.7974224\tbest: 22612.5977151 (1059)\ttotal: 1m 5s\tremaining: 18.4s\n",
      "1067:\tlearn: 20459.9586812\ttest: 22612.6689815\tbest: 22612.5977151 (1059)\ttotal: 1m 5s\tremaining: 18.3s\n",
      "1068:\tlearn: 20459.3850370\ttest: 22612.8840546\tbest: 22612.5977151 (1059)\ttotal: 1m 5s\tremaining: 18.3s\n",
      "1069:\tlearn: 20459.1145275\ttest: 22612.9251966\tbest: 22612.5977151 (1059)\ttotal: 1m 5s\tremaining: 18.2s\n",
      "1070:\tlearn: 20450.8661451\ttest: 22613.8110710\tbest: 22612.5977151 (1059)\ttotal: 1m 5s\tremaining: 18.2s\n",
      "1071:\tlearn: 20447.9547956\ttest: 22614.4488300\tbest: 22612.5977151 (1059)\ttotal: 1m 5s\tremaining: 18.1s\n",
      "1072:\tlearn: 20442.4768713\ttest: 22614.7154799\tbest: 22612.5977151 (1059)\ttotal: 1m 6s\tremaining: 18s\n",
      "1073:\tlearn: 20442.1059860\ttest: 22615.1751990\tbest: 22612.5977151 (1059)\ttotal: 1m 6s\tremaining: 18s\n",
      "1074:\tlearn: 20440.2753920\ttest: 22615.7587472\tbest: 22612.5977151 (1059)\ttotal: 1m 6s\tremaining: 17.9s\n",
      "1075:\tlearn: 20438.0004852\ttest: 22616.7063376\tbest: 22612.5977151 (1059)\ttotal: 1m 6s\tremaining: 17.8s\n",
      "1076:\tlearn: 20437.3662620\ttest: 22616.3966747\tbest: 22612.5977151 (1059)\ttotal: 1m 6s\tremaining: 17.8s\n",
      "1077:\tlearn: 20435.5813314\ttest: 22616.0597595\tbest: 22612.5977151 (1059)\ttotal: 1m 6s\tremaining: 17.7s\n",
      "1078:\tlearn: 20434.4888228\ttest: 22615.9888531\tbest: 22612.5977151 (1059)\ttotal: 1m 6s\tremaining: 17.6s\n",
      "1079:\tlearn: 20434.2640649\ttest: 22615.8834126\tbest: 22612.5977151 (1059)\ttotal: 1m 6s\tremaining: 17.6s\n",
      "1080:\tlearn: 20432.9962738\ttest: 22616.0035630\tbest: 22612.5977151 (1059)\ttotal: 1m 6s\tremaining: 17.5s\n",
      "1081:\tlearn: 20430.7038848\ttest: 22617.5361369\tbest: 22612.5977151 (1059)\ttotal: 1m 6s\tremaining: 17.4s\n",
      "1082:\tlearn: 20424.9837984\ttest: 22616.5621061\tbest: 22612.5977151 (1059)\ttotal: 1m 6s\tremaining: 17.4s\n",
      "1083:\tlearn: 20422.2963940\ttest: 22616.2080163\tbest: 22612.5977151 (1059)\ttotal: 1m 6s\tremaining: 17.3s\n",
      "1084:\tlearn: 20422.1325662\ttest: 22616.3066314\tbest: 22612.5977151 (1059)\ttotal: 1m 6s\tremaining: 17.2s\n",
      "1085:\tlearn: 20417.4887721\ttest: 22617.2042492\tbest: 22612.5977151 (1059)\ttotal: 1m 6s\tremaining: 17.2s\n",
      "1086:\tlearn: 20416.8799604\ttest: 22617.3384709\tbest: 22612.5977151 (1059)\ttotal: 1m 6s\tremaining: 17.1s\n",
      "1087:\tlearn: 20415.0984260\ttest: 22617.4043607\tbest: 22612.5977151 (1059)\ttotal: 1m 6s\tremaining: 17s\n",
      "1088:\tlearn: 20414.3794191\ttest: 22617.2992848\tbest: 22612.5977151 (1059)\ttotal: 1m 6s\tremaining: 17s\n",
      "1089:\tlearn: 20407.5598549\ttest: 22614.9302644\tbest: 22612.5977151 (1059)\ttotal: 1m 6s\tremaining: 16.9s\n",
      "1090:\tlearn: 20405.2515568\ttest: 22613.7462642\tbest: 22612.5977151 (1059)\ttotal: 1m 6s\tremaining: 16.8s\n",
      "1091:\tlearn: 20403.5676295\ttest: 22613.3898964\tbest: 22612.5977151 (1059)\ttotal: 1m 6s\tremaining: 16.8s\n",
      "1092:\tlearn: 20401.8534276\ttest: 22612.6787204\tbest: 22612.5977151 (1059)\ttotal: 1m 6s\tremaining: 16.7s\n",
      "1093:\tlearn: 20401.0536068\ttest: 22612.8205147\tbest: 22612.5977151 (1059)\ttotal: 1m 6s\tremaining: 16.6s\n",
      "1094:\tlearn: 20400.6800936\ttest: 22613.0364444\tbest: 22612.5977151 (1059)\ttotal: 1m 7s\tremaining: 16.6s\n",
      "1095:\tlearn: 20398.7514058\ttest: 22613.4387648\tbest: 22612.5977151 (1059)\ttotal: 1m 7s\tremaining: 16.5s\n",
      "1096:\tlearn: 20398.4168274\ttest: 22613.8555135\tbest: 22612.5977151 (1059)\ttotal: 1m 7s\tremaining: 16.4s\n",
      "1097:\tlearn: 20389.6120492\ttest: 22612.7493541\tbest: 22612.5977151 (1059)\ttotal: 1m 7s\tremaining: 16.4s\n",
      "1098:\tlearn: 20389.3597737\ttest: 22612.9077898\tbest: 22612.5977151 (1059)\ttotal: 1m 7s\tremaining: 16.3s\n",
      "1099:\tlearn: 20388.4821975\ttest: 22612.2157369\tbest: 22612.2157369 (1099)\ttotal: 1m 7s\tremaining: 16.3s\n",
      "1100:\tlearn: 20387.9129946\ttest: 22612.2392218\tbest: 22612.2157369 (1099)\ttotal: 1m 7s\tremaining: 16.2s\n",
      "1101:\tlearn: 20387.7359961\ttest: 22612.2830442\tbest: 22612.2157369 (1099)\ttotal: 1m 7s\tremaining: 16.1s\n",
      "1102:\tlearn: 20386.9955460\ttest: 22611.5184562\tbest: 22611.5184562 (1102)\ttotal: 1m 7s\tremaining: 16.1s\n",
      "1103:\tlearn: 20385.8776912\ttest: 22611.0827427\tbest: 22611.0827427 (1103)\ttotal: 1m 7s\tremaining: 16s\n",
      "1104:\tlearn: 20378.0935478\ttest: 22610.7594788\tbest: 22610.7594788 (1104)\ttotal: 1m 7s\tremaining: 15.9s\n",
      "1105:\tlearn: 20376.5616997\ttest: 22611.2140771\tbest: 22610.7594788 (1104)\ttotal: 1m 7s\tremaining: 15.9s\n",
      "1106:\tlearn: 20375.6379769\ttest: 22611.4811267\tbest: 22610.7594788 (1104)\ttotal: 1m 7s\tremaining: 15.8s\n",
      "1107:\tlearn: 20375.3398449\ttest: 22611.5568863\tbest: 22610.7594788 (1104)\ttotal: 1m 7s\tremaining: 15.7s\n",
      "1108:\tlearn: 20372.3785785\ttest: 22612.8026103\tbest: 22610.7594788 (1104)\ttotal: 1m 7s\tremaining: 15.7s\n",
      "1109:\tlearn: 20365.0418845\ttest: 22611.8059014\tbest: 22610.7594788 (1104)\ttotal: 1m 7s\tremaining: 15.6s\n",
      "1110:\tlearn: 20351.2596846\ttest: 22607.5265099\tbest: 22607.5265099 (1110)\ttotal: 1m 7s\tremaining: 15.6s\n",
      "1111:\tlearn: 20351.1069295\ttest: 22607.6069381\tbest: 22607.5265099 (1110)\ttotal: 1m 7s\tremaining: 15.5s\n",
      "1112:\tlearn: 20348.3716183\ttest: 22607.8390518\tbest: 22607.5265099 (1110)\ttotal: 1m 7s\tremaining: 15.4s\n",
      "1113:\tlearn: 20346.3971972\ttest: 22608.1590291\tbest: 22607.5265099 (1110)\ttotal: 1m 7s\tremaining: 15.4s\n",
      "1114:\tlearn: 20340.3098705\ttest: 22605.7814180\tbest: 22605.7814180 (1114)\ttotal: 1m 7s\tremaining: 15.3s\n",
      "1115:\tlearn: 20339.0039682\ttest: 22605.5320928\tbest: 22605.5320928 (1115)\ttotal: 1m 8s\tremaining: 15.2s\n",
      "1116:\tlearn: 20338.8372666\ttest: 22605.5482256\tbest: 22605.5320928 (1115)\ttotal: 1m 8s\tremaining: 15.2s\n",
      "1117:\tlearn: 20337.3050122\ttest: 22606.1421908\tbest: 22605.5320928 (1115)\ttotal: 1m 8s\tremaining: 15.1s\n",
      "1118:\tlearn: 20332.6940845\ttest: 22605.5580117\tbest: 22605.5320928 (1115)\ttotal: 1m 8s\tremaining: 15s\n",
      "1119:\tlearn: 20328.5872651\ttest: 22605.1734882\tbest: 22605.1734882 (1119)\ttotal: 1m 8s\tremaining: 15s\n",
      "1120:\tlearn: 20326.8520247\ttest: 22605.2621338\tbest: 22605.1734882 (1119)\ttotal: 1m 8s\tremaining: 14.9s\n",
      "1121:\tlearn: 20321.7335334\ttest: 22604.1135835\tbest: 22604.1135835 (1121)\ttotal: 1m 8s\tremaining: 14.9s\n",
      "1122:\tlearn: 20315.9056084\ttest: 22603.8731901\tbest: 22603.8731901 (1122)\ttotal: 1m 8s\tremaining: 14.8s\n",
      "1123:\tlearn: 20314.8344673\ttest: 22603.8482222\tbest: 22603.8482222 (1123)\ttotal: 1m 8s\tremaining: 14.7s\n",
      "1124:\tlearn: 20311.9459121\ttest: 22603.6285056\tbest: 22603.6285056 (1124)\ttotal: 1m 8s\tremaining: 14.7s\n",
      "1125:\tlearn: 20311.8042282\ttest: 22603.5922429\tbest: 22603.5922429 (1125)\ttotal: 1m 8s\tremaining: 14.6s\n",
      "1126:\tlearn: 20311.0413810\ttest: 22603.7808076\tbest: 22603.5922429 (1125)\ttotal: 1m 8s\tremaining: 14.5s\n",
      "1127:\tlearn: 20310.3793025\ttest: 22604.2416512\tbest: 22603.5922429 (1125)\ttotal: 1m 8s\tremaining: 14.5s\n",
      "1128:\tlearn: 20305.9990613\ttest: 22603.6711413\tbest: 22603.5922429 (1125)\ttotal: 1m 8s\tremaining: 14.4s\n",
      "1129:\tlearn: 20305.5402036\ttest: 22603.8626765\tbest: 22603.5922429 (1125)\ttotal: 1m 8s\tremaining: 14.3s\n",
      "1130:\tlearn: 20300.5138554\ttest: 22603.4775446\tbest: 22603.4775446 (1130)\ttotal: 1m 8s\tremaining: 14.3s\n",
      "1131:\tlearn: 20300.2443131\ttest: 22603.4288109\tbest: 22603.4288109 (1131)\ttotal: 1m 8s\tremaining: 14.2s\n",
      "1132:\tlearn: 20299.7020551\ttest: 22603.3598389\tbest: 22603.3598389 (1132)\ttotal: 1m 8s\tremaining: 14.1s\n",
      "1133:\tlearn: 20290.9071494\ttest: 22597.8056661\tbest: 22597.8056661 (1133)\ttotal: 1m 8s\tremaining: 14.1s\n",
      "1134:\tlearn: 20290.4375059\ttest: 22598.1960295\tbest: 22597.8056661 (1133)\ttotal: 1m 8s\tremaining: 14s\n",
      "1135:\tlearn: 20289.1497036\ttest: 22598.2185449\tbest: 22597.8056661 (1133)\ttotal: 1m 8s\tremaining: 14s\n",
      "1136:\tlearn: 20288.7263397\ttest: 22598.2582740\tbest: 22597.8056661 (1133)\ttotal: 1m 8s\tremaining: 13.9s\n",
      "1137:\tlearn: 20280.9087830\ttest: 22598.9220107\tbest: 22597.8056661 (1133)\ttotal: 1m 9s\tremaining: 13.8s\n",
      "1138:\tlearn: 20280.6879879\ttest: 22598.8798014\tbest: 22597.8056661 (1133)\ttotal: 1m 9s\tremaining: 13.8s\n",
      "1139:\tlearn: 20278.9907877\ttest: 22597.6480360\tbest: 22597.6480360 (1139)\ttotal: 1m 9s\tremaining: 13.7s\n",
      "1140:\tlearn: 20277.9138387\ttest: 22597.0837762\tbest: 22597.0837762 (1140)\ttotal: 1m 9s\tremaining: 13.6s\n",
      "1141:\tlearn: 20277.2445803\ttest: 22596.9269085\tbest: 22596.9269085 (1141)\ttotal: 1m 9s\tremaining: 13.6s\n",
      "1142:\tlearn: 20276.2526884\ttest: 22596.5694579\tbest: 22596.5694579 (1142)\ttotal: 1m 9s\tremaining: 13.5s\n",
      "1143:\tlearn: 20273.3908162\ttest: 22597.1741830\tbest: 22596.5694579 (1142)\ttotal: 1m 9s\tremaining: 13.4s\n",
      "1144:\tlearn: 20269.0625346\ttest: 22596.5057739\tbest: 22596.5057739 (1144)\ttotal: 1m 9s\tremaining: 13.4s\n",
      "1145:\tlearn: 20267.2851430\ttest: 22595.8225039\tbest: 22595.8225039 (1145)\ttotal: 1m 9s\tremaining: 13.3s\n",
      "1146:\tlearn: 20267.1261488\ttest: 22595.6513984\tbest: 22595.6513984 (1146)\ttotal: 1m 9s\tremaining: 13.3s\n",
      "1147:\tlearn: 20266.3636592\ttest: 22595.5816573\tbest: 22595.5816573 (1147)\ttotal: 1m 9s\tremaining: 13.2s\n",
      "1148:\tlearn: 20261.4525114\ttest: 22596.3866851\tbest: 22595.5816573 (1147)\ttotal: 1m 9s\tremaining: 13.1s\n",
      "1149:\tlearn: 20260.9848423\ttest: 22596.8772608\tbest: 22595.5816573 (1147)\ttotal: 1m 9s\tremaining: 13.1s\n",
      "1150:\tlearn: 20258.5643748\ttest: 22596.9532492\tbest: 22595.5816573 (1147)\ttotal: 1m 9s\tremaining: 13s\n",
      "1151:\tlearn: 20257.3461230\ttest: 22597.3538037\tbest: 22595.5816573 (1147)\ttotal: 1m 9s\tremaining: 12.9s\n",
      "1152:\tlearn: 20255.4679984\ttest: 22597.7348823\tbest: 22595.5816573 (1147)\ttotal: 1m 9s\tremaining: 12.9s\n",
      "1153:\tlearn: 20246.1550932\ttest: 22598.4992151\tbest: 22595.5816573 (1147)\ttotal: 1m 9s\tremaining: 12.8s\n",
      "1154:\tlearn: 20240.3344049\ttest: 22598.5009444\tbest: 22595.5816573 (1147)\ttotal: 1m 9s\tremaining: 12.8s\n",
      "1155:\tlearn: 20238.2994928\ttest: 22599.7063322\tbest: 22595.5816573 (1147)\ttotal: 1m 9s\tremaining: 12.7s\n",
      "1156:\tlearn: 20236.3008970\ttest: 22599.3936892\tbest: 22595.5816573 (1147)\ttotal: 1m 9s\tremaining: 12.6s\n",
      "1157:\tlearn: 20234.8405964\ttest: 22600.3547963\tbest: 22595.5816573 (1147)\ttotal: 1m 10s\tremaining: 12.6s\n",
      "1158:\tlearn: 20232.8199139\ttest: 22600.7122218\tbest: 22595.5816573 (1147)\ttotal: 1m 10s\tremaining: 12.5s\n",
      "1159:\tlearn: 20232.1184954\ttest: 22600.7815547\tbest: 22595.5816573 (1147)\ttotal: 1m 10s\tremaining: 12.5s\n",
      "1160:\tlearn: 20230.2119679\ttest: 22598.0758936\tbest: 22595.5816573 (1147)\ttotal: 1m 10s\tremaining: 12.4s\n",
      "1161:\tlearn: 20222.9820474\ttest: 22600.7302435\tbest: 22595.5816573 (1147)\ttotal: 1m 10s\tremaining: 12.3s\n",
      "1162:\tlearn: 20215.3791361\ttest: 22599.2919666\tbest: 22595.5816573 (1147)\ttotal: 1m 10s\tremaining: 12.3s\n",
      "1163:\tlearn: 20204.7194640\ttest: 22595.3963784\tbest: 22595.3963784 (1163)\ttotal: 1m 10s\tremaining: 12.2s\n",
      "1164:\tlearn: 20204.3559420\ttest: 22595.9651039\tbest: 22595.3963784 (1163)\ttotal: 1m 10s\tremaining: 12.2s\n",
      "1165:\tlearn: 20204.2569079\ttest: 22596.1204906\tbest: 22595.3963784 (1163)\ttotal: 1m 10s\tremaining: 12.1s\n",
      "1166:\tlearn: 20203.8524898\ttest: 22596.4875687\tbest: 22595.3963784 (1163)\ttotal: 1m 10s\tremaining: 12s\n",
      "1167:\tlearn: 20202.5983099\ttest: 22596.6507252\tbest: 22595.3963784 (1163)\ttotal: 1m 10s\tremaining: 12s\n",
      "1168:\tlearn: 20200.4207138\ttest: 22596.7457964\tbest: 22595.3963784 (1163)\ttotal: 1m 10s\tremaining: 11.9s\n",
      "1169:\tlearn: 20200.0595521\ttest: 22597.0395854\tbest: 22595.3963784 (1163)\ttotal: 1m 10s\tremaining: 11.8s\n",
      "1170:\tlearn: 20199.6504796\ttest: 22596.7736930\tbest: 22595.3963784 (1163)\ttotal: 1m 10s\tremaining: 11.8s\n",
      "1171:\tlearn: 20197.4782493\ttest: 22596.3157513\tbest: 22595.3963784 (1163)\ttotal: 1m 10s\tremaining: 11.7s\n",
      "1172:\tlearn: 20197.2955288\ttest: 22596.5335996\tbest: 22595.3963784 (1163)\ttotal: 1m 10s\tremaining: 11.6s\n",
      "1173:\tlearn: 20191.8302594\ttest: 22597.3446812\tbest: 22595.3963784 (1163)\ttotal: 1m 10s\tremaining: 11.6s\n",
      "1174:\tlearn: 20183.6489274\ttest: 22596.4354552\tbest: 22595.3963784 (1163)\ttotal: 1m 10s\tremaining: 11.5s\n",
      "1175:\tlearn: 20183.2040747\ttest: 22596.4668521\tbest: 22595.3963784 (1163)\ttotal: 1m 10s\tremaining: 11.5s\n",
      "1176:\tlearn: 20182.9771089\ttest: 22596.2440426\tbest: 22595.3963784 (1163)\ttotal: 1m 11s\tremaining: 11.4s\n",
      "1177:\tlearn: 20182.5833447\ttest: 22596.3877407\tbest: 22595.3963784 (1163)\ttotal: 1m 11s\tremaining: 11.3s\n",
      "1178:\tlearn: 20179.4103656\ttest: 22596.4447829\tbest: 22595.3963784 (1163)\ttotal: 1m 11s\tremaining: 11.3s\n",
      "1179:\tlearn: 20179.2058853\ttest: 22596.7187317\tbest: 22595.3963784 (1163)\ttotal: 1m 11s\tremaining: 11.2s\n",
      "1180:\tlearn: 20178.9500648\ttest: 22596.3629501\tbest: 22595.3963784 (1163)\ttotal: 1m 11s\tremaining: 11.1s\n",
      "1181:\tlearn: 20178.0892900\ttest: 22596.0012014\tbest: 22595.3963784 (1163)\ttotal: 1m 11s\tremaining: 11.1s\n",
      "1182:\tlearn: 20177.7724852\ttest: 22595.7661888\tbest: 22595.3963784 (1163)\ttotal: 1m 11s\tremaining: 11s\n",
      "1183:\tlearn: 20177.3150259\ttest: 22596.3843034\tbest: 22595.3963784 (1163)\ttotal: 1m 11s\tremaining: 11s\n",
      "1184:\tlearn: 20177.1572617\ttest: 22596.3198692\tbest: 22595.3963784 (1163)\ttotal: 1m 11s\tremaining: 10.9s\n",
      "1185:\tlearn: 20176.8450361\ttest: 22596.0246353\tbest: 22595.3963784 (1163)\ttotal: 1m 11s\tremaining: 10.8s\n",
      "1186:\tlearn: 20175.6149450\ttest: 22595.7369985\tbest: 22595.3963784 (1163)\ttotal: 1m 11s\tremaining: 10.8s\n",
      "1187:\tlearn: 20168.6535015\ttest: 22594.7743256\tbest: 22594.7743256 (1187)\ttotal: 1m 11s\tremaining: 10.7s\n",
      "1188:\tlearn: 20168.5064735\ttest: 22594.7261806\tbest: 22594.7261806 (1188)\ttotal: 1m 11s\tremaining: 10.6s\n",
      "1189:\tlearn: 20166.0213074\ttest: 22595.3783670\tbest: 22594.7261806 (1188)\ttotal: 1m 11s\tremaining: 10.6s\n",
      "1190:\tlearn: 20165.6610766\ttest: 22596.0165530\tbest: 22594.7261806 (1188)\ttotal: 1m 11s\tremaining: 10.5s\n",
      "1191:\tlearn: 20164.2540539\ttest: 22595.8311210\tbest: 22594.7261806 (1188)\ttotal: 1m 11s\tremaining: 10.4s\n",
      "1192:\tlearn: 20159.8216236\ttest: 22594.4034860\tbest: 22594.4034860 (1192)\ttotal: 1m 11s\tremaining: 10.4s\n",
      "1193:\tlearn: 20159.0336494\ttest: 22594.8612026\tbest: 22594.4034860 (1192)\ttotal: 1m 11s\tremaining: 10.3s\n",
      "1194:\tlearn: 20158.7362432\ttest: 22594.7350205\tbest: 22594.4034860 (1192)\ttotal: 1m 11s\tremaining: 10.3s\n",
      "1195:\tlearn: 20153.0108715\ttest: 22594.1959137\tbest: 22594.1959137 (1195)\ttotal: 1m 11s\tremaining: 10.2s\n",
      "1196:\tlearn: 20152.8027090\ttest: 22594.3294025\tbest: 22594.1959137 (1195)\ttotal: 1m 11s\tremaining: 10.1s\n",
      "1197:\tlearn: 20152.2030407\ttest: 22594.7164236\tbest: 22594.1959137 (1195)\ttotal: 1m 11s\tremaining: 10.1s\n",
      "1198:\tlearn: 20150.3339391\ttest: 22594.7866523\tbest: 22594.1959137 (1195)\ttotal: 1m 11s\tremaining: 10s\n",
      "1199:\tlearn: 20145.8410450\ttest: 22593.9197275\tbest: 22593.9197275 (1199)\ttotal: 1m 11s\tremaining: 9.95s\n",
      "1200:\tlearn: 20142.7281582\ttest: 22594.3448948\tbest: 22593.9197275 (1199)\ttotal: 1m 12s\tremaining: 9.89s\n",
      "1201:\tlearn: 20137.8382654\ttest: 22593.2876097\tbest: 22593.2876097 (1201)\ttotal: 1m 12s\tremaining: 9.83s\n",
      "1202:\tlearn: 20137.6948950\ttest: 22593.2289816\tbest: 22593.2289816 (1202)\ttotal: 1m 12s\tremaining: 9.77s\n",
      "1203:\tlearn: 20137.4536934\ttest: 22593.4534032\tbest: 22593.2289816 (1202)\ttotal: 1m 12s\tremaining: 9.71s\n",
      "1204:\tlearn: 20133.0546726\ttest: 22594.6416660\tbest: 22593.2289816 (1202)\ttotal: 1m 12s\tremaining: 9.65s\n",
      "1205:\tlearn: 20132.0774471\ttest: 22593.7433156\tbest: 22593.2289816 (1202)\ttotal: 1m 12s\tremaining: 9.59s\n",
      "1206:\tlearn: 20131.7754115\ttest: 22593.8787087\tbest: 22593.2289816 (1202)\ttotal: 1m 12s\tremaining: 9.52s\n",
      "1207:\tlearn: 20123.3362809\ttest: 22593.9499054\tbest: 22593.2289816 (1202)\ttotal: 1m 12s\tremaining: 9.47s\n",
      "1208:\tlearn: 20119.3373322\ttest: 22594.0304720\tbest: 22593.2289816 (1202)\ttotal: 1m 12s\tremaining: 9.41s\n",
      "1209:\tlearn: 20116.0517613\ttest: 22593.6713050\tbest: 22593.2289816 (1202)\ttotal: 1m 12s\tremaining: 9.35s\n",
      "1210:\tlearn: 20115.6018218\ttest: 22593.5515390\tbest: 22593.2289816 (1202)\ttotal: 1m 12s\tremaining: 9.28s\n",
      "1211:\tlearn: 20114.1658182\ttest: 22593.8331444\tbest: 22593.2289816 (1202)\ttotal: 1m 12s\tremaining: 9.22s\n",
      "1212:\tlearn: 20113.9371928\ttest: 22594.1490605\tbest: 22593.2289816 (1202)\ttotal: 1m 12s\tremaining: 9.16s\n",
      "1213:\tlearn: 20110.1389637\ttest: 22593.7943869\tbest: 22593.2289816 (1202)\ttotal: 1m 12s\tremaining: 9.1s\n",
      "1214:\tlearn: 20107.8834770\ttest: 22593.2548245\tbest: 22593.2289816 (1202)\ttotal: 1m 12s\tremaining: 9.03s\n",
      "1215:\tlearn: 20107.3168308\ttest: 22592.7514280\tbest: 22592.7514280 (1215)\ttotal: 1m 12s\tremaining: 8.97s\n",
      "1216:\tlearn: 20102.4610269\ttest: 22592.3171375\tbest: 22592.3171375 (1216)\ttotal: 1m 12s\tremaining: 8.91s\n",
      "1217:\tlearn: 20098.6749967\ttest: 22590.1202812\tbest: 22590.1202812 (1217)\ttotal: 1m 12s\tremaining: 8.85s\n",
      "1218:\tlearn: 20098.2080436\ttest: 22589.9537673\tbest: 22589.9537673 (1218)\ttotal: 1m 12s\tremaining: 8.79s\n",
      "1219:\tlearn: 20096.3098996\ttest: 22589.7068752\tbest: 22589.7068752 (1219)\ttotal: 1m 12s\tremaining: 8.73s\n",
      "1220:\tlearn: 20091.8965281\ttest: 22591.0893559\tbest: 22589.7068752 (1219)\ttotal: 1m 13s\tremaining: 8.67s\n",
      "1221:\tlearn: 20090.3374294\ttest: 22589.9890173\tbest: 22589.7068752 (1219)\ttotal: 1m 13s\tremaining: 8.61s\n",
      "1222:\tlearn: 20087.8915707\ttest: 22590.5367330\tbest: 22589.7068752 (1219)\ttotal: 1m 13s\tremaining: 8.55s\n",
      "1223:\tlearn: 20086.4551647\ttest: 22591.1056144\tbest: 22589.7068752 (1219)\ttotal: 1m 13s\tremaining: 8.48s\n",
      "1224:\tlearn: 20084.7791941\ttest: 22592.6406926\tbest: 22589.7068752 (1219)\ttotal: 1m 13s\tremaining: 8.42s\n",
      "1225:\tlearn: 20084.5409923\ttest: 22592.4241095\tbest: 22589.7068752 (1219)\ttotal: 1m 13s\tremaining: 8.36s\n",
      "1226:\tlearn: 20083.5703118\ttest: 22591.8031419\tbest: 22589.7068752 (1219)\ttotal: 1m 13s\tremaining: 8.3s\n",
      "1227:\tlearn: 20083.1547948\ttest: 22591.9155316\tbest: 22589.7068752 (1219)\ttotal: 1m 13s\tremaining: 8.23s\n",
      "1228:\tlearn: 20081.9343407\ttest: 22592.3329483\tbest: 22589.7068752 (1219)\ttotal: 1m 13s\tremaining: 8.17s\n",
      "1229:\tlearn: 20081.1673298\ttest: 22592.6162512\tbest: 22589.7068752 (1219)\ttotal: 1m 13s\tremaining: 8.11s\n",
      "1230:\tlearn: 20078.1885448\ttest: 22592.9559942\tbest: 22589.7068752 (1219)\ttotal: 1m 13s\tremaining: 8.05s\n",
      "1231:\tlearn: 20070.6755462\ttest: 22590.7840632\tbest: 22589.7068752 (1219)\ttotal: 1m 13s\tremaining: 8s\n",
      "1232:\tlearn: 20068.0513069\ttest: 22590.6330066\tbest: 22589.7068752 (1219)\ttotal: 1m 13s\tremaining: 7.94s\n",
      "1233:\tlearn: 20067.1691839\ttest: 22590.9253500\tbest: 22589.7068752 (1219)\ttotal: 1m 13s\tremaining: 7.87s\n",
      "1234:\tlearn: 20066.6317186\ttest: 22590.5519682\tbest: 22589.7068752 (1219)\ttotal: 1m 13s\tremaining: 7.81s\n",
      "1235:\tlearn: 20065.6912189\ttest: 22590.0479907\tbest: 22589.7068752 (1219)\ttotal: 1m 13s\tremaining: 7.75s\n",
      "1236:\tlearn: 20063.2743079\ttest: 22587.1348943\tbest: 22587.1348943 (1236)\ttotal: 1m 13s\tremaining: 7.69s\n",
      "1237:\tlearn: 20059.7684269\ttest: 22587.8124679\tbest: 22587.1348943 (1236)\ttotal: 1m 13s\tremaining: 7.63s\n",
      "1238:\tlearn: 20055.7864711\ttest: 22586.1504535\tbest: 22586.1504535 (1238)\ttotal: 1m 13s\tremaining: 7.57s\n",
      "1239:\tlearn: 20054.7538343\ttest: 22587.6247290\tbest: 22586.1504535 (1238)\ttotal: 1m 13s\tremaining: 7.51s\n",
      "1240:\tlearn: 20051.5423422\ttest: 22588.6948656\tbest: 22586.1504535 (1238)\ttotal: 1m 13s\tremaining: 7.45s\n",
      "1241:\tlearn: 20045.1706042\ttest: 22588.4570591\tbest: 22586.1504535 (1238)\ttotal: 1m 14s\tremaining: 7.39s\n",
      "1242:\tlearn: 20042.4044900\ttest: 22588.5871801\tbest: 22586.1504535 (1238)\ttotal: 1m 14s\tremaining: 7.33s\n",
      "1243:\tlearn: 20041.8398662\ttest: 22588.6005962\tbest: 22586.1504535 (1238)\ttotal: 1m 14s\tremaining: 7.27s\n",
      "1244:\tlearn: 20040.7378816\ttest: 22589.0347742\tbest: 22586.1504535 (1238)\ttotal: 1m 14s\tremaining: 7.21s\n",
      "1245:\tlearn: 20038.6861060\ttest: 22590.6040896\tbest: 22586.1504535 (1238)\ttotal: 1m 14s\tremaining: 7.14s\n",
      "1246:\tlearn: 20032.9858826\ttest: 22590.6403283\tbest: 22586.1504535 (1238)\ttotal: 1m 14s\tremaining: 7.09s\n",
      "1247:\tlearn: 20032.5465575\ttest: 22590.9212656\tbest: 22586.1504535 (1238)\ttotal: 1m 14s\tremaining: 7.02s\n",
      "1248:\tlearn: 20031.2953483\ttest: 22592.3693721\tbest: 22586.1504535 (1238)\ttotal: 1m 14s\tremaining: 6.96s\n",
      "1249:\tlearn: 20027.9731324\ttest: 22592.2728636\tbest: 22586.1504535 (1238)\ttotal: 1m 14s\tremaining: 6.91s\n",
      "1250:\tlearn: 20025.1203774\ttest: 22594.1974955\tbest: 22586.1504535 (1238)\ttotal: 1m 14s\tremaining: 6.85s\n",
      "1251:\tlearn: 20024.8133616\ttest: 22594.2854388\tbest: 22586.1504535 (1238)\ttotal: 1m 14s\tremaining: 6.78s\n",
      "1252:\tlearn: 20023.4895974\ttest: 22594.4857930\tbest: 22586.1504535 (1238)\ttotal: 1m 14s\tremaining: 6.72s\n",
      "1253:\tlearn: 20021.8441462\ttest: 22594.6176761\tbest: 22586.1504535 (1238)\ttotal: 1m 14s\tremaining: 6.67s\n",
      "1254:\tlearn: 20020.5939861\ttest: 22595.7460296\tbest: 22586.1504535 (1238)\ttotal: 1m 14s\tremaining: 6.6s\n",
      "1255:\tlearn: 20017.1127397\ttest: 22596.3394300\tbest: 22586.1504535 (1238)\ttotal: 1m 14s\tremaining: 6.54s\n",
      "1256:\tlearn: 20016.1848471\ttest: 22596.3603344\tbest: 22586.1504535 (1238)\ttotal: 1m 14s\tremaining: 6.48s\n",
      "1257:\tlearn: 20013.6794053\ttest: 22596.5868001\tbest: 22586.1504535 (1238)\ttotal: 1m 14s\tremaining: 6.42s\n",
      "1258:\tlearn: 20010.5470024\ttest: 22597.1541235\tbest: 22586.1504535 (1238)\ttotal: 1m 14s\tremaining: 6.36s\n",
      "1259:\tlearn: 20008.8586142\ttest: 22597.3342156\tbest: 22586.1504535 (1238)\ttotal: 1m 14s\tremaining: 6.3s\n",
      "1260:\tlearn: 20008.1738741\ttest: 22597.0761357\tbest: 22586.1504535 (1238)\ttotal: 1m 14s\tremaining: 6.24s\n",
      "1261:\tlearn: 20007.9089044\ttest: 22596.8215656\tbest: 22586.1504535 (1238)\ttotal: 1m 14s\tremaining: 6.17s\n",
      "1262:\tlearn: 20006.4998632\ttest: 22597.4665146\tbest: 22586.1504535 (1238)\ttotal: 1m 14s\tremaining: 6.11s\n",
      "1263:\tlearn: 20006.1244980\ttest: 22597.4743886\tbest: 22586.1504535 (1238)\ttotal: 1m 15s\tremaining: 6.05s\n",
      "1264:\tlearn: 20004.1398668\ttest: 22597.5546097\tbest: 22586.1504535 (1238)\ttotal: 1m 15s\tremaining: 5.99s\n",
      "1265:\tlearn: 20000.4258934\ttest: 22597.5330706\tbest: 22586.1504535 (1238)\ttotal: 1m 15s\tremaining: 5.93s\n",
      "1266:\tlearn: 19999.4384444\ttest: 22597.9323986\tbest: 22586.1504535 (1238)\ttotal: 1m 15s\tremaining: 5.87s\n",
      "1267:\tlearn: 19996.2639231\ttest: 22598.2302423\tbest: 22586.1504535 (1238)\ttotal: 1m 15s\tremaining: 5.81s\n",
      "1268:\tlearn: 19995.9695650\ttest: 22598.5533992\tbest: 22586.1504535 (1238)\ttotal: 1m 15s\tremaining: 5.75s\n",
      "1269:\tlearn: 19995.6832021\ttest: 22598.8580990\tbest: 22586.1504535 (1238)\ttotal: 1m 15s\tremaining: 5.69s\n",
      "1270:\tlearn: 19991.1497497\ttest: 22599.8835369\tbest: 22586.1504535 (1238)\ttotal: 1m 15s\tremaining: 5.63s\n",
      "1271:\tlearn: 19990.3302714\ttest: 22599.9023538\tbest: 22586.1504535 (1238)\ttotal: 1m 15s\tremaining: 5.57s\n",
      "1272:\tlearn: 19990.2341405\ttest: 22599.7875266\tbest: 22586.1504535 (1238)\ttotal: 1m 15s\tremaining: 5.51s\n",
      "1273:\tlearn: 19990.1609962\ttest: 22599.7600172\tbest: 22586.1504535 (1238)\ttotal: 1m 15s\tremaining: 5.45s\n",
      "1274:\tlearn: 19988.5562204\ttest: 22599.0535470\tbest: 22586.1504535 (1238)\ttotal: 1m 15s\tremaining: 5.39s\n",
      "1275:\tlearn: 19984.3296634\ttest: 22598.6275394\tbest: 22586.1504535 (1238)\ttotal: 1m 15s\tremaining: 5.33s\n",
      "1276:\tlearn: 19984.2251252\ttest: 22598.5680124\tbest: 22586.1504535 (1238)\ttotal: 1m 15s\tremaining: 5.27s\n",
      "1277:\tlearn: 19983.9050592\ttest: 22599.0109467\tbest: 22586.1504535 (1238)\ttotal: 1m 15s\tremaining: 5.2s\n",
      "1278:\tlearn: 19983.4515380\ttest: 22599.5100620\tbest: 22586.1504535 (1238)\ttotal: 1m 15s\tremaining: 5.14s\n",
      "1279:\tlearn: 19982.6342574\ttest: 22600.0272299\tbest: 22586.1504535 (1238)\ttotal: 1m 15s\tremaining: 5.08s\n",
      "1280:\tlearn: 19979.4843700\ttest: 22599.4154885\tbest: 22586.1504535 (1238)\ttotal: 1m 15s\tremaining: 5.02s\n",
      "1281:\tlearn: 19978.5061302\ttest: 22599.9586627\tbest: 22586.1504535 (1238)\ttotal: 1m 15s\tremaining: 4.96s\n",
      "1282:\tlearn: 19978.3440019\ttest: 22599.9848929\tbest: 22586.1504535 (1238)\ttotal: 1m 15s\tremaining: 4.9s\n",
      "1283:\tlearn: 19978.0546216\ttest: 22600.5432011\tbest: 22586.1504535 (1238)\ttotal: 1m 15s\tremaining: 4.84s\n",
      "1284:\tlearn: 19977.8273163\ttest: 22600.5625230\tbest: 22586.1504535 (1238)\ttotal: 1m 15s\tremaining: 4.78s\n",
      "1285:\tlearn: 19976.5194267\ttest: 22600.6002891\tbest: 22586.1504535 (1238)\ttotal: 1m 15s\tremaining: 4.72s\n",
      "1286:\tlearn: 19975.9757006\ttest: 22600.1826284\tbest: 22586.1504535 (1238)\ttotal: 1m 15s\tremaining: 4.66s\n",
      "1287:\tlearn: 19974.0812081\ttest: 22600.1399042\tbest: 22586.1504535 (1238)\ttotal: 1m 15s\tremaining: 4.6s\n",
      "1288:\tlearn: 19973.7834894\ttest: 22599.6762342\tbest: 22586.1504535 (1238)\ttotal: 1m 15s\tremaining: 4.54s\n",
      "1289:\tlearn: 19968.1088273\ttest: 22597.6156121\tbest: 22586.1504535 (1238)\ttotal: 1m 16s\tremaining: 4.48s\n",
      "1290:\tlearn: 19967.6783033\ttest: 22597.2939155\tbest: 22586.1504535 (1238)\ttotal: 1m 16s\tremaining: 4.42s\n",
      "1291:\tlearn: 19966.2749959\ttest: 22596.5447467\tbest: 22586.1504535 (1238)\ttotal: 1m 16s\tremaining: 4.36s\n",
      "1292:\tlearn: 19964.2782664\ttest: 22596.1181424\tbest: 22586.1504535 (1238)\ttotal: 1m 16s\tremaining: 4.3s\n",
      "1293:\tlearn: 19963.4819510\ttest: 22595.8649257\tbest: 22586.1504535 (1238)\ttotal: 1m 16s\tremaining: 4.24s\n",
      "1294:\tlearn: 19963.1504923\ttest: 22596.2611387\tbest: 22586.1504535 (1238)\ttotal: 1m 16s\tremaining: 4.18s\n",
      "1295:\tlearn: 19956.4348852\ttest: 22590.9228961\tbest: 22586.1504535 (1238)\ttotal: 1m 16s\tremaining: 4.12s\n",
      "1296:\tlearn: 19955.8959332\ttest: 22590.9976745\tbest: 22586.1504535 (1238)\ttotal: 1m 16s\tremaining: 4.06s\n",
      "1297:\tlearn: 19955.5922028\ttest: 22591.7169049\tbest: 22586.1504535 (1238)\ttotal: 1m 16s\tremaining: 4s\n",
      "1298:\tlearn: 19954.0179411\ttest: 22592.0217343\tbest: 22586.1504535 (1238)\ttotal: 1m 16s\tremaining: 3.94s\n",
      "1299:\tlearn: 19952.1600892\ttest: 22593.2937819\tbest: 22586.1504535 (1238)\ttotal: 1m 16s\tremaining: 3.88s\n",
      "1300:\tlearn: 19951.7398444\ttest: 22593.1879656\tbest: 22586.1504535 (1238)\ttotal: 1m 16s\tremaining: 3.82s\n",
      "1301:\tlearn: 19951.4548008\ttest: 22593.4577525\tbest: 22586.1504535 (1238)\ttotal: 1m 16s\tremaining: 3.76s\n",
      "1302:\tlearn: 19948.8557474\ttest: 22593.5306175\tbest: 22586.1504535 (1238)\ttotal: 1m 16s\tremaining: 3.7s\n",
      "1303:\tlearn: 19940.2759252\ttest: 22596.6820251\tbest: 22586.1504535 (1238)\ttotal: 1m 16s\tremaining: 3.64s\n",
      "1304:\tlearn: 19939.3331355\ttest: 22597.2494301\tbest: 22586.1504535 (1238)\ttotal: 1m 16s\tremaining: 3.58s\n",
      "1305:\tlearn: 19938.7182089\ttest: 22597.0782338\tbest: 22586.1504535 (1238)\ttotal: 1m 16s\tremaining: 3.52s\n",
      "1306:\tlearn: 19938.4534330\ttest: 22597.4913915\tbest: 22586.1504535 (1238)\ttotal: 1m 16s\tremaining: 3.46s\n",
      "1307:\tlearn: 19938.3671889\ttest: 22597.4054521\tbest: 22586.1504535 (1238)\ttotal: 1m 16s\tremaining: 3.4s\n",
      "1308:\tlearn: 19933.6110647\ttest: 22596.3373779\tbest: 22586.1504535 (1238)\ttotal: 1m 16s\tremaining: 3.35s\n",
      "1309:\tlearn: 19933.1788398\ttest: 22596.7553973\tbest: 22586.1504535 (1238)\ttotal: 1m 16s\tremaining: 3.29s\n",
      "1310:\tlearn: 19932.3588320\ttest: 22596.3404951\tbest: 22586.1504535 (1238)\ttotal: 1m 16s\tremaining: 3.23s\n",
      "1311:\tlearn: 19931.1684018\ttest: 22596.5355187\tbest: 22586.1504535 (1238)\ttotal: 1m 16s\tremaining: 3.17s\n",
      "1312:\tlearn: 19930.6349364\ttest: 22596.0223784\tbest: 22586.1504535 (1238)\ttotal: 1m 16s\tremaining: 3.11s\n",
      "1313:\tlearn: 19926.7633689\ttest: 22596.4696777\tbest: 22586.1504535 (1238)\ttotal: 1m 17s\tremaining: 3.05s\n",
      "1314:\tlearn: 19919.2941161\ttest: 22598.3026431\tbest: 22586.1504535 (1238)\ttotal: 1m 17s\tremaining: 2.99s\n",
      "1315:\tlearn: 19918.8256011\ttest: 22598.4959116\tbest: 22586.1504535 (1238)\ttotal: 1m 17s\tremaining: 2.93s\n",
      "1316:\tlearn: 19918.2368992\ttest: 22598.5234892\tbest: 22586.1504535 (1238)\ttotal: 1m 17s\tremaining: 2.87s\n",
      "1317:\tlearn: 19916.1209206\ttest: 22598.5178308\tbest: 22586.1504535 (1238)\ttotal: 1m 17s\tremaining: 2.81s\n",
      "1318:\tlearn: 19909.2904284\ttest: 22599.8162103\tbest: 22586.1504535 (1238)\ttotal: 1m 17s\tremaining: 2.76s\n",
      "1319:\tlearn: 19907.5476168\ttest: 22599.9002684\tbest: 22586.1504535 (1238)\ttotal: 1m 17s\tremaining: 2.7s\n",
      "1320:\tlearn: 19907.2086386\ttest: 22599.4169591\tbest: 22586.1504535 (1238)\ttotal: 1m 17s\tremaining: 2.64s\n",
      "1321:\tlearn: 19906.1971525\ttest: 22599.6463342\tbest: 22586.1504535 (1238)\ttotal: 1m 17s\tremaining: 2.58s\n",
      "1322:\tlearn: 19905.9612216\ttest: 22599.6142346\tbest: 22586.1504535 (1238)\ttotal: 1m 17s\tremaining: 2.52s\n",
      "1323:\tlearn: 19905.0959497\ttest: 22600.7260388\tbest: 22586.1504535 (1238)\ttotal: 1m 17s\tremaining: 2.46s\n",
      "1324:\tlearn: 19904.1560457\ttest: 22601.2416572\tbest: 22586.1504535 (1238)\ttotal: 1m 17s\tremaining: 2.4s\n",
      "1325:\tlearn: 19901.9422962\ttest: 22600.2472223\tbest: 22586.1504535 (1238)\ttotal: 1m 17s\tremaining: 2.34s\n",
      "1326:\tlearn: 19901.7005365\ttest: 22600.2194425\tbest: 22586.1504535 (1238)\ttotal: 1m 17s\tremaining: 2.28s\n",
      "1327:\tlearn: 19892.4026331\ttest: 22597.6811984\tbest: 22586.1504535 (1238)\ttotal: 1m 17s\tremaining: 2.23s\n",
      "1328:\tlearn: 19888.7343869\ttest: 22596.3311675\tbest: 22586.1504535 (1238)\ttotal: 1m 17s\tremaining: 2.17s\n",
      "1329:\tlearn: 19885.5374220\ttest: 22597.1018174\tbest: 22586.1504535 (1238)\ttotal: 1m 17s\tremaining: 2.11s\n",
      "1330:\tlearn: 19884.9261378\ttest: 22596.7236102\tbest: 22586.1504535 (1238)\ttotal: 1m 17s\tremaining: 2.05s\n",
      "1331:\tlearn: 19881.8593881\ttest: 22597.0857473\tbest: 22586.1504535 (1238)\ttotal: 1m 18s\tremaining: 1.99s\n",
      "1332:\tlearn: 19881.4264078\ttest: 22597.2789944\tbest: 22586.1504535 (1238)\ttotal: 1m 18s\tremaining: 1.93s\n",
      "1333:\tlearn: 19880.0161111\ttest: 22597.4966483\tbest: 22586.1504535 (1238)\ttotal: 1m 18s\tremaining: 1.87s\n",
      "1334:\tlearn: 19878.6080620\ttest: 22597.8731556\tbest: 22586.1504535 (1238)\ttotal: 1m 18s\tremaining: 1.81s\n",
      "1335:\tlearn: 19878.4171423\ttest: 22598.4334070\tbest: 22586.1504535 (1238)\ttotal: 1m 18s\tremaining: 1.76s\n",
      "1336:\tlearn: 19878.1965757\ttest: 22598.4532362\tbest: 22586.1504535 (1238)\ttotal: 1m 18s\tremaining: 1.7s\n",
      "1337:\tlearn: 19873.0754154\ttest: 22598.5577086\tbest: 22586.1504535 (1238)\ttotal: 1m 18s\tremaining: 1.64s\n",
      "1338:\tlearn: 19872.7415480\ttest: 22598.9898443\tbest: 22586.1504535 (1238)\ttotal: 1m 18s\tremaining: 1.58s\n",
      "Stopped by overfitting detector  (100 iterations wait)\n",
      "\n",
      "bestTest = 22586.15045\n",
      "bestIteration = 1238\n",
      "\n",
      "Shrink model to first 1239 iterations.\n",
      "7. Оценка модели...\n",
      "   MAE: 17218.23\n",
      "   R²: 0.7441\n",
      "   MAPE: 0.2229\n"
     ]
    },
    {
     "data": {
      "image/png": "[encoded data removed]",
      "text/plain": [
       "<Figure size 1500x500 with 3 Axes>"
      ]
     },
     "metadata": {},
     "output_type": "display_data"
    },
    {
     "name": "stdout",
     "output_type": "stream",
     "text": [
      "9. Анализ важности признаков...\n"
     ]
    },
    {
     "data": {
      "image/png": "[encoded data removed]",
      "text/plain": [
       "<Figure size 1200x800 with 1 Axes>"
      ]
     },
     "metadata": {},
     "output_type": "display_data"
    },
    {
     "name": "stdout",
     "output_type": "stream",
     "text": [
      "   Топ-10 важных признаков:\n",
      "    5. level_ord           : 58.2094\n",
      "    6. skills_str          : 13.1000\n",
      "    2. experience_ord      : 12.6733\n",
      "    7. region              : 8.5940\n",
      "    1. position            : 5.7553\n",
      "    3. schedule            : 1.2767\n",
      "    4. employment          : 0.3913\n",
      "   Важность признаков сохранена в feature_importance.csv\n",
      "8. Сохранение модели и артефактов...\n",
      "   Модель и артефакты сохранены!\n",
      "==================================================\n",
      "✅ Финальный пайплайн завершен!\n",
      "📊 Итоговые метрики:\n",
      "   MAE: 17218.23\n",
      "   R²: 0.7441\n",
      "   MAPE: 0.2229\n",
      "   Размер обучающей выборки: 8653\n",
      "   Количество признаков: 7\n"
     ]
    }
   ],
   "source": [
    "import pandas as pd\n",
    "import numpy as np\n",
    "from catboost import CatBoostRegressor, Pool\n",
    "from sklearn.metrics import mean_absolute_error, r2_score, mean_absolute_percentage_error\n",
    "from sklearn.model_selection import StratifiedShuffleSplit\n",
    "import matplotlib.pyplot as plt\n",
    "import seaborn as sns\n",
    "import joblib\n",
    "from tqdm import tqdm\n",
    "import warnings\n",
    "warnings.filterwarnings('ignore')\n",
    "\n",
    "# Параметры\n",
    "top_skills = 30\n",
    "top_vacancies = 5000\n",
    "\n",
    "# Лучшие параметры из Optuna\n",
    "best_params = {\n",
    "    'iterations': 1404,\n",
    "    'learning_rate': 0.14647974385325152,\n",
    "    'depth': 9,\n",
    "    'l2_leaf_reg': 1.7865444706705154,\n",
    "    'random_strength': 0.8393042307586931,\n",
    "    'bagging_temperature': 0.9454845290374145,\n",
    "    'border_count': 104,\n",
    "    'min_data_in_leaf': 10,\n",
    "    'grow_policy': 'Lossguide',\n",
    "    'task_type': 'GPU',\n",
    "    'verbose': 100\n",
    "}\n",
    "\n",
    "best_params_no_vac = {'iterations': 1366, 'learning_rate': 0.029480499584883798, 'depth': 8, 'l2_leaf_reg': 9.306348992747079, \n",
    " 'random_strength': 9.269354649954655, 'bagging_temperature': 0.24923876946619955, \n",
    " 'border_count': 139, 'min_data_in_leaf': 42, 'grow_policy': 'Lossguide'}\n",
    "\n",
    "# Список позиций, которые оставляем\n",
    "allowed_positions = [\n",
    "    \"Аналитик\",\n",
    "    \"Бизнес-аналитик\",\n",
    "    \"Дизайнер, художник\",\n",
    "    \"Продуктовый аналитик\",\n",
    "    \"Руководитель проектов\",\n",
    "    \"Сетевой инженер\",\n",
    "    \"Системный администратор\",\n",
    "    \"Специалист по информационной безопасности\",\n",
    "    \"Специалист технической поддержки\",\n",
    "    \"Технический писатель\"\n",
    "    #\"Тестировщик\",\n",
    "    #\"Программист, разработчик\"\n",
    "]\n",
    "\n",
    "def prepare_final_data(df):\n",
    "    \"\"\"Подготовка финального датасета\"\"\"\n",
    "    print(\"1. Фильтрация по топ-N скилов...\")\n",
    "    df_skills_filtered = filtered_skills_top_n(df.copy(), top_skills)\n",
    "    df_skills_filtered = df_skills_filtered[df_skills_filtered['mapped_skills'].apply(lambda x: len(x) > 0)]\n",
    "    \n",
    "    print(\"2. Фильтрация по топ-N вакансий...\")\n",
    "    def filter_top_vacancies(group, n=top_vacancies):\n",
    "        vac_counts = group['vacancy_clustered'].value_counts()\n",
    "        top_vacancies = vac_counts.head(n).index.tolist()\n",
    "        return group[group['vacancy_clustered'].isin(top_vacancies)]\n",
    "    \n",
    "    df_filtered = df_skills_filtered.groupby('position', group_keys=False).apply(filter_top_vacancies).reset_index(drop=True)\n",
    "    df_filtered = df_filtered[df_filtered['position'].isin(allowed_positions)]\n",
    "    \n",
    "    print(\"3. Обработка целевой переменной...\")\n",
    "    df_temp = df_filtered.copy()\n",
    "    \n",
    "    # Очистка целевой переменной от выбросов\n",
    "    positions_temp = df_temp['position'].dropna().unique()\n",
    "    for pos in positions_temp:\n",
    "        pos_mask = df_temp['position'] == pos\n",
    "        clean_series = process_series(df_temp.loc[pos_mask, 'salary from'], 'salary from', pos)\n",
    "        if clean_series is not None:\n",
    "            df_temp.loc[clean_series.index, 'salary from norm'] = clean_series\n",
    "    \n",
    "    # Удалим строки с NaN после очистки\n",
    "    df_temp = df_temp.dropna(subset=['salary from norm'])\n",
    "    \n",
    "    print(f\"4. Финальный размер датасета: {df_temp.shape}\")\n",
    "    print(f\"   Распределение по позициям:\\n{df_temp['position'].value_counts()}\")\n",
    "    \n",
    "    return df_temp\n",
    "\n",
    "def create_features(df):\n",
    "    \"\"\"Создание финальных признаков\"\"\"\n",
    "    # Порядковое кодирование\n",
    "    experience_order = {\n",
    "        'Нет опыта': 0,\n",
    "        '1–3 года': 1,\n",
    "        '3–6 лет': 2,\n",
    "        'Более 6 лет': 3,\n",
    "        'Unknown': -1\n",
    "    }\n",
    "\n",
    "    level_order = {\n",
    "        'Trainee': 0,\n",
    "        'Junior': 1,\n",
    "        'Middle': 2,\n",
    "        'Senior': 3,\n",
    "        'Lead': 4,\n",
    "        'Chief': 5,\n",
    "        'Unknown': -1\n",
    "    }\n",
    "    \n",
    "    df['experience_ord'] = df['experience'].map(experience_order).fillna(-1).astype(int)\n",
    "    df['level_ord'] = df['level'].map(level_order).fillna(-1).astype(int)\n",
    "    \n",
    "    # Преобразование skills в строки\n",
    "    df['skills_str'] = df['mapped_skills'].apply(\n",
    "        lambda x: ', '.join(map(str, x)) if isinstance(x, list) else str(x)\n",
    "    )\n",
    "    \n",
    "    # Заполнение пропусков\n",
    "    for col in ['schedule', 'employment', 'region']:\n",
    "        df[col] = df[col].fillna('Unknown')\n",
    "    \n",
    "    features = ['position', 'experience_ord', 'schedule', 'employment', 'level_ord', 'skills_str', 'region'] # , 'vacancy_clustered'\n",
    "    X = df[features]\n",
    "    y = df['salary from norm']\n",
    "    \n",
    "    cat_features = ['position', 'experience_ord', 'schedule', 'employment', 'level_ord', 'region'] # , 'vacancy_clustered'\n",
    "    text_features = ['skills_str']\n",
    "    \n",
    "    return X, y, cat_features, text_features\n",
    "\n",
    "def train_final_model(X, y, cat_features, text_features):\n",
    "    \"\"\"Обучение финальной модели\"\"\"\n",
    "    print(\"5. Разделение на train/test...\")\n",
    "    \n",
    "    # Стратифицированное разделение\n",
    "    splitter = StratifiedShuffleSplit(n_splits=1, test_size=0.2, random_state=42)\n",
    "    for train_idx, test_idx in splitter.split(X, X['position']):\n",
    "        X_train, X_test = X.iloc[train_idx], X.iloc[test_idx]\n",
    "        y_train, y_test = y.iloc[train_idx], y.iloc[test_idx]\n",
    "    \n",
    "    print(f\"   Train size: {X_train.shape[0]}\")\n",
    "    print(f\"   Test size: {X_test.shape[0]}\")\n",
    "    \n",
    "    # Создание Pool объектов\n",
    "    train_pool = Pool(\n",
    "        data=X_train,\n",
    "        label=y_train,\n",
    "        cat_features=cat_features,\n",
    "        text_features=text_features\n",
    "    )\n",
    "    \n",
    "    test_pool = Pool(\n",
    "        data=X_test,\n",
    "        label=y_test,\n",
    "        cat_features=cat_features,\n",
    "        text_features=text_features\n",
    "    )\n",
    "    \n",
    "    print(\"6. Обучение финальной модели...\")\n",
    "    model = CatBoostRegressor(**best_params_no_vac) # best_params\n",
    "    \n",
    "    model.fit(\n",
    "        train_pool,\n",
    "        eval_set=test_pool,\n",
    "        early_stopping_rounds=100,\n",
    "        use_best_model=True\n",
    "    )\n",
    "    \n",
    "    return model, X_test, y_test\n",
    "\n",
    "def evaluate_model(model, X_test, y_test):\n",
    "    \"\"\"Оценка модели\"\"\"\n",
    "    print(\"7. Оценка модели...\")\n",
    "    \n",
    "    y_pred = model.predict(X_test)\n",
    "    \n",
    "    # Метрики\n",
    "    mae = mean_absolute_error(y_test, y_pred)\n",
    "    r2 = r2_score(y_test, y_pred)\n",
    "    mape = mean_absolute_percentage_error(y_test, y_pred)\n",
    "    \n",
    "    print(f\"   MAE: {mae:.2f}\")\n",
    "    print(f\"   R²: {r2:.4f}\")\n",
    "    print(f\"   MAPE: {mape:.4f}\")\n",
    "    \n",
    "    # Визуализация предсказаний\n",
    "    plt.figure(figsize=(15, 5))\n",
    "    \n",
    "    plt.subplot(1, 3, 1)\n",
    "    plt.scatter(y_test, y_pred, alpha=0.5)\n",
    "    plt.plot([y_test.min(), y_test.max()], [y_test.min(), y_test.max()], 'r--')\n",
    "    plt.xlabel('True Values')\n",
    "    plt.ylabel('Predictions')\n",
    "    plt.title('True vs Predicted')\n",
    "    \n",
    "    plt.subplot(1, 3, 2)\n",
    "    errors = y_pred - y_test\n",
    "    plt.hist(errors, bins=50, alpha=0.7)\n",
    "    plt.xlabel('Prediction Error')\n",
    "    plt.ylabel('Count')\n",
    "    plt.title('Error Distribution')\n",
    "    \n",
    "    plt.subplot(1, 3, 3)\n",
    "    residuals = y_test - y_pred\n",
    "    plt.scatter(y_pred, residuals, alpha=0.5)\n",
    "    plt.axhline(y=0, color='r', linestyle='--')\n",
    "    plt.xlabel('Predicted Values')\n",
    "    plt.ylabel('Residuals')\n",
    "    plt.title('Residual Plot')\n",
    "    \n",
    "    plt.tight_layout()\n",
    "    plt.savefig('model_evaluation.png', dpi=300, bbox_inches='tight')\n",
    "    plt.show()\n",
    "    \n",
    "    return mae, r2, mape\n",
    "\n",
    "def save_model_and_artifacts(model, X, cat_features, text_features):\n",
    "    \"\"\"Сохранение модели и артефактов\"\"\"\n",
    "    print(\"8. Сохранение модели и артефактов...\")\n",
    "    \n",
    "    # Сохранение модели\n",
    "    model.save_model('final_catboost_model.cbm')\n",
    "    \n",
    "    # Сохранение информации о признаках\n",
    "    feature_info = {\n",
    "        'cat_features': cat_features,\n",
    "        'text_features': text_features,\n",
    "        'all_features': X.columns.tolist()\n",
    "    }\n",
    "    joblib.dump(feature_info, 'feature_info.pkl')\n",
    "    \n",
    "    # Сохранение лучших параметров\n",
    "    pd.DataFrame([best_params]).to_csv('best_params.csv', index=False)\n",
    "    \n",
    "    print(\"   Модель и артефакты сохранены!\")\n",
    "\n",
    "def analyze_feature_importance(model, X):\n",
    "    \"\"\"Анализ важности признаков\"\"\"\n",
    "    print(\"9. Анализ важности признаков...\")\n",
    "    \n",
    "    try:\n",
    "        # Получаем важность признаков\n",
    "        feature_importance = model.get_feature_importance()\n",
    "        feature_names = X.columns.tolist()\n",
    "        \n",
    "        # Проверяем, что размерности совпадают\n",
    "        if len(feature_importance) != len(feature_names):\n",
    "            print(f\"   Размерности не совпадают: features={len(feature_names)}, importance={len(feature_importance)}\")\n",
    "            # Берем минимум из двух\n",
    "            min_len = min(len(feature_names), len(feature_importance))\n",
    "            feature_names = feature_names[:min_len]\n",
    "            feature_importance = feature_importance[:min_len]\n",
    "        \n",
    "        # Создаем DataFrame с важностью признаков\n",
    "        importance_df = pd.DataFrame({\n",
    "            'feature': feature_names,\n",
    "            'importance': feature_importance\n",
    "        }).sort_values('importance', ascending=False)\n",
    "        \n",
    "        # Фильтруем признаки с положительной важностью\n",
    "        importance_df = importance_df[importance_df['importance'] > 0]\n",
    "        \n",
    "        if len(importance_df) == 0:\n",
    "            print(\"   Все признаки имеют нулевую важность\")\n",
    "            return importance_df\n",
    "        \n",
    "        # Визуализация\n",
    "        try:\n",
    "            plt.figure(figsize=(12, 8))\n",
    "            top_features = importance_df.head(15)\n",
    "            \n",
    "            # Простая визуализация без seaborn\n",
    "            colors = plt.cm.viridis(np.linspace(0, 1, len(top_features)))\n",
    "            bars = plt.barh(range(len(top_features)), top_features['importance'], color=colors)\n",
    "            \n",
    "            plt.yticks(range(len(top_features)), top_features['feature'])\n",
    "            plt.xlabel('Важность признака')\n",
    "            plt.title('Top 15 Feature Importance')\n",
    "            plt.gca().invert_yaxis()\n",
    "            plt.tight_layout()\n",
    "            plt.savefig('feature_importance.png', dpi=300, bbox_inches='tight')\n",
    "            plt.show()\n",
    "            \n",
    "        except Exception as viz_error:\n",
    "            print(f\"   Ошибка визуализации: {viz_error}\")\n",
    "            print(\"   Продолжаем без визуализации...\")\n",
    "        \n",
    "        print(\"   Топ-10 важных признаков:\")\n",
    "        for i, row in importance_df.head(10).iterrows():\n",
    "            print(f\"   {i+1:2d}. {row['feature']:20s}: {row['importance']:.4f}\")\n",
    "        \n",
    "        # Сохраняем в CSV\n",
    "        importance_df.to_csv('feature_importance.csv', index=False)\n",
    "        print(\"   Важность признаков сохранена в feature_importance.csv\")\n",
    "        \n",
    "        return importance_df\n",
    "        \n",
    "    except Exception as e:\n",
    "        print(f\"   Ошибка при анализе важности признаков: {e}\")\n",
    "        import traceback\n",
    "        traceback.print_exc()\n",
    "        return pd.DataFrame()\n",
    "\n",
    "# Основной пайплайн\n",
    "print(\"🚀 Запуск финального пайплайна обучения...\")\n",
    "print(\"=\" * 50)\n",
    "\n",
    "# 1. Подготовка данных\n",
    "df_final = prepare_final_data(df_train_result.copy())\n",
    "\n",
    "# 2. Создание признаков\n",
    "X, y, cat_features, text_features = create_features(df_final)\n",
    "\n",
    "# 3. Обучение модели\n",
    "model, X_test, y_test = train_final_model(X, y, cat_features, text_features)\n",
    "\n",
    "# 4. Оценка модели\n",
    "mae, r2, mape = evaluate_model(model, X_test, y_test)\n",
    "\n",
    "# 5. Анализ важности признаков\n",
    "importance_df = analyze_feature_importance(model, X)\n",
    "\n",
    "# 6. Сохранение результатов\n",
    "save_model_and_artifacts(model, X, cat_features, text_features)\n",
    "\n",
    "print(\"=\" * 50)\n",
    "print(\"✅ Финальный пайплайн завершен!\")\n",
    "print(f\"📊 Итоговые метрики:\")\n",
    "print(f\"   MAE: {mae:.2f}\")\n",
    "print(f\"   R²: {r2:.4f}\")\n",
    "print(f\"   MAPE: {mape:.4f}\")\n",
    "print(f\"   Размер обучающей выборки: {X.shape[0]}\")\n",
    "print(f\"   Количество признаков: {X.shape[1]}\")"
   ]
  },
  {
   "cell_type": "markdown",
   "id": "3d969010",
   "metadata": {},
   "source": [
    "Без Vacancy\n",
    "\n",
    "📊 Итоговые метрики:\n",
    "\n",
    "\n",
    "   MAE: 16901.79\n",
    "\n",
    "\n",
    "   R²: 0.7534\n",
    "\n",
    "\n",
    "   MAPE: 0.2205\n",
    "\n",
    "\n",
    "   Размер обучающей выборки: 8653\n",
    "   Количество признаков: 7"
   ]
  },
  {
   "cell_type": "markdown",
   "id": "ea112305",
   "metadata": {},
   "source": [
    "30 vacancy\n",
    "\n",
    "✅ Финальный пайплайн завершен!\n",
    "\n",
    "📊 Итоговые метрики:\n",
    "   MAE: 15539.31\n",
    "\n",
    "   R²: 0.7704\n",
    "\n",
    "   MAPE: 0.2044\n",
    "\n",
    "   Размер обучающей выборки: 4131\n",
    "   Количество признаков: 8"
   ]
  },
  {
   "cell_type": "code",
   "execution_count": null,
   "id": "62723963",
   "metadata": {},
   "outputs": [],
   "source": [
    "import pandas as pd\n",
    "import numpy as np\n",
    "from catboost import CatBoostRegressor, Pool\n",
    "from sklearn.metrics import mean_absolute_error, r2_score, mean_absolute_percentage_error\n",
    "from sklearn.model_selection import StratifiedShuffleSplit\n",
    "import matplotlib.pyplot as plt\n",
    "import seaborn as sns\n",
    "import joblib\n",
    "from tqdm import tqdm\n",
    "import warnings\n",
    "warnings.filterwarnings('ignore')\n",
    "\n",
    "# Параметры\n",
    "top_skills = 30\n",
    "top_vacancies = 5000\n",
    "\n",
    "# Лучшие параметры из Optuna\n",
    "best_params = {\n",
    "    'iterations': 1404,\n",
    "    'learning_rate': 0.14647974385325152,\n",
    "    'depth': 9,\n",
    "    'l2_leaf_reg': 1.7865444706705154,\n",
    "    'random_strength': 0.8393042307586931,\n",
    "    'bagging_temperature': 0.9454845290374145,\n",
    "    'border_count': 104,\n",
    "    'min_data_in_leaf': 10,\n",
    "    'grow_policy': 'Lossguide',\n",
    "    'task_type': 'GPU',\n",
    "    'verbose': 100\n",
    "}\n",
    "\n",
    "best_params_no_vac = {'iterations': 1366, 'learning_rate': 0.029480499584883798, 'depth': 8, 'l2_leaf_reg': 9.306348992747079, \n",
    " 'random_strength': 9.269354649954655, 'bagging_temperature': 0.24923876946619955, \n",
    " 'border_count': 139, 'min_data_in_leaf': 42, 'grow_policy': 'Lossguide'}\n",
    "\n",
    "# Список позиций, которые оставляем\n",
    "allowed_positions = [\n",
    "    \"Аналитик\",\n",
    "    \"Бизнес-аналитик\",\n",
    "    \"Дизайнер, художник\",\n",
    "    \"Продуктовый аналитик\",\n",
    "    \"Руководитель проектов\",\n",
    "    \"Сетевой инженер\",\n",
    "    \"Системный администратор\",\n",
    "    \"Специалист по информационной безопасности\",\n",
    "    \"Специалист технической поддержки\",\n",
    "    \"Технический писатель\"\n",
    "    #\"Тестировщик\",\n",
    "    #\"Программист, разработчик\"\n",
    "]\n",
    "\n",
    "def prepare_final_data(df):\n",
    "    \"\"\"Подготовка финального датасета\"\"\"\n",
    "    print(\"1. Фильтрация по топ-N скилов...\")\n",
    "    df_skills_filtered = filtered_skills_top_n(df.copy(), top_skills)\n",
    "    df_skills_filtered = df_skills_filtered[df_skills_filtered['mapped_skills'].apply(lambda x: len(x) > 0)]\n",
    "    \n",
    "    print(\"2. Фильтрация по топ-N вакансий...\")\n",
    "    def filter_top_vacancies(group, n=top_vacancies):\n",
    "        vac_counts = group['vacancy_clustered'].value_counts()\n",
    "        top_vacancies = vac_counts.head(n).index.tolist()\n",
    "        return group[group['vacancy_clustered'].isin(top_vacancies)]\n",
    "    \n",
    "    df_filtered = df_skills_filtered.groupby('position', group_keys=False).apply(filter_top_vacancies).reset_index(drop=True)\n",
    "    df_filtered = df_filtered[df_filtered['position'].isin(allowed_positions)]\n",
    "    \n",
    "    print(\"3. Обработка целевой переменной...\")\n",
    "    df_temp = df_filtered.copy()\n",
    "    \n",
    "    # Очистка целевой переменной от выбросов\n",
    "    positions_temp = df_temp['position'].dropna().unique()\n",
    "    for pos in positions_temp:\n",
    "        pos_mask = df_temp['position'] == pos\n",
    "        clean_series = process_series(df_temp.loc[pos_mask, 'salary to'], 'salary to', pos)\n",
    "        if clean_series is not None:\n",
    "            df_temp.loc[clean_series.index, 'salary to norm'] = clean_series\n",
    "    \n",
    "    # Удалим строки с NaN после очистки\n",
    "    df_temp = df_temp.dropna(subset=['salary to norm'])\n",
    "    \n",
    "    print(f\"4. Финальный размер датасета: {df_temp.shape}\")\n",
    "    print(f\"   Распределение по позициям:\\n{df_temp['position'].value_counts()}\")\n",
    "    \n",
    "    return df_temp\n",
    "\n",
    "def create_features(df):\n",
    "    \"\"\"Создание финальных признаков\"\"\"\n",
    "    # Порядковое кодирование\n",
    "    experience_order = {\n",
    "        'Нет опыта': 0,\n",
    "        '1–3 года': 1,\n",
    "        '3–6 лет': 2,\n",
    "        'Более 6 лет': 3,\n",
    "        'Unknown': -1\n",
    "    }\n",
    "\n",
    "    level_order = {\n",
    "        'Trainee': 0,\n",
    "        'Junior': 1,\n",
    "        'Middle': 2,\n",
    "        'Senior': 3,\n",
    "        'Lead': 4,\n",
    "        'Chief': 5,\n",
    "        'Unknown': -1\n",
    "    }\n",
    "    \n",
    "    df['experience_ord'] = df['experience'].map(experience_order).fillna(-1).astype(int)\n",
    "    df['level_ord'] = df['level'].map(level_order).fillna(-1).astype(int)\n",
    "    \n",
    "    # Преобразование skills в строки\n",
    "    df['skills_str'] = df['mapped_skills'].apply(\n",
    "        lambda x: ', '.join(map(str, x)) if isinstance(x, list) else str(x)\n",
    "    )\n",
    "    \n",
    "    # Заполнение пропусков\n",
    "    for col in ['schedule', 'employment', 'region']:\n",
    "        df[col] = df[col].fillna('Unknown')\n",
    "    \n",
    "    features = ['position', 'experience_ord', 'schedule', 'employment', 'level_ord', 'skills_str', 'region'] # , 'vacancy_clustered'\n",
    "    X = df[features]\n",
    "    y = df['salary to norm']\n",
    "    \n",
    "    cat_features = ['position', 'experience_ord', 'schedule', 'employment', 'level_ord', 'region'] # , 'vacancy_clustered'\n",
    "    text_features = ['skills_str']\n",
    "    \n",
    "    return X, y, cat_features, text_features\n",
    "\n",
    "def train_final_model(X, y, cat_features, text_features):\n",
    "    \"\"\"Обучение финальной модели\"\"\"\n",
    "    print(\"5. Разделение на train/test...\")\n",
    "    \n",
    "    # Стратифицированное разделение\n",
    "    splitter = StratifiedShuffleSplit(n_splits=1, test_size=0.2, random_state=42)\n",
    "    for train_idx, test_idx in splitter.split(X, X['position']):\n",
    "        X_train, X_test = X.iloc[train_idx], X.iloc[test_idx]\n",
    "        y_train, y_test = y.iloc[train_idx], y.iloc[test_idx]\n",
    "    \n",
    "    print(f\"   Train size: {X_train.shape[0]}\")\n",
    "    print(f\"   Test size: {X_test.shape[0]}\")\n",
    "    \n",
    "    # Создание Pool объектов\n",
    "    train_pool = Pool(\n",
    "        data=X_train,\n",
    "        label=y_train,\n",
    "        cat_features=cat_features,\n",
    "        text_features=text_features\n",
    "    )\n",
    "    \n",
    "    test_pool = Pool(\n",
    "        data=X_test,\n",
    "        label=y_test,\n",
    "        cat_features=cat_features,\n",
    "        text_features=text_features\n",
    "    )\n",
    "    \n",
    "    print(\"6. Обучение финальной модели...\")\n",
    "    model = CatBoostRegressor(**best_params_no_vac) # best_params\n",
    "    \n",
    "    model.fit(\n",
    "        train_pool,\n",
    "        eval_set=test_pool,\n",
    "        early_stopping_rounds=100,\n",
    "        use_best_model=True\n",
    "    )\n",
    "    \n",
    "    return model, X_test, y_test\n",
    "\n",
    "def evaluate_model(model, X_test, y_test):\n",
    "    \"\"\"Оценка модели\"\"\"\n",
    "    print(\"7. Оценка модели...\")\n",
    "    \n",
    "    y_pred = model.predict(X_test)\n",
    "    \n",
    "    # Метрики\n",
    "    mae = mean_absolute_error(y_test, y_pred)\n",
    "    r2 = r2_score(y_test, y_pred)\n",
    "    mape = mean_absolute_percentage_error(y_test, y_pred)\n",
    "    \n",
    "    print(f\"   MAE: {mae:.2f}\")\n",
    "    print(f\"   R²: {r2:.4f}\")\n",
    "    print(f\"   MAPE: {mape:.4f}\")\n",
    "    \n",
    "    # Визуализация предсказаний\n",
    "    plt.figure(figsize=(15, 5))\n",
    "    \n",
    "    plt.subplot(1, 3, 1)\n",
    "    plt.scatter(y_test, y_pred, alpha=0.5)\n",
    "    plt.plot([y_test.min(), y_test.max()], [y_test.min(), y_test.max()], 'r--')\n",
    "    plt.xlabel('True Values')\n",
    "    plt.ylabel('Predictions')\n",
    "    plt.title('True vs Predicted')\n",
    "    \n",
    "    plt.subplot(1, 3, 2)\n",
    "    errors = y_pred - y_test\n",
    "    plt.hist(errors, bins=50, alpha=0.7)\n",
    "    plt.xlabel('Prediction Error')\n",
    "    plt.ylabel('Count')\n",
    "    plt.title('Error Distribution')\n",
    "    \n",
    "    plt.subplot(1, 3, 3)\n",
    "    residuals = y_test - y_pred\n",
    "    plt.scatter(y_pred, residuals, alpha=0.5)\n",
    "    plt.axhline(y=0, color='r', linestyle='--')\n",
    "    plt.xlabel('Predicted Values')\n",
    "    plt.ylabel('Residuals')\n",
    "    plt.title('Residual Plot')\n",
    "    \n",
    "    plt.tight_layout()\n",
    "    plt.savefig('model_evaluation.png', dpi=300, bbox_inches='tight')\n",
    "    plt.show()\n",
    "    \n",
    "    return mae, r2, mape\n",
    "\n",
    "def save_model_and_artifacts(model, X, cat_features, text_features):\n",
    "    \"\"\"Сохранение модели и артефактов\"\"\"\n",
    "    print(\"8. Сохранение модели и артефактов...\")\n",
    "    \n",
    "    # Сохранение модели\n",
    "    model.save_model('final_catboost_model.cbm')\n",
    "    \n",
    "    # Сохранение информации о признаках\n",
    "    feature_info = {\n",
    "        'cat_features': cat_features,\n",
    "        'text_features': text_features,\n",
    "        'all_features': X.columns.tolist()\n",
    "    }\n",
    "    joblib.dump(feature_info, 'feature_info.pkl')\n",
    "    \n",
    "    # Сохранение лучших параметров\n",
    "    pd.DataFrame([best_params]).to_csv('best_params.csv', index=False)\n",
    "    \n",
    "    print(\"   Модель и артефакты сохранены!\")\n",
    "\n",
    "def analyze_feature_importance(model, X):\n",
    "    \"\"\"Анализ важности признаков\"\"\"\n",
    "    print(\"9. Анализ важности признаков...\")\n",
    "    \n",
    "    try:\n",
    "        # Получаем важность признаков\n",
    "        feature_importance = model.get_feature_importance()\n",
    "        feature_names = X.columns.tolist()\n",
    "        \n",
    "        # Проверяем, что размерности совпадают\n",
    "        if len(feature_importance) != len(feature_names):\n",
    "            print(f\"   Размерности не совпадают: features={len(feature_names)}, importance={len(feature_importance)}\")\n",
    "            # Берем минимум из двух\n",
    "            min_len = min(len(feature_names), len(feature_importance))\n",
    "            feature_names = feature_names[:min_len]\n",
    "            feature_importance = feature_importance[:min_len]\n",
    "        \n",
    "        # Создаем DataFrame с важностью признаков\n",
    "        importance_df = pd.DataFrame({\n",
    "            'feature': feature_names,\n",
    "            'importance': feature_importance\n",
    "        }).sort_values('importance', ascending=False)\n",
    "        \n",
    "        # Фильтруем признаки с положительной важностью\n",
    "        importance_df = importance_df[importance_df['importance'] > 0]\n",
    "        \n",
    "        if len(importance_df) == 0:\n",
    "            print(\"   Все признаки имеют нулевую важность\")\n",
    "            return importance_df\n",
    "        \n",
    "        # Визуализация\n",
    "        try:\n",
    "            plt.figure(figsize=(12, 8))\n",
    "            top_features = importance_df.head(15)\n",
    "            \n",
    "            # Простая визуализация без seaborn\n",
    "            colors = plt.cm.viridis(np.linspace(0, 1, len(top_features)))\n",
    "            bars = plt.barh(range(len(top_features)), top_features['importance'], color=colors)\n",
    "            \n",
    "            plt.yticks(range(len(top_features)), top_features['feature'])\n",
    "            plt.xlabel('Важность признака')\n",
    "            plt.title('Top 15 Feature Importance')\n",
    "            plt.gca().invert_yaxis()\n",
    "            plt.tight_layout()\n",
    "            plt.savefig('feature_importance.png', dpi=300, bbox_inches='tight')\n",
    "            plt.show()\n",
    "            \n",
    "        except Exception as viz_error:\n",
    "            print(f\"   Ошибка визуализации: {viz_error}\")\n",
    "            print(\"   Продолжаем без визуализации...\")\n",
    "        \n",
    "        print(\"   Топ-10 важных признаков:\")\n",
    "        for i, row in importance_df.head(10).iterrows():\n",
    "            print(f\"   {i+1:2d}. {row['feature']:20s}: {row['importance']:.4f}\")\n",
    "        \n",
    "        # Сохраняем в CSV\n",
    "        importance_df.to_csv('feature_importance.csv', index=False)\n",
    "        print(\"   Важность признаков сохранена в feature_importance.csv\")\n",
    "        \n",
    "        return importance_df\n",
    "        \n",
    "    except Exception as e:\n",
    "        print(f\"   Ошибка при анализе важности признаков: {e}\")\n",
    "        import traceback\n",
    "        traceback.print_exc()\n",
    "        return pd.DataFrame()\n",
    "\n",
    "# Основной пайплайн\n",
    "print(\"🚀 Запуск финального пайплайна обучения...\")\n",
    "print(\"=\" * 50)\n",
    "\n",
    "# 1. Подготовка данных\n",
    "df_final = prepare_final_data(df_train_result.copy())\n",
    "\n",
    "# 2. Создание признаков\n",
    "X, y, cat_features, text_features = create_features(df_final)\n",
    "\n",
    "# 3. Обучение модели\n",
    "model, X_test, y_test = train_final_model(X, y, cat_features, text_features)\n",
    "\n",
    "# 4. Оценка модели\n",
    "mae, r2, mape = evaluate_model(model, X_test, y_test)\n",
    "\n",
    "# 5. Анализ важности признаков\n",
    "importance_df = analyze_feature_importance(model, X)\n",
    "\n",
    "# 6. Сохранение результатов\n",
    "save_model_and_artifacts(model, X, cat_features, text_features)\n",
    "\n",
    "print(\"=\" * 50)\n",
    "print(\"✅ Финальный пайплайн завершен!\")\n",
    "print(f\"📊 Итоговые метрики:\")\n",
    "print(f\"   MAE: {mae:.2f}\")\n",
    "print(f\"   R²: {r2:.4f}\")\n",
    "print(f\"   MAPE: {mape:.4f}\")\n",
    "print(f\"   Размер обучающей выборки: {X.shape[0]}\")\n",
    "print(f\"   Количество признаков: {X.shape[1]}\")"
   ]
  },
  {
   "cell_type": "markdown",
   "id": "002a83c0",
   "metadata": {},
   "source": [
    "Топ-10 важных признаков:\n",
    "5. level_ord           : 50.8892\n",
    "6. skills_str          : 18.7869\n",
    "1. position            : 10.1557\n",
    "2. experience_ord      : 9.8037\n",
    "7. region              : 9.1756\n",
    "3. schedule            : 0.9742\n",
    "4. employment          : 0.2147\n",
    "Важность признаков сохранена в feature_importance.csv\n",
    "\n",
    "\n",
    "==================================================\n",
    "\n",
    "\n",
    "✅ Финальный пайплайн завершен!\n",
    "\n",
    "📊 Итоговые метрики:\n",
    "\n",
    "   MAE: 21367.33\n",
    "\n",
    "   R²: 0.6847\n",
    "\n",
    "   MAPE: 0.2525\n",
    "\n",
    "   Размер обучающей выборки: 8582\n",
    "   \n",
    "   Количество признаков: 7"
   ]
  }
 ],
 "metadata": {
  "kernelspec": {
   "display_name": "Python 3",
   "language": "python",
   "name": "python3"
  },
  "language_info": {
   "codemirror_mode": {
    "name": "ipython",
    "version": 3
   },
   "file_extension": ".py",
   "mimetype": "text/x-python",
   "name": "python",
   "nbconvert_exporter": "python",
   "pygments_lexer": "ipython3",
   "version": "3.9.10"
  }
 },
 "nbformat": 4,
 "nbformat_minor": 5
}
