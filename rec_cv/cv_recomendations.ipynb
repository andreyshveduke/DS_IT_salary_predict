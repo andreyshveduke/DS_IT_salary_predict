{
 "cells": [
  {
   "cell_type": "code",
   "execution_count": null,
   "id": "9efd7887",
   "metadata": {},
   "outputs": [],
   "source": [
    "import requests\n",
    "import json\n",
    "import pandas as pd\n",
    "import os\n",
    "\n",
    "API_URL = \"https://api.mistral.ai/v1/chat/completions\"\n",
    "API_KEY = \"\"\n",
    "MODEL_NAME = \"mistral-small-latest\"\n",
    "\n",
    "HEADERS = {\n",
    "    \"Authorization\": f\"Bearer {API_KEY}\",\n",
    "    \"Content-Type\": \"application/json\"\n",
    "}\n",
    "\n",
    "RECOMENDATION_PROMPT = \"\"\"\n",
    "Ты — очень опытный IT-рекрутер. На основе предоставленного текста резюме, дай 5-6 чётких, полезных рекомендаций по улучшению текста резюме, чтобы соискатель выглядел более привлекательным для работодателей в сфере IT.\n",
    "Не проси убрать лишнюю информация если это: водительские права, семейное положение, гражданство. В нашей стране - это стандарт \n",
    "Формат ответа: только JSON. Не добавляй никаких пояснений, комментариев или текста вне JSON.\n",
    "\n",
    "Ответ должен быть строго в виде:\n",
    "\n",
    "{\n",
    "  \"recommendations\": [\n",
    "    \"рекомендация...\"\n",
    "    \"рекомендация...\",\n",
    "    ...\n",
    "  ]\n",
    "}\n",
    "\"\"\"\n",
    "\n",
    "def prepare_prompt_recomendations(cv_text: str) -> list:\n",
    "    return [\n",
    "        {\"role\": \"system\", \"content\": RECOMENDATION_PROMPT},\n",
    "        {\"role\": \"user\", \"content\": f\"Вот текст резюме:\\n{cv_text}\"}\n",
    "    ]\n",
    "\n",
    "def query_mistral(prompt: list):\n",
    "    response = requests.post(\n",
    "        API_URL,\n",
    "        headers=HEADERS,\n",
    "        json={\n",
    "            \"model\": MODEL_NAME,\n",
    "            \"messages\": prompt,\n",
    "            \"temperature\": 0.3,\n",
    "            \"max_tokens\": 1500\n",
    "        },\n",
    "        timeout=120\n",
    "    )\n",
    "    response.raise_for_status()\n",
    "    content = response.json()[\"choices\"][0][\"message\"][\"content\"]\n",
    "    content = content.replace(\"```json\", \"\").replace(\"```\", \"\").strip()\n",
    "\n",
    "    if content.lower() == \"null\":\n",
    "        return None\n",
    "\n",
    "    return json.loads(content)\n",
    "\n",
    "def process_single_resume_recomendations(input_path, output_path, text_column=\"CV_Text\"):\n",
    "    ext = os.path.splitext(input_path)[-1].lower()\n",
    "    if ext == \".csv\":\n",
    "        df = pd.read_csv(input_path)\n",
    "    elif ext in [\".xls\", \".xlsx\"]:\n",
    "        df = pd.read_excel(input_path)\n",
    "    else:\n",
    "        raise ValueError(\"Поддерживаются только CSV и Excel файлы\")\n",
    "\n",
    "    if text_column not in df.columns:\n",
    "        raise ValueError(f\"В файле нет колонки '{text_column}'\")\n",
    "\n",
    "    cv_text = df[text_column].iloc[0]  # берём первую строку\n",
    "    prompt = prepare_prompt_recomendations(cv_text)\n",
    "    result = query_mistral(prompt)\n",
    "\n",
    "    if result is None:\n",
    "        print(\"Модель вернула null\")\n",
    "        result = {\"recommendations\": []}\n",
    "\n",
    "\n",
    "    \n",
    "\n",
    "    with open(output_path, \"w\", encoding=\"utf-8\") as f:\n",
    "        json.dump(result, f, ensure_ascii=False, indent=2)\n",
    "\n",
    "    print(f\"✅ Рекомендации сохранены в: {output_path}\")\n"
   ]
  },
  {
   "cell_type": "code",
   "execution_count": 2,
   "id": "92bde3f7",
   "metadata": {},
   "outputs": [
    {
     "name": "stdout",
     "output_type": "stream",
     "text": [
      "✅ Рекомендации сохранены в: recomendations.json\n"
     ]
    }
   ],
   "source": [
    "process_single_resume_recomendations(\n",
    "    input_path=\"Inference_cv/extracted_cv_text.xlsx\",   # файл с одним резюме\n",
    "    output_path=\"recomendations.json\"   # \n",
    ")"
   ]
  }
 ],
 "metadata": {
  "kernelspec": {
   "display_name": "Python 3",
   "language": "python",
   "name": "python3"
  },
  "language_info": {
   "codemirror_mode": {
    "name": "ipython",
    "version": 3
   },
   "file_extension": ".py",
   "mimetype": "text/x-python",
   "name": "python",
   "nbconvert_exporter": "python",
   "pygments_lexer": "ipython3",
   "version": "3.9.10"
  }
 },
 "nbformat": 4,
 "nbformat_minor": 5
}
